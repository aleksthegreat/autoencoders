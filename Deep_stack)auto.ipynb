{
 "cells": [
  {
   "cell_type": "code",
   "execution_count": 1,
   "metadata": {
    "scrolled": true
   },
   "outputs": [
    {
     "name": "stderr",
     "output_type": "stream",
     "text": [
      "Using TensorFlow backend.\n"
     ]
    },
    {
     "name": "stdout",
     "output_type": "stream",
     "text": [
      "WARNING:tensorflow:From /home/wopr/.local/lib/python3.6/site-packages/tensorflow/python/ops/distributions/distribution.py:265: ReparameterizationType.__init__ (from tensorflow.python.ops.distributions.distribution) is deprecated and will be removed after 2019-01-01.\n",
      "Instructions for updating:\n",
      "The TensorFlow Distributions library has moved to TensorFlow Probability (https://github.com/tensorflow/probability). You should update all references to use `tfp.distributions` instead of `tf.distributions`.\n",
      "WARNING:tensorflow:From /home/wopr/.local/lib/python3.6/site-packages/tensorflow/python/ops/distributions/bernoulli.py:169: RegisterKL.__init__ (from tensorflow.python.ops.distributions.kullback_leibler) is deprecated and will be removed after 2019-01-01.\n",
      "Instructions for updating:\n",
      "The TensorFlow Distributions library has moved to TensorFlow Probability (https://github.com/tensorflow/probability). You should update all references to use `tfp.distributions` instead of `tf.distributions`.\n"
     ]
    }
   ],
   "source": [
    "from __future__ import print_function\n",
    "import os\n",
    "import numpy as np\n",
    "import pandas as pd\n",
    "import matplotlib.pyplot as plt\n",
    "import matplotlib.gridspec as gridspec\n",
    "\n",
    "import seaborn as sns\n",
    "import gc\n",
    "\n",
    "import lightgbm as lgb\n",
    "from sklearn.model_selection import StratifiedKFold, RandomizedSearchCV, train_test_split\n",
    "from sklearn.metrics import mean_squared_error, roc_auc_score\n",
    "from scipy.stats import norm, rankdata\n",
    "\n",
    "import keras\n",
    "from keras import regularizers\n",
    "from keras.layers import Input,Dropout,BatchNormalization,Activation,Add,PReLU, LSTM\n",
    "from sklearn.preprocessing import MinMaxScaler, StandardScaler\n",
    "from keras.models import Sequential, Model\n",
    "from keras.layers import Dense, Dropout, Activation, Reshape, Flatten, Conv2D, MaxPooling2D\n",
    "from keras.optimizers import SGD\n",
    "from keras import backend as K\n",
    "from keras.callbacks import EarlyStopping, ModelCheckpoint, TensorBoard\n",
    "import tensorflow as tf\n",
    "import horovod.keras as hvd"
   ]
  },
  {
   "cell_type": "code",
   "execution_count": 2,
   "metadata": {},
   "outputs": [],
   "source": [
    "# reduce memory\n",
    "def reduce_mem_usage(df, verbose=True):\n",
    "    numerics = ['int16', 'int32', 'int64', 'float16', 'float32', 'float64']\n",
    "    start_mem = df.memory_usage().sum() / 1024**2\n",
    "    for col in df.columns:\n",
    "        col_type = df[col].dtypes\n",
    "        if col_type in numerics:\n",
    "            c_min = df[col].min()\n",
    "            c_max = df[col].max()\n",
    "            if str(col_type)[:3] == 'int':\n",
    "                if c_min > np.iinfo(np.int8).min and c_max < np.iinfo(np.int8).max:\n",
    "                    df[col] = df[col].astype(np.int8)\n",
    "                elif c_min > np.iinfo(np.int16).min and c_max < np.iinfo(np.int16).max:\n",
    "                    df[col] = df[col].astype(np.int16)\n",
    "                elif c_min > np.iinfo(np.int32).min and c_max < np.iinfo(np.int32).max:\n",
    "                    df[col] = df[col].astype(np.int32)\n",
    "                elif c_min > np.iinfo(np.int64).min and c_max < np.iinfo(np.int64).max:\n",
    "                    df[col] = df[col].astype(np.int64)\n",
    "            else:\n",
    "                if c_min > np.finfo(np.float16).min and c_max < np.finfo(np.float16).max:\n",
    "                    df[col] = df[col].astype(np.float16)\n",
    "                elif c_min > np.finfo(np.float32).min and c_max < np.finfo(np.float32).max:\n",
    "                    df[col] = df[col].astype(np.float32)\n",
    "                else:\n",
    "                    df[col] = df[col].astype(np.float64)\n",
    "\n",
    "    end_mem = df.memory_usage().sum() / 1024**2\n",
    "    print('Memory usage after optimization is: {:.2f} MB'.format(end_mem))\n",
    "    print('Decreased by {:.1f}%'.format(100 * (start_mem - end_mem) / start_mem))\n",
    "\n",
    "    return df"
   ]
  },
  {
   "cell_type": "code",
   "execution_count": 3,
   "metadata": {},
   "outputs": [],
   "source": [
    "# Horovod: initialize Horovod.\n",
    "hvd.init()\n",
    "\n",
    "# Horovod: pin GPU to be used to process local rank (one GPU per process)\n",
    "config = tf.ConfigProto()\n",
    "config.gpu_options.allow_growth = True\n",
    "config.gpu_options.visible_device_list = str(hvd.local_rank())\n",
    "K.set_session(tf.Session(config=config))"
   ]
  },
  {
   "cell_type": "code",
   "execution_count": 4,
   "metadata": {},
   "outputs": [
    {
     "name": "stdout",
     "output_type": "stream",
     "text": [
      "Memory usage after optimization is: 78.01 MB\n",
      "Decreased by 74.7%\n",
      "Memory usage after optimization is: 77.82 MB\n",
      "Decreased by 74.6%\n"
     ]
    }
   ],
   "source": [
    "train = reduce_mem_usage(pd.read_csv('../input/train.csv'))\n",
    "test = reduce_mem_usage(pd.read_csv('../input/test.csv'))"
   ]
  },
  {
   "cell_type": "code",
   "execution_count": 5,
   "metadata": {},
   "outputs": [],
   "source": [
    "features = [f for f in train if f not in ['ID_code','target']]"
   ]
  },
  {
   "cell_type": "code",
   "execution_count": 6,
   "metadata": {},
   "outputs": [],
   "source": [
    "df_original = pd.concat([train, test],axis=0,sort=False)\n",
    "df = df_original[features]\n",
    "target = df_original['target'].values\n",
    "id = df_original['ID_code']"
   ]
  },
  {
   "cell_type": "code",
   "execution_count": 7,
   "metadata": {},
   "outputs": [
    {
     "name": "stderr",
     "output_type": "stream",
     "text": [
      "/home/wopr/.local/lib/python3.6/site-packages/ipykernel_launcher.py:2: SettingWithCopyWarning: \n",
      "A value is trying to be set on a copy of a slice from a DataFrame.\n",
      "Try using .loc[row_indexer,col_indexer] = value instead\n",
      "\n",
      "See the caveats in the documentation: http://pandas.pydata.org/pandas-docs/stable/indexing.html#indexing-view-versus-copy\n",
      "  \n"
     ]
    }
   ],
   "source": [
    "for feature in features:\n",
    "    df['mean_'+feature] = (train[feature].mean()-train[feature])\n",
    "    df['z_'+feature] = (train[feature] - train[feature].mean())/train[feature].std(ddof=0)\n",
    "    df['sq_'+feature] = (train[feature])**2\n",
    "    df['sqrt_'+feature] = np.abs(train[feature])**(1/2)\n",
    "    df['cp_'+feature] = pd.DataFrame(rankdata(train[feature]))\n",
    "    df['cnp_'+feature] = pd.DataFrame((norm.cdf(train[feature])))"
   ]
  },
  {
   "cell_type": "code",
   "execution_count": 8,
   "metadata": {},
   "outputs": [],
   "source": [
    "for df in [df]:\n",
    "#####Handling Missing Values#####     \n",
    "    for i in range(len(df.columns)):\n",
    "        df.iloc[:,i] = (df.iloc[:,i]).fillna(-1)"
   ]
  },
  {
   "cell_type": "code",
   "execution_count": 9,
   "metadata": {},
   "outputs": [
    {
     "name": "stdout",
     "output_type": "stream",
     "text": [
      "Memory usage after optimization is: 1232.91 MB\n",
      "Decreased by 37.9%\n"
     ]
    }
   ],
   "source": [
    "df.isnull().values.any()\n",
    "df = reduce_mem_usage(df)"
   ]
  },
  {
   "cell_type": "code",
   "execution_count": 10,
   "metadata": {},
   "outputs": [],
   "source": [
    "from scipy.special import erfinv\n",
    "trafo_columns = [c for c in df.columns if len(df[c].unique()) != 2]\n",
    "for col in trafo_columns:\n",
    "    values = sorted(set(df[col]))\n",
    "    # Because erfinv(1) is inf, we shrink the range into (-0.9, 0.9)\n",
    "    f = pd.Series(np.linspace(-0.9, 0.9, len(values)), index=values)\n",
    "    f = np.sqrt(2) * erfinv(f)\n",
    "    f -= f.mean()\n",
    "    df[col] = df[col].map(f)"
   ]
  },
  {
   "cell_type": "code",
   "execution_count": 11,
   "metadata": {},
   "outputs": [],
   "source": [
    "from sklearn.decomposition import PCA\n",
    "pca = PCA(n_components=200)\n",
    "pca.fit(df[trafo_columns])\n",
    "df = pca.transform(df[trafo_columns])\n",
    "df = pd.DataFrame(df)"
   ]
  },
  {
   "cell_type": "code",
   "execution_count": 12,
   "metadata": {},
   "outputs": [
    {
     "name": "stdout",
     "output_type": "stream",
     "text": [
      "Memory usage after optimization is: 153.35 MB\n",
      "Decreased by 75.0%\n"
     ]
    },
    {
     "data": {
      "text/html": [
       "<div>\n",
       "<style scoped>\n",
       "    .dataframe tbody tr th:only-of-type {\n",
       "        vertical-align: middle;\n",
       "    }\n",
       "\n",
       "    .dataframe tbody tr th {\n",
       "        vertical-align: top;\n",
       "    }\n",
       "\n",
       "    .dataframe thead th {\n",
       "        text-align: right;\n",
       "    }\n",
       "</style>\n",
       "<table border=\"1\" class=\"dataframe\">\n",
       "  <thead>\n",
       "    <tr style=\"text-align: right;\">\n",
       "      <th></th>\n",
       "      <th>0</th>\n",
       "      <th>1</th>\n",
       "      <th>2</th>\n",
       "      <th>3</th>\n",
       "      <th>4</th>\n",
       "      <th>5</th>\n",
       "      <th>6</th>\n",
       "      <th>7</th>\n",
       "      <th>8</th>\n",
       "      <th>9</th>\n",
       "      <th>...</th>\n",
       "      <th>191</th>\n",
       "      <th>192</th>\n",
       "      <th>193</th>\n",
       "      <th>194</th>\n",
       "      <th>195</th>\n",
       "      <th>196</th>\n",
       "      <th>197</th>\n",
       "      <th>198</th>\n",
       "      <th>199</th>\n",
       "      <th>target</th>\n",
       "    </tr>\n",
       "  </thead>\n",
       "  <tbody>\n",
       "    <tr>\n",
       "      <th>0</th>\n",
       "      <td>3.656250</td>\n",
       "      <td>2.972656</td>\n",
       "      <td>2.697266</td>\n",
       "      <td>1.922852</td>\n",
       "      <td>-0.316895</td>\n",
       "      <td>-2.728516</td>\n",
       "      <td>-0.391357</td>\n",
       "      <td>2.423828</td>\n",
       "      <td>-1.222656</td>\n",
       "      <td>0.296387</td>\n",
       "      <td>...</td>\n",
       "      <td>-0.744629</td>\n",
       "      <td>-1.319336</td>\n",
       "      <td>-0.296143</td>\n",
       "      <td>-0.256104</td>\n",
       "      <td>-0.559570</td>\n",
       "      <td>0.569336</td>\n",
       "      <td>-0.236450</td>\n",
       "      <td>0.621094</td>\n",
       "      <td>0.332764</td>\n",
       "      <td>0.0</td>\n",
       "    </tr>\n",
       "    <tr>\n",
       "      <th>1</th>\n",
       "      <td>-3.251953</td>\n",
       "      <td>-2.046875</td>\n",
       "      <td>-3.097656</td>\n",
       "      <td>-2.490234</td>\n",
       "      <td>2.380859</td>\n",
       "      <td>1.890625</td>\n",
       "      <td>-1.653320</td>\n",
       "      <td>1.649414</td>\n",
       "      <td>2.570312</td>\n",
       "      <td>1.586914</td>\n",
       "      <td>...</td>\n",
       "      <td>0.166260</td>\n",
       "      <td>0.687988</td>\n",
       "      <td>0.250488</td>\n",
       "      <td>-0.371338</td>\n",
       "      <td>-0.622559</td>\n",
       "      <td>0.479736</td>\n",
       "      <td>-0.010170</td>\n",
       "      <td>0.580078</td>\n",
       "      <td>-0.894043</td>\n",
       "      <td>0.0</td>\n",
       "    </tr>\n",
       "    <tr>\n",
       "      <th>2</th>\n",
       "      <td>3.796875</td>\n",
       "      <td>2.878906</td>\n",
       "      <td>-3.308594</td>\n",
       "      <td>2.134766</td>\n",
       "      <td>1.337891</td>\n",
       "      <td>1.439453</td>\n",
       "      <td>-1.758789</td>\n",
       "      <td>4.015625</td>\n",
       "      <td>-1.604492</td>\n",
       "      <td>-1.756836</td>\n",
       "      <td>...</td>\n",
       "      <td>-0.360352</td>\n",
       "      <td>0.579590</td>\n",
       "      <td>0.518066</td>\n",
       "      <td>-0.079285</td>\n",
       "      <td>-0.029160</td>\n",
       "      <td>0.211792</td>\n",
       "      <td>-0.599121</td>\n",
       "      <td>-0.657715</td>\n",
       "      <td>0.778320</td>\n",
       "      <td>0.0</td>\n",
       "    </tr>\n",
       "    <tr>\n",
       "      <th>3</th>\n",
       "      <td>3.775391</td>\n",
       "      <td>3.048828</td>\n",
       "      <td>2.117188</td>\n",
       "      <td>-2.343750</td>\n",
       "      <td>-0.838379</td>\n",
       "      <td>-1.784180</td>\n",
       "      <td>-2.996094</td>\n",
       "      <td>1.046875</td>\n",
       "      <td>3.380859</td>\n",
       "      <td>-0.449951</td>\n",
       "      <td>...</td>\n",
       "      <td>0.569824</td>\n",
       "      <td>0.808105</td>\n",
       "      <td>1.052734</td>\n",
       "      <td>0.145874</td>\n",
       "      <td>-0.353271</td>\n",
       "      <td>-0.773926</td>\n",
       "      <td>-0.468018</td>\n",
       "      <td>-0.250977</td>\n",
       "      <td>-0.508301</td>\n",
       "      <td>0.0</td>\n",
       "    </tr>\n",
       "    <tr>\n",
       "      <th>4</th>\n",
       "      <td>-2.714844</td>\n",
       "      <td>-2.474609</td>\n",
       "      <td>2.394531</td>\n",
       "      <td>1.767578</td>\n",
       "      <td>-1.456055</td>\n",
       "      <td>-1.204102</td>\n",
       "      <td>0.983887</td>\n",
       "      <td>-3.134766</td>\n",
       "      <td>1.757812</td>\n",
       "      <td>2.269531</td>\n",
       "      <td>...</td>\n",
       "      <td>-0.796387</td>\n",
       "      <td>-0.949707</td>\n",
       "      <td>-0.615234</td>\n",
       "      <td>0.566895</td>\n",
       "      <td>0.230469</td>\n",
       "      <td>-0.014931</td>\n",
       "      <td>0.400391</td>\n",
       "      <td>-0.581543</td>\n",
       "      <td>-0.197021</td>\n",
       "      <td>0.0</td>\n",
       "    </tr>\n",
       "  </tbody>\n",
       "</table>\n",
       "<p>5 rows × 201 columns</p>\n",
       "</div>"
      ],
      "text/plain": [
       "          0         1         2         3         4         5         6  \\\n",
       "0  3.656250  2.972656  2.697266  1.922852 -0.316895 -2.728516 -0.391357   \n",
       "1 -3.251953 -2.046875 -3.097656 -2.490234  2.380859  1.890625 -1.653320   \n",
       "2  3.796875  2.878906 -3.308594  2.134766  1.337891  1.439453 -1.758789   \n",
       "3  3.775391  3.048828  2.117188 -2.343750 -0.838379 -1.784180 -2.996094   \n",
       "4 -2.714844 -2.474609  2.394531  1.767578 -1.456055 -1.204102  0.983887   \n",
       "\n",
       "          7         8         9   ...         191       192       193  \\\n",
       "0  2.423828 -1.222656  0.296387   ...   -0.744629 -1.319336 -0.296143   \n",
       "1  1.649414  2.570312  1.586914   ...    0.166260  0.687988  0.250488   \n",
       "2  4.015625 -1.604492 -1.756836   ...   -0.360352  0.579590  0.518066   \n",
       "3  1.046875  3.380859 -0.449951   ...    0.569824  0.808105  1.052734   \n",
       "4 -3.134766  1.757812  2.269531   ...   -0.796387 -0.949707 -0.615234   \n",
       "\n",
       "        194       195       196       197       198       199  target  \n",
       "0 -0.256104 -0.559570  0.569336 -0.236450  0.621094  0.332764     0.0  \n",
       "1 -0.371338 -0.622559  0.479736 -0.010170  0.580078 -0.894043     0.0  \n",
       "2 -0.079285 -0.029160  0.211792 -0.599121 -0.657715  0.778320     0.0  \n",
       "3  0.145874 -0.353271 -0.773926 -0.468018 -0.250977 -0.508301     0.0  \n",
       "4  0.566895  0.230469 -0.014931  0.400391 -0.581543 -0.197021     0.0  \n",
       "\n",
       "[5 rows x 201 columns]"
      ]
     },
     "execution_count": 12,
     "metadata": {},
     "output_type": "execute_result"
    }
   ],
   "source": [
    "df['target'] = df_original.target.values\n",
    "df = reduce_mem_usage(df)\n",
    "df.head(5)"
   ]
  },
  {
   "cell_type": "code",
   "execution_count": 13,
   "metadata": {},
   "outputs": [],
   "source": [
    "#train = df[df['target'].notnull()]\n",
    "#target = train['target']\n",
    "#test = df[df['target'].isnull()]\n",
    "#trafo_columns = [c for c in train.columns if c not in ['target']]\n",
    "#train.shape"
   ]
  },
  {
   "cell_type": "code",
   "execution_count": 14,
   "metadata": {},
   "outputs": [],
   "source": [
    "trafo_columns = [c for c in df.columns if c not in ['target']]"
   ]
  },
  {
   "cell_type": "code",
   "execution_count": 16,
   "metadata": {
    "scrolled": false
   },
   "outputs": [
    {
     "name": "stdout",
     "output_type": "stream",
     "text": [
      "fold 0\n",
      "_________________________________________________________________\n",
      "Layer (type)                 Output Shape              Param #   \n",
      "=================================================================\n",
      "input_2 (InputLayer)         (None, 200)               0         \n",
      "_________________________________________________________________\n",
      "dense_5 (Dense)              (None, 1500)              301500    \n",
      "_________________________________________________________________\n",
      "batch_normalization_3 (Batch (None, 1500)              6000      \n",
      "_________________________________________________________________\n",
      "dense_6 (Dense)              (None, 1500)              2251500   \n",
      "_________________________________________________________________\n",
      "batch_normalization_4 (Batch (None, 1500)              6000      \n",
      "_________________________________________________________________\n",
      "dense_7 (Dense)              (None, 1500)              2251500   \n",
      "_________________________________________________________________\n",
      "dense_8 (Dense)              (None, 200)               300200    \n",
      "=================================================================\n",
      "Total params: 5,116,700\n",
      "Trainable params: 5,110,700\n",
      "Non-trainable params: 6,000\n",
      "_________________________________________________________________\n",
      "Train on 300000 samples, validate on 100000 samples\n",
      "Epoch 1/100\n",
      "300000/300000 [==============================] - 21s 70us/step - loss: 6.6681 - acc: 0.1875 - val_loss: 4.6314 - val_acc: 0.2398\n",
      "Epoch 2/100\n",
      "300000/300000 [==============================] - 21s 69us/step - loss: 3.1960 - acc: 0.2189 - val_loss: 1.9258 - val_acc: 0.2494\n",
      "Epoch 3/100\n",
      "300000/300000 [==============================] - 21s 70us/step - loss: 1.0533 - acc: 0.3172 - val_loss: 0.7510 - val_acc: 0.3121\n",
      "Epoch 4/100\n",
      "300000/300000 [==============================] - 21s 69us/step - loss: 0.7374 - acc: 0.3302 - val_loss: 0.7357 - val_acc: 0.3289\n",
      "Epoch 5/100\n",
      "300000/300000 [==============================] - 21s 69us/step - loss: 0.7258 - acc: 0.3325 - val_loss: 0.7268 - val_acc: 0.3261\n",
      "Epoch 6/100\n",
      "300000/300000 [==============================] - 20s 68us/step - loss: 0.7165 - acc: 0.3333 - val_loss: 0.7204 - val_acc: 0.3224\n",
      "Epoch 7/100\n",
      "300000/300000 [==============================] - 21s 69us/step - loss: 0.7088 - acc: 0.3361 - val_loss: 0.7137 - val_acc: 0.3144\n",
      "Epoch 8/100\n",
      "300000/300000 [==============================] - 21s 70us/step - loss: 0.7020 - acc: 0.3370 - val_loss: 0.7069 - val_acc: 0.3271\n",
      "Epoch 9/100\n",
      "300000/300000 [==============================] - 21s 69us/step - loss: 0.6960 - acc: 0.3341 - val_loss: 0.6984 - val_acc: 0.3279\n",
      "Epoch 10/100\n",
      "300000/300000 [==============================] - 21s 68us/step - loss: 0.6902 - acc: 0.3359 - val_loss: 0.6935 - val_acc: 0.3202\n",
      "Epoch 11/100\n",
      "300000/300000 [==============================] - 20s 68us/step - loss: 0.6848 - acc: 0.3331 - val_loss: 0.6894 - val_acc: 0.3204\n",
      "Epoch 12/100\n",
      "300000/300000 [==============================] - 20s 68us/step - loss: 0.6794 - acc: 0.3356 - val_loss: 0.6866 - val_acc: 0.3130\n",
      "Epoch 13/100\n",
      "300000/300000 [==============================] - 20s 68us/step - loss: 0.6742 - acc: 0.3345 - val_loss: 0.6792 - val_acc: 0.3156\n",
      "Epoch 14/100\n",
      "300000/300000 [==============================] - 21s 69us/step - loss: 0.6691 - acc: 0.3333 - val_loss: 0.6739 - val_acc: 0.3045\n",
      "Epoch 00014: early stopping\n",
      "100000/100000 [==============================] - 5s 48us/step\n",
      "400000/400000 [==============================] - 19s 47us/step\n",
      "fold 1\n",
      "_________________________________________________________________\n",
      "Layer (type)                 Output Shape              Param #   \n",
      "=================================================================\n",
      "input_3 (InputLayer)         (None, 200)               0         \n",
      "_________________________________________________________________\n",
      "dense_9 (Dense)              (None, 1500)              301500    \n",
      "_________________________________________________________________\n",
      "batch_normalization_5 (Batch (None, 1500)              6000      \n",
      "_________________________________________________________________\n",
      "dense_10 (Dense)             (None, 1500)              2251500   \n",
      "_________________________________________________________________\n",
      "batch_normalization_6 (Batch (None, 1500)              6000      \n",
      "_________________________________________________________________\n",
      "dense_11 (Dense)             (None, 1500)              2251500   \n",
      "_________________________________________________________________\n",
      "dense_12 (Dense)             (None, 200)               300200    \n",
      "=================================================================\n",
      "Total params: 5,116,700\n",
      "Trainable params: 5,110,700\n",
      "Non-trainable params: 6,000\n",
      "_________________________________________________________________\n",
      "Train on 300000 samples, validate on 100000 samples\n",
      "Epoch 1/100\n",
      "300000/300000 [==============================] - 21s 70us/step - loss: 6.6653 - acc: 0.1856 - val_loss: 4.6438 - val_acc: 0.2366\n",
      "Epoch 2/100\n",
      "300000/300000 [==============================] - 20s 68us/step - loss: 3.2000 - acc: 0.2186 - val_loss: 1.9391 - val_acc: 0.2464\n",
      "Epoch 3/100\n",
      "300000/300000 [==============================] - 20s 68us/step - loss: 1.0617 - acc: 0.3141 - val_loss: 0.7509 - val_acc: 0.3131\n",
      "Epoch 4/100\n",
      "300000/300000 [==============================] - 21s 69us/step - loss: 0.7369 - acc: 0.3268 - val_loss: 0.7370 - val_acc: 0.3261\n",
      "Epoch 5/100\n",
      "300000/300000 [==============================] - 20s 68us/step - loss: 0.7252 - acc: 0.3287 - val_loss: 0.7266 - val_acc: 0.3298\n",
      "Epoch 6/100\n",
      "300000/300000 [==============================] - 21s 69us/step - loss: 0.7161 - acc: 0.3309 - val_loss: 0.7198 - val_acc: 0.3106\n",
      "Epoch 7/100\n",
      "300000/300000 [==============================] - 21s 69us/step - loss: 0.7085 - acc: 0.3338 - val_loss: 0.7108 - val_acc: 0.3159\n",
      "Epoch 8/100\n",
      "300000/300000 [==============================] - 21s 70us/step - loss: 0.7018 - acc: 0.3338 - val_loss: 0.7040 - val_acc: 0.3284\n",
      "Epoch 9/100\n",
      "300000/300000 [==============================] - 21s 68us/step - loss: 0.6956 - acc: 0.3329 - val_loss: 0.7011 - val_acc: 0.3163\n",
      "Epoch 10/100\n",
      "300000/300000 [==============================] - 20s 68us/step - loss: 0.6898 - acc: 0.3328 - val_loss: 0.6929 - val_acc: 0.3304\n",
      "Epoch 11/100\n",
      "300000/300000 [==============================] - 21s 69us/step - loss: 0.6844 - acc: 0.3340 - val_loss: 0.6867 - val_acc: 0.3230\n",
      "Epoch 12/100\n",
      "300000/300000 [==============================] - 21s 68us/step - loss: 0.6791 - acc: 0.3314 - val_loss: 0.6833 - val_acc: 0.3174\n",
      "Epoch 13/100\n",
      "300000/300000 [==============================] - 20s 68us/step - loss: 0.6738 - acc: 0.3329 - val_loss: 0.6769 - val_acc: 0.3261\n",
      "Epoch 14/100\n",
      "300000/300000 [==============================] - 21s 69us/step - loss: 0.6688 - acc: 0.3309 - val_loss: 0.6750 - val_acc: 0.3180\n",
      "Epoch 15/100\n",
      "300000/300000 [==============================] - 21s 69us/step - loss: 0.6638 - acc: 0.3325 - val_loss: 0.6685 - val_acc: 0.3066\n",
      "Epoch 16/100\n",
      "300000/300000 [==============================] - 20s 68us/step - loss: 0.6589 - acc: 0.3317 - val_loss: 0.6623 - val_acc: 0.3401\n",
      "Epoch 17/100\n",
      "300000/300000 [==============================] - 21s 69us/step - loss: 0.6541 - acc: 0.3300 - val_loss: 0.6604 - val_acc: 0.2870\n",
      "Epoch 18/100\n",
      "300000/300000 [==============================] - 21s 69us/step - loss: 0.6496 - acc: 0.3304 - val_loss: 0.6561 - val_acc: 0.3096\n",
      "Epoch 19/100\n",
      "300000/300000 [==============================] - 21s 69us/step - loss: 0.6450 - acc: 0.3290 - val_loss: 0.6525 - val_acc: 0.3007\n",
      "Epoch 20/100\n",
      "300000/300000 [==============================] - 21s 69us/step - loss: 0.6407 - acc: 0.3297 - val_loss: 0.6486 - val_acc: 0.3381\n",
      "Epoch 21/100\n",
      "300000/300000 [==============================] - 21s 70us/step - loss: 0.6365 - acc: 0.3306 - val_loss: 0.6416 - val_acc: 0.3107\n",
      "Epoch 22/100\n",
      "300000/300000 [==============================] - 21s 69us/step - loss: 0.6324 - acc: 0.3283 - val_loss: 0.6387 - val_acc: 0.3005\n",
      "Epoch 23/100\n",
      "300000/300000 [==============================] - 21s 68us/step - loss: 0.6287 - acc: 0.3282 - val_loss: 0.6354 - val_acc: 0.3146\n",
      "Epoch 24/100\n",
      "300000/300000 [==============================] - 21s 69us/step - loss: 0.6250 - acc: 0.3284 - val_loss: 0.6321 - val_acc: 0.2968\n",
      "Epoch 25/100\n"
     ]
    },
    {
     "name": "stdout",
     "output_type": "stream",
     "text": [
      "300000/300000 [==============================] - 21s 69us/step - loss: 0.6216 - acc: 0.3281 - val_loss: 0.6281 - val_acc: 0.2852\n",
      "Epoch 26/100\n",
      "300000/300000 [==============================] - 20s 68us/step - loss: 0.6184 - acc: 0.3293 - val_loss: 0.6247 - val_acc: 0.3191\n",
      "Epoch 00026: early stopping\n",
      "100000/100000 [==============================] - 5s 49us/step\n",
      "400000/400000 [==============================] - 20s 49us/step\n",
      "fold 2\n",
      "_________________________________________________________________\n",
      "Layer (type)                 Output Shape              Param #   \n",
      "=================================================================\n",
      "input_4 (InputLayer)         (None, 200)               0         \n",
      "_________________________________________________________________\n",
      "dense_13 (Dense)             (None, 1500)              301500    \n",
      "_________________________________________________________________\n",
      "batch_normalization_7 (Batch (None, 1500)              6000      \n",
      "_________________________________________________________________\n",
      "dense_14 (Dense)             (None, 1500)              2251500   \n",
      "_________________________________________________________________\n",
      "batch_normalization_8 (Batch (None, 1500)              6000      \n",
      "_________________________________________________________________\n",
      "dense_15 (Dense)             (None, 1500)              2251500   \n",
      "_________________________________________________________________\n",
      "dense_16 (Dense)             (None, 200)               300200    \n",
      "=================================================================\n",
      "Total params: 5,116,700\n",
      "Trainable params: 5,110,700\n",
      "Non-trainable params: 6,000\n",
      "_________________________________________________________________\n",
      "Train on 300000 samples, validate on 100000 samples\n",
      "Epoch 1/100\n",
      "300000/300000 [==============================] - 21s 70us/step - loss: 6.6968 - acc: 0.1866 - val_loss: 4.6132 - val_acc: 0.2344\n",
      "Epoch 2/100\n",
      "300000/300000 [==============================] - 20s 68us/step - loss: 3.1907 - acc: 0.2161 - val_loss: 1.9123 - val_acc: 0.2491\n",
      "Epoch 3/100\n",
      "300000/300000 [==============================] - 21s 69us/step - loss: 1.0489 - acc: 0.3144 - val_loss: 0.7499 - val_acc: 0.3260\n",
      "Epoch 4/100\n",
      "300000/300000 [==============================] - 21s 69us/step - loss: 0.7382 - acc: 0.3269 - val_loss: 0.7379 - val_acc: 0.3284\n",
      "Epoch 5/100\n",
      "300000/300000 [==============================] - 21s 70us/step - loss: 0.7265 - acc: 0.3310 - val_loss: 0.7278 - val_acc: 0.3249\n",
      "Epoch 6/100\n",
      "300000/300000 [==============================] - 21s 69us/step - loss: 0.7174 - acc: 0.3330 - val_loss: 0.7213 - val_acc: 0.3266\n",
      "Epoch 7/100\n",
      "300000/300000 [==============================] - 21s 69us/step - loss: 0.7096 - acc: 0.3342 - val_loss: 0.7122 - val_acc: 0.3199\n",
      "Epoch 8/100\n",
      "300000/300000 [==============================] - 21s 69us/step - loss: 0.7029 - acc: 0.3349 - val_loss: 0.7054 - val_acc: 0.3256\n",
      "Epoch 9/100\n",
      "300000/300000 [==============================] - 21s 70us/step - loss: 0.6967 - acc: 0.3344 - val_loss: 0.7006 - val_acc: 0.3210\n",
      "Epoch 10/100\n",
      "300000/300000 [==============================] - 21s 69us/step - loss: 0.6911 - acc: 0.3330 - val_loss: 0.6954 - val_acc: 0.3054\n",
      "Epoch 11/100\n",
      "300000/300000 [==============================] - 20s 68us/step - loss: 0.6855 - acc: 0.3342 - val_loss: 0.6879 - val_acc: 0.3201\n",
      "Epoch 12/100\n",
      "300000/300000 [==============================] - 21s 69us/step - loss: 0.6804 - acc: 0.3324 - val_loss: 0.6860 - val_acc: 0.3071\n",
      "Epoch 13/100\n",
      "300000/300000 [==============================] - 21s 69us/step - loss: 0.6752 - acc: 0.3330 - val_loss: 0.6777 - val_acc: 0.3259\n",
      "Epoch 14/100\n",
      "300000/300000 [==============================] - 21s 69us/step - loss: 0.6701 - acc: 0.3315 - val_loss: 0.6763 - val_acc: 0.3091\n",
      "Epoch 00014: early stopping\n",
      "100000/100000 [==============================] - 5s 49us/step\n",
      "400000/400000 [==============================] - 19s 48us/step\n",
      "fold 3\n",
      "_________________________________________________________________\n",
      "Layer (type)                 Output Shape              Param #   \n",
      "=================================================================\n",
      "input_5 (InputLayer)         (None, 200)               0         \n",
      "_________________________________________________________________\n",
      "dense_17 (Dense)             (None, 1500)              301500    \n",
      "_________________________________________________________________\n",
      "batch_normalization_9 (Batch (None, 1500)              6000      \n",
      "_________________________________________________________________\n",
      "dense_18 (Dense)             (None, 1500)              2251500   \n",
      "_________________________________________________________________\n",
      "batch_normalization_10 (Batc (None, 1500)              6000      \n",
      "_________________________________________________________________\n",
      "dense_19 (Dense)             (None, 1500)              2251500   \n",
      "_________________________________________________________________\n",
      "dense_20 (Dense)             (None, 200)               300200    \n",
      "=================================================================\n",
      "Total params: 5,116,700\n",
      "Trainable params: 5,110,700\n",
      "Non-trainable params: 6,000\n",
      "_________________________________________________________________\n",
      "Train on 300000 samples, validate on 100000 samples\n",
      "Epoch 1/100\n",
      "300000/300000 [==============================] - 21s 70us/step - loss: 6.6763 - acc: 0.1870 - val_loss: 4.6292 - val_acc: 0.2363\n",
      "Epoch 2/100\n",
      "300000/300000 [==============================] - 20s 68us/step - loss: 3.1944 - acc: 0.2170 - val_loss: 1.9205 - val_acc: 0.2508\n",
      "Epoch 3/100\n",
      "300000/300000 [==============================] - 21s 70us/step - loss: 1.0526 - acc: 0.3146 - val_loss: 0.7493 - val_acc: 0.3260\n",
      "Epoch 4/100\n",
      "300000/300000 [==============================] - 21s 69us/step - loss: 0.7383 - acc: 0.3272 - val_loss: 0.7375 - val_acc: 0.3245\n",
      "Epoch 5/100\n",
      "300000/300000 [==============================] - 21s 70us/step - loss: 0.7266 - acc: 0.3305 - val_loss: 0.7267 - val_acc: 0.3283\n",
      "Epoch 6/100\n",
      "300000/300000 [==============================] - 21s 70us/step - loss: 0.7175 - acc: 0.3332 - val_loss: 0.7178 - val_acc: 0.3366\n",
      "Epoch 7/100\n",
      "300000/300000 [==============================] - 20s 68us/step - loss: 0.7098 - acc: 0.3333 - val_loss: 0.7103 - val_acc: 0.3230\n",
      "Epoch 8/100\n",
      "300000/300000 [==============================] - 21s 69us/step - loss: 0.7032 - acc: 0.3327 - val_loss: 0.7043 - val_acc: 0.3447\n",
      "Epoch 9/100\n",
      "300000/300000 [==============================] - 21s 70us/step - loss: 0.6970 - acc: 0.3343 - val_loss: 0.7012 - val_acc: 0.3131\n",
      "Epoch 10/100\n",
      "300000/300000 [==============================] - 21s 69us/step - loss: 0.6912 - acc: 0.3334 - val_loss: 0.6921 - val_acc: 0.3256\n",
      "Epoch 11/100\n",
      "300000/300000 [==============================] - 21s 70us/step - loss: 0.6858 - acc: 0.3329 - val_loss: 0.6857 - val_acc: 0.3363\n",
      "Epoch 12/100\n",
      "300000/300000 [==============================] - 21s 69us/step - loss: 0.6806 - acc: 0.3318 - val_loss: 0.6842 - val_acc: 0.3291\n",
      "Epoch 13/100\n",
      "300000/300000 [==============================] - 21s 69us/step - loss: 0.6754 - acc: 0.3320 - val_loss: 0.6780 - val_acc: 0.3258\n",
      "Epoch 14/100\n",
      "300000/300000 [==============================] - 21s 70us/step - loss: 0.6704 - acc: 0.3318 - val_loss: 0.6722 - val_acc: 0.3415\n",
      "Epoch 15/100\n",
      "300000/300000 [==============================] - 21s 70us/step - loss: 0.6654 - acc: 0.3328 - val_loss: 0.6682 - val_acc: 0.3366\n",
      "Epoch 16/100\n",
      "300000/300000 [==============================] - 21s 70us/step - loss: 0.6605 - acc: 0.3313 - val_loss: 0.6650 - val_acc: 0.3348\n",
      "Epoch 17/100\n",
      "300000/300000 [==============================] - 21s 70us/step - loss: 0.6558 - acc: 0.3316 - val_loss: 0.6597 - val_acc: 0.3086\n",
      "Epoch 18/100\n",
      "300000/300000 [==============================] - 21s 69us/step - loss: 0.6512 - acc: 0.3291 - val_loss: 0.6552 - val_acc: 0.3450\n",
      "Epoch 19/100\n",
      "300000/300000 [==============================] - 20s 68us/step - loss: 0.6467 - acc: 0.3293 - val_loss: 0.6490 - val_acc: 0.3394\n",
      "Epoch 20/100\n",
      "300000/300000 [==============================] - 21s 70us/step - loss: 0.6424 - acc: 0.3293 - val_loss: 0.6461 - val_acc: 0.3380\n",
      "Epoch 21/100\n",
      "300000/300000 [==============================] - 20s 68us/step - loss: 0.6382 - acc: 0.3280 - val_loss: 0.6425 - val_acc: 0.3155\n",
      "Epoch 22/100\n"
     ]
    },
    {
     "name": "stdout",
     "output_type": "stream",
     "text": [
      "300000/300000 [==============================] - 21s 69us/step - loss: 0.6343 - acc: 0.3285 - val_loss: 0.6407 - val_acc: 0.3345\n",
      "Epoch 23/100\n",
      "300000/300000 [==============================] - 20s 67us/step - loss: 0.6304 - acc: 0.3283 - val_loss: 0.6376 - val_acc: 0.3071\n",
      "Epoch 24/100\n",
      "300000/300000 [==============================] - 21s 69us/step - loss: 0.6269 - acc: 0.3273 - val_loss: 0.6329 - val_acc: 0.3379\n",
      "Epoch 25/100\n",
      "300000/300000 [==============================] - 21s 70us/step - loss: 0.6234 - acc: 0.3274 - val_loss: 0.6269 - val_acc: 0.3263\n",
      "Epoch 26/100\n",
      "300000/300000 [==============================] - 21s 68us/step - loss: 0.6202 - acc: 0.3279 - val_loss: 0.6241 - val_acc: 0.3185\n",
      "Epoch 27/100\n",
      "300000/300000 [==============================] - 21s 69us/step - loss: 0.6171 - acc: 0.3240 - val_loss: 0.6251 - val_acc: 0.3000\n",
      "Epoch 28/100\n",
      "300000/300000 [==============================] - 21s 69us/step - loss: 0.6143 - acc: 0.3258 - val_loss: 0.6191 - val_acc: 0.3299\n",
      "Epoch 00028: early stopping\n",
      "100000/100000 [==============================] - 5s 51us/step\n",
      "400000/400000 [==============================] - 20s 50us/step\n"
     ]
    }
   ],
   "source": [
    "from keras import backend as K\n",
    "from keras.activations import elu\n",
    "from keras.layers import Input, Dense, Lambda\n",
    "from keras.models import Model\n",
    "from keras.objectives import binary_crossentropy\n",
    "from keras.callbacks import LearningRateScheduler\n",
    "from keras import backend as K\n",
    "from imblearn.keras import balanced_batch_generator\n",
    "from imblearn.under_sampling import NearMiss, RandomUnderSampler, CondensedNearestNeighbour, AllKNN, InstanceHardnessThreshold\n",
    "from sklearn.model_selection import KFold\n",
    "from imblearn.over_sampling import RandomOverSampler\n",
    "from imblearn.over_sampling import SMOTE\n",
    "\n",
    "learning_rate = 0.0001\n",
    "mom = 0.1\n",
    "dcy = 0.996\n",
    "nb_folds = 4\n",
    "nb_epoch = 100\n",
    "batch_size = 128\n",
    "encoding_dim =1500\n",
    "hidden_dim = int(encoding_dim) #i.e. 7\n",
    "sgd = SGD(lr=learning_rate, momentum=mom, decay=dcy)\n",
    "#folds = StratifiedKFold(n_splits=nb_folds, shuffle=True, random_state=420)\n",
    "folds = KFold(n_splits = nb_folds, random_state = 338, shuffle = True)\n",
    "auto = np.zeros(df[trafo_columns].shape)\n",
    "layer_output = np.zeros((len(df), 1500)) # change when nn shape changes\n",
    "#layer_output = np.zeros(df[trafo_columns].shape)\n",
    "#train_auto = np.zeros(train[trafo_columns].shape)\n",
    "#test_auto = np.zeros(test[trafo_columns].shape)\n",
    "predictions = np.zeros(len(df))\n",
    "#label_cols = [\"target\"]\n",
    "#y_split = train[label_cols].values\n",
    "\n",
    "# Horovod: adjust learning rate based on number of GPUs.\n",
    "opt = keras.optimizers.SGD(lr=learning_rate, decay=dcy, momentum=mom, nesterov=True)\n",
    "# Horovod: add Horovod Distributed Optimizer.\n",
    "opt = hvd.DistributedOptimizer(opt)\n",
    "\n",
    "cp = ModelCheckpoint(filepath=\"autoencoder_0.h5\",\n",
    "                               save_best_only=True,\n",
    "                               verbose=0)\n",
    "\n",
    "tb = TensorBoard(log_dir='./logs',\n",
    "                histogram_freq=0,\n",
    "                write_graph=True,\n",
    "                write_images=True)\n",
    "\n",
    "es= EarlyStopping(monitor='val_acc',\n",
    "                  min_delta=0,\n",
    "                  patience=20,\n",
    "                  verbose=1, mode='min')\n",
    "\n",
    "#for fold_, (trn_idx, val_idx) in enumerate(folds.split(y_split[:,0], y_split[:,0])):\n",
    "#    print(\"fold {}\".format(fold_))\n",
    "for fold_, (trn_idx, val_idx) in enumerate(folds.split(df)):\n",
    "    print(\"fold {}\".format(fold_))\n",
    "\n",
    "    trn_data = df[trafo_columns].iloc[trn_idx]\n",
    "    val_data = df[trafo_columns].iloc[val_idx]\n",
    "\n",
    "    def add_noise(series, noise_level):\n",
    "        return series * (1 + noise_level * np.random.randn(series.shape[1]))\n",
    "    \n",
    "    noisy_trn_data = add_noise(trn_data, 0.04)\n",
    "\n",
    "    input_dim = noisy_trn_data.shape[1] #num of columns, 30\n",
    "    input_layer = Input(shape=(input_dim, ))\n",
    "    encoder = Dense(encoding_dim, activation=\"tanh\", activity_regularizer=regularizers.l1(learning_rate))(input_layer)\n",
    "    encoder = BatchNormalization()(encoder)\n",
    "    encoder = Dense(hidden_dim, activation=\"relu\")(encoder)\n",
    "    encoder = BatchNormalization()(encoder)\n",
    "    decoder = Dense(hidden_dim, activation='relu')(encoder)\n",
    "    decoder = Dense(input_dim, activation='tanh')(decoder)\n",
    "    autoencoder = Model(inputs=input_layer, outputs=decoder)\n",
    "    autoencoder.summary()\n",
    "    \n",
    "    autoencoder.compile(metrics=['accuracy'],\n",
    "                        loss='mean_squared_error',\n",
    "                        optimizer='sgd')\n",
    "\n",
    "    cp = ModelCheckpoint(filepath=\"autoencoder_fraud.h5\",\n",
    "                                   save_best_only=True,\n",
    "                                   verbose=0)\n",
    "\n",
    "    tb = TensorBoard(log_dir='./logs',\n",
    "                    histogram_freq=0,\n",
    "                    write_graph=True,\n",
    "                    write_images=True)\n",
    "    \n",
    "    es= EarlyStopping(monitor='val_acc',\n",
    "                  min_delta=0,\n",
    "                  patience=10,\n",
    "                  verbose=1, mode='auto')\n",
    "\n",
    "    history = autoencoder.fit(noisy_trn_data, trn_data,\n",
    "                        epochs=nb_epoch,\n",
    "                        batch_size=batch_size,\n",
    "                        shuffle=True,\n",
    "                        validation_data=(val_data, val_data),\n",
    "                        verbose=1,\n",
    "                        callbacks=[cp, tb, es]).history\n",
    "    \n",
    "    \n",
    "    auto[val_idx] += autoencoder.predict(df.iloc[val_idx][trafo_columns], verbose=1)\n",
    "    mse = autoencoder.predict(df[trafo_columns] / folds.n_splits, verbose=1)\n",
    "    predictions += np.mean(np.power(df[trafo_columns] - mse, 2), axis=1)\n",
    "    # we build a new model with the activations of the old model\n",
    "    # this model is truncated after the first layer\n",
    "    get_1st_layer_output = K.function([autoencoder.layers[0].input],\n",
    "                                  [autoencoder.layers[1].output])\n",
    "    layer_output[val_idx] += pd.DataFrame(np.concatenate(get_1st_layer_output([df.iloc[val_idx][trafo_columns]])))\n",
    "    \n",
    "auto_final = pd.DataFrame(auto / folds.n_splits)\n",
    "hidden = pd.DataFrame(layer_output / folds.n_splits)"
   ]
  },
  {
   "cell_type": "code",
   "execution_count": 17,
   "metadata": {},
   "outputs": [
    {
     "data": {
      "text/html": [
       "<div>\n",
       "<style scoped>\n",
       "    .dataframe tbody tr th:only-of-type {\n",
       "        vertical-align: middle;\n",
       "    }\n",
       "\n",
       "    .dataframe tbody tr th {\n",
       "        vertical-align: top;\n",
       "    }\n",
       "\n",
       "    .dataframe thead th {\n",
       "        text-align: right;\n",
       "    }\n",
       "</style>\n",
       "<table border=\"1\" class=\"dataframe\">\n",
       "  <thead>\n",
       "    <tr style=\"text-align: right;\">\n",
       "      <th></th>\n",
       "      <th>0</th>\n",
       "      <th>1</th>\n",
       "      <th>2</th>\n",
       "      <th>3</th>\n",
       "      <th>4</th>\n",
       "      <th>5</th>\n",
       "      <th>6</th>\n",
       "      <th>7</th>\n",
       "      <th>8</th>\n",
       "      <th>9</th>\n",
       "      <th>...</th>\n",
       "      <th>1492</th>\n",
       "      <th>1493</th>\n",
       "      <th>1494</th>\n",
       "      <th>1495</th>\n",
       "      <th>1496</th>\n",
       "      <th>1497</th>\n",
       "      <th>1498</th>\n",
       "      <th>1499</th>\n",
       "      <th>target</th>\n",
       "      <th>ID_code</th>\n",
       "    </tr>\n",
       "  </thead>\n",
       "  <tbody>\n",
       "    <tr>\n",
       "      <th>0</th>\n",
       "      <td>-0.003360</td>\n",
       "      <td>0.001960</td>\n",
       "      <td>0.004876</td>\n",
       "      <td>-0.000782</td>\n",
       "      <td>3.782352e-03</td>\n",
       "      <td>-0.000382</td>\n",
       "      <td>-0.002048</td>\n",
       "      <td>0.001241</td>\n",
       "      <td>-0.001704</td>\n",
       "      <td>0.003050</td>\n",
       "      <td>...</td>\n",
       "      <td>0.004864</td>\n",
       "      <td>0.001233</td>\n",
       "      <td>0.000447</td>\n",
       "      <td>-0.004161</td>\n",
       "      <td>0.000504</td>\n",
       "      <td>0.006756</td>\n",
       "      <td>0.003351</td>\n",
       "      <td>0.002942</td>\n",
       "      <td>0.0</td>\n",
       "      <td>train_0</td>\n",
       "    </tr>\n",
       "    <tr>\n",
       "      <th>1</th>\n",
       "      <td>-0.004592</td>\n",
       "      <td>-0.002544</td>\n",
       "      <td>-0.002722</td>\n",
       "      <td>-0.000438</td>\n",
       "      <td>-1.098417e-03</td>\n",
       "      <td>0.004021</td>\n",
       "      <td>0.001530</td>\n",
       "      <td>0.001419</td>\n",
       "      <td>-0.000801</td>\n",
       "      <td>-0.002329</td>\n",
       "      <td>...</td>\n",
       "      <td>0.001542</td>\n",
       "      <td>-0.000216</td>\n",
       "      <td>0.002646</td>\n",
       "      <td>0.000715</td>\n",
       "      <td>0.002380</td>\n",
       "      <td>0.000198</td>\n",
       "      <td>0.000259</td>\n",
       "      <td>0.004444</td>\n",
       "      <td>0.0</td>\n",
       "      <td>train_1</td>\n",
       "    </tr>\n",
       "    <tr>\n",
       "      <th>2</th>\n",
       "      <td>-0.004127</td>\n",
       "      <td>-0.002720</td>\n",
       "      <td>-0.002631</td>\n",
       "      <td>0.001193</td>\n",
       "      <td>2.521100e-03</td>\n",
       "      <td>0.000415</td>\n",
       "      <td>0.002113</td>\n",
       "      <td>-0.000619</td>\n",
       "      <td>0.002005</td>\n",
       "      <td>-0.002453</td>\n",
       "      <td>...</td>\n",
       "      <td>0.002828</td>\n",
       "      <td>0.005525</td>\n",
       "      <td>-0.002819</td>\n",
       "      <td>-0.002474</td>\n",
       "      <td>0.001265</td>\n",
       "      <td>0.002012</td>\n",
       "      <td>0.002262</td>\n",
       "      <td>-0.000398</td>\n",
       "      <td>0.0</td>\n",
       "      <td>train_2</td>\n",
       "    </tr>\n",
       "    <tr>\n",
       "      <th>3</th>\n",
       "      <td>-0.001261</td>\n",
       "      <td>0.000557</td>\n",
       "      <td>-0.002861</td>\n",
       "      <td>-0.001616</td>\n",
       "      <td>5.629954e-07</td>\n",
       "      <td>0.005274</td>\n",
       "      <td>0.002290</td>\n",
       "      <td>-0.001197</td>\n",
       "      <td>0.003010</td>\n",
       "      <td>-0.000217</td>\n",
       "      <td>...</td>\n",
       "      <td>0.000507</td>\n",
       "      <td>0.001118</td>\n",
       "      <td>-0.000603</td>\n",
       "      <td>-0.000351</td>\n",
       "      <td>0.000848</td>\n",
       "      <td>0.003047</td>\n",
       "      <td>0.000592</td>\n",
       "      <td>0.000747</td>\n",
       "      <td>0.0</td>\n",
       "      <td>train_3</td>\n",
       "    </tr>\n",
       "    <tr>\n",
       "      <th>4</th>\n",
       "      <td>-0.003760</td>\n",
       "      <td>-0.004555</td>\n",
       "      <td>-0.000203</td>\n",
       "      <td>-0.002491</td>\n",
       "      <td>4.196662e-03</td>\n",
       "      <td>-0.002235</td>\n",
       "      <td>-0.000133</td>\n",
       "      <td>-0.000572</td>\n",
       "      <td>0.001390</td>\n",
       "      <td>-0.003354</td>\n",
       "      <td>...</td>\n",
       "      <td>-0.000753</td>\n",
       "      <td>0.001743</td>\n",
       "      <td>-0.002099</td>\n",
       "      <td>0.003958</td>\n",
       "      <td>0.000744</td>\n",
       "      <td>0.001946</td>\n",
       "      <td>0.001416</td>\n",
       "      <td>0.005175</td>\n",
       "      <td>0.0</td>\n",
       "      <td>train_4</td>\n",
       "    </tr>\n",
       "  </tbody>\n",
       "</table>\n",
       "<p>5 rows × 1502 columns</p>\n",
       "</div>"
      ],
      "text/plain": [
       "          0         1         2         3             4         5         6  \\\n",
       "0 -0.003360  0.001960  0.004876 -0.000782  3.782352e-03 -0.000382 -0.002048   \n",
       "1 -0.004592 -0.002544 -0.002722 -0.000438 -1.098417e-03  0.004021  0.001530   \n",
       "2 -0.004127 -0.002720 -0.002631  0.001193  2.521100e-03  0.000415  0.002113   \n",
       "3 -0.001261  0.000557 -0.002861 -0.001616  5.629954e-07  0.005274  0.002290   \n",
       "4 -0.003760 -0.004555 -0.000203 -0.002491  4.196662e-03 -0.002235 -0.000133   \n",
       "\n",
       "          7         8         9   ...         1492      1493      1494  \\\n",
       "0  0.001241 -0.001704  0.003050   ...     0.004864  0.001233  0.000447   \n",
       "1  0.001419 -0.000801 -0.002329   ...     0.001542 -0.000216  0.002646   \n",
       "2 -0.000619  0.002005 -0.002453   ...     0.002828  0.005525 -0.002819   \n",
       "3 -0.001197  0.003010 -0.000217   ...     0.000507  0.001118 -0.000603   \n",
       "4 -0.000572  0.001390 -0.003354   ...    -0.000753  0.001743 -0.002099   \n",
       "\n",
       "       1495      1496      1497      1498      1499  target  ID_code  \n",
       "0 -0.004161  0.000504  0.006756  0.003351  0.002942     0.0  train_0  \n",
       "1  0.000715  0.002380  0.000198  0.000259  0.004444     0.0  train_1  \n",
       "2 -0.002474  0.001265  0.002012  0.002262 -0.000398     0.0  train_2  \n",
       "3 -0.000351  0.000848  0.003047  0.000592  0.000747     0.0  train_3  \n",
       "4  0.003958  0.000744  0.001946  0.001416  0.005175     0.0  train_4  \n",
       "\n",
       "[5 rows x 1502 columns]"
      ]
     },
     "execution_count": 17,
     "metadata": {},
     "output_type": "execute_result"
    }
   ],
   "source": [
    "hidden['target'] = target\n",
    "hidden['ID_code'] = id.values\n",
    "hidden.head(5)"
   ]
  },
  {
   "cell_type": "code",
   "execution_count": 18,
   "metadata": {},
   "outputs": [
    {
     "name": "stdout",
     "output_type": "stream",
     "text": [
      "Variable         Type         Data/Info\n",
      "---------------------------------------\n",
      "auto_final       DataFrame                 0         1 <...>00000 rows x 200 columns]\n",
      "df               DataFrame                   0         <...>00000 rows x 201 columns]\n",
      "df_original      DataFrame                ID_code  targ<...>00000 rows x 202 columns]\n",
      "hidden           DataFrame                   0         <...>0000 rows x 1502 columns]\n",
      "noisy_trn_data   DataFrame                 0         1 <...>00000 rows x 200 columns]\n",
      "test             DataFrame                ID_code      <...>00000 rows x 201 columns]\n",
      "train            DataFrame                 ID_code  tar<...>00000 rows x 202 columns]\n",
      "trn_data         DataFrame                 0         1 <...>00000 rows x 200 columns]\n",
      "val_data         DataFrame                 0         1 <...>00000 rows x 200 columns]\n"
     ]
    }
   ],
   "source": [
    "%whos DataFrame"
   ]
  },
  {
   "cell_type": "code",
   "execution_count": 19,
   "metadata": {},
   "outputs": [
    {
     "data": {
      "text/plain": [
       "179"
      ]
     },
     "execution_count": 19,
     "metadata": {},
     "output_type": "execute_result"
    }
   ],
   "source": [
    "del df, noisy_trn_data, test, train, trn_data, val_data\n",
    "gc.collect()"
   ]
  },
  {
   "cell_type": "code",
   "execution_count": 20,
   "metadata": {},
   "outputs": [
    {
     "name": "stdout",
     "output_type": "stream",
     "text": [
      "Variable      Type         Data/Info\n",
      "------------------------------------\n",
      "auto_final    DataFrame                 0         1 <...>00000 rows x 200 columns]\n",
      "df_original   DataFrame                ID_code  targ<...>00000 rows x 202 columns]\n",
      "hidden        DataFrame                   0         <...>0000 rows x 1502 columns]\n"
     ]
    }
   ],
   "source": [
    "%whos DataFrame"
   ]
  },
  {
   "cell_type": "code",
   "execution_count": 21,
   "metadata": {},
   "outputs": [
    {
     "data": {
      "text/plain": [
       "(200000, 1502)"
      ]
     },
     "execution_count": 21,
     "metadata": {},
     "output_type": "execute_result"
    }
   ],
   "source": [
    "#hidden\n",
    "ae_columns = [c for c in hidden.columns if c not in ['ID_code', 'target']]\n",
    "df_train = hidden[hidden['target'].notnull()]\n",
    "target = df_train['target']\n",
    "df_test = hidden[hidden['target'].isnull()]\n",
    "df_train.shape\n",
    "\n",
    "#final\n",
    "#ae_columns = [c for c in auto_final.columns if c not in ['ID_code', 'target']]\n",
    "#df_train = auto_final[auto_final['target'].notnull()]\n",
    "#target = df_train['target']\n",
    "#df_test = auto_final[auto_final['target'].isnull()]\n",
    "#df_train.shape\n"
   ]
  },
  {
   "cell_type": "code",
   "execution_count": 22,
   "metadata": {},
   "outputs": [
    {
     "name": "stdout",
     "output_type": "stream",
     "text": [
      "fold 0\n",
      "Fitting 3 folds for each of 20000 candidates, totalling 60000 fits\n"
     ]
    },
    {
     "name": "stderr",
     "output_type": "stream",
     "text": [
      "[Parallel(n_jobs=1)]: Using backend SequentialBackend with 1 concurrent workers.\n",
      "/home/wopr/.local/lib/python3.6/site-packages/sklearn/preprocessing/label.py:219: DataConversionWarning: A column-vector y was passed when a 1d array was expected. Please change the shape of y to (n_samples, ), for example using ravel().\n",
      "  y = column_or_1d(y, warn=True)\n",
      "/home/wopr/.local/lib/python3.6/site-packages/sklearn/preprocessing/label.py:252: DataConversionWarning: A column-vector y was passed when a 1d array was expected. Please change the shape of y to (n_samples, ), for example using ravel().\n",
      "  y = column_or_1d(y, warn=True)\n"
     ]
    },
    {
     "name": "stdout",
     "output_type": "stream",
     "text": [
      "Training until validation scores don't improve for 100 rounds.\n",
      "[100]\tvalid's auc: 0.754833\n",
      "[200]\tvalid's auc: 0.781046\n",
      "[300]\tvalid's auc: 0.792885\n",
      "[400]\tvalid's auc: 0.800007\n",
      "[500]\tvalid's auc: 0.804638\n",
      "[600]\tvalid's auc: 0.807236\n",
      "[700]\tvalid's auc: 0.809681\n",
      "[800]\tvalid's auc: 0.81072\n",
      "[900]\tvalid's auc: 0.81162\n",
      "[1000]\tvalid's auc: 0.812291\n",
      "[1100]\tvalid's auc: 0.813354\n",
      "[1200]\tvalid's auc: 0.814101\n",
      "[1300]\tvalid's auc: 0.814439\n",
      "[1400]\tvalid's auc: 0.8147\n",
      "[1500]\tvalid's auc: 0.814953\n",
      "Early stopping, best iteration is:\n",
      "[1425]\tvalid's auc: 0.815138\n"
     ]
    },
    {
     "name": "stderr",
     "output_type": "stream",
     "text": [
      "/home/wopr/.local/lib/python3.6/site-packages/sklearn/preprocessing/label.py:219: DataConversionWarning: A column-vector y was passed when a 1d array was expected. Please change the shape of y to (n_samples, ), for example using ravel().\n",
      "  y = column_or_1d(y, warn=True)\n",
      "/home/wopr/.local/lib/python3.6/site-packages/sklearn/preprocessing/label.py:252: DataConversionWarning: A column-vector y was passed when a 1d array was expected. Please change the shape of y to (n_samples, ), for example using ravel().\n",
      "  y = column_or_1d(y, warn=True)\n"
     ]
    },
    {
     "name": "stdout",
     "output_type": "stream",
     "text": [
      "Training until validation scores don't improve for 100 rounds.\n",
      "[100]\tvalid's auc: 0.75539\n",
      "[200]\tvalid's auc: 0.781841\n",
      "[300]\tvalid's auc: 0.793396\n",
      "[400]\tvalid's auc: 0.800274\n",
      "[500]\tvalid's auc: 0.804897\n",
      "[600]\tvalid's auc: 0.808055\n",
      "[700]\tvalid's auc: 0.809553\n",
      "[800]\tvalid's auc: 0.811069\n",
      "[900]\tvalid's auc: 0.81194\n",
      "[1000]\tvalid's auc: 0.812034\n",
      "[1100]\tvalid's auc: 0.812615\n",
      "[1200]\tvalid's auc: 0.812731\n",
      "[1300]\tvalid's auc: 0.813149\n",
      "[1400]\tvalid's auc: 0.813299\n",
      "[1500]\tvalid's auc: 0.813459\n",
      "[1600]\tvalid's auc: 0.813987\n",
      "[1700]\tvalid's auc: 0.814606\n",
      "[1800]\tvalid's auc: 0.814831\n",
      "[1900]\tvalid's auc: 0.81518\n",
      "[2000]\tvalid's auc: 0.815602\n",
      "[2100]\tvalid's auc: 0.815896\n",
      "[2200]\tvalid's auc: 0.815934\n",
      "Early stopping, best iteration is:\n",
      "[2125]\tvalid's auc: 0.816134\n"
     ]
    },
    {
     "name": "stderr",
     "output_type": "stream",
     "text": [
      "/home/wopr/.local/lib/python3.6/site-packages/sklearn/preprocessing/label.py:219: DataConversionWarning: A column-vector y was passed when a 1d array was expected. Please change the shape of y to (n_samples, ), for example using ravel().\n",
      "  y = column_or_1d(y, warn=True)\n",
      "/home/wopr/.local/lib/python3.6/site-packages/sklearn/preprocessing/label.py:252: DataConversionWarning: A column-vector y was passed when a 1d array was expected. Please change the shape of y to (n_samples, ), for example using ravel().\n",
      "  y = column_or_1d(y, warn=True)\n"
     ]
    },
    {
     "name": "stdout",
     "output_type": "stream",
     "text": [
      "Training until validation scores don't improve for 100 rounds.\n",
      "[100]\tvalid's auc: 0.75623\n",
      "[200]\tvalid's auc: 0.781973\n",
      "[300]\tvalid's auc: 0.794978\n",
      "[400]\tvalid's auc: 0.801745\n",
      "[500]\tvalid's auc: 0.805873\n",
      "[600]\tvalid's auc: 0.808826\n",
      "[700]\tvalid's auc: 0.81097\n",
      "[800]\tvalid's auc: 0.812006\n",
      "[900]\tvalid's auc: 0.81303\n",
      "[1000]\tvalid's auc: 0.814146\n",
      "[1100]\tvalid's auc: 0.814851\n",
      "[1200]\tvalid's auc: 0.815243\n",
      "[1300]\tvalid's auc: 0.815764\n",
      "[1400]\tvalid's auc: 0.816031\n",
      "Early stopping, best iteration is:\n",
      "[1364]\tvalid's auc: 0.816232\n"
     ]
    },
    {
     "name": "stderr",
     "output_type": "stream",
     "text": [
      "/home/wopr/.local/lib/python3.6/site-packages/sklearn/preprocessing/label.py:219: DataConversionWarning: A column-vector y was passed when a 1d array was expected. Please change the shape of y to (n_samples, ), for example using ravel().\n",
      "  y = column_or_1d(y, warn=True)\n",
      "/home/wopr/.local/lib/python3.6/site-packages/sklearn/preprocessing/label.py:252: DataConversionWarning: A column-vector y was passed when a 1d array was expected. Please change the shape of y to (n_samples, ), for example using ravel().\n",
      "  y = column_or_1d(y, warn=True)\n"
     ]
    },
    {
     "name": "stdout",
     "output_type": "stream",
     "text": [
      "Training until validation scores don't improve for 100 rounds.\n",
      "[100]\tvalid's auc: 0.759432\n",
      "[200]\tvalid's auc: 0.784559\n",
      "[300]\tvalid's auc: 0.795853\n",
      "[400]\tvalid's auc: 0.801985\n",
      "[500]\tvalid's auc: 0.805389\n",
      "[600]\tvalid's auc: 0.80794\n",
      "[700]\tvalid's auc: 0.809637\n",
      "[800]\tvalid's auc: 0.810727\n",
      "[900]\tvalid's auc: 0.811848\n",
      "[1000]\tvalid's auc: 0.813099\n",
      "[1100]\tvalid's auc: 0.814417\n",
      "[1200]\tvalid's auc: 0.814918\n",
      "[1300]\tvalid's auc: 0.815126\n",
      "[1400]\tvalid's auc: 0.815929\n",
      "[1500]\tvalid's auc: 0.816365\n",
      "[1600]\tvalid's auc: 0.816792\n",
      "[1700]\tvalid's auc: 0.817412\n",
      "[1800]\tvalid's auc: 0.817701\n",
      "[1900]\tvalid's auc: 0.817906\n",
      "[2000]\tvalid's auc: 0.818327\n",
      "[2100]\tvalid's auc: 0.818379\n",
      "[2200]\tvalid's auc: 0.818727\n",
      "[2300]\tvalid's auc: 0.819079\n",
      "[2400]\tvalid's auc: 0.819347\n",
      "[2500]\tvalid's auc: 0.819365\n",
      "Early stopping, best iteration is:\n",
      "[2415]\tvalid's auc: 0.819373\n"
     ]
    },
    {
     "name": "stderr",
     "output_type": "stream",
     "text": [
      "/home/wopr/.local/lib/python3.6/site-packages/sklearn/preprocessing/label.py:219: DataConversionWarning: A column-vector y was passed when a 1d array was expected. Please change the shape of y to (n_samples, ), for example using ravel().\n",
      "  y = column_or_1d(y, warn=True)\n",
      "/home/wopr/.local/lib/python3.6/site-packages/sklearn/preprocessing/label.py:252: DataConversionWarning: A column-vector y was passed when a 1d array was expected. Please change the shape of y to (n_samples, ), for example using ravel().\n",
      "  y = column_or_1d(y, warn=True)\n"
     ]
    },
    {
     "name": "stdout",
     "output_type": "stream",
     "text": [
      "Training until validation scores don't improve for 100 rounds.\n",
      "[100]\tvalid's auc: 0.761374\n",
      "[200]\tvalid's auc: 0.784803\n",
      "[300]\tvalid's auc: 0.795942\n",
      "[400]\tvalid's auc: 0.802316\n",
      "[500]\tvalid's auc: 0.805584\n",
      "[600]\tvalid's auc: 0.807618\n",
      "[700]\tvalid's auc: 0.809452\n",
      "[800]\tvalid's auc: 0.810601\n",
      "[900]\tvalid's auc: 0.811491\n",
      "[1000]\tvalid's auc: 0.812329\n",
      "[1100]\tvalid's auc: 0.813036\n",
      "[1200]\tvalid's auc: 0.813657\n",
      "[1300]\tvalid's auc: 0.814362\n",
      "[1400]\tvalid's auc: 0.814851\n",
      "[1500]\tvalid's auc: 0.815186\n",
      "Early stopping, best iteration is:\n",
      "[1490]\tvalid's auc: 0.815243\n"
     ]
    },
    {
     "name": "stderr",
     "output_type": "stream",
     "text": [
      "/home/wopr/.local/lib/python3.6/site-packages/sklearn/preprocessing/label.py:219: DataConversionWarning: A column-vector y was passed when a 1d array was expected. Please change the shape of y to (n_samples, ), for example using ravel().\n",
      "  y = column_or_1d(y, warn=True)\n",
      "/home/wopr/.local/lib/python3.6/site-packages/sklearn/preprocessing/label.py:252: DataConversionWarning: A column-vector y was passed when a 1d array was expected. Please change the shape of y to (n_samples, ), for example using ravel().\n",
      "  y = column_or_1d(y, warn=True)\n"
     ]
    },
    {
     "name": "stdout",
     "output_type": "stream",
     "text": [
      "Training until validation scores don't improve for 100 rounds.\n",
      "[100]\tvalid's auc: 0.758723\n",
      "[200]\tvalid's auc: 0.785177\n",
      "[300]\tvalid's auc: 0.795711\n",
      "[400]\tvalid's auc: 0.801802\n",
      "[500]\tvalid's auc: 0.805718\n",
      "[600]\tvalid's auc: 0.808063\n",
      "[700]\tvalid's auc: 0.81061\n",
      "[800]\tvalid's auc: 0.812024\n",
      "[900]\tvalid's auc: 0.81307\n",
      "[1000]\tvalid's auc: 0.813379\n",
      "[1100]\tvalid's auc: 0.813885\n",
      "[1200]\tvalid's auc: 0.814593\n",
      "[1300]\tvalid's auc: 0.815111\n",
      "[1400]\tvalid's auc: 0.815529\n",
      "[1500]\tvalid's auc: 0.816314\n",
      "[1600]\tvalid's auc: 0.816816\n",
      "[1700]\tvalid's auc: 0.816991\n",
      "[1800]\tvalid's auc: 0.817178\n",
      "[1900]\tvalid's auc: 0.817717\n",
      "[2000]\tvalid's auc: 0.817834\n",
      "[2100]\tvalid's auc: 0.818162\n",
      "[2200]\tvalid's auc: 0.818314\n",
      "[2300]\tvalid's auc: 0.818594\n",
      "[2400]\tvalid's auc: 0.818874\n",
      "Early stopping, best iteration is:\n",
      "[2390]\tvalid's auc: 0.818916\n"
     ]
    },
    {
     "name": "stderr",
     "output_type": "stream",
     "text": [
      "/home/wopr/.local/lib/python3.6/site-packages/sklearn/preprocessing/label.py:219: DataConversionWarning: A column-vector y was passed when a 1d array was expected. Please change the shape of y to (n_samples, ), for example using ravel().\n",
      "  y = column_or_1d(y, warn=True)\n",
      "/home/wopr/.local/lib/python3.6/site-packages/sklearn/preprocessing/label.py:252: DataConversionWarning: A column-vector y was passed when a 1d array was expected. Please change the shape of y to (n_samples, ), for example using ravel().\n",
      "  y = column_or_1d(y, warn=True)\n"
     ]
    },
    {
     "name": "stdout",
     "output_type": "stream",
     "text": [
      "Training until validation scores don't improve for 100 rounds.\n",
      "[100]\tvalid's auc: 0.5\n",
      "Early stopping, best iteration is:\n",
      "[1]\tvalid's auc: 0.5\n"
     ]
    },
    {
     "name": "stderr",
     "output_type": "stream",
     "text": [
      "/home/wopr/.local/lib/python3.6/site-packages/sklearn/preprocessing/label.py:219: DataConversionWarning: A column-vector y was passed when a 1d array was expected. Please change the shape of y to (n_samples, ), for example using ravel().\n",
      "  y = column_or_1d(y, warn=True)\n",
      "/home/wopr/.local/lib/python3.6/site-packages/sklearn/preprocessing/label.py:252: DataConversionWarning: A column-vector y was passed when a 1d array was expected. Please change the shape of y to (n_samples, ), for example using ravel().\n",
      "  y = column_or_1d(y, warn=True)\n"
     ]
    },
    {
     "name": "stdout",
     "output_type": "stream",
     "text": [
      "Training until validation scores don't improve for 100 rounds.\n",
      "[100]\tvalid's auc: 0.5\n",
      "Early stopping, best iteration is:\n",
      "[1]\tvalid's auc: 0.5\n"
     ]
    },
    {
     "name": "stderr",
     "output_type": "stream",
     "text": [
      "/home/wopr/.local/lib/python3.6/site-packages/sklearn/preprocessing/label.py:219: DataConversionWarning: A column-vector y was passed when a 1d array was expected. Please change the shape of y to (n_samples, ), for example using ravel().\n",
      "  y = column_or_1d(y, warn=True)\n",
      "/home/wopr/.local/lib/python3.6/site-packages/sklearn/preprocessing/label.py:252: DataConversionWarning: A column-vector y was passed when a 1d array was expected. Please change the shape of y to (n_samples, ), for example using ravel().\n",
      "  y = column_or_1d(y, warn=True)\n"
     ]
    },
    {
     "name": "stdout",
     "output_type": "stream",
     "text": [
      "Training until validation scores don't improve for 100 rounds.\n",
      "[100]\tvalid's auc: 0.5\n",
      "Early stopping, best iteration is:\n",
      "[1]\tvalid's auc: 0.5\n"
     ]
    },
    {
     "name": "stderr",
     "output_type": "stream",
     "text": [
      "/home/wopr/.local/lib/python3.6/site-packages/sklearn/preprocessing/label.py:219: DataConversionWarning: A column-vector y was passed when a 1d array was expected. Please change the shape of y to (n_samples, ), for example using ravel().\n",
      "  y = column_or_1d(y, warn=True)\n",
      "/home/wopr/.local/lib/python3.6/site-packages/sklearn/preprocessing/label.py:252: DataConversionWarning: A column-vector y was passed when a 1d array was expected. Please change the shape of y to (n_samples, ), for example using ravel().\n",
      "  y = column_or_1d(y, warn=True)\n"
     ]
    },
    {
     "name": "stdout",
     "output_type": "stream",
     "text": [
      "Training until validation scores don't improve for 100 rounds.\n",
      "[100]\tvalid's auc: 0.731199\n",
      "[200]\tvalid's auc: 0.76006\n",
      "[300]\tvalid's auc: 0.773646\n",
      "[400]\tvalid's auc: 0.783804\n",
      "[500]\tvalid's auc: 0.791224\n",
      "[600]\tvalid's auc: 0.796594\n",
      "[700]\tvalid's auc: 0.800064\n",
      "[800]\tvalid's auc: 0.803424\n",
      "[900]\tvalid's auc: 0.806064\n",
      "[1000]\tvalid's auc: 0.80772\n",
      "[1100]\tvalid's auc: 0.80924\n",
      "[1200]\tvalid's auc: 0.810708\n",
      "[1300]\tvalid's auc: 0.812181\n",
      "[1400]\tvalid's auc: 0.813332\n",
      "[1500]\tvalid's auc: 0.814016\n",
      "[1600]\tvalid's auc: 0.814778\n",
      "[1700]\tvalid's auc: 0.8153\n",
      "[1800]\tvalid's auc: 0.815998\n",
      "[1900]\tvalid's auc: 0.816273\n",
      "[2000]\tvalid's auc: 0.816786\n",
      "[2100]\tvalid's auc: 0.816636\n",
      "Early stopping, best iteration is:\n",
      "[2003]\tvalid's auc: 0.816857\n"
     ]
    },
    {
     "name": "stderr",
     "output_type": "stream",
     "text": [
      "/home/wopr/.local/lib/python3.6/site-packages/sklearn/preprocessing/label.py:219: DataConversionWarning: A column-vector y was passed when a 1d array was expected. Please change the shape of y to (n_samples, ), for example using ravel().\n",
      "  y = column_or_1d(y, warn=True)\n",
      "/home/wopr/.local/lib/python3.6/site-packages/sklearn/preprocessing/label.py:252: DataConversionWarning: A column-vector y was passed when a 1d array was expected. Please change the shape of y to (n_samples, ), for example using ravel().\n",
      "  y = column_or_1d(y, warn=True)\n"
     ]
    },
    {
     "name": "stdout",
     "output_type": "stream",
     "text": [
      "Training until validation scores don't improve for 100 rounds.\n",
      "[100]\tvalid's auc: 0.733496\n",
      "[200]\tvalid's auc: 0.761921\n",
      "[300]\tvalid's auc: 0.777088\n",
      "[400]\tvalid's auc: 0.785853\n",
      "[500]\tvalid's auc: 0.791861\n",
      "[600]\tvalid's auc: 0.797024\n",
      "[700]\tvalid's auc: 0.800297\n",
      "[800]\tvalid's auc: 0.802936\n",
      "[900]\tvalid's auc: 0.804774\n",
      "[1000]\tvalid's auc: 0.807335\n",
      "[1100]\tvalid's auc: 0.80881\n",
      "[1200]\tvalid's auc: 0.810176\n",
      "[1300]\tvalid's auc: 0.81142\n",
      "[1400]\tvalid's auc: 0.812183\n",
      "[1500]\tvalid's auc: 0.813263\n",
      "[1600]\tvalid's auc: 0.814213\n",
      "[1700]\tvalid's auc: 0.81504\n",
      "[1800]\tvalid's auc: 0.815216\n",
      "[1900]\tvalid's auc: 0.815513\n",
      "[2000]\tvalid's auc: 0.815831\n",
      "[2100]\tvalid's auc: 0.816074\n",
      "[2200]\tvalid's auc: 0.816276\n",
      "[2300]\tvalid's auc: 0.816534\n",
      "[2400]\tvalid's auc: 0.816517\n",
      "[2500]\tvalid's auc: 0.816614\n",
      "Early stopping, best iteration is:\n",
      "[2448]\tvalid's auc: 0.816735\n"
     ]
    },
    {
     "name": "stderr",
     "output_type": "stream",
     "text": [
      "/home/wopr/.local/lib/python3.6/site-packages/sklearn/preprocessing/label.py:219: DataConversionWarning: A column-vector y was passed when a 1d array was expected. Please change the shape of y to (n_samples, ), for example using ravel().\n",
      "  y = column_or_1d(y, warn=True)\n",
      "/home/wopr/.local/lib/python3.6/site-packages/sklearn/preprocessing/label.py:252: DataConversionWarning: A column-vector y was passed when a 1d array was expected. Please change the shape of y to (n_samples, ), for example using ravel().\n",
      "  y = column_or_1d(y, warn=True)\n"
     ]
    },
    {
     "name": "stdout",
     "output_type": "stream",
     "text": [
      "Training until validation scores don't improve for 100 rounds.\n",
      "[100]\tvalid's auc: 0.733997\n",
      "[200]\tvalid's auc: 0.759127\n",
      "[300]\tvalid's auc: 0.774859\n",
      "[400]\tvalid's auc: 0.784991\n",
      "[500]\tvalid's auc: 0.790473\n",
      "[600]\tvalid's auc: 0.795946\n",
      "[700]\tvalid's auc: 0.799648\n",
      "[800]\tvalid's auc: 0.802857\n",
      "[900]\tvalid's auc: 0.805441\n",
      "[1000]\tvalid's auc: 0.807255\n",
      "[1100]\tvalid's auc: 0.808854\n",
      "[1200]\tvalid's auc: 0.810502\n",
      "[1300]\tvalid's auc: 0.811509\n",
      "[1400]\tvalid's auc: 0.812184\n",
      "[1500]\tvalid's auc: 0.812594\n",
      "[1600]\tvalid's auc: 0.8137\n",
      "[1700]\tvalid's auc: 0.813947\n",
      "[1800]\tvalid's auc: 0.814791\n",
      "[1900]\tvalid's auc: 0.815337\n",
      "[2000]\tvalid's auc: 0.815737\n",
      "[2100]\tvalid's auc: 0.815932\n",
      "[2200]\tvalid's auc: 0.816142\n",
      "[2300]\tvalid's auc: 0.816236\n",
      "[2400]\tvalid's auc: 0.816661\n",
      "Early stopping, best iteration is:\n",
      "[2384]\tvalid's auc: 0.816809\n"
     ]
    },
    {
     "name": "stderr",
     "output_type": "stream",
     "text": [
      "/home/wopr/.local/lib/python3.6/site-packages/sklearn/preprocessing/label.py:219: DataConversionWarning: A column-vector y was passed when a 1d array was expected. Please change the shape of y to (n_samples, ), for example using ravel().\n",
      "  y = column_or_1d(y, warn=True)\n",
      "/home/wopr/.local/lib/python3.6/site-packages/sklearn/preprocessing/label.py:252: DataConversionWarning: A column-vector y was passed when a 1d array was expected. Please change the shape of y to (n_samples, ), for example using ravel().\n",
      "  y = column_or_1d(y, warn=True)\n"
     ]
    },
    {
     "name": "stdout",
     "output_type": "stream",
     "text": [
      "Training until validation scores don't improve for 100 rounds.\n",
      "[100]\tvalid's auc: 0.744962\n",
      "[200]\tvalid's auc: 0.772068\n",
      "[300]\tvalid's auc: 0.785024\n",
      "[400]\tvalid's auc: 0.792829\n",
      "[500]\tvalid's auc: 0.797053\n",
      "[600]\tvalid's auc: 0.799854\n",
      "[700]\tvalid's auc: 0.801784\n",
      "[800]\tvalid's auc: 0.803854\n",
      "[900]\tvalid's auc: 0.805382\n",
      "[1000]\tvalid's auc: 0.806581\n",
      "[1100]\tvalid's auc: 0.806855\n",
      "Early stopping, best iteration is:\n",
      "[1069]\tvalid's auc: 0.806855\n"
     ]
    },
    {
     "name": "stderr",
     "output_type": "stream",
     "text": [
      "/home/wopr/.local/lib/python3.6/site-packages/sklearn/preprocessing/label.py:219: DataConversionWarning: A column-vector y was passed when a 1d array was expected. Please change the shape of y to (n_samples, ), for example using ravel().\n",
      "  y = column_or_1d(y, warn=True)\n",
      "/home/wopr/.local/lib/python3.6/site-packages/sklearn/preprocessing/label.py:252: DataConversionWarning: A column-vector y was passed when a 1d array was expected. Please change the shape of y to (n_samples, ), for example using ravel().\n",
      "  y = column_or_1d(y, warn=True)\n"
     ]
    },
    {
     "name": "stdout",
     "output_type": "stream",
     "text": [
      "Training until validation scores don't improve for 100 rounds.\n",
      "[100]\tvalid's auc: 0.742254\n",
      "[200]\tvalid's auc: 0.767305\n",
      "[300]\tvalid's auc: 0.78145\n",
      "[400]\tvalid's auc: 0.789207\n",
      "[500]\tvalid's auc: 0.794396\n",
      "[600]\tvalid's auc: 0.797974\n",
      "[700]\tvalid's auc: 0.800474\n",
      "[800]\tvalid's auc: 0.802369\n",
      "[900]\tvalid's auc: 0.803679\n",
      "[1000]\tvalid's auc: 0.805024\n",
      "[1100]\tvalid's auc: 0.805653\n",
      "Early stopping, best iteration is:\n",
      "[1037]\tvalid's auc: 0.805668\n"
     ]
    },
    {
     "name": "stderr",
     "output_type": "stream",
     "text": [
      "/home/wopr/.local/lib/python3.6/site-packages/sklearn/preprocessing/label.py:219: DataConversionWarning: A column-vector y was passed when a 1d array was expected. Please change the shape of y to (n_samples, ), for example using ravel().\n",
      "  y = column_or_1d(y, warn=True)\n",
      "/home/wopr/.local/lib/python3.6/site-packages/sklearn/preprocessing/label.py:252: DataConversionWarning: A column-vector y was passed when a 1d array was expected. Please change the shape of y to (n_samples, ), for example using ravel().\n",
      "  y = column_or_1d(y, warn=True)\n"
     ]
    },
    {
     "name": "stdout",
     "output_type": "stream",
     "text": [
      "Training until validation scores don't improve for 100 rounds.\n",
      "[100]\tvalid's auc: 0.744462\n",
      "[200]\tvalid's auc: 0.770183\n",
      "[300]\tvalid's auc: 0.784515\n",
      "[400]\tvalid's auc: 0.791609\n",
      "[500]\tvalid's auc: 0.795634\n",
      "[600]\tvalid's auc: 0.798751\n",
      "[700]\tvalid's auc: 0.801644\n",
      "[800]\tvalid's auc: 0.803278\n",
      "[900]\tvalid's auc: 0.805204\n",
      "[1000]\tvalid's auc: 0.806505\n",
      "[1100]\tvalid's auc: 0.806939\n",
      "[1200]\tvalid's auc: 0.806939\n",
      "Early stopping, best iteration is:\n",
      "[1138]\tvalid's auc: 0.806939\n"
     ]
    },
    {
     "name": "stderr",
     "output_type": "stream",
     "text": [
      "/home/wopr/.local/lib/python3.6/site-packages/sklearn/preprocessing/label.py:219: DataConversionWarning: A column-vector y was passed when a 1d array was expected. Please change the shape of y to (n_samples, ), for example using ravel().\n",
      "  y = column_or_1d(y, warn=True)\n",
      "/home/wopr/.local/lib/python3.6/site-packages/sklearn/preprocessing/label.py:252: DataConversionWarning: A column-vector y was passed when a 1d array was expected. Please change the shape of y to (n_samples, ), for example using ravel().\n",
      "  y = column_or_1d(y, warn=True)\n"
     ]
    },
    {
     "name": "stdout",
     "output_type": "stream",
     "text": [
      "Training until validation scores don't improve for 100 rounds.\n",
      "[100]\tvalid's auc: 0.73822\n",
      "[200]\tvalid's auc: 0.766784\n",
      "[300]\tvalid's auc: 0.781602\n",
      "[400]\tvalid's auc: 0.789766\n",
      "[500]\tvalid's auc: 0.794481\n",
      "[600]\tvalid's auc: 0.797184\n",
      "[700]\tvalid's auc: 0.799024\n",
      "[800]\tvalid's auc: 0.7995\n",
      "[900]\tvalid's auc: 0.800852\n",
      "[1000]\tvalid's auc: 0.801845\n",
      "[1100]\tvalid's auc: 0.801822\n",
      "[1200]\tvalid's auc: 0.801841\n",
      "[1300]\tvalid's auc: 0.803081\n",
      "[1400]\tvalid's auc: 0.802916\n",
      "Early stopping, best iteration is:\n",
      "[1363]\tvalid's auc: 0.80341\n"
     ]
    },
    {
     "name": "stderr",
     "output_type": "stream",
     "text": [
      "/home/wopr/.local/lib/python3.6/site-packages/sklearn/preprocessing/label.py:219: DataConversionWarning: A column-vector y was passed when a 1d array was expected. Please change the shape of y to (n_samples, ), for example using ravel().\n",
      "  y = column_or_1d(y, warn=True)\n",
      "/home/wopr/.local/lib/python3.6/site-packages/sklearn/preprocessing/label.py:252: DataConversionWarning: A column-vector y was passed when a 1d array was expected. Please change the shape of y to (n_samples, ), for example using ravel().\n",
      "  y = column_or_1d(y, warn=True)\n"
     ]
    },
    {
     "name": "stdout",
     "output_type": "stream",
     "text": [
      "Training until validation scores don't improve for 100 rounds.\n",
      "[100]\tvalid's auc: 0.740248\n",
      "[200]\tvalid's auc: 0.766961\n",
      "[300]\tvalid's auc: 0.780609\n",
      "[400]\tvalid's auc: 0.790397\n",
      "[500]\tvalid's auc: 0.794466\n",
      "[600]\tvalid's auc: 0.797725\n",
      "[700]\tvalid's auc: 0.800066\n",
      "[800]\tvalid's auc: 0.80154\n",
      "[900]\tvalid's auc: 0.803121\n",
      "[1000]\tvalid's auc: 0.803981\n",
      "[1100]\tvalid's auc: 0.804409\n",
      "[1200]\tvalid's auc: 0.805012\n",
      "[1300]\tvalid's auc: 0.80539\n",
      "[1400]\tvalid's auc: 0.805648\n",
      "[1500]\tvalid's auc: 0.805886\n",
      "[1600]\tvalid's auc: 0.805979\n",
      "Early stopping, best iteration is:\n",
      "[1522]\tvalid's auc: 0.80621\n"
     ]
    },
    {
     "name": "stderr",
     "output_type": "stream",
     "text": [
      "/home/wopr/.local/lib/python3.6/site-packages/sklearn/preprocessing/label.py:219: DataConversionWarning: A column-vector y was passed when a 1d array was expected. Please change the shape of y to (n_samples, ), for example using ravel().\n",
      "  y = column_or_1d(y, warn=True)\n",
      "/home/wopr/.local/lib/python3.6/site-packages/sklearn/preprocessing/label.py:252: DataConversionWarning: A column-vector y was passed when a 1d array was expected. Please change the shape of y to (n_samples, ), for example using ravel().\n",
      "  y = column_or_1d(y, warn=True)\n"
     ]
    },
    {
     "name": "stdout",
     "output_type": "stream",
     "text": [
      "Training until validation scores don't improve for 100 rounds.\n",
      "[100]\tvalid's auc: 0.740585\n",
      "[200]\tvalid's auc: 0.770461\n",
      "[300]\tvalid's auc: 0.783394\n",
      "[400]\tvalid's auc: 0.791395\n",
      "[500]\tvalid's auc: 0.795886\n",
      "[600]\tvalid's auc: 0.798588\n",
      "[700]\tvalid's auc: 0.800855\n",
      "[800]\tvalid's auc: 0.802248\n",
      "[900]\tvalid's auc: 0.803356\n",
      "[1000]\tvalid's auc: 0.803663\n",
      "[1100]\tvalid's auc: 0.805011\n",
      "[1200]\tvalid's auc: 0.805852\n",
      "[1300]\tvalid's auc: 0.806003\n",
      "[1400]\tvalid's auc: 0.806253\n",
      "[1500]\tvalid's auc: 0.806684\n",
      "[1600]\tvalid's auc: 0.806359\n",
      "Early stopping, best iteration is:\n",
      "[1500]\tvalid's auc: 0.806684\n"
     ]
    },
    {
     "name": "stderr",
     "output_type": "stream",
     "text": [
      "/home/wopr/.local/lib/python3.6/site-packages/sklearn/preprocessing/label.py:219: DataConversionWarning: A column-vector y was passed when a 1d array was expected. Please change the shape of y to (n_samples, ), for example using ravel().\n",
      "  y = column_or_1d(y, warn=True)\n",
      "/home/wopr/.local/lib/python3.6/site-packages/sklearn/preprocessing/label.py:252: DataConversionWarning: A column-vector y was passed when a 1d array was expected. Please change the shape of y to (n_samples, ), for example using ravel().\n",
      "  y = column_or_1d(y, warn=True)\n"
     ]
    },
    {
     "name": "stdout",
     "output_type": "stream",
     "text": [
      "Training until validation scores don't improve for 100 rounds.\n",
      "[100]\tvalid's auc: 0.762415\n",
      "[200]\tvalid's auc: 0.785754\n",
      "[300]\tvalid's auc: 0.792576\n",
      "[400]\tvalid's auc: 0.795097\n",
      "[500]\tvalid's auc: 0.795638\n",
      "[600]\tvalid's auc: 0.797249\n",
      "[700]\tvalid's auc: 0.798325\n",
      "[800]\tvalid's auc: 0.80027\n",
      "[900]\tvalid's auc: 0.801609\n",
      "[1000]\tvalid's auc: 0.803403\n",
      "[1100]\tvalid's auc: 0.8046\n",
      "[1200]\tvalid's auc: 0.805466\n",
      "[1300]\tvalid's auc: 0.806711\n",
      "[1400]\tvalid's auc: 0.807942\n",
      "[1500]\tvalid's auc: 0.808513\n",
      "[1600]\tvalid's auc: 0.80939\n",
      "[1700]\tvalid's auc: 0.809717\n",
      "[1800]\tvalid's auc: 0.810476\n",
      "[1900]\tvalid's auc: 0.811153\n",
      "[2000]\tvalid's auc: 0.811396\n",
      "[2100]\tvalid's auc: 0.8116\n",
      "[2200]\tvalid's auc: 0.812091\n",
      "[2300]\tvalid's auc: 0.812443\n",
      "[2400]\tvalid's auc: 0.812806\n",
      "[2500]\tvalid's auc: 0.813126\n",
      "[2600]\tvalid's auc: 0.813309\n",
      "[2700]\tvalid's auc: 0.813569\n",
      "[2800]\tvalid's auc: 0.813678\n",
      "[2900]\tvalid's auc: 0.813722\n",
      "[3000]\tvalid's auc: 0.813839\n",
      "[3100]\tvalid's auc: 0.81383\n",
      "Early stopping, best iteration is:\n",
      "[3010]\tvalid's auc: 0.813882\n"
     ]
    },
    {
     "name": "stderr",
     "output_type": "stream",
     "text": [
      "/home/wopr/.local/lib/python3.6/site-packages/sklearn/preprocessing/label.py:219: DataConversionWarning: A column-vector y was passed when a 1d array was expected. Please change the shape of y to (n_samples, ), for example using ravel().\n",
      "  y = column_or_1d(y, warn=True)\n",
      "/home/wopr/.local/lib/python3.6/site-packages/sklearn/preprocessing/label.py:252: DataConversionWarning: A column-vector y was passed when a 1d array was expected. Please change the shape of y to (n_samples, ), for example using ravel().\n",
      "  y = column_or_1d(y, warn=True)\n"
     ]
    },
    {
     "name": "stdout",
     "output_type": "stream",
     "text": [
      "Training until validation scores don't improve for 100 rounds.\n",
      "[100]\tvalid's auc: 0.764087\n",
      "[200]\tvalid's auc: 0.782868\n",
      "[300]\tvalid's auc: 0.791682\n",
      "[400]\tvalid's auc: 0.79435\n",
      "[500]\tvalid's auc: 0.797652\n",
      "[600]\tvalid's auc: 0.799108\n",
      "[700]\tvalid's auc: 0.800973\n",
      "[800]\tvalid's auc: 0.801998\n",
      "[900]\tvalid's auc: 0.803342\n",
      "[1000]\tvalid's auc: 0.804781\n",
      "[1100]\tvalid's auc: 0.805853\n",
      "[1200]\tvalid's auc: 0.806993\n",
      "[1300]\tvalid's auc: 0.807925\n",
      "[1400]\tvalid's auc: 0.808246\n",
      "[1500]\tvalid's auc: 0.809247\n",
      "[1600]\tvalid's auc: 0.810557\n",
      "[1700]\tvalid's auc: 0.811117\n",
      "[1800]\tvalid's auc: 0.811591\n",
      "[1900]\tvalid's auc: 0.811787\n",
      "[2000]\tvalid's auc: 0.812372\n",
      "[2100]\tvalid's auc: 0.812737\n",
      "[2200]\tvalid's auc: 0.81263\n",
      "Early stopping, best iteration is:\n",
      "[2140]\tvalid's auc: 0.812815\n"
     ]
    },
    {
     "name": "stderr",
     "output_type": "stream",
     "text": [
      "/home/wopr/.local/lib/python3.6/site-packages/sklearn/preprocessing/label.py:219: DataConversionWarning: A column-vector y was passed when a 1d array was expected. Please change the shape of y to (n_samples, ), for example using ravel().\n",
      "  y = column_or_1d(y, warn=True)\n",
      "/home/wopr/.local/lib/python3.6/site-packages/sklearn/preprocessing/label.py:252: DataConversionWarning: A column-vector y was passed when a 1d array was expected. Please change the shape of y to (n_samples, ), for example using ravel().\n",
      "  y = column_or_1d(y, warn=True)\n"
     ]
    },
    {
     "name": "stdout",
     "output_type": "stream",
     "text": [
      "Training until validation scores don't improve for 100 rounds.\n",
      "[100]\tvalid's auc: 0.757585\n",
      "[200]\tvalid's auc: 0.781467\n",
      "[300]\tvalid's auc: 0.792349\n",
      "[400]\tvalid's auc: 0.797114\n",
      "[500]\tvalid's auc: 0.798766\n",
      "[600]\tvalid's auc: 0.799917\n",
      "[700]\tvalid's auc: 0.801238\n",
      "[800]\tvalid's auc: 0.802438\n",
      "[900]\tvalid's auc: 0.803516\n",
      "[1000]\tvalid's auc: 0.805302\n",
      "[1100]\tvalid's auc: 0.806029\n",
      "[1200]\tvalid's auc: 0.807307\n",
      "[1300]\tvalid's auc: 0.808853\n",
      "[1400]\tvalid's auc: 0.809824\n",
      "[1500]\tvalid's auc: 0.810616\n",
      "[1600]\tvalid's auc: 0.811286\n",
      "[1700]\tvalid's auc: 0.811707\n",
      "[1800]\tvalid's auc: 0.812409\n",
      "[1900]\tvalid's auc: 0.812894\n",
      "[2000]\tvalid's auc: 0.812957\n",
      "[2100]\tvalid's auc: 0.813365\n",
      "[2200]\tvalid's auc: 0.813462\n",
      "[2300]\tvalid's auc: 0.813783\n",
      "[2400]\tvalid's auc: 0.814038\n",
      "[2500]\tvalid's auc: 0.814159\n",
      "[2600]\tvalid's auc: 0.814358\n",
      "[2700]\tvalid's auc: 0.814607\n",
      "[2800]\tvalid's auc: 0.814773\n",
      "[2900]\tvalid's auc: 0.814935\n",
      "[3000]\tvalid's auc: 0.815093\n",
      "[3100]\tvalid's auc: 0.8152\n",
      "[3200]\tvalid's auc: 0.8155\n",
      "[3300]\tvalid's auc: 0.815633\n",
      "[3400]\tvalid's auc: 0.815726\n",
      "[3500]\tvalid's auc: 0.815832\n",
      "[3600]\tvalid's auc: 0.815953\n",
      "Early stopping, best iteration is:\n",
      "[3577]\tvalid's auc: 0.815991\n"
     ]
    },
    {
     "name": "stderr",
     "output_type": "stream",
     "text": [
      "/home/wopr/.local/lib/python3.6/site-packages/sklearn/preprocessing/label.py:219: DataConversionWarning: A column-vector y was passed when a 1d array was expected. Please change the shape of y to (n_samples, ), for example using ravel().\n",
      "  y = column_or_1d(y, warn=True)\n",
      "/home/wopr/.local/lib/python3.6/site-packages/sklearn/preprocessing/label.py:252: DataConversionWarning: A column-vector y was passed when a 1d array was expected. Please change the shape of y to (n_samples, ), for example using ravel().\n",
      "  y = column_or_1d(y, warn=True)\n"
     ]
    },
    {
     "name": "stdout",
     "output_type": "stream",
     "text": [
      "Training until validation scores don't improve for 100 rounds.\n",
      "[100]\tvalid's auc: 0.759278\n",
      "[200]\tvalid's auc: 0.784903\n",
      "[300]\tvalid's auc: 0.795347\n",
      "[400]\tvalid's auc: 0.801704\n",
      "[500]\tvalid's auc: 0.804357\n",
      "[600]\tvalid's auc: 0.805472\n",
      "[700]\tvalid's auc: 0.806818\n",
      "[800]\tvalid's auc: 0.807633\n",
      "[900]\tvalid's auc: 0.809049\n",
      "[1000]\tvalid's auc: 0.810036\n",
      "[1100]\tvalid's auc: 0.810573\n",
      "[1200]\tvalid's auc: 0.81069\n",
      "[1300]\tvalid's auc: 0.811787\n",
      "[1400]\tvalid's auc: 0.811946\n",
      "[1500]\tvalid's auc: 0.812246\n",
      "[1600]\tvalid's auc: 0.813241\n",
      "[1700]\tvalid's auc: 0.814012\n",
      "[1800]\tvalid's auc: 0.81426\n",
      "[1900]\tvalid's auc: 0.814707\n",
      "[2000]\tvalid's auc: 0.815405\n",
      "[2100]\tvalid's auc: 0.815738\n",
      "[2200]\tvalid's auc: 0.816255\n",
      "[2300]\tvalid's auc: 0.816335\n",
      "[2400]\tvalid's auc: 0.816661\n",
      "[2500]\tvalid's auc: 0.816986\n",
      "[2600]\tvalid's auc: 0.817538\n",
      "[2700]\tvalid's auc: 0.817747\n",
      "[2800]\tvalid's auc: 0.818169\n",
      "[2900]\tvalid's auc: 0.818429\n",
      "[3000]\tvalid's auc: 0.818983\n",
      "[3100]\tvalid's auc: 0.819318\n",
      "[3200]\tvalid's auc: 0.819586\n",
      "[3300]\tvalid's auc: 0.819825\n",
      "[3400]\tvalid's auc: 0.819901\n",
      "[3500]\tvalid's auc: 0.820085\n",
      "[3600]\tvalid's auc: 0.820307\n",
      "[3700]\tvalid's auc: 0.820318\n",
      "[3800]\tvalid's auc: 0.820576\n",
      "[3900]\tvalid's auc: 0.820637\n",
      "[4000]\tvalid's auc: 0.820721\n",
      "[4100]\tvalid's auc: 0.820946\n",
      "[4200]\tvalid's auc: 0.82095\n",
      "Early stopping, best iteration is:\n",
      "[4110]\tvalid's auc: 0.820966\n"
     ]
    },
    {
     "name": "stderr",
     "output_type": "stream",
     "text": [
      "/home/wopr/.local/lib/python3.6/site-packages/sklearn/preprocessing/label.py:219: DataConversionWarning: A column-vector y was passed when a 1d array was expected. Please change the shape of y to (n_samples, ), for example using ravel().\n",
      "  y = column_or_1d(y, warn=True)\n",
      "/home/wopr/.local/lib/python3.6/site-packages/sklearn/preprocessing/label.py:252: DataConversionWarning: A column-vector y was passed when a 1d array was expected. Please change the shape of y to (n_samples, ), for example using ravel().\n",
      "  y = column_or_1d(y, warn=True)\n"
     ]
    },
    {
     "name": "stdout",
     "output_type": "stream",
     "text": [
      "Training until validation scores don't improve for 100 rounds.\n",
      "[100]\tvalid's auc: 0.75773\n",
      "[200]\tvalid's auc: 0.78271\n",
      "[300]\tvalid's auc: 0.792961\n",
      "[400]\tvalid's auc: 0.799131\n",
      "[500]\tvalid's auc: 0.802048\n",
      "[600]\tvalid's auc: 0.803809\n",
      "[700]\tvalid's auc: 0.804667\n",
      "[800]\tvalid's auc: 0.806211\n",
      "[900]\tvalid's auc: 0.807062\n",
      "[1000]\tvalid's auc: 0.808355\n",
      "[1100]\tvalid's auc: 0.808224\n",
      "Early stopping, best iteration is:\n",
      "[1007]\tvalid's auc: 0.808532\n"
     ]
    },
    {
     "name": "stderr",
     "output_type": "stream",
     "text": [
      "/home/wopr/.local/lib/python3.6/site-packages/sklearn/preprocessing/label.py:219: DataConversionWarning: A column-vector y was passed when a 1d array was expected. Please change the shape of y to (n_samples, ), for example using ravel().\n",
      "  y = column_or_1d(y, warn=True)\n",
      "/home/wopr/.local/lib/python3.6/site-packages/sklearn/preprocessing/label.py:252: DataConversionWarning: A column-vector y was passed when a 1d array was expected. Please change the shape of y to (n_samples, ), for example using ravel().\n",
      "  y = column_or_1d(y, warn=True)\n"
     ]
    },
    {
     "name": "stdout",
     "output_type": "stream",
     "text": [
      "Training until validation scores don't improve for 100 rounds.\n",
      "[100]\tvalid's auc: 0.759189\n",
      "[200]\tvalid's auc: 0.781333\n",
      "[300]\tvalid's auc: 0.791859\n",
      "[400]\tvalid's auc: 0.798235\n",
      "[500]\tvalid's auc: 0.800145\n",
      "[600]\tvalid's auc: 0.801967\n",
      "[700]\tvalid's auc: 0.80333\n",
      "[800]\tvalid's auc: 0.804735\n",
      "[900]\tvalid's auc: 0.805892\n",
      "[1000]\tvalid's auc: 0.806904\n",
      "[1100]\tvalid's auc: 0.807611\n",
      "[1200]\tvalid's auc: 0.809359\n",
      "[1300]\tvalid's auc: 0.810328\n",
      "[1400]\tvalid's auc: 0.810706\n",
      "[1500]\tvalid's auc: 0.810989\n",
      "[1600]\tvalid's auc: 0.811637\n",
      "[1700]\tvalid's auc: 0.812173\n",
      "[1800]\tvalid's auc: 0.81298\n",
      "[1900]\tvalid's auc: 0.813413\n",
      "[2000]\tvalid's auc: 0.814284\n",
      "[2100]\tvalid's auc: 0.814674\n",
      "[2200]\tvalid's auc: 0.81531\n",
      "[2300]\tvalid's auc: 0.815554\n",
      "[2400]\tvalid's auc: 0.815869\n",
      "[2500]\tvalid's auc: 0.816086\n",
      "[2600]\tvalid's auc: 0.816277\n",
      "Early stopping, best iteration is:\n",
      "[2530]\tvalid's auc: 0.816409\n"
     ]
    },
    {
     "name": "stderr",
     "output_type": "stream",
     "text": [
      "/home/wopr/.local/lib/python3.6/site-packages/sklearn/preprocessing/label.py:219: DataConversionWarning: A column-vector y was passed when a 1d array was expected. Please change the shape of y to (n_samples, ), for example using ravel().\n",
      "  y = column_or_1d(y, warn=True)\n",
      "/home/wopr/.local/lib/python3.6/site-packages/sklearn/preprocessing/label.py:252: DataConversionWarning: A column-vector y was passed when a 1d array was expected. Please change the shape of y to (n_samples, ), for example using ravel().\n",
      "  y = column_or_1d(y, warn=True)\n"
     ]
    },
    {
     "name": "stdout",
     "output_type": "stream",
     "text": [
      "Training until validation scores don't improve for 100 rounds.\n",
      "[100]\tvalid's auc: 0.743881\n",
      "[200]\tvalid's auc: 0.773424\n",
      "[300]\tvalid's auc: 0.787087\n",
      "[400]\tvalid's auc: 0.794456\n",
      "[500]\tvalid's auc: 0.798577\n",
      "[600]\tvalid's auc: 0.801684\n",
      "[700]\tvalid's auc: 0.80238\n",
      "[800]\tvalid's auc: 0.802981\n",
      "[900]\tvalid's auc: 0.803148\n",
      "[1000]\tvalid's auc: 0.803863\n",
      "[1100]\tvalid's auc: 0.804461\n",
      "[1200]\tvalid's auc: 0.804332\n",
      "Early stopping, best iteration is:\n",
      "[1133]\tvalid's auc: 0.804789\n"
     ]
    },
    {
     "name": "stderr",
     "output_type": "stream",
     "text": [
      "/home/wopr/.local/lib/python3.6/site-packages/sklearn/preprocessing/label.py:219: DataConversionWarning: A column-vector y was passed when a 1d array was expected. Please change the shape of y to (n_samples, ), for example using ravel().\n",
      "  y = column_or_1d(y, warn=True)\n",
      "/home/wopr/.local/lib/python3.6/site-packages/sklearn/preprocessing/label.py:252: DataConversionWarning: A column-vector y was passed when a 1d array was expected. Please change the shape of y to (n_samples, ), for example using ravel().\n",
      "  y = column_or_1d(y, warn=True)\n"
     ]
    },
    {
     "name": "stdout",
     "output_type": "stream",
     "text": [
      "Training until validation scores don't improve for 100 rounds.\n",
      "[100]\tvalid's auc: 0.744019\n",
      "[200]\tvalid's auc: 0.771207\n",
      "[300]\tvalid's auc: 0.784807\n",
      "[400]\tvalid's auc: 0.792388\n",
      "[500]\tvalid's auc: 0.797449\n",
      "[600]\tvalid's auc: 0.800305\n",
      "[700]\tvalid's auc: 0.801329\n",
      "[800]\tvalid's auc: 0.80266\n",
      "[900]\tvalid's auc: 0.803045\n",
      "Early stopping, best iteration is:\n",
      "[853]\tvalid's auc: 0.80326\n"
     ]
    },
    {
     "name": "stderr",
     "output_type": "stream",
     "text": [
      "/home/wopr/.local/lib/python3.6/site-packages/sklearn/preprocessing/label.py:219: DataConversionWarning: A column-vector y was passed when a 1d array was expected. Please change the shape of y to (n_samples, ), for example using ravel().\n",
      "  y = column_or_1d(y, warn=True)\n",
      "/home/wopr/.local/lib/python3.6/site-packages/sklearn/preprocessing/label.py:252: DataConversionWarning: A column-vector y was passed when a 1d array was expected. Please change the shape of y to (n_samples, ), for example using ravel().\n",
      "  y = column_or_1d(y, warn=True)\n"
     ]
    },
    {
     "name": "stdout",
     "output_type": "stream",
     "text": [
      "Training until validation scores don't improve for 100 rounds.\n",
      "[100]\tvalid's auc: 0.744257\n",
      "[200]\tvalid's auc: 0.772731\n",
      "[300]\tvalid's auc: 0.786378\n",
      "[400]\tvalid's auc: 0.794411\n",
      "[500]\tvalid's auc: 0.798765\n",
      "[600]\tvalid's auc: 0.800168\n",
      "[700]\tvalid's auc: 0.801928\n",
      "[800]\tvalid's auc: 0.803379\n",
      "[900]\tvalid's auc: 0.804357\n",
      "[1000]\tvalid's auc: 0.804954\n",
      "[1100]\tvalid's auc: 0.805803\n",
      "[1200]\tvalid's auc: 0.805841\n",
      "Early stopping, best iteration is:\n",
      "[1175]\tvalid's auc: 0.806054\n"
     ]
    },
    {
     "name": "stderr",
     "output_type": "stream",
     "text": [
      "/home/wopr/.local/lib/python3.6/site-packages/sklearn/preprocessing/label.py:219: DataConversionWarning: A column-vector y was passed when a 1d array was expected. Please change the shape of y to (n_samples, ), for example using ravel().\n",
      "  y = column_or_1d(y, warn=True)\n",
      "/home/wopr/.local/lib/python3.6/site-packages/sklearn/preprocessing/label.py:252: DataConversionWarning: A column-vector y was passed when a 1d array was expected. Please change the shape of y to (n_samples, ), for example using ravel().\n",
      "  y = column_or_1d(y, warn=True)\n"
     ]
    },
    {
     "name": "stdout",
     "output_type": "stream",
     "text": [
      "Training until validation scores don't improve for 100 rounds.\n",
      "[100]\tvalid's auc: 0.755521\n",
      "[200]\tvalid's auc: 0.782485\n",
      "[300]\tvalid's auc: 0.792642\n",
      "[400]\tvalid's auc: 0.798933\n",
      "[500]\tvalid's auc: 0.801058\n",
      "[600]\tvalid's auc: 0.801697\n",
      "[700]\tvalid's auc: 0.802613\n",
      "[800]\tvalid's auc: 0.802859\n",
      "Early stopping, best iteration is:\n",
      "[711]\tvalid's auc: 0.803023\n"
     ]
    },
    {
     "name": "stderr",
     "output_type": "stream",
     "text": [
      "/home/wopr/.local/lib/python3.6/site-packages/sklearn/preprocessing/label.py:219: DataConversionWarning: A column-vector y was passed when a 1d array was expected. Please change the shape of y to (n_samples, ), for example using ravel().\n",
      "  y = column_or_1d(y, warn=True)\n",
      "/home/wopr/.local/lib/python3.6/site-packages/sklearn/preprocessing/label.py:252: DataConversionWarning: A column-vector y was passed when a 1d array was expected. Please change the shape of y to (n_samples, ), for example using ravel().\n",
      "  y = column_or_1d(y, warn=True)\n"
     ]
    },
    {
     "name": "stdout",
     "output_type": "stream",
     "text": [
      "Training until validation scores don't improve for 100 rounds.\n",
      "[100]\tvalid's auc: 0.752186\n",
      "[200]\tvalid's auc: 0.776093\n",
      "[300]\tvalid's auc: 0.787437\n",
      "[400]\tvalid's auc: 0.795625\n",
      "[500]\tvalid's auc: 0.798437\n",
      "[600]\tvalid's auc: 0.799883\n",
      "[700]\tvalid's auc: 0.801652\n",
      "[800]\tvalid's auc: 0.802583\n",
      "[900]\tvalid's auc: 0.8033\n",
      "[1000]\tvalid's auc: 0.803966\n",
      "Early stopping, best iteration is:\n",
      "[988]\tvalid's auc: 0.804128\n"
     ]
    },
    {
     "name": "stderr",
     "output_type": "stream",
     "text": [
      "/home/wopr/.local/lib/python3.6/site-packages/sklearn/preprocessing/label.py:219: DataConversionWarning: A column-vector y was passed when a 1d array was expected. Please change the shape of y to (n_samples, ), for example using ravel().\n",
      "  y = column_or_1d(y, warn=True)\n",
      "/home/wopr/.local/lib/python3.6/site-packages/sklearn/preprocessing/label.py:252: DataConversionWarning: A column-vector y was passed when a 1d array was expected. Please change the shape of y to (n_samples, ), for example using ravel().\n",
      "  y = column_or_1d(y, warn=True)\n"
     ]
    },
    {
     "name": "stdout",
     "output_type": "stream",
     "text": [
      "Training until validation scores don't improve for 100 rounds.\n",
      "[100]\tvalid's auc: 0.754921\n",
      "[200]\tvalid's auc: 0.779367\n",
      "[300]\tvalid's auc: 0.793053\n",
      "[400]\tvalid's auc: 0.799309\n",
      "[500]\tvalid's auc: 0.801903\n",
      "[600]\tvalid's auc: 0.80203\n",
      "Early stopping, best iteration is:\n",
      "[559]\tvalid's auc: 0.802751\n"
     ]
    },
    {
     "name": "stderr",
     "output_type": "stream",
     "text": [
      "/home/wopr/.local/lib/python3.6/site-packages/sklearn/preprocessing/label.py:219: DataConversionWarning: A column-vector y was passed when a 1d array was expected. Please change the shape of y to (n_samples, ), for example using ravel().\n",
      "  y = column_or_1d(y, warn=True)\n",
      "/home/wopr/.local/lib/python3.6/site-packages/sklearn/preprocessing/label.py:252: DataConversionWarning: A column-vector y was passed when a 1d array was expected. Please change the shape of y to (n_samples, ), for example using ravel().\n",
      "  y = column_or_1d(y, warn=True)\n"
     ]
    },
    {
     "name": "stdout",
     "output_type": "stream",
     "text": [
      "Training until validation scores don't improve for 100 rounds.\n",
      "[100]\tvalid's auc: 0.765581\n",
      "[200]\tvalid's auc: 0.788\n",
      "[300]\tvalid's auc: 0.797882\n",
      "[400]\tvalid's auc: 0.803172\n",
      "[500]\tvalid's auc: 0.806738\n",
      "[600]\tvalid's auc: 0.809586\n",
      "[700]\tvalid's auc: 0.811027\n",
      "[800]\tvalid's auc: 0.811718\n",
      "[900]\tvalid's auc: 0.812241\n",
      "[1000]\tvalid's auc: 0.812821\n",
      "[1100]\tvalid's auc: 0.813367\n",
      "[1200]\tvalid's auc: 0.814134\n",
      "[1300]\tvalid's auc: 0.814828\n",
      "[1400]\tvalid's auc: 0.815187\n",
      "[1500]\tvalid's auc: 0.815428\n",
      "[1600]\tvalid's auc: 0.816185\n",
      "Early stopping, best iteration is:\n",
      "[1592]\tvalid's auc: 0.816249\n"
     ]
    },
    {
     "name": "stderr",
     "output_type": "stream",
     "text": [
      "/home/wopr/.local/lib/python3.6/site-packages/sklearn/preprocessing/label.py:219: DataConversionWarning: A column-vector y was passed when a 1d array was expected. Please change the shape of y to (n_samples, ), for example using ravel().\n",
      "  y = column_or_1d(y, warn=True)\n",
      "/home/wopr/.local/lib/python3.6/site-packages/sklearn/preprocessing/label.py:252: DataConversionWarning: A column-vector y was passed when a 1d array was expected. Please change the shape of y to (n_samples, ), for example using ravel().\n",
      "  y = column_or_1d(y, warn=True)\n"
     ]
    },
    {
     "name": "stdout",
     "output_type": "stream",
     "text": [
      "Training until validation scores don't improve for 100 rounds.\n",
      "[100]\tvalid's auc: 0.762213\n",
      "[200]\tvalid's auc: 0.785437\n",
      "[300]\tvalid's auc: 0.79433\n",
      "[400]\tvalid's auc: 0.799653\n",
      "[500]\tvalid's auc: 0.802437\n",
      "[600]\tvalid's auc: 0.805085\n",
      "[700]\tvalid's auc: 0.806539\n",
      "[800]\tvalid's auc: 0.808619\n",
      "[900]\tvalid's auc: 0.809775\n",
      "[1000]\tvalid's auc: 0.80992\n",
      "[1100]\tvalid's auc: 0.810408\n",
      "[1200]\tvalid's auc: 0.811336\n",
      "[1300]\tvalid's auc: 0.812037\n",
      "[1400]\tvalid's auc: 0.81211\n",
      "[1500]\tvalid's auc: 0.81285\n",
      "[1600]\tvalid's auc: 0.812998\n",
      "[1700]\tvalid's auc: 0.813303\n",
      "[1800]\tvalid's auc: 0.813698\n",
      "[1900]\tvalid's auc: 0.814093\n",
      "[2000]\tvalid's auc: 0.814284\n",
      "[2100]\tvalid's auc: 0.814565\n",
      "[2200]\tvalid's auc: 0.814959\n",
      "[2300]\tvalid's auc: 0.814988\n",
      "Early stopping, best iteration is:\n",
      "[2216]\tvalid's auc: 0.815028\n"
     ]
    },
    {
     "name": "stderr",
     "output_type": "stream",
     "text": [
      "/home/wopr/.local/lib/python3.6/site-packages/sklearn/preprocessing/label.py:219: DataConversionWarning: A column-vector y was passed when a 1d array was expected. Please change the shape of y to (n_samples, ), for example using ravel().\n",
      "  y = column_or_1d(y, warn=True)\n",
      "/home/wopr/.local/lib/python3.6/site-packages/sklearn/preprocessing/label.py:252: DataConversionWarning: A column-vector y was passed when a 1d array was expected. Please change the shape of y to (n_samples, ), for example using ravel().\n",
      "  y = column_or_1d(y, warn=True)\n"
     ]
    },
    {
     "name": "stdout",
     "output_type": "stream",
     "text": [
      "Training until validation scores don't improve for 100 rounds.\n",
      "[100]\tvalid's auc: 0.759475\n",
      "[200]\tvalid's auc: 0.782423\n",
      "[300]\tvalid's auc: 0.793654\n",
      "[400]\tvalid's auc: 0.799179\n",
      "[500]\tvalid's auc: 0.802207\n",
      "[600]\tvalid's auc: 0.80476\n",
      "[700]\tvalid's auc: 0.8067\n",
      "[800]\tvalid's auc: 0.808093\n",
      "[900]\tvalid's auc: 0.809672\n",
      "[1000]\tvalid's auc: 0.810353\n",
      "[1100]\tvalid's auc: 0.81145\n",
      "[1200]\tvalid's auc: 0.81197\n",
      "[1300]\tvalid's auc: 0.812694\n",
      "[1400]\tvalid's auc: 0.81343\n",
      "[1500]\tvalid's auc: 0.814008\n",
      "[1600]\tvalid's auc: 0.814505\n",
      "[1700]\tvalid's auc: 0.815046\n",
      "[1800]\tvalid's auc: 0.815633\n",
      "[1900]\tvalid's auc: 0.816283\n",
      "[2000]\tvalid's auc: 0.816569\n",
      "[2100]\tvalid's auc: 0.816698\n",
      "Early stopping, best iteration is:\n",
      "[2070]\tvalid's auc: 0.816733\n"
     ]
    },
    {
     "name": "stderr",
     "output_type": "stream",
     "text": [
      "/home/wopr/.local/lib/python3.6/site-packages/sklearn/preprocessing/label.py:219: DataConversionWarning: A column-vector y was passed when a 1d array was expected. Please change the shape of y to (n_samples, ), for example using ravel().\n",
      "  y = column_or_1d(y, warn=True)\n",
      "/home/wopr/.local/lib/python3.6/site-packages/sklearn/preprocessing/label.py:252: DataConversionWarning: A column-vector y was passed when a 1d array was expected. Please change the shape of y to (n_samples, ), for example using ravel().\n",
      "  y = column_or_1d(y, warn=True)\n"
     ]
    },
    {
     "name": "stdout",
     "output_type": "stream",
     "text": [
      "Training until validation scores don't improve for 100 rounds.\n",
      "[100]\tvalid's auc: 0.757493\n",
      "[200]\tvalid's auc: 0.784201\n",
      "[300]\tvalid's auc: 0.794256\n",
      "[400]\tvalid's auc: 0.800404\n",
      "[500]\tvalid's auc: 0.803621\n",
      "[600]\tvalid's auc: 0.806812\n",
      "[700]\tvalid's auc: 0.80817\n",
      "[800]\tvalid's auc: 0.809534\n",
      "[900]\tvalid's auc: 0.810941\n",
      "[1000]\tvalid's auc: 0.811812\n",
      "[1100]\tvalid's auc: 0.811999\n",
      "[1200]\tvalid's auc: 0.812689\n",
      "[1300]\tvalid's auc: 0.813122\n",
      "[1400]\tvalid's auc: 0.81367\n",
      "[1500]\tvalid's auc: 0.81425\n",
      "[1600]\tvalid's auc: 0.814748\n",
      "[1700]\tvalid's auc: 0.814958\n",
      "[1800]\tvalid's auc: 0.815538\n",
      "[1900]\tvalid's auc: 0.815857\n",
      "[2000]\tvalid's auc: 0.816197\n",
      "[2100]\tvalid's auc: 0.816449\n",
      "Early stopping, best iteration is:\n",
      "[2073]\tvalid's auc: 0.816536\n"
     ]
    },
    {
     "name": "stderr",
     "output_type": "stream",
     "text": [
      "/home/wopr/.local/lib/python3.6/site-packages/sklearn/preprocessing/label.py:219: DataConversionWarning: A column-vector y was passed when a 1d array was expected. Please change the shape of y to (n_samples, ), for example using ravel().\n",
      "  y = column_or_1d(y, warn=True)\n",
      "/home/wopr/.local/lib/python3.6/site-packages/sklearn/preprocessing/label.py:252: DataConversionWarning: A column-vector y was passed when a 1d array was expected. Please change the shape of y to (n_samples, ), for example using ravel().\n",
      "  y = column_or_1d(y, warn=True)\n"
     ]
    },
    {
     "name": "stdout",
     "output_type": "stream",
     "text": [
      "Training until validation scores don't improve for 100 rounds.\n",
      "[100]\tvalid's auc: 0.761057\n",
      "[200]\tvalid's auc: 0.787292\n",
      "[300]\tvalid's auc: 0.797745\n",
      "[400]\tvalid's auc: 0.802076\n",
      "[500]\tvalid's auc: 0.806065\n",
      "[600]\tvalid's auc: 0.807345\n",
      "[700]\tvalid's auc: 0.808638\n",
      "[800]\tvalid's auc: 0.809749\n",
      "[900]\tvalid's auc: 0.810407\n",
      "[1000]\tvalid's auc: 0.811266\n",
      "[1100]\tvalid's auc: 0.811251\n",
      "Early stopping, best iteration is:\n",
      "[1033]\tvalid's auc: 0.811549\n"
     ]
    },
    {
     "name": "stderr",
     "output_type": "stream",
     "text": [
      "/home/wopr/.local/lib/python3.6/site-packages/sklearn/preprocessing/label.py:219: DataConversionWarning: A column-vector y was passed when a 1d array was expected. Please change the shape of y to (n_samples, ), for example using ravel().\n",
      "  y = column_or_1d(y, warn=True)\n",
      "/home/wopr/.local/lib/python3.6/site-packages/sklearn/preprocessing/label.py:252: DataConversionWarning: A column-vector y was passed when a 1d array was expected. Please change the shape of y to (n_samples, ), for example using ravel().\n",
      "  y = column_or_1d(y, warn=True)\n"
     ]
    },
    {
     "name": "stdout",
     "output_type": "stream",
     "text": [
      "Training until validation scores don't improve for 100 rounds.\n",
      "[100]\tvalid's auc: 0.758367\n",
      "[200]\tvalid's auc: 0.784065\n",
      "[300]\tvalid's auc: 0.795952\n",
      "[400]\tvalid's auc: 0.80092\n",
      "[500]\tvalid's auc: 0.80428\n",
      "[600]\tvalid's auc: 0.805298\n",
      "[700]\tvalid's auc: 0.806768\n",
      "[800]\tvalid's auc: 0.807608\n",
      "[900]\tvalid's auc: 0.808584\n",
      "[1000]\tvalid's auc: 0.809681\n",
      "[1100]\tvalid's auc: 0.810747\n",
      "[1200]\tvalid's auc: 0.8113\n",
      "[1300]\tvalid's auc: 0.812411\n",
      "[1400]\tvalid's auc: 0.812647\n",
      "[1500]\tvalid's auc: 0.813559\n",
      "[1600]\tvalid's auc: 0.814065\n",
      "[1700]\tvalid's auc: 0.814659\n",
      "[1800]\tvalid's auc: 0.814984\n",
      "[1900]\tvalid's auc: 0.815636\n",
      "[2000]\tvalid's auc: 0.81595\n",
      "[2100]\tvalid's auc: 0.815888\n",
      "Early stopping, best iteration is:\n",
      "[2008]\tvalid's auc: 0.816064\n"
     ]
    },
    {
     "name": "stderr",
     "output_type": "stream",
     "text": [
      "/home/wopr/.local/lib/python3.6/site-packages/sklearn/preprocessing/label.py:219: DataConversionWarning: A column-vector y was passed when a 1d array was expected. Please change the shape of y to (n_samples, ), for example using ravel().\n",
      "  y = column_or_1d(y, warn=True)\n",
      "/home/wopr/.local/lib/python3.6/site-packages/sklearn/preprocessing/label.py:252: DataConversionWarning: A column-vector y was passed when a 1d array was expected. Please change the shape of y to (n_samples, ), for example using ravel().\n",
      "  y = column_or_1d(y, warn=True)\n"
     ]
    },
    {
     "name": "stdout",
     "output_type": "stream",
     "text": [
      "Training until validation scores don't improve for 100 rounds.\n",
      "[100]\tvalid's auc: 0.753435\n",
      "[200]\tvalid's auc: 0.780364\n",
      "[300]\tvalid's auc: 0.791666\n",
      "[400]\tvalid's auc: 0.798502\n",
      "[500]\tvalid's auc: 0.801782\n",
      "[600]\tvalid's auc: 0.804185\n",
      "[700]\tvalid's auc: 0.804638\n",
      "[800]\tvalid's auc: 0.805753\n",
      "[900]\tvalid's auc: 0.806865\n",
      "[1000]\tvalid's auc: 0.807521\n",
      "[1100]\tvalid's auc: 0.808374\n",
      "[1200]\tvalid's auc: 0.809049\n",
      "[1300]\tvalid's auc: 0.809206\n",
      "[1400]\tvalid's auc: 0.809827\n",
      "[1500]\tvalid's auc: 0.81075\n",
      "[1600]\tvalid's auc: 0.811611\n",
      "[1700]\tvalid's auc: 0.812471\n",
      "[1800]\tvalid's auc: 0.813001\n",
      "[1900]\tvalid's auc: 0.813476\n",
      "[2000]\tvalid's auc: 0.814011\n",
      "[2100]\tvalid's auc: 0.814616\n",
      "[2200]\tvalid's auc: 0.81508\n",
      "[2300]\tvalid's auc: 0.815449\n",
      "[2400]\tvalid's auc: 0.815711\n",
      "[2500]\tvalid's auc: 0.815837\n",
      "[2600]\tvalid's auc: 0.815917\n",
      "[2700]\tvalid's auc: 0.816254\n",
      "[2800]\tvalid's auc: 0.816559\n",
      "[2900]\tvalid's auc: 0.816729\n",
      "[3000]\tvalid's auc: 0.817135\n",
      "[3100]\tvalid's auc: 0.817576\n",
      "[3200]\tvalid's auc: 0.81784\n",
      "Early stopping, best iteration is:\n",
      "[3189]\tvalid's auc: 0.817854\n"
     ]
    },
    {
     "name": "stderr",
     "output_type": "stream",
     "text": [
      "/home/wopr/.local/lib/python3.6/site-packages/sklearn/preprocessing/label.py:219: DataConversionWarning: A column-vector y was passed when a 1d array was expected. Please change the shape of y to (n_samples, ), for example using ravel().\n",
      "  y = column_or_1d(y, warn=True)\n",
      "/home/wopr/.local/lib/python3.6/site-packages/sklearn/preprocessing/label.py:252: DataConversionWarning: A column-vector y was passed when a 1d array was expected. Please change the shape of y to (n_samples, ), for example using ravel().\n",
      "  y = column_or_1d(y, warn=True)\n"
     ]
    },
    {
     "name": "stdout",
     "output_type": "stream",
     "text": [
      "Training until validation scores don't improve for 100 rounds.\n",
      "[100]\tvalid's auc: 0.757991\n",
      "[200]\tvalid's auc: 0.782142\n",
      "[300]\tvalid's auc: 0.793075\n",
      "[400]\tvalid's auc: 0.798517\n",
      "[500]\tvalid's auc: 0.800747\n",
      "[600]\tvalid's auc: 0.803502\n",
      "[700]\tvalid's auc: 0.805253\n",
      "[800]\tvalid's auc: 0.805458\n",
      "[900]\tvalid's auc: 0.806204\n",
      "[1000]\tvalid's auc: 0.806276\n",
      "[1100]\tvalid's auc: 0.807016\n",
      "[1200]\tvalid's auc: 0.807324\n",
      "[1300]\tvalid's auc: 0.807891\n",
      "[1400]\tvalid's auc: 0.808715\n",
      "[1500]\tvalid's auc: 0.809291\n",
      "[1600]\tvalid's auc: 0.809846\n",
      "[1700]\tvalid's auc: 0.810444\n",
      "[1800]\tvalid's auc: 0.811141\n",
      "[1900]\tvalid's auc: 0.811476\n",
      "[2000]\tvalid's auc: 0.812119\n",
      "[2100]\tvalid's auc: 0.812582\n",
      "[2200]\tvalid's auc: 0.812974\n",
      "[2300]\tvalid's auc: 0.813335\n",
      "[2400]\tvalid's auc: 0.813813\n",
      "[2500]\tvalid's auc: 0.814043\n",
      "[2600]\tvalid's auc: 0.814131\n",
      "Early stopping, best iteration is:\n",
      "[2580]\tvalid's auc: 0.814244\n"
     ]
    },
    {
     "name": "stderr",
     "output_type": "stream",
     "text": [
      "/home/wopr/.local/lib/python3.6/site-packages/sklearn/preprocessing/label.py:219: DataConversionWarning: A column-vector y was passed when a 1d array was expected. Please change the shape of y to (n_samples, ), for example using ravel().\n",
      "  y = column_or_1d(y, warn=True)\n",
      "/home/wopr/.local/lib/python3.6/site-packages/sklearn/preprocessing/label.py:252: DataConversionWarning: A column-vector y was passed when a 1d array was expected. Please change the shape of y to (n_samples, ), for example using ravel().\n",
      "  y = column_or_1d(y, warn=True)\n"
     ]
    },
    {
     "name": "stdout",
     "output_type": "stream",
     "text": [
      "Training until validation scores don't improve for 100 rounds.\n",
      "[100]\tvalid's auc: 0.758708\n",
      "[200]\tvalid's auc: 0.782103\n",
      "[300]\tvalid's auc: 0.792759\n",
      "[400]\tvalid's auc: 0.797759\n",
      "[500]\tvalid's auc: 0.801681\n",
      "[600]\tvalid's auc: 0.803177\n",
      "[700]\tvalid's auc: 0.805378\n",
      "[800]\tvalid's auc: 0.806182\n",
      "[900]\tvalid's auc: 0.807078\n",
      "[1000]\tvalid's auc: 0.807681\n",
      "[1100]\tvalid's auc: 0.808696\n",
      "[1200]\tvalid's auc: 0.809205\n",
      "[1300]\tvalid's auc: 0.809639\n",
      "[1400]\tvalid's auc: 0.809631\n",
      "[1500]\tvalid's auc: 0.81023\n",
      "[1600]\tvalid's auc: 0.810771\n",
      "[1700]\tvalid's auc: 0.811277\n",
      "[1800]\tvalid's auc: 0.811598\n",
      "[1900]\tvalid's auc: 0.812344\n",
      "[2000]\tvalid's auc: 0.812505\n",
      "Early stopping, best iteration is:\n",
      "[1932]\tvalid's auc: 0.812663\n"
     ]
    },
    {
     "name": "stderr",
     "output_type": "stream",
     "text": [
      "/home/wopr/.local/lib/python3.6/site-packages/sklearn/preprocessing/label.py:219: DataConversionWarning: A column-vector y was passed when a 1d array was expected. Please change the shape of y to (n_samples, ), for example using ravel().\n",
      "  y = column_or_1d(y, warn=True)\n",
      "/home/wopr/.local/lib/python3.6/site-packages/sklearn/preprocessing/label.py:252: DataConversionWarning: A column-vector y was passed when a 1d array was expected. Please change the shape of y to (n_samples, ), for example using ravel().\n",
      "  y = column_or_1d(y, warn=True)\n"
     ]
    },
    {
     "name": "stdout",
     "output_type": "stream",
     "text": [
      "Training until validation scores don't improve for 100 rounds.\n",
      "[100]\tvalid's auc: 0.5\n",
      "Early stopping, best iteration is:\n",
      "[1]\tvalid's auc: 0.5\n"
     ]
    },
    {
     "name": "stderr",
     "output_type": "stream",
     "text": [
      "/home/wopr/.local/lib/python3.6/site-packages/sklearn/preprocessing/label.py:219: DataConversionWarning: A column-vector y was passed when a 1d array was expected. Please change the shape of y to (n_samples, ), for example using ravel().\n",
      "  y = column_or_1d(y, warn=True)\n",
      "/home/wopr/.local/lib/python3.6/site-packages/sklearn/preprocessing/label.py:252: DataConversionWarning: A column-vector y was passed when a 1d array was expected. Please change the shape of y to (n_samples, ), for example using ravel().\n",
      "  y = column_or_1d(y, warn=True)\n"
     ]
    },
    {
     "name": "stdout",
     "output_type": "stream",
     "text": [
      "Training until validation scores don't improve for 100 rounds.\n",
      "[100]\tvalid's auc: 0.5\n",
      "Early stopping, best iteration is:\n",
      "[1]\tvalid's auc: 0.5\n"
     ]
    },
    {
     "name": "stderr",
     "output_type": "stream",
     "text": [
      "/home/wopr/.local/lib/python3.6/site-packages/sklearn/preprocessing/label.py:219: DataConversionWarning: A column-vector y was passed when a 1d array was expected. Please change the shape of y to (n_samples, ), for example using ravel().\n",
      "  y = column_or_1d(y, warn=True)\n",
      "/home/wopr/.local/lib/python3.6/site-packages/sklearn/preprocessing/label.py:252: DataConversionWarning: A column-vector y was passed when a 1d array was expected. Please change the shape of y to (n_samples, ), for example using ravel().\n",
      "  y = column_or_1d(y, warn=True)\n"
     ]
    },
    {
     "name": "stdout",
     "output_type": "stream",
     "text": [
      "Training until validation scores don't improve for 100 rounds.\n",
      "[100]\tvalid's auc: 0.5\n",
      "Early stopping, best iteration is:\n",
      "[1]\tvalid's auc: 0.5\n"
     ]
    },
    {
     "name": "stderr",
     "output_type": "stream",
     "text": [
      "/home/wopr/.local/lib/python3.6/site-packages/sklearn/preprocessing/label.py:219: DataConversionWarning: A column-vector y was passed when a 1d array was expected. Please change the shape of y to (n_samples, ), for example using ravel().\n",
      "  y = column_or_1d(y, warn=True)\n",
      "/home/wopr/.local/lib/python3.6/site-packages/sklearn/preprocessing/label.py:252: DataConversionWarning: A column-vector y was passed when a 1d array was expected. Please change the shape of y to (n_samples, ), for example using ravel().\n",
      "  y = column_or_1d(y, warn=True)\n"
     ]
    },
    {
     "name": "stdout",
     "output_type": "stream",
     "text": [
      "Training until validation scores don't improve for 100 rounds.\n",
      "[100]\tvalid's auc: 0.730766\n",
      "[200]\tvalid's auc: 0.758254\n",
      "[300]\tvalid's auc: 0.772911\n",
      "[400]\tvalid's auc: 0.782722\n",
      "[500]\tvalid's auc: 0.790377\n",
      "[600]\tvalid's auc: 0.795418\n",
      "[700]\tvalid's auc: 0.799869\n",
      "[800]\tvalid's auc: 0.802776\n",
      "[900]\tvalid's auc: 0.806022\n",
      "[1000]\tvalid's auc: 0.807778\n",
      "[1100]\tvalid's auc: 0.809438\n",
      "[1200]\tvalid's auc: 0.810753\n",
      "[1300]\tvalid's auc: 0.811996\n",
      "[1400]\tvalid's auc: 0.813114\n",
      "[1500]\tvalid's auc: 0.814007\n",
      "[1600]\tvalid's auc: 0.815022\n",
      "[1700]\tvalid's auc: 0.815829\n",
      "[1800]\tvalid's auc: 0.816242\n",
      "[1900]\tvalid's auc: 0.816818\n",
      "Early stopping, best iteration is:\n",
      "[1890]\tvalid's auc: 0.816883\n"
     ]
    },
    {
     "name": "stderr",
     "output_type": "stream",
     "text": [
      "/home/wopr/.local/lib/python3.6/site-packages/sklearn/preprocessing/label.py:219: DataConversionWarning: A column-vector y was passed when a 1d array was expected. Please change the shape of y to (n_samples, ), for example using ravel().\n",
      "  y = column_or_1d(y, warn=True)\n",
      "/home/wopr/.local/lib/python3.6/site-packages/sklearn/preprocessing/label.py:252: DataConversionWarning: A column-vector y was passed when a 1d array was expected. Please change the shape of y to (n_samples, ), for example using ravel().\n",
      "  y = column_or_1d(y, warn=True)\n"
     ]
    },
    {
     "name": "stdout",
     "output_type": "stream",
     "text": [
      "Training until validation scores don't improve for 100 rounds.\n",
      "[100]\tvalid's auc: 0.730247\n",
      "[200]\tvalid's auc: 0.759254\n",
      "[300]\tvalid's auc: 0.774747\n",
      "[400]\tvalid's auc: 0.783706\n",
      "[500]\tvalid's auc: 0.789337\n",
      "[600]\tvalid's auc: 0.794466\n",
      "[700]\tvalid's auc: 0.798604\n",
      "[800]\tvalid's auc: 0.801938\n",
      "[900]\tvalid's auc: 0.804269\n",
      "[1000]\tvalid's auc: 0.806134\n",
      "[1100]\tvalid's auc: 0.807755\n",
      "[1200]\tvalid's auc: 0.809252\n",
      "[1300]\tvalid's auc: 0.810049\n",
      "[1400]\tvalid's auc: 0.811442\n",
      "[1500]\tvalid's auc: 0.812288\n",
      "[1600]\tvalid's auc: 0.813053\n",
      "[1700]\tvalid's auc: 0.813486\n",
      "[1800]\tvalid's auc: 0.814098\n",
      "[1900]\tvalid's auc: 0.814415\n",
      "[2000]\tvalid's auc: 0.814807\n",
      "[2100]\tvalid's auc: 0.815132\n",
      "[2200]\tvalid's auc: 0.815619\n",
      "[2300]\tvalid's auc: 0.815943\n",
      "[2400]\tvalid's auc: 0.816073\n",
      "Early stopping, best iteration is:\n",
      "[2375]\tvalid's auc: 0.816254\n"
     ]
    },
    {
     "name": "stderr",
     "output_type": "stream",
     "text": [
      "/home/wopr/.local/lib/python3.6/site-packages/sklearn/preprocessing/label.py:219: DataConversionWarning: A column-vector y was passed when a 1d array was expected. Please change the shape of y to (n_samples, ), for example using ravel().\n",
      "  y = column_or_1d(y, warn=True)\n",
      "/home/wopr/.local/lib/python3.6/site-packages/sklearn/preprocessing/label.py:252: DataConversionWarning: A column-vector y was passed when a 1d array was expected. Please change the shape of y to (n_samples, ), for example using ravel().\n",
      "  y = column_or_1d(y, warn=True)\n"
     ]
    },
    {
     "name": "stdout",
     "output_type": "stream",
     "text": [
      "Training until validation scores don't improve for 100 rounds.\n",
      "[100]\tvalid's auc: 0.732571\n",
      "[200]\tvalid's auc: 0.759469\n",
      "[300]\tvalid's auc: 0.773936\n",
      "[400]\tvalid's auc: 0.783271\n",
      "[500]\tvalid's auc: 0.789937\n",
      "[600]\tvalid's auc: 0.79512\n",
      "[700]\tvalid's auc: 0.798779\n",
      "[800]\tvalid's auc: 0.802061\n",
      "[900]\tvalid's auc: 0.804638\n",
      "[1000]\tvalid's auc: 0.807121\n",
      "[1100]\tvalid's auc: 0.809341\n",
      "[1200]\tvalid's auc: 0.810268\n",
      "[1300]\tvalid's auc: 0.811853\n",
      "[1400]\tvalid's auc: 0.812688\n",
      "[1500]\tvalid's auc: 0.813475\n",
      "[1600]\tvalid's auc: 0.814194\n",
      "[1700]\tvalid's auc: 0.814699\n",
      "[1800]\tvalid's auc: 0.815129\n",
      "[1900]\tvalid's auc: 0.815445\n",
      "[2000]\tvalid's auc: 0.815756\n",
      "[2100]\tvalid's auc: 0.816273\n",
      "[2200]\tvalid's auc: 0.816716\n",
      "[2300]\tvalid's auc: 0.816732\n",
      "[2400]\tvalid's auc: 0.816959\n",
      "[2500]\tvalid's auc: 0.817353\n",
      "[2600]\tvalid's auc: 0.817502\n",
      "[2700]\tvalid's auc: 0.817466\n",
      "[2800]\tvalid's auc: 0.817644\n",
      "[2900]\tvalid's auc: 0.817761\n",
      "[3000]\tvalid's auc: 0.817767\n",
      "[3100]\tvalid's auc: 0.818136\n",
      "Early stopping, best iteration is:\n",
      "[3092]\tvalid's auc: 0.818201\n"
     ]
    },
    {
     "name": "stderr",
     "output_type": "stream",
     "text": [
      "/home/wopr/.local/lib/python3.6/site-packages/sklearn/preprocessing/label.py:219: DataConversionWarning: A column-vector y was passed when a 1d array was expected. Please change the shape of y to (n_samples, ), for example using ravel().\n",
      "  y = column_or_1d(y, warn=True)\n",
      "/home/wopr/.local/lib/python3.6/site-packages/sklearn/preprocessing/label.py:252: DataConversionWarning: A column-vector y was passed when a 1d array was expected. Please change the shape of y to (n_samples, ), for example using ravel().\n",
      "  y = column_or_1d(y, warn=True)\n"
     ]
    },
    {
     "name": "stdout",
     "output_type": "stream",
     "text": [
      "Training until validation scores don't improve for 100 rounds.\n",
      "[100]\tvalid's auc: 0.761453\n",
      "[200]\tvalid's auc: 0.786727\n",
      "[300]\tvalid's auc: 0.797438\n",
      "[400]\tvalid's auc: 0.803889\n",
      "[500]\tvalid's auc: 0.80649\n",
      "[600]\tvalid's auc: 0.808518\n",
      "[700]\tvalid's auc: 0.810337\n",
      "[800]\tvalid's auc: 0.811952\n",
      "[900]\tvalid's auc: 0.812666\n",
      "[1000]\tvalid's auc: 0.813359\n",
      "[1100]\tvalid's auc: 0.814361\n",
      "[1200]\tvalid's auc: 0.814848\n",
      "[1300]\tvalid's auc: 0.815047\n",
      "[1400]\tvalid's auc: 0.81541\n",
      "[1500]\tvalid's auc: 0.815983\n",
      "[1600]\tvalid's auc: 0.816308\n",
      "[1700]\tvalid's auc: 0.816297\n",
      "[1800]\tvalid's auc: 0.816586\n",
      "[1900]\tvalid's auc: 0.817041\n",
      "[2000]\tvalid's auc: 0.817427\n",
      "[2100]\tvalid's auc: 0.817432\n",
      "[2200]\tvalid's auc: 0.817777\n",
      "[2300]\tvalid's auc: 0.817817\n",
      "[2400]\tvalid's auc: 0.817961\n",
      "[2500]\tvalid's auc: 0.818056\n",
      "[2600]\tvalid's auc: 0.818495\n",
      "[2700]\tvalid's auc: 0.818591\n",
      "[2800]\tvalid's auc: 0.81886\n",
      "[2900]\tvalid's auc: 0.819108\n",
      "[3000]\tvalid's auc: 0.81912\n",
      "Early stopping, best iteration is:\n",
      "[2955]\tvalid's auc: 0.819169\n"
     ]
    },
    {
     "name": "stderr",
     "output_type": "stream",
     "text": [
      "/home/wopr/.local/lib/python3.6/site-packages/sklearn/preprocessing/label.py:219: DataConversionWarning: A column-vector y was passed when a 1d array was expected. Please change the shape of y to (n_samples, ), for example using ravel().\n",
      "  y = column_or_1d(y, warn=True)\n",
      "/home/wopr/.local/lib/python3.6/site-packages/sklearn/preprocessing/label.py:252: DataConversionWarning: A column-vector y was passed when a 1d array was expected. Please change the shape of y to (n_samples, ), for example using ravel().\n",
      "  y = column_or_1d(y, warn=True)\n"
     ]
    },
    {
     "name": "stdout",
     "output_type": "stream",
     "text": [
      "Training until validation scores don't improve for 100 rounds.\n",
      "[100]\tvalid's auc: 0.764484\n",
      "[200]\tvalid's auc: 0.78694\n",
      "[300]\tvalid's auc: 0.796797\n",
      "[400]\tvalid's auc: 0.802314\n",
      "[500]\tvalid's auc: 0.806886\n",
      "[600]\tvalid's auc: 0.808496\n",
      "[700]\tvalid's auc: 0.810074\n",
      "[800]\tvalid's auc: 0.810707\n",
      "[900]\tvalid's auc: 0.812112\n",
      "[1000]\tvalid's auc: 0.812809\n",
      "[1100]\tvalid's auc: 0.813915\n",
      "[1200]\tvalid's auc: 0.814524\n",
      "[1300]\tvalid's auc: 0.815003\n",
      "[1400]\tvalid's auc: 0.815591\n",
      "[1500]\tvalid's auc: 0.815783\n",
      "[1600]\tvalid's auc: 0.81619\n",
      "[1700]\tvalid's auc: 0.816538\n",
      "[1800]\tvalid's auc: 0.816711\n",
      "[1900]\tvalid's auc: 0.816923\n",
      "[2000]\tvalid's auc: 0.817416\n",
      "[2100]\tvalid's auc: 0.817567\n",
      "[2200]\tvalid's auc: 0.817959\n",
      "[2300]\tvalid's auc: 0.818026\n",
      "[2400]\tvalid's auc: 0.818237\n",
      "[2500]\tvalid's auc: 0.818358\n",
      "Early stopping, best iteration is:\n",
      "[2483]\tvalid's auc: 0.818407\n"
     ]
    },
    {
     "name": "stderr",
     "output_type": "stream",
     "text": [
      "/home/wopr/.local/lib/python3.6/site-packages/sklearn/preprocessing/label.py:219: DataConversionWarning: A column-vector y was passed when a 1d array was expected. Please change the shape of y to (n_samples, ), for example using ravel().\n",
      "  y = column_or_1d(y, warn=True)\n",
      "/home/wopr/.local/lib/python3.6/site-packages/sklearn/preprocessing/label.py:252: DataConversionWarning: A column-vector y was passed when a 1d array was expected. Please change the shape of y to (n_samples, ), for example using ravel().\n",
      "  y = column_or_1d(y, warn=True)\n"
     ]
    },
    {
     "name": "stdout",
     "output_type": "stream",
     "text": [
      "Training until validation scores don't improve for 100 rounds.\n",
      "[100]\tvalid's auc: 0.763868\n",
      "[200]\tvalid's auc: 0.787578\n",
      "[300]\tvalid's auc: 0.798437\n",
      "[400]\tvalid's auc: 0.803233\n",
      "[500]\tvalid's auc: 0.807076\n",
      "[600]\tvalid's auc: 0.808316\n",
      "[700]\tvalid's auc: 0.80934\n",
      "[800]\tvalid's auc: 0.810152\n",
      "[900]\tvalid's auc: 0.810633\n",
      "[1000]\tvalid's auc: 0.811728\n",
      "[1100]\tvalid's auc: 0.812619\n",
      "[1200]\tvalid's auc: 0.813485\n",
      "[1300]\tvalid's auc: 0.814024\n",
      "[1400]\tvalid's auc: 0.81478\n",
      "[1500]\tvalid's auc: 0.815502\n",
      "[1600]\tvalid's auc: 0.815934\n",
      "[1700]\tvalid's auc: 0.815904\n",
      "Early stopping, best iteration is:\n",
      "[1670]\tvalid's auc: 0.816042\n"
     ]
    },
    {
     "name": "stderr",
     "output_type": "stream",
     "text": [
      "/home/wopr/.local/lib/python3.6/site-packages/sklearn/preprocessing/label.py:219: DataConversionWarning: A column-vector y was passed when a 1d array was expected. Please change the shape of y to (n_samples, ), for example using ravel().\n",
      "  y = column_or_1d(y, warn=True)\n",
      "/home/wopr/.local/lib/python3.6/site-packages/sklearn/preprocessing/label.py:252: DataConversionWarning: A column-vector y was passed when a 1d array was expected. Please change the shape of y to (n_samples, ), for example using ravel().\n",
      "  y = column_or_1d(y, warn=True)\n"
     ]
    },
    {
     "name": "stdout",
     "output_type": "stream",
     "text": [
      "Training until validation scores don't improve for 100 rounds.\n",
      "[100]\tvalid's auc: 0.740904\n",
      "[200]\tvalid's auc: 0.769944\n",
      "[300]\tvalid's auc: 0.784244\n",
      "[400]\tvalid's auc: 0.79362\n",
      "[500]\tvalid's auc: 0.800034\n",
      "[600]\tvalid's auc: 0.804153\n",
      "[700]\tvalid's auc: 0.807831\n",
      "[800]\tvalid's auc: 0.810156\n",
      "[900]\tvalid's auc: 0.811523\n",
      "[1000]\tvalid's auc: 0.812475\n",
      "[1100]\tvalid's auc: 0.813321\n",
      "[1200]\tvalid's auc: 0.813812\n",
      "[1300]\tvalid's auc: 0.814293\n",
      "[1400]\tvalid's auc: 0.814631\n",
      "[1500]\tvalid's auc: 0.814726\n",
      "Early stopping, best iteration is:\n",
      "[1437]\tvalid's auc: 0.814956\n"
     ]
    },
    {
     "name": "stderr",
     "output_type": "stream",
     "text": [
      "/home/wopr/.local/lib/python3.6/site-packages/sklearn/preprocessing/label.py:219: DataConversionWarning: A column-vector y was passed when a 1d array was expected. Please change the shape of y to (n_samples, ), for example using ravel().\n",
      "  y = column_or_1d(y, warn=True)\n",
      "/home/wopr/.local/lib/python3.6/site-packages/sklearn/preprocessing/label.py:252: DataConversionWarning: A column-vector y was passed when a 1d array was expected. Please change the shape of y to (n_samples, ), for example using ravel().\n",
      "  y = column_or_1d(y, warn=True)\n"
     ]
    },
    {
     "name": "stdout",
     "output_type": "stream",
     "text": [
      "Training until validation scores don't improve for 100 rounds.\n",
      "[100]\tvalid's auc: 0.743115\n",
      "[200]\tvalid's auc: 0.770563\n",
      "[300]\tvalid's auc: 0.78472\n",
      "[400]\tvalid's auc: 0.794036\n",
      "[500]\tvalid's auc: 0.799683\n",
      "[600]\tvalid's auc: 0.804543\n",
      "[700]\tvalid's auc: 0.807556\n",
      "[800]\tvalid's auc: 0.810001\n",
      "[900]\tvalid's auc: 0.81208\n",
      "[1000]\tvalid's auc: 0.81316\n",
      "[1100]\tvalid's auc: 0.814108\n",
      "[1200]\tvalid's auc: 0.815225\n",
      "[1300]\tvalid's auc: 0.816097\n",
      "[1400]\tvalid's auc: 0.816683\n",
      "[1500]\tvalid's auc: 0.816775\n",
      "[1600]\tvalid's auc: 0.817321\n",
      "[1700]\tvalid's auc: 0.817505\n",
      "[1800]\tvalid's auc: 0.817905\n",
      "[1900]\tvalid's auc: 0.817691\n",
      "Early stopping, best iteration is:\n",
      "[1827]\tvalid's auc: 0.81793\n"
     ]
    },
    {
     "name": "stderr",
     "output_type": "stream",
     "text": [
      "/home/wopr/.local/lib/python3.6/site-packages/sklearn/preprocessing/label.py:219: DataConversionWarning: A column-vector y was passed when a 1d array was expected. Please change the shape of y to (n_samples, ), for example using ravel().\n",
      "  y = column_or_1d(y, warn=True)\n",
      "/home/wopr/.local/lib/python3.6/site-packages/sklearn/preprocessing/label.py:252: DataConversionWarning: A column-vector y was passed when a 1d array was expected. Please change the shape of y to (n_samples, ), for example using ravel().\n",
      "  y = column_or_1d(y, warn=True)\n"
     ]
    },
    {
     "name": "stdout",
     "output_type": "stream",
     "text": [
      "Training until validation scores don't improve for 100 rounds.\n",
      "[100]\tvalid's auc: 0.742397\n",
      "[200]\tvalid's auc: 0.771017\n",
      "[300]\tvalid's auc: 0.783855\n",
      "[400]\tvalid's auc: 0.793372\n",
      "[500]\tvalid's auc: 0.799642\n",
      "[600]\tvalid's auc: 0.803915\n",
      "[700]\tvalid's auc: 0.807481\n",
      "[800]\tvalid's auc: 0.809792\n",
      "[900]\tvalid's auc: 0.811429\n",
      "[1000]\tvalid's auc: 0.812511\n",
      "[1100]\tvalid's auc: 0.813333\n",
      "[1200]\tvalid's auc: 0.814229\n",
      "[1300]\tvalid's auc: 0.814522\n",
      "[1400]\tvalid's auc: 0.815052\n",
      "[1500]\tvalid's auc: 0.815571\n",
      "[1600]\tvalid's auc: 0.815738\n",
      "[1700]\tvalid's auc: 0.816184\n",
      "Early stopping, best iteration is:\n",
      "[1656]\tvalid's auc: 0.816351\n"
     ]
    },
    {
     "name": "stderr",
     "output_type": "stream",
     "text": [
      "/home/wopr/.local/lib/python3.6/site-packages/sklearn/preprocessing/label.py:219: DataConversionWarning: A column-vector y was passed when a 1d array was expected. Please change the shape of y to (n_samples, ), for example using ravel().\n",
      "  y = column_or_1d(y, warn=True)\n",
      "/home/wopr/.local/lib/python3.6/site-packages/sklearn/preprocessing/label.py:252: DataConversionWarning: A column-vector y was passed when a 1d array was expected. Please change the shape of y to (n_samples, ), for example using ravel().\n",
      "  y = column_or_1d(y, warn=True)\n"
     ]
    },
    {
     "name": "stdout",
     "output_type": "stream",
     "text": [
      "Training until validation scores don't improve for 100 rounds.\n",
      "[100]\tvalid's auc: 0.751218\n",
      "[200]\tvalid's auc: 0.777651\n",
      "[300]\tvalid's auc: 0.790869\n",
      "[400]\tvalid's auc: 0.799053\n",
      "[500]\tvalid's auc: 0.803767\n",
      "[600]\tvalid's auc: 0.806617\n",
      "[700]\tvalid's auc: 0.808336\n",
      "[800]\tvalid's auc: 0.809674\n",
      "[900]\tvalid's auc: 0.810379\n",
      "[1000]\tvalid's auc: 0.810698\n",
      "[1100]\tvalid's auc: 0.810855\n",
      "[1200]\tvalid's auc: 0.811304\n",
      "[1300]\tvalid's auc: 0.812184\n",
      "[1400]\tvalid's auc: 0.812566\n",
      "Early stopping, best iteration is:\n",
      "[1392]\tvalid's auc: 0.812646\n"
     ]
    },
    {
     "name": "stderr",
     "output_type": "stream",
     "text": [
      "/home/wopr/.local/lib/python3.6/site-packages/sklearn/preprocessing/label.py:219: DataConversionWarning: A column-vector y was passed when a 1d array was expected. Please change the shape of y to (n_samples, ), for example using ravel().\n",
      "  y = column_or_1d(y, warn=True)\n",
      "/home/wopr/.local/lib/python3.6/site-packages/sklearn/preprocessing/label.py:252: DataConversionWarning: A column-vector y was passed when a 1d array was expected. Please change the shape of y to (n_samples, ), for example using ravel().\n",
      "  y = column_or_1d(y, warn=True)\n"
     ]
    },
    {
     "name": "stdout",
     "output_type": "stream",
     "text": [
      "Training until validation scores don't improve for 100 rounds.\n",
      "[100]\tvalid's auc: 0.749824\n",
      "[200]\tvalid's auc: 0.776195\n",
      "[300]\tvalid's auc: 0.788621\n",
      "[400]\tvalid's auc: 0.796546\n",
      "[500]\tvalid's auc: 0.801315\n",
      "[600]\tvalid's auc: 0.804438\n",
      "[700]\tvalid's auc: 0.80615\n",
      "[800]\tvalid's auc: 0.807971\n",
      "[900]\tvalid's auc: 0.80889\n",
      "[1000]\tvalid's auc: 0.809598\n",
      "[1100]\tvalid's auc: 0.810045\n",
      "[1200]\tvalid's auc: 0.810632\n",
      "[1300]\tvalid's auc: 0.811116\n",
      "[1400]\tvalid's auc: 0.811369\n",
      "[1500]\tvalid's auc: 0.811274\n",
      "Early stopping, best iteration is:\n",
      "[1475]\tvalid's auc: 0.811391\n"
     ]
    },
    {
     "name": "stderr",
     "output_type": "stream",
     "text": [
      "/home/wopr/.local/lib/python3.6/site-packages/sklearn/preprocessing/label.py:219: DataConversionWarning: A column-vector y was passed when a 1d array was expected. Please change the shape of y to (n_samples, ), for example using ravel().\n",
      "  y = column_or_1d(y, warn=True)\n",
      "/home/wopr/.local/lib/python3.6/site-packages/sklearn/preprocessing/label.py:252: DataConversionWarning: A column-vector y was passed when a 1d array was expected. Please change the shape of y to (n_samples, ), for example using ravel().\n",
      "  y = column_or_1d(y, warn=True)\n"
     ]
    },
    {
     "name": "stdout",
     "output_type": "stream",
     "text": [
      "Training until validation scores don't improve for 100 rounds.\n",
      "[100]\tvalid's auc: 0.751912\n",
      "[200]\tvalid's auc: 0.779092\n",
      "[300]\tvalid's auc: 0.790631\n",
      "[400]\tvalid's auc: 0.798073\n",
      "[500]\tvalid's auc: 0.802177\n",
      "[600]\tvalid's auc: 0.805981\n",
      "[700]\tvalid's auc: 0.807588\n",
      "[800]\tvalid's auc: 0.808732\n",
      "[900]\tvalid's auc: 0.809291\n",
      "[1000]\tvalid's auc: 0.810089\n",
      "[1100]\tvalid's auc: 0.810176\n",
      "Early stopping, best iteration is:\n",
      "[1054]\tvalid's auc: 0.810568\n"
     ]
    },
    {
     "name": "stderr",
     "output_type": "stream",
     "text": [
      "/home/wopr/.local/lib/python3.6/site-packages/sklearn/preprocessing/label.py:219: DataConversionWarning: A column-vector y was passed when a 1d array was expected. Please change the shape of y to (n_samples, ), for example using ravel().\n",
      "  y = column_or_1d(y, warn=True)\n",
      "/home/wopr/.local/lib/python3.6/site-packages/sklearn/preprocessing/label.py:252: DataConversionWarning: A column-vector y was passed when a 1d array was expected. Please change the shape of y to (n_samples, ), for example using ravel().\n",
      "  y = column_or_1d(y, warn=True)\n"
     ]
    },
    {
     "name": "stdout",
     "output_type": "stream",
     "text": [
      "Training until validation scores don't improve for 100 rounds.\n",
      "[100]\tvalid's auc: 0.753066\n",
      "[200]\tvalid's auc: 0.778364\n",
      "[300]\tvalid's auc: 0.789394\n",
      "[400]\tvalid's auc: 0.797458\n",
      "[500]\tvalid's auc: 0.801529\n",
      "[600]\tvalid's auc: 0.8051\n",
      "[700]\tvalid's auc: 0.807167\n",
      "[800]\tvalid's auc: 0.808306\n",
      "[900]\tvalid's auc: 0.809838\n",
      "[1000]\tvalid's auc: 0.81118\n",
      "[1100]\tvalid's auc: 0.812091\n",
      "[1200]\tvalid's auc: 0.812949\n",
      "[1300]\tvalid's auc: 0.813201\n",
      "Early stopping, best iteration is:\n",
      "[1278]\tvalid's auc: 0.813201\n"
     ]
    },
    {
     "name": "stderr",
     "output_type": "stream",
     "text": [
      "/home/wopr/.local/lib/python3.6/site-packages/sklearn/preprocessing/label.py:219: DataConversionWarning: A column-vector y was passed when a 1d array was expected. Please change the shape of y to (n_samples, ), for example using ravel().\n",
      "  y = column_or_1d(y, warn=True)\n",
      "/home/wopr/.local/lib/python3.6/site-packages/sklearn/preprocessing/label.py:252: DataConversionWarning: A column-vector y was passed when a 1d array was expected. Please change the shape of y to (n_samples, ), for example using ravel().\n",
      "  y = column_or_1d(y, warn=True)\n"
     ]
    },
    {
     "name": "stdout",
     "output_type": "stream",
     "text": [
      "Training until validation scores don't improve for 100 rounds.\n",
      "[100]\tvalid's auc: 0.751522\n",
      "[200]\tvalid's auc: 0.774744\n",
      "[300]\tvalid's auc: 0.786721\n",
      "[400]\tvalid's auc: 0.794439\n",
      "[500]\tvalid's auc: 0.79856\n",
      "[600]\tvalid's auc: 0.801946\n",
      "[700]\tvalid's auc: 0.804205\n",
      "[800]\tvalid's auc: 0.805332\n",
      "[900]\tvalid's auc: 0.80706\n",
      "[1000]\tvalid's auc: 0.808508\n",
      "[1100]\tvalid's auc: 0.809604\n",
      "[1200]\tvalid's auc: 0.810704\n",
      "[1300]\tvalid's auc: 0.811236\n",
      "[1400]\tvalid's auc: 0.811359\n",
      "Early stopping, best iteration is:\n",
      "[1323]\tvalid's auc: 0.81137\n"
     ]
    },
    {
     "name": "stderr",
     "output_type": "stream",
     "text": [
      "/home/wopr/.local/lib/python3.6/site-packages/sklearn/preprocessing/label.py:219: DataConversionWarning: A column-vector y was passed when a 1d array was expected. Please change the shape of y to (n_samples, ), for example using ravel().\n",
      "  y = column_or_1d(y, warn=True)\n",
      "/home/wopr/.local/lib/python3.6/site-packages/sklearn/preprocessing/label.py:252: DataConversionWarning: A column-vector y was passed when a 1d array was expected. Please change the shape of y to (n_samples, ), for example using ravel().\n",
      "  y = column_or_1d(y, warn=True)\n"
     ]
    },
    {
     "name": "stdout",
     "output_type": "stream",
     "text": [
      "Training until validation scores don't improve for 100 rounds.\n",
      "[100]\tvalid's auc: 0.752159\n",
      "[200]\tvalid's auc: 0.776595\n",
      "[300]\tvalid's auc: 0.789182\n",
      "[400]\tvalid's auc: 0.795618\n",
      "[500]\tvalid's auc: 0.800462\n",
      "[600]\tvalid's auc: 0.804523\n",
      "[700]\tvalid's auc: 0.806661\n",
      "[800]\tvalid's auc: 0.808657\n",
      "[900]\tvalid's auc: 0.809966\n",
      "[1000]\tvalid's auc: 0.811508\n",
      "[1100]\tvalid's auc: 0.812224\n",
      "[1200]\tvalid's auc: 0.812686\n",
      "[1300]\tvalid's auc: 0.813359\n",
      "[1400]\tvalid's auc: 0.813518\n",
      "Early stopping, best iteration is:\n",
      "[1318]\tvalid's auc: 0.813524\n"
     ]
    },
    {
     "name": "stderr",
     "output_type": "stream",
     "text": [
      "/home/wopr/.local/lib/python3.6/site-packages/sklearn/preprocessing/label.py:219: DataConversionWarning: A column-vector y was passed when a 1d array was expected. Please change the shape of y to (n_samples, ), for example using ravel().\n",
      "  y = column_or_1d(y, warn=True)\n",
      "/home/wopr/.local/lib/python3.6/site-packages/sklearn/preprocessing/label.py:252: DataConversionWarning: A column-vector y was passed when a 1d array was expected. Please change the shape of y to (n_samples, ), for example using ravel().\n",
      "  y = column_or_1d(y, warn=True)\n"
     ]
    },
    {
     "name": "stdout",
     "output_type": "stream",
     "text": [
      "Training until validation scores don't improve for 100 rounds.\n",
      "[100]\tvalid's auc: 0.758808\n",
      "[200]\tvalid's auc: 0.779058\n",
      "[300]\tvalid's auc: 0.788858\n",
      "[400]\tvalid's auc: 0.793364\n",
      "[500]\tvalid's auc: 0.794562\n",
      "[600]\tvalid's auc: 0.795663\n",
      "[700]\tvalid's auc: 0.796645\n",
      "Early stopping, best iteration is:\n",
      "[661]\tvalid's auc: 0.796939\n"
     ]
    },
    {
     "name": "stderr",
     "output_type": "stream",
     "text": [
      "/home/wopr/.local/lib/python3.6/site-packages/sklearn/preprocessing/label.py:219: DataConversionWarning: A column-vector y was passed when a 1d array was expected. Please change the shape of y to (n_samples, ), for example using ravel().\n",
      "  y = column_or_1d(y, warn=True)\n",
      "/home/wopr/.local/lib/python3.6/site-packages/sklearn/preprocessing/label.py:252: DataConversionWarning: A column-vector y was passed when a 1d array was expected. Please change the shape of y to (n_samples, ), for example using ravel().\n",
      "  y = column_or_1d(y, warn=True)\n"
     ]
    },
    {
     "name": "stdout",
     "output_type": "stream",
     "text": [
      "Training until validation scores don't improve for 100 rounds.\n",
      "[100]\tvalid's auc: 0.755216\n",
      "[200]\tvalid's auc: 0.778604\n",
      "[300]\tvalid's auc: 0.788527\n",
      "[400]\tvalid's auc: 0.791776\n",
      "[500]\tvalid's auc: 0.793149\n",
      "Early stopping, best iteration is:\n",
      "[452]\tvalid's auc: 0.793287\n"
     ]
    },
    {
     "name": "stderr",
     "output_type": "stream",
     "text": [
      "/home/wopr/.local/lib/python3.6/site-packages/sklearn/preprocessing/label.py:219: DataConversionWarning: A column-vector y was passed when a 1d array was expected. Please change the shape of y to (n_samples, ), for example using ravel().\n",
      "  y = column_or_1d(y, warn=True)\n",
      "/home/wopr/.local/lib/python3.6/site-packages/sklearn/preprocessing/label.py:252: DataConversionWarning: A column-vector y was passed when a 1d array was expected. Please change the shape of y to (n_samples, ), for example using ravel().\n",
      "  y = column_or_1d(y, warn=True)\n"
     ]
    },
    {
     "name": "stdout",
     "output_type": "stream",
     "text": [
      "Training until validation scores don't improve for 100 rounds.\n",
      "[100]\tvalid's auc: 0.757735\n",
      "[200]\tvalid's auc: 0.780619\n",
      "[300]\tvalid's auc: 0.787857\n",
      "[400]\tvalid's auc: 0.791827\n",
      "[500]\tvalid's auc: 0.79254\n",
      "[600]\tvalid's auc: 0.793627\n",
      "[700]\tvalid's auc: 0.793828\n",
      "[800]\tvalid's auc: 0.794808\n",
      "[900]\tvalid's auc: 0.794498\n",
      "Early stopping, best iteration is:\n",
      "[832]\tvalid's auc: 0.795031\n"
     ]
    },
    {
     "name": "stderr",
     "output_type": "stream",
     "text": [
      "/home/wopr/.local/lib/python3.6/site-packages/sklearn/preprocessing/label.py:219: DataConversionWarning: A column-vector y was passed when a 1d array was expected. Please change the shape of y to (n_samples, ), for example using ravel().\n",
      "  y = column_or_1d(y, warn=True)\n",
      "/home/wopr/.local/lib/python3.6/site-packages/sklearn/preprocessing/label.py:252: DataConversionWarning: A column-vector y was passed when a 1d array was expected. Please change the shape of y to (n_samples, ), for example using ravel().\n",
      "  y = column_or_1d(y, warn=True)\n"
     ]
    },
    {
     "name": "stdout",
     "output_type": "stream",
     "text": [
      "Training until validation scores don't improve for 100 rounds.\n",
      "[100]\tvalid's auc: 0.732181\n",
      "[200]\tvalid's auc: 0.760138\n",
      "[300]\tvalid's auc: 0.774706\n",
      "[400]\tvalid's auc: 0.782798\n",
      "[500]\tvalid's auc: 0.788154\n",
      "[600]\tvalid's auc: 0.792679\n",
      "[700]\tvalid's auc: 0.795846\n",
      "[800]\tvalid's auc: 0.798597\n",
      "[900]\tvalid's auc: 0.80111\n",
      "[1000]\tvalid's auc: 0.803368\n",
      "[1100]\tvalid's auc: 0.805551\n",
      "[1200]\tvalid's auc: 0.807357\n",
      "[1300]\tvalid's auc: 0.808632\n",
      "Early stopping, best iteration is:\n",
      "[1299]\tvalid's auc: 0.808632\n"
     ]
    },
    {
     "name": "stderr",
     "output_type": "stream",
     "text": [
      "/home/wopr/.local/lib/python3.6/site-packages/sklearn/preprocessing/label.py:219: DataConversionWarning: A column-vector y was passed when a 1d array was expected. Please change the shape of y to (n_samples, ), for example using ravel().\n",
      "  y = column_or_1d(y, warn=True)\n",
      "/home/wopr/.local/lib/python3.6/site-packages/sklearn/preprocessing/label.py:252: DataConversionWarning: A column-vector y was passed when a 1d array was expected. Please change the shape of y to (n_samples, ), for example using ravel().\n",
      "  y = column_or_1d(y, warn=True)\n"
     ]
    },
    {
     "name": "stdout",
     "output_type": "stream",
     "text": [
      "Training until validation scores don't improve for 100 rounds.\n",
      "[100]\tvalid's auc: 0.73151\n",
      "[200]\tvalid's auc: 0.756274\n",
      "[300]\tvalid's auc: 0.771627\n",
      "[400]\tvalid's auc: 0.78046\n",
      "[500]\tvalid's auc: 0.786742\n",
      "[600]\tvalid's auc: 0.790477\n",
      "[700]\tvalid's auc: 0.794333\n",
      "[800]\tvalid's auc: 0.796921\n",
      "[900]\tvalid's auc: 0.799274\n",
      "[1000]\tvalid's auc: 0.801051\n",
      "[1100]\tvalid's auc: 0.802923\n",
      "[1200]\tvalid's auc: 0.804602\n",
      "[1300]\tvalid's auc: 0.805975\n",
      "Early stopping, best iteration is:\n",
      "[1296]\tvalid's auc: 0.805975\n"
     ]
    },
    {
     "name": "stderr",
     "output_type": "stream",
     "text": [
      "/home/wopr/.local/lib/python3.6/site-packages/sklearn/preprocessing/label.py:219: DataConversionWarning: A column-vector y was passed when a 1d array was expected. Please change the shape of y to (n_samples, ), for example using ravel().\n",
      "  y = column_or_1d(y, warn=True)\n",
      "/home/wopr/.local/lib/python3.6/site-packages/sklearn/preprocessing/label.py:252: DataConversionWarning: A column-vector y was passed when a 1d array was expected. Please change the shape of y to (n_samples, ), for example using ravel().\n",
      "  y = column_or_1d(y, warn=True)\n"
     ]
    },
    {
     "name": "stdout",
     "output_type": "stream",
     "text": [
      "Training until validation scores don't improve for 100 rounds.\n",
      "[100]\tvalid's auc: 0.731746\n",
      "[200]\tvalid's auc: 0.759129\n",
      "[300]\tvalid's auc: 0.771948\n",
      "[400]\tvalid's auc: 0.780115\n",
      "[500]\tvalid's auc: 0.786258\n",
      "[600]\tvalid's auc: 0.79068\n",
      "[700]\tvalid's auc: 0.793209\n",
      "[800]\tvalid's auc: 0.79573\n",
      "[900]\tvalid's auc: 0.798776\n",
      "[1000]\tvalid's auc: 0.801353\n",
      "[1100]\tvalid's auc: 0.802834\n",
      "[1200]\tvalid's auc: 0.804621\n",
      "[1300]\tvalid's auc: 0.805941\n",
      "[1400]\tvalid's auc: 0.806158\n",
      "Early stopping, best iteration is:\n",
      "[1320]\tvalid's auc: 0.806158\n"
     ]
    },
    {
     "name": "stderr",
     "output_type": "stream",
     "text": [
      "/home/wopr/.local/lib/python3.6/site-packages/sklearn/preprocessing/label.py:219: DataConversionWarning: A column-vector y was passed when a 1d array was expected. Please change the shape of y to (n_samples, ), for example using ravel().\n",
      "  y = column_or_1d(y, warn=True)\n",
      "/home/wopr/.local/lib/python3.6/site-packages/sklearn/preprocessing/label.py:252: DataConversionWarning: A column-vector y was passed when a 1d array was expected. Please change the shape of y to (n_samples, ), for example using ravel().\n",
      "  y = column_or_1d(y, warn=True)\n"
     ]
    },
    {
     "name": "stdout",
     "output_type": "stream",
     "text": [
      "Training until validation scores don't improve for 100 rounds.\n",
      "[100]\tvalid's auc: 0.741537\n",
      "[200]\tvalid's auc: 0.770585\n",
      "[300]\tvalid's auc: 0.785022\n",
      "[400]\tvalid's auc: 0.794349\n",
      "[500]\tvalid's auc: 0.799132\n",
      "[600]\tvalid's auc: 0.802866\n",
      "[700]\tvalid's auc: 0.80495\n",
      "[800]\tvalid's auc: 0.805997\n",
      "[900]\tvalid's auc: 0.80692\n",
      "[1000]\tvalid's auc: 0.807786\n",
      "[1100]\tvalid's auc: 0.807969\n",
      "[1200]\tvalid's auc: 0.808777\n",
      "[1300]\tvalid's auc: 0.809841\n",
      "[1400]\tvalid's auc: 0.810086\n",
      "Early stopping, best iteration is:\n",
      "[1379]\tvalid's auc: 0.810331\n"
     ]
    },
    {
     "name": "stderr",
     "output_type": "stream",
     "text": [
      "/home/wopr/.local/lib/python3.6/site-packages/sklearn/preprocessing/label.py:219: DataConversionWarning: A column-vector y was passed when a 1d array was expected. Please change the shape of y to (n_samples, ), for example using ravel().\n",
      "  y = column_or_1d(y, warn=True)\n",
      "/home/wopr/.local/lib/python3.6/site-packages/sklearn/preprocessing/label.py:252: DataConversionWarning: A column-vector y was passed when a 1d array was expected. Please change the shape of y to (n_samples, ), for example using ravel().\n",
      "  y = column_or_1d(y, warn=True)\n"
     ]
    },
    {
     "name": "stdout",
     "output_type": "stream",
     "text": [
      "Training until validation scores don't improve for 100 rounds.\n",
      "[100]\tvalid's auc: 0.738369\n",
      "[200]\tvalid's auc: 0.766784\n",
      "[300]\tvalid's auc: 0.780929\n",
      "[400]\tvalid's auc: 0.790103\n",
      "[500]\tvalid's auc: 0.796019\n",
      "[600]\tvalid's auc: 0.798946\n",
      "[700]\tvalid's auc: 0.800657\n",
      "[800]\tvalid's auc: 0.80198\n",
      "[900]\tvalid's auc: 0.803736\n",
      "[1000]\tvalid's auc: 0.803914\n",
      "Early stopping, best iteration is:\n",
      "[971]\tvalid's auc: 0.804441\n"
     ]
    },
    {
     "name": "stderr",
     "output_type": "stream",
     "text": [
      "/home/wopr/.local/lib/python3.6/site-packages/sklearn/preprocessing/label.py:219: DataConversionWarning: A column-vector y was passed when a 1d array was expected. Please change the shape of y to (n_samples, ), for example using ravel().\n",
      "  y = column_or_1d(y, warn=True)\n",
      "/home/wopr/.local/lib/python3.6/site-packages/sklearn/preprocessing/label.py:252: DataConversionWarning: A column-vector y was passed when a 1d array was expected. Please change the shape of y to (n_samples, ), for example using ravel().\n",
      "  y = column_or_1d(y, warn=True)\n"
     ]
    },
    {
     "name": "stdout",
     "output_type": "stream",
     "text": [
      "Training until validation scores don't improve for 100 rounds.\n",
      "[100]\tvalid's auc: 0.74113\n",
      "[200]\tvalid's auc: 0.77008\n",
      "[300]\tvalid's auc: 0.784886\n",
      "[400]\tvalid's auc: 0.792899\n",
      "[500]\tvalid's auc: 0.796753\n",
      "[600]\tvalid's auc: 0.800144\n",
      "[700]\tvalid's auc: 0.801778\n",
      "[800]\tvalid's auc: 0.802742\n",
      "[900]\tvalid's auc: 0.803212\n",
      "[1000]\tvalid's auc: 0.804252\n",
      "[1100]\tvalid's auc: 0.804413\n",
      "[1200]\tvalid's auc: 0.804855\n",
      "[1300]\tvalid's auc: 0.80518\n",
      "[1400]\tvalid's auc: 0.805737\n",
      "[1500]\tvalid's auc: 0.80619\n",
      "[1600]\tvalid's auc: 0.806349\n",
      "Early stopping, best iteration is:\n",
      "[1547]\tvalid's auc: 0.806544\n"
     ]
    },
    {
     "name": "stderr",
     "output_type": "stream",
     "text": [
      "/home/wopr/.local/lib/python3.6/site-packages/sklearn/preprocessing/label.py:219: DataConversionWarning: A column-vector y was passed when a 1d array was expected. Please change the shape of y to (n_samples, ), for example using ravel().\n",
      "  y = column_or_1d(y, warn=True)\n",
      "/home/wopr/.local/lib/python3.6/site-packages/sklearn/preprocessing/label.py:252: DataConversionWarning: A column-vector y was passed when a 1d array was expected. Please change the shape of y to (n_samples, ), for example using ravel().\n",
      "  y = column_or_1d(y, warn=True)\n"
     ]
    },
    {
     "name": "stdout",
     "output_type": "stream",
     "text": [
      "Training until validation scores don't improve for 100 rounds.\n",
      "[100]\tvalid's auc: 0.740981\n",
      "[200]\tvalid's auc: 0.768587\n",
      "[300]\tvalid's auc: 0.782356\n",
      "[400]\tvalid's auc: 0.790455\n",
      "[500]\tvalid's auc: 0.796428\n",
      "[600]\tvalid's auc: 0.79984\n",
      "[700]\tvalid's auc: 0.802669\n",
      "[800]\tvalid's auc: 0.805348\n",
      "[900]\tvalid's auc: 0.807423\n",
      "[1000]\tvalid's auc: 0.808905\n",
      "[1100]\tvalid's auc: 0.809571\n",
      "Early stopping, best iteration is:\n",
      "[1056]\tvalid's auc: 0.809571\n"
     ]
    },
    {
     "name": "stderr",
     "output_type": "stream",
     "text": [
      "/home/wopr/.local/lib/python3.6/site-packages/sklearn/preprocessing/label.py:219: DataConversionWarning: A column-vector y was passed when a 1d array was expected. Please change the shape of y to (n_samples, ), for example using ravel().\n",
      "  y = column_or_1d(y, warn=True)\n",
      "/home/wopr/.local/lib/python3.6/site-packages/sklearn/preprocessing/label.py:252: DataConversionWarning: A column-vector y was passed when a 1d array was expected. Please change the shape of y to (n_samples, ), for example using ravel().\n",
      "  y = column_or_1d(y, warn=True)\n"
     ]
    },
    {
     "name": "stdout",
     "output_type": "stream",
     "text": [
      "Training until validation scores don't improve for 100 rounds.\n",
      "[100]\tvalid's auc: 0.740681\n",
      "[200]\tvalid's auc: 0.768334\n",
      "[300]\tvalid's auc: 0.780816\n",
      "[400]\tvalid's auc: 0.789172\n",
      "[500]\tvalid's auc: 0.795302\n",
      "[600]\tvalid's auc: 0.798816\n",
      "[700]\tvalid's auc: 0.802234\n",
      "[800]\tvalid's auc: 0.804157\n",
      "[900]\tvalid's auc: 0.805399\n",
      "[1000]\tvalid's auc: 0.80681\n",
      "[1100]\tvalid's auc: 0.808019\n",
      "Early stopping, best iteration is:\n",
      "[1093]\tvalid's auc: 0.808019\n"
     ]
    },
    {
     "name": "stderr",
     "output_type": "stream",
     "text": [
      "/home/wopr/.local/lib/python3.6/site-packages/sklearn/preprocessing/label.py:219: DataConversionWarning: A column-vector y was passed when a 1d array was expected. Please change the shape of y to (n_samples, ), for example using ravel().\n",
      "  y = column_or_1d(y, warn=True)\n",
      "/home/wopr/.local/lib/python3.6/site-packages/sklearn/preprocessing/label.py:252: DataConversionWarning: A column-vector y was passed when a 1d array was expected. Please change the shape of y to (n_samples, ), for example using ravel().\n",
      "  y = column_or_1d(y, warn=True)\n"
     ]
    },
    {
     "name": "stdout",
     "output_type": "stream",
     "text": [
      "Training until validation scores don't improve for 100 rounds.\n",
      "[100]\tvalid's auc: 0.740849\n",
      "[200]\tvalid's auc: 0.76653\n",
      "[300]\tvalid's auc: 0.780369\n",
      "[400]\tvalid's auc: 0.78907\n",
      "[500]\tvalid's auc: 0.795263\n",
      "[600]\tvalid's auc: 0.799754\n",
      "[700]\tvalid's auc: 0.802211\n",
      "[800]\tvalid's auc: 0.80457\n",
      "[900]\tvalid's auc: 0.806241\n",
      "[1000]\tvalid's auc: 0.808347\n",
      "[1100]\tvalid's auc: 0.809864\n",
      "[1200]\tvalid's auc: 0.809857\n",
      "Early stopping, best iteration is:\n",
      "[1103]\tvalid's auc: 0.809869\n"
     ]
    },
    {
     "name": "stderr",
     "output_type": "stream",
     "text": [
      "/home/wopr/.local/lib/python3.6/site-packages/sklearn/preprocessing/label.py:219: DataConversionWarning: A column-vector y was passed when a 1d array was expected. Please change the shape of y to (n_samples, ), for example using ravel().\n",
      "  y = column_or_1d(y, warn=True)\n",
      "/home/wopr/.local/lib/python3.6/site-packages/sklearn/preprocessing/label.py:252: DataConversionWarning: A column-vector y was passed when a 1d array was expected. Please change the shape of y to (n_samples, ), for example using ravel().\n",
      "  y = column_or_1d(y, warn=True)\n"
     ]
    },
    {
     "name": "stdout",
     "output_type": "stream",
     "text": [
      "Training until validation scores don't improve for 100 rounds.\n",
      "[100]\tvalid's auc: 0.736698\n",
      "[200]\tvalid's auc: 0.766331\n",
      "[300]\tvalid's auc: 0.781493\n",
      "[400]\tvalid's auc: 0.790741\n",
      "[500]\tvalid's auc: 0.796248\n",
      "[600]\tvalid's auc: 0.800732\n",
      "[700]\tvalid's auc: 0.804062\n",
      "[800]\tvalid's auc: 0.806254\n",
      "[900]\tvalid's auc: 0.808297\n",
      "[1000]\tvalid's auc: 0.81015\n",
      "[1100]\tvalid's auc: 0.810863\n",
      "[1200]\tvalid's auc: 0.811177\n",
      "[1300]\tvalid's auc: 0.812104\n",
      "[1400]\tvalid's auc: 0.81205\n",
      "Early stopping, best iteration is:\n",
      "[1327]\tvalid's auc: 0.812192\n"
     ]
    },
    {
     "name": "stderr",
     "output_type": "stream",
     "text": [
      "/home/wopr/.local/lib/python3.6/site-packages/sklearn/preprocessing/label.py:219: DataConversionWarning: A column-vector y was passed when a 1d array was expected. Please change the shape of y to (n_samples, ), for example using ravel().\n",
      "  y = column_or_1d(y, warn=True)\n",
      "/home/wopr/.local/lib/python3.6/site-packages/sklearn/preprocessing/label.py:252: DataConversionWarning: A column-vector y was passed when a 1d array was expected. Please change the shape of y to (n_samples, ), for example using ravel().\n",
      "  y = column_or_1d(y, warn=True)\n"
     ]
    },
    {
     "name": "stdout",
     "output_type": "stream",
     "text": [
      "Training until validation scores don't improve for 100 rounds.\n",
      "[100]\tvalid's auc: 0.740411\n",
      "[200]\tvalid's auc: 0.767989\n",
      "[300]\tvalid's auc: 0.782793\n",
      "[400]\tvalid's auc: 0.790561\n",
      "[500]\tvalid's auc: 0.796992\n",
      "[600]\tvalid's auc: 0.800774\n",
      "[700]\tvalid's auc: 0.803566\n",
      "[800]\tvalid's auc: 0.805387\n",
      "[900]\tvalid's auc: 0.807504\n",
      "[1000]\tvalid's auc: 0.808349\n",
      "[1100]\tvalid's auc: 0.80907\n",
      "[1200]\tvalid's auc: 0.810165\n",
      "[1300]\tvalid's auc: 0.810565\n",
      "[1400]\tvalid's auc: 0.810516\n",
      "Early stopping, best iteration is:\n",
      "[1372]\tvalid's auc: 0.810786\n"
     ]
    },
    {
     "name": "stderr",
     "output_type": "stream",
     "text": [
      "/home/wopr/.local/lib/python3.6/site-packages/sklearn/preprocessing/label.py:219: DataConversionWarning: A column-vector y was passed when a 1d array was expected. Please change the shape of y to (n_samples, ), for example using ravel().\n",
      "  y = column_or_1d(y, warn=True)\n",
      "/home/wopr/.local/lib/python3.6/site-packages/sklearn/preprocessing/label.py:252: DataConversionWarning: A column-vector y was passed when a 1d array was expected. Please change the shape of y to (n_samples, ), for example using ravel().\n",
      "  y = column_or_1d(y, warn=True)\n"
     ]
    },
    {
     "name": "stdout",
     "output_type": "stream",
     "text": [
      "Training until validation scores don't improve for 100 rounds.\n",
      "[100]\tvalid's auc: 0.738629\n",
      "[200]\tvalid's auc: 0.768016\n",
      "[300]\tvalid's auc: 0.782127\n",
      "[400]\tvalid's auc: 0.791741\n",
      "[500]\tvalid's auc: 0.797556\n",
      "[600]\tvalid's auc: 0.802761\n",
      "[700]\tvalid's auc: 0.806315\n",
      "[800]\tvalid's auc: 0.809273\n",
      "[900]\tvalid's auc: 0.81076\n",
      "[1000]\tvalid's auc: 0.812282\n",
      "[1100]\tvalid's auc: 0.813336\n",
      "[1200]\tvalid's auc: 0.814077\n",
      "[1300]\tvalid's auc: 0.814281\n",
      "[1400]\tvalid's auc: 0.814922\n",
      "[1500]\tvalid's auc: 0.815523\n",
      "[1600]\tvalid's auc: 0.815545\n",
      "[1700]\tvalid's auc: 0.815884\n",
      "[1800]\tvalid's auc: 0.816093\n",
      "[1900]\tvalid's auc: 0.816191\n",
      "Early stopping, best iteration is:\n",
      "[1863]\tvalid's auc: 0.816297\n"
     ]
    },
    {
     "name": "stderr",
     "output_type": "stream",
     "text": [
      "/home/wopr/.local/lib/python3.6/site-packages/sklearn/preprocessing/label.py:219: DataConversionWarning: A column-vector y was passed when a 1d array was expected. Please change the shape of y to (n_samples, ), for example using ravel().\n",
      "  y = column_or_1d(y, warn=True)\n",
      "/home/wopr/.local/lib/python3.6/site-packages/sklearn/preprocessing/label.py:252: DataConversionWarning: A column-vector y was passed when a 1d array was expected. Please change the shape of y to (n_samples, ), for example using ravel().\n",
      "  y = column_or_1d(y, warn=True)\n"
     ]
    },
    {
     "name": "stdout",
     "output_type": "stream",
     "text": [
      "Training until validation scores don't improve for 100 rounds.\n",
      "[100]\tvalid's auc: 0.762361\n",
      "[200]\tvalid's auc: 0.786107\n",
      "[300]\tvalid's auc: 0.79736\n",
      "[400]\tvalid's auc: 0.801485\n",
      "[500]\tvalid's auc: 0.80413\n",
      "[600]\tvalid's auc: 0.805587\n",
      "[700]\tvalid's auc: 0.807505\n",
      "[800]\tvalid's auc: 0.80834\n",
      "[900]\tvalid's auc: 0.808879\n",
      "[1000]\tvalid's auc: 0.809949\n",
      "[1100]\tvalid's auc: 0.811289\n",
      "[1200]\tvalid's auc: 0.812357\n",
      "[1300]\tvalid's auc: 0.812708\n",
      "[1400]\tvalid's auc: 0.813381\n",
      "[1500]\tvalid's auc: 0.813799\n",
      "[1600]\tvalid's auc: 0.814526\n",
      "[1700]\tvalid's auc: 0.814995\n",
      "[1800]\tvalid's auc: 0.815439\n",
      "[1900]\tvalid's auc: 0.815648\n",
      "[2000]\tvalid's auc: 0.815821\n",
      "[2100]\tvalid's auc: 0.816224\n",
      "[2200]\tvalid's auc: 0.816735\n",
      "[2300]\tvalid's auc: 0.817009\n",
      "[2400]\tvalid's auc: 0.817297\n",
      "[2500]\tvalid's auc: 0.817833\n",
      "[2600]\tvalid's auc: 0.817856\n",
      "[2700]\tvalid's auc: 0.818342\n",
      "[2800]\tvalid's auc: 0.818548\n",
      "[2900]\tvalid's auc: 0.818786\n",
      "[3000]\tvalid's auc: 0.818879\n",
      "[3100]\tvalid's auc: 0.819101\n",
      "Early stopping, best iteration is:\n",
      "[3087]\tvalid's auc: 0.819118\n"
     ]
    },
    {
     "name": "stderr",
     "output_type": "stream",
     "text": [
      "/home/wopr/.local/lib/python3.6/site-packages/sklearn/preprocessing/label.py:219: DataConversionWarning: A column-vector y was passed when a 1d array was expected. Please change the shape of y to (n_samples, ), for example using ravel().\n",
      "  y = column_or_1d(y, warn=True)\n",
      "/home/wopr/.local/lib/python3.6/site-packages/sklearn/preprocessing/label.py:252: DataConversionWarning: A column-vector y was passed when a 1d array was expected. Please change the shape of y to (n_samples, ), for example using ravel().\n",
      "  y = column_or_1d(y, warn=True)\n"
     ]
    },
    {
     "name": "stdout",
     "output_type": "stream",
     "text": [
      "Training until validation scores don't improve for 100 rounds.\n",
      "[100]\tvalid's auc: 0.762881\n",
      "[200]\tvalid's auc: 0.787168\n",
      "[300]\tvalid's auc: 0.79436\n",
      "[400]\tvalid's auc: 0.800138\n",
      "[500]\tvalid's auc: 0.802879\n",
      "[600]\tvalid's auc: 0.804701\n",
      "[700]\tvalid's auc: 0.806294\n",
      "[800]\tvalid's auc: 0.807293\n",
      "[900]\tvalid's auc: 0.808763\n",
      "[1000]\tvalid's auc: 0.809594\n",
      "[1100]\tvalid's auc: 0.8105\n",
      "[1200]\tvalid's auc: 0.810944\n",
      "[1300]\tvalid's auc: 0.81205\n",
      "[1400]\tvalid's auc: 0.812509\n",
      "[1500]\tvalid's auc: 0.812679\n",
      "[1600]\tvalid's auc: 0.813108\n",
      "[1700]\tvalid's auc: 0.813552\n",
      "[1800]\tvalid's auc: 0.813753\n",
      "[1900]\tvalid's auc: 0.814249\n",
      "[2000]\tvalid's auc: 0.814449\n",
      "[2100]\tvalid's auc: 0.814763\n",
      "[2200]\tvalid's auc: 0.814978\n",
      "[2300]\tvalid's auc: 0.815139\n",
      "[2400]\tvalid's auc: 0.815436\n",
      "[2500]\tvalid's auc: 0.815771\n",
      "[2600]\tvalid's auc: 0.816237\n",
      "[2700]\tvalid's auc: 0.816513\n",
      "[2800]\tvalid's auc: 0.81671\n",
      "[2900]\tvalid's auc: 0.816904\n",
      "[3000]\tvalid's auc: 0.817316\n",
      "[3100]\tvalid's auc: 0.817541\n",
      "[3200]\tvalid's auc: 0.817554\n",
      "Early stopping, best iteration is:\n",
      "[3107]\tvalid's auc: 0.817566\n"
     ]
    },
    {
     "name": "stderr",
     "output_type": "stream",
     "text": [
      "/home/wopr/.local/lib/python3.6/site-packages/sklearn/preprocessing/label.py:219: DataConversionWarning: A column-vector y was passed when a 1d array was expected. Please change the shape of y to (n_samples, ), for example using ravel().\n",
      "  y = column_or_1d(y, warn=True)\n",
      "/home/wopr/.local/lib/python3.6/site-packages/sklearn/preprocessing/label.py:252: DataConversionWarning: A column-vector y was passed when a 1d array was expected. Please change the shape of y to (n_samples, ), for example using ravel().\n",
      "  y = column_or_1d(y, warn=True)\n"
     ]
    },
    {
     "name": "stdout",
     "output_type": "stream",
     "text": [
      "Training until validation scores don't improve for 100 rounds.\n",
      "[100]\tvalid's auc: 0.763536\n",
      "[200]\tvalid's auc: 0.785011\n",
      "[300]\tvalid's auc: 0.794667\n",
      "[400]\tvalid's auc: 0.799914\n",
      "[500]\tvalid's auc: 0.80327\n",
      "[600]\tvalid's auc: 0.804259\n",
      "[700]\tvalid's auc: 0.805945\n",
      "[800]\tvalid's auc: 0.807599\n",
      "[900]\tvalid's auc: 0.809042\n",
      "[1000]\tvalid's auc: 0.809987\n",
      "[1100]\tvalid's auc: 0.810391\n",
      "[1200]\tvalid's auc: 0.811304\n",
      "[1300]\tvalid's auc: 0.812216\n",
      "[1400]\tvalid's auc: 0.812724\n",
      "[1500]\tvalid's auc: 0.813244\n",
      "[1600]\tvalid's auc: 0.813948\n",
      "[1700]\tvalid's auc: 0.81421\n",
      "[1800]\tvalid's auc: 0.814712\n",
      "[1900]\tvalid's auc: 0.814836\n",
      "[2000]\tvalid's auc: 0.81525\n",
      "[2100]\tvalid's auc: 0.815707\n",
      "[2200]\tvalid's auc: 0.816097\n",
      "[2300]\tvalid's auc: 0.816289\n",
      "[2400]\tvalid's auc: 0.816594\n",
      "[2500]\tvalid's auc: 0.817\n",
      "[2600]\tvalid's auc: 0.817074\n",
      "[2700]\tvalid's auc: 0.817278\n",
      "[2800]\tvalid's auc: 0.817512\n",
      "[2900]\tvalid's auc: 0.817711\n",
      "[3000]\tvalid's auc: 0.818083\n",
      "[3100]\tvalid's auc: 0.818249\n",
      "Early stopping, best iteration is:\n",
      "[3092]\tvalid's auc: 0.818256\n"
     ]
    },
    {
     "name": "stderr",
     "output_type": "stream",
     "text": [
      "/home/wopr/.local/lib/python3.6/site-packages/sklearn/preprocessing/label.py:219: DataConversionWarning: A column-vector y was passed when a 1d array was expected. Please change the shape of y to (n_samples, ), for example using ravel().\n",
      "  y = column_or_1d(y, warn=True)\n",
      "/home/wopr/.local/lib/python3.6/site-packages/sklearn/preprocessing/label.py:252: DataConversionWarning: A column-vector y was passed when a 1d array was expected. Please change the shape of y to (n_samples, ), for example using ravel().\n",
      "  y = column_or_1d(y, warn=True)\n"
     ]
    },
    {
     "name": "stdout",
     "output_type": "stream",
     "text": [
      "Training until validation scores don't improve for 100 rounds.\n",
      "[100]\tvalid's auc: 0.5\n",
      "Early stopping, best iteration is:\n",
      "[1]\tvalid's auc: 0.5\n"
     ]
    },
    {
     "name": "stderr",
     "output_type": "stream",
     "text": [
      "/home/wopr/.local/lib/python3.6/site-packages/sklearn/preprocessing/label.py:219: DataConversionWarning: A column-vector y was passed when a 1d array was expected. Please change the shape of y to (n_samples, ), for example using ravel().\n",
      "  y = column_or_1d(y, warn=True)\n",
      "/home/wopr/.local/lib/python3.6/site-packages/sklearn/preprocessing/label.py:252: DataConversionWarning: A column-vector y was passed when a 1d array was expected. Please change the shape of y to (n_samples, ), for example using ravel().\n",
      "  y = column_or_1d(y, warn=True)\n"
     ]
    },
    {
     "name": "stdout",
     "output_type": "stream",
     "text": [
      "Training until validation scores don't improve for 100 rounds.\n",
      "[100]\tvalid's auc: 0.5\n",
      "Early stopping, best iteration is:\n",
      "[1]\tvalid's auc: 0.5\n"
     ]
    },
    {
     "name": "stderr",
     "output_type": "stream",
     "text": [
      "/home/wopr/.local/lib/python3.6/site-packages/sklearn/preprocessing/label.py:219: DataConversionWarning: A column-vector y was passed when a 1d array was expected. Please change the shape of y to (n_samples, ), for example using ravel().\n",
      "  y = column_or_1d(y, warn=True)\n",
      "/home/wopr/.local/lib/python3.6/site-packages/sklearn/preprocessing/label.py:252: DataConversionWarning: A column-vector y was passed when a 1d array was expected. Please change the shape of y to (n_samples, ), for example using ravel().\n",
      "  y = column_or_1d(y, warn=True)\n"
     ]
    },
    {
     "name": "stdout",
     "output_type": "stream",
     "text": [
      "Training until validation scores don't improve for 100 rounds.\n",
      "[100]\tvalid's auc: 0.5\n",
      "Early stopping, best iteration is:\n",
      "[1]\tvalid's auc: 0.5\n"
     ]
    },
    {
     "name": "stderr",
     "output_type": "stream",
     "text": [
      "/home/wopr/.local/lib/python3.6/site-packages/sklearn/preprocessing/label.py:219: DataConversionWarning: A column-vector y was passed when a 1d array was expected. Please change the shape of y to (n_samples, ), for example using ravel().\n",
      "  y = column_or_1d(y, warn=True)\n",
      "/home/wopr/.local/lib/python3.6/site-packages/sklearn/preprocessing/label.py:252: DataConversionWarning: A column-vector y was passed when a 1d array was expected. Please change the shape of y to (n_samples, ), for example using ravel().\n",
      "  y = column_or_1d(y, warn=True)\n"
     ]
    },
    {
     "name": "stdout",
     "output_type": "stream",
     "text": [
      "Training until validation scores don't improve for 100 rounds.\n",
      "[100]\tvalid's auc: 0.754415\n",
      "[200]\tvalid's auc: 0.781368\n",
      "[300]\tvalid's auc: 0.793696\n",
      "[400]\tvalid's auc: 0.80076\n",
      "[500]\tvalid's auc: 0.804306\n",
      "[600]\tvalid's auc: 0.806868\n",
      "[700]\tvalid's auc: 0.808324\n",
      "[800]\tvalid's auc: 0.809382\n",
      "[900]\tvalid's auc: 0.809748\n",
      "[1000]\tvalid's auc: 0.81022\n",
      "[1100]\tvalid's auc: 0.810672\n",
      "[1200]\tvalid's auc: 0.811554\n",
      "[1300]\tvalid's auc: 0.811784\n",
      "[1400]\tvalid's auc: 0.812152\n",
      "[1500]\tvalid's auc: 0.812451\n",
      "[1600]\tvalid's auc: 0.812715\n",
      "[1700]\tvalid's auc: 0.813007\n",
      "[1800]\tvalid's auc: 0.813311\n",
      "[1900]\tvalid's auc: 0.813474\n",
      "[2000]\tvalid's auc: 0.814075\n",
      "[2100]\tvalid's auc: 0.814337\n",
      "[2200]\tvalid's auc: 0.814995\n",
      "[2300]\tvalid's auc: 0.815465\n",
      "[2400]\tvalid's auc: 0.815632\n",
      "[2500]\tvalid's auc: 0.815963\n",
      "[2600]\tvalid's auc: 0.81626\n",
      "[2700]\tvalid's auc: 0.816558\n",
      "[2800]\tvalid's auc: 0.8168\n",
      "[2900]\tvalid's auc: 0.817186\n",
      "[3000]\tvalid's auc: 0.817429\n",
      "[3100]\tvalid's auc: 0.817783\n",
      "[3200]\tvalid's auc: 0.818015\n",
      "[3300]\tvalid's auc: 0.818104\n",
      "[3400]\tvalid's auc: 0.818411\n",
      "[3500]\tvalid's auc: 0.818826\n",
      "[3600]\tvalid's auc: 0.819108\n",
      "[3700]\tvalid's auc: 0.819266\n",
      "Early stopping, best iteration is:\n",
      "[3680]\tvalid's auc: 0.819289\n"
     ]
    },
    {
     "name": "stderr",
     "output_type": "stream",
     "text": [
      "/home/wopr/.local/lib/python3.6/site-packages/sklearn/preprocessing/label.py:219: DataConversionWarning: A column-vector y was passed when a 1d array was expected. Please change the shape of y to (n_samples, ), for example using ravel().\n",
      "  y = column_or_1d(y, warn=True)\n",
      "/home/wopr/.local/lib/python3.6/site-packages/sklearn/preprocessing/label.py:252: DataConversionWarning: A column-vector y was passed when a 1d array was expected. Please change the shape of y to (n_samples, ), for example using ravel().\n",
      "  y = column_or_1d(y, warn=True)\n"
     ]
    },
    {
     "name": "stdout",
     "output_type": "stream",
     "text": [
      "Training until validation scores don't improve for 100 rounds.\n",
      "[100]\tvalid's auc: 0.757006\n",
      "[200]\tvalid's auc: 0.78019\n",
      "[300]\tvalid's auc: 0.791986\n",
      "[400]\tvalid's auc: 0.798113\n",
      "[500]\tvalid's auc: 0.801022\n",
      "[600]\tvalid's auc: 0.803905\n",
      "[700]\tvalid's auc: 0.805374\n",
      "[800]\tvalid's auc: 0.805799\n",
      "[900]\tvalid's auc: 0.806203\n",
      "[1000]\tvalid's auc: 0.807162\n",
      "[1100]\tvalid's auc: 0.807769\n",
      "[1200]\tvalid's auc: 0.808302\n",
      "[1300]\tvalid's auc: 0.808602\n",
      "[1400]\tvalid's auc: 0.809374\n",
      "[1500]\tvalid's auc: 0.809266\n",
      "[1600]\tvalid's auc: 0.809422\n",
      "Early stopping, best iteration is:\n",
      "[1538]\tvalid's auc: 0.809577\n"
     ]
    },
    {
     "name": "stderr",
     "output_type": "stream",
     "text": [
      "/home/wopr/.local/lib/python3.6/site-packages/sklearn/preprocessing/label.py:219: DataConversionWarning: A column-vector y was passed when a 1d array was expected. Please change the shape of y to (n_samples, ), for example using ravel().\n",
      "  y = column_or_1d(y, warn=True)\n",
      "/home/wopr/.local/lib/python3.6/site-packages/sklearn/preprocessing/label.py:252: DataConversionWarning: A column-vector y was passed when a 1d array was expected. Please change the shape of y to (n_samples, ), for example using ravel().\n",
      "  y = column_or_1d(y, warn=True)\n"
     ]
    },
    {
     "name": "stdout",
     "output_type": "stream",
     "text": [
      "Training until validation scores don't improve for 100 rounds.\n",
      "[100]\tvalid's auc: 0.754699\n",
      "[200]\tvalid's auc: 0.780704\n",
      "[300]\tvalid's auc: 0.790704\n",
      "[400]\tvalid's auc: 0.798567\n",
      "[500]\tvalid's auc: 0.801849\n",
      "[600]\tvalid's auc: 0.803486\n",
      "[700]\tvalid's auc: 0.803886\n",
      "[800]\tvalid's auc: 0.804738\n",
      "Early stopping, best iteration is:\n",
      "[762]\tvalid's auc: 0.80509\n"
     ]
    },
    {
     "name": "stderr",
     "output_type": "stream",
     "text": [
      "/home/wopr/.local/lib/python3.6/site-packages/sklearn/preprocessing/label.py:219: DataConversionWarning: A column-vector y was passed when a 1d array was expected. Please change the shape of y to (n_samples, ), for example using ravel().\n",
      "  y = column_or_1d(y, warn=True)\n",
      "/home/wopr/.local/lib/python3.6/site-packages/sklearn/preprocessing/label.py:252: DataConversionWarning: A column-vector y was passed when a 1d array was expected. Please change the shape of y to (n_samples, ), for example using ravel().\n",
      "  y = column_or_1d(y, warn=True)\n"
     ]
    },
    {
     "name": "stdout",
     "output_type": "stream",
     "text": [
      "Training until validation scores don't improve for 100 rounds.\n",
      "[100]\tvalid's auc: 0.765051\n",
      "[200]\tvalid's auc: 0.788491\n",
      "[300]\tvalid's auc: 0.799351\n",
      "[400]\tvalid's auc: 0.805589\n",
      "[500]\tvalid's auc: 0.808459\n",
      "[600]\tvalid's auc: 0.809438\n",
      "[700]\tvalid's auc: 0.811176\n",
      "[800]\tvalid's auc: 0.812583\n",
      "[900]\tvalid's auc: 0.813307\n",
      "[1000]\tvalid's auc: 0.81436\n",
      "[1100]\tvalid's auc: 0.814785\n",
      "[1200]\tvalid's auc: 0.815442\n",
      "[1300]\tvalid's auc: 0.81631\n",
      "[1400]\tvalid's auc: 0.816739\n",
      "[1500]\tvalid's auc: 0.816869\n",
      "[1600]\tvalid's auc: 0.817107\n",
      "[1700]\tvalid's auc: 0.817562\n",
      "Early stopping, best iteration is:\n",
      "[1675]\tvalid's auc: 0.817685\n"
     ]
    },
    {
     "name": "stderr",
     "output_type": "stream",
     "text": [
      "/home/wopr/.local/lib/python3.6/site-packages/sklearn/preprocessing/label.py:219: DataConversionWarning: A column-vector y was passed when a 1d array was expected. Please change the shape of y to (n_samples, ), for example using ravel().\n",
      "  y = column_or_1d(y, warn=True)\n",
      "/home/wopr/.local/lib/python3.6/site-packages/sklearn/preprocessing/label.py:252: DataConversionWarning: A column-vector y was passed when a 1d array was expected. Please change the shape of y to (n_samples, ), for example using ravel().\n",
      "  y = column_or_1d(y, warn=True)\n"
     ]
    },
    {
     "name": "stdout",
     "output_type": "stream",
     "text": [
      "Training until validation scores don't improve for 100 rounds.\n",
      "[100]\tvalid's auc: 0.762881\n",
      "[200]\tvalid's auc: 0.786075\n",
      "[300]\tvalid's auc: 0.796136\n",
      "[400]\tvalid's auc: 0.801013\n",
      "[500]\tvalid's auc: 0.805003\n",
      "[600]\tvalid's auc: 0.807884\n",
      "[700]\tvalid's auc: 0.80991\n",
      "[800]\tvalid's auc: 0.811084\n",
      "[900]\tvalid's auc: 0.812083\n",
      "[1000]\tvalid's auc: 0.812086\n",
      "[1100]\tvalid's auc: 0.813319\n",
      "[1200]\tvalid's auc: 0.813908\n",
      "[1300]\tvalid's auc: 0.814308\n",
      "[1400]\tvalid's auc: 0.8149\n",
      "[1500]\tvalid's auc: 0.815219\n",
      "[1600]\tvalid's auc: 0.81538\n",
      "[1700]\tvalid's auc: 0.815674\n",
      "[1800]\tvalid's auc: 0.815739\n",
      "[1900]\tvalid's auc: 0.81629\n",
      "[2000]\tvalid's auc: 0.816436\n",
      "[2100]\tvalid's auc: 0.816715\n",
      "[2200]\tvalid's auc: 0.817001\n",
      "[2300]\tvalid's auc: 0.817179\n",
      "[2400]\tvalid's auc: 0.817351\n",
      "[2500]\tvalid's auc: 0.817585\n",
      "[2600]\tvalid's auc: 0.81779\n",
      "[2700]\tvalid's auc: 0.81802\n",
      "[2800]\tvalid's auc: 0.818022\n",
      "Early stopping, best iteration is:\n",
      "[2712]\tvalid's auc: 0.818036\n"
     ]
    },
    {
     "name": "stderr",
     "output_type": "stream",
     "text": [
      "/home/wopr/.local/lib/python3.6/site-packages/sklearn/preprocessing/label.py:219: DataConversionWarning: A column-vector y was passed when a 1d array was expected. Please change the shape of y to (n_samples, ), for example using ravel().\n",
      "  y = column_or_1d(y, warn=True)\n",
      "/home/wopr/.local/lib/python3.6/site-packages/sklearn/preprocessing/label.py:252: DataConversionWarning: A column-vector y was passed when a 1d array was expected. Please change the shape of y to (n_samples, ), for example using ravel().\n",
      "  y = column_or_1d(y, warn=True)\n"
     ]
    },
    {
     "name": "stdout",
     "output_type": "stream",
     "text": [
      "Training until validation scores don't improve for 100 rounds.\n",
      "[100]\tvalid's auc: 0.763633\n",
      "[200]\tvalid's auc: 0.787685\n",
      "[300]\tvalid's auc: 0.798175\n",
      "[400]\tvalid's auc: 0.803499\n",
      "[500]\tvalid's auc: 0.805906\n",
      "[600]\tvalid's auc: 0.808027\n",
      "[700]\tvalid's auc: 0.809897\n",
      "[800]\tvalid's auc: 0.810949\n",
      "[900]\tvalid's auc: 0.812191\n",
      "[1000]\tvalid's auc: 0.812829\n",
      "[1100]\tvalid's auc: 0.813225\n",
      "[1200]\tvalid's auc: 0.813739\n",
      "[1300]\tvalid's auc: 0.813918\n",
      "[1400]\tvalid's auc: 0.814304\n",
      "[1500]\tvalid's auc: 0.81488\n",
      "[1600]\tvalid's auc: 0.815165\n",
      "[1700]\tvalid's auc: 0.815561\n",
      "[1800]\tvalid's auc: 0.815823\n",
      "[1900]\tvalid's auc: 0.816207\n",
      "[2000]\tvalid's auc: 0.816344\n",
      "[2100]\tvalid's auc: 0.816623\n",
      "[2200]\tvalid's auc: 0.816855\n",
      "[2300]\tvalid's auc: 0.817191\n",
      "[2400]\tvalid's auc: 0.81739\n",
      "[2500]\tvalid's auc: 0.8176\n",
      "[2600]\tvalid's auc: 0.817789\n",
      "[2700]\tvalid's auc: 0.817889\n",
      "[2800]\tvalid's auc: 0.818016\n",
      "Early stopping, best iteration is:\n",
      "[2732]\tvalid's auc: 0.818026\n"
     ]
    },
    {
     "name": "stderr",
     "output_type": "stream",
     "text": [
      "/home/wopr/.local/lib/python3.6/site-packages/sklearn/preprocessing/label.py:219: DataConversionWarning: A column-vector y was passed when a 1d array was expected. Please change the shape of y to (n_samples, ), for example using ravel().\n",
      "  y = column_or_1d(y, warn=True)\n",
      "/home/wopr/.local/lib/python3.6/site-packages/sklearn/preprocessing/label.py:252: DataConversionWarning: A column-vector y was passed when a 1d array was expected. Please change the shape of y to (n_samples, ), for example using ravel().\n",
      "  y = column_or_1d(y, warn=True)\n"
     ]
    },
    {
     "name": "stdout",
     "output_type": "stream",
     "text": [
      "Training until validation scores don't improve for 100 rounds.\n",
      "[100]\tvalid's auc: 0.735794\n",
      "[200]\tvalid's auc: 0.765004\n",
      "[300]\tvalid's auc: 0.78047\n",
      "[400]\tvalid's auc: 0.790598\n",
      "[500]\tvalid's auc: 0.797028\n",
      "[600]\tvalid's auc: 0.801474\n",
      "[700]\tvalid's auc: 0.80497\n",
      "[800]\tvalid's auc: 0.808123\n",
      "[900]\tvalid's auc: 0.810219\n",
      "[1000]\tvalid's auc: 0.811548\n",
      "[1100]\tvalid's auc: 0.812527\n",
      "[1200]\tvalid's auc: 0.813182\n",
      "[1300]\tvalid's auc: 0.813571\n",
      "[1400]\tvalid's auc: 0.81417\n",
      "[1500]\tvalid's auc: 0.814626\n",
      "[1600]\tvalid's auc: 0.815067\n",
      "[1700]\tvalid's auc: 0.815436\n",
      "[1800]\tvalid's auc: 0.815499\n",
      "[1900]\tvalid's auc: 0.815165\n",
      "Early stopping, best iteration is:\n",
      "[1814]\tvalid's auc: 0.815581\n"
     ]
    },
    {
     "name": "stderr",
     "output_type": "stream",
     "text": [
      "/home/wopr/.local/lib/python3.6/site-packages/sklearn/preprocessing/label.py:219: DataConversionWarning: A column-vector y was passed when a 1d array was expected. Please change the shape of y to (n_samples, ), for example using ravel().\n",
      "  y = column_or_1d(y, warn=True)\n",
      "/home/wopr/.local/lib/python3.6/site-packages/sklearn/preprocessing/label.py:252: DataConversionWarning: A column-vector y was passed when a 1d array was expected. Please change the shape of y to (n_samples, ), for example using ravel().\n",
      "  y = column_or_1d(y, warn=True)\n"
     ]
    },
    {
     "name": "stdout",
     "output_type": "stream",
     "text": [
      "Training until validation scores don't improve for 100 rounds.\n",
      "[100]\tvalid's auc: 0.739923\n",
      "[200]\tvalid's auc: 0.768172\n",
      "[300]\tvalid's auc: 0.781285\n",
      "[400]\tvalid's auc: 0.791336\n",
      "[500]\tvalid's auc: 0.796601\n",
      "[600]\tvalid's auc: 0.800983\n",
      "[700]\tvalid's auc: 0.803904\n",
      "[800]\tvalid's auc: 0.806645\n",
      "[900]\tvalid's auc: 0.808597\n",
      "[1000]\tvalid's auc: 0.810222\n",
      "[1100]\tvalid's auc: 0.811452\n",
      "[1200]\tvalid's auc: 0.812476\n",
      "[1300]\tvalid's auc: 0.813256\n",
      "[1400]\tvalid's auc: 0.813511\n",
      "Early stopping, best iteration is:\n",
      "[1368]\tvalid's auc: 0.813638\n"
     ]
    },
    {
     "name": "stderr",
     "output_type": "stream",
     "text": [
      "/home/wopr/.local/lib/python3.6/site-packages/sklearn/preprocessing/label.py:219: DataConversionWarning: A column-vector y was passed when a 1d array was expected. Please change the shape of y to (n_samples, ), for example using ravel().\n",
      "  y = column_or_1d(y, warn=True)\n",
      "/home/wopr/.local/lib/python3.6/site-packages/sklearn/preprocessing/label.py:252: DataConversionWarning: A column-vector y was passed when a 1d array was expected. Please change the shape of y to (n_samples, ), for example using ravel().\n",
      "  y = column_or_1d(y, warn=True)\n"
     ]
    },
    {
     "name": "stdout",
     "output_type": "stream",
     "text": [
      "Training until validation scores don't improve for 100 rounds.\n",
      "[100]\tvalid's auc: 0.739385\n",
      "[200]\tvalid's auc: 0.766714\n",
      "[300]\tvalid's auc: 0.781942\n",
      "[400]\tvalid's auc: 0.790625\n",
      "[500]\tvalid's auc: 0.796519\n",
      "[600]\tvalid's auc: 0.801167\n",
      "[700]\tvalid's auc: 0.804953\n",
      "[800]\tvalid's auc: 0.806887\n",
      "[900]\tvalid's auc: 0.80882\n",
      "[1000]\tvalid's auc: 0.809957\n",
      "[1100]\tvalid's auc: 0.811202\n",
      "[1200]\tvalid's auc: 0.81153\n",
      "[1300]\tvalid's auc: 0.812052\n",
      "[1400]\tvalid's auc: 0.812397\n",
      "[1500]\tvalid's auc: 0.812613\n",
      "[1600]\tvalid's auc: 0.812789\n",
      "Early stopping, best iteration is:\n",
      "[1555]\tvalid's auc: 0.812959\n"
     ]
    },
    {
     "name": "stderr",
     "output_type": "stream",
     "text": [
      "/home/wopr/.local/lib/python3.6/site-packages/sklearn/preprocessing/label.py:219: DataConversionWarning: A column-vector y was passed when a 1d array was expected. Please change the shape of y to (n_samples, ), for example using ravel().\n",
      "  y = column_or_1d(y, warn=True)\n",
      "/home/wopr/.local/lib/python3.6/site-packages/sklearn/preprocessing/label.py:252: DataConversionWarning: A column-vector y was passed when a 1d array was expected. Please change the shape of y to (n_samples, ), for example using ravel().\n",
      "  y = column_or_1d(y, warn=True)\n"
     ]
    },
    {
     "name": "stdout",
     "output_type": "stream",
     "text": [
      "Training until validation scores don't improve for 100 rounds.\n",
      "[100]\tvalid's auc: 0.749004\n",
      "[200]\tvalid's auc: 0.776179\n",
      "[300]\tvalid's auc: 0.787872\n",
      "[400]\tvalid's auc: 0.796092\n",
      "[500]\tvalid's auc: 0.801966\n",
      "[600]\tvalid's auc: 0.806164\n",
      "[700]\tvalid's auc: 0.808363\n",
      "[800]\tvalid's auc: 0.810267\n",
      "[900]\tvalid's auc: 0.811582\n",
      "[1000]\tvalid's auc: 0.812638\n",
      "[1100]\tvalid's auc: 0.813641\n",
      "[1200]\tvalid's auc: 0.814159\n",
      "[1300]\tvalid's auc: 0.814358\n",
      "Early stopping, best iteration is:\n",
      "[1280]\tvalid's auc: 0.814358\n"
     ]
    },
    {
     "name": "stderr",
     "output_type": "stream",
     "text": [
      "/home/wopr/.local/lib/python3.6/site-packages/sklearn/preprocessing/label.py:219: DataConversionWarning: A column-vector y was passed when a 1d array was expected. Please change the shape of y to (n_samples, ), for example using ravel().\n",
      "  y = column_or_1d(y, warn=True)\n",
      "/home/wopr/.local/lib/python3.6/site-packages/sklearn/preprocessing/label.py:252: DataConversionWarning: A column-vector y was passed when a 1d array was expected. Please change the shape of y to (n_samples, ), for example using ravel().\n",
      "  y = column_or_1d(y, warn=True)\n"
     ]
    },
    {
     "name": "stdout",
     "output_type": "stream",
     "text": [
      "Training until validation scores don't improve for 100 rounds.\n",
      "[100]\tvalid's auc: 0.753668\n",
      "[200]\tvalid's auc: 0.777713\n",
      "[300]\tvalid's auc: 0.791971\n",
      "[400]\tvalid's auc: 0.798442\n",
      "[500]\tvalid's auc: 0.80335\n",
      "[600]\tvalid's auc: 0.806884\n",
      "[700]\tvalid's auc: 0.809887\n",
      "[800]\tvalid's auc: 0.811519\n",
      "[900]\tvalid's auc: 0.813376\n",
      "[1000]\tvalid's auc: 0.814275\n",
      "[1100]\tvalid's auc: 0.815279\n",
      "[1200]\tvalid's auc: 0.815693\n",
      "[1300]\tvalid's auc: 0.816069\n",
      "[1400]\tvalid's auc: 0.816186\n",
      "Early stopping, best iteration is:\n",
      "[1324]\tvalid's auc: 0.816186\n"
     ]
    },
    {
     "name": "stderr",
     "output_type": "stream",
     "text": [
      "/home/wopr/.local/lib/python3.6/site-packages/sklearn/preprocessing/label.py:219: DataConversionWarning: A column-vector y was passed when a 1d array was expected. Please change the shape of y to (n_samples, ), for example using ravel().\n",
      "  y = column_or_1d(y, warn=True)\n",
      "/home/wopr/.local/lib/python3.6/site-packages/sklearn/preprocessing/label.py:252: DataConversionWarning: A column-vector y was passed when a 1d array was expected. Please change the shape of y to (n_samples, ), for example using ravel().\n",
      "  y = column_or_1d(y, warn=True)\n"
     ]
    },
    {
     "name": "stdout",
     "output_type": "stream",
     "text": [
      "Training until validation scores don't improve for 100 rounds.\n",
      "[100]\tvalid's auc: 0.752977\n",
      "[200]\tvalid's auc: 0.777015\n",
      "[300]\tvalid's auc: 0.790171\n",
      "[400]\tvalid's auc: 0.796668\n",
      "[500]\tvalid's auc: 0.80105\n",
      "[600]\tvalid's auc: 0.80443\n",
      "[700]\tvalid's auc: 0.807254\n",
      "[800]\tvalid's auc: 0.808908\n",
      "[900]\tvalid's auc: 0.810429\n",
      "[1000]\tvalid's auc: 0.811892\n",
      "[1100]\tvalid's auc: 0.812793\n",
      "[1200]\tvalid's auc: 0.813741\n",
      "[1300]\tvalid's auc: 0.813723\n",
      "Early stopping, best iteration is:\n",
      "[1214]\tvalid's auc: 0.813834\n"
     ]
    },
    {
     "name": "stderr",
     "output_type": "stream",
     "text": [
      "/home/wopr/.local/lib/python3.6/site-packages/sklearn/preprocessing/label.py:219: DataConversionWarning: A column-vector y was passed when a 1d array was expected. Please change the shape of y to (n_samples, ), for example using ravel().\n",
      "  y = column_or_1d(y, warn=True)\n",
      "/home/wopr/.local/lib/python3.6/site-packages/sklearn/preprocessing/label.py:252: DataConversionWarning: A column-vector y was passed when a 1d array was expected. Please change the shape of y to (n_samples, ), for example using ravel().\n",
      "  y = column_or_1d(y, warn=True)\n"
     ]
    },
    {
     "name": "stdout",
     "output_type": "stream",
     "text": [
      "Training until validation scores don't improve for 100 rounds.\n",
      "[100]\tvalid's auc: 0.746791\n",
      "[200]\tvalid's auc: 0.774986\n",
      "[300]\tvalid's auc: 0.787131\n",
      "[400]\tvalid's auc: 0.793461\n",
      "[500]\tvalid's auc: 0.796981\n",
      "[600]\tvalid's auc: 0.799329\n",
      "[700]\tvalid's auc: 0.801566\n",
      "[800]\tvalid's auc: 0.803006\n",
      "[900]\tvalid's auc: 0.804282\n",
      "[1000]\tvalid's auc: 0.804708\n",
      "Early stopping, best iteration is:\n",
      "[940]\tvalid's auc: 0.804715\n"
     ]
    },
    {
     "name": "stderr",
     "output_type": "stream",
     "text": [
      "/home/wopr/.local/lib/python3.6/site-packages/sklearn/preprocessing/label.py:219: DataConversionWarning: A column-vector y was passed when a 1d array was expected. Please change the shape of y to (n_samples, ), for example using ravel().\n",
      "  y = column_or_1d(y, warn=True)\n",
      "/home/wopr/.local/lib/python3.6/site-packages/sklearn/preprocessing/label.py:252: DataConversionWarning: A column-vector y was passed when a 1d array was expected. Please change the shape of y to (n_samples, ), for example using ravel().\n",
      "  y = column_or_1d(y, warn=True)\n"
     ]
    },
    {
     "name": "stdout",
     "output_type": "stream",
     "text": [
      "Training until validation scores don't improve for 100 rounds.\n",
      "[100]\tvalid's auc: 0.743826\n",
      "[200]\tvalid's auc: 0.770291\n",
      "[300]\tvalid's auc: 0.783244\n",
      "[400]\tvalid's auc: 0.790215\n",
      "[500]\tvalid's auc: 0.794296\n",
      "[600]\tvalid's auc: 0.796696\n",
      "[700]\tvalid's auc: 0.798315\n",
      "[800]\tvalid's auc: 0.800431\n",
      "[900]\tvalid's auc: 0.802098\n",
      "[1000]\tvalid's auc: 0.802357\n",
      "Early stopping, best iteration is:\n",
      "[928]\tvalid's auc: 0.80238\n"
     ]
    },
    {
     "name": "stderr",
     "output_type": "stream",
     "text": [
      "/home/wopr/.local/lib/python3.6/site-packages/sklearn/preprocessing/label.py:219: DataConversionWarning: A column-vector y was passed when a 1d array was expected. Please change the shape of y to (n_samples, ), for example using ravel().\n",
      "  y = column_or_1d(y, warn=True)\n",
      "/home/wopr/.local/lib/python3.6/site-packages/sklearn/preprocessing/label.py:252: DataConversionWarning: A column-vector y was passed when a 1d array was expected. Please change the shape of y to (n_samples, ), for example using ravel().\n",
      "  y = column_or_1d(y, warn=True)\n"
     ]
    },
    {
     "name": "stdout",
     "output_type": "stream",
     "text": [
      "Training until validation scores don't improve for 100 rounds.\n",
      "[100]\tvalid's auc: 0.747207\n",
      "[200]\tvalid's auc: 0.773783\n",
      "[300]\tvalid's auc: 0.785099\n",
      "[400]\tvalid's auc: 0.7912\n",
      "[500]\tvalid's auc: 0.795609\n",
      "[600]\tvalid's auc: 0.798347\n",
      "[700]\tvalid's auc: 0.80095\n",
      "[800]\tvalid's auc: 0.802794\n",
      "[900]\tvalid's auc: 0.804546\n",
      "[1000]\tvalid's auc: 0.804994\n",
      "Early stopping, best iteration is:\n",
      "[944]\tvalid's auc: 0.805002\n"
     ]
    },
    {
     "name": "stderr",
     "output_type": "stream",
     "text": [
      "/home/wopr/.local/lib/python3.6/site-packages/sklearn/preprocessing/label.py:219: DataConversionWarning: A column-vector y was passed when a 1d array was expected. Please change the shape of y to (n_samples, ), for example using ravel().\n",
      "  y = column_or_1d(y, warn=True)\n",
      "/home/wopr/.local/lib/python3.6/site-packages/sklearn/preprocessing/label.py:252: DataConversionWarning: A column-vector y was passed when a 1d array was expected. Please change the shape of y to (n_samples, ), for example using ravel().\n",
      "  y = column_or_1d(y, warn=True)\n"
     ]
    },
    {
     "name": "stdout",
     "output_type": "stream",
     "text": [
      "Training until validation scores don't improve for 100 rounds.\n",
      "[100]\tvalid's auc: 0.760652\n",
      "[200]\tvalid's auc: 0.784576\n",
      "[300]\tvalid's auc: 0.794723\n",
      "[400]\tvalid's auc: 0.800677\n",
      "[500]\tvalid's auc: 0.803087\n",
      "[600]\tvalid's auc: 0.80592\n",
      "[700]\tvalid's auc: 0.807204\n",
      "[800]\tvalid's auc: 0.807711\n",
      "[900]\tvalid's auc: 0.808457\n",
      "[1000]\tvalid's auc: 0.809138\n",
      "[1100]\tvalid's auc: 0.809206\n",
      "Early stopping, best iteration is:\n",
      "[1046]\tvalid's auc: 0.809398\n"
     ]
    },
    {
     "name": "stderr",
     "output_type": "stream",
     "text": [
      "/home/wopr/.local/lib/python3.6/site-packages/sklearn/preprocessing/label.py:219: DataConversionWarning: A column-vector y was passed when a 1d array was expected. Please change the shape of y to (n_samples, ), for example using ravel().\n",
      "  y = column_or_1d(y, warn=True)\n",
      "/home/wopr/.local/lib/python3.6/site-packages/sklearn/preprocessing/label.py:252: DataConversionWarning: A column-vector y was passed when a 1d array was expected. Please change the shape of y to (n_samples, ), for example using ravel().\n",
      "  y = column_or_1d(y, warn=True)\n"
     ]
    },
    {
     "name": "stdout",
     "output_type": "stream",
     "text": [
      "Training until validation scores don't improve for 100 rounds.\n",
      "[100]\tvalid's auc: 0.76169\n",
      "[200]\tvalid's auc: 0.784725\n",
      "[300]\tvalid's auc: 0.795272\n",
      "[400]\tvalid's auc: 0.800916\n",
      "[500]\tvalid's auc: 0.803664\n",
      "[600]\tvalid's auc: 0.805602\n",
      "[700]\tvalid's auc: 0.806172\n",
      "[800]\tvalid's auc: 0.807021\n",
      "[900]\tvalid's auc: 0.807739\n",
      "[1000]\tvalid's auc: 0.808747\n",
      "[1100]\tvalid's auc: 0.809366\n",
      "[1200]\tvalid's auc: 0.809673\n",
      "[1300]\tvalid's auc: 0.81039\n",
      "[1400]\tvalid's auc: 0.810661\n",
      "[1500]\tvalid's auc: 0.810986\n",
      "[1600]\tvalid's auc: 0.81188\n",
      "[1700]\tvalid's auc: 0.812698\n",
      "[1800]\tvalid's auc: 0.813253\n",
      "[1900]\tvalid's auc: 0.813597\n",
      "[2000]\tvalid's auc: 0.814165\n",
      "[2100]\tvalid's auc: 0.814525\n",
      "[2200]\tvalid's auc: 0.815009\n",
      "[2300]\tvalid's auc: 0.815339\n",
      "[2400]\tvalid's auc: 0.815765\n",
      "[2500]\tvalid's auc: 0.816015\n",
      "[2600]\tvalid's auc: 0.816191\n",
      "[2700]\tvalid's auc: 0.816221\n",
      "Early stopping, best iteration is:\n",
      "[2609]\tvalid's auc: 0.816296\n"
     ]
    },
    {
     "name": "stderr",
     "output_type": "stream",
     "text": [
      "/home/wopr/.local/lib/python3.6/site-packages/sklearn/preprocessing/label.py:219: DataConversionWarning: A column-vector y was passed when a 1d array was expected. Please change the shape of y to (n_samples, ), for example using ravel().\n",
      "  y = column_or_1d(y, warn=True)\n",
      "/home/wopr/.local/lib/python3.6/site-packages/sklearn/preprocessing/label.py:252: DataConversionWarning: A column-vector y was passed when a 1d array was expected. Please change the shape of y to (n_samples, ), for example using ravel().\n",
      "  y = column_or_1d(y, warn=True)\n"
     ]
    },
    {
     "name": "stdout",
     "output_type": "stream",
     "text": [
      "Training until validation scores don't improve for 100 rounds.\n",
      "[100]\tvalid's auc: 0.761452\n",
      "[200]\tvalid's auc: 0.78458\n",
      "[300]\tvalid's auc: 0.795739\n",
      "[400]\tvalid's auc: 0.800087\n",
      "[500]\tvalid's auc: 0.80353\n",
      "[600]\tvalid's auc: 0.805399\n",
      "[700]\tvalid's auc: 0.806121\n",
      "[800]\tvalid's auc: 0.80654\n",
      "[900]\tvalid's auc: 0.807011\n",
      "[1000]\tvalid's auc: 0.80779\n",
      "[1100]\tvalid's auc: 0.80903\n",
      "[1200]\tvalid's auc: 0.809454\n",
      "[1300]\tvalid's auc: 0.810274\n",
      "[1400]\tvalid's auc: 0.810627\n",
      "[1500]\tvalid's auc: 0.81095\n",
      "[1600]\tvalid's auc: 0.811625\n",
      "[1700]\tvalid's auc: 0.81236\n",
      "[1800]\tvalid's auc: 0.812508\n",
      "[1900]\tvalid's auc: 0.813289\n",
      "[2000]\tvalid's auc: 0.813569\n",
      "[2100]\tvalid's auc: 0.813841\n",
      "[2200]\tvalid's auc: 0.814441\n",
      "[2300]\tvalid's auc: 0.814911\n",
      "[2400]\tvalid's auc: 0.815017\n",
      "[2500]\tvalid's auc: 0.815147\n",
      "[2600]\tvalid's auc: 0.815338\n",
      "[2700]\tvalid's auc: 0.81545\n",
      "Early stopping, best iteration is:\n",
      "[2689]\tvalid's auc: 0.815494\n"
     ]
    },
    {
     "name": "stderr",
     "output_type": "stream",
     "text": [
      "/home/wopr/.local/lib/python3.6/site-packages/sklearn/preprocessing/label.py:219: DataConversionWarning: A column-vector y was passed when a 1d array was expected. Please change the shape of y to (n_samples, ), for example using ravel().\n",
      "  y = column_or_1d(y, warn=True)\n",
      "/home/wopr/.local/lib/python3.6/site-packages/sklearn/preprocessing/label.py:252: DataConversionWarning: A column-vector y was passed when a 1d array was expected. Please change the shape of y to (n_samples, ), for example using ravel().\n",
      "  y = column_or_1d(y, warn=True)\n"
     ]
    },
    {
     "name": "stdout",
     "output_type": "stream",
     "text": [
      "Training until validation scores don't improve for 100 rounds.\n",
      "[100]\tvalid's auc: 0.755946\n",
      "[200]\tvalid's auc: 0.778856\n",
      "[300]\tvalid's auc: 0.790359\n",
      "[400]\tvalid's auc: 0.797045\n",
      "[500]\tvalid's auc: 0.80155\n",
      "[600]\tvalid's auc: 0.804767\n",
      "[700]\tvalid's auc: 0.80698\n",
      "[800]\tvalid's auc: 0.80839\n",
      "[900]\tvalid's auc: 0.809615\n",
      "[1000]\tvalid's auc: 0.809852\n",
      "[1100]\tvalid's auc: 0.810546\n",
      "Early stopping, best iteration is:\n",
      "[1095]\tvalid's auc: 0.810614\n"
     ]
    },
    {
     "name": "stderr",
     "output_type": "stream",
     "text": [
      "/home/wopr/.local/lib/python3.6/site-packages/sklearn/preprocessing/label.py:219: DataConversionWarning: A column-vector y was passed when a 1d array was expected. Please change the shape of y to (n_samples, ), for example using ravel().\n",
      "  y = column_or_1d(y, warn=True)\n",
      "/home/wopr/.local/lib/python3.6/site-packages/sklearn/preprocessing/label.py:252: DataConversionWarning: A column-vector y was passed when a 1d array was expected. Please change the shape of y to (n_samples, ), for example using ravel().\n",
      "  y = column_or_1d(y, warn=True)\n"
     ]
    },
    {
     "name": "stdout",
     "output_type": "stream",
     "text": [
      "Training until validation scores don't improve for 100 rounds.\n",
      "[100]\tvalid's auc: 0.754524\n",
      "[200]\tvalid's auc: 0.778237\n",
      "[300]\tvalid's auc: 0.790734\n",
      "[400]\tvalid's auc: 0.798039\n",
      "[500]\tvalid's auc: 0.80234\n",
      "[600]\tvalid's auc: 0.805475\n",
      "[700]\tvalid's auc: 0.807442\n",
      "[800]\tvalid's auc: 0.80849\n",
      "[900]\tvalid's auc: 0.809092\n",
      "[1000]\tvalid's auc: 0.80959\n",
      "[1100]\tvalid's auc: 0.809629\n",
      "[1200]\tvalid's auc: 0.80979\n",
      "Early stopping, best iteration is:\n",
      "[1146]\tvalid's auc: 0.810172\n"
     ]
    },
    {
     "name": "stderr",
     "output_type": "stream",
     "text": [
      "/home/wopr/.local/lib/python3.6/site-packages/sklearn/preprocessing/label.py:219: DataConversionWarning: A column-vector y was passed when a 1d array was expected. Please change the shape of y to (n_samples, ), for example using ravel().\n",
      "  y = column_or_1d(y, warn=True)\n",
      "/home/wopr/.local/lib/python3.6/site-packages/sklearn/preprocessing/label.py:252: DataConversionWarning: A column-vector y was passed when a 1d array was expected. Please change the shape of y to (n_samples, ), for example using ravel().\n",
      "  y = column_or_1d(y, warn=True)\n"
     ]
    },
    {
     "name": "stdout",
     "output_type": "stream",
     "text": [
      "Training until validation scores don't improve for 100 rounds.\n",
      "[100]\tvalid's auc: 0.754248\n",
      "[200]\tvalid's auc: 0.780616\n",
      "[300]\tvalid's auc: 0.7915\n",
      "[400]\tvalid's auc: 0.797738\n",
      "[500]\tvalid's auc: 0.80184\n",
      "[600]\tvalid's auc: 0.80427\n",
      "[700]\tvalid's auc: 0.805891\n",
      "[800]\tvalid's auc: 0.807207\n",
      "[900]\tvalid's auc: 0.807944\n",
      "[1000]\tvalid's auc: 0.808564\n",
      "[1100]\tvalid's auc: 0.809203\n",
      "[1200]\tvalid's auc: 0.80956\n",
      "[1300]\tvalid's auc: 0.809909\n",
      "Early stopping, best iteration is:\n",
      "[1287]\tvalid's auc: 0.810069\n"
     ]
    },
    {
     "name": "stderr",
     "output_type": "stream",
     "text": [
      "/home/wopr/.local/lib/python3.6/site-packages/sklearn/preprocessing/label.py:219: DataConversionWarning: A column-vector y was passed when a 1d array was expected. Please change the shape of y to (n_samples, ), for example using ravel().\n",
      "  y = column_or_1d(y, warn=True)\n",
      "/home/wopr/.local/lib/python3.6/site-packages/sklearn/preprocessing/label.py:252: DataConversionWarning: A column-vector y was passed when a 1d array was expected. Please change the shape of y to (n_samples, ), for example using ravel().\n",
      "  y = column_or_1d(y, warn=True)\n"
     ]
    },
    {
     "name": "stdout",
     "output_type": "stream",
     "text": [
      "Training until validation scores don't improve for 100 rounds.\n",
      "[100]\tvalid's auc: 0.5\n",
      "Early stopping, best iteration is:\n",
      "[1]\tvalid's auc: 0.5\n"
     ]
    },
    {
     "name": "stderr",
     "output_type": "stream",
     "text": [
      "/home/wopr/.local/lib/python3.6/site-packages/sklearn/preprocessing/label.py:219: DataConversionWarning: A column-vector y was passed when a 1d array was expected. Please change the shape of y to (n_samples, ), for example using ravel().\n",
      "  y = column_or_1d(y, warn=True)\n",
      "/home/wopr/.local/lib/python3.6/site-packages/sklearn/preprocessing/label.py:252: DataConversionWarning: A column-vector y was passed when a 1d array was expected. Please change the shape of y to (n_samples, ), for example using ravel().\n",
      "  y = column_or_1d(y, warn=True)\n"
     ]
    },
    {
     "name": "stdout",
     "output_type": "stream",
     "text": [
      "Training until validation scores don't improve for 100 rounds.\n",
      "[100]\tvalid's auc: 0.5\n",
      "Early stopping, best iteration is:\n",
      "[1]\tvalid's auc: 0.5\n"
     ]
    },
    {
     "name": "stderr",
     "output_type": "stream",
     "text": [
      "/home/wopr/.local/lib/python3.6/site-packages/sklearn/preprocessing/label.py:219: DataConversionWarning: A column-vector y was passed when a 1d array was expected. Please change the shape of y to (n_samples, ), for example using ravel().\n",
      "  y = column_or_1d(y, warn=True)\n",
      "/home/wopr/.local/lib/python3.6/site-packages/sklearn/preprocessing/label.py:252: DataConversionWarning: A column-vector y was passed when a 1d array was expected. Please change the shape of y to (n_samples, ), for example using ravel().\n",
      "  y = column_or_1d(y, warn=True)\n"
     ]
    },
    {
     "name": "stdout",
     "output_type": "stream",
     "text": [
      "Training until validation scores don't improve for 100 rounds.\n",
      "[100]\tvalid's auc: 0.5\n",
      "Early stopping, best iteration is:\n",
      "[1]\tvalid's auc: 0.5\n"
     ]
    },
    {
     "name": "stderr",
     "output_type": "stream",
     "text": [
      "/home/wopr/.local/lib/python3.6/site-packages/sklearn/preprocessing/label.py:219: DataConversionWarning: A column-vector y was passed when a 1d array was expected. Please change the shape of y to (n_samples, ), for example using ravel().\n",
      "  y = column_or_1d(y, warn=True)\n",
      "/home/wopr/.local/lib/python3.6/site-packages/sklearn/preprocessing/label.py:252: DataConversionWarning: A column-vector y was passed when a 1d array was expected. Please change the shape of y to (n_samples, ), for example using ravel().\n",
      "  y = column_or_1d(y, warn=True)\n"
     ]
    },
    {
     "name": "stdout",
     "output_type": "stream",
     "text": [
      "Training until validation scores don't improve for 100 rounds.\n",
      "[100]\tvalid's auc: 0.750889\n",
      "[200]\tvalid's auc: 0.774035\n",
      "[300]\tvalid's auc: 0.787089\n",
      "[400]\tvalid's auc: 0.79482\n",
      "[500]\tvalid's auc: 0.800462\n",
      "[600]\tvalid's auc: 0.803837\n",
      "[700]\tvalid's auc: 0.806721\n",
      "[800]\tvalid's auc: 0.808998\n",
      "[900]\tvalid's auc: 0.8106\n",
      "[1000]\tvalid's auc: 0.811399\n",
      "[1100]\tvalid's auc: 0.812338\n",
      "[1200]\tvalid's auc: 0.813124\n",
      "[1300]\tvalid's auc: 0.813749\n",
      "[1400]\tvalid's auc: 0.814301\n",
      "[1500]\tvalid's auc: 0.814345\n",
      "Early stopping, best iteration is:\n",
      "[1442]\tvalid's auc: 0.814413\n"
     ]
    },
    {
     "name": "stderr",
     "output_type": "stream",
     "text": [
      "/home/wopr/.local/lib/python3.6/site-packages/sklearn/preprocessing/label.py:219: DataConversionWarning: A column-vector y was passed when a 1d array was expected. Please change the shape of y to (n_samples, ), for example using ravel().\n",
      "  y = column_or_1d(y, warn=True)\n",
      "/home/wopr/.local/lib/python3.6/site-packages/sklearn/preprocessing/label.py:252: DataConversionWarning: A column-vector y was passed when a 1d array was expected. Please change the shape of y to (n_samples, ), for example using ravel().\n",
      "  y = column_or_1d(y, warn=True)\n"
     ]
    },
    {
     "name": "stdout",
     "output_type": "stream",
     "text": [
      "Training until validation scores don't improve for 100 rounds.\n",
      "[100]\tvalid's auc: 0.746529\n",
      "[200]\tvalid's auc: 0.772392\n",
      "[300]\tvalid's auc: 0.785934\n",
      "[400]\tvalid's auc: 0.793635\n",
      "[500]\tvalid's auc: 0.800008\n",
      "[600]\tvalid's auc: 0.803065\n",
      "[700]\tvalid's auc: 0.806474\n",
      "[800]\tvalid's auc: 0.808879\n",
      "[900]\tvalid's auc: 0.81067\n",
      "[1000]\tvalid's auc: 0.812235\n",
      "[1100]\tvalid's auc: 0.813196\n",
      "[1200]\tvalid's auc: 0.814172\n",
      "[1300]\tvalid's auc: 0.814948\n",
      "[1400]\tvalid's auc: 0.815453\n",
      "[1500]\tvalid's auc: 0.815614\n",
      "Early stopping, best iteration is:\n",
      "[1435]\tvalid's auc: 0.815746\n"
     ]
    },
    {
     "name": "stderr",
     "output_type": "stream",
     "text": [
      "/home/wopr/.local/lib/python3.6/site-packages/sklearn/preprocessing/label.py:219: DataConversionWarning: A column-vector y was passed when a 1d array was expected. Please change the shape of y to (n_samples, ), for example using ravel().\n",
      "  y = column_or_1d(y, warn=True)\n",
      "/home/wopr/.local/lib/python3.6/site-packages/sklearn/preprocessing/label.py:252: DataConversionWarning: A column-vector y was passed when a 1d array was expected. Please change the shape of y to (n_samples, ), for example using ravel().\n",
      "  y = column_or_1d(y, warn=True)\n"
     ]
    },
    {
     "name": "stdout",
     "output_type": "stream",
     "text": [
      "Training until validation scores don't improve for 100 rounds.\n",
      "[100]\tvalid's auc: 0.748684\n",
      "[200]\tvalid's auc: 0.773798\n",
      "[300]\tvalid's auc: 0.788188\n",
      "[400]\tvalid's auc: 0.796246\n",
      "[500]\tvalid's auc: 0.800193\n",
      "[600]\tvalid's auc: 0.804311\n",
      "[700]\tvalid's auc: 0.806989\n",
      "[800]\tvalid's auc: 0.809153\n",
      "[900]\tvalid's auc: 0.811154\n",
      "[1000]\tvalid's auc: 0.812475\n",
      "[1100]\tvalid's auc: 0.813102\n",
      "[1200]\tvalid's auc: 0.813768\n",
      "[1300]\tvalid's auc: 0.8146\n",
      "[1400]\tvalid's auc: 0.814922\n",
      "Early stopping, best iteration is:\n",
      "[1399]\tvalid's auc: 0.814955\n"
     ]
    },
    {
     "name": "stderr",
     "output_type": "stream",
     "text": [
      "/home/wopr/.local/lib/python3.6/site-packages/sklearn/preprocessing/label.py:219: DataConversionWarning: A column-vector y was passed when a 1d array was expected. Please change the shape of y to (n_samples, ), for example using ravel().\n",
      "  y = column_or_1d(y, warn=True)\n",
      "/home/wopr/.local/lib/python3.6/site-packages/sklearn/preprocessing/label.py:252: DataConversionWarning: A column-vector y was passed when a 1d array was expected. Please change the shape of y to (n_samples, ), for example using ravel().\n",
      "  y = column_or_1d(y, warn=True)\n"
     ]
    },
    {
     "name": "stdout",
     "output_type": "stream",
     "text": [
      "Training until validation scores don't improve for 100 rounds.\n",
      "[100]\tvalid's auc: 0.758018\n",
      "[200]\tvalid's auc: 0.784131\n",
      "[300]\tvalid's auc: 0.795616\n",
      "[400]\tvalid's auc: 0.802395\n",
      "[500]\tvalid's auc: 0.806863\n",
      "[600]\tvalid's auc: 0.80946\n",
      "[700]\tvalid's auc: 0.810479\n",
      "[800]\tvalid's auc: 0.811166\n",
      "[900]\tvalid's auc: 0.812378\n",
      "[1000]\tvalid's auc: 0.812655\n",
      "[1100]\tvalid's auc: 0.812818\n",
      "[1200]\tvalid's auc: 0.813565\n",
      "[1300]\tvalid's auc: 0.813735\n",
      "[1400]\tvalid's auc: 0.814025\n",
      "[1500]\tvalid's auc: 0.814261\n",
      "[1600]\tvalid's auc: 0.814833\n",
      "[1700]\tvalid's auc: 0.815434\n",
      "[1800]\tvalid's auc: 0.815616\n",
      "[1900]\tvalid's auc: 0.81578\n",
      "[2000]\tvalid's auc: 0.816286\n",
      "[2100]\tvalid's auc: 0.816589\n",
      "[2200]\tvalid's auc: 0.816867\n",
      "[2300]\tvalid's auc: 0.817152\n",
      "[2400]\tvalid's auc: 0.817347\n",
      "[2500]\tvalid's auc: 0.817508\n",
      "[2600]\tvalid's auc: 0.817828\n",
      "[2700]\tvalid's auc: 0.818023\n",
      "[2800]\tvalid's auc: 0.818101\n",
      "[2900]\tvalid's auc: 0.818291\n",
      "[3000]\tvalid's auc: 0.818433\n",
      "Early stopping, best iteration is:\n",
      "[2958]\tvalid's auc: 0.818437\n"
     ]
    },
    {
     "name": "stderr",
     "output_type": "stream",
     "text": [
      "/home/wopr/.local/lib/python3.6/site-packages/sklearn/preprocessing/label.py:219: DataConversionWarning: A column-vector y was passed when a 1d array was expected. Please change the shape of y to (n_samples, ), for example using ravel().\n",
      "  y = column_or_1d(y, warn=True)\n",
      "/home/wopr/.local/lib/python3.6/site-packages/sklearn/preprocessing/label.py:252: DataConversionWarning: A column-vector y was passed when a 1d array was expected. Please change the shape of y to (n_samples, ), for example using ravel().\n",
      "  y = column_or_1d(y, warn=True)\n"
     ]
    },
    {
     "name": "stdout",
     "output_type": "stream",
     "text": [
      "Training until validation scores don't improve for 100 rounds.\n",
      "[100]\tvalid's auc: 0.755727\n",
      "[200]\tvalid's auc: 0.781981\n",
      "[300]\tvalid's auc: 0.791803\n",
      "[400]\tvalid's auc: 0.798114\n",
      "[500]\tvalid's auc: 0.801885\n",
      "[600]\tvalid's auc: 0.804192\n",
      "[700]\tvalid's auc: 0.806061\n",
      "[800]\tvalid's auc: 0.806794\n",
      "[900]\tvalid's auc: 0.808115\n",
      "[1000]\tvalid's auc: 0.808213\n",
      "[1100]\tvalid's auc: 0.808656\n",
      "[1200]\tvalid's auc: 0.809034\n",
      "[1300]\tvalid's auc: 0.809531\n",
      "[1400]\tvalid's auc: 0.810243\n",
      "[1500]\tvalid's auc: 0.81061\n",
      "[1600]\tvalid's auc: 0.811111\n",
      "[1700]\tvalid's auc: 0.811601\n",
      "[1800]\tvalid's auc: 0.811994\n",
      "[1900]\tvalid's auc: 0.812294\n",
      "[2000]\tvalid's auc: 0.812492\n",
      "[2100]\tvalid's auc: 0.813013\n",
      "[2200]\tvalid's auc: 0.813093\n",
      "[2300]\tvalid's auc: 0.813278\n",
      "[2400]\tvalid's auc: 0.813583\n",
      "[2500]\tvalid's auc: 0.813852\n",
      "[2600]\tvalid's auc: 0.814137\n",
      "[2700]\tvalid's auc: 0.814446\n",
      "[2800]\tvalid's auc: 0.814583\n",
      "[2900]\tvalid's auc: 0.81483\n",
      "[3000]\tvalid's auc: 0.815127\n",
      "[3100]\tvalid's auc: 0.815161\n",
      "Early stopping, best iteration is:\n",
      "[3025]\tvalid's auc: 0.815168\n"
     ]
    },
    {
     "name": "stderr",
     "output_type": "stream",
     "text": [
      "/home/wopr/.local/lib/python3.6/site-packages/sklearn/preprocessing/label.py:219: DataConversionWarning: A column-vector y was passed when a 1d array was expected. Please change the shape of y to (n_samples, ), for example using ravel().\n",
      "  y = column_or_1d(y, warn=True)\n",
      "/home/wopr/.local/lib/python3.6/site-packages/sklearn/preprocessing/label.py:252: DataConversionWarning: A column-vector y was passed when a 1d array was expected. Please change the shape of y to (n_samples, ), for example using ravel().\n",
      "  y = column_or_1d(y, warn=True)\n"
     ]
    },
    {
     "name": "stdout",
     "output_type": "stream",
     "text": [
      "Training until validation scores don't improve for 100 rounds.\n",
      "[100]\tvalid's auc: 0.75638\n",
      "[200]\tvalid's auc: 0.780619\n",
      "[300]\tvalid's auc: 0.793463\n",
      "[400]\tvalid's auc: 0.800995\n",
      "[500]\tvalid's auc: 0.804824\n",
      "[600]\tvalid's auc: 0.805938\n",
      "[700]\tvalid's auc: 0.807482\n",
      "[800]\tvalid's auc: 0.808706\n",
      "[900]\tvalid's auc: 0.80975\n",
      "[1000]\tvalid's auc: 0.810887\n",
      "[1100]\tvalid's auc: 0.811672\n",
      "[1200]\tvalid's auc: 0.812048\n",
      "[1300]\tvalid's auc: 0.812329\n",
      "[1400]\tvalid's auc: 0.812533\n",
      "[1500]\tvalid's auc: 0.812959\n",
      "[1600]\tvalid's auc: 0.813635\n",
      "[1700]\tvalid's auc: 0.813958\n",
      "[1800]\tvalid's auc: 0.814379\n",
      "[1900]\tvalid's auc: 0.814762\n",
      "[2000]\tvalid's auc: 0.814834\n",
      "[2100]\tvalid's auc: 0.815041\n",
      "[2200]\tvalid's auc: 0.815359\n",
      "[2300]\tvalid's auc: 0.815514\n",
      "[2400]\tvalid's auc: 0.815716\n",
      "[2500]\tvalid's auc: 0.816294\n",
      "[2600]\tvalid's auc: 0.816509\n",
      "[2700]\tvalid's auc: 0.816594\n",
      "[2800]\tvalid's auc: 0.816712\n",
      "[2900]\tvalid's auc: 0.816811\n",
      "[3000]\tvalid's auc: 0.817095\n",
      "[3100]\tvalid's auc: 0.81706\n",
      "Early stopping, best iteration is:\n",
      "[3002]\tvalid's auc: 0.817099\n"
     ]
    },
    {
     "name": "stderr",
     "output_type": "stream",
     "text": [
      "/home/wopr/.local/lib/python3.6/site-packages/sklearn/preprocessing/label.py:219: DataConversionWarning: A column-vector y was passed when a 1d array was expected. Please change the shape of y to (n_samples, ), for example using ravel().\n",
      "  y = column_or_1d(y, warn=True)\n",
      "/home/wopr/.local/lib/python3.6/site-packages/sklearn/preprocessing/label.py:252: DataConversionWarning: A column-vector y was passed when a 1d array was expected. Please change the shape of y to (n_samples, ), for example using ravel().\n",
      "  y = column_or_1d(y, warn=True)\n"
     ]
    },
    {
     "name": "stdout",
     "output_type": "stream",
     "text": [
      "Training until validation scores don't improve for 100 rounds.\n",
      "[100]\tvalid's auc: 0.756769\n",
      "[200]\tvalid's auc: 0.780817\n",
      "[300]\tvalid's auc: 0.792958\n",
      "[400]\tvalid's auc: 0.799992\n",
      "[500]\tvalid's auc: 0.802745\n",
      "[600]\tvalid's auc: 0.805105\n",
      "[700]\tvalid's auc: 0.805834\n",
      "[800]\tvalid's auc: 0.806707\n",
      "[900]\tvalid's auc: 0.807622\n",
      "Early stopping, best iteration is:\n",
      "[893]\tvalid's auc: 0.80775\n"
     ]
    },
    {
     "name": "stderr",
     "output_type": "stream",
     "text": [
      "/home/wopr/.local/lib/python3.6/site-packages/sklearn/preprocessing/label.py:219: DataConversionWarning: A column-vector y was passed when a 1d array was expected. Please change the shape of y to (n_samples, ), for example using ravel().\n",
      "  y = column_or_1d(y, warn=True)\n",
      "/home/wopr/.local/lib/python3.6/site-packages/sklearn/preprocessing/label.py:252: DataConversionWarning: A column-vector y was passed when a 1d array was expected. Please change the shape of y to (n_samples, ), for example using ravel().\n",
      "  y = column_or_1d(y, warn=True)\n"
     ]
    },
    {
     "name": "stdout",
     "output_type": "stream",
     "text": [
      "Training until validation scores don't improve for 100 rounds.\n",
      "[100]\tvalid's auc: 0.752792\n",
      "[200]\tvalid's auc: 0.77869\n",
      "[300]\tvalid's auc: 0.790487\n",
      "[400]\tvalid's auc: 0.797854\n",
      "[500]\tvalid's auc: 0.80155\n",
      "[600]\tvalid's auc: 0.803159\n",
      "[700]\tvalid's auc: 0.804273\n",
      "[800]\tvalid's auc: 0.80409\n",
      "Early stopping, best iteration is:\n",
      "[703]\tvalid's auc: 0.80431\n"
     ]
    },
    {
     "name": "stderr",
     "output_type": "stream",
     "text": [
      "/home/wopr/.local/lib/python3.6/site-packages/sklearn/preprocessing/label.py:219: DataConversionWarning: A column-vector y was passed when a 1d array was expected. Please change the shape of y to (n_samples, ), for example using ravel().\n",
      "  y = column_or_1d(y, warn=True)\n",
      "/home/wopr/.local/lib/python3.6/site-packages/sklearn/preprocessing/label.py:252: DataConversionWarning: A column-vector y was passed when a 1d array was expected. Please change the shape of y to (n_samples, ), for example using ravel().\n",
      "  y = column_or_1d(y, warn=True)\n"
     ]
    },
    {
     "name": "stdout",
     "output_type": "stream",
     "text": [
      "Training until validation scores don't improve for 100 rounds.\n",
      "[100]\tvalid's auc: 0.754468\n",
      "[200]\tvalid's auc: 0.780728\n",
      "[300]\tvalid's auc: 0.793302\n",
      "[400]\tvalid's auc: 0.799201\n",
      "[500]\tvalid's auc: 0.803497\n",
      "[600]\tvalid's auc: 0.806165\n",
      "[700]\tvalid's auc: 0.807629\n",
      "[800]\tvalid's auc: 0.807543\n",
      "Early stopping, best iteration is:\n",
      "[718]\tvalid's auc: 0.807799\n"
     ]
    },
    {
     "name": "stderr",
     "output_type": "stream",
     "text": [
      "/home/wopr/.local/lib/python3.6/site-packages/sklearn/preprocessing/label.py:219: DataConversionWarning: A column-vector y was passed when a 1d array was expected. Please change the shape of y to (n_samples, ), for example using ravel().\n",
      "  y = column_or_1d(y, warn=True)\n",
      "/home/wopr/.local/lib/python3.6/site-packages/sklearn/preprocessing/label.py:252: DataConversionWarning: A column-vector y was passed when a 1d array was expected. Please change the shape of y to (n_samples, ), for example using ravel().\n",
      "  y = column_or_1d(y, warn=True)\n"
     ]
    },
    {
     "name": "stdout",
     "output_type": "stream",
     "text": [
      "Training until validation scores don't improve for 100 rounds.\n",
      "[100]\tvalid's auc: 0.5\n",
      "Early stopping, best iteration is:\n",
      "[1]\tvalid's auc: 0.5\n"
     ]
    },
    {
     "name": "stderr",
     "output_type": "stream",
     "text": [
      "/home/wopr/.local/lib/python3.6/site-packages/sklearn/preprocessing/label.py:219: DataConversionWarning: A column-vector y was passed when a 1d array was expected. Please change the shape of y to (n_samples, ), for example using ravel().\n",
      "  y = column_or_1d(y, warn=True)\n",
      "/home/wopr/.local/lib/python3.6/site-packages/sklearn/preprocessing/label.py:252: DataConversionWarning: A column-vector y was passed when a 1d array was expected. Please change the shape of y to (n_samples, ), for example using ravel().\n",
      "  y = column_or_1d(y, warn=True)\n"
     ]
    },
    {
     "name": "stdout",
     "output_type": "stream",
     "text": [
      "Training until validation scores don't improve for 100 rounds.\n",
      "[100]\tvalid's auc: 0.5\n",
      "Early stopping, best iteration is:\n",
      "[1]\tvalid's auc: 0.5\n"
     ]
    },
    {
     "name": "stderr",
     "output_type": "stream",
     "text": [
      "/home/wopr/.local/lib/python3.6/site-packages/sklearn/preprocessing/label.py:219: DataConversionWarning: A column-vector y was passed when a 1d array was expected. Please change the shape of y to (n_samples, ), for example using ravel().\n",
      "  y = column_or_1d(y, warn=True)\n",
      "/home/wopr/.local/lib/python3.6/site-packages/sklearn/preprocessing/label.py:252: DataConversionWarning: A column-vector y was passed when a 1d array was expected. Please change the shape of y to (n_samples, ), for example using ravel().\n",
      "  y = column_or_1d(y, warn=True)\n"
     ]
    },
    {
     "name": "stdout",
     "output_type": "stream",
     "text": [
      "Training until validation scores don't improve for 100 rounds.\n",
      "[100]\tvalid's auc: 0.5\n",
      "Early stopping, best iteration is:\n",
      "[1]\tvalid's auc: 0.5\n"
     ]
    },
    {
     "name": "stderr",
     "output_type": "stream",
     "text": [
      "/home/wopr/.local/lib/python3.6/site-packages/sklearn/preprocessing/label.py:219: DataConversionWarning: A column-vector y was passed when a 1d array was expected. Please change the shape of y to (n_samples, ), for example using ravel().\n",
      "  y = column_or_1d(y, warn=True)\n",
      "/home/wopr/.local/lib/python3.6/site-packages/sklearn/preprocessing/label.py:252: DataConversionWarning: A column-vector y was passed when a 1d array was expected. Please change the shape of y to (n_samples, ), for example using ravel().\n",
      "  y = column_or_1d(y, warn=True)\n"
     ]
    },
    {
     "name": "stdout",
     "output_type": "stream",
     "text": [
      "Training until validation scores don't improve for 100 rounds.\n",
      "[100]\tvalid's auc: 0.733205\n",
      "[200]\tvalid's auc: 0.761993\n",
      "[300]\tvalid's auc: 0.777909\n",
      "[400]\tvalid's auc: 0.788682\n",
      "[500]\tvalid's auc: 0.795359\n",
      "[600]\tvalid's auc: 0.800221\n",
      "[700]\tvalid's auc: 0.803503\n",
      "[800]\tvalid's auc: 0.806054\n",
      "[900]\tvalid's auc: 0.808791\n",
      "[1000]\tvalid's auc: 0.810407\n",
      "[1100]\tvalid's auc: 0.812239\n",
      "[1200]\tvalid's auc: 0.813467\n",
      "[1300]\tvalid's auc: 0.814676\n",
      "[1400]\tvalid's auc: 0.815376\n",
      "[1500]\tvalid's auc: 0.816085\n",
      "[1600]\tvalid's auc: 0.816891\n",
      "[1700]\tvalid's auc: 0.817352\n",
      "[1800]\tvalid's auc: 0.817313\n",
      "[1900]\tvalid's auc: 0.817816\n",
      "[2000]\tvalid's auc: 0.818245\n",
      "[2100]\tvalid's auc: 0.818656\n",
      "[2200]\tvalid's auc: 0.81875\n",
      "[2300]\tvalid's auc: 0.819228\n",
      "[2400]\tvalid's auc: 0.819323\n",
      "[2500]\tvalid's auc: 0.819358\n",
      "Early stopping, best iteration is:\n",
      "[2483]\tvalid's auc: 0.819448\n"
     ]
    },
    {
     "name": "stderr",
     "output_type": "stream",
     "text": [
      "/home/wopr/.local/lib/python3.6/site-packages/sklearn/preprocessing/label.py:219: DataConversionWarning: A column-vector y was passed when a 1d array was expected. Please change the shape of y to (n_samples, ), for example using ravel().\n",
      "  y = column_or_1d(y, warn=True)\n",
      "/home/wopr/.local/lib/python3.6/site-packages/sklearn/preprocessing/label.py:252: DataConversionWarning: A column-vector y was passed when a 1d array was expected. Please change the shape of y to (n_samples, ), for example using ravel().\n",
      "  y = column_or_1d(y, warn=True)\n"
     ]
    },
    {
     "name": "stdout",
     "output_type": "stream",
     "text": [
      "Training until validation scores don't improve for 100 rounds.\n",
      "[100]\tvalid's auc: 0.733584\n",
      "[200]\tvalid's auc: 0.761868\n",
      "[300]\tvalid's auc: 0.77706\n",
      "[400]\tvalid's auc: 0.785509\n",
      "[500]\tvalid's auc: 0.791972\n",
      "[600]\tvalid's auc: 0.79746\n",
      "[700]\tvalid's auc: 0.800854\n",
      "[800]\tvalid's auc: 0.803596\n",
      "[900]\tvalid's auc: 0.805704\n",
      "[1000]\tvalid's auc: 0.807079\n",
      "[1100]\tvalid's auc: 0.80873\n",
      "[1200]\tvalid's auc: 0.809912\n",
      "[1300]\tvalid's auc: 0.810646\n",
      "[1400]\tvalid's auc: 0.811677\n",
      "[1500]\tvalid's auc: 0.812465\n",
      "[1600]\tvalid's auc: 0.813502\n",
      "[1700]\tvalid's auc: 0.81399\n",
      "[1800]\tvalid's auc: 0.814307\n",
      "[1900]\tvalid's auc: 0.815019\n",
      "[2000]\tvalid's auc: 0.815182\n",
      "[2100]\tvalid's auc: 0.815341\n",
      "[2200]\tvalid's auc: 0.81565\n",
      "[2300]\tvalid's auc: 0.815605\n",
      "Early stopping, best iteration is:\n",
      "[2264]\tvalid's auc: 0.815727\n"
     ]
    },
    {
     "name": "stderr",
     "output_type": "stream",
     "text": [
      "/home/wopr/.local/lib/python3.6/site-packages/sklearn/preprocessing/label.py:219: DataConversionWarning: A column-vector y was passed when a 1d array was expected. Please change the shape of y to (n_samples, ), for example using ravel().\n",
      "  y = column_or_1d(y, warn=True)\n",
      "/home/wopr/.local/lib/python3.6/site-packages/sklearn/preprocessing/label.py:252: DataConversionWarning: A column-vector y was passed when a 1d array was expected. Please change the shape of y to (n_samples, ), for example using ravel().\n",
      "  y = column_or_1d(y, warn=True)\n"
     ]
    },
    {
     "name": "stdout",
     "output_type": "stream",
     "text": [
      "Training until validation scores don't improve for 100 rounds.\n",
      "[100]\tvalid's auc: 0.733603\n",
      "[200]\tvalid's auc: 0.761056\n",
      "[300]\tvalid's auc: 0.775957\n",
      "[400]\tvalid's auc: 0.786672\n",
      "[500]\tvalid's auc: 0.792533\n",
      "[600]\tvalid's auc: 0.797474\n",
      "[700]\tvalid's auc: 0.801377\n",
      "[800]\tvalid's auc: 0.804047\n",
      "[900]\tvalid's auc: 0.806294\n",
      "[1000]\tvalid's auc: 0.808172\n",
      "[1100]\tvalid's auc: 0.809691\n",
      "[1200]\tvalid's auc: 0.81091\n",
      "[1300]\tvalid's auc: 0.81188\n",
      "[1400]\tvalid's auc: 0.813036\n",
      "[1500]\tvalid's auc: 0.81393\n",
      "[1600]\tvalid's auc: 0.814748\n",
      "[1700]\tvalid's auc: 0.815259\n",
      "[1800]\tvalid's auc: 0.815785\n",
      "[1900]\tvalid's auc: 0.816009\n",
      "[2000]\tvalid's auc: 0.816103\n",
      "[2100]\tvalid's auc: 0.816466\n",
      "[2200]\tvalid's auc: 0.816631\n",
      "[2300]\tvalid's auc: 0.816875\n",
      "[2400]\tvalid's auc: 0.817111\n",
      "[2500]\tvalid's auc: 0.817176\n",
      "[2600]\tvalid's auc: 0.817495\n",
      "Early stopping, best iteration is:\n",
      "[2594]\tvalid's auc: 0.817526\n"
     ]
    },
    {
     "name": "stderr",
     "output_type": "stream",
     "text": [
      "/home/wopr/.local/lib/python3.6/site-packages/sklearn/preprocessing/label.py:219: DataConversionWarning: A column-vector y was passed when a 1d array was expected. Please change the shape of y to (n_samples, ), for example using ravel().\n",
      "  y = column_or_1d(y, warn=True)\n",
      "/home/wopr/.local/lib/python3.6/site-packages/sklearn/preprocessing/label.py:252: DataConversionWarning: A column-vector y was passed when a 1d array was expected. Please change the shape of y to (n_samples, ), for example using ravel().\n",
      "  y = column_or_1d(y, warn=True)\n"
     ]
    },
    {
     "name": "stdout",
     "output_type": "stream",
     "text": [
      "Training until validation scores don't improve for 100 rounds.\n",
      "[100]\tvalid's auc: 0.765679\n",
      "[200]\tvalid's auc: 0.789723\n",
      "[300]\tvalid's auc: 0.799392\n",
      "[400]\tvalid's auc: 0.805555\n",
      "[500]\tvalid's auc: 0.808454\n",
      "[600]\tvalid's auc: 0.811098\n",
      "[700]\tvalid's auc: 0.812059\n",
      "[800]\tvalid's auc: 0.812411\n",
      "[900]\tvalid's auc: 0.813767\n",
      "[1000]\tvalid's auc: 0.814785\n",
      "[1100]\tvalid's auc: 0.815607\n",
      "[1200]\tvalid's auc: 0.816056\n",
      "[1300]\tvalid's auc: 0.816718\n",
      "[1400]\tvalid's auc: 0.816999\n",
      "[1500]\tvalid's auc: 0.817407\n",
      "[1600]\tvalid's auc: 0.81778\n",
      "[1700]\tvalid's auc: 0.818132\n",
      "[1800]\tvalid's auc: 0.818527\n",
      "[1900]\tvalid's auc: 0.818834\n",
      "[2000]\tvalid's auc: 0.818946\n",
      "[2100]\tvalid's auc: 0.819043\n",
      "Early stopping, best iteration is:\n",
      "[2081]\tvalid's auc: 0.819172\n"
     ]
    },
    {
     "name": "stderr",
     "output_type": "stream",
     "text": [
      "/home/wopr/.local/lib/python3.6/site-packages/sklearn/preprocessing/label.py:219: DataConversionWarning: A column-vector y was passed when a 1d array was expected. Please change the shape of y to (n_samples, ), for example using ravel().\n",
      "  y = column_or_1d(y, warn=True)\n",
      "/home/wopr/.local/lib/python3.6/site-packages/sklearn/preprocessing/label.py:252: DataConversionWarning: A column-vector y was passed when a 1d array was expected. Please change the shape of y to (n_samples, ), for example using ravel().\n",
      "  y = column_or_1d(y, warn=True)\n"
     ]
    },
    {
     "name": "stdout",
     "output_type": "stream",
     "text": [
      "Training until validation scores don't improve for 100 rounds.\n",
      "[100]\tvalid's auc: 0.760415\n",
      "[200]\tvalid's auc: 0.785806\n",
      "[300]\tvalid's auc: 0.795343\n",
      "[400]\tvalid's auc: 0.801009\n",
      "[500]\tvalid's auc: 0.803309\n",
      "[600]\tvalid's auc: 0.80598\n",
      "[700]\tvalid's auc: 0.80817\n",
      "[800]\tvalid's auc: 0.809584\n",
      "[900]\tvalid's auc: 0.810281\n",
      "[1000]\tvalid's auc: 0.811665\n",
      "[1100]\tvalid's auc: 0.812199\n",
      "[1200]\tvalid's auc: 0.812904\n",
      "[1300]\tvalid's auc: 0.813461\n",
      "[1400]\tvalid's auc: 0.814102\n",
      "[1500]\tvalid's auc: 0.814633\n",
      "[1600]\tvalid's auc: 0.815014\n",
      "[1700]\tvalid's auc: 0.815351\n",
      "[1800]\tvalid's auc: 0.815901\n",
      "[1900]\tvalid's auc: 0.816282\n",
      "[2000]\tvalid's auc: 0.81653\n",
      "[2100]\tvalid's auc: 0.816973\n",
      "[2200]\tvalid's auc: 0.817091\n",
      "[2300]\tvalid's auc: 0.817149\n",
      "Early stopping, best iteration is:\n",
      "[2249]\tvalid's auc: 0.817216\n"
     ]
    },
    {
     "name": "stderr",
     "output_type": "stream",
     "text": [
      "/home/wopr/.local/lib/python3.6/site-packages/sklearn/preprocessing/label.py:219: DataConversionWarning: A column-vector y was passed when a 1d array was expected. Please change the shape of y to (n_samples, ), for example using ravel().\n",
      "  y = column_or_1d(y, warn=True)\n",
      "/home/wopr/.local/lib/python3.6/site-packages/sklearn/preprocessing/label.py:252: DataConversionWarning: A column-vector y was passed when a 1d array was expected. Please change the shape of y to (n_samples, ), for example using ravel().\n",
      "  y = column_or_1d(y, warn=True)\n"
     ]
    },
    {
     "name": "stdout",
     "output_type": "stream",
     "text": [
      "Training until validation scores don't improve for 100 rounds.\n",
      "[100]\tvalid's auc: 0.762114\n",
      "[200]\tvalid's auc: 0.785892\n",
      "[300]\tvalid's auc: 0.796803\n",
      "[400]\tvalid's auc: 0.802422\n",
      "[500]\tvalid's auc: 0.804991\n",
      "[600]\tvalid's auc: 0.807281\n",
      "[700]\tvalid's auc: 0.808997\n",
      "[800]\tvalid's auc: 0.810255\n",
      "[900]\tvalid's auc: 0.810862\n",
      "[1000]\tvalid's auc: 0.811327\n",
      "[1100]\tvalid's auc: 0.81237\n",
      "[1200]\tvalid's auc: 0.812977\n",
      "[1300]\tvalid's auc: 0.813578\n",
      "[1400]\tvalid's auc: 0.813882\n",
      "[1500]\tvalid's auc: 0.814262\n",
      "[1600]\tvalid's auc: 0.815318\n",
      "[1700]\tvalid's auc: 0.815679\n",
      "[1800]\tvalid's auc: 0.815962\n",
      "[1900]\tvalid's auc: 0.816197\n",
      "[2000]\tvalid's auc: 0.816419\n",
      "[2100]\tvalid's auc: 0.816711\n",
      "[2200]\tvalid's auc: 0.816915\n",
      "[2300]\tvalid's auc: 0.817158\n",
      "[2400]\tvalid's auc: 0.817408\n",
      "[2500]\tvalid's auc: 0.817834\n",
      "[2600]\tvalid's auc: 0.817828\n",
      "Early stopping, best iteration is:\n",
      "[2500]\tvalid's auc: 0.817834\n"
     ]
    },
    {
     "name": "stderr",
     "output_type": "stream",
     "text": [
      "/home/wopr/.local/lib/python3.6/site-packages/sklearn/preprocessing/label.py:219: DataConversionWarning: A column-vector y was passed when a 1d array was expected. Please change the shape of y to (n_samples, ), for example using ravel().\n",
      "  y = column_or_1d(y, warn=True)\n",
      "/home/wopr/.local/lib/python3.6/site-packages/sklearn/preprocessing/label.py:252: DataConversionWarning: A column-vector y was passed when a 1d array was expected. Please change the shape of y to (n_samples, ), for example using ravel().\n",
      "  y = column_or_1d(y, warn=True)\n"
     ]
    },
    {
     "name": "stdout",
     "output_type": "stream",
     "text": [
      "Training until validation scores don't improve for 100 rounds.\n",
      "[100]\tvalid's auc: 0.757533\n",
      "[200]\tvalid's auc: 0.781793\n",
      "[300]\tvalid's auc: 0.792381\n",
      "[400]\tvalid's auc: 0.798237\n",
      "[500]\tvalid's auc: 0.800968\n",
      "[600]\tvalid's auc: 0.803733\n",
      "[700]\tvalid's auc: 0.806084\n",
      "[800]\tvalid's auc: 0.807022\n",
      "[900]\tvalid's auc: 0.80732\n",
      "[1000]\tvalid's auc: 0.807852\n",
      "[1100]\tvalid's auc: 0.808203\n",
      "[1200]\tvalid's auc: 0.809069\n",
      "[1300]\tvalid's auc: 0.809601\n",
      "[1400]\tvalid's auc: 0.809843\n",
      "[1500]\tvalid's auc: 0.8106\n",
      "[1600]\tvalid's auc: 0.810632\n",
      "[1700]\tvalid's auc: 0.811438\n",
      "[1800]\tvalid's auc: 0.812129\n",
      "[1900]\tvalid's auc: 0.812795\n",
      "[2000]\tvalid's auc: 0.813324\n",
      "[2100]\tvalid's auc: 0.813348\n",
      "Early stopping, best iteration is:\n",
      "[2007]\tvalid's auc: 0.813361\n"
     ]
    },
    {
     "name": "stderr",
     "output_type": "stream",
     "text": [
      "/home/wopr/.local/lib/python3.6/site-packages/sklearn/preprocessing/label.py:219: DataConversionWarning: A column-vector y was passed when a 1d array was expected. Please change the shape of y to (n_samples, ), for example using ravel().\n",
      "  y = column_or_1d(y, warn=True)\n",
      "/home/wopr/.local/lib/python3.6/site-packages/sklearn/preprocessing/label.py:252: DataConversionWarning: A column-vector y was passed when a 1d array was expected. Please change the shape of y to (n_samples, ), for example using ravel().\n",
      "  y = column_or_1d(y, warn=True)\n"
     ]
    },
    {
     "name": "stdout",
     "output_type": "stream",
     "text": [
      "Training until validation scores don't improve for 100 rounds.\n",
      "[100]\tvalid's auc: 0.757926\n",
      "[200]\tvalid's auc: 0.782718\n",
      "[300]\tvalid's auc: 0.793761\n",
      "[400]\tvalid's auc: 0.798693\n",
      "[500]\tvalid's auc: 0.802255\n",
      "[600]\tvalid's auc: 0.803557\n",
      "[700]\tvalid's auc: 0.805305\n",
      "[800]\tvalid's auc: 0.806549\n",
      "[900]\tvalid's auc: 0.807256\n",
      "[1000]\tvalid's auc: 0.808081\n",
      "[1100]\tvalid's auc: 0.808726\n",
      "[1200]\tvalid's auc: 0.809053\n",
      "Early stopping, best iteration is:\n",
      "[1150]\tvalid's auc: 0.809189\n"
     ]
    },
    {
     "name": "stderr",
     "output_type": "stream",
     "text": [
      "/home/wopr/.local/lib/python3.6/site-packages/sklearn/preprocessing/label.py:219: DataConversionWarning: A column-vector y was passed when a 1d array was expected. Please change the shape of y to (n_samples, ), for example using ravel().\n",
      "  y = column_or_1d(y, warn=True)\n",
      "/home/wopr/.local/lib/python3.6/site-packages/sklearn/preprocessing/label.py:252: DataConversionWarning: A column-vector y was passed when a 1d array was expected. Please change the shape of y to (n_samples, ), for example using ravel().\n",
      "  y = column_or_1d(y, warn=True)\n"
     ]
    },
    {
     "name": "stdout",
     "output_type": "stream",
     "text": [
      "Training until validation scores don't improve for 100 rounds.\n",
      "[100]\tvalid's auc: 0.756825\n",
      "[200]\tvalid's auc: 0.780309\n",
      "[300]\tvalid's auc: 0.793408\n",
      "[400]\tvalid's auc: 0.798711\n",
      "[500]\tvalid's auc: 0.803202\n",
      "[600]\tvalid's auc: 0.805228\n",
      "[700]\tvalid's auc: 0.806219\n",
      "[800]\tvalid's auc: 0.807584\n",
      "[900]\tvalid's auc: 0.808381\n",
      "[1000]\tvalid's auc: 0.809736\n",
      "[1100]\tvalid's auc: 0.810532\n",
      "[1200]\tvalid's auc: 0.810783\n",
      "[1300]\tvalid's auc: 0.811427\n",
      "[1400]\tvalid's auc: 0.81195\n",
      "[1500]\tvalid's auc: 0.812532\n",
      "[1600]\tvalid's auc: 0.813113\n",
      "[1700]\tvalid's auc: 0.813593\n",
      "[1800]\tvalid's auc: 0.813938\n",
      "[1900]\tvalid's auc: 0.814241\n",
      "[2000]\tvalid's auc: 0.814761\n",
      "[2100]\tvalid's auc: 0.814869\n",
      "Early stopping, best iteration is:\n",
      "[2027]\tvalid's auc: 0.814907\n"
     ]
    },
    {
     "name": "stderr",
     "output_type": "stream",
     "text": [
      "/home/wopr/.local/lib/python3.6/site-packages/sklearn/preprocessing/label.py:219: DataConversionWarning: A column-vector y was passed when a 1d array was expected. Please change the shape of y to (n_samples, ), for example using ravel().\n",
      "  y = column_or_1d(y, warn=True)\n",
      "/home/wopr/.local/lib/python3.6/site-packages/sklearn/preprocessing/label.py:252: DataConversionWarning: A column-vector y was passed when a 1d array was expected. Please change the shape of y to (n_samples, ), for example using ravel().\n",
      "  y = column_or_1d(y, warn=True)\n"
     ]
    },
    {
     "name": "stdout",
     "output_type": "stream",
     "text": [
      "Training until validation scores don't improve for 100 rounds.\n",
      "[100]\tvalid's auc: 0.5\n",
      "Early stopping, best iteration is:\n",
      "[1]\tvalid's auc: 0.5\n"
     ]
    },
    {
     "name": "stderr",
     "output_type": "stream",
     "text": [
      "/home/wopr/.local/lib/python3.6/site-packages/sklearn/preprocessing/label.py:219: DataConversionWarning: A column-vector y was passed when a 1d array was expected. Please change the shape of y to (n_samples, ), for example using ravel().\n",
      "  y = column_or_1d(y, warn=True)\n",
      "/home/wopr/.local/lib/python3.6/site-packages/sklearn/preprocessing/label.py:252: DataConversionWarning: A column-vector y was passed when a 1d array was expected. Please change the shape of y to (n_samples, ), for example using ravel().\n",
      "  y = column_or_1d(y, warn=True)\n"
     ]
    },
    {
     "name": "stdout",
     "output_type": "stream",
     "text": [
      "Training until validation scores don't improve for 100 rounds.\n",
      "[100]\tvalid's auc: 0.5\n",
      "Early stopping, best iteration is:\n",
      "[1]\tvalid's auc: 0.5\n"
     ]
    },
    {
     "name": "stderr",
     "output_type": "stream",
     "text": [
      "/home/wopr/.local/lib/python3.6/site-packages/sklearn/preprocessing/label.py:219: DataConversionWarning: A column-vector y was passed when a 1d array was expected. Please change the shape of y to (n_samples, ), for example using ravel().\n",
      "  y = column_or_1d(y, warn=True)\n",
      "/home/wopr/.local/lib/python3.6/site-packages/sklearn/preprocessing/label.py:252: DataConversionWarning: A column-vector y was passed when a 1d array was expected. Please change the shape of y to (n_samples, ), for example using ravel().\n",
      "  y = column_or_1d(y, warn=True)\n"
     ]
    },
    {
     "name": "stdout",
     "output_type": "stream",
     "text": [
      "Training until validation scores don't improve for 100 rounds.\n",
      "[100]\tvalid's auc: 0.5\n",
      "Early stopping, best iteration is:\n",
      "[1]\tvalid's auc: 0.5\n"
     ]
    },
    {
     "name": "stderr",
     "output_type": "stream",
     "text": [
      "/home/wopr/.local/lib/python3.6/site-packages/sklearn/preprocessing/label.py:219: DataConversionWarning: A column-vector y was passed when a 1d array was expected. Please change the shape of y to (n_samples, ), for example using ravel().\n",
      "  y = column_or_1d(y, warn=True)\n",
      "/home/wopr/.local/lib/python3.6/site-packages/sklearn/preprocessing/label.py:252: DataConversionWarning: A column-vector y was passed when a 1d array was expected. Please change the shape of y to (n_samples, ), for example using ravel().\n",
      "  y = column_or_1d(y, warn=True)\n"
     ]
    },
    {
     "name": "stdout",
     "output_type": "stream",
     "text": [
      "Training until validation scores don't improve for 100 rounds.\n",
      "[100]\tvalid's auc: 0.743685\n",
      "[200]\tvalid's auc: 0.768901\n",
      "[300]\tvalid's auc: 0.782539\n",
      "[400]\tvalid's auc: 0.790351\n",
      "[500]\tvalid's auc: 0.795086\n",
      "[600]\tvalid's auc: 0.799323\n",
      "[700]\tvalid's auc: 0.802789\n",
      "[800]\tvalid's auc: 0.80502\n",
      "[900]\tvalid's auc: 0.806891\n",
      "[1000]\tvalid's auc: 0.808336\n",
      "[1100]\tvalid's auc: 0.809783\n",
      "[1200]\tvalid's auc: 0.810062\n",
      "Early stopping, best iteration is:\n",
      "[1131]\tvalid's auc: 0.810062\n"
     ]
    },
    {
     "name": "stderr",
     "output_type": "stream",
     "text": [
      "/home/wopr/.local/lib/python3.6/site-packages/sklearn/preprocessing/label.py:219: DataConversionWarning: A column-vector y was passed when a 1d array was expected. Please change the shape of y to (n_samples, ), for example using ravel().\n",
      "  y = column_or_1d(y, warn=True)\n",
      "/home/wopr/.local/lib/python3.6/site-packages/sklearn/preprocessing/label.py:252: DataConversionWarning: A column-vector y was passed when a 1d array was expected. Please change the shape of y to (n_samples, ), for example using ravel().\n",
      "  y = column_or_1d(y, warn=True)\n"
     ]
    },
    {
     "name": "stdout",
     "output_type": "stream",
     "text": [
      "Training until validation scores don't improve for 100 rounds.\n",
      "[100]\tvalid's auc: 0.740058\n",
      "[200]\tvalid's auc: 0.766612\n",
      "[300]\tvalid's auc: 0.779719\n",
      "[400]\tvalid's auc: 0.789217\n",
      "[500]\tvalid's auc: 0.794918\n",
      "[600]\tvalid's auc: 0.798469\n",
      "[700]\tvalid's auc: 0.801284\n",
      "[800]\tvalid's auc: 0.803123\n",
      "[900]\tvalid's auc: 0.805276\n",
      "[1000]\tvalid's auc: 0.806426\n",
      "[1100]\tvalid's auc: 0.807506\n",
      "[1200]\tvalid's auc: 0.808\n",
      "Early stopping, best iteration is:\n",
      "[1139]\tvalid's auc: 0.808\n"
     ]
    },
    {
     "name": "stderr",
     "output_type": "stream",
     "text": [
      "/home/wopr/.local/lib/python3.6/site-packages/sklearn/preprocessing/label.py:219: DataConversionWarning: A column-vector y was passed when a 1d array was expected. Please change the shape of y to (n_samples, ), for example using ravel().\n",
      "  y = column_or_1d(y, warn=True)\n",
      "/home/wopr/.local/lib/python3.6/site-packages/sklearn/preprocessing/label.py:252: DataConversionWarning: A column-vector y was passed when a 1d array was expected. Please change the shape of y to (n_samples, ), for example using ravel().\n",
      "  y = column_or_1d(y, warn=True)\n"
     ]
    },
    {
     "name": "stdout",
     "output_type": "stream",
     "text": [
      "Training until validation scores don't improve for 100 rounds.\n",
      "[100]\tvalid's auc: 0.740016\n",
      "[200]\tvalid's auc: 0.767737\n",
      "[300]\tvalid's auc: 0.780887\n",
      "[400]\tvalid's auc: 0.789923\n",
      "[500]\tvalid's auc: 0.796267\n",
      "[600]\tvalid's auc: 0.799791\n",
      "[700]\tvalid's auc: 0.802882\n",
      "[800]\tvalid's auc: 0.805411\n",
      "[900]\tvalid's auc: 0.806726\n",
      "[1000]\tvalid's auc: 0.808623\n",
      "[1100]\tvalid's auc: 0.809941\n",
      "[1200]\tvalid's auc: 0.810663\n",
      "Early stopping, best iteration is:\n",
      "[1161]\tvalid's auc: 0.810663\n"
     ]
    },
    {
     "name": "stderr",
     "output_type": "stream",
     "text": [
      "/home/wopr/.local/lib/python3.6/site-packages/sklearn/preprocessing/label.py:219: DataConversionWarning: A column-vector y was passed when a 1d array was expected. Please change the shape of y to (n_samples, ), for example using ravel().\n",
      "  y = column_or_1d(y, warn=True)\n",
      "/home/wopr/.local/lib/python3.6/site-packages/sklearn/preprocessing/label.py:252: DataConversionWarning: A column-vector y was passed when a 1d array was expected. Please change the shape of y to (n_samples, ), for example using ravel().\n",
      "  y = column_or_1d(y, warn=True)\n"
     ]
    },
    {
     "name": "stdout",
     "output_type": "stream",
     "text": [
      "Training until validation scores don't improve for 100 rounds.\n",
      "[100]\tvalid's auc: 0.763542\n",
      "[200]\tvalid's auc: 0.786502\n",
      "[300]\tvalid's auc: 0.794322\n",
      "[400]\tvalid's auc: 0.796278\n",
      "Early stopping, best iteration is:\n",
      "[363]\tvalid's auc: 0.796775\n"
     ]
    },
    {
     "name": "stderr",
     "output_type": "stream",
     "text": [
      "/home/wopr/.local/lib/python3.6/site-packages/sklearn/preprocessing/label.py:219: DataConversionWarning: A column-vector y was passed when a 1d array was expected. Please change the shape of y to (n_samples, ), for example using ravel().\n",
      "  y = column_or_1d(y, warn=True)\n",
      "/home/wopr/.local/lib/python3.6/site-packages/sklearn/preprocessing/label.py:252: DataConversionWarning: A column-vector y was passed when a 1d array was expected. Please change the shape of y to (n_samples, ), for example using ravel().\n",
      "  y = column_or_1d(y, warn=True)\n"
     ]
    },
    {
     "name": "stdout",
     "output_type": "stream",
     "text": [
      "Training until validation scores don't improve for 100 rounds.\n",
      "[100]\tvalid's auc: 0.755069\n",
      "[200]\tvalid's auc: 0.777456\n",
      "[300]\tvalid's auc: 0.787972\n",
      "[400]\tvalid's auc: 0.791917\n",
      "[500]\tvalid's auc: 0.793596\n",
      "[600]\tvalid's auc: 0.794265\n",
      "[700]\tvalid's auc: 0.794158\n",
      "Early stopping, best iteration is:\n",
      "[600]\tvalid's auc: 0.794265\n"
     ]
    },
    {
     "name": "stderr",
     "output_type": "stream",
     "text": [
      "/home/wopr/.local/lib/python3.6/site-packages/sklearn/preprocessing/label.py:219: DataConversionWarning: A column-vector y was passed when a 1d array was expected. Please change the shape of y to (n_samples, ), for example using ravel().\n",
      "  y = column_or_1d(y, warn=True)\n",
      "/home/wopr/.local/lib/python3.6/site-packages/sklearn/preprocessing/label.py:252: DataConversionWarning: A column-vector y was passed when a 1d array was expected. Please change the shape of y to (n_samples, ), for example using ravel().\n",
      "  y = column_or_1d(y, warn=True)\n"
     ]
    },
    {
     "name": "stdout",
     "output_type": "stream",
     "text": [
      "Training until validation scores don't improve for 100 rounds.\n",
      "[100]\tvalid's auc: 0.760099\n",
      "[200]\tvalid's auc: 0.782682\n",
      "[300]\tvalid's auc: 0.791368\n",
      "[400]\tvalid's auc: 0.793469\n",
      "[500]\tvalid's auc: 0.793876\n",
      "[600]\tvalid's auc: 0.79568\n",
      "[700]\tvalid's auc: 0.796285\n",
      "[800]\tvalid's auc: 0.796836\n",
      "[900]\tvalid's auc: 0.798285\n",
      "[1000]\tvalid's auc: 0.799425\n",
      "[1100]\tvalid's auc: 0.800701\n",
      "[1200]\tvalid's auc: 0.801065\n",
      "[1300]\tvalid's auc: 0.802386\n",
      "[1400]\tvalid's auc: 0.803702\n",
      "[1500]\tvalid's auc: 0.80476\n",
      "[1600]\tvalid's auc: 0.805383\n",
      "[1700]\tvalid's auc: 0.806501\n",
      "[1800]\tvalid's auc: 0.8071\n",
      "[1900]\tvalid's auc: 0.808112\n",
      "[2000]\tvalid's auc: 0.809196\n",
      "[2100]\tvalid's auc: 0.81011\n",
      "[2200]\tvalid's auc: 0.811007\n",
      "[2300]\tvalid's auc: 0.81157\n",
      "[2400]\tvalid's auc: 0.812063\n",
      "[2500]\tvalid's auc: 0.812893\n",
      "[2600]\tvalid's auc: 0.813435\n",
      "[2700]\tvalid's auc: 0.813845\n",
      "[2800]\tvalid's auc: 0.813803\n",
      "[2900]\tvalid's auc: 0.814158\n",
      "[3000]\tvalid's auc: 0.81429\n",
      "Early stopping, best iteration is:\n",
      "[2933]\tvalid's auc: 0.814315\n"
     ]
    },
    {
     "name": "stderr",
     "output_type": "stream",
     "text": [
      "/home/wopr/.local/lib/python3.6/site-packages/sklearn/preprocessing/label.py:219: DataConversionWarning: A column-vector y was passed when a 1d array was expected. Please change the shape of y to (n_samples, ), for example using ravel().\n",
      "  y = column_or_1d(y, warn=True)\n",
      "/home/wopr/.local/lib/python3.6/site-packages/sklearn/preprocessing/label.py:252: DataConversionWarning: A column-vector y was passed when a 1d array was expected. Please change the shape of y to (n_samples, ), for example using ravel().\n",
      "  y = column_or_1d(y, warn=True)\n"
     ]
    },
    {
     "name": "stdout",
     "output_type": "stream",
     "text": [
      "Training until validation scores don't improve for 100 rounds.\n",
      "[100]\tvalid's auc: 0.745725\n",
      "[200]\tvalid's auc: 0.773635\n",
      "[300]\tvalid's auc: 0.788457\n",
      "[400]\tvalid's auc: 0.796588\n",
      "[500]\tvalid's auc: 0.801298\n",
      "[600]\tvalid's auc: 0.80414\n",
      "[700]\tvalid's auc: 0.805686\n",
      "[800]\tvalid's auc: 0.806593\n",
      "[900]\tvalid's auc: 0.807572\n",
      "[1000]\tvalid's auc: 0.808163\n",
      "[1100]\tvalid's auc: 0.808578\n",
      "Early stopping, best iteration is:\n",
      "[1058]\tvalid's auc: 0.808717\n"
     ]
    },
    {
     "name": "stderr",
     "output_type": "stream",
     "text": [
      "/home/wopr/.local/lib/python3.6/site-packages/sklearn/preprocessing/label.py:219: DataConversionWarning: A column-vector y was passed when a 1d array was expected. Please change the shape of y to (n_samples, ), for example using ravel().\n",
      "  y = column_or_1d(y, warn=True)\n",
      "/home/wopr/.local/lib/python3.6/site-packages/sklearn/preprocessing/label.py:252: DataConversionWarning: A column-vector y was passed when a 1d array was expected. Please change the shape of y to (n_samples, ), for example using ravel().\n",
      "  y = column_or_1d(y, warn=True)\n"
     ]
    },
    {
     "name": "stdout",
     "output_type": "stream",
     "text": [
      "Training until validation scores don't improve for 100 rounds.\n",
      "[100]\tvalid's auc: 0.747628\n",
      "[200]\tvalid's auc: 0.771893\n",
      "[300]\tvalid's auc: 0.78553\n",
      "[400]\tvalid's auc: 0.79456\n",
      "[500]\tvalid's auc: 0.799529\n",
      "[600]\tvalid's auc: 0.802153\n",
      "[700]\tvalid's auc: 0.803993\n",
      "[800]\tvalid's auc: 0.804843\n",
      "[900]\tvalid's auc: 0.806049\n",
      "[1000]\tvalid's auc: 0.80726\n",
      "[1100]\tvalid's auc: 0.807863\n",
      "[1200]\tvalid's auc: 0.807773\n",
      "[1300]\tvalid's auc: 0.808237\n",
      "[1400]\tvalid's auc: 0.808257\n",
      "Early stopping, best iteration is:\n",
      "[1339]\tvalid's auc: 0.80858\n"
     ]
    },
    {
     "name": "stderr",
     "output_type": "stream",
     "text": [
      "/home/wopr/.local/lib/python3.6/site-packages/sklearn/preprocessing/label.py:219: DataConversionWarning: A column-vector y was passed when a 1d array was expected. Please change the shape of y to (n_samples, ), for example using ravel().\n",
      "  y = column_or_1d(y, warn=True)\n",
      "/home/wopr/.local/lib/python3.6/site-packages/sklearn/preprocessing/label.py:252: DataConversionWarning: A column-vector y was passed when a 1d array was expected. Please change the shape of y to (n_samples, ), for example using ravel().\n",
      "  y = column_or_1d(y, warn=True)\n"
     ]
    },
    {
     "name": "stdout",
     "output_type": "stream",
     "text": [
      "Training until validation scores don't improve for 100 rounds.\n",
      "[100]\tvalid's auc: 0.745115\n",
      "[200]\tvalid's auc: 0.774115\n",
      "[300]\tvalid's auc: 0.788361\n",
      "[400]\tvalid's auc: 0.79532\n",
      "[500]\tvalid's auc: 0.800095\n",
      "[600]\tvalid's auc: 0.802566\n",
      "[700]\tvalid's auc: 0.804266\n",
      "[800]\tvalid's auc: 0.805779\n",
      "[900]\tvalid's auc: 0.80667\n",
      "[1000]\tvalid's auc: 0.806813\n",
      "[1100]\tvalid's auc: 0.80695\n",
      "[1200]\tvalid's auc: 0.807927\n",
      "[1300]\tvalid's auc: 0.808334\n",
      "[1400]\tvalid's auc: 0.808341\n",
      "[1500]\tvalid's auc: 0.808709\n",
      "[1600]\tvalid's auc: 0.809004\n",
      "[1700]\tvalid's auc: 0.809265\n",
      "Early stopping, best iteration is:\n",
      "[1651]\tvalid's auc: 0.809439\n"
     ]
    },
    {
     "name": "stderr",
     "output_type": "stream",
     "text": [
      "/home/wopr/.local/lib/python3.6/site-packages/sklearn/preprocessing/label.py:219: DataConversionWarning: A column-vector y was passed when a 1d array was expected. Please change the shape of y to (n_samples, ), for example using ravel().\n",
      "  y = column_or_1d(y, warn=True)\n",
      "/home/wopr/.local/lib/python3.6/site-packages/sklearn/preprocessing/label.py:252: DataConversionWarning: A column-vector y was passed when a 1d array was expected. Please change the shape of y to (n_samples, ), for example using ravel().\n",
      "  y = column_or_1d(y, warn=True)\n"
     ]
    },
    {
     "name": "stdout",
     "output_type": "stream",
     "text": [
      "Training until validation scores don't improve for 100 rounds.\n",
      "[100]\tvalid's auc: 0.732564\n",
      "[200]\tvalid's auc: 0.759778\n",
      "[300]\tvalid's auc: 0.774702\n",
      "[400]\tvalid's auc: 0.784615\n",
      "[500]\tvalid's auc: 0.791494\n",
      "[600]\tvalid's auc: 0.796636\n",
      "[700]\tvalid's auc: 0.800485\n",
      "[800]\tvalid's auc: 0.803493\n",
      "[900]\tvalid's auc: 0.806569\n",
      "[1000]\tvalid's auc: 0.808179\n",
      "[1100]\tvalid's auc: 0.809985\n",
      "[1200]\tvalid's auc: 0.811301\n",
      "[1300]\tvalid's auc: 0.812364\n",
      "[1400]\tvalid's auc: 0.81319\n",
      "[1500]\tvalid's auc: 0.813968\n",
      "[1600]\tvalid's auc: 0.814283\n",
      "[1700]\tvalid's auc: 0.814927\n",
      "[1800]\tvalid's auc: 0.8154\n",
      "[1900]\tvalid's auc: 0.815836\n",
      "[2000]\tvalid's auc: 0.816096\n",
      "[2100]\tvalid's auc: 0.816278\n",
      "[2200]\tvalid's auc: 0.816672\n",
      "[2300]\tvalid's auc: 0.816795\n",
      "[2400]\tvalid's auc: 0.817079\n",
      "[2500]\tvalid's auc: 0.817177\n",
      "[2600]\tvalid's auc: 0.817388\n",
      "[2700]\tvalid's auc: 0.817615\n",
      "[2800]\tvalid's auc: 0.817756\n",
      "[2900]\tvalid's auc: 0.81799\n",
      "[3000]\tvalid's auc: 0.818218\n",
      "Early stopping, best iteration is:\n",
      "[2998]\tvalid's auc: 0.818249\n"
     ]
    },
    {
     "name": "stderr",
     "output_type": "stream",
     "text": [
      "/home/wopr/.local/lib/python3.6/site-packages/sklearn/preprocessing/label.py:219: DataConversionWarning: A column-vector y was passed when a 1d array was expected. Please change the shape of y to (n_samples, ), for example using ravel().\n",
      "  y = column_or_1d(y, warn=True)\n",
      "/home/wopr/.local/lib/python3.6/site-packages/sklearn/preprocessing/label.py:252: DataConversionWarning: A column-vector y was passed when a 1d array was expected. Please change the shape of y to (n_samples, ), for example using ravel().\n",
      "  y = column_or_1d(y, warn=True)\n"
     ]
    },
    {
     "name": "stdout",
     "output_type": "stream",
     "text": [
      "Training until validation scores don't improve for 100 rounds.\n",
      "[100]\tvalid's auc: 0.732559\n",
      "[200]\tvalid's auc: 0.761638\n",
      "[300]\tvalid's auc: 0.77656\n",
      "[400]\tvalid's auc: 0.785881\n",
      "[500]\tvalid's auc: 0.792008\n",
      "[600]\tvalid's auc: 0.796326\n",
      "[700]\tvalid's auc: 0.800332\n",
      "[800]\tvalid's auc: 0.80318\n",
      "[900]\tvalid's auc: 0.805296\n",
      "[1000]\tvalid's auc: 0.807471\n",
      "[1100]\tvalid's auc: 0.808998\n",
      "[1200]\tvalid's auc: 0.810386\n",
      "[1300]\tvalid's auc: 0.811205\n",
      "[1400]\tvalid's auc: 0.812077\n",
      "[1500]\tvalid's auc: 0.812599\n",
      "[1600]\tvalid's auc: 0.813388\n",
      "[1700]\tvalid's auc: 0.814072\n",
      "[1800]\tvalid's auc: 0.81425\n",
      "[1900]\tvalid's auc: 0.814811\n",
      "[2000]\tvalid's auc: 0.814942\n",
      "[2100]\tvalid's auc: 0.815449\n",
      "[2200]\tvalid's auc: 0.815752\n",
      "[2300]\tvalid's auc: 0.815863\n",
      "[2400]\tvalid's auc: 0.816185\n",
      "[2500]\tvalid's auc: 0.816328\n",
      "[2600]\tvalid's auc: 0.81657\n",
      "[2700]\tvalid's auc: 0.816717\n",
      "[2800]\tvalid's auc: 0.816598\n",
      "Early stopping, best iteration is:\n",
      "[2716]\tvalid's auc: 0.816752\n"
     ]
    },
    {
     "name": "stderr",
     "output_type": "stream",
     "text": [
      "/home/wopr/.local/lib/python3.6/site-packages/sklearn/preprocessing/label.py:219: DataConversionWarning: A column-vector y was passed when a 1d array was expected. Please change the shape of y to (n_samples, ), for example using ravel().\n",
      "  y = column_or_1d(y, warn=True)\n",
      "/home/wopr/.local/lib/python3.6/site-packages/sklearn/preprocessing/label.py:252: DataConversionWarning: A column-vector y was passed when a 1d array was expected. Please change the shape of y to (n_samples, ), for example using ravel().\n",
      "  y = column_or_1d(y, warn=True)\n"
     ]
    },
    {
     "name": "stdout",
     "output_type": "stream",
     "text": [
      "Training until validation scores don't improve for 100 rounds.\n",
      "[100]\tvalid's auc: 0.73173\n",
      "[200]\tvalid's auc: 0.757157\n",
      "[300]\tvalid's auc: 0.771949\n",
      "[400]\tvalid's auc: 0.781638\n",
      "[500]\tvalid's auc: 0.788508\n",
      "[600]\tvalid's auc: 0.793825\n",
      "[700]\tvalid's auc: 0.797905\n",
      "[800]\tvalid's auc: 0.800799\n",
      "[900]\tvalid's auc: 0.803487\n",
      "[1000]\tvalid's auc: 0.806012\n",
      "[1100]\tvalid's auc: 0.807627\n",
      "[1200]\tvalid's auc: 0.808714\n",
      "[1300]\tvalid's auc: 0.809648\n",
      "[1400]\tvalid's auc: 0.810342\n",
      "[1500]\tvalid's auc: 0.810957\n",
      "[1600]\tvalid's auc: 0.811393\n",
      "[1700]\tvalid's auc: 0.811927\n",
      "[1800]\tvalid's auc: 0.812314\n",
      "[1900]\tvalid's auc: 0.81254\n",
      "[2000]\tvalid's auc: 0.812662\n",
      "[2100]\tvalid's auc: 0.813112\n",
      "[2200]\tvalid's auc: 0.813579\n",
      "[2300]\tvalid's auc: 0.813458\n",
      "Early stopping, best iteration is:\n",
      "[2236]\tvalid's auc: 0.813697\n"
     ]
    },
    {
     "name": "stderr",
     "output_type": "stream",
     "text": [
      "/home/wopr/.local/lib/python3.6/site-packages/sklearn/preprocessing/label.py:219: DataConversionWarning: A column-vector y was passed when a 1d array was expected. Please change the shape of y to (n_samples, ), for example using ravel().\n",
      "  y = column_or_1d(y, warn=True)\n",
      "/home/wopr/.local/lib/python3.6/site-packages/sklearn/preprocessing/label.py:252: DataConversionWarning: A column-vector y was passed when a 1d array was expected. Please change the shape of y to (n_samples, ), for example using ravel().\n",
      "  y = column_or_1d(y, warn=True)\n"
     ]
    },
    {
     "name": "stdout",
     "output_type": "stream",
     "text": [
      "Training until validation scores don't improve for 100 rounds.\n",
      "[100]\tvalid's auc: 0.729907\n",
      "[200]\tvalid's auc: 0.7588\n",
      "[300]\tvalid's auc: 0.773856\n",
      "[400]\tvalid's auc: 0.783057\n",
      "[500]\tvalid's auc: 0.789639\n",
      "[600]\tvalid's auc: 0.795232\n",
      "[700]\tvalid's auc: 0.799825\n",
      "[800]\tvalid's auc: 0.802675\n",
      "[900]\tvalid's auc: 0.805027\n",
      "[1000]\tvalid's auc: 0.807312\n",
      "[1100]\tvalid's auc: 0.808627\n",
      "[1200]\tvalid's auc: 0.809803\n",
      "[1300]\tvalid's auc: 0.810454\n",
      "[1400]\tvalid's auc: 0.811498\n",
      "[1500]\tvalid's auc: 0.812465\n",
      "[1600]\tvalid's auc: 0.813291\n",
      "[1700]\tvalid's auc: 0.814271\n",
      "[1800]\tvalid's auc: 0.814751\n",
      "[1900]\tvalid's auc: 0.815402\n",
      "[2000]\tvalid's auc: 0.815919\n",
      "[2100]\tvalid's auc: 0.816444\n",
      "[2200]\tvalid's auc: 0.816513\n",
      "Early stopping, best iteration is:\n",
      "[2128]\tvalid's auc: 0.816534\n"
     ]
    },
    {
     "name": "stderr",
     "output_type": "stream",
     "text": [
      "/home/wopr/.local/lib/python3.6/site-packages/sklearn/preprocessing/label.py:219: DataConversionWarning: A column-vector y was passed when a 1d array was expected. Please change the shape of y to (n_samples, ), for example using ravel().\n",
      "  y = column_or_1d(y, warn=True)\n",
      "/home/wopr/.local/lib/python3.6/site-packages/sklearn/preprocessing/label.py:252: DataConversionWarning: A column-vector y was passed when a 1d array was expected. Please change the shape of y to (n_samples, ), for example using ravel().\n",
      "  y = column_or_1d(y, warn=True)\n"
     ]
    },
    {
     "name": "stdout",
     "output_type": "stream",
     "text": [
      "Training until validation scores don't improve for 100 rounds.\n",
      "[100]\tvalid's auc: 0.731544\n",
      "[200]\tvalid's auc: 0.76025\n",
      "[300]\tvalid's auc: 0.774373\n",
      "[400]\tvalid's auc: 0.784139\n",
      "[500]\tvalid's auc: 0.790831\n",
      "[600]\tvalid's auc: 0.79547\n",
      "[700]\tvalid's auc: 0.799222\n",
      "[800]\tvalid's auc: 0.802186\n",
      "[900]\tvalid's auc: 0.804724\n",
      "[1000]\tvalid's auc: 0.806358\n",
      "[1100]\tvalid's auc: 0.807816\n",
      "[1200]\tvalid's auc: 0.809384\n",
      "[1300]\tvalid's auc: 0.810571\n",
      "[1400]\tvalid's auc: 0.811361\n",
      "[1500]\tvalid's auc: 0.812087\n",
      "[1600]\tvalid's auc: 0.812822\n",
      "[1700]\tvalid's auc: 0.813297\n",
      "[1800]\tvalid's auc: 0.813891\n",
      "[1900]\tvalid's auc: 0.814645\n",
      "[2000]\tvalid's auc: 0.815378\n",
      "[2100]\tvalid's auc: 0.815677\n",
      "[2200]\tvalid's auc: 0.816055\n",
      "[2300]\tvalid's auc: 0.81632\n",
      "[2400]\tvalid's auc: 0.81635\n",
      "[2500]\tvalid's auc: 0.816557\n",
      "[2600]\tvalid's auc: 0.816705\n",
      "[2700]\tvalid's auc: 0.816783\n",
      "[2800]\tvalid's auc: 0.817232\n",
      "Early stopping, best iteration is:\n",
      "[2796]\tvalid's auc: 0.817233\n"
     ]
    },
    {
     "name": "stderr",
     "output_type": "stream",
     "text": [
      "/home/wopr/.local/lib/python3.6/site-packages/sklearn/preprocessing/label.py:219: DataConversionWarning: A column-vector y was passed when a 1d array was expected. Please change the shape of y to (n_samples, ), for example using ravel().\n",
      "  y = column_or_1d(y, warn=True)\n",
      "/home/wopr/.local/lib/python3.6/site-packages/sklearn/preprocessing/label.py:252: DataConversionWarning: A column-vector y was passed when a 1d array was expected. Please change the shape of y to (n_samples, ), for example using ravel().\n",
      "  y = column_or_1d(y, warn=True)\n"
     ]
    },
    {
     "name": "stdout",
     "output_type": "stream",
     "text": [
      "Training until validation scores don't improve for 100 rounds.\n",
      "[100]\tvalid's auc: 0.729521\n",
      "[200]\tvalid's auc: 0.760284\n",
      "[300]\tvalid's auc: 0.774266\n",
      "[400]\tvalid's auc: 0.782891\n",
      "[500]\tvalid's auc: 0.789056\n",
      "[600]\tvalid's auc: 0.793754\n",
      "[700]\tvalid's auc: 0.797972\n",
      "[800]\tvalid's auc: 0.800949\n",
      "[900]\tvalid's auc: 0.803214\n",
      "[1000]\tvalid's auc: 0.805801\n",
      "[1100]\tvalid's auc: 0.807485\n",
      "[1200]\tvalid's auc: 0.809551\n",
      "[1300]\tvalid's auc: 0.810534\n",
      "[1400]\tvalid's auc: 0.81153\n",
      "[1500]\tvalid's auc: 0.812542\n",
      "[1600]\tvalid's auc: 0.813342\n",
      "[1700]\tvalid's auc: 0.813855\n",
      "[1800]\tvalid's auc: 0.814621\n",
      "[1900]\tvalid's auc: 0.815105\n",
      "[2000]\tvalid's auc: 0.815296\n",
      "[2100]\tvalid's auc: 0.815685\n",
      "[2200]\tvalid's auc: 0.816031\n",
      "[2300]\tvalid's auc: 0.816076\n",
      "[2400]\tvalid's auc: 0.816347\n",
      "Early stopping, best iteration is:\n",
      "[2364]\tvalid's auc: 0.816384\n"
     ]
    },
    {
     "name": "stderr",
     "output_type": "stream",
     "text": [
      "/home/wopr/.local/lib/python3.6/site-packages/sklearn/preprocessing/label.py:219: DataConversionWarning: A column-vector y was passed when a 1d array was expected. Please change the shape of y to (n_samples, ), for example using ravel().\n",
      "  y = column_or_1d(y, warn=True)\n",
      "/home/wopr/.local/lib/python3.6/site-packages/sklearn/preprocessing/label.py:252: DataConversionWarning: A column-vector y was passed when a 1d array was expected. Please change the shape of y to (n_samples, ), for example using ravel().\n",
      "  y = column_or_1d(y, warn=True)\n"
     ]
    },
    {
     "name": "stdout",
     "output_type": "stream",
     "text": [
      "Training until validation scores don't improve for 100 rounds.\n",
      "[100]\tvalid's auc: 0.741098\n",
      "[200]\tvalid's auc: 0.771084\n",
      "[300]\tvalid's auc: 0.784321\n",
      "[400]\tvalid's auc: 0.792772\n",
      "[500]\tvalid's auc: 0.798094\n",
      "[600]\tvalid's auc: 0.801793\n",
      "[700]\tvalid's auc: 0.804312\n",
      "[800]\tvalid's auc: 0.806236\n",
      "[900]\tvalid's auc: 0.807902\n",
      "[1000]\tvalid's auc: 0.809411\n",
      "[1100]\tvalid's auc: 0.809952\n",
      "[1200]\tvalid's auc: 0.811056\n",
      "[1300]\tvalid's auc: 0.811649\n",
      "[1400]\tvalid's auc: 0.812271\n",
      "[1500]\tvalid's auc: 0.812999\n",
      "[1600]\tvalid's auc: 0.813201\n",
      "[1700]\tvalid's auc: 0.813976\n",
      "[1800]\tvalid's auc: 0.814776\n",
      "[1900]\tvalid's auc: 0.815168\n",
      "[2000]\tvalid's auc: 0.815358\n",
      "[2100]\tvalid's auc: 0.8155\n",
      "[2200]\tvalid's auc: 0.815477\n",
      "Early stopping, best iteration is:\n",
      "[2107]\tvalid's auc: 0.81555\n"
     ]
    },
    {
     "name": "stderr",
     "output_type": "stream",
     "text": [
      "/home/wopr/.local/lib/python3.6/site-packages/sklearn/preprocessing/label.py:219: DataConversionWarning: A column-vector y was passed when a 1d array was expected. Please change the shape of y to (n_samples, ), for example using ravel().\n",
      "  y = column_or_1d(y, warn=True)\n",
      "/home/wopr/.local/lib/python3.6/site-packages/sklearn/preprocessing/label.py:252: DataConversionWarning: A column-vector y was passed when a 1d array was expected. Please change the shape of y to (n_samples, ), for example using ravel().\n",
      "  y = column_or_1d(y, warn=True)\n"
     ]
    },
    {
     "name": "stdout",
     "output_type": "stream",
     "text": [
      "Training until validation scores don't improve for 100 rounds.\n",
      "[100]\tvalid's auc: 0.739873\n",
      "[200]\tvalid's auc: 0.766117\n",
      "[300]\tvalid's auc: 0.78104\n",
      "[400]\tvalid's auc: 0.789591\n",
      "[500]\tvalid's auc: 0.795359\n",
      "[600]\tvalid's auc: 0.799469\n",
      "[700]\tvalid's auc: 0.802565\n",
      "[800]\tvalid's auc: 0.804499\n",
      "[900]\tvalid's auc: 0.806104\n",
      "[1000]\tvalid's auc: 0.807819\n",
      "[1100]\tvalid's auc: 0.808914\n",
      "[1200]\tvalid's auc: 0.809635\n",
      "[1300]\tvalid's auc: 0.810346\n",
      "[1400]\tvalid's auc: 0.811379\n",
      "[1500]\tvalid's auc: 0.811915\n",
      "[1600]\tvalid's auc: 0.812194\n",
      "[1700]\tvalid's auc: 0.812642\n",
      "[1800]\tvalid's auc: 0.81288\n",
      "[1900]\tvalid's auc: 0.813398\n",
      "[2000]\tvalid's auc: 0.813518\n",
      "[2100]\tvalid's auc: 0.813786\n",
      "Early stopping, best iteration is:\n",
      "[2088]\tvalid's auc: 0.813835\n"
     ]
    },
    {
     "name": "stderr",
     "output_type": "stream",
     "text": [
      "/home/wopr/.local/lib/python3.6/site-packages/sklearn/preprocessing/label.py:219: DataConversionWarning: A column-vector y was passed when a 1d array was expected. Please change the shape of y to (n_samples, ), for example using ravel().\n",
      "  y = column_or_1d(y, warn=True)\n",
      "/home/wopr/.local/lib/python3.6/site-packages/sklearn/preprocessing/label.py:252: DataConversionWarning: A column-vector y was passed when a 1d array was expected. Please change the shape of y to (n_samples, ), for example using ravel().\n",
      "  y = column_or_1d(y, warn=True)\n"
     ]
    },
    {
     "name": "stdout",
     "output_type": "stream",
     "text": [
      "Training until validation scores don't improve for 100 rounds.\n",
      "[100]\tvalid's auc: 0.738608\n",
      "[200]\tvalid's auc: 0.765005\n",
      "[300]\tvalid's auc: 0.777748\n",
      "[400]\tvalid's auc: 0.786859\n",
      "[500]\tvalid's auc: 0.79321\n",
      "[600]\tvalid's auc: 0.797126\n",
      "[700]\tvalid's auc: 0.800702\n",
      "[800]\tvalid's auc: 0.803581\n",
      "[900]\tvalid's auc: 0.805671\n",
      "[1000]\tvalid's auc: 0.807519\n",
      "[1100]\tvalid's auc: 0.808622\n",
      "[1200]\tvalid's auc: 0.809646\n",
      "[1300]\tvalid's auc: 0.810532\n",
      "[1400]\tvalid's auc: 0.811345\n",
      "[1500]\tvalid's auc: 0.811662\n",
      "[1600]\tvalid's auc: 0.81225\n",
      "[1700]\tvalid's auc: 0.812755\n",
      "[1800]\tvalid's auc: 0.813218\n",
      "[1900]\tvalid's auc: 0.813789\n",
      "[2000]\tvalid's auc: 0.814332\n",
      "[2100]\tvalid's auc: 0.814733\n",
      "[2200]\tvalid's auc: 0.814766\n",
      "Early stopping, best iteration is:\n",
      "[2107]\tvalid's auc: 0.814788\n"
     ]
    },
    {
     "name": "stderr",
     "output_type": "stream",
     "text": [
      "/home/wopr/.local/lib/python3.6/site-packages/sklearn/preprocessing/label.py:219: DataConversionWarning: A column-vector y was passed when a 1d array was expected. Please change the shape of y to (n_samples, ), for example using ravel().\n",
      "  y = column_or_1d(y, warn=True)\n",
      "/home/wopr/.local/lib/python3.6/site-packages/sklearn/preprocessing/label.py:252: DataConversionWarning: A column-vector y was passed when a 1d array was expected. Please change the shape of y to (n_samples, ), for example using ravel().\n",
      "  y = column_or_1d(y, warn=True)\n"
     ]
    },
    {
     "name": "stdout",
     "output_type": "stream",
     "text": [
      "Training until validation scores don't improve for 100 rounds.\n",
      "[100]\tvalid's auc: 0.765799\n",
      "[200]\tvalid's auc: 0.787598\n",
      "[300]\tvalid's auc: 0.797268\n",
      "[400]\tvalid's auc: 0.801509\n",
      "[500]\tvalid's auc: 0.803923\n",
      "[600]\tvalid's auc: 0.806372\n",
      "[700]\tvalid's auc: 0.807036\n",
      "[800]\tvalid's auc: 0.80853\n",
      "[900]\tvalid's auc: 0.80948\n",
      "[1000]\tvalid's auc: 0.81036\n",
      "[1100]\tvalid's auc: 0.811219\n",
      "[1200]\tvalid's auc: 0.811795\n",
      "[1300]\tvalid's auc: 0.812424\n",
      "[1400]\tvalid's auc: 0.812748\n",
      "[1500]\tvalid's auc: 0.81349\n",
      "[1600]\tvalid's auc: 0.814143\n",
      "[1700]\tvalid's auc: 0.814933\n",
      "[1800]\tvalid's auc: 0.815736\n",
      "[1900]\tvalid's auc: 0.815994\n",
      "Early stopping, best iteration is:\n",
      "[1858]\tvalid's auc: 0.816006\n"
     ]
    },
    {
     "name": "stderr",
     "output_type": "stream",
     "text": [
      "/home/wopr/.local/lib/python3.6/site-packages/sklearn/preprocessing/label.py:219: DataConversionWarning: A column-vector y was passed when a 1d array was expected. Please change the shape of y to (n_samples, ), for example using ravel().\n",
      "  y = column_or_1d(y, warn=True)\n",
      "/home/wopr/.local/lib/python3.6/site-packages/sklearn/preprocessing/label.py:252: DataConversionWarning: A column-vector y was passed when a 1d array was expected. Please change the shape of y to (n_samples, ), for example using ravel().\n",
      "  y = column_or_1d(y, warn=True)\n"
     ]
    },
    {
     "name": "stdout",
     "output_type": "stream",
     "text": [
      "Training until validation scores don't improve for 100 rounds.\n",
      "[100]\tvalid's auc: 0.763514\n",
      "[200]\tvalid's auc: 0.785771\n",
      "[300]\tvalid's auc: 0.795376\n",
      "[400]\tvalid's auc: 0.799828\n",
      "[500]\tvalid's auc: 0.802543\n",
      "[600]\tvalid's auc: 0.80594\n",
      "[700]\tvalid's auc: 0.806193\n",
      "[800]\tvalid's auc: 0.807018\n",
      "[900]\tvalid's auc: 0.80791\n",
      "[1000]\tvalid's auc: 0.808276\n",
      "[1100]\tvalid's auc: 0.808874\n",
      "[1200]\tvalid's auc: 0.809387\n",
      "[1300]\tvalid's auc: 0.81001\n",
      "[1400]\tvalid's auc: 0.810652\n",
      "[1500]\tvalid's auc: 0.811193\n",
      "[1600]\tvalid's auc: 0.81181\n",
      "[1700]\tvalid's auc: 0.812377\n",
      "[1800]\tvalid's auc: 0.812957\n",
      "[1900]\tvalid's auc: 0.813155\n",
      "Early stopping, best iteration is:\n",
      "[1847]\tvalid's auc: 0.813186\n"
     ]
    },
    {
     "name": "stderr",
     "output_type": "stream",
     "text": [
      "/home/wopr/.local/lib/python3.6/site-packages/sklearn/preprocessing/label.py:219: DataConversionWarning: A column-vector y was passed when a 1d array was expected. Please change the shape of y to (n_samples, ), for example using ravel().\n",
      "  y = column_or_1d(y, warn=True)\n",
      "/home/wopr/.local/lib/python3.6/site-packages/sklearn/preprocessing/label.py:252: DataConversionWarning: A column-vector y was passed when a 1d array was expected. Please change the shape of y to (n_samples, ), for example using ravel().\n",
      "  y = column_or_1d(y, warn=True)\n"
     ]
    },
    {
     "name": "stdout",
     "output_type": "stream",
     "text": [
      "Training until validation scores don't improve for 100 rounds.\n",
      "[100]\tvalid's auc: 0.765222\n",
      "[200]\tvalid's auc: 0.78636\n",
      "[300]\tvalid's auc: 0.79684\n",
      "[400]\tvalid's auc: 0.801664\n",
      "[500]\tvalid's auc: 0.804524\n",
      "[600]\tvalid's auc: 0.806224\n",
      "[700]\tvalid's auc: 0.808429\n",
      "[800]\tvalid's auc: 0.809529\n",
      "[900]\tvalid's auc: 0.811015\n",
      "[1000]\tvalid's auc: 0.81193\n",
      "[1100]\tvalid's auc: 0.812653\n",
      "[1200]\tvalid's auc: 0.812976\n",
      "[1300]\tvalid's auc: 0.813805\n",
      "[1400]\tvalid's auc: 0.814093\n",
      "[1500]\tvalid's auc: 0.814612\n",
      "[1600]\tvalid's auc: 0.814856\n",
      "[1700]\tvalid's auc: 0.815274\n",
      "[1800]\tvalid's auc: 0.816065\n",
      "[1900]\tvalid's auc: 0.816455\n",
      "Early stopping, best iteration is:\n",
      "[1886]\tvalid's auc: 0.816487\n"
     ]
    },
    {
     "name": "stderr",
     "output_type": "stream",
     "text": [
      "/home/wopr/.local/lib/python3.6/site-packages/sklearn/preprocessing/label.py:219: DataConversionWarning: A column-vector y was passed when a 1d array was expected. Please change the shape of y to (n_samples, ), for example using ravel().\n",
      "  y = column_or_1d(y, warn=True)\n",
      "/home/wopr/.local/lib/python3.6/site-packages/sklearn/preprocessing/label.py:252: DataConversionWarning: A column-vector y was passed when a 1d array was expected. Please change the shape of y to (n_samples, ), for example using ravel().\n",
      "  y = column_or_1d(y, warn=True)\n"
     ]
    },
    {
     "name": "stdout",
     "output_type": "stream",
     "text": [
      "Training until validation scores don't improve for 100 rounds.\n",
      "[100]\tvalid's auc: 0.5\n",
      "Early stopping, best iteration is:\n",
      "[1]\tvalid's auc: 0.5\n"
     ]
    },
    {
     "name": "stderr",
     "output_type": "stream",
     "text": [
      "/home/wopr/.local/lib/python3.6/site-packages/sklearn/preprocessing/label.py:219: DataConversionWarning: A column-vector y was passed when a 1d array was expected. Please change the shape of y to (n_samples, ), for example using ravel().\n",
      "  y = column_or_1d(y, warn=True)\n",
      "/home/wopr/.local/lib/python3.6/site-packages/sklearn/preprocessing/label.py:252: DataConversionWarning: A column-vector y was passed when a 1d array was expected. Please change the shape of y to (n_samples, ), for example using ravel().\n",
      "  y = column_or_1d(y, warn=True)\n"
     ]
    },
    {
     "name": "stdout",
     "output_type": "stream",
     "text": [
      "Training until validation scores don't improve for 100 rounds.\n",
      "[100]\tvalid's auc: 0.5\n",
      "Early stopping, best iteration is:\n",
      "[1]\tvalid's auc: 0.5\n"
     ]
    },
    {
     "name": "stderr",
     "output_type": "stream",
     "text": [
      "/home/wopr/.local/lib/python3.6/site-packages/sklearn/preprocessing/label.py:219: DataConversionWarning: A column-vector y was passed when a 1d array was expected. Please change the shape of y to (n_samples, ), for example using ravel().\n",
      "  y = column_or_1d(y, warn=True)\n",
      "/home/wopr/.local/lib/python3.6/site-packages/sklearn/preprocessing/label.py:252: DataConversionWarning: A column-vector y was passed when a 1d array was expected. Please change the shape of y to (n_samples, ), for example using ravel().\n",
      "  y = column_or_1d(y, warn=True)\n"
     ]
    },
    {
     "name": "stdout",
     "output_type": "stream",
     "text": [
      "Training until validation scores don't improve for 100 rounds.\n",
      "[100]\tvalid's auc: 0.5\n",
      "Early stopping, best iteration is:\n",
      "[1]\tvalid's auc: 0.5\n"
     ]
    },
    {
     "name": "stderr",
     "output_type": "stream",
     "text": [
      "/home/wopr/.local/lib/python3.6/site-packages/sklearn/preprocessing/label.py:219: DataConversionWarning: A column-vector y was passed when a 1d array was expected. Please change the shape of y to (n_samples, ), for example using ravel().\n",
      "  y = column_or_1d(y, warn=True)\n",
      "/home/wopr/.local/lib/python3.6/site-packages/sklearn/preprocessing/label.py:252: DataConversionWarning: A column-vector y was passed when a 1d array was expected. Please change the shape of y to (n_samples, ), for example using ravel().\n",
      "  y = column_or_1d(y, warn=True)\n"
     ]
    },
    {
     "name": "stdout",
     "output_type": "stream",
     "text": [
      "Training until validation scores don't improve for 100 rounds.\n",
      "[100]\tvalid's auc: 0.732719\n",
      "[200]\tvalid's auc: 0.760848\n",
      "[300]\tvalid's auc: 0.775118\n",
      "[400]\tvalid's auc: 0.785245\n",
      "[500]\tvalid's auc: 0.792473\n",
      "[600]\tvalid's auc: 0.796919\n",
      "[700]\tvalid's auc: 0.800834\n",
      "[800]\tvalid's auc: 0.804244\n",
      "[900]\tvalid's auc: 0.806761\n",
      "[1000]\tvalid's auc: 0.808685\n",
      "[1100]\tvalid's auc: 0.809992\n",
      "[1200]\tvalid's auc: 0.811125\n",
      "[1300]\tvalid's auc: 0.812805\n",
      "[1400]\tvalid's auc: 0.813504\n",
      "[1500]\tvalid's auc: 0.814382\n",
      "[1600]\tvalid's auc: 0.814812\n",
      "[1700]\tvalid's auc: 0.815292\n",
      "[1800]\tvalid's auc: 0.815731\n",
      "[1900]\tvalid's auc: 0.81604\n",
      "Early stopping, best iteration is:\n",
      "[1849]\tvalid's auc: 0.816234\n"
     ]
    },
    {
     "name": "stderr",
     "output_type": "stream",
     "text": [
      "/home/wopr/.local/lib/python3.6/site-packages/sklearn/preprocessing/label.py:219: DataConversionWarning: A column-vector y was passed when a 1d array was expected. Please change the shape of y to (n_samples, ), for example using ravel().\n",
      "  y = column_or_1d(y, warn=True)\n",
      "/home/wopr/.local/lib/python3.6/site-packages/sklearn/preprocessing/label.py:252: DataConversionWarning: A column-vector y was passed when a 1d array was expected. Please change the shape of y to (n_samples, ), for example using ravel().\n",
      "  y = column_or_1d(y, warn=True)\n"
     ]
    },
    {
     "name": "stdout",
     "output_type": "stream",
     "text": [
      "Training until validation scores don't improve for 100 rounds.\n",
      "[100]\tvalid's auc: 0.737208\n",
      "[200]\tvalid's auc: 0.76254\n",
      "[300]\tvalid's auc: 0.776493\n",
      "[400]\tvalid's auc: 0.785126\n",
      "[500]\tvalid's auc: 0.792287\n",
      "[600]\tvalid's auc: 0.797904\n",
      "[700]\tvalid's auc: 0.80163\n",
      "[800]\tvalid's auc: 0.804714\n",
      "[900]\tvalid's auc: 0.806965\n",
      "[1000]\tvalid's auc: 0.808593\n",
      "[1100]\tvalid's auc: 0.810578\n",
      "[1200]\tvalid's auc: 0.811715\n",
      "[1300]\tvalid's auc: 0.812901\n",
      "[1400]\tvalid's auc: 0.813696\n",
      "[1500]\tvalid's auc: 0.814761\n",
      "[1600]\tvalid's auc: 0.815249\n",
      "[1700]\tvalid's auc: 0.816097\n",
      "[1800]\tvalid's auc: 0.816118\n",
      "[1900]\tvalid's auc: 0.816482\n",
      "[2000]\tvalid's auc: 0.81662\n",
      "[2100]\tvalid's auc: 0.816827\n",
      "[2200]\tvalid's auc: 0.817198\n",
      "[2300]\tvalid's auc: 0.817508\n",
      "[2400]\tvalid's auc: 0.817744\n",
      "[2500]\tvalid's auc: 0.817739\n",
      "Early stopping, best iteration is:\n",
      "[2422]\tvalid's auc: 0.817834\n"
     ]
    },
    {
     "name": "stderr",
     "output_type": "stream",
     "text": [
      "/home/wopr/.local/lib/python3.6/site-packages/sklearn/preprocessing/label.py:219: DataConversionWarning: A column-vector y was passed when a 1d array was expected. Please change the shape of y to (n_samples, ), for example using ravel().\n",
      "  y = column_or_1d(y, warn=True)\n",
      "/home/wopr/.local/lib/python3.6/site-packages/sklearn/preprocessing/label.py:252: DataConversionWarning: A column-vector y was passed when a 1d array was expected. Please change the shape of y to (n_samples, ), for example using ravel().\n",
      "  y = column_or_1d(y, warn=True)\n"
     ]
    },
    {
     "name": "stdout",
     "output_type": "stream",
     "text": [
      "Training until validation scores don't improve for 100 rounds.\n",
      "[100]\tvalid's auc: 0.731702\n",
      "[200]\tvalid's auc: 0.76018\n",
      "[300]\tvalid's auc: 0.77622\n",
      "[400]\tvalid's auc: 0.786095\n",
      "[500]\tvalid's auc: 0.791938\n",
      "[600]\tvalid's auc: 0.796563\n",
      "[700]\tvalid's auc: 0.80013\n",
      "[800]\tvalid's auc: 0.803418\n",
      "[900]\tvalid's auc: 0.805573\n",
      "[1000]\tvalid's auc: 0.807223\n",
      "[1100]\tvalid's auc: 0.808897\n",
      "[1200]\tvalid's auc: 0.810624\n",
      "[1300]\tvalid's auc: 0.811736\n",
      "[1400]\tvalid's auc: 0.812691\n",
      "[1500]\tvalid's auc: 0.813386\n",
      "[1600]\tvalid's auc: 0.813884\n",
      "[1700]\tvalid's auc: 0.814378\n",
      "[1800]\tvalid's auc: 0.814977\n",
      "[1900]\tvalid's auc: 0.815559\n",
      "[2000]\tvalid's auc: 0.815694\n",
      "Early stopping, best iteration is:\n",
      "[1967]\tvalid's auc: 0.815841\n"
     ]
    },
    {
     "name": "stderr",
     "output_type": "stream",
     "text": [
      "/home/wopr/.local/lib/python3.6/site-packages/sklearn/preprocessing/label.py:219: DataConversionWarning: A column-vector y was passed when a 1d array was expected. Please change the shape of y to (n_samples, ), for example using ravel().\n",
      "  y = column_or_1d(y, warn=True)\n",
      "/home/wopr/.local/lib/python3.6/site-packages/sklearn/preprocessing/label.py:252: DataConversionWarning: A column-vector y was passed when a 1d array was expected. Please change the shape of y to (n_samples, ), for example using ravel().\n",
      "  y = column_or_1d(y, warn=True)\n"
     ]
    },
    {
     "name": "stdout",
     "output_type": "stream",
     "text": [
      "Training until validation scores don't improve for 100 rounds.\n",
      "[100]\tvalid's auc: 0.762644\n",
      "[200]\tvalid's auc: 0.785905\n",
      "[300]\tvalid's auc: 0.796086\n",
      "[400]\tvalid's auc: 0.800642\n",
      "[500]\tvalid's auc: 0.803888\n",
      "[600]\tvalid's auc: 0.805701\n",
      "[700]\tvalid's auc: 0.806889\n",
      "[800]\tvalid's auc: 0.808642\n",
      "[900]\tvalid's auc: 0.809694\n",
      "[1000]\tvalid's auc: 0.81049\n",
      "[1100]\tvalid's auc: 0.811646\n",
      "[1200]\tvalid's auc: 0.812462\n",
      "[1300]\tvalid's auc: 0.813282\n",
      "[1400]\tvalid's auc: 0.813618\n",
      "[1500]\tvalid's auc: 0.813704\n",
      "[1600]\tvalid's auc: 0.814471\n",
      "[1700]\tvalid's auc: 0.815223\n",
      "[1800]\tvalid's auc: 0.815777\n",
      "[1900]\tvalid's auc: 0.816267\n",
      "[2000]\tvalid's auc: 0.816651\n",
      "[2100]\tvalid's auc: 0.816894\n",
      "[2200]\tvalid's auc: 0.817061\n",
      "[2300]\tvalid's auc: 0.817452\n",
      "[2400]\tvalid's auc: 0.817761\n",
      "[2500]\tvalid's auc: 0.817814\n",
      "[2600]\tvalid's auc: 0.818142\n",
      "[2700]\tvalid's auc: 0.818379\n",
      "[2800]\tvalid's auc: 0.818638\n",
      "[2900]\tvalid's auc: 0.8189\n",
      "[3000]\tvalid's auc: 0.81902\n",
      "[3100]\tvalid's auc: 0.819338\n",
      "[3200]\tvalid's auc: 0.819539\n",
      "[3300]\tvalid's auc: 0.819716\n",
      "[3400]\tvalid's auc: 0.819829\n",
      "Early stopping, best iteration is:\n",
      "[3372]\tvalid's auc: 0.819829\n"
     ]
    },
    {
     "name": "stderr",
     "output_type": "stream",
     "text": [
      "/home/wopr/.local/lib/python3.6/site-packages/sklearn/preprocessing/label.py:219: DataConversionWarning: A column-vector y was passed when a 1d array was expected. Please change the shape of y to (n_samples, ), for example using ravel().\n",
      "  y = column_or_1d(y, warn=True)\n",
      "/home/wopr/.local/lib/python3.6/site-packages/sklearn/preprocessing/label.py:252: DataConversionWarning: A column-vector y was passed when a 1d array was expected. Please change the shape of y to (n_samples, ), for example using ravel().\n",
      "  y = column_or_1d(y, warn=True)\n"
     ]
    },
    {
     "name": "stdout",
     "output_type": "stream",
     "text": [
      "Training until validation scores don't improve for 100 rounds.\n",
      "[100]\tvalid's auc: 0.761983\n",
      "[200]\tvalid's auc: 0.786476\n",
      "[300]\tvalid's auc: 0.795176\n",
      "[400]\tvalid's auc: 0.80068\n",
      "[500]\tvalid's auc: 0.804123\n",
      "[600]\tvalid's auc: 0.805461\n",
      "[700]\tvalid's auc: 0.80737\n",
      "[800]\tvalid's auc: 0.80891\n",
      "[900]\tvalid's auc: 0.809834\n",
      "[1000]\tvalid's auc: 0.810283\n",
      "[1100]\tvalid's auc: 0.810773\n",
      "[1200]\tvalid's auc: 0.811825\n",
      "[1300]\tvalid's auc: 0.812506\n",
      "[1400]\tvalid's auc: 0.812879\n",
      "[1500]\tvalid's auc: 0.813711\n",
      "[1600]\tvalid's auc: 0.814183\n",
      "[1700]\tvalid's auc: 0.814681\n",
      "[1800]\tvalid's auc: 0.815113\n",
      "[1900]\tvalid's auc: 0.815538\n",
      "[2000]\tvalid's auc: 0.815805\n",
      "[2100]\tvalid's auc: 0.816186\n",
      "[2200]\tvalid's auc: 0.816429\n",
      "[2300]\tvalid's auc: 0.816651\n",
      "[2400]\tvalid's auc: 0.816943\n",
      "[2500]\tvalid's auc: 0.817249\n",
      "[2600]\tvalid's auc: 0.817348\n",
      "Early stopping, best iteration is:\n",
      "[2570]\tvalid's auc: 0.817381\n"
     ]
    },
    {
     "name": "stderr",
     "output_type": "stream",
     "text": [
      "/home/wopr/.local/lib/python3.6/site-packages/sklearn/preprocessing/label.py:219: DataConversionWarning: A column-vector y was passed when a 1d array was expected. Please change the shape of y to (n_samples, ), for example using ravel().\n",
      "  y = column_or_1d(y, warn=True)\n",
      "/home/wopr/.local/lib/python3.6/site-packages/sklearn/preprocessing/label.py:252: DataConversionWarning: A column-vector y was passed when a 1d array was expected. Please change the shape of y to (n_samples, ), for example using ravel().\n",
      "  y = column_or_1d(y, warn=True)\n"
     ]
    },
    {
     "name": "stdout",
     "output_type": "stream",
     "text": [
      "Training until validation scores don't improve for 100 rounds.\n",
      "[100]\tvalid's auc: 0.762733\n",
      "[200]\tvalid's auc: 0.784626\n",
      "[300]\tvalid's auc: 0.796674\n",
      "[400]\tvalid's auc: 0.801978\n",
      "[500]\tvalid's auc: 0.804877\n",
      "[600]\tvalid's auc: 0.806899\n",
      "[700]\tvalid's auc: 0.807481\n",
      "[800]\tvalid's auc: 0.80881\n",
      "[900]\tvalid's auc: 0.810353\n",
      "[1000]\tvalid's auc: 0.811023\n",
      "[1100]\tvalid's auc: 0.811647\n",
      "[1200]\tvalid's auc: 0.811935\n",
      "[1300]\tvalid's auc: 0.813026\n",
      "[1400]\tvalid's auc: 0.813499\n",
      "[1500]\tvalid's auc: 0.813624\n",
      "[1600]\tvalid's auc: 0.814497\n",
      "[1700]\tvalid's auc: 0.814553\n",
      "[1800]\tvalid's auc: 0.814995\n",
      "[1900]\tvalid's auc: 0.815319\n",
      "[2000]\tvalid's auc: 0.81605\n",
      "[2100]\tvalid's auc: 0.816673\n",
      "[2200]\tvalid's auc: 0.816718\n",
      "[2300]\tvalid's auc: 0.817277\n",
      "[2400]\tvalid's auc: 0.817223\n",
      "Early stopping, best iteration is:\n",
      "[2331]\tvalid's auc: 0.817425\n"
     ]
    },
    {
     "name": "stderr",
     "output_type": "stream",
     "text": [
      "/home/wopr/.local/lib/python3.6/site-packages/sklearn/preprocessing/label.py:219: DataConversionWarning: A column-vector y was passed when a 1d array was expected. Please change the shape of y to (n_samples, ), for example using ravel().\n",
      "  y = column_or_1d(y, warn=True)\n",
      "/home/wopr/.local/lib/python3.6/site-packages/sklearn/preprocessing/label.py:252: DataConversionWarning: A column-vector y was passed when a 1d array was expected. Please change the shape of y to (n_samples, ), for example using ravel().\n",
      "  y = column_or_1d(y, warn=True)\n"
     ]
    },
    {
     "name": "stdout",
     "output_type": "stream",
     "text": [
      "Training until validation scores don't improve for 100 rounds.\n",
      "[100]\tvalid's auc: 0.742202\n",
      "[200]\tvalid's auc: 0.768573\n",
      "[300]\tvalid's auc: 0.78074\n",
      "[400]\tvalid's auc: 0.790258\n",
      "[500]\tvalid's auc: 0.795728\n",
      "[600]\tvalid's auc: 0.798992\n",
      "[700]\tvalid's auc: 0.801729\n",
      "[800]\tvalid's auc: 0.803758\n",
      "[900]\tvalid's auc: 0.805726\n",
      "[1000]\tvalid's auc: 0.807519\n",
      "[1100]\tvalid's auc: 0.808333\n",
      "[1200]\tvalid's auc: 0.809057\n",
      "[1300]\tvalid's auc: 0.809973\n",
      "[1400]\tvalid's auc: 0.810217\n",
      "[1500]\tvalid's auc: 0.810828\n",
      "[1600]\tvalid's auc: 0.811215\n",
      "[1700]\tvalid's auc: 0.811832\n",
      "[1800]\tvalid's auc: 0.812241\n",
      "[1900]\tvalid's auc: 0.812789\n",
      "[2000]\tvalid's auc: 0.813406\n",
      "Early stopping, best iteration is:\n",
      "[1990]\tvalid's auc: 0.81346\n"
     ]
    },
    {
     "name": "stderr",
     "output_type": "stream",
     "text": [
      "/home/wopr/.local/lib/python3.6/site-packages/sklearn/preprocessing/label.py:219: DataConversionWarning: A column-vector y was passed when a 1d array was expected. Please change the shape of y to (n_samples, ), for example using ravel().\n",
      "  y = column_or_1d(y, warn=True)\n",
      "/home/wopr/.local/lib/python3.6/site-packages/sklearn/preprocessing/label.py:252: DataConversionWarning: A column-vector y was passed when a 1d array was expected. Please change the shape of y to (n_samples, ), for example using ravel().\n",
      "  y = column_or_1d(y, warn=True)\n"
     ]
    },
    {
     "name": "stdout",
     "output_type": "stream",
     "text": [
      "Training until validation scores don't improve for 100 rounds.\n",
      "[100]\tvalid's auc: 0.737471\n",
      "[200]\tvalid's auc: 0.76604\n",
      "[300]\tvalid's auc: 0.779456\n",
      "[400]\tvalid's auc: 0.789061\n",
      "[500]\tvalid's auc: 0.794797\n",
      "[600]\tvalid's auc: 0.79843\n",
      "[700]\tvalid's auc: 0.800897\n",
      "[800]\tvalid's auc: 0.802734\n",
      "[900]\tvalid's auc: 0.804687\n",
      "[1000]\tvalid's auc: 0.805794\n",
      "[1100]\tvalid's auc: 0.806883\n",
      "[1200]\tvalid's auc: 0.807755\n",
      "[1300]\tvalid's auc: 0.808727\n",
      "[1400]\tvalid's auc: 0.809274\n",
      "[1500]\tvalid's auc: 0.809586\n",
      "[1600]\tvalid's auc: 0.810121\n",
      "[1700]\tvalid's auc: 0.810394\n",
      "[1800]\tvalid's auc: 0.810685\n",
      "[1900]\tvalid's auc: 0.810809\n",
      "[2000]\tvalid's auc: 0.811069\n",
      "[2100]\tvalid's auc: 0.811176\n",
      "Early stopping, best iteration is:\n",
      "[2010]\tvalid's auc: 0.811176\n"
     ]
    },
    {
     "name": "stderr",
     "output_type": "stream",
     "text": [
      "/home/wopr/.local/lib/python3.6/site-packages/sklearn/preprocessing/label.py:219: DataConversionWarning: A column-vector y was passed when a 1d array was expected. Please change the shape of y to (n_samples, ), for example using ravel().\n",
      "  y = column_or_1d(y, warn=True)\n",
      "/home/wopr/.local/lib/python3.6/site-packages/sklearn/preprocessing/label.py:252: DataConversionWarning: A column-vector y was passed when a 1d array was expected. Please change the shape of y to (n_samples, ), for example using ravel().\n",
      "  y = column_or_1d(y, warn=True)\n"
     ]
    },
    {
     "name": "stdout",
     "output_type": "stream",
     "text": [
      "Training until validation scores don't improve for 100 rounds.\n",
      "[100]\tvalid's auc: 0.741304\n",
      "[200]\tvalid's auc: 0.767689\n",
      "[300]\tvalid's auc: 0.780865\n",
      "[400]\tvalid's auc: 0.789823\n",
      "[500]\tvalid's auc: 0.795217\n",
      "[600]\tvalid's auc: 0.799799\n",
      "[700]\tvalid's auc: 0.802815\n",
      "[800]\tvalid's auc: 0.804865\n",
      "[900]\tvalid's auc: 0.806746\n",
      "[1000]\tvalid's auc: 0.808556\n",
      "[1100]\tvalid's auc: 0.809507\n",
      "[1200]\tvalid's auc: 0.810252\n",
      "[1300]\tvalid's auc: 0.810701\n",
      "[1400]\tvalid's auc: 0.811305\n",
      "[1500]\tvalid's auc: 0.811791\n",
      "[1600]\tvalid's auc: 0.812225\n",
      "[1700]\tvalid's auc: 0.812707\n",
      "[1800]\tvalid's auc: 0.813206\n",
      "[1900]\tvalid's auc: 0.813748\n",
      "[2000]\tvalid's auc: 0.813965\n",
      "[2100]\tvalid's auc: 0.814042\n",
      "Early stopping, best iteration is:\n",
      "[2029]\tvalid's auc: 0.814151\n"
     ]
    },
    {
     "name": "stderr",
     "output_type": "stream",
     "text": [
      "/home/wopr/.local/lib/python3.6/site-packages/sklearn/preprocessing/label.py:219: DataConversionWarning: A column-vector y was passed when a 1d array was expected. Please change the shape of y to (n_samples, ), for example using ravel().\n",
      "  y = column_or_1d(y, warn=True)\n",
      "/home/wopr/.local/lib/python3.6/site-packages/sklearn/preprocessing/label.py:252: DataConversionWarning: A column-vector y was passed when a 1d array was expected. Please change the shape of y to (n_samples, ), for example using ravel().\n",
      "  y = column_or_1d(y, warn=True)\n"
     ]
    },
    {
     "name": "stdout",
     "output_type": "stream",
     "text": [
      "Training until validation scores don't improve for 100 rounds.\n",
      "[100]\tvalid's auc: 0.762303\n",
      "[200]\tvalid's auc: 0.786339\n",
      "[300]\tvalid's auc: 0.797652\n",
      "[400]\tvalid's auc: 0.80525\n",
      "[500]\tvalid's auc: 0.808168\n",
      "[600]\tvalid's auc: 0.809439\n",
      "[700]\tvalid's auc: 0.81134\n",
      "[800]\tvalid's auc: 0.812076\n",
      "[900]\tvalid's auc: 0.812985\n",
      "[1000]\tvalid's auc: 0.813656\n",
      "[1100]\tvalid's auc: 0.814621\n",
      "[1200]\tvalid's auc: 0.815088\n",
      "[1300]\tvalid's auc: 0.815228\n",
      "[1400]\tvalid's auc: 0.815629\n",
      "[1500]\tvalid's auc: 0.816367\n",
      "Early stopping, best iteration is:\n",
      "[1499]\tvalid's auc: 0.816415\n"
     ]
    },
    {
     "name": "stderr",
     "output_type": "stream",
     "text": [
      "/home/wopr/.local/lib/python3.6/site-packages/sklearn/preprocessing/label.py:219: DataConversionWarning: A column-vector y was passed when a 1d array was expected. Please change the shape of y to (n_samples, ), for example using ravel().\n",
      "  y = column_or_1d(y, warn=True)\n",
      "/home/wopr/.local/lib/python3.6/site-packages/sklearn/preprocessing/label.py:252: DataConversionWarning: A column-vector y was passed when a 1d array was expected. Please change the shape of y to (n_samples, ), for example using ravel().\n",
      "  y = column_or_1d(y, warn=True)\n"
     ]
    },
    {
     "name": "stdout",
     "output_type": "stream",
     "text": [
      "Training until validation scores don't improve for 100 rounds.\n",
      "[100]\tvalid's auc: 0.758921\n",
      "[200]\tvalid's auc: 0.783804\n",
      "[300]\tvalid's auc: 0.794183\n",
      "[400]\tvalid's auc: 0.79907\n",
      "[500]\tvalid's auc: 0.80348\n",
      "[600]\tvalid's auc: 0.805439\n",
      "[700]\tvalid's auc: 0.807027\n",
      "[800]\tvalid's auc: 0.808316\n",
      "[900]\tvalid's auc: 0.80933\n",
      "[1000]\tvalid's auc: 0.810294\n",
      "[1100]\tvalid's auc: 0.811155\n",
      "[1200]\tvalid's auc: 0.81187\n",
      "[1300]\tvalid's auc: 0.812499\n",
      "[1400]\tvalid's auc: 0.813231\n",
      "[1500]\tvalid's auc: 0.813657\n",
      "[1600]\tvalid's auc: 0.814177\n",
      "[1700]\tvalid's auc: 0.814509\n",
      "[1800]\tvalid's auc: 0.814876\n",
      "[1900]\tvalid's auc: 0.815211\n",
      "[2000]\tvalid's auc: 0.815507\n",
      "[2100]\tvalid's auc: 0.815793\n",
      "[2200]\tvalid's auc: 0.815883\n",
      "[2300]\tvalid's auc: 0.815952\n",
      "[2400]\tvalid's auc: 0.816179\n",
      "[2500]\tvalid's auc: 0.816199\n",
      "[2600]\tvalid's auc: 0.81655\n",
      "[2700]\tvalid's auc: 0.8168\n",
      "[2800]\tvalid's auc: 0.816756\n",
      "Early stopping, best iteration is:\n",
      "[2722]\tvalid's auc: 0.816893\n"
     ]
    },
    {
     "name": "stderr",
     "output_type": "stream",
     "text": [
      "/home/wopr/.local/lib/python3.6/site-packages/sklearn/preprocessing/label.py:219: DataConversionWarning: A column-vector y was passed when a 1d array was expected. Please change the shape of y to (n_samples, ), for example using ravel().\n",
      "  y = column_or_1d(y, warn=True)\n",
      "/home/wopr/.local/lib/python3.6/site-packages/sklearn/preprocessing/label.py:252: DataConversionWarning: A column-vector y was passed when a 1d array was expected. Please change the shape of y to (n_samples, ), for example using ravel().\n",
      "  y = column_or_1d(y, warn=True)\n"
     ]
    },
    {
     "name": "stdout",
     "output_type": "stream",
     "text": [
      "Training until validation scores don't improve for 100 rounds.\n",
      "[100]\tvalid's auc: 0.758264\n",
      "[200]\tvalid's auc: 0.783953\n",
      "[300]\tvalid's auc: 0.795331\n",
      "[400]\tvalid's auc: 0.802135\n",
      "[500]\tvalid's auc: 0.805398\n",
      "[600]\tvalid's auc: 0.807256\n",
      "[700]\tvalid's auc: 0.809003\n",
      "[800]\tvalid's auc: 0.810797\n",
      "[900]\tvalid's auc: 0.811895\n",
      "[1000]\tvalid's auc: 0.813045\n",
      "[1100]\tvalid's auc: 0.813433\n",
      "[1200]\tvalid's auc: 0.814085\n",
      "[1300]\tvalid's auc: 0.814899\n",
      "Early stopping, best iteration is:\n",
      "[1283]\tvalid's auc: 0.815019\n"
     ]
    },
    {
     "name": "stderr",
     "output_type": "stream",
     "text": [
      "/home/wopr/.local/lib/python3.6/site-packages/sklearn/preprocessing/label.py:219: DataConversionWarning: A column-vector y was passed when a 1d array was expected. Please change the shape of y to (n_samples, ), for example using ravel().\n",
      "  y = column_or_1d(y, warn=True)\n",
      "/home/wopr/.local/lib/python3.6/site-packages/sklearn/preprocessing/label.py:252: DataConversionWarning: A column-vector y was passed when a 1d array was expected. Please change the shape of y to (n_samples, ), for example using ravel().\n",
      "  y = column_or_1d(y, warn=True)\n"
     ]
    },
    {
     "name": "stdout",
     "output_type": "stream",
     "text": [
      "Training until validation scores don't improve for 100 rounds.\n",
      "[100]\tvalid's auc: 0.732502\n",
      "[200]\tvalid's auc: 0.762304\n",
      "[300]\tvalid's auc: 0.776301\n",
      "[400]\tvalid's auc: 0.786818\n",
      "[500]\tvalid's auc: 0.792896\n",
      "[600]\tvalid's auc: 0.797562\n",
      "[700]\tvalid's auc: 0.801696\n",
      "[800]\tvalid's auc: 0.80486\n",
      "[900]\tvalid's auc: 0.807526\n",
      "[1000]\tvalid's auc: 0.80966\n",
      "[1100]\tvalid's auc: 0.811459\n",
      "[1200]\tvalid's auc: 0.813094\n",
      "[1300]\tvalid's auc: 0.814316\n",
      "[1400]\tvalid's auc: 0.815073\n",
      "[1500]\tvalid's auc: 0.815839\n",
      "[1600]\tvalid's auc: 0.816578\n",
      "[1700]\tvalid's auc: 0.817139\n",
      "[1800]\tvalid's auc: 0.817624\n",
      "[1900]\tvalid's auc: 0.817807\n",
      "[2000]\tvalid's auc: 0.818283\n",
      "[2100]\tvalid's auc: 0.818597\n",
      "[2200]\tvalid's auc: 0.818712\n",
      "[2300]\tvalid's auc: 0.818737\n",
      "[2400]\tvalid's auc: 0.819036\n",
      "[2500]\tvalid's auc: 0.819259\n",
      "[2600]\tvalid's auc: 0.819515\n",
      "[2700]\tvalid's auc: 0.819626\n",
      "[2800]\tvalid's auc: 0.819773\n",
      "Early stopping, best iteration is:\n",
      "[2739]\tvalid's auc: 0.81983\n"
     ]
    },
    {
     "name": "stderr",
     "output_type": "stream",
     "text": [
      "/home/wopr/.local/lib/python3.6/site-packages/sklearn/preprocessing/label.py:219: DataConversionWarning: A column-vector y was passed when a 1d array was expected. Please change the shape of y to (n_samples, ), for example using ravel().\n",
      "  y = column_or_1d(y, warn=True)\n",
      "/home/wopr/.local/lib/python3.6/site-packages/sklearn/preprocessing/label.py:252: DataConversionWarning: A column-vector y was passed when a 1d array was expected. Please change the shape of y to (n_samples, ), for example using ravel().\n",
      "  y = column_or_1d(y, warn=True)\n"
     ]
    },
    {
     "name": "stdout",
     "output_type": "stream",
     "text": [
      "Training until validation scores don't improve for 100 rounds.\n",
      "[100]\tvalid's auc: 0.733787\n",
      "[200]\tvalid's auc: 0.762057\n",
      "[300]\tvalid's auc: 0.775891\n",
      "[400]\tvalid's auc: 0.786235\n",
      "[500]\tvalid's auc: 0.792235\n",
      "[600]\tvalid's auc: 0.797206\n",
      "[700]\tvalid's auc: 0.800821\n",
      "[800]\tvalid's auc: 0.803691\n",
      "[900]\tvalid's auc: 0.805956\n",
      "[1000]\tvalid's auc: 0.807868\n",
      "[1100]\tvalid's auc: 0.809358\n",
      "[1200]\tvalid's auc: 0.810378\n",
      "[1300]\tvalid's auc: 0.810939\n",
      "[1400]\tvalid's auc: 0.811913\n",
      "[1500]\tvalid's auc: 0.812693\n",
      "[1600]\tvalid's auc: 0.813351\n",
      "[1700]\tvalid's auc: 0.814054\n",
      "[1800]\tvalid's auc: 0.814819\n",
      "[1900]\tvalid's auc: 0.815081\n",
      "[2000]\tvalid's auc: 0.815303\n",
      "[2100]\tvalid's auc: 0.81563\n",
      "[2200]\tvalid's auc: 0.815768\n",
      "[2300]\tvalid's auc: 0.816063\n",
      "Early stopping, best iteration is:\n",
      "[2269]\tvalid's auc: 0.816146\n"
     ]
    },
    {
     "name": "stderr",
     "output_type": "stream",
     "text": [
      "/home/wopr/.local/lib/python3.6/site-packages/sklearn/preprocessing/label.py:219: DataConversionWarning: A column-vector y was passed when a 1d array was expected. Please change the shape of y to (n_samples, ), for example using ravel().\n",
      "  y = column_or_1d(y, warn=True)\n",
      "/home/wopr/.local/lib/python3.6/site-packages/sklearn/preprocessing/label.py:252: DataConversionWarning: A column-vector y was passed when a 1d array was expected. Please change the shape of y to (n_samples, ), for example using ravel().\n",
      "  y = column_or_1d(y, warn=True)\n"
     ]
    },
    {
     "name": "stdout",
     "output_type": "stream",
     "text": [
      "Training until validation scores don't improve for 100 rounds.\n",
      "[100]\tvalid's auc: 0.734247\n",
      "[200]\tvalid's auc: 0.759332\n",
      "[300]\tvalid's auc: 0.774844\n",
      "[400]\tvalid's auc: 0.784228\n",
      "[500]\tvalid's auc: 0.791573\n",
      "[600]\tvalid's auc: 0.795595\n",
      "[700]\tvalid's auc: 0.799091\n",
      "[800]\tvalid's auc: 0.80189\n",
      "[900]\tvalid's auc: 0.804176\n",
      "[1000]\tvalid's auc: 0.805942\n",
      "[1100]\tvalid's auc: 0.807903\n",
      "[1200]\tvalid's auc: 0.809193\n",
      "[1300]\tvalid's auc: 0.810438\n",
      "[1400]\tvalid's auc: 0.811246\n",
      "[1500]\tvalid's auc: 0.812246\n",
      "[1600]\tvalid's auc: 0.812992\n",
      "[1700]\tvalid's auc: 0.813714\n",
      "[1800]\tvalid's auc: 0.81421\n",
      "[1900]\tvalid's auc: 0.814771\n",
      "[2000]\tvalid's auc: 0.815375\n",
      "[2100]\tvalid's auc: 0.816008\n",
      "[2200]\tvalid's auc: 0.816104\n",
      "[2300]\tvalid's auc: 0.816453\n",
      "Early stopping, best iteration is:\n",
      "[2291]\tvalid's auc: 0.816499\n"
     ]
    },
    {
     "name": "stderr",
     "output_type": "stream",
     "text": [
      "/home/wopr/.local/lib/python3.6/site-packages/sklearn/preprocessing/label.py:219: DataConversionWarning: A column-vector y was passed when a 1d array was expected. Please change the shape of y to (n_samples, ), for example using ravel().\n",
      "  y = column_or_1d(y, warn=True)\n",
      "/home/wopr/.local/lib/python3.6/site-packages/sklearn/preprocessing/label.py:252: DataConversionWarning: A column-vector y was passed when a 1d array was expected. Please change the shape of y to (n_samples, ), for example using ravel().\n",
      "  y = column_or_1d(y, warn=True)\n"
     ]
    },
    {
     "name": "stdout",
     "output_type": "stream",
     "text": [
      "Training until validation scores don't improve for 100 rounds.\n",
      "[100]\tvalid's auc: 0.5\n",
      "Early stopping, best iteration is:\n",
      "[1]\tvalid's auc: 0.5\n"
     ]
    },
    {
     "name": "stderr",
     "output_type": "stream",
     "text": [
      "/home/wopr/.local/lib/python3.6/site-packages/sklearn/preprocessing/label.py:219: DataConversionWarning: A column-vector y was passed when a 1d array was expected. Please change the shape of y to (n_samples, ), for example using ravel().\n",
      "  y = column_or_1d(y, warn=True)\n",
      "/home/wopr/.local/lib/python3.6/site-packages/sklearn/preprocessing/label.py:252: DataConversionWarning: A column-vector y was passed when a 1d array was expected. Please change the shape of y to (n_samples, ), for example using ravel().\n",
      "  y = column_or_1d(y, warn=True)\n"
     ]
    },
    {
     "name": "stdout",
     "output_type": "stream",
     "text": [
      "Training until validation scores don't improve for 100 rounds.\n",
      "[100]\tvalid's auc: 0.5\n",
      "Early stopping, best iteration is:\n",
      "[1]\tvalid's auc: 0.5\n"
     ]
    },
    {
     "name": "stderr",
     "output_type": "stream",
     "text": [
      "/home/wopr/.local/lib/python3.6/site-packages/sklearn/preprocessing/label.py:219: DataConversionWarning: A column-vector y was passed when a 1d array was expected. Please change the shape of y to (n_samples, ), for example using ravel().\n",
      "  y = column_or_1d(y, warn=True)\n",
      "/home/wopr/.local/lib/python3.6/site-packages/sklearn/preprocessing/label.py:252: DataConversionWarning: A column-vector y was passed when a 1d array was expected. Please change the shape of y to (n_samples, ), for example using ravel().\n",
      "  y = column_or_1d(y, warn=True)\n"
     ]
    },
    {
     "name": "stdout",
     "output_type": "stream",
     "text": [
      "Training until validation scores don't improve for 100 rounds.\n",
      "[100]\tvalid's auc: 0.5\n",
      "Early stopping, best iteration is:\n",
      "[1]\tvalid's auc: 0.5\n"
     ]
    },
    {
     "name": "stderr",
     "output_type": "stream",
     "text": [
      "/home/wopr/.local/lib/python3.6/site-packages/sklearn/preprocessing/label.py:219: DataConversionWarning: A column-vector y was passed when a 1d array was expected. Please change the shape of y to (n_samples, ), for example using ravel().\n",
      "  y = column_or_1d(y, warn=True)\n",
      "/home/wopr/.local/lib/python3.6/site-packages/sklearn/preprocessing/label.py:252: DataConversionWarning: A column-vector y was passed when a 1d array was expected. Please change the shape of y to (n_samples, ), for example using ravel().\n",
      "  y = column_or_1d(y, warn=True)\n"
     ]
    },
    {
     "name": "stdout",
     "output_type": "stream",
     "text": [
      "Training until validation scores don't improve for 100 rounds.\n",
      "[100]\tvalid's auc: 0.751719\n",
      "[200]\tvalid's auc: 0.777837\n",
      "[300]\tvalid's auc: 0.789189\n",
      "[400]\tvalid's auc: 0.796508\n",
      "[500]\tvalid's auc: 0.801272\n",
      "[600]\tvalid's auc: 0.804416\n",
      "[700]\tvalid's auc: 0.805936\n",
      "[800]\tvalid's auc: 0.807403\n",
      "[900]\tvalid's auc: 0.808985\n",
      "[1000]\tvalid's auc: 0.809568\n",
      "[1100]\tvalid's auc: 0.810052\n",
      "Early stopping, best iteration is:\n",
      "[1044]\tvalid's auc: 0.810052\n"
     ]
    },
    {
     "name": "stderr",
     "output_type": "stream",
     "text": [
      "/home/wopr/.local/lib/python3.6/site-packages/sklearn/preprocessing/label.py:219: DataConversionWarning: A column-vector y was passed when a 1d array was expected. Please change the shape of y to (n_samples, ), for example using ravel().\n",
      "  y = column_or_1d(y, warn=True)\n",
      "/home/wopr/.local/lib/python3.6/site-packages/sklearn/preprocessing/label.py:252: DataConversionWarning: A column-vector y was passed when a 1d array was expected. Please change the shape of y to (n_samples, ), for example using ravel().\n",
      "  y = column_or_1d(y, warn=True)\n"
     ]
    },
    {
     "name": "stdout",
     "output_type": "stream",
     "text": [
      "Training until validation scores don't improve for 100 rounds.\n",
      "[100]\tvalid's auc: 0.751\n",
      "[200]\tvalid's auc: 0.775457\n",
      "[300]\tvalid's auc: 0.788347\n",
      "[400]\tvalid's auc: 0.79499\n",
      "[500]\tvalid's auc: 0.799167\n",
      "[600]\tvalid's auc: 0.802655\n",
      "[700]\tvalid's auc: 0.805364\n",
      "[800]\tvalid's auc: 0.807024\n",
      "[900]\tvalid's auc: 0.808172\n",
      "[1000]\tvalid's auc: 0.809341\n",
      "[1100]\tvalid's auc: 0.810102\n",
      "Early stopping, best iteration is:\n",
      "[1066]\tvalid's auc: 0.810112\n"
     ]
    },
    {
     "name": "stderr",
     "output_type": "stream",
     "text": [
      "/home/wopr/.local/lib/python3.6/site-packages/sklearn/preprocessing/label.py:219: DataConversionWarning: A column-vector y was passed when a 1d array was expected. Please change the shape of y to (n_samples, ), for example using ravel().\n",
      "  y = column_or_1d(y, warn=True)\n",
      "/home/wopr/.local/lib/python3.6/site-packages/sklearn/preprocessing/label.py:252: DataConversionWarning: A column-vector y was passed when a 1d array was expected. Please change the shape of y to (n_samples, ), for example using ravel().\n",
      "  y = column_or_1d(y, warn=True)\n"
     ]
    },
    {
     "name": "stdout",
     "output_type": "stream",
     "text": [
      "Training until validation scores don't improve for 100 rounds.\n",
      "[100]\tvalid's auc: 0.750804\n",
      "[200]\tvalid's auc: 0.777005\n",
      "[300]\tvalid's auc: 0.789807\n",
      "[400]\tvalid's auc: 0.797111\n",
      "[500]\tvalid's auc: 0.801062\n",
      "[600]\tvalid's auc: 0.804299\n",
      "[700]\tvalid's auc: 0.806173\n",
      "[800]\tvalid's auc: 0.808132\n",
      "[900]\tvalid's auc: 0.809576\n",
      "[1000]\tvalid's auc: 0.811111\n",
      "[1100]\tvalid's auc: 0.811263\n",
      "Early stopping, best iteration is:\n",
      "[1013]\tvalid's auc: 0.811266\n"
     ]
    },
    {
     "name": "stderr",
     "output_type": "stream",
     "text": [
      "/home/wopr/.local/lib/python3.6/site-packages/sklearn/preprocessing/label.py:219: DataConversionWarning: A column-vector y was passed when a 1d array was expected. Please change the shape of y to (n_samples, ), for example using ravel().\n",
      "  y = column_or_1d(y, warn=True)\n",
      "/home/wopr/.local/lib/python3.6/site-packages/sklearn/preprocessing/label.py:252: DataConversionWarning: A column-vector y was passed when a 1d array was expected. Please change the shape of y to (n_samples, ), for example using ravel().\n",
      "  y = column_or_1d(y, warn=True)\n"
     ]
    },
    {
     "name": "stdout",
     "output_type": "stream",
     "text": [
      "Training until validation scores don't improve for 100 rounds.\n",
      "[100]\tvalid's auc: 0.735548\n",
      "[200]\tvalid's auc: 0.765727\n",
      "[300]\tvalid's auc: 0.783034\n",
      "[400]\tvalid's auc: 0.792783\n",
      "[500]\tvalid's auc: 0.797765\n",
      "[600]\tvalid's auc: 0.802237\n",
      "[700]\tvalid's auc: 0.805118\n",
      "[800]\tvalid's auc: 0.806783\n",
      "[900]\tvalid's auc: 0.807997\n",
      "[1000]\tvalid's auc: 0.808954\n",
      "[1100]\tvalid's auc: 0.809435\n",
      "[1200]\tvalid's auc: 0.809678\n",
      "[1300]\tvalid's auc: 0.810165\n",
      "[1400]\tvalid's auc: 0.81079\n",
      "[1500]\tvalid's auc: 0.811545\n",
      "[1600]\tvalid's auc: 0.811196\n",
      "Early stopping, best iteration is:\n",
      "[1566]\tvalid's auc: 0.811592\n"
     ]
    },
    {
     "name": "stderr",
     "output_type": "stream",
     "text": [
      "/home/wopr/.local/lib/python3.6/site-packages/sklearn/preprocessing/label.py:219: DataConversionWarning: A column-vector y was passed when a 1d array was expected. Please change the shape of y to (n_samples, ), for example using ravel().\n",
      "  y = column_or_1d(y, warn=True)\n",
      "/home/wopr/.local/lib/python3.6/site-packages/sklearn/preprocessing/label.py:252: DataConversionWarning: A column-vector y was passed when a 1d array was expected. Please change the shape of y to (n_samples, ), for example using ravel().\n",
      "  y = column_or_1d(y, warn=True)\n"
     ]
    },
    {
     "name": "stdout",
     "output_type": "stream",
     "text": [
      "Training until validation scores don't improve for 100 rounds.\n",
      "[100]\tvalid's auc: 0.739524\n",
      "[200]\tvalid's auc: 0.765263\n",
      "[300]\tvalid's auc: 0.780885\n",
      "[400]\tvalid's auc: 0.789953\n",
      "[500]\tvalid's auc: 0.79571\n",
      "[600]\tvalid's auc: 0.799528\n",
      "[700]\tvalid's auc: 0.801442\n",
      "[800]\tvalid's auc: 0.802953\n",
      "[900]\tvalid's auc: 0.804535\n",
      "[1000]\tvalid's auc: 0.806201\n",
      "[1100]\tvalid's auc: 0.807388\n",
      "[1200]\tvalid's auc: 0.808068\n",
      "[1300]\tvalid's auc: 0.808799\n",
      "[1400]\tvalid's auc: 0.809697\n",
      "[1500]\tvalid's auc: 0.810228\n",
      "[1600]\tvalid's auc: 0.810449\n",
      "Early stopping, best iteration is:\n",
      "[1523]\tvalid's auc: 0.810475\n"
     ]
    },
    {
     "name": "stderr",
     "output_type": "stream",
     "text": [
      "/home/wopr/.local/lib/python3.6/site-packages/sklearn/preprocessing/label.py:219: DataConversionWarning: A column-vector y was passed when a 1d array was expected. Please change the shape of y to (n_samples, ), for example using ravel().\n",
      "  y = column_or_1d(y, warn=True)\n",
      "/home/wopr/.local/lib/python3.6/site-packages/sklearn/preprocessing/label.py:252: DataConversionWarning: A column-vector y was passed when a 1d array was expected. Please change the shape of y to (n_samples, ), for example using ravel().\n",
      "  y = column_or_1d(y, warn=True)\n"
     ]
    },
    {
     "name": "stdout",
     "output_type": "stream",
     "text": [
      "Training until validation scores don't improve for 100 rounds.\n",
      "[100]\tvalid's auc: 0.735494\n",
      "[200]\tvalid's auc: 0.765641\n",
      "[300]\tvalid's auc: 0.780627\n",
      "[400]\tvalid's auc: 0.789761\n",
      "[500]\tvalid's auc: 0.794854\n",
      "[600]\tvalid's auc: 0.799325\n",
      "[700]\tvalid's auc: 0.802485\n",
      "[800]\tvalid's auc: 0.804412\n",
      "[900]\tvalid's auc: 0.806236\n",
      "[1000]\tvalid's auc: 0.80707\n",
      "[1100]\tvalid's auc: 0.807345\n",
      "[1200]\tvalid's auc: 0.807675\n",
      "[1300]\tvalid's auc: 0.808527\n",
      "[1400]\tvalid's auc: 0.808855\n",
      "[1500]\tvalid's auc: 0.80952\n",
      "[1600]\tvalid's auc: 0.809546\n",
      "[1700]\tvalid's auc: 0.809514\n",
      "Early stopping, best iteration is:\n",
      "[1654]\tvalid's auc: 0.80989\n"
     ]
    },
    {
     "name": "stderr",
     "output_type": "stream",
     "text": [
      "/home/wopr/.local/lib/python3.6/site-packages/sklearn/preprocessing/label.py:219: DataConversionWarning: A column-vector y was passed when a 1d array was expected. Please change the shape of y to (n_samples, ), for example using ravel().\n",
      "  y = column_or_1d(y, warn=True)\n",
      "/home/wopr/.local/lib/python3.6/site-packages/sklearn/preprocessing/label.py:252: DataConversionWarning: A column-vector y was passed when a 1d array was expected. Please change the shape of y to (n_samples, ), for example using ravel().\n",
      "  y = column_or_1d(y, warn=True)\n"
     ]
    },
    {
     "name": "stdout",
     "output_type": "stream",
     "text": [
      "Training until validation scores don't improve for 100 rounds.\n",
      "[100]\tvalid's auc: 0.753199\n",
      "[200]\tvalid's auc: 0.7807\n",
      "[300]\tvalid's auc: 0.793793\n",
      "[400]\tvalid's auc: 0.799149\n",
      "[500]\tvalid's auc: 0.802287\n",
      "[600]\tvalid's auc: 0.80344\n",
      "[700]\tvalid's auc: 0.804229\n",
      "[800]\tvalid's auc: 0.804718\n",
      "Early stopping, best iteration is:\n",
      "[757]\tvalid's auc: 0.804953\n"
     ]
    },
    {
     "name": "stderr",
     "output_type": "stream",
     "text": [
      "/home/wopr/.local/lib/python3.6/site-packages/sklearn/preprocessing/label.py:219: DataConversionWarning: A column-vector y was passed when a 1d array was expected. Please change the shape of y to (n_samples, ), for example using ravel().\n",
      "  y = column_or_1d(y, warn=True)\n",
      "/home/wopr/.local/lib/python3.6/site-packages/sklearn/preprocessing/label.py:252: DataConversionWarning: A column-vector y was passed when a 1d array was expected. Please change the shape of y to (n_samples, ), for example using ravel().\n",
      "  y = column_or_1d(y, warn=True)\n"
     ]
    },
    {
     "name": "stdout",
     "output_type": "stream",
     "text": [
      "Training until validation scores don't improve for 100 rounds.\n",
      "[100]\tvalid's auc: 0.756737\n",
      "[200]\tvalid's auc: 0.782721\n",
      "[300]\tvalid's auc: 0.793242\n",
      "[400]\tvalid's auc: 0.798224\n",
      "[500]\tvalid's auc: 0.801556\n",
      "[600]\tvalid's auc: 0.803313\n",
      "[700]\tvalid's auc: 0.80406\n",
      "[800]\tvalid's auc: 0.805507\n",
      "[900]\tvalid's auc: 0.805482\n",
      "[1000]\tvalid's auc: 0.806653\n",
      "[1100]\tvalid's auc: 0.806763\n",
      "[1200]\tvalid's auc: 0.807047\n",
      "[1300]\tvalid's auc: 0.807688\n",
      "[1400]\tvalid's auc: 0.807838\n",
      "[1500]\tvalid's auc: 0.808864\n",
      "[1600]\tvalid's auc: 0.80929\n",
      "[1700]\tvalid's auc: 0.809653\n",
      "[1800]\tvalid's auc: 0.809875\n",
      "[1900]\tvalid's auc: 0.810084\n",
      "[2000]\tvalid's auc: 0.81011\n",
      "Early stopping, best iteration is:\n",
      "[1916]\tvalid's auc: 0.81026\n"
     ]
    },
    {
     "name": "stderr",
     "output_type": "stream",
     "text": [
      "/home/wopr/.local/lib/python3.6/site-packages/sklearn/preprocessing/label.py:219: DataConversionWarning: A column-vector y was passed when a 1d array was expected. Please change the shape of y to (n_samples, ), for example using ravel().\n",
      "  y = column_or_1d(y, warn=True)\n",
      "/home/wopr/.local/lib/python3.6/site-packages/sklearn/preprocessing/label.py:252: DataConversionWarning: A column-vector y was passed when a 1d array was expected. Please change the shape of y to (n_samples, ), for example using ravel().\n",
      "  y = column_or_1d(y, warn=True)\n"
     ]
    },
    {
     "name": "stdout",
     "output_type": "stream",
     "text": [
      "Training until validation scores don't improve for 100 rounds.\n",
      "[100]\tvalid's auc: 0.755199\n",
      "[200]\tvalid's auc: 0.780883\n",
      "[300]\tvalid's auc: 0.793294\n",
      "[400]\tvalid's auc: 0.798015\n",
      "[500]\tvalid's auc: 0.800974\n",
      "[600]\tvalid's auc: 0.804147\n",
      "[700]\tvalid's auc: 0.806066\n",
      "[800]\tvalid's auc: 0.80712\n",
      "Early stopping, best iteration is:\n",
      "[789]\tvalid's auc: 0.807442\n"
     ]
    },
    {
     "name": "stderr",
     "output_type": "stream",
     "text": [
      "/home/wopr/.local/lib/python3.6/site-packages/sklearn/preprocessing/label.py:219: DataConversionWarning: A column-vector y was passed when a 1d array was expected. Please change the shape of y to (n_samples, ), for example using ravel().\n",
      "  y = column_or_1d(y, warn=True)\n",
      "/home/wopr/.local/lib/python3.6/site-packages/sklearn/preprocessing/label.py:252: DataConversionWarning: A column-vector y was passed when a 1d array was expected. Please change the shape of y to (n_samples, ), for example using ravel().\n",
      "  y = column_or_1d(y, warn=True)\n"
     ]
    },
    {
     "name": "stdout",
     "output_type": "stream",
     "text": [
      "Training until validation scores don't improve for 100 rounds.\n",
      "[100]\tvalid's auc: 0.760543\n",
      "[200]\tvalid's auc: 0.783787\n",
      "[300]\tvalid's auc: 0.795336\n",
      "[400]\tvalid's auc: 0.801915\n",
      "[500]\tvalid's auc: 0.805651\n",
      "[600]\tvalid's auc: 0.808312\n",
      "[700]\tvalid's auc: 0.810696\n",
      "[800]\tvalid's auc: 0.811726\n",
      "[900]\tvalid's auc: 0.813219\n",
      "[1000]\tvalid's auc: 0.813932\n",
      "[1100]\tvalid's auc: 0.814428\n",
      "[1200]\tvalid's auc: 0.815237\n",
      "[1300]\tvalid's auc: 0.816032\n",
      "[1400]\tvalid's auc: 0.816529\n",
      "[1500]\tvalid's auc: 0.817277\n",
      "[1600]\tvalid's auc: 0.81765\n",
      "[1700]\tvalid's auc: 0.817877\n",
      "[1800]\tvalid's auc: 0.817814\n",
      "Early stopping, best iteration is:\n",
      "[1724]\tvalid's auc: 0.817996\n"
     ]
    },
    {
     "name": "stderr",
     "output_type": "stream",
     "text": [
      "/home/wopr/.local/lib/python3.6/site-packages/sklearn/preprocessing/label.py:219: DataConversionWarning: A column-vector y was passed when a 1d array was expected. Please change the shape of y to (n_samples, ), for example using ravel().\n",
      "  y = column_or_1d(y, warn=True)\n",
      "/home/wopr/.local/lib/python3.6/site-packages/sklearn/preprocessing/label.py:252: DataConversionWarning: A column-vector y was passed when a 1d array was expected. Please change the shape of y to (n_samples, ), for example using ravel().\n",
      "  y = column_or_1d(y, warn=True)\n"
     ]
    },
    {
     "name": "stdout",
     "output_type": "stream",
     "text": [
      "Training until validation scores don't improve for 100 rounds.\n",
      "[100]\tvalid's auc: 0.758491\n",
      "[200]\tvalid's auc: 0.783191\n",
      "[300]\tvalid's auc: 0.795047\n",
      "[400]\tvalid's auc: 0.801084\n",
      "[500]\tvalid's auc: 0.804238\n",
      "[600]\tvalid's auc: 0.806255\n",
      "[700]\tvalid's auc: 0.807966\n",
      "[800]\tvalid's auc: 0.809227\n",
      "[900]\tvalid's auc: 0.810179\n",
      "[1000]\tvalid's auc: 0.810983\n",
      "[1100]\tvalid's auc: 0.811152\n",
      "[1200]\tvalid's auc: 0.811807\n",
      "[1300]\tvalid's auc: 0.812235\n",
      "[1400]\tvalid's auc: 0.812429\n",
      "[1500]\tvalid's auc: 0.812772\n",
      "[1600]\tvalid's auc: 0.813116\n",
      "[1700]\tvalid's auc: 0.813285\n",
      "[1800]\tvalid's auc: 0.81384\n",
      "[1900]\tvalid's auc: 0.814506\n",
      "[2000]\tvalid's auc: 0.814983\n",
      "[2100]\tvalid's auc: 0.815319\n",
      "[2200]\tvalid's auc: 0.815782\n",
      "[2300]\tvalid's auc: 0.815988\n",
      "[2400]\tvalid's auc: 0.816095\n",
      "[2500]\tvalid's auc: 0.816303\n",
      "[2600]\tvalid's auc: 0.816393\n",
      "Early stopping, best iteration is:\n",
      "[2525]\tvalid's auc: 0.816415\n"
     ]
    },
    {
     "name": "stderr",
     "output_type": "stream",
     "text": [
      "/home/wopr/.local/lib/python3.6/site-packages/sklearn/preprocessing/label.py:219: DataConversionWarning: A column-vector y was passed when a 1d array was expected. Please change the shape of y to (n_samples, ), for example using ravel().\n",
      "  y = column_or_1d(y, warn=True)\n",
      "/home/wopr/.local/lib/python3.6/site-packages/sklearn/preprocessing/label.py:252: DataConversionWarning: A column-vector y was passed when a 1d array was expected. Please change the shape of y to (n_samples, ), for example using ravel().\n",
      "  y = column_or_1d(y, warn=True)\n"
     ]
    },
    {
     "name": "stdout",
     "output_type": "stream",
     "text": [
      "Training until validation scores don't improve for 100 rounds.\n",
      "[100]\tvalid's auc: 0.76158\n",
      "[200]\tvalid's auc: 0.784627\n",
      "[300]\tvalid's auc: 0.795723\n",
      "[400]\tvalid's auc: 0.803213\n",
      "[500]\tvalid's auc: 0.80753\n",
      "[600]\tvalid's auc: 0.810405\n",
      "[700]\tvalid's auc: 0.812235\n",
      "[800]\tvalid's auc: 0.813285\n",
      "[900]\tvalid's auc: 0.813691\n",
      "[1000]\tvalid's auc: 0.814881\n",
      "[1100]\tvalid's auc: 0.815363\n",
      "[1200]\tvalid's auc: 0.816061\n",
      "[1300]\tvalid's auc: 0.816252\n",
      "[1400]\tvalid's auc: 0.816397\n",
      "[1500]\tvalid's auc: 0.817015\n",
      "[1600]\tvalid's auc: 0.817343\n",
      "[1700]\tvalid's auc: 0.817458\n",
      "Early stopping, best iteration is:\n",
      "[1680]\tvalid's auc: 0.817649\n"
     ]
    },
    {
     "name": "stderr",
     "output_type": "stream",
     "text": [
      "/home/wopr/.local/lib/python3.6/site-packages/sklearn/preprocessing/label.py:219: DataConversionWarning: A column-vector y was passed when a 1d array was expected. Please change the shape of y to (n_samples, ), for example using ravel().\n",
      "  y = column_or_1d(y, warn=True)\n",
      "/home/wopr/.local/lib/python3.6/site-packages/sklearn/preprocessing/label.py:252: DataConversionWarning: A column-vector y was passed when a 1d array was expected. Please change the shape of y to (n_samples, ), for example using ravel().\n",
      "  y = column_or_1d(y, warn=True)\n"
     ]
    },
    {
     "name": "stdout",
     "output_type": "stream",
     "text": [
      "Training until validation scores don't improve for 100 rounds.\n",
      "[100]\tvalid's auc: 0.758496\n",
      "[200]\tvalid's auc: 0.783128\n",
      "[300]\tvalid's auc: 0.792572\n",
      "[400]\tvalid's auc: 0.79866\n",
      "[500]\tvalid's auc: 0.801145\n",
      "[600]\tvalid's auc: 0.803321\n",
      "[700]\tvalid's auc: 0.804667\n",
      "[800]\tvalid's auc: 0.805898\n",
      "[900]\tvalid's auc: 0.807366\n",
      "[1000]\tvalid's auc: 0.808452\n",
      "[1100]\tvalid's auc: 0.809604\n",
      "[1200]\tvalid's auc: 0.810582\n",
      "[1300]\tvalid's auc: 0.811092\n",
      "[1400]\tvalid's auc: 0.811523\n",
      "[1500]\tvalid's auc: 0.812121\n",
      "[1600]\tvalid's auc: 0.812708\n",
      "[1700]\tvalid's auc: 0.813319\n",
      "[1800]\tvalid's auc: 0.813567\n",
      "Early stopping, best iteration is:\n",
      "[1758]\tvalid's auc: 0.813572\n"
     ]
    },
    {
     "name": "stderr",
     "output_type": "stream",
     "text": [
      "/home/wopr/.local/lib/python3.6/site-packages/sklearn/preprocessing/label.py:219: DataConversionWarning: A column-vector y was passed when a 1d array was expected. Please change the shape of y to (n_samples, ), for example using ravel().\n",
      "  y = column_or_1d(y, warn=True)\n",
      "/home/wopr/.local/lib/python3.6/site-packages/sklearn/preprocessing/label.py:252: DataConversionWarning: A column-vector y was passed when a 1d array was expected. Please change the shape of y to (n_samples, ), for example using ravel().\n",
      "  y = column_or_1d(y, warn=True)\n"
     ]
    },
    {
     "name": "stdout",
     "output_type": "stream",
     "text": [
      "Training until validation scores don't improve for 100 rounds.\n",
      "[100]\tvalid's auc: 0.758483\n",
      "[200]\tvalid's auc: 0.779686\n",
      "[300]\tvalid's auc: 0.790259\n",
      "[400]\tvalid's auc: 0.795198\n",
      "[500]\tvalid's auc: 0.799614\n",
      "[600]\tvalid's auc: 0.802631\n",
      "[700]\tvalid's auc: 0.80402\n",
      "Early stopping, best iteration is:\n",
      "[678]\tvalid's auc: 0.804086\n"
     ]
    },
    {
     "name": "stderr",
     "output_type": "stream",
     "text": [
      "/home/wopr/.local/lib/python3.6/site-packages/sklearn/preprocessing/label.py:219: DataConversionWarning: A column-vector y was passed when a 1d array was expected. Please change the shape of y to (n_samples, ), for example using ravel().\n",
      "  y = column_or_1d(y, warn=True)\n",
      "/home/wopr/.local/lib/python3.6/site-packages/sklearn/preprocessing/label.py:252: DataConversionWarning: A column-vector y was passed when a 1d array was expected. Please change the shape of y to (n_samples, ), for example using ravel().\n",
      "  y = column_or_1d(y, warn=True)\n"
     ]
    },
    {
     "name": "stdout",
     "output_type": "stream",
     "text": [
      "Training until validation scores don't improve for 100 rounds.\n",
      "[100]\tvalid's auc: 0.761648\n",
      "[200]\tvalid's auc: 0.785158\n",
      "[300]\tvalid's auc: 0.794672\n",
      "[400]\tvalid's auc: 0.800204\n",
      "[500]\tvalid's auc: 0.802841\n",
      "[600]\tvalid's auc: 0.804916\n",
      "[700]\tvalid's auc: 0.806727\n",
      "[800]\tvalid's auc: 0.807213\n",
      "[900]\tvalid's auc: 0.808232\n",
      "[1000]\tvalid's auc: 0.809133\n",
      "[1100]\tvalid's auc: 0.810106\n",
      "[1200]\tvalid's auc: 0.810832\n",
      "[1300]\tvalid's auc: 0.811331\n",
      "[1400]\tvalid's auc: 0.812059\n",
      "[1500]\tvalid's auc: 0.812716\n",
      "[1600]\tvalid's auc: 0.81291\n",
      "[1700]\tvalid's auc: 0.813805\n",
      "[1800]\tvalid's auc: 0.814127\n",
      "Early stopping, best iteration is:\n",
      "[1748]\tvalid's auc: 0.814143\n"
     ]
    },
    {
     "name": "stderr",
     "output_type": "stream",
     "text": [
      "/home/wopr/.local/lib/python3.6/site-packages/sklearn/preprocessing/label.py:219: DataConversionWarning: A column-vector y was passed when a 1d array was expected. Please change the shape of y to (n_samples, ), for example using ravel().\n",
      "  y = column_or_1d(y, warn=True)\n",
      "/home/wopr/.local/lib/python3.6/site-packages/sklearn/preprocessing/label.py:252: DataConversionWarning: A column-vector y was passed when a 1d array was expected. Please change the shape of y to (n_samples, ), for example using ravel().\n",
      "  y = column_or_1d(y, warn=True)\n"
     ]
    },
    {
     "name": "stdout",
     "output_type": "stream",
     "text": [
      "Training until validation scores don't improve for 100 rounds.\n",
      "[100]\tvalid's auc: 0.749332\n",
      "[200]\tvalid's auc: 0.778286\n",
      "[300]\tvalid's auc: 0.791765\n",
      "[400]\tvalid's auc: 0.80003\n",
      "[500]\tvalid's auc: 0.804954\n",
      "[600]\tvalid's auc: 0.808333\n",
      "[700]\tvalid's auc: 0.810347\n",
      "[800]\tvalid's auc: 0.812144\n",
      "[900]\tvalid's auc: 0.813129\n",
      "[1000]\tvalid's auc: 0.814245\n",
      "[1100]\tvalid's auc: 0.814372\n",
      "[1200]\tvalid's auc: 0.815023\n",
      "[1300]\tvalid's auc: 0.815695\n",
      "[1400]\tvalid's auc: 0.815596\n",
      "Early stopping, best iteration is:\n",
      "[1318]\tvalid's auc: 0.815913\n"
     ]
    },
    {
     "name": "stderr",
     "output_type": "stream",
     "text": [
      "/home/wopr/.local/lib/python3.6/site-packages/sklearn/preprocessing/label.py:219: DataConversionWarning: A column-vector y was passed when a 1d array was expected. Please change the shape of y to (n_samples, ), for example using ravel().\n",
      "  y = column_or_1d(y, warn=True)\n",
      "/home/wopr/.local/lib/python3.6/site-packages/sklearn/preprocessing/label.py:252: DataConversionWarning: A column-vector y was passed when a 1d array was expected. Please change the shape of y to (n_samples, ), for example using ravel().\n",
      "  y = column_or_1d(y, warn=True)\n"
     ]
    },
    {
     "name": "stdout",
     "output_type": "stream",
     "text": [
      "Training until validation scores don't improve for 100 rounds.\n",
      "[100]\tvalid's auc: 0.750079\n",
      "[200]\tvalid's auc: 0.776463\n",
      "[300]\tvalid's auc: 0.789625\n",
      "[400]\tvalid's auc: 0.796906\n",
      "[500]\tvalid's auc: 0.80102\n",
      "[600]\tvalid's auc: 0.804032\n",
      "[700]\tvalid's auc: 0.806628\n",
      "[800]\tvalid's auc: 0.808654\n",
      "[900]\tvalid's auc: 0.810623\n",
      "[1000]\tvalid's auc: 0.811384\n",
      "[1100]\tvalid's auc: 0.811967\n",
      "[1200]\tvalid's auc: 0.812495\n",
      "[1300]\tvalid's auc: 0.812934\n",
      "[1400]\tvalid's auc: 0.813288\n",
      "[1500]\tvalid's auc: 0.813136\n",
      "Early stopping, best iteration is:\n",
      "[1433]\tvalid's auc: 0.813503\n"
     ]
    },
    {
     "name": "stderr",
     "output_type": "stream",
     "text": [
      "/home/wopr/.local/lib/python3.6/site-packages/sklearn/preprocessing/label.py:219: DataConversionWarning: A column-vector y was passed when a 1d array was expected. Please change the shape of y to (n_samples, ), for example using ravel().\n",
      "  y = column_or_1d(y, warn=True)\n",
      "/home/wopr/.local/lib/python3.6/site-packages/sklearn/preprocessing/label.py:252: DataConversionWarning: A column-vector y was passed when a 1d array was expected. Please change the shape of y to (n_samples, ), for example using ravel().\n",
      "  y = column_or_1d(y, warn=True)\n"
     ]
    },
    {
     "name": "stdout",
     "output_type": "stream",
     "text": [
      "Training until validation scores don't improve for 100 rounds.\n",
      "[100]\tvalid's auc: 0.753149\n",
      "[200]\tvalid's auc: 0.778657\n",
      "[300]\tvalid's auc: 0.792279\n",
      "[400]\tvalid's auc: 0.800793\n",
      "[500]\tvalid's auc: 0.805231\n",
      "[600]\tvalid's auc: 0.809274\n",
      "[700]\tvalid's auc: 0.810637\n",
      "[800]\tvalid's auc: 0.812864\n",
      "[900]\tvalid's auc: 0.813919\n",
      "[1000]\tvalid's auc: 0.814474\n",
      "[1100]\tvalid's auc: 0.814836\n",
      "[1200]\tvalid's auc: 0.815023\n",
      "[1300]\tvalid's auc: 0.815405\n",
      "[1400]\tvalid's auc: 0.815605\n",
      "[1500]\tvalid's auc: 0.815801\n",
      "[1600]\tvalid's auc: 0.816158\n",
      "[1700]\tvalid's auc: 0.81629\n",
      "[1800]\tvalid's auc: 0.816224\n",
      "Early stopping, best iteration is:\n",
      "[1726]\tvalid's auc: 0.816395\n"
     ]
    },
    {
     "name": "stderr",
     "output_type": "stream",
     "text": [
      "/home/wopr/.local/lib/python3.6/site-packages/sklearn/preprocessing/label.py:219: DataConversionWarning: A column-vector y was passed when a 1d array was expected. Please change the shape of y to (n_samples, ), for example using ravel().\n",
      "  y = column_or_1d(y, warn=True)\n",
      "/home/wopr/.local/lib/python3.6/site-packages/sklearn/preprocessing/label.py:252: DataConversionWarning: A column-vector y was passed when a 1d array was expected. Please change the shape of y to (n_samples, ), for example using ravel().\n",
      "  y = column_or_1d(y, warn=True)\n"
     ]
    },
    {
     "name": "stdout",
     "output_type": "stream",
     "text": [
      "Training until validation scores don't improve for 100 rounds.\n",
      "[100]\tvalid's auc: 0.763205\n",
      "[200]\tvalid's auc: 0.785122\n",
      "[300]\tvalid's auc: 0.794061\n",
      "[400]\tvalid's auc: 0.797505\n",
      "[500]\tvalid's auc: 0.79986\n",
      "[600]\tvalid's auc: 0.800975\n",
      "[700]\tvalid's auc: 0.801385\n",
      "[800]\tvalid's auc: 0.802951\n",
      "[900]\tvalid's auc: 0.8046\n",
      "[1000]\tvalid's auc: 0.806405\n",
      "[1100]\tvalid's auc: 0.807446\n",
      "[1200]\tvalid's auc: 0.808865\n",
      "[1300]\tvalid's auc: 0.809802\n",
      "[1400]\tvalid's auc: 0.81071\n",
      "[1500]\tvalid's auc: 0.811316\n",
      "[1600]\tvalid's auc: 0.811929\n",
      "[1700]\tvalid's auc: 0.812314\n",
      "[1800]\tvalid's auc: 0.812572\n",
      "[1900]\tvalid's auc: 0.812988\n",
      "[2000]\tvalid's auc: 0.813441\n",
      "[2100]\tvalid's auc: 0.813719\n",
      "[2200]\tvalid's auc: 0.813911\n",
      "[2300]\tvalid's auc: 0.814161\n",
      "[2400]\tvalid's auc: 0.814468\n",
      "[2500]\tvalid's auc: 0.814675\n",
      "[2600]\tvalid's auc: 0.814757\n",
      "[2700]\tvalid's auc: 0.814931\n",
      "[2800]\tvalid's auc: 0.815184\n",
      "[2900]\tvalid's auc: 0.815297\n",
      "[3000]\tvalid's auc: 0.815388\n",
      "[3100]\tvalid's auc: 0.815478\n",
      "[3200]\tvalid's auc: 0.815606\n",
      "[3300]\tvalid's auc: 0.815715\n",
      "[3400]\tvalid's auc: 0.815798\n",
      "[3500]\tvalid's auc: 0.815795\n",
      "Early stopping, best iteration is:\n",
      "[3471]\tvalid's auc: 0.815822\n"
     ]
    },
    {
     "name": "stderr",
     "output_type": "stream",
     "text": [
      "/home/wopr/.local/lib/python3.6/site-packages/sklearn/preprocessing/label.py:219: DataConversionWarning: A column-vector y was passed when a 1d array was expected. Please change the shape of y to (n_samples, ), for example using ravel().\n",
      "  y = column_or_1d(y, warn=True)\n",
      "/home/wopr/.local/lib/python3.6/site-packages/sklearn/preprocessing/label.py:252: DataConversionWarning: A column-vector y was passed when a 1d array was expected. Please change the shape of y to (n_samples, ), for example using ravel().\n",
      "  y = column_or_1d(y, warn=True)\n"
     ]
    },
    {
     "name": "stdout",
     "output_type": "stream",
     "text": [
      "Training until validation scores don't improve for 100 rounds.\n",
      "[100]\tvalid's auc: 0.763\n",
      "[200]\tvalid's auc: 0.782736\n",
      "[300]\tvalid's auc: 0.792913\n",
      "[400]\tvalid's auc: 0.797558\n",
      "[500]\tvalid's auc: 0.800321\n",
      "[600]\tvalid's auc: 0.802281\n",
      "[700]\tvalid's auc: 0.803191\n",
      "[800]\tvalid's auc: 0.803648\n",
      "[900]\tvalid's auc: 0.80462\n",
      "[1000]\tvalid's auc: 0.806176\n",
      "[1100]\tvalid's auc: 0.807788\n",
      "[1200]\tvalid's auc: 0.80897\n",
      "[1300]\tvalid's auc: 0.81012\n",
      "[1400]\tvalid's auc: 0.810867\n",
      "[1500]\tvalid's auc: 0.811549\n",
      "[1600]\tvalid's auc: 0.812039\n",
      "[1700]\tvalid's auc: 0.812344\n",
      "[1800]\tvalid's auc: 0.812744\n",
      "[1900]\tvalid's auc: 0.812826\n",
      "[2000]\tvalid's auc: 0.813267\n",
      "[2100]\tvalid's auc: 0.813585\n",
      "[2200]\tvalid's auc: 0.813839\n",
      "[2300]\tvalid's auc: 0.814203\n",
      "[2400]\tvalid's auc: 0.814345\n",
      "[2500]\tvalid's auc: 0.814371\n",
      "[2600]\tvalid's auc: 0.814517\n",
      "Early stopping, best iteration is:\n",
      "[2564]\tvalid's auc: 0.81455\n"
     ]
    },
    {
     "name": "stderr",
     "output_type": "stream",
     "text": [
      "/home/wopr/.local/lib/python3.6/site-packages/sklearn/preprocessing/label.py:219: DataConversionWarning: A column-vector y was passed when a 1d array was expected. Please change the shape of y to (n_samples, ), for example using ravel().\n",
      "  y = column_or_1d(y, warn=True)\n",
      "/home/wopr/.local/lib/python3.6/site-packages/sklearn/preprocessing/label.py:252: DataConversionWarning: A column-vector y was passed when a 1d array was expected. Please change the shape of y to (n_samples, ), for example using ravel().\n",
      "  y = column_or_1d(y, warn=True)\n"
     ]
    },
    {
     "name": "stdout",
     "output_type": "stream",
     "text": [
      "Training until validation scores don't improve for 100 rounds.\n",
      "[100]\tvalid's auc: 0.761085\n",
      "[200]\tvalid's auc: 0.781507\n",
      "[300]\tvalid's auc: 0.79143\n",
      "[400]\tvalid's auc: 0.795222\n",
      "[500]\tvalid's auc: 0.798374\n",
      "[600]\tvalid's auc: 0.80011\n",
      "[700]\tvalid's auc: 0.801009\n",
      "[800]\tvalid's auc: 0.802162\n",
      "[900]\tvalid's auc: 0.803494\n",
      "[1000]\tvalid's auc: 0.80499\n",
      "[1100]\tvalid's auc: 0.805756\n",
      "[1200]\tvalid's auc: 0.80693\n",
      "[1300]\tvalid's auc: 0.807878\n",
      "[1400]\tvalid's auc: 0.80858\n",
      "[1500]\tvalid's auc: 0.809302\n",
      "[1600]\tvalid's auc: 0.809844\n",
      "[1700]\tvalid's auc: 0.81063\n",
      "[1800]\tvalid's auc: 0.811377\n",
      "[1900]\tvalid's auc: 0.811664\n",
      "[2000]\tvalid's auc: 0.812106\n",
      "[2100]\tvalid's auc: 0.812561\n",
      "[2200]\tvalid's auc: 0.812773\n",
      "[2300]\tvalid's auc: 0.812932\n",
      "[2400]\tvalid's auc: 0.813278\n",
      "[2500]\tvalid's auc: 0.813497\n",
      "[2600]\tvalid's auc: 0.813683\n",
      "[2700]\tvalid's auc: 0.813881\n",
      "[2800]\tvalid's auc: 0.814026\n",
      "[2900]\tvalid's auc: 0.814241\n",
      "[3000]\tvalid's auc: 0.814435\n",
      "[3100]\tvalid's auc: 0.814511\n",
      "[3200]\tvalid's auc: 0.81464\n",
      "[3300]\tvalid's auc: 0.814803\n",
      "Early stopping, best iteration is:\n",
      "[3279]\tvalid's auc: 0.814819\n"
     ]
    },
    {
     "name": "stderr",
     "output_type": "stream",
     "text": [
      "/home/wopr/.local/lib/python3.6/site-packages/sklearn/preprocessing/label.py:219: DataConversionWarning: A column-vector y was passed when a 1d array was expected. Please change the shape of y to (n_samples, ), for example using ravel().\n",
      "  y = column_or_1d(y, warn=True)\n",
      "/home/wopr/.local/lib/python3.6/site-packages/sklearn/preprocessing/label.py:252: DataConversionWarning: A column-vector y was passed when a 1d array was expected. Please change the shape of y to (n_samples, ), for example using ravel().\n",
      "  y = column_or_1d(y, warn=True)\n"
     ]
    },
    {
     "name": "stdout",
     "output_type": "stream",
     "text": [
      "Training until validation scores don't improve for 100 rounds.\n",
      "[100]\tvalid's auc: 0.740126\n",
      "[200]\tvalid's auc: 0.771046\n",
      "[300]\tvalid's auc: 0.785317\n",
      "[400]\tvalid's auc: 0.793816\n",
      "[500]\tvalid's auc: 0.799657\n",
      "[600]\tvalid's auc: 0.803952\n",
      "[700]\tvalid's auc: 0.806062\n",
      "[800]\tvalid's auc: 0.808237\n",
      "[900]\tvalid's auc: 0.809201\n",
      "[1000]\tvalid's auc: 0.809487\n",
      "[1100]\tvalid's auc: 0.809912\n",
      "[1200]\tvalid's auc: 0.810432\n",
      "[1300]\tvalid's auc: 0.81074\n",
      "[1400]\tvalid's auc: 0.810733\n",
      "Early stopping, best iteration is:\n",
      "[1342]\tvalid's auc: 0.810929\n"
     ]
    },
    {
     "name": "stderr",
     "output_type": "stream",
     "text": [
      "/home/wopr/.local/lib/python3.6/site-packages/sklearn/preprocessing/label.py:219: DataConversionWarning: A column-vector y was passed when a 1d array was expected. Please change the shape of y to (n_samples, ), for example using ravel().\n",
      "  y = column_or_1d(y, warn=True)\n",
      "/home/wopr/.local/lib/python3.6/site-packages/sklearn/preprocessing/label.py:252: DataConversionWarning: A column-vector y was passed when a 1d array was expected. Please change the shape of y to (n_samples, ), for example using ravel().\n",
      "  y = column_or_1d(y, warn=True)\n"
     ]
    },
    {
     "name": "stdout",
     "output_type": "stream",
     "text": [
      "Training until validation scores don't improve for 100 rounds.\n",
      "[100]\tvalid's auc: 0.741755\n",
      "[200]\tvalid's auc: 0.76939\n",
      "[300]\tvalid's auc: 0.782889\n",
      "[400]\tvalid's auc: 0.791992\n",
      "[500]\tvalid's auc: 0.798421\n",
      "[600]\tvalid's auc: 0.801284\n",
      "[700]\tvalid's auc: 0.803491\n",
      "[800]\tvalid's auc: 0.80509\n",
      "[900]\tvalid's auc: 0.806038\n",
      "[1000]\tvalid's auc: 0.806692\n",
      "[1100]\tvalid's auc: 0.807483\n",
      "[1200]\tvalid's auc: 0.807785\n",
      "[1300]\tvalid's auc: 0.80848\n",
      "[1400]\tvalid's auc: 0.808745\n",
      "[1500]\tvalid's auc: 0.808923\n",
      "Early stopping, best iteration is:\n",
      "[1434]\tvalid's auc: 0.809258\n"
     ]
    },
    {
     "name": "stderr",
     "output_type": "stream",
     "text": [
      "/home/wopr/.local/lib/python3.6/site-packages/sklearn/preprocessing/label.py:219: DataConversionWarning: A column-vector y was passed when a 1d array was expected. Please change the shape of y to (n_samples, ), for example using ravel().\n",
      "  y = column_or_1d(y, warn=True)\n",
      "/home/wopr/.local/lib/python3.6/site-packages/sklearn/preprocessing/label.py:252: DataConversionWarning: A column-vector y was passed when a 1d array was expected. Please change the shape of y to (n_samples, ), for example using ravel().\n",
      "  y = column_or_1d(y, warn=True)\n"
     ]
    },
    {
     "name": "stdout",
     "output_type": "stream",
     "text": [
      "Training until validation scores don't improve for 100 rounds.\n",
      "[100]\tvalid's auc: 0.741481\n",
      "[200]\tvalid's auc: 0.770119\n",
      "[300]\tvalid's auc: 0.783493\n",
      "[400]\tvalid's auc: 0.79248\n",
      "[500]\tvalid's auc: 0.799146\n",
      "[600]\tvalid's auc: 0.802797\n",
      "[700]\tvalid's auc: 0.804866\n",
      "[800]\tvalid's auc: 0.805389\n",
      "[900]\tvalid's auc: 0.806219\n",
      "[1000]\tvalid's auc: 0.806685\n",
      "[1100]\tvalid's auc: 0.807451\n",
      "[1200]\tvalid's auc: 0.808267\n",
      "[1300]\tvalid's auc: 0.808632\n",
      "Early stopping, best iteration is:\n",
      "[1287]\tvalid's auc: 0.808837\n"
     ]
    },
    {
     "name": "stderr",
     "output_type": "stream",
     "text": [
      "/home/wopr/.local/lib/python3.6/site-packages/sklearn/preprocessing/label.py:219: DataConversionWarning: A column-vector y was passed when a 1d array was expected. Please change the shape of y to (n_samples, ), for example using ravel().\n",
      "  y = column_or_1d(y, warn=True)\n",
      "/home/wopr/.local/lib/python3.6/site-packages/sklearn/preprocessing/label.py:252: DataConversionWarning: A column-vector y was passed when a 1d array was expected. Please change the shape of y to (n_samples, ), for example using ravel().\n",
      "  y = column_or_1d(y, warn=True)\n"
     ]
    },
    {
     "name": "stdout",
     "output_type": "stream",
     "text": [
      "Training until validation scores don't improve for 100 rounds.\n",
      "[100]\tvalid's auc: 0.730491\n",
      "[200]\tvalid's auc: 0.75964\n",
      "[300]\tvalid's auc: 0.776015\n",
      "[400]\tvalid's auc: 0.787264\n",
      "[500]\tvalid's auc: 0.793383\n",
      "[600]\tvalid's auc: 0.79862\n",
      "[700]\tvalid's auc: 0.802558\n",
      "[800]\tvalid's auc: 0.805815\n",
      "[900]\tvalid's auc: 0.807777\n",
      "[1000]\tvalid's auc: 0.808616\n",
      "[1100]\tvalid's auc: 0.810176\n",
      "[1200]\tvalid's auc: 0.81071\n",
      "[1300]\tvalid's auc: 0.811847\n",
      "[1400]\tvalid's auc: 0.812541\n",
      "[1500]\tvalid's auc: 0.813254\n",
      "[1600]\tvalid's auc: 0.813569\n",
      "[1700]\tvalid's auc: 0.81407\n",
      "[1800]\tvalid's auc: 0.814203\n",
      "[1900]\tvalid's auc: 0.814568\n",
      "[2000]\tvalid's auc: 0.814526\n",
      "[2100]\tvalid's auc: 0.814826\n",
      "Early stopping, best iteration is:\n",
      "[2073]\tvalid's auc: 0.815003\n"
     ]
    },
    {
     "name": "stderr",
     "output_type": "stream",
     "text": [
      "/home/wopr/.local/lib/python3.6/site-packages/sklearn/preprocessing/label.py:219: DataConversionWarning: A column-vector y was passed when a 1d array was expected. Please change the shape of y to (n_samples, ), for example using ravel().\n",
      "  y = column_or_1d(y, warn=True)\n",
      "/home/wopr/.local/lib/python3.6/site-packages/sklearn/preprocessing/label.py:252: DataConversionWarning: A column-vector y was passed when a 1d array was expected. Please change the shape of y to (n_samples, ), for example using ravel().\n",
      "  y = column_or_1d(y, warn=True)\n"
     ]
    },
    {
     "name": "stdout",
     "output_type": "stream",
     "text": [
      "Training until validation scores don't improve for 100 rounds.\n",
      "[100]\tvalid's auc: 0.730281\n",
      "[200]\tvalid's auc: 0.760075\n",
      "[300]\tvalid's auc: 0.773776\n",
      "[400]\tvalid's auc: 0.784329\n",
      "[500]\tvalid's auc: 0.79133\n",
      "[600]\tvalid's auc: 0.796602\n",
      "[700]\tvalid's auc: 0.799845\n",
      "[800]\tvalid's auc: 0.803051\n",
      "[900]\tvalid's auc: 0.804814\n",
      "[1000]\tvalid's auc: 0.806202\n",
      "[1100]\tvalid's auc: 0.807567\n",
      "[1200]\tvalid's auc: 0.808307\n",
      "[1300]\tvalid's auc: 0.808902\n",
      "[1400]\tvalid's auc: 0.809717\n",
      "[1500]\tvalid's auc: 0.809881\n",
      "[1600]\tvalid's auc: 0.810436\n",
      "[1700]\tvalid's auc: 0.810808\n",
      "Early stopping, best iteration is:\n",
      "[1667]\tvalid's auc: 0.810937\n"
     ]
    },
    {
     "name": "stderr",
     "output_type": "stream",
     "text": [
      "/home/wopr/.local/lib/python3.6/site-packages/sklearn/preprocessing/label.py:219: DataConversionWarning: A column-vector y was passed when a 1d array was expected. Please change the shape of y to (n_samples, ), for example using ravel().\n",
      "  y = column_or_1d(y, warn=True)\n",
      "/home/wopr/.local/lib/python3.6/site-packages/sklearn/preprocessing/label.py:252: DataConversionWarning: A column-vector y was passed when a 1d array was expected. Please change the shape of y to (n_samples, ), for example using ravel().\n",
      "  y = column_or_1d(y, warn=True)\n"
     ]
    },
    {
     "name": "stdout",
     "output_type": "stream",
     "text": [
      "Training until validation scores don't improve for 100 rounds.\n",
      "[100]\tvalid's auc: 0.732065\n",
      "[200]\tvalid's auc: 0.759681\n",
      "[300]\tvalid's auc: 0.775699\n",
      "[400]\tvalid's auc: 0.785706\n",
      "[500]\tvalid's auc: 0.792315\n",
      "[600]\tvalid's auc: 0.796601\n",
      "[700]\tvalid's auc: 0.799518\n",
      "[800]\tvalid's auc: 0.802414\n",
      "[900]\tvalid's auc: 0.804394\n",
      "[1000]\tvalid's auc: 0.805738\n",
      "[1100]\tvalid's auc: 0.806707\n",
      "[1200]\tvalid's auc: 0.807803\n",
      "[1300]\tvalid's auc: 0.808331\n",
      "[1400]\tvalid's auc: 0.809239\n",
      "[1500]\tvalid's auc: 0.809538\n",
      "[1600]\tvalid's auc: 0.81021\n",
      "[1700]\tvalid's auc: 0.811004\n",
      "Early stopping, best iteration is:\n",
      "[1690]\tvalid's auc: 0.811104\n"
     ]
    },
    {
     "name": "stderr",
     "output_type": "stream",
     "text": [
      "/home/wopr/.local/lib/python3.6/site-packages/sklearn/preprocessing/label.py:219: DataConversionWarning: A column-vector y was passed when a 1d array was expected. Please change the shape of y to (n_samples, ), for example using ravel().\n",
      "  y = column_or_1d(y, warn=True)\n",
      "/home/wopr/.local/lib/python3.6/site-packages/sklearn/preprocessing/label.py:252: DataConversionWarning: A column-vector y was passed when a 1d array was expected. Please change the shape of y to (n_samples, ), for example using ravel().\n",
      "  y = column_or_1d(y, warn=True)\n"
     ]
    },
    {
     "name": "stdout",
     "output_type": "stream",
     "text": [
      "Training until validation scores don't improve for 100 rounds.\n",
      "[100]\tvalid's auc: 0.761825\n",
      "[200]\tvalid's auc: 0.786372\n",
      "[300]\tvalid's auc: 0.797442\n",
      "[400]\tvalid's auc: 0.803108\n",
      "[500]\tvalid's auc: 0.804712\n",
      "[600]\tvalid's auc: 0.806539\n",
      "[700]\tvalid's auc: 0.808489\n",
      "[800]\tvalid's auc: 0.810149\n",
      "[900]\tvalid's auc: 0.810947\n",
      "[1000]\tvalid's auc: 0.811654\n",
      "[1100]\tvalid's auc: 0.812557\n",
      "[1200]\tvalid's auc: 0.813233\n",
      "[1300]\tvalid's auc: 0.813952\n",
      "[1400]\tvalid's auc: 0.814868\n",
      "[1500]\tvalid's auc: 0.815462\n",
      "[1600]\tvalid's auc: 0.816071\n",
      "[1700]\tvalid's auc: 0.81645\n",
      "[1800]\tvalid's auc: 0.817099\n",
      "[1900]\tvalid's auc: 0.817365\n",
      "[2000]\tvalid's auc: 0.817642\n",
      "[2100]\tvalid's auc: 0.818099\n",
      "[2200]\tvalid's auc: 0.818617\n",
      "[2300]\tvalid's auc: 0.818735\n",
      "[2400]\tvalid's auc: 0.819065\n",
      "[2500]\tvalid's auc: 0.819273\n",
      "[2600]\tvalid's auc: 0.819413\n",
      "[2700]\tvalid's auc: 0.819561\n",
      "Early stopping, best iteration is:\n",
      "[2664]\tvalid's auc: 0.819587\n"
     ]
    },
    {
     "name": "stderr",
     "output_type": "stream",
     "text": [
      "/home/wopr/.local/lib/python3.6/site-packages/sklearn/preprocessing/label.py:219: DataConversionWarning: A column-vector y was passed when a 1d array was expected. Please change the shape of y to (n_samples, ), for example using ravel().\n",
      "  y = column_or_1d(y, warn=True)\n",
      "/home/wopr/.local/lib/python3.6/site-packages/sklearn/preprocessing/label.py:252: DataConversionWarning: A column-vector y was passed when a 1d array was expected. Please change the shape of y to (n_samples, ), for example using ravel().\n",
      "  y = column_or_1d(y, warn=True)\n"
     ]
    },
    {
     "name": "stdout",
     "output_type": "stream",
     "text": [
      "Training until validation scores don't improve for 100 rounds.\n",
      "[100]\tvalid's auc: 0.761673\n",
      "[200]\tvalid's auc: 0.785707\n",
      "[300]\tvalid's auc: 0.796677\n",
      "[400]\tvalid's auc: 0.801622\n",
      "[500]\tvalid's auc: 0.804432\n",
      "[600]\tvalid's auc: 0.807577\n",
      "[700]\tvalid's auc: 0.809567\n",
      "[800]\tvalid's auc: 0.809612\n",
      "[900]\tvalid's auc: 0.810551\n",
      "[1000]\tvalid's auc: 0.811531\n",
      "[1100]\tvalid's auc: 0.812456\n",
      "[1200]\tvalid's auc: 0.813184\n",
      "[1300]\tvalid's auc: 0.813916\n",
      "[1400]\tvalid's auc: 0.814192\n",
      "[1500]\tvalid's auc: 0.814876\n",
      "[1600]\tvalid's auc: 0.815394\n",
      "[1700]\tvalid's auc: 0.815849\n",
      "[1800]\tvalid's auc: 0.816177\n",
      "[1900]\tvalid's auc: 0.816502\n",
      "[2000]\tvalid's auc: 0.816682\n",
      "[2100]\tvalid's auc: 0.816585\n",
      "Early stopping, best iteration is:\n",
      "[2044]\tvalid's auc: 0.816761\n"
     ]
    },
    {
     "name": "stderr",
     "output_type": "stream",
     "text": [
      "/home/wopr/.local/lib/python3.6/site-packages/sklearn/preprocessing/label.py:219: DataConversionWarning: A column-vector y was passed when a 1d array was expected. Please change the shape of y to (n_samples, ), for example using ravel().\n",
      "  y = column_or_1d(y, warn=True)\n",
      "/home/wopr/.local/lib/python3.6/site-packages/sklearn/preprocessing/label.py:252: DataConversionWarning: A column-vector y was passed when a 1d array was expected. Please change the shape of y to (n_samples, ), for example using ravel().\n",
      "  y = column_or_1d(y, warn=True)\n"
     ]
    },
    {
     "name": "stdout",
     "output_type": "stream",
     "text": [
      "Training until validation scores don't improve for 100 rounds.\n",
      "[100]\tvalid's auc: 0.761869\n",
      "[200]\tvalid's auc: 0.784452\n",
      "[300]\tvalid's auc: 0.795606\n",
      "[400]\tvalid's auc: 0.802022\n",
      "[500]\tvalid's auc: 0.804786\n",
      "[600]\tvalid's auc: 0.806627\n",
      "[700]\tvalid's auc: 0.808987\n",
      "[800]\tvalid's auc: 0.810004\n",
      "[900]\tvalid's auc: 0.811062\n",
      "[1000]\tvalid's auc: 0.812361\n",
      "[1100]\tvalid's auc: 0.813699\n",
      "[1200]\tvalid's auc: 0.814294\n",
      "[1300]\tvalid's auc: 0.815237\n",
      "[1400]\tvalid's auc: 0.815902\n",
      "[1500]\tvalid's auc: 0.816139\n",
      "[1600]\tvalid's auc: 0.81658\n",
      "[1700]\tvalid's auc: 0.817171\n",
      "[1800]\tvalid's auc: 0.817496\n",
      "[1900]\tvalid's auc: 0.817878\n",
      "[2000]\tvalid's auc: 0.818326\n",
      "[2100]\tvalid's auc: 0.818434\n",
      "[2200]\tvalid's auc: 0.818752\n",
      "[2300]\tvalid's auc: 0.819239\n",
      "[2400]\tvalid's auc: 0.819413\n",
      "[2500]\tvalid's auc: 0.819466\n",
      "[2600]\tvalid's auc: 0.819663\n",
      "[2700]\tvalid's auc: 0.81967\n",
      "[2800]\tvalid's auc: 0.819809\n",
      "[2900]\tvalid's auc: 0.820234\n",
      "[3000]\tvalid's auc: 0.820226\n",
      "Early stopping, best iteration is:\n",
      "[2905]\tvalid's auc: 0.820255\n"
     ]
    },
    {
     "name": "stderr",
     "output_type": "stream",
     "text": [
      "/home/wopr/.local/lib/python3.6/site-packages/sklearn/preprocessing/label.py:219: DataConversionWarning: A column-vector y was passed when a 1d array was expected. Please change the shape of y to (n_samples, ), for example using ravel().\n",
      "  y = column_or_1d(y, warn=True)\n",
      "/home/wopr/.local/lib/python3.6/site-packages/sklearn/preprocessing/label.py:252: DataConversionWarning: A column-vector y was passed when a 1d array was expected. Please change the shape of y to (n_samples, ), for example using ravel().\n",
      "  y = column_or_1d(y, warn=True)\n"
     ]
    },
    {
     "name": "stdout",
     "output_type": "stream",
     "text": [
      "Training until validation scores don't improve for 100 rounds.\n",
      "[100]\tvalid's auc: 0.754076\n",
      "[200]\tvalid's auc: 0.779274\n",
      "[300]\tvalid's auc: 0.790477\n",
      "[400]\tvalid's auc: 0.797203\n",
      "[500]\tvalid's auc: 0.80144\n",
      "[600]\tvalid's auc: 0.805018\n",
      "[700]\tvalid's auc: 0.807176\n",
      "[800]\tvalid's auc: 0.808723\n",
      "[900]\tvalid's auc: 0.809724\n",
      "[1000]\tvalid's auc: 0.810798\n",
      "[1100]\tvalid's auc: 0.811637\n",
      "[1200]\tvalid's auc: 0.811908\n",
      "Early stopping, best iteration is:\n",
      "[1144]\tvalid's auc: 0.811946\n"
     ]
    },
    {
     "name": "stderr",
     "output_type": "stream",
     "text": [
      "/home/wopr/.local/lib/python3.6/site-packages/sklearn/preprocessing/label.py:219: DataConversionWarning: A column-vector y was passed when a 1d array was expected. Please change the shape of y to (n_samples, ), for example using ravel().\n",
      "  y = column_or_1d(y, warn=True)\n",
      "/home/wopr/.local/lib/python3.6/site-packages/sklearn/preprocessing/label.py:252: DataConversionWarning: A column-vector y was passed when a 1d array was expected. Please change the shape of y to (n_samples, ), for example using ravel().\n",
      "  y = column_or_1d(y, warn=True)\n"
     ]
    },
    {
     "name": "stdout",
     "output_type": "stream",
     "text": [
      "Training until validation scores don't improve for 100 rounds.\n",
      "[100]\tvalid's auc: 0.754518\n",
      "[200]\tvalid's auc: 0.776738\n",
      "[300]\tvalid's auc: 0.788881\n",
      "[400]\tvalid's auc: 0.795459\n",
      "[500]\tvalid's auc: 0.800133\n",
      "[600]\tvalid's auc: 0.804136\n",
      "[700]\tvalid's auc: 0.80691\n",
      "[800]\tvalid's auc: 0.808028\n",
      "[900]\tvalid's auc: 0.808116\n",
      "[1000]\tvalid's auc: 0.809232\n",
      "[1100]\tvalid's auc: 0.810468\n",
      "[1200]\tvalid's auc: 0.811105\n",
      "Early stopping, best iteration is:\n",
      "[1161]\tvalid's auc: 0.811105\n"
     ]
    },
    {
     "name": "stderr",
     "output_type": "stream",
     "text": [
      "/home/wopr/.local/lib/python3.6/site-packages/sklearn/preprocessing/label.py:219: DataConversionWarning: A column-vector y was passed when a 1d array was expected. Please change the shape of y to (n_samples, ), for example using ravel().\n",
      "  y = column_or_1d(y, warn=True)\n",
      "/home/wopr/.local/lib/python3.6/site-packages/sklearn/preprocessing/label.py:252: DataConversionWarning: A column-vector y was passed when a 1d array was expected. Please change the shape of y to (n_samples, ), for example using ravel().\n",
      "  y = column_or_1d(y, warn=True)\n"
     ]
    },
    {
     "name": "stdout",
     "output_type": "stream",
     "text": [
      "Training until validation scores don't improve for 100 rounds.\n",
      "[100]\tvalid's auc: 0.753341\n",
      "[200]\tvalid's auc: 0.779449\n",
      "[300]\tvalid's auc: 0.789605\n",
      "[400]\tvalid's auc: 0.79717\n",
      "[500]\tvalid's auc: 0.801457\n",
      "[600]\tvalid's auc: 0.804395\n",
      "[700]\tvalid's auc: 0.807174\n",
      "[800]\tvalid's auc: 0.80844\n",
      "[900]\tvalid's auc: 0.809387\n",
      "[1000]\tvalid's auc: 0.810046\n",
      "[1100]\tvalid's auc: 0.811056\n",
      "[1200]\tvalid's auc: 0.811387\n",
      "Early stopping, best iteration is:\n",
      "[1169]\tvalid's auc: 0.811387\n"
     ]
    },
    {
     "name": "stderr",
     "output_type": "stream",
     "text": [
      "/home/wopr/.local/lib/python3.6/site-packages/sklearn/preprocessing/label.py:219: DataConversionWarning: A column-vector y was passed when a 1d array was expected. Please change the shape of y to (n_samples, ), for example using ravel().\n",
      "  y = column_or_1d(y, warn=True)\n",
      "/home/wopr/.local/lib/python3.6/site-packages/sklearn/preprocessing/label.py:252: DataConversionWarning: A column-vector y was passed when a 1d array was expected. Please change the shape of y to (n_samples, ), for example using ravel().\n",
      "  y = column_or_1d(y, warn=True)\n"
     ]
    },
    {
     "name": "stdout",
     "output_type": "stream",
     "text": [
      "Training until validation scores don't improve for 100 rounds.\n",
      "[100]\tvalid's auc: 0.739332\n",
      "[200]\tvalid's auc: 0.768267\n",
      "[300]\tvalid's auc: 0.784066\n",
      "[400]\tvalid's auc: 0.794047\n",
      "[500]\tvalid's auc: 0.800007\n",
      "[600]\tvalid's auc: 0.804517\n",
      "[700]\tvalid's auc: 0.807834\n",
      "[800]\tvalid's auc: 0.809697\n",
      "[900]\tvalid's auc: 0.810999\n",
      "[1000]\tvalid's auc: 0.811701\n",
      "[1100]\tvalid's auc: 0.81249\n",
      "[1200]\tvalid's auc: 0.813235\n",
      "[1300]\tvalid's auc: 0.814142\n",
      "[1400]\tvalid's auc: 0.814518\n",
      "[1500]\tvalid's auc: 0.81495\n",
      "[1600]\tvalid's auc: 0.815149\n",
      "[1700]\tvalid's auc: 0.815338\n",
      "Early stopping, best iteration is:\n",
      "[1653]\tvalid's auc: 0.815541\n"
     ]
    },
    {
     "name": "stderr",
     "output_type": "stream",
     "text": [
      "/home/wopr/.local/lib/python3.6/site-packages/sklearn/preprocessing/label.py:219: DataConversionWarning: A column-vector y was passed when a 1d array was expected. Please change the shape of y to (n_samples, ), for example using ravel().\n",
      "  y = column_or_1d(y, warn=True)\n",
      "/home/wopr/.local/lib/python3.6/site-packages/sklearn/preprocessing/label.py:252: DataConversionWarning: A column-vector y was passed when a 1d array was expected. Please change the shape of y to (n_samples, ), for example using ravel().\n",
      "  y = column_or_1d(y, warn=True)\n"
     ]
    },
    {
     "name": "stdout",
     "output_type": "stream",
     "text": [
      "Training until validation scores don't improve for 100 rounds.\n",
      "[100]\tvalid's auc: 0.739912\n",
      "[200]\tvalid's auc: 0.765891\n",
      "[300]\tvalid's auc: 0.77994\n",
      "[400]\tvalid's auc: 0.78838\n",
      "[500]\tvalid's auc: 0.794646\n",
      "[600]\tvalid's auc: 0.798353\n",
      "[700]\tvalid's auc: 0.801303\n",
      "[800]\tvalid's auc: 0.803653\n",
      "[900]\tvalid's auc: 0.805043\n",
      "[1000]\tvalid's auc: 0.806087\n",
      "[1100]\tvalid's auc: 0.807058\n",
      "[1200]\tvalid's auc: 0.80806\n",
      "[1300]\tvalid's auc: 0.808691\n",
      "[1400]\tvalid's auc: 0.80944\n",
      "[1500]\tvalid's auc: 0.809441\n",
      "[1600]\tvalid's auc: 0.810104\n",
      "[1700]\tvalid's auc: 0.810428\n",
      "Early stopping, best iteration is:\n",
      "[1695]\tvalid's auc: 0.81052\n"
     ]
    },
    {
     "name": "stderr",
     "output_type": "stream",
     "text": [
      "/home/wopr/.local/lib/python3.6/site-packages/sklearn/preprocessing/label.py:219: DataConversionWarning: A column-vector y was passed when a 1d array was expected. Please change the shape of y to (n_samples, ), for example using ravel().\n",
      "  y = column_or_1d(y, warn=True)\n",
      "/home/wopr/.local/lib/python3.6/site-packages/sklearn/preprocessing/label.py:252: DataConversionWarning: A column-vector y was passed when a 1d array was expected. Please change the shape of y to (n_samples, ), for example using ravel().\n",
      "  y = column_or_1d(y, warn=True)\n"
     ]
    },
    {
     "name": "stdout",
     "output_type": "stream",
     "text": [
      "Training until validation scores don't improve for 100 rounds.\n",
      "[100]\tvalid's auc: 0.73716\n",
      "[200]\tvalid's auc: 0.767887\n",
      "[300]\tvalid's auc: 0.782997\n",
      "[400]\tvalid's auc: 0.79249\n",
      "[500]\tvalid's auc: 0.797501\n",
      "[600]\tvalid's auc: 0.801843\n",
      "[700]\tvalid's auc: 0.804432\n",
      "[800]\tvalid's auc: 0.806315\n",
      "[900]\tvalid's auc: 0.808075\n",
      "[1000]\tvalid's auc: 0.808337\n",
      "[1100]\tvalid's auc: 0.809248\n",
      "[1200]\tvalid's auc: 0.809301\n",
      "[1300]\tvalid's auc: 0.810079\n",
      "[1400]\tvalid's auc: 0.810242\n",
      "[1500]\tvalid's auc: 0.810815\n",
      "[1600]\tvalid's auc: 0.811068\n",
      "[1700]\tvalid's auc: 0.811304\n",
      "[1800]\tvalid's auc: 0.8111\n",
      "Early stopping, best iteration is:\n",
      "[1725]\tvalid's auc: 0.811442\n"
     ]
    },
    {
     "name": "stderr",
     "output_type": "stream",
     "text": [
      "/home/wopr/.local/lib/python3.6/site-packages/sklearn/preprocessing/label.py:219: DataConversionWarning: A column-vector y was passed when a 1d array was expected. Please change the shape of y to (n_samples, ), for example using ravel().\n",
      "  y = column_or_1d(y, warn=True)\n",
      "/home/wopr/.local/lib/python3.6/site-packages/sklearn/preprocessing/label.py:252: DataConversionWarning: A column-vector y was passed when a 1d array was expected. Please change the shape of y to (n_samples, ), for example using ravel().\n",
      "  y = column_or_1d(y, warn=True)\n"
     ]
    },
    {
     "name": "stdout",
     "output_type": "stream",
     "text": [
      "Training until validation scores don't improve for 100 rounds.\n",
      "[100]\tvalid's auc: 0.757525\n",
      "[200]\tvalid's auc: 0.78373\n",
      "[300]\tvalid's auc: 0.794797\n",
      "[400]\tvalid's auc: 0.801077\n",
      "[500]\tvalid's auc: 0.804787\n",
      "[600]\tvalid's auc: 0.807245\n",
      "[700]\tvalid's auc: 0.809353\n",
      "[800]\tvalid's auc: 0.810762\n",
      "[900]\tvalid's auc: 0.811161\n",
      "[1000]\tvalid's auc: 0.812174\n",
      "[1100]\tvalid's auc: 0.812956\n",
      "[1200]\tvalid's auc: 0.813772\n",
      "[1300]\tvalid's auc: 0.814227\n",
      "[1400]\tvalid's auc: 0.814812\n",
      "[1500]\tvalid's auc: 0.814996\n",
      "Early stopping, best iteration is:\n",
      "[1463]\tvalid's auc: 0.815269\n"
     ]
    },
    {
     "name": "stderr",
     "output_type": "stream",
     "text": [
      "/home/wopr/.local/lib/python3.6/site-packages/sklearn/preprocessing/label.py:219: DataConversionWarning: A column-vector y was passed when a 1d array was expected. Please change the shape of y to (n_samples, ), for example using ravel().\n",
      "  y = column_or_1d(y, warn=True)\n",
      "/home/wopr/.local/lib/python3.6/site-packages/sklearn/preprocessing/label.py:252: DataConversionWarning: A column-vector y was passed when a 1d array was expected. Please change the shape of y to (n_samples, ), for example using ravel().\n",
      "  y = column_or_1d(y, warn=True)\n"
     ]
    },
    {
     "name": "stdout",
     "output_type": "stream",
     "text": [
      "Training until validation scores don't improve for 100 rounds.\n",
      "[100]\tvalid's auc: 0.757573\n",
      "[200]\tvalid's auc: 0.781936\n",
      "[300]\tvalid's auc: 0.794205\n",
      "[400]\tvalid's auc: 0.800937\n",
      "[500]\tvalid's auc: 0.804713\n",
      "[600]\tvalid's auc: 0.807212\n",
      "[700]\tvalid's auc: 0.80911\n",
      "[800]\tvalid's auc: 0.809936\n",
      "[900]\tvalid's auc: 0.811296\n",
      "[1000]\tvalid's auc: 0.812\n",
      "[1100]\tvalid's auc: 0.812588\n",
      "[1200]\tvalid's auc: 0.812931\n",
      "[1300]\tvalid's auc: 0.813527\n",
      "[1400]\tvalid's auc: 0.813714\n",
      "[1500]\tvalid's auc: 0.814058\n",
      "[1600]\tvalid's auc: 0.814255\n",
      "[1700]\tvalid's auc: 0.814679\n",
      "[1800]\tvalid's auc: 0.814706\n",
      "[1900]\tvalid's auc: 0.814801\n",
      "[2000]\tvalid's auc: 0.814791\n",
      "Early stopping, best iteration is:\n",
      "[1941]\tvalid's auc: 0.814925\n"
     ]
    },
    {
     "name": "stderr",
     "output_type": "stream",
     "text": [
      "/home/wopr/.local/lib/python3.6/site-packages/sklearn/preprocessing/label.py:219: DataConversionWarning: A column-vector y was passed when a 1d array was expected. Please change the shape of y to (n_samples, ), for example using ravel().\n",
      "  y = column_or_1d(y, warn=True)\n",
      "/home/wopr/.local/lib/python3.6/site-packages/sklearn/preprocessing/label.py:252: DataConversionWarning: A column-vector y was passed when a 1d array was expected. Please change the shape of y to (n_samples, ), for example using ravel().\n",
      "  y = column_or_1d(y, warn=True)\n"
     ]
    },
    {
     "name": "stdout",
     "output_type": "stream",
     "text": [
      "Training until validation scores don't improve for 100 rounds.\n",
      "[100]\tvalid's auc: 0.756906\n",
      "[200]\tvalid's auc: 0.781629\n",
      "[300]\tvalid's auc: 0.794706\n",
      "[400]\tvalid's auc: 0.800335\n",
      "[500]\tvalid's auc: 0.804989\n",
      "[600]\tvalid's auc: 0.807248\n",
      "[700]\tvalid's auc: 0.809233\n",
      "[800]\tvalid's auc: 0.810252\n",
      "[900]\tvalid's auc: 0.811064\n",
      "[1000]\tvalid's auc: 0.81199\n",
      "[1100]\tvalid's auc: 0.81232\n",
      "[1200]\tvalid's auc: 0.812759\n",
      "[1300]\tvalid's auc: 0.813265\n",
      "[1400]\tvalid's auc: 0.813419\n",
      "[1500]\tvalid's auc: 0.813997\n",
      "[1600]\tvalid's auc: 0.814258\n",
      "[1700]\tvalid's auc: 0.814326\n",
      "[1800]\tvalid's auc: 0.814656\n",
      "[1900]\tvalid's auc: 0.815403\n",
      "[2000]\tvalid's auc: 0.81586\n",
      "[2100]\tvalid's auc: 0.816147\n",
      "[2200]\tvalid's auc: 0.816342\n",
      "[2300]\tvalid's auc: 0.816472\n",
      "[2400]\tvalid's auc: 0.816554\n",
      "[2500]\tvalid's auc: 0.816763\n",
      "[2600]\tvalid's auc: 0.816844\n",
      "[2700]\tvalid's auc: 0.816937\n",
      "[2800]\tvalid's auc: 0.817046\n",
      "Early stopping, best iteration is:\n",
      "[2768]\tvalid's auc: 0.817116\n"
     ]
    },
    {
     "name": "stderr",
     "output_type": "stream",
     "text": [
      "/home/wopr/.local/lib/python3.6/site-packages/sklearn/preprocessing/label.py:219: DataConversionWarning: A column-vector y was passed when a 1d array was expected. Please change the shape of y to (n_samples, ), for example using ravel().\n",
      "  y = column_or_1d(y, warn=True)\n",
      "/home/wopr/.local/lib/python3.6/site-packages/sklearn/preprocessing/label.py:252: DataConversionWarning: A column-vector y was passed when a 1d array was expected. Please change the shape of y to (n_samples, ), for example using ravel().\n",
      "  y = column_or_1d(y, warn=True)\n"
     ]
    },
    {
     "name": "stdout",
     "output_type": "stream",
     "text": [
      "Training until validation scores don't improve for 100 rounds.\n",
      "[100]\tvalid's auc: 0.724884\n",
      "[200]\tvalid's auc: 0.753766\n",
      "[300]\tvalid's auc: 0.771995\n",
      "[400]\tvalid's auc: 0.782163\n",
      "[500]\tvalid's auc: 0.789536\n",
      "[600]\tvalid's auc: 0.794859\n",
      "[700]\tvalid's auc: 0.798604\n",
      "[800]\tvalid's auc: 0.802215\n",
      "[900]\tvalid's auc: 0.804351\n",
      "[1000]\tvalid's auc: 0.806203\n",
      "[1100]\tvalid's auc: 0.8071\n",
      "[1200]\tvalid's auc: 0.808478\n",
      "[1300]\tvalid's auc: 0.809645\n",
      "[1400]\tvalid's auc: 0.810693\n",
      "[1500]\tvalid's auc: 0.811289\n",
      "[1600]\tvalid's auc: 0.811693\n",
      "[1700]\tvalid's auc: 0.812253\n",
      "[1800]\tvalid's auc: 0.812362\n",
      "[1900]\tvalid's auc: 0.812708\n",
      "Early stopping, best iteration is:\n",
      "[1856]\tvalid's auc: 0.81279\n"
     ]
    },
    {
     "name": "stderr",
     "output_type": "stream",
     "text": [
      "/home/wopr/.local/lib/python3.6/site-packages/sklearn/preprocessing/label.py:219: DataConversionWarning: A column-vector y was passed when a 1d array was expected. Please change the shape of y to (n_samples, ), for example using ravel().\n",
      "  y = column_or_1d(y, warn=True)\n",
      "/home/wopr/.local/lib/python3.6/site-packages/sklearn/preprocessing/label.py:252: DataConversionWarning: A column-vector y was passed when a 1d array was expected. Please change the shape of y to (n_samples, ), for example using ravel().\n",
      "  y = column_or_1d(y, warn=True)\n"
     ]
    },
    {
     "name": "stdout",
     "output_type": "stream",
     "text": [
      "Training until validation scores don't improve for 100 rounds.\n",
      "[100]\tvalid's auc: 0.725815\n",
      "[200]\tvalid's auc: 0.754615\n",
      "[300]\tvalid's auc: 0.770497\n",
      "[400]\tvalid's auc: 0.780453\n",
      "[500]\tvalid's auc: 0.787721\n",
      "[600]\tvalid's auc: 0.792655\n",
      "[700]\tvalid's auc: 0.796578\n",
      "[800]\tvalid's auc: 0.799994\n",
      "[900]\tvalid's auc: 0.802477\n",
      "[1000]\tvalid's auc: 0.804491\n",
      "[1100]\tvalid's auc: 0.805607\n",
      "[1200]\tvalid's auc: 0.807374\n",
      "[1300]\tvalid's auc: 0.808305\n",
      "[1400]\tvalid's auc: 0.809243\n",
      "[1500]\tvalid's auc: 0.809568\n",
      "[1600]\tvalid's auc: 0.810062\n",
      "[1700]\tvalid's auc: 0.811205\n",
      "[1800]\tvalid's auc: 0.81141\n",
      "[1900]\tvalid's auc: 0.811847\n",
      "[2000]\tvalid's auc: 0.812366\n",
      "[2100]\tvalid's auc: 0.812288\n",
      "Early stopping, best iteration is:\n",
      "[2037]\tvalid's auc: 0.812468\n"
     ]
    },
    {
     "name": "stderr",
     "output_type": "stream",
     "text": [
      "/home/wopr/.local/lib/python3.6/site-packages/sklearn/preprocessing/label.py:219: DataConversionWarning: A column-vector y was passed when a 1d array was expected. Please change the shape of y to (n_samples, ), for example using ravel().\n",
      "  y = column_or_1d(y, warn=True)\n",
      "/home/wopr/.local/lib/python3.6/site-packages/sklearn/preprocessing/label.py:252: DataConversionWarning: A column-vector y was passed when a 1d array was expected. Please change the shape of y to (n_samples, ), for example using ravel().\n",
      "  y = column_or_1d(y, warn=True)\n"
     ]
    },
    {
     "name": "stdout",
     "output_type": "stream",
     "text": [
      "Training until validation scores don't improve for 100 rounds.\n",
      "[100]\tvalid's auc: 0.724647\n",
      "[200]\tvalid's auc: 0.754885\n",
      "[300]\tvalid's auc: 0.770347\n",
      "[400]\tvalid's auc: 0.781246\n",
      "[500]\tvalid's auc: 0.787802\n",
      "[600]\tvalid's auc: 0.792632\n",
      "[700]\tvalid's auc: 0.79663\n",
      "[800]\tvalid's auc: 0.799568\n",
      "[900]\tvalid's auc: 0.802075\n",
      "[1000]\tvalid's auc: 0.803968\n",
      "[1100]\tvalid's auc: 0.80565\n",
      "[1200]\tvalid's auc: 0.806248\n",
      "[1300]\tvalid's auc: 0.807312\n",
      "[1400]\tvalid's auc: 0.808052\n",
      "[1500]\tvalid's auc: 0.808773\n",
      "[1600]\tvalid's auc: 0.809497\n",
      "[1700]\tvalid's auc: 0.810121\n",
      "[1800]\tvalid's auc: 0.81046\n",
      "[1900]\tvalid's auc: 0.811199\n",
      "[2000]\tvalid's auc: 0.811481\n",
      "[2100]\tvalid's auc: 0.811647\n",
      "[2200]\tvalid's auc: 0.812134\n",
      "[2300]\tvalid's auc: 0.812079\n",
      "Early stopping, best iteration is:\n",
      "[2235]\tvalid's auc: 0.812235\n"
     ]
    },
    {
     "name": "stderr",
     "output_type": "stream",
     "text": [
      "/home/wopr/.local/lib/python3.6/site-packages/sklearn/preprocessing/label.py:219: DataConversionWarning: A column-vector y was passed when a 1d array was expected. Please change the shape of y to (n_samples, ), for example using ravel().\n",
      "  y = column_or_1d(y, warn=True)\n",
      "/home/wopr/.local/lib/python3.6/site-packages/sklearn/preprocessing/label.py:252: DataConversionWarning: A column-vector y was passed when a 1d array was expected. Please change the shape of y to (n_samples, ), for example using ravel().\n",
      "  y = column_or_1d(y, warn=True)\n"
     ]
    },
    {
     "name": "stdout",
     "output_type": "stream",
     "text": [
      "Training until validation scores don't improve for 100 rounds.\n",
      "[100]\tvalid's auc: 0.723766\n",
      "[200]\tvalid's auc: 0.753997\n",
      "[300]\tvalid's auc: 0.77002\n",
      "[400]\tvalid's auc: 0.780322\n",
      "[500]\tvalid's auc: 0.787754\n",
      "[600]\tvalid's auc: 0.792333\n",
      "[700]\tvalid's auc: 0.796128\n",
      "[800]\tvalid's auc: 0.799056\n",
      "[900]\tvalid's auc: 0.800836\n",
      "[1000]\tvalid's auc: 0.802012\n",
      "[1100]\tvalid's auc: 0.802657\n",
      "[1200]\tvalid's auc: 0.803411\n",
      "[1300]\tvalid's auc: 0.804329\n",
      "[1400]\tvalid's auc: 0.804699\n",
      "[1500]\tvalid's auc: 0.805692\n",
      "[1600]\tvalid's auc: 0.806166\n",
      "[1700]\tvalid's auc: 0.806723\n",
      "[1800]\tvalid's auc: 0.807149\n",
      "[1900]\tvalid's auc: 0.807631\n",
      "[2000]\tvalid's auc: 0.808353\n",
      "[2100]\tvalid's auc: 0.80899\n",
      "[2200]\tvalid's auc: 0.809145\n",
      "[2300]\tvalid's auc: 0.809352\n",
      "[2400]\tvalid's auc: 0.809783\n",
      "Early stopping, best iteration is:\n",
      "[2364]\tvalid's auc: 0.809854\n"
     ]
    },
    {
     "name": "stderr",
     "output_type": "stream",
     "text": [
      "/home/wopr/.local/lib/python3.6/site-packages/sklearn/preprocessing/label.py:219: DataConversionWarning: A column-vector y was passed when a 1d array was expected. Please change the shape of y to (n_samples, ), for example using ravel().\n",
      "  y = column_or_1d(y, warn=True)\n",
      "/home/wopr/.local/lib/python3.6/site-packages/sklearn/preprocessing/label.py:252: DataConversionWarning: A column-vector y was passed when a 1d array was expected. Please change the shape of y to (n_samples, ), for example using ravel().\n",
      "  y = column_or_1d(y, warn=True)\n"
     ]
    },
    {
     "name": "stdout",
     "output_type": "stream",
     "text": [
      "Training until validation scores don't improve for 100 rounds.\n",
      "[100]\tvalid's auc: 0.727493\n",
      "[200]\tvalid's auc: 0.754781\n",
      "[300]\tvalid's auc: 0.770933\n",
      "[400]\tvalid's auc: 0.781763\n",
      "[500]\tvalid's auc: 0.788823\n",
      "[600]\tvalid's auc: 0.793234\n",
      "[700]\tvalid's auc: 0.796538\n",
      "[800]\tvalid's auc: 0.798918\n",
      "[900]\tvalid's auc: 0.801319\n",
      "[1000]\tvalid's auc: 0.803167\n",
      "[1100]\tvalid's auc: 0.804786\n",
      "[1200]\tvalid's auc: 0.805621\n",
      "[1300]\tvalid's auc: 0.806498\n",
      "[1400]\tvalid's auc: 0.80771\n",
      "[1500]\tvalid's auc: 0.808336\n",
      "[1600]\tvalid's auc: 0.809021\n",
      "[1700]\tvalid's auc: 0.809422\n",
      "[1800]\tvalid's auc: 0.810063\n",
      "[1900]\tvalid's auc: 0.809811\n",
      "Early stopping, best iteration is:\n",
      "[1801]\tvalid's auc: 0.810067\n"
     ]
    },
    {
     "name": "stderr",
     "output_type": "stream",
     "text": [
      "/home/wopr/.local/lib/python3.6/site-packages/sklearn/preprocessing/label.py:219: DataConversionWarning: A column-vector y was passed when a 1d array was expected. Please change the shape of y to (n_samples, ), for example using ravel().\n",
      "  y = column_or_1d(y, warn=True)\n",
      "/home/wopr/.local/lib/python3.6/site-packages/sklearn/preprocessing/label.py:252: DataConversionWarning: A column-vector y was passed when a 1d array was expected. Please change the shape of y to (n_samples, ), for example using ravel().\n",
      "  y = column_or_1d(y, warn=True)\n"
     ]
    },
    {
     "name": "stdout",
     "output_type": "stream",
     "text": [
      "Training until validation scores don't improve for 100 rounds.\n",
      "[100]\tvalid's auc: 0.727282\n",
      "[200]\tvalid's auc: 0.75652\n",
      "[300]\tvalid's auc: 0.771469\n",
      "[400]\tvalid's auc: 0.782016\n",
      "[500]\tvalid's auc: 0.78846\n",
      "[600]\tvalid's auc: 0.793105\n",
      "[700]\tvalid's auc: 0.796329\n",
      "[800]\tvalid's auc: 0.799233\n",
      "[900]\tvalid's auc: 0.801135\n",
      "[1000]\tvalid's auc: 0.802209\n",
      "[1100]\tvalid's auc: 0.804094\n",
      "[1200]\tvalid's auc: 0.805229\n",
      "[1300]\tvalid's auc: 0.806313\n",
      "[1400]\tvalid's auc: 0.807211\n",
      "[1500]\tvalid's auc: 0.80791\n",
      "[1600]\tvalid's auc: 0.808702\n",
      "[1700]\tvalid's auc: 0.809092\n",
      "[1800]\tvalid's auc: 0.809972\n",
      "[1900]\tvalid's auc: 0.810057\n",
      "Early stopping, best iteration is:\n",
      "[1883]\tvalid's auc: 0.810154\n"
     ]
    },
    {
     "name": "stderr",
     "output_type": "stream",
     "text": [
      "/home/wopr/.local/lib/python3.6/site-packages/sklearn/preprocessing/label.py:219: DataConversionWarning: A column-vector y was passed when a 1d array was expected. Please change the shape of y to (n_samples, ), for example using ravel().\n",
      "  y = column_or_1d(y, warn=True)\n",
      "/home/wopr/.local/lib/python3.6/site-packages/sklearn/preprocessing/label.py:252: DataConversionWarning: A column-vector y was passed when a 1d array was expected. Please change the shape of y to (n_samples, ), for example using ravel().\n",
      "  y = column_or_1d(y, warn=True)\n"
     ]
    },
    {
     "name": "stdout",
     "output_type": "stream",
     "text": [
      "Training until validation scores don't improve for 100 rounds.\n",
      "[100]\tvalid's auc: 0.752551\n",
      "[200]\tvalid's auc: 0.777927\n",
      "[300]\tvalid's auc: 0.790527\n",
      "[400]\tvalid's auc: 0.797776\n",
      "[500]\tvalid's auc: 0.801443\n",
      "[600]\tvalid's auc: 0.804374\n",
      "[700]\tvalid's auc: 0.806966\n",
      "[800]\tvalid's auc: 0.808948\n",
      "[900]\tvalid's auc: 0.809992\n",
      "[1000]\tvalid's auc: 0.810772\n",
      "[1100]\tvalid's auc: 0.811486\n",
      "[1200]\tvalid's auc: 0.812044\n",
      "[1300]\tvalid's auc: 0.81269\n",
      "[1400]\tvalid's auc: 0.81321\n",
      "[1500]\tvalid's auc: 0.813549\n",
      "Early stopping, best iteration is:\n",
      "[1431]\tvalid's auc: 0.813549\n"
     ]
    },
    {
     "name": "stderr",
     "output_type": "stream",
     "text": [
      "/home/wopr/.local/lib/python3.6/site-packages/sklearn/preprocessing/label.py:219: DataConversionWarning: A column-vector y was passed when a 1d array was expected. Please change the shape of y to (n_samples, ), for example using ravel().\n",
      "  y = column_or_1d(y, warn=True)\n",
      "/home/wopr/.local/lib/python3.6/site-packages/sklearn/preprocessing/label.py:252: DataConversionWarning: A column-vector y was passed when a 1d array was expected. Please change the shape of y to (n_samples, ), for example using ravel().\n",
      "  y = column_or_1d(y, warn=True)\n"
     ]
    },
    {
     "name": "stdout",
     "output_type": "stream",
     "text": [
      "Training until validation scores don't improve for 100 rounds.\n",
      "[100]\tvalid's auc: 0.753029\n",
      "[200]\tvalid's auc: 0.777051\n",
      "[300]\tvalid's auc: 0.790222\n",
      "[400]\tvalid's auc: 0.798176\n",
      "[500]\tvalid's auc: 0.80156\n",
      "[600]\tvalid's auc: 0.804725\n",
      "[700]\tvalid's auc: 0.8065\n",
      "[800]\tvalid's auc: 0.808102\n",
      "[900]\tvalid's auc: 0.809592\n",
      "[1000]\tvalid's auc: 0.810287\n",
      "[1100]\tvalid's auc: 0.810866\n",
      "[1200]\tvalid's auc: 0.811279\n",
      "[1300]\tvalid's auc: 0.81174\n",
      "[1400]\tvalid's auc: 0.81222\n",
      "[1500]\tvalid's auc: 0.812268\n",
      "Early stopping, best iteration is:\n",
      "[1497]\tvalid's auc: 0.812314\n"
     ]
    },
    {
     "name": "stderr",
     "output_type": "stream",
     "text": [
      "/home/wopr/.local/lib/python3.6/site-packages/sklearn/preprocessing/label.py:219: DataConversionWarning: A column-vector y was passed when a 1d array was expected. Please change the shape of y to (n_samples, ), for example using ravel().\n",
      "  y = column_or_1d(y, warn=True)\n",
      "/home/wopr/.local/lib/python3.6/site-packages/sklearn/preprocessing/label.py:252: DataConversionWarning: A column-vector y was passed when a 1d array was expected. Please change the shape of y to (n_samples, ), for example using ravel().\n",
      "  y = column_or_1d(y, warn=True)\n"
     ]
    },
    {
     "name": "stdout",
     "output_type": "stream",
     "text": [
      "Training until validation scores don't improve for 100 rounds.\n",
      "[100]\tvalid's auc: 0.748266\n",
      "[200]\tvalid's auc: 0.773621\n",
      "[300]\tvalid's auc: 0.78663\n",
      "[400]\tvalid's auc: 0.79465\n",
      "[500]\tvalid's auc: 0.799401\n",
      "[600]\tvalid's auc: 0.803415\n",
      "[700]\tvalid's auc: 0.805927\n",
      "[800]\tvalid's auc: 0.807817\n",
      "[900]\tvalid's auc: 0.809221\n",
      "[1000]\tvalid's auc: 0.810124\n",
      "[1100]\tvalid's auc: 0.810625\n",
      "[1200]\tvalid's auc: 0.811556\n",
      "[1300]\tvalid's auc: 0.811769\n",
      "[1400]\tvalid's auc: 0.811857\n",
      "Early stopping, best iteration is:\n",
      "[1319]\tvalid's auc: 0.812083\n"
     ]
    },
    {
     "name": "stderr",
     "output_type": "stream",
     "text": [
      "/home/wopr/.local/lib/python3.6/site-packages/sklearn/preprocessing/label.py:219: DataConversionWarning: A column-vector y was passed when a 1d array was expected. Please change the shape of y to (n_samples, ), for example using ravel().\n",
      "  y = column_or_1d(y, warn=True)\n",
      "/home/wopr/.local/lib/python3.6/site-packages/sklearn/preprocessing/label.py:252: DataConversionWarning: A column-vector y was passed when a 1d array was expected. Please change the shape of y to (n_samples, ), for example using ravel().\n",
      "  y = column_or_1d(y, warn=True)\n"
     ]
    },
    {
     "name": "stdout",
     "output_type": "stream",
     "text": [
      "Training until validation scores don't improve for 100 rounds.\n",
      "[100]\tvalid's auc: 0.5\n",
      "Early stopping, best iteration is:\n",
      "[1]\tvalid's auc: 0.5\n"
     ]
    },
    {
     "name": "stderr",
     "output_type": "stream",
     "text": [
      "/home/wopr/.local/lib/python3.6/site-packages/sklearn/preprocessing/label.py:219: DataConversionWarning: A column-vector y was passed when a 1d array was expected. Please change the shape of y to (n_samples, ), for example using ravel().\n",
      "  y = column_or_1d(y, warn=True)\n",
      "/home/wopr/.local/lib/python3.6/site-packages/sklearn/preprocessing/label.py:252: DataConversionWarning: A column-vector y was passed when a 1d array was expected. Please change the shape of y to (n_samples, ), for example using ravel().\n",
      "  y = column_or_1d(y, warn=True)\n"
     ]
    },
    {
     "name": "stdout",
     "output_type": "stream",
     "text": [
      "Training until validation scores don't improve for 100 rounds.\n",
      "[100]\tvalid's auc: 0.5\n",
      "Early stopping, best iteration is:\n",
      "[1]\tvalid's auc: 0.5\n"
     ]
    },
    {
     "name": "stderr",
     "output_type": "stream",
     "text": [
      "/home/wopr/.local/lib/python3.6/site-packages/sklearn/preprocessing/label.py:219: DataConversionWarning: A column-vector y was passed when a 1d array was expected. Please change the shape of y to (n_samples, ), for example using ravel().\n",
      "  y = column_or_1d(y, warn=True)\n",
      "/home/wopr/.local/lib/python3.6/site-packages/sklearn/preprocessing/label.py:252: DataConversionWarning: A column-vector y was passed when a 1d array was expected. Please change the shape of y to (n_samples, ), for example using ravel().\n",
      "  y = column_or_1d(y, warn=True)\n"
     ]
    },
    {
     "name": "stdout",
     "output_type": "stream",
     "text": [
      "Training until validation scores don't improve for 100 rounds.\n",
      "[100]\tvalid's auc: 0.5\n",
      "Early stopping, best iteration is:\n",
      "[1]\tvalid's auc: 0.5\n"
     ]
    },
    {
     "name": "stderr",
     "output_type": "stream",
     "text": [
      "/home/wopr/.local/lib/python3.6/site-packages/sklearn/preprocessing/label.py:219: DataConversionWarning: A column-vector y was passed when a 1d array was expected. Please change the shape of y to (n_samples, ), for example using ravel().\n",
      "  y = column_or_1d(y, warn=True)\n",
      "/home/wopr/.local/lib/python3.6/site-packages/sklearn/preprocessing/label.py:252: DataConversionWarning: A column-vector y was passed when a 1d array was expected. Please change the shape of y to (n_samples, ), for example using ravel().\n",
      "  y = column_or_1d(y, warn=True)\n"
     ]
    },
    {
     "name": "stdout",
     "output_type": "stream",
     "text": [
      "Training until validation scores don't improve for 100 rounds.\n",
      "[100]\tvalid's auc: 0.729666\n",
      "[200]\tvalid's auc: 0.759471\n",
      "[300]\tvalid's auc: 0.774557\n",
      "[400]\tvalid's auc: 0.784415\n",
      "[500]\tvalid's auc: 0.791555\n",
      "[600]\tvalid's auc: 0.795817\n",
      "[700]\tvalid's auc: 0.799789\n",
      "[800]\tvalid's auc: 0.802805\n",
      "[900]\tvalid's auc: 0.805343\n",
      "[1000]\tvalid's auc: 0.806784\n",
      "[1100]\tvalid's auc: 0.808905\n",
      "[1200]\tvalid's auc: 0.809968\n",
      "[1300]\tvalid's auc: 0.811208\n",
      "[1400]\tvalid's auc: 0.812055\n",
      "[1500]\tvalid's auc: 0.812952\n",
      "[1600]\tvalid's auc: 0.813763\n",
      "[1700]\tvalid's auc: 0.814387\n",
      "[1800]\tvalid's auc: 0.814889\n",
      "[1900]\tvalid's auc: 0.815056\n",
      "[2000]\tvalid's auc: 0.815407\n",
      "[2100]\tvalid's auc: 0.815511\n",
      "[2200]\tvalid's auc: 0.815741\n",
      "[2300]\tvalid's auc: 0.815962\n",
      "Early stopping, best iteration is:\n",
      "[2265]\tvalid's auc: 0.816096\n"
     ]
    },
    {
     "name": "stderr",
     "output_type": "stream",
     "text": [
      "/home/wopr/.local/lib/python3.6/site-packages/sklearn/preprocessing/label.py:219: DataConversionWarning: A column-vector y was passed when a 1d array was expected. Please change the shape of y to (n_samples, ), for example using ravel().\n",
      "  y = column_or_1d(y, warn=True)\n",
      "/home/wopr/.local/lib/python3.6/site-packages/sklearn/preprocessing/label.py:252: DataConversionWarning: A column-vector y was passed when a 1d array was expected. Please change the shape of y to (n_samples, ), for example using ravel().\n",
      "  y = column_or_1d(y, warn=True)\n"
     ]
    },
    {
     "name": "stdout",
     "output_type": "stream",
     "text": [
      "Training until validation scores don't improve for 100 rounds.\n",
      "[100]\tvalid's auc: 0.730412\n",
      "[200]\tvalid's auc: 0.757136\n",
      "[300]\tvalid's auc: 0.771748\n",
      "[400]\tvalid's auc: 0.781967\n",
      "[500]\tvalid's auc: 0.789209\n",
      "[600]\tvalid's auc: 0.794715\n",
      "[700]\tvalid's auc: 0.798446\n",
      "[800]\tvalid's auc: 0.801928\n",
      "[900]\tvalid's auc: 0.80408\n",
      "[1000]\tvalid's auc: 0.806264\n",
      "[1100]\tvalid's auc: 0.807437\n",
      "[1200]\tvalid's auc: 0.808955\n",
      "[1300]\tvalid's auc: 0.810273\n",
      "[1400]\tvalid's auc: 0.811126\n",
      "[1500]\tvalid's auc: 0.811929\n",
      "[1600]\tvalid's auc: 0.812525\n",
      "[1700]\tvalid's auc: 0.813468\n",
      "[1800]\tvalid's auc: 0.813846\n",
      "[1900]\tvalid's auc: 0.814445\n",
      "[2000]\tvalid's auc: 0.814913\n",
      "[2100]\tvalid's auc: 0.815206\n",
      "[2200]\tvalid's auc: 0.815356\n",
      "[2300]\tvalid's auc: 0.815602\n",
      "[2400]\tvalid's auc: 0.815898\n",
      "[2500]\tvalid's auc: 0.815636\n",
      "Early stopping, best iteration is:\n",
      "[2434]\tvalid's auc: 0.816061\n"
     ]
    },
    {
     "name": "stderr",
     "output_type": "stream",
     "text": [
      "/home/wopr/.local/lib/python3.6/site-packages/sklearn/preprocessing/label.py:219: DataConversionWarning: A column-vector y was passed when a 1d array was expected. Please change the shape of y to (n_samples, ), for example using ravel().\n",
      "  y = column_or_1d(y, warn=True)\n",
      "/home/wopr/.local/lib/python3.6/site-packages/sklearn/preprocessing/label.py:252: DataConversionWarning: A column-vector y was passed when a 1d array was expected. Please change the shape of y to (n_samples, ), for example using ravel().\n",
      "  y = column_or_1d(y, warn=True)\n"
     ]
    },
    {
     "name": "stdout",
     "output_type": "stream",
     "text": [
      "Training until validation scores don't improve for 100 rounds.\n",
      "[100]\tvalid's auc: 0.728354\n",
      "[200]\tvalid's auc: 0.75615\n",
      "[300]\tvalid's auc: 0.771588\n",
      "[400]\tvalid's auc: 0.781143\n",
      "[500]\tvalid's auc: 0.78802\n",
      "[600]\tvalid's auc: 0.792575\n",
      "[700]\tvalid's auc: 0.796719\n",
      "[800]\tvalid's auc: 0.799348\n",
      "[900]\tvalid's auc: 0.801965\n",
      "[1000]\tvalid's auc: 0.804157\n",
      "[1100]\tvalid's auc: 0.806095\n",
      "[1200]\tvalid's auc: 0.807387\n",
      "[1300]\tvalid's auc: 0.80856\n",
      "[1400]\tvalid's auc: 0.809438\n",
      "[1500]\tvalid's auc: 0.810487\n",
      "[1600]\tvalid's auc: 0.811171\n",
      "[1700]\tvalid's auc: 0.811781\n",
      "[1800]\tvalid's auc: 0.81278\n",
      "[1900]\tvalid's auc: 0.81342\n",
      "[2000]\tvalid's auc: 0.813904\n",
      "[2100]\tvalid's auc: 0.814607\n",
      "[2200]\tvalid's auc: 0.815043\n",
      "[2300]\tvalid's auc: 0.815172\n",
      "[2400]\tvalid's auc: 0.815578\n",
      "[2500]\tvalid's auc: 0.815408\n",
      "Early stopping, best iteration is:\n",
      "[2410]\tvalid's auc: 0.815661\n"
     ]
    },
    {
     "name": "stderr",
     "output_type": "stream",
     "text": [
      "/home/wopr/.local/lib/python3.6/site-packages/sklearn/preprocessing/label.py:219: DataConversionWarning: A column-vector y was passed when a 1d array was expected. Please change the shape of y to (n_samples, ), for example using ravel().\n",
      "  y = column_or_1d(y, warn=True)\n",
      "/home/wopr/.local/lib/python3.6/site-packages/sklearn/preprocessing/label.py:252: DataConversionWarning: A column-vector y was passed when a 1d array was expected. Please change the shape of y to (n_samples, ), for example using ravel().\n",
      "  y = column_or_1d(y, warn=True)\n"
     ]
    },
    {
     "name": "stdout",
     "output_type": "stream",
     "text": [
      "Training until validation scores don't improve for 100 rounds.\n",
      "[100]\tvalid's auc: 0.753259\n",
      "[200]\tvalid's auc: 0.778777\n",
      "[300]\tvalid's auc: 0.791267\n",
      "[400]\tvalid's auc: 0.798555\n",
      "[500]\tvalid's auc: 0.80241\n",
      "[600]\tvalid's auc: 0.806038\n",
      "[700]\tvalid's auc: 0.808835\n",
      "[800]\tvalid's auc: 0.810526\n",
      "[900]\tvalid's auc: 0.812287\n",
      "[1000]\tvalid's auc: 0.81307\n",
      "[1100]\tvalid's auc: 0.814223\n",
      "[1200]\tvalid's auc: 0.814796\n",
      "[1300]\tvalid's auc: 0.815152\n",
      "[1400]\tvalid's auc: 0.815765\n",
      "Early stopping, best iteration is:\n",
      "[1378]\tvalid's auc: 0.815795\n"
     ]
    },
    {
     "name": "stderr",
     "output_type": "stream",
     "text": [
      "/home/wopr/.local/lib/python3.6/site-packages/sklearn/preprocessing/label.py:219: DataConversionWarning: A column-vector y was passed when a 1d array was expected. Please change the shape of y to (n_samples, ), for example using ravel().\n",
      "  y = column_or_1d(y, warn=True)\n",
      "/home/wopr/.local/lib/python3.6/site-packages/sklearn/preprocessing/label.py:252: DataConversionWarning: A column-vector y was passed when a 1d array was expected. Please change the shape of y to (n_samples, ), for example using ravel().\n",
      "  y = column_or_1d(y, warn=True)\n"
     ]
    },
    {
     "name": "stdout",
     "output_type": "stream",
     "text": [
      "Training until validation scores don't improve for 100 rounds.\n",
      "[100]\tvalid's auc: 0.751588\n",
      "[200]\tvalid's auc: 0.775619\n",
      "[300]\tvalid's auc: 0.788416\n",
      "[400]\tvalid's auc: 0.796107\n",
      "[500]\tvalid's auc: 0.800846\n",
      "[600]\tvalid's auc: 0.803637\n",
      "[700]\tvalid's auc: 0.806638\n",
      "[800]\tvalid's auc: 0.809336\n",
      "[900]\tvalid's auc: 0.810766\n",
      "[1000]\tvalid's auc: 0.811577\n",
      "[1100]\tvalid's auc: 0.812474\n",
      "[1200]\tvalid's auc: 0.812908\n",
      "[1300]\tvalid's auc: 0.81364\n",
      "[1400]\tvalid's auc: 0.814245\n",
      "[1500]\tvalid's auc: 0.814494\n",
      "Early stopping, best iteration is:\n",
      "[1452]\tvalid's auc: 0.814513\n"
     ]
    },
    {
     "name": "stderr",
     "output_type": "stream",
     "text": [
      "/home/wopr/.local/lib/python3.6/site-packages/sklearn/preprocessing/label.py:219: DataConversionWarning: A column-vector y was passed when a 1d array was expected. Please change the shape of y to (n_samples, ), for example using ravel().\n",
      "  y = column_or_1d(y, warn=True)\n",
      "/home/wopr/.local/lib/python3.6/site-packages/sklearn/preprocessing/label.py:252: DataConversionWarning: A column-vector y was passed when a 1d array was expected. Please change the shape of y to (n_samples, ), for example using ravel().\n",
      "  y = column_or_1d(y, warn=True)\n"
     ]
    },
    {
     "name": "stdout",
     "output_type": "stream",
     "text": [
      "Training until validation scores don't improve for 100 rounds.\n",
      "[100]\tvalid's auc: 0.752116\n",
      "[200]\tvalid's auc: 0.777102\n",
      "[300]\tvalid's auc: 0.788889\n",
      "[400]\tvalid's auc: 0.796255\n",
      "[500]\tvalid's auc: 0.802558\n",
      "[600]\tvalid's auc: 0.805653\n",
      "[700]\tvalid's auc: 0.808428\n",
      "[800]\tvalid's auc: 0.810417\n",
      "[900]\tvalid's auc: 0.811439\n",
      "[1000]\tvalid's auc: 0.812613\n",
      "[1100]\tvalid's auc: 0.813399\n",
      "[1200]\tvalid's auc: 0.813997\n",
      "[1300]\tvalid's auc: 0.814753\n",
      "[1400]\tvalid's auc: 0.815475\n",
      "[1500]\tvalid's auc: 0.815563\n",
      "Early stopping, best iteration is:\n",
      "[1450]\tvalid's auc: 0.815568\n"
     ]
    },
    {
     "name": "stderr",
     "output_type": "stream",
     "text": [
      "/home/wopr/.local/lib/python3.6/site-packages/sklearn/preprocessing/label.py:219: DataConversionWarning: A column-vector y was passed when a 1d array was expected. Please change the shape of y to (n_samples, ), for example using ravel().\n",
      "  y = column_or_1d(y, warn=True)\n",
      "/home/wopr/.local/lib/python3.6/site-packages/sklearn/preprocessing/label.py:252: DataConversionWarning: A column-vector y was passed when a 1d array was expected. Please change the shape of y to (n_samples, ), for example using ravel().\n",
      "  y = column_or_1d(y, warn=True)\n"
     ]
    },
    {
     "name": "stdout",
     "output_type": "stream",
     "text": [
      "Training until validation scores don't improve for 100 rounds.\n",
      "[100]\tvalid's auc: 0.746243\n",
      "[200]\tvalid's auc: 0.77451\n",
      "[300]\tvalid's auc: 0.788952\n",
      "[400]\tvalid's auc: 0.796431\n",
      "[500]\tvalid's auc: 0.801851\n",
      "[600]\tvalid's auc: 0.804605\n",
      "[700]\tvalid's auc: 0.805926\n",
      "[800]\tvalid's auc: 0.806361\n",
      "[900]\tvalid's auc: 0.807501\n",
      "[1000]\tvalid's auc: 0.807716\n",
      "[1100]\tvalid's auc: 0.807996\n",
      "Early stopping, best iteration is:\n",
      "[1086]\tvalid's auc: 0.808082\n"
     ]
    },
    {
     "name": "stderr",
     "output_type": "stream",
     "text": [
      "/home/wopr/.local/lib/python3.6/site-packages/sklearn/preprocessing/label.py:219: DataConversionWarning: A column-vector y was passed when a 1d array was expected. Please change the shape of y to (n_samples, ), for example using ravel().\n",
      "  y = column_or_1d(y, warn=True)\n",
      "/home/wopr/.local/lib/python3.6/site-packages/sklearn/preprocessing/label.py:252: DataConversionWarning: A column-vector y was passed when a 1d array was expected. Please change the shape of y to (n_samples, ), for example using ravel().\n",
      "  y = column_or_1d(y, warn=True)\n"
     ]
    },
    {
     "name": "stdout",
     "output_type": "stream",
     "text": [
      "Training until validation scores don't improve for 100 rounds.\n",
      "[100]\tvalid's auc: 0.746366\n",
      "[200]\tvalid's auc: 0.773347\n",
      "[300]\tvalid's auc: 0.788916\n",
      "[400]\tvalid's auc: 0.797557\n",
      "[500]\tvalid's auc: 0.802627\n",
      "[600]\tvalid's auc: 0.804804\n",
      "[700]\tvalid's auc: 0.805775\n",
      "[800]\tvalid's auc: 0.806512\n",
      "[900]\tvalid's auc: 0.806997\n",
      "[1000]\tvalid's auc: 0.806706\n",
      "[1100]\tvalid's auc: 0.807808\n",
      "[1200]\tvalid's auc: 0.808162\n",
      "[1300]\tvalid's auc: 0.808484\n",
      "Early stopping, best iteration is:\n",
      "[1233]\tvalid's auc: 0.808535\n"
     ]
    },
    {
     "name": "stderr",
     "output_type": "stream",
     "text": [
      "/home/wopr/.local/lib/python3.6/site-packages/sklearn/preprocessing/label.py:219: DataConversionWarning: A column-vector y was passed when a 1d array was expected. Please change the shape of y to (n_samples, ), for example using ravel().\n",
      "  y = column_or_1d(y, warn=True)\n",
      "/home/wopr/.local/lib/python3.6/site-packages/sklearn/preprocessing/label.py:252: DataConversionWarning: A column-vector y was passed when a 1d array was expected. Please change the shape of y to (n_samples, ), for example using ravel().\n",
      "  y = column_or_1d(y, warn=True)\n"
     ]
    },
    {
     "name": "stdout",
     "output_type": "stream",
     "text": [
      "Training until validation scores don't improve for 100 rounds.\n",
      "[100]\tvalid's auc: 0.748782\n",
      "[200]\tvalid's auc: 0.774664\n",
      "[300]\tvalid's auc: 0.788463\n",
      "[400]\tvalid's auc: 0.795695\n",
      "[500]\tvalid's auc: 0.799032\n",
      "[600]\tvalid's auc: 0.802212\n",
      "[700]\tvalid's auc: 0.802982\n",
      "[800]\tvalid's auc: 0.804167\n",
      "[900]\tvalid's auc: 0.805078\n",
      "[1000]\tvalid's auc: 0.805895\n",
      "[1100]\tvalid's auc: 0.805828\n",
      "Early stopping, best iteration is:\n",
      "[1072]\tvalid's auc: 0.806247\n"
     ]
    },
    {
     "name": "stderr",
     "output_type": "stream",
     "text": [
      "/home/wopr/.local/lib/python3.6/site-packages/sklearn/preprocessing/label.py:219: DataConversionWarning: A column-vector y was passed when a 1d array was expected. Please change the shape of y to (n_samples, ), for example using ravel().\n",
      "  y = column_or_1d(y, warn=True)\n",
      "/home/wopr/.local/lib/python3.6/site-packages/sklearn/preprocessing/label.py:252: DataConversionWarning: A column-vector y was passed when a 1d array was expected. Please change the shape of y to (n_samples, ), for example using ravel().\n",
      "  y = column_or_1d(y, warn=True)\n"
     ]
    },
    {
     "name": "stdout",
     "output_type": "stream",
     "text": [
      "Training until validation scores don't improve for 100 rounds.\n",
      "[100]\tvalid's auc: 0.729025\n",
      "[200]\tvalid's auc: 0.756196\n",
      "[300]\tvalid's auc: 0.77207\n",
      "[400]\tvalid's auc: 0.782346\n",
      "[500]\tvalid's auc: 0.78962\n",
      "[600]\tvalid's auc: 0.794272\n",
      "[700]\tvalid's auc: 0.798475\n",
      "[800]\tvalid's auc: 0.801688\n",
      "[900]\tvalid's auc: 0.804496\n",
      "[1000]\tvalid's auc: 0.8059\n",
      "[1100]\tvalid's auc: 0.808159\n",
      "[1200]\tvalid's auc: 0.809713\n",
      "[1300]\tvalid's auc: 0.810739\n",
      "[1400]\tvalid's auc: 0.811913\n",
      "[1500]\tvalid's auc: 0.813004\n",
      "[1600]\tvalid's auc: 0.813667\n",
      "[1700]\tvalid's auc: 0.814143\n",
      "[1800]\tvalid's auc: 0.814616\n",
      "[1900]\tvalid's auc: 0.814991\n",
      "[2000]\tvalid's auc: 0.815575\n",
      "[2100]\tvalid's auc: 0.81616\n",
      "[2200]\tvalid's auc: 0.816582\n",
      "[2300]\tvalid's auc: 0.816908\n",
      "[2400]\tvalid's auc: 0.817536\n",
      "[2500]\tvalid's auc: 0.817793\n",
      "[2600]\tvalid's auc: 0.817769\n",
      "[2700]\tvalid's auc: 0.817851\n",
      "[2800]\tvalid's auc: 0.817947\n",
      "Early stopping, best iteration is:\n",
      "[2758]\tvalid's auc: 0.81802\n"
     ]
    },
    {
     "name": "stderr",
     "output_type": "stream",
     "text": [
      "/home/wopr/.local/lib/python3.6/site-packages/sklearn/preprocessing/label.py:219: DataConversionWarning: A column-vector y was passed when a 1d array was expected. Please change the shape of y to (n_samples, ), for example using ravel().\n",
      "  y = column_or_1d(y, warn=True)\n",
      "/home/wopr/.local/lib/python3.6/site-packages/sklearn/preprocessing/label.py:252: DataConversionWarning: A column-vector y was passed when a 1d array was expected. Please change the shape of y to (n_samples, ), for example using ravel().\n",
      "  y = column_or_1d(y, warn=True)\n"
     ]
    },
    {
     "name": "stdout",
     "output_type": "stream",
     "text": [
      "Training until validation scores don't improve for 100 rounds.\n",
      "[100]\tvalid's auc: 0.728411\n",
      "[200]\tvalid's auc: 0.758084\n",
      "[300]\tvalid's auc: 0.772819\n",
      "[400]\tvalid's auc: 0.782238\n",
      "[500]\tvalid's auc: 0.789321\n",
      "[600]\tvalid's auc: 0.794968\n",
      "[700]\tvalid's auc: 0.798609\n",
      "[800]\tvalid's auc: 0.801914\n",
      "[900]\tvalid's auc: 0.804159\n",
      "[1000]\tvalid's auc: 0.806346\n",
      "[1100]\tvalid's auc: 0.807927\n",
      "[1200]\tvalid's auc: 0.809472\n",
      "[1300]\tvalid's auc: 0.810453\n",
      "[1400]\tvalid's auc: 0.811442\n",
      "[1500]\tvalid's auc: 0.812567\n",
      "[1600]\tvalid's auc: 0.813586\n",
      "[1700]\tvalid's auc: 0.814151\n",
      "[1800]\tvalid's auc: 0.814515\n",
      "[1900]\tvalid's auc: 0.815085\n",
      "[2000]\tvalid's auc: 0.815195\n",
      "[2100]\tvalid's auc: 0.815626\n",
      "[2200]\tvalid's auc: 0.81596\n",
      "[2300]\tvalid's auc: 0.816191\n",
      "[2400]\tvalid's auc: 0.816445\n",
      "[2500]\tvalid's auc: 0.816816\n",
      "[2600]\tvalid's auc: 0.817195\n",
      "[2700]\tvalid's auc: 0.817465\n",
      "[2800]\tvalid's auc: 0.817414\n",
      "Early stopping, best iteration is:\n",
      "[2712]\tvalid's auc: 0.817516\n"
     ]
    },
    {
     "name": "stderr",
     "output_type": "stream",
     "text": [
      "/home/wopr/.local/lib/python3.6/site-packages/sklearn/preprocessing/label.py:219: DataConversionWarning: A column-vector y was passed when a 1d array was expected. Please change the shape of y to (n_samples, ), for example using ravel().\n",
      "  y = column_or_1d(y, warn=True)\n",
      "/home/wopr/.local/lib/python3.6/site-packages/sklearn/preprocessing/label.py:252: DataConversionWarning: A column-vector y was passed when a 1d array was expected. Please change the shape of y to (n_samples, ), for example using ravel().\n",
      "  y = column_or_1d(y, warn=True)\n"
     ]
    },
    {
     "name": "stdout",
     "output_type": "stream",
     "text": [
      "Training until validation scores don't improve for 100 rounds.\n",
      "[100]\tvalid's auc: 0.730183\n",
      "[200]\tvalid's auc: 0.757967\n",
      "[300]\tvalid's auc: 0.773726\n",
      "[400]\tvalid's auc: 0.781863\n",
      "[500]\tvalid's auc: 0.788877\n",
      "[600]\tvalid's auc: 0.794434\n",
      "[700]\tvalid's auc: 0.798426\n",
      "[800]\tvalid's auc: 0.801915\n",
      "[900]\tvalid's auc: 0.804107\n",
      "[1000]\tvalid's auc: 0.806299\n",
      "[1100]\tvalid's auc: 0.807997\n",
      "[1200]\tvalid's auc: 0.809391\n",
      "[1300]\tvalid's auc: 0.81057\n",
      "[1400]\tvalid's auc: 0.811254\n",
      "[1500]\tvalid's auc: 0.812204\n",
      "[1600]\tvalid's auc: 0.812761\n",
      "[1700]\tvalid's auc: 0.813399\n",
      "[1800]\tvalid's auc: 0.814192\n",
      "[1900]\tvalid's auc: 0.81511\n",
      "[2000]\tvalid's auc: 0.815493\n",
      "[2100]\tvalid's auc: 0.815777\n",
      "[2200]\tvalid's auc: 0.816169\n",
      "[2300]\tvalid's auc: 0.816316\n",
      "[2400]\tvalid's auc: 0.816551\n",
      "[2500]\tvalid's auc: 0.81678\n",
      "[2600]\tvalid's auc: 0.816914\n",
      "[2700]\tvalid's auc: 0.816959\n",
      "Early stopping, best iteration is:\n",
      "[2652]\tvalid's auc: 0.817009\n"
     ]
    },
    {
     "name": "stderr",
     "output_type": "stream",
     "text": [
      "/home/wopr/.local/lib/python3.6/site-packages/sklearn/preprocessing/label.py:219: DataConversionWarning: A column-vector y was passed when a 1d array was expected. Please change the shape of y to (n_samples, ), for example using ravel().\n",
      "  y = column_or_1d(y, warn=True)\n",
      "/home/wopr/.local/lib/python3.6/site-packages/sklearn/preprocessing/label.py:252: DataConversionWarning: A column-vector y was passed when a 1d array was expected. Please change the shape of y to (n_samples, ), for example using ravel().\n",
      "  y = column_or_1d(y, warn=True)\n"
     ]
    },
    {
     "name": "stdout",
     "output_type": "stream",
     "text": [
      "Training until validation scores don't improve for 100 rounds.\n",
      "[100]\tvalid's auc: 0.750611\n",
      "[200]\tvalid's auc: 0.777244\n",
      "[300]\tvalid's auc: 0.787945\n",
      "[400]\tvalid's auc: 0.796173\n",
      "[500]\tvalid's auc: 0.800329\n",
      "[600]\tvalid's auc: 0.803142\n",
      "[700]\tvalid's auc: 0.805965\n",
      "[800]\tvalid's auc: 0.808131\n",
      "[900]\tvalid's auc: 0.809302\n",
      "[1000]\tvalid's auc: 0.810711\n",
      "[1100]\tvalid's auc: 0.811761\n",
      "[1200]\tvalid's auc: 0.812591\n",
      "[1300]\tvalid's auc: 0.813123\n",
      "[1400]\tvalid's auc: 0.814062\n",
      "[1500]\tvalid's auc: 0.814277\n",
      "[1600]\tvalid's auc: 0.814389\n",
      "Early stopping, best iteration is:\n",
      "[1539]\tvalid's auc: 0.814458\n"
     ]
    },
    {
     "name": "stderr",
     "output_type": "stream",
     "text": [
      "/home/wopr/.local/lib/python3.6/site-packages/sklearn/preprocessing/label.py:219: DataConversionWarning: A column-vector y was passed when a 1d array was expected. Please change the shape of y to (n_samples, ), for example using ravel().\n",
      "  y = column_or_1d(y, warn=True)\n",
      "/home/wopr/.local/lib/python3.6/site-packages/sklearn/preprocessing/label.py:252: DataConversionWarning: A column-vector y was passed when a 1d array was expected. Please change the shape of y to (n_samples, ), for example using ravel().\n",
      "  y = column_or_1d(y, warn=True)\n"
     ]
    },
    {
     "name": "stdout",
     "output_type": "stream",
     "text": [
      "Training until validation scores don't improve for 100 rounds.\n",
      "[100]\tvalid's auc: 0.750979\n",
      "[200]\tvalid's auc: 0.776001\n",
      "[300]\tvalid's auc: 0.788196\n",
      "[400]\tvalid's auc: 0.795078\n",
      "[500]\tvalid's auc: 0.800014\n",
      "[600]\tvalid's auc: 0.803076\n",
      "[700]\tvalid's auc: 0.805252\n",
      "[800]\tvalid's auc: 0.807352\n",
      "[900]\tvalid's auc: 0.808768\n",
      "[1000]\tvalid's auc: 0.809727\n",
      "[1100]\tvalid's auc: 0.810998\n",
      "[1200]\tvalid's auc: 0.81189\n",
      "[1300]\tvalid's auc: 0.812585\n",
      "[1400]\tvalid's auc: 0.813182\n",
      "[1500]\tvalid's auc: 0.813447\n",
      "[1600]\tvalid's auc: 0.813526\n",
      "Early stopping, best iteration is:\n",
      "[1514]\tvalid's auc: 0.813545\n"
     ]
    },
    {
     "name": "stderr",
     "output_type": "stream",
     "text": [
      "/home/wopr/.local/lib/python3.6/site-packages/sklearn/preprocessing/label.py:219: DataConversionWarning: A column-vector y was passed when a 1d array was expected. Please change the shape of y to (n_samples, ), for example using ravel().\n",
      "  y = column_or_1d(y, warn=True)\n",
      "/home/wopr/.local/lib/python3.6/site-packages/sklearn/preprocessing/label.py:252: DataConversionWarning: A column-vector y was passed when a 1d array was expected. Please change the shape of y to (n_samples, ), for example using ravel().\n",
      "  y = column_or_1d(y, warn=True)\n"
     ]
    },
    {
     "name": "stdout",
     "output_type": "stream",
     "text": [
      "Training until validation scores don't improve for 100 rounds.\n",
      "[100]\tvalid's auc: 0.750357\n",
      "[200]\tvalid's auc: 0.775578\n",
      "[300]\tvalid's auc: 0.788257\n",
      "[400]\tvalid's auc: 0.795998\n",
      "[500]\tvalid's auc: 0.800698\n",
      "[600]\tvalid's auc: 0.80431\n",
      "[700]\tvalid's auc: 0.807251\n",
      "[800]\tvalid's auc: 0.809347\n",
      "[900]\tvalid's auc: 0.81016\n",
      "[1000]\tvalid's auc: 0.811623\n",
      "[1100]\tvalid's auc: 0.812203\n",
      "[1200]\tvalid's auc: 0.813086\n",
      "[1300]\tvalid's auc: 0.813695\n",
      "[1400]\tvalid's auc: 0.814229\n",
      "[1500]\tvalid's auc: 0.814791\n",
      "[1600]\tvalid's auc: 0.815088\n",
      "Early stopping, best iteration is:\n",
      "[1558]\tvalid's auc: 0.815088\n"
     ]
    },
    {
     "name": "stderr",
     "output_type": "stream",
     "text": [
      "/home/wopr/.local/lib/python3.6/site-packages/sklearn/preprocessing/label.py:219: DataConversionWarning: A column-vector y was passed when a 1d array was expected. Please change the shape of y to (n_samples, ), for example using ravel().\n",
      "  y = column_or_1d(y, warn=True)\n",
      "/home/wopr/.local/lib/python3.6/site-packages/sklearn/preprocessing/label.py:252: DataConversionWarning: A column-vector y was passed when a 1d array was expected. Please change the shape of y to (n_samples, ), for example using ravel().\n",
      "  y = column_or_1d(y, warn=True)\n"
     ]
    },
    {
     "name": "stdout",
     "output_type": "stream",
     "text": [
      "Training until validation scores don't improve for 100 rounds.\n",
      "[100]\tvalid's auc: 0.762899\n",
      "[200]\tvalid's auc: 0.787498\n",
      "[300]\tvalid's auc: 0.796586\n",
      "[400]\tvalid's auc: 0.801623\n",
      "[500]\tvalid's auc: 0.805779\n",
      "[600]\tvalid's auc: 0.809145\n",
      "[700]\tvalid's auc: 0.810562\n",
      "[800]\tvalid's auc: 0.811692\n",
      "[900]\tvalid's auc: 0.812919\n",
      "[1000]\tvalid's auc: 0.81356\n",
      "[1100]\tvalid's auc: 0.814564\n",
      "[1200]\tvalid's auc: 0.815087\n",
      "[1300]\tvalid's auc: 0.815929\n",
      "[1400]\tvalid's auc: 0.816224\n",
      "[1500]\tvalid's auc: 0.816591\n",
      "[1600]\tvalid's auc: 0.816822\n",
      "[1700]\tvalid's auc: 0.817366\n",
      "[1800]\tvalid's auc: 0.817735\n",
      "[1900]\tvalid's auc: 0.81824\n",
      "[2000]\tvalid's auc: 0.818473\n",
      "[2100]\tvalid's auc: 0.818862\n",
      "[2200]\tvalid's auc: 0.819274\n",
      "[2300]\tvalid's auc: 0.819429\n",
      "[2400]\tvalid's auc: 0.819474\n",
      "Early stopping, best iteration is:\n",
      "[2321]\tvalid's auc: 0.8195\n"
     ]
    },
    {
     "name": "stderr",
     "output_type": "stream",
     "text": [
      "/home/wopr/.local/lib/python3.6/site-packages/sklearn/preprocessing/label.py:219: DataConversionWarning: A column-vector y was passed when a 1d array was expected. Please change the shape of y to (n_samples, ), for example using ravel().\n",
      "  y = column_or_1d(y, warn=True)\n",
      "/home/wopr/.local/lib/python3.6/site-packages/sklearn/preprocessing/label.py:252: DataConversionWarning: A column-vector y was passed when a 1d array was expected. Please change the shape of y to (n_samples, ), for example using ravel().\n",
      "  y = column_or_1d(y, warn=True)\n"
     ]
    },
    {
     "name": "stdout",
     "output_type": "stream",
     "text": [
      "Training until validation scores don't improve for 100 rounds.\n",
      "[100]\tvalid's auc: 0.757562\n",
      "[200]\tvalid's auc: 0.781744\n",
      "[300]\tvalid's auc: 0.793686\n",
      "[400]\tvalid's auc: 0.7991\n",
      "[500]\tvalid's auc: 0.802253\n",
      "[600]\tvalid's auc: 0.804264\n",
      "[700]\tvalid's auc: 0.806444\n",
      "[800]\tvalid's auc: 0.808075\n",
      "[900]\tvalid's auc: 0.808966\n",
      "[1000]\tvalid's auc: 0.80971\n",
      "[1100]\tvalid's auc: 0.810475\n",
      "[1200]\tvalid's auc: 0.811565\n",
      "[1300]\tvalid's auc: 0.811716\n",
      "[1400]\tvalid's auc: 0.812314\n",
      "[1500]\tvalid's auc: 0.812745\n",
      "[1600]\tvalid's auc: 0.813457\n",
      "[1700]\tvalid's auc: 0.813984\n",
      "[1800]\tvalid's auc: 0.814304\n",
      "[1900]\tvalid's auc: 0.814503\n",
      "[2000]\tvalid's auc: 0.814879\n",
      "[2100]\tvalid's auc: 0.815254\n",
      "[2200]\tvalid's auc: 0.81571\n",
      "[2300]\tvalid's auc: 0.815968\n",
      "[2400]\tvalid's auc: 0.816089\n",
      "Early stopping, best iteration is:\n",
      "[2376]\tvalid's auc: 0.816094\n"
     ]
    },
    {
     "name": "stderr",
     "output_type": "stream",
     "text": [
      "/home/wopr/.local/lib/python3.6/site-packages/sklearn/preprocessing/label.py:219: DataConversionWarning: A column-vector y was passed when a 1d array was expected. Please change the shape of y to (n_samples, ), for example using ravel().\n",
      "  y = column_or_1d(y, warn=True)\n",
      "/home/wopr/.local/lib/python3.6/site-packages/sklearn/preprocessing/label.py:252: DataConversionWarning: A column-vector y was passed when a 1d array was expected. Please change the shape of y to (n_samples, ), for example using ravel().\n",
      "  y = column_or_1d(y, warn=True)\n"
     ]
    },
    {
     "name": "stdout",
     "output_type": "stream",
     "text": [
      "Training until validation scores don't improve for 100 rounds.\n",
      "[100]\tvalid's auc: 0.756928\n",
      "[200]\tvalid's auc: 0.782732\n",
      "[300]\tvalid's auc: 0.793515\n",
      "[400]\tvalid's auc: 0.800199\n",
      "[500]\tvalid's auc: 0.803794\n",
      "[600]\tvalid's auc: 0.806008\n",
      "[700]\tvalid's auc: 0.807806\n",
      "[800]\tvalid's auc: 0.809018\n",
      "[900]\tvalid's auc: 0.809966\n",
      "[1000]\tvalid's auc: 0.811087\n",
      "[1100]\tvalid's auc: 0.811602\n",
      "[1200]\tvalid's auc: 0.811768\n",
      "[1300]\tvalid's auc: 0.812907\n",
      "[1400]\tvalid's auc: 0.813242\n",
      "[1500]\tvalid's auc: 0.813649\n",
      "[1600]\tvalid's auc: 0.814099\n",
      "[1700]\tvalid's auc: 0.814422\n",
      "[1800]\tvalid's auc: 0.814856\n",
      "[1900]\tvalid's auc: 0.815351\n",
      "[2000]\tvalid's auc: 0.815557\n",
      "[2100]\tvalid's auc: 0.816246\n",
      "[2200]\tvalid's auc: 0.816779\n",
      "[2300]\tvalid's auc: 0.817278\n",
      "[2400]\tvalid's auc: 0.817518\n",
      "Early stopping, best iteration is:\n",
      "[2374]\tvalid's auc: 0.817551\n"
     ]
    },
    {
     "name": "stderr",
     "output_type": "stream",
     "text": [
      "/home/wopr/.local/lib/python3.6/site-packages/sklearn/preprocessing/label.py:219: DataConversionWarning: A column-vector y was passed when a 1d array was expected. Please change the shape of y to (n_samples, ), for example using ravel().\n",
      "  y = column_or_1d(y, warn=True)\n",
      "/home/wopr/.local/lib/python3.6/site-packages/sklearn/preprocessing/label.py:252: DataConversionWarning: A column-vector y was passed when a 1d array was expected. Please change the shape of y to (n_samples, ), for example using ravel().\n",
      "  y = column_or_1d(y, warn=True)\n"
     ]
    },
    {
     "name": "stdout",
     "output_type": "stream",
     "text": [
      "Training until validation scores don't improve for 100 rounds.\n",
      "[100]\tvalid's auc: 0.755738\n",
      "[200]\tvalid's auc: 0.782479\n",
      "[300]\tvalid's auc: 0.79473\n",
      "[400]\tvalid's auc: 0.800653\n",
      "[500]\tvalid's auc: 0.805346\n",
      "[600]\tvalid's auc: 0.807872\n",
      "[700]\tvalid's auc: 0.810002\n",
      "[800]\tvalid's auc: 0.811048\n",
      "[900]\tvalid's auc: 0.811473\n",
      "[1000]\tvalid's auc: 0.812464\n",
      "[1100]\tvalid's auc: 0.812691\n",
      "[1200]\tvalid's auc: 0.812944\n",
      "Early stopping, best iteration is:\n",
      "[1188]\tvalid's auc: 0.813067\n"
     ]
    },
    {
     "name": "stderr",
     "output_type": "stream",
     "text": [
      "/home/wopr/.local/lib/python3.6/site-packages/sklearn/preprocessing/label.py:219: DataConversionWarning: A column-vector y was passed when a 1d array was expected. Please change the shape of y to (n_samples, ), for example using ravel().\n",
      "  y = column_or_1d(y, warn=True)\n",
      "/home/wopr/.local/lib/python3.6/site-packages/sklearn/preprocessing/label.py:252: DataConversionWarning: A column-vector y was passed when a 1d array was expected. Please change the shape of y to (n_samples, ), for example using ravel().\n",
      "  y = column_or_1d(y, warn=True)\n"
     ]
    },
    {
     "name": "stdout",
     "output_type": "stream",
     "text": [
      "Training until validation scores don't improve for 100 rounds.\n",
      "[100]\tvalid's auc: 0.757217\n",
      "[200]\tvalid's auc: 0.783597\n",
      "[300]\tvalid's auc: 0.796063\n",
      "[400]\tvalid's auc: 0.801889\n",
      "[500]\tvalid's auc: 0.805771\n",
      "[600]\tvalid's auc: 0.808303\n",
      "[700]\tvalid's auc: 0.810737\n",
      "[800]\tvalid's auc: 0.812466\n",
      "[900]\tvalid's auc: 0.812728\n",
      "Early stopping, best iteration is:\n",
      "[871]\tvalid's auc: 0.812987\n"
     ]
    },
    {
     "name": "stderr",
     "output_type": "stream",
     "text": [
      "/home/wopr/.local/lib/python3.6/site-packages/sklearn/preprocessing/label.py:219: DataConversionWarning: A column-vector y was passed when a 1d array was expected. Please change the shape of y to (n_samples, ), for example using ravel().\n",
      "  y = column_or_1d(y, warn=True)\n",
      "/home/wopr/.local/lib/python3.6/site-packages/sklearn/preprocessing/label.py:252: DataConversionWarning: A column-vector y was passed when a 1d array was expected. Please change the shape of y to (n_samples, ), for example using ravel().\n",
      "  y = column_or_1d(y, warn=True)\n"
     ]
    },
    {
     "name": "stdout",
     "output_type": "stream",
     "text": [
      "Training until validation scores don't improve for 100 rounds.\n",
      "[100]\tvalid's auc: 0.755411\n",
      "[200]\tvalid's auc: 0.780397\n",
      "[300]\tvalid's auc: 0.792368\n",
      "[400]\tvalid's auc: 0.798213\n",
      "[500]\tvalid's auc: 0.80202\n",
      "[600]\tvalid's auc: 0.804799\n",
      "[700]\tvalid's auc: 0.806612\n",
      "[800]\tvalid's auc: 0.808053\n",
      "[900]\tvalid's auc: 0.809599\n",
      "[1000]\tvalid's auc: 0.810126\n",
      "[1100]\tvalid's auc: 0.810114\n",
      "Early stopping, best iteration is:\n",
      "[1078]\tvalid's auc: 0.810284\n"
     ]
    },
    {
     "name": "stderr",
     "output_type": "stream",
     "text": [
      "/home/wopr/.local/lib/python3.6/site-packages/sklearn/preprocessing/label.py:219: DataConversionWarning: A column-vector y was passed when a 1d array was expected. Please change the shape of y to (n_samples, ), for example using ravel().\n",
      "  y = column_or_1d(y, warn=True)\n",
      "/home/wopr/.local/lib/python3.6/site-packages/sklearn/preprocessing/label.py:252: DataConversionWarning: A column-vector y was passed when a 1d array was expected. Please change the shape of y to (n_samples, ), for example using ravel().\n",
      "  y = column_or_1d(y, warn=True)\n"
     ]
    },
    {
     "name": "stdout",
     "output_type": "stream",
     "text": [
      "Training until validation scores don't improve for 100 rounds.\n",
      "[100]\tvalid's auc: 0.745017\n",
      "[200]\tvalid's auc: 0.772318\n",
      "[300]\tvalid's auc: 0.78592\n",
      "[400]\tvalid's auc: 0.79321\n",
      "[500]\tvalid's auc: 0.798194\n",
      "[600]\tvalid's auc: 0.802407\n",
      "[700]\tvalid's auc: 0.80529\n",
      "[800]\tvalid's auc: 0.806969\n",
      "[900]\tvalid's auc: 0.809174\n",
      "[1000]\tvalid's auc: 0.810205\n",
      "[1100]\tvalid's auc: 0.81079\n",
      "[1200]\tvalid's auc: 0.811451\n",
      "[1300]\tvalid's auc: 0.811953\n",
      "[1400]\tvalid's auc: 0.81243\n",
      "[1500]\tvalid's auc: 0.813133\n",
      "[1600]\tvalid's auc: 0.813353\n",
      "[1700]\tvalid's auc: 0.813631\n",
      "[1800]\tvalid's auc: 0.813819\n",
      "[1900]\tvalid's auc: 0.814127\n",
      "Early stopping, best iteration is:\n",
      "[1884]\tvalid's auc: 0.814155\n"
     ]
    },
    {
     "name": "stderr",
     "output_type": "stream",
     "text": [
      "/home/wopr/.local/lib/python3.6/site-packages/sklearn/preprocessing/label.py:219: DataConversionWarning: A column-vector y was passed when a 1d array was expected. Please change the shape of y to (n_samples, ), for example using ravel().\n",
      "  y = column_or_1d(y, warn=True)\n",
      "/home/wopr/.local/lib/python3.6/site-packages/sklearn/preprocessing/label.py:252: DataConversionWarning: A column-vector y was passed when a 1d array was expected. Please change the shape of y to (n_samples, ), for example using ravel().\n",
      "  y = column_or_1d(y, warn=True)\n"
     ]
    },
    {
     "name": "stdout",
     "output_type": "stream",
     "text": [
      "Training until validation scores don't improve for 100 rounds.\n",
      "[100]\tvalid's auc: 0.740866\n",
      "[200]\tvalid's auc: 0.767114\n",
      "[300]\tvalid's auc: 0.78079\n",
      "[400]\tvalid's auc: 0.788677\n",
      "[500]\tvalid's auc: 0.795297\n",
      "[600]\tvalid's auc: 0.799356\n",
      "[700]\tvalid's auc: 0.802055\n",
      "[800]\tvalid's auc: 0.804364\n",
      "[900]\tvalid's auc: 0.805922\n",
      "[1000]\tvalid's auc: 0.807146\n",
      "[1100]\tvalid's auc: 0.808524\n",
      "[1200]\tvalid's auc: 0.809381\n",
      "[1300]\tvalid's auc: 0.80988\n",
      "[1400]\tvalid's auc: 0.810585\n",
      "[1500]\tvalid's auc: 0.811404\n",
      "[1600]\tvalid's auc: 0.811633\n",
      "[1700]\tvalid's auc: 0.812329\n",
      "[1800]\tvalid's auc: 0.812824\n",
      "[1900]\tvalid's auc: 0.813\n",
      "Early stopping, best iteration is:\n",
      "[1888]\tvalid's auc: 0.813167\n"
     ]
    },
    {
     "name": "stderr",
     "output_type": "stream",
     "text": [
      "/home/wopr/.local/lib/python3.6/site-packages/sklearn/preprocessing/label.py:219: DataConversionWarning: A column-vector y was passed when a 1d array was expected. Please change the shape of y to (n_samples, ), for example using ravel().\n",
      "  y = column_or_1d(y, warn=True)\n",
      "/home/wopr/.local/lib/python3.6/site-packages/sklearn/preprocessing/label.py:252: DataConversionWarning: A column-vector y was passed when a 1d array was expected. Please change the shape of y to (n_samples, ), for example using ravel().\n",
      "  y = column_or_1d(y, warn=True)\n"
     ]
    },
    {
     "name": "stdout",
     "output_type": "stream",
     "text": [
      "Training until validation scores don't improve for 100 rounds.\n",
      "[100]\tvalid's auc: 0.741956\n",
      "[200]\tvalid's auc: 0.770051\n",
      "[300]\tvalid's auc: 0.78392\n",
      "[400]\tvalid's auc: 0.791948\n",
      "[500]\tvalid's auc: 0.797685\n",
      "[600]\tvalid's auc: 0.801619\n",
      "[700]\tvalid's auc: 0.804557\n",
      "[800]\tvalid's auc: 0.806988\n",
      "[900]\tvalid's auc: 0.809193\n",
      "[1000]\tvalid's auc: 0.809883\n",
      "[1100]\tvalid's auc: 0.810695\n",
      "[1200]\tvalid's auc: 0.81118\n",
      "[1300]\tvalid's auc: 0.811904\n",
      "[1400]\tvalid's auc: 0.812073\n",
      "[1500]\tvalid's auc: 0.81288\n",
      "[1600]\tvalid's auc: 0.813416\n",
      "[1700]\tvalid's auc: 0.81395\n",
      "[1800]\tvalid's auc: 0.814474\n",
      "[1900]\tvalid's auc: 0.814582\n",
      "[2000]\tvalid's auc: 0.81442\n",
      "Early stopping, best iteration is:\n",
      "[1907]\tvalid's auc: 0.814593\n"
     ]
    },
    {
     "name": "stderr",
     "output_type": "stream",
     "text": [
      "/home/wopr/.local/lib/python3.6/site-packages/sklearn/preprocessing/label.py:219: DataConversionWarning: A column-vector y was passed when a 1d array was expected. Please change the shape of y to (n_samples, ), for example using ravel().\n",
      "  y = column_or_1d(y, warn=True)\n",
      "/home/wopr/.local/lib/python3.6/site-packages/sklearn/preprocessing/label.py:252: DataConversionWarning: A column-vector y was passed when a 1d array was expected. Please change the shape of y to (n_samples, ), for example using ravel().\n",
      "  y = column_or_1d(y, warn=True)\n"
     ]
    },
    {
     "name": "stdout",
     "output_type": "stream",
     "text": [
      "Training until validation scores don't improve for 100 rounds.\n",
      "[100]\tvalid's auc: 0.731315\n",
      "[200]\tvalid's auc: 0.760074\n",
      "[300]\tvalid's auc: 0.77533\n",
      "[400]\tvalid's auc: 0.784321\n",
      "[500]\tvalid's auc: 0.790483\n",
      "[600]\tvalid's auc: 0.795323\n",
      "[700]\tvalid's auc: 0.798756\n",
      "[800]\tvalid's auc: 0.802142\n",
      "[900]\tvalid's auc: 0.80425\n",
      "[1000]\tvalid's auc: 0.806134\n",
      "[1100]\tvalid's auc: 0.807723\n",
      "[1200]\tvalid's auc: 0.808872\n",
      "[1300]\tvalid's auc: 0.809863\n",
      "[1400]\tvalid's auc: 0.81097\n",
      "[1500]\tvalid's auc: 0.81205\n",
      "[1600]\tvalid's auc: 0.812886\n",
      "[1700]\tvalid's auc: 0.813419\n",
      "[1800]\tvalid's auc: 0.814173\n",
      "[1900]\tvalid's auc: 0.814487\n",
      "[2000]\tvalid's auc: 0.814964\n",
      "[2100]\tvalid's auc: 0.815466\n",
      "[2200]\tvalid's auc: 0.81568\n",
      "[2300]\tvalid's auc: 0.815926\n",
      "[2400]\tvalid's auc: 0.816189\n",
      "[2500]\tvalid's auc: 0.816019\n",
      "Early stopping, best iteration is:\n",
      "[2406]\tvalid's auc: 0.816254\n"
     ]
    },
    {
     "name": "stderr",
     "output_type": "stream",
     "text": [
      "/home/wopr/.local/lib/python3.6/site-packages/sklearn/preprocessing/label.py:219: DataConversionWarning: A column-vector y was passed when a 1d array was expected. Please change the shape of y to (n_samples, ), for example using ravel().\n",
      "  y = column_or_1d(y, warn=True)\n",
      "/home/wopr/.local/lib/python3.6/site-packages/sklearn/preprocessing/label.py:252: DataConversionWarning: A column-vector y was passed when a 1d array was expected. Please change the shape of y to (n_samples, ), for example using ravel().\n",
      "  y = column_or_1d(y, warn=True)\n"
     ]
    },
    {
     "name": "stdout",
     "output_type": "stream",
     "text": [
      "Training until validation scores don't improve for 100 rounds.\n",
      "[100]\tvalid's auc: 0.730833\n",
      "[200]\tvalid's auc: 0.760181\n",
      "[300]\tvalid's auc: 0.774417\n",
      "[400]\tvalid's auc: 0.782723\n",
      "[500]\tvalid's auc: 0.788974\n",
      "[600]\tvalid's auc: 0.793785\n",
      "[700]\tvalid's auc: 0.797518\n",
      "[800]\tvalid's auc: 0.800531\n",
      "[900]\tvalid's auc: 0.803301\n",
      "[1000]\tvalid's auc: 0.805292\n",
      "[1100]\tvalid's auc: 0.806798\n",
      "[1200]\tvalid's auc: 0.808366\n",
      "[1300]\tvalid's auc: 0.809829\n",
      "[1400]\tvalid's auc: 0.810215\n",
      "[1500]\tvalid's auc: 0.811373\n",
      "[1600]\tvalid's auc: 0.812342\n",
      "[1700]\tvalid's auc: 0.812923\n",
      "[1800]\tvalid's auc: 0.813863\n",
      "[1900]\tvalid's auc: 0.814476\n",
      "[2000]\tvalid's auc: 0.814729\n",
      "[2100]\tvalid's auc: 0.815227\n",
      "[2200]\tvalid's auc: 0.815402\n",
      "[2300]\tvalid's auc: 0.815619\n",
      "[2400]\tvalid's auc: 0.815635\n",
      "[2500]\tvalid's auc: 0.815645\n",
      "[2600]\tvalid's auc: 0.815867\n",
      "[2700]\tvalid's auc: 0.815925\n",
      "Early stopping, best iteration is:\n",
      "[2633]\tvalid's auc: 0.815983\n"
     ]
    },
    {
     "name": "stderr",
     "output_type": "stream",
     "text": [
      "/home/wopr/.local/lib/python3.6/site-packages/sklearn/preprocessing/label.py:219: DataConversionWarning: A column-vector y was passed when a 1d array was expected. Please change the shape of y to (n_samples, ), for example using ravel().\n",
      "  y = column_or_1d(y, warn=True)\n",
      "/home/wopr/.local/lib/python3.6/site-packages/sklearn/preprocessing/label.py:252: DataConversionWarning: A column-vector y was passed when a 1d array was expected. Please change the shape of y to (n_samples, ), for example using ravel().\n",
      "  y = column_or_1d(y, warn=True)\n"
     ]
    },
    {
     "name": "stdout",
     "output_type": "stream",
     "text": [
      "Training until validation scores don't improve for 100 rounds.\n",
      "[100]\tvalid's auc: 0.731557\n",
      "[200]\tvalid's auc: 0.760442\n",
      "[300]\tvalid's auc: 0.773953\n",
      "[400]\tvalid's auc: 0.78314\n",
      "[500]\tvalid's auc: 0.790315\n",
      "[600]\tvalid's auc: 0.79505\n",
      "[700]\tvalid's auc: 0.799152\n",
      "[800]\tvalid's auc: 0.802141\n",
      "[900]\tvalid's auc: 0.804594\n",
      "[1000]\tvalid's auc: 0.806516\n",
      "[1100]\tvalid's auc: 0.808075\n",
      "[1200]\tvalid's auc: 0.80925\n",
      "[1300]\tvalid's auc: 0.810312\n",
      "[1400]\tvalid's auc: 0.811336\n",
      "[1500]\tvalid's auc: 0.812195\n",
      "[1600]\tvalid's auc: 0.812993\n",
      "[1700]\tvalid's auc: 0.813491\n",
      "[1800]\tvalid's auc: 0.813717\n",
      "[1900]\tvalid's auc: 0.814097\n",
      "[2000]\tvalid's auc: 0.814404\n",
      "[2100]\tvalid's auc: 0.814648\n",
      "[2200]\tvalid's auc: 0.814686\n",
      "[2300]\tvalid's auc: 0.815144\n",
      "[2400]\tvalid's auc: 0.815009\n",
      "Early stopping, best iteration is:\n",
      "[2329]\tvalid's auc: 0.815255\n"
     ]
    },
    {
     "name": "stderr",
     "output_type": "stream",
     "text": [
      "/home/wopr/.local/lib/python3.6/site-packages/sklearn/preprocessing/label.py:219: DataConversionWarning: A column-vector y was passed when a 1d array was expected. Please change the shape of y to (n_samples, ), for example using ravel().\n",
      "  y = column_or_1d(y, warn=True)\n",
      "/home/wopr/.local/lib/python3.6/site-packages/sklearn/preprocessing/label.py:252: DataConversionWarning: A column-vector y was passed when a 1d array was expected. Please change the shape of y to (n_samples, ), for example using ravel().\n",
      "  y = column_or_1d(y, warn=True)\n"
     ]
    },
    {
     "name": "stdout",
     "output_type": "stream",
     "text": [
      "Training until validation scores don't improve for 100 rounds.\n",
      "[100]\tvalid's auc: 0.756943\n",
      "[200]\tvalid's auc: 0.78157\n",
      "[300]\tvalid's auc: 0.793406\n",
      "[400]\tvalid's auc: 0.799906\n",
      "[500]\tvalid's auc: 0.802701\n",
      "[600]\tvalid's auc: 0.805596\n",
      "[700]\tvalid's auc: 0.806694\n",
      "[800]\tvalid's auc: 0.807523\n",
      "[900]\tvalid's auc: 0.808694\n",
      "[1000]\tvalid's auc: 0.808969\n",
      "[1100]\tvalid's auc: 0.809286\n",
      "[1200]\tvalid's auc: 0.809953\n",
      "[1300]\tvalid's auc: 0.809928\n",
      "[1400]\tvalid's auc: 0.810008\n",
      "[1500]\tvalid's auc: 0.81023\n",
      "[1600]\tvalid's auc: 0.810643\n",
      "Early stopping, best iteration is:\n",
      "[1577]\tvalid's auc: 0.810775\n"
     ]
    },
    {
     "name": "stderr",
     "output_type": "stream",
     "text": [
      "/home/wopr/.local/lib/python3.6/site-packages/sklearn/preprocessing/label.py:219: DataConversionWarning: A column-vector y was passed when a 1d array was expected. Please change the shape of y to (n_samples, ), for example using ravel().\n",
      "  y = column_or_1d(y, warn=True)\n",
      "/home/wopr/.local/lib/python3.6/site-packages/sklearn/preprocessing/label.py:252: DataConversionWarning: A column-vector y was passed when a 1d array was expected. Please change the shape of y to (n_samples, ), for example using ravel().\n",
      "  y = column_or_1d(y, warn=True)\n"
     ]
    },
    {
     "name": "stdout",
     "output_type": "stream",
     "text": [
      "Training until validation scores don't improve for 100 rounds.\n",
      "[100]\tvalid's auc: 0.758017\n",
      "[200]\tvalid's auc: 0.782466\n",
      "[300]\tvalid's auc: 0.794852\n",
      "[400]\tvalid's auc: 0.799859\n",
      "[500]\tvalid's auc: 0.804178\n",
      "[600]\tvalid's auc: 0.80611\n",
      "[700]\tvalid's auc: 0.808381\n",
      "[800]\tvalid's auc: 0.809615\n",
      "[900]\tvalid's auc: 0.8104\n",
      "[1000]\tvalid's auc: 0.810875\n",
      "[1100]\tvalid's auc: 0.811199\n",
      "[1200]\tvalid's auc: 0.811221\n",
      "Early stopping, best iteration is:\n",
      "[1139]\tvalid's auc: 0.81153\n"
     ]
    },
    {
     "name": "stderr",
     "output_type": "stream",
     "text": [
      "/home/wopr/.local/lib/python3.6/site-packages/sklearn/preprocessing/label.py:219: DataConversionWarning: A column-vector y was passed when a 1d array was expected. Please change the shape of y to (n_samples, ), for example using ravel().\n",
      "  y = column_or_1d(y, warn=True)\n",
      "/home/wopr/.local/lib/python3.6/site-packages/sklearn/preprocessing/label.py:252: DataConversionWarning: A column-vector y was passed when a 1d array was expected. Please change the shape of y to (n_samples, ), for example using ravel().\n",
      "  y = column_or_1d(y, warn=True)\n"
     ]
    },
    {
     "name": "stdout",
     "output_type": "stream",
     "text": [
      "Training until validation scores don't improve for 100 rounds.\n",
      "[100]\tvalid's auc: 0.753231\n",
      "[200]\tvalid's auc: 0.779354\n",
      "[300]\tvalid's auc: 0.790089\n",
      "[400]\tvalid's auc: 0.796919\n",
      "[500]\tvalid's auc: 0.800548\n",
      "[600]\tvalid's auc: 0.803263\n",
      "[700]\tvalid's auc: 0.80486\n",
      "[800]\tvalid's auc: 0.805274\n",
      "[900]\tvalid's auc: 0.806893\n",
      "[1000]\tvalid's auc: 0.807261\n",
      "[1100]\tvalid's auc: 0.80804\n",
      "[1200]\tvalid's auc: 0.808631\n",
      "[1300]\tvalid's auc: 0.808978\n",
      "[1400]\tvalid's auc: 0.809383\n",
      "[1500]\tvalid's auc: 0.809516\n",
      "Early stopping, best iteration is:\n",
      "[1443]\tvalid's auc: 0.809754\n"
     ]
    },
    {
     "name": "stderr",
     "output_type": "stream",
     "text": [
      "/home/wopr/.local/lib/python3.6/site-packages/sklearn/preprocessing/label.py:219: DataConversionWarning: A column-vector y was passed when a 1d array was expected. Please change the shape of y to (n_samples, ), for example using ravel().\n",
      "  y = column_or_1d(y, warn=True)\n",
      "/home/wopr/.local/lib/python3.6/site-packages/sklearn/preprocessing/label.py:252: DataConversionWarning: A column-vector y was passed when a 1d array was expected. Please change the shape of y to (n_samples, ), for example using ravel().\n",
      "  y = column_or_1d(y, warn=True)\n"
     ]
    },
    {
     "name": "stdout",
     "output_type": "stream",
     "text": [
      "Training until validation scores don't improve for 100 rounds.\n",
      "[100]\tvalid's auc: 0.760794\n",
      "[200]\tvalid's auc: 0.785327\n",
      "[300]\tvalid's auc: 0.795053\n",
      "[400]\tvalid's auc: 0.79974\n",
      "[500]\tvalid's auc: 0.802753\n",
      "[600]\tvalid's auc: 0.804727\n",
      "[700]\tvalid's auc: 0.805099\n",
      "[800]\tvalid's auc: 0.806244\n",
      "[900]\tvalid's auc: 0.807081\n",
      "[1000]\tvalid's auc: 0.807305\n",
      "[1100]\tvalid's auc: 0.808194\n",
      "[1200]\tvalid's auc: 0.808568\n",
      "[1300]\tvalid's auc: 0.808758\n",
      "[1400]\tvalid's auc: 0.809121\n",
      "[1500]\tvalid's auc: 0.809645\n",
      "[1600]\tvalid's auc: 0.810059\n",
      "[1700]\tvalid's auc: 0.810173\n",
      "[1800]\tvalid's auc: 0.810595\n",
      "[1900]\tvalid's auc: 0.810724\n",
      "[2000]\tvalid's auc: 0.811151\n",
      "[2100]\tvalid's auc: 0.811118\n",
      "Early stopping, best iteration is:\n",
      "[2008]\tvalid's auc: 0.811196\n"
     ]
    },
    {
     "name": "stderr",
     "output_type": "stream",
     "text": [
      "/home/wopr/.local/lib/python3.6/site-packages/sklearn/preprocessing/label.py:219: DataConversionWarning: A column-vector y was passed when a 1d array was expected. Please change the shape of y to (n_samples, ), for example using ravel().\n",
      "  y = column_or_1d(y, warn=True)\n",
      "/home/wopr/.local/lib/python3.6/site-packages/sklearn/preprocessing/label.py:252: DataConversionWarning: A column-vector y was passed when a 1d array was expected. Please change the shape of y to (n_samples, ), for example using ravel().\n",
      "  y = column_or_1d(y, warn=True)\n"
     ]
    },
    {
     "name": "stdout",
     "output_type": "stream",
     "text": [
      "Training until validation scores don't improve for 100 rounds.\n",
      "[100]\tvalid's auc: 0.762028\n",
      "[200]\tvalid's auc: 0.784395\n",
      "[300]\tvalid's auc: 0.793967\n",
      "[400]\tvalid's auc: 0.798591\n",
      "[500]\tvalid's auc: 0.800535\n",
      "[600]\tvalid's auc: 0.803236\n",
      "[700]\tvalid's auc: 0.804902\n",
      "[800]\tvalid's auc: 0.805529\n",
      "[900]\tvalid's auc: 0.806386\n",
      "[1000]\tvalid's auc: 0.806781\n",
      "[1100]\tvalid's auc: 0.807245\n",
      "[1200]\tvalid's auc: 0.80782\n",
      "[1300]\tvalid's auc: 0.808195\n",
      "[1400]\tvalid's auc: 0.8087\n",
      "[1500]\tvalid's auc: 0.808986\n",
      "[1600]\tvalid's auc: 0.809246\n",
      "[1700]\tvalid's auc: 0.809522\n",
      "[1800]\tvalid's auc: 0.809998\n",
      "[1900]\tvalid's auc: 0.810293\n",
      "[2000]\tvalid's auc: 0.810508\n",
      "[2100]\tvalid's auc: 0.810497\n",
      "[2200]\tvalid's auc: 0.810679\n",
      "[2300]\tvalid's auc: 0.81093\n",
      "[2400]\tvalid's auc: 0.810993\n",
      "[2500]\tvalid's auc: 0.811124\n",
      "[2600]\tvalid's auc: 0.811339\n",
      "Early stopping, best iteration is:\n",
      "[2594]\tvalid's auc: 0.81135\n"
     ]
    },
    {
     "name": "stderr",
     "output_type": "stream",
     "text": [
      "/home/wopr/.local/lib/python3.6/site-packages/sklearn/preprocessing/label.py:219: DataConversionWarning: A column-vector y was passed when a 1d array was expected. Please change the shape of y to (n_samples, ), for example using ravel().\n",
      "  y = column_or_1d(y, warn=True)\n",
      "/home/wopr/.local/lib/python3.6/site-packages/sklearn/preprocessing/label.py:252: DataConversionWarning: A column-vector y was passed when a 1d array was expected. Please change the shape of y to (n_samples, ), for example using ravel().\n",
      "  y = column_or_1d(y, warn=True)\n"
     ]
    },
    {
     "name": "stdout",
     "output_type": "stream",
     "text": [
      "Training until validation scores don't improve for 100 rounds.\n",
      "[100]\tvalid's auc: 0.763202\n",
      "[200]\tvalid's auc: 0.783348\n",
      "[300]\tvalid's auc: 0.793799\n",
      "[400]\tvalid's auc: 0.798536\n",
      "[500]\tvalid's auc: 0.801872\n",
      "[600]\tvalid's auc: 0.802907\n",
      "[700]\tvalid's auc: 0.804668\n",
      "[800]\tvalid's auc: 0.805776\n",
      "[900]\tvalid's auc: 0.806352\n",
      "[1000]\tvalid's auc: 0.807335\n",
      "[1100]\tvalid's auc: 0.808126\n",
      "[1200]\tvalid's auc: 0.808394\n",
      "[1300]\tvalid's auc: 0.808872\n",
      "[1400]\tvalid's auc: 0.809313\n",
      "[1500]\tvalid's auc: 0.809618\n",
      "[1600]\tvalid's auc: 0.809917\n",
      "[1700]\tvalid's auc: 0.810108\n",
      "Early stopping, best iteration is:\n",
      "[1679]\tvalid's auc: 0.810149\n"
     ]
    },
    {
     "name": "stderr",
     "output_type": "stream",
     "text": [
      "/home/wopr/.local/lib/python3.6/site-packages/sklearn/preprocessing/label.py:219: DataConversionWarning: A column-vector y was passed when a 1d array was expected. Please change the shape of y to (n_samples, ), for example using ravel().\n",
      "  y = column_or_1d(y, warn=True)\n",
      "/home/wopr/.local/lib/python3.6/site-packages/sklearn/preprocessing/label.py:252: DataConversionWarning: A column-vector y was passed when a 1d array was expected. Please change the shape of y to (n_samples, ), for example using ravel().\n",
      "  y = column_or_1d(y, warn=True)\n"
     ]
    },
    {
     "name": "stdout",
     "output_type": "stream",
     "text": [
      "Training until validation scores don't improve for 100 rounds.\n",
      "[100]\tvalid's auc: 0.754089\n",
      "[200]\tvalid's auc: 0.779972\n",
      "[300]\tvalid's auc: 0.791003\n",
      "[400]\tvalid's auc: 0.797017\n",
      "[500]\tvalid's auc: 0.802492\n",
      "[600]\tvalid's auc: 0.805875\n",
      "[700]\tvalid's auc: 0.807759\n",
      "[800]\tvalid's auc: 0.809563\n",
      "[900]\tvalid's auc: 0.810936\n",
      "[1000]\tvalid's auc: 0.812343\n",
      "[1100]\tvalid's auc: 0.813238\n",
      "[1200]\tvalid's auc: 0.813801\n",
      "[1300]\tvalid's auc: 0.814592\n",
      "[1400]\tvalid's auc: 0.814645\n",
      "Early stopping, best iteration is:\n",
      "[1317]\tvalid's auc: 0.814666\n"
     ]
    },
    {
     "name": "stderr",
     "output_type": "stream",
     "text": [
      "/home/wopr/.local/lib/python3.6/site-packages/sklearn/preprocessing/label.py:219: DataConversionWarning: A column-vector y was passed when a 1d array was expected. Please change the shape of y to (n_samples, ), for example using ravel().\n",
      "  y = column_or_1d(y, warn=True)\n",
      "/home/wopr/.local/lib/python3.6/site-packages/sklearn/preprocessing/label.py:252: DataConversionWarning: A column-vector y was passed when a 1d array was expected. Please change the shape of y to (n_samples, ), for example using ravel().\n",
      "  y = column_or_1d(y, warn=True)\n"
     ]
    },
    {
     "name": "stdout",
     "output_type": "stream",
     "text": [
      "Training until validation scores don't improve for 100 rounds.\n",
      "[100]\tvalid's auc: 0.751762\n",
      "[200]\tvalid's auc: 0.776387\n",
      "[300]\tvalid's auc: 0.788778\n",
      "[400]\tvalid's auc: 0.796236\n",
      "[500]\tvalid's auc: 0.800426\n",
      "[600]\tvalid's auc: 0.804054\n",
      "[700]\tvalid's auc: 0.806574\n",
      "[800]\tvalid's auc: 0.808193\n",
      "[900]\tvalid's auc: 0.809978\n",
      "[1000]\tvalid's auc: 0.810942\n",
      "[1100]\tvalid's auc: 0.811579\n",
      "[1200]\tvalid's auc: 0.812553\n",
      "[1300]\tvalid's auc: 0.812885\n",
      "Early stopping, best iteration is:\n",
      "[1251]\tvalid's auc: 0.812885\n"
     ]
    },
    {
     "name": "stderr",
     "output_type": "stream",
     "text": [
      "/home/wopr/.local/lib/python3.6/site-packages/sklearn/preprocessing/label.py:219: DataConversionWarning: A column-vector y was passed when a 1d array was expected. Please change the shape of y to (n_samples, ), for example using ravel().\n",
      "  y = column_or_1d(y, warn=True)\n",
      "/home/wopr/.local/lib/python3.6/site-packages/sklearn/preprocessing/label.py:252: DataConversionWarning: A column-vector y was passed when a 1d array was expected. Please change the shape of y to (n_samples, ), for example using ravel().\n",
      "  y = column_or_1d(y, warn=True)\n"
     ]
    },
    {
     "name": "stdout",
     "output_type": "stream",
     "text": [
      "Training until validation scores don't improve for 100 rounds.\n",
      "[100]\tvalid's auc: 0.751641\n",
      "[200]\tvalid's auc: 0.776361\n",
      "[300]\tvalid's auc: 0.788082\n",
      "[400]\tvalid's auc: 0.794601\n",
      "[500]\tvalid's auc: 0.799341\n",
      "[600]\tvalid's auc: 0.802537\n",
      "[700]\tvalid's auc: 0.804993\n",
      "[800]\tvalid's auc: 0.806574\n",
      "[900]\tvalid's auc: 0.807568\n",
      "[1000]\tvalid's auc: 0.808611\n",
      "[1100]\tvalid's auc: 0.809702\n",
      "[1200]\tvalid's auc: 0.810338\n",
      "[1300]\tvalid's auc: 0.811113\n",
      "[1400]\tvalid's auc: 0.81147\n",
      "Early stopping, best iteration is:\n",
      "[1366]\tvalid's auc: 0.811497\n"
     ]
    },
    {
     "name": "stderr",
     "output_type": "stream",
     "text": [
      "/home/wopr/.local/lib/python3.6/site-packages/sklearn/preprocessing/label.py:219: DataConversionWarning: A column-vector y was passed when a 1d array was expected. Please change the shape of y to (n_samples, ), for example using ravel().\n",
      "  y = column_or_1d(y, warn=True)\n",
      "/home/wopr/.local/lib/python3.6/site-packages/sklearn/preprocessing/label.py:252: DataConversionWarning: A column-vector y was passed when a 1d array was expected. Please change the shape of y to (n_samples, ), for example using ravel().\n",
      "  y = column_or_1d(y, warn=True)\n"
     ]
    },
    {
     "name": "stdout",
     "output_type": "stream",
     "text": [
      "Training until validation scores don't improve for 100 rounds.\n",
      "[100]\tvalid's auc: 0.744201\n",
      "[200]\tvalid's auc: 0.772557\n",
      "[300]\tvalid's auc: 0.7876\n",
      "[400]\tvalid's auc: 0.797055\n",
      "[500]\tvalid's auc: 0.801681\n",
      "[600]\tvalid's auc: 0.805212\n",
      "[700]\tvalid's auc: 0.808138\n",
      "[800]\tvalid's auc: 0.809144\n",
      "[900]\tvalid's auc: 0.810773\n",
      "[1000]\tvalid's auc: 0.811531\n",
      "[1100]\tvalid's auc: 0.812247\n",
      "[1200]\tvalid's auc: 0.812321\n",
      "Early stopping, best iteration is:\n",
      "[1145]\tvalid's auc: 0.812674\n"
     ]
    },
    {
     "name": "stderr",
     "output_type": "stream",
     "text": [
      "/home/wopr/.local/lib/python3.6/site-packages/sklearn/preprocessing/label.py:219: DataConversionWarning: A column-vector y was passed when a 1d array was expected. Please change the shape of y to (n_samples, ), for example using ravel().\n",
      "  y = column_or_1d(y, warn=True)\n",
      "/home/wopr/.local/lib/python3.6/site-packages/sklearn/preprocessing/label.py:252: DataConversionWarning: A column-vector y was passed when a 1d array was expected. Please change the shape of y to (n_samples, ), for example using ravel().\n",
      "  y = column_or_1d(y, warn=True)\n"
     ]
    },
    {
     "name": "stdout",
     "output_type": "stream",
     "text": [
      "Training until validation scores don't improve for 100 rounds.\n",
      "[100]\tvalid's auc: 0.741282\n",
      "[200]\tvalid's auc: 0.769227\n",
      "[300]\tvalid's auc: 0.782889\n",
      "[400]\tvalid's auc: 0.791017\n",
      "[500]\tvalid's auc: 0.797583\n",
      "[600]\tvalid's auc: 0.801043\n",
      "[700]\tvalid's auc: 0.803425\n",
      "[800]\tvalid's auc: 0.805296\n",
      "[900]\tvalid's auc: 0.805904\n",
      "Early stopping, best iteration is:\n",
      "[861]\tvalid's auc: 0.806254\n"
     ]
    },
    {
     "name": "stderr",
     "output_type": "stream",
     "text": [
      "/home/wopr/.local/lib/python3.6/site-packages/sklearn/preprocessing/label.py:219: DataConversionWarning: A column-vector y was passed when a 1d array was expected. Please change the shape of y to (n_samples, ), for example using ravel().\n",
      "  y = column_or_1d(y, warn=True)\n",
      "/home/wopr/.local/lib/python3.6/site-packages/sklearn/preprocessing/label.py:252: DataConversionWarning: A column-vector y was passed when a 1d array was expected. Please change the shape of y to (n_samples, ), for example using ravel().\n",
      "  y = column_or_1d(y, warn=True)\n"
     ]
    },
    {
     "name": "stdout",
     "output_type": "stream",
     "text": [
      "Training until validation scores don't improve for 100 rounds.\n",
      "[100]\tvalid's auc: 0.741672\n",
      "[200]\tvalid's auc: 0.770622\n",
      "[300]\tvalid's auc: 0.785603\n",
      "[400]\tvalid's auc: 0.793395\n",
      "[500]\tvalid's auc: 0.798235\n",
      "[600]\tvalid's auc: 0.800787\n",
      "[700]\tvalid's auc: 0.803748\n",
      "[800]\tvalid's auc: 0.804783\n",
      "[900]\tvalid's auc: 0.806109\n",
      "[1000]\tvalid's auc: 0.80692\n",
      "[1100]\tvalid's auc: 0.807274\n",
      "[1200]\tvalid's auc: 0.80751\n",
      "Early stopping, best iteration is:\n",
      "[1141]\tvalid's auc: 0.807805\n"
     ]
    },
    {
     "name": "stderr",
     "output_type": "stream",
     "text": [
      "/home/wopr/.local/lib/python3.6/site-packages/sklearn/preprocessing/label.py:219: DataConversionWarning: A column-vector y was passed when a 1d array was expected. Please change the shape of y to (n_samples, ), for example using ravel().\n",
      "  y = column_or_1d(y, warn=True)\n",
      "/home/wopr/.local/lib/python3.6/site-packages/sklearn/preprocessing/label.py:252: DataConversionWarning: A column-vector y was passed when a 1d array was expected. Please change the shape of y to (n_samples, ), for example using ravel().\n",
      "  y = column_or_1d(y, warn=True)\n"
     ]
    },
    {
     "name": "stdout",
     "output_type": "stream",
     "text": [
      "Training until validation scores don't improve for 100 rounds.\n",
      "[100]\tvalid's auc: 0.761877\n",
      "[200]\tvalid's auc: 0.785274\n",
      "[300]\tvalid's auc: 0.795801\n",
      "[400]\tvalid's auc: 0.800462\n",
      "[500]\tvalid's auc: 0.803255\n",
      "[600]\tvalid's auc: 0.805517\n",
      "[700]\tvalid's auc: 0.806641\n",
      "[800]\tvalid's auc: 0.807844\n",
      "[900]\tvalid's auc: 0.809148\n",
      "[1000]\tvalid's auc: 0.80996\n",
      "[1100]\tvalid's auc: 0.810964\n",
      "[1200]\tvalid's auc: 0.81173\n",
      "[1300]\tvalid's auc: 0.812934\n",
      "[1400]\tvalid's auc: 0.813426\n",
      "[1500]\tvalid's auc: 0.813779\n",
      "[1600]\tvalid's auc: 0.814591\n",
      "[1700]\tvalid's auc: 0.814798\n",
      "[1800]\tvalid's auc: 0.815637\n",
      "[1900]\tvalid's auc: 0.815666\n",
      "Early stopping, best iteration is:\n",
      "[1808]\tvalid's auc: 0.815677\n"
     ]
    },
    {
     "name": "stderr",
     "output_type": "stream",
     "text": [
      "/home/wopr/.local/lib/python3.6/site-packages/sklearn/preprocessing/label.py:219: DataConversionWarning: A column-vector y was passed when a 1d array was expected. Please change the shape of y to (n_samples, ), for example using ravel().\n",
      "  y = column_or_1d(y, warn=True)\n",
      "/home/wopr/.local/lib/python3.6/site-packages/sklearn/preprocessing/label.py:252: DataConversionWarning: A column-vector y was passed when a 1d array was expected. Please change the shape of y to (n_samples, ), for example using ravel().\n",
      "  y = column_or_1d(y, warn=True)\n"
     ]
    },
    {
     "name": "stdout",
     "output_type": "stream",
     "text": [
      "Training until validation scores don't improve for 100 rounds.\n",
      "[100]\tvalid's auc: 0.760684\n",
      "[200]\tvalid's auc: 0.785561\n",
      "[300]\tvalid's auc: 0.794494\n",
      "[400]\tvalid's auc: 0.799524\n",
      "[500]\tvalid's auc: 0.802632\n",
      "[600]\tvalid's auc: 0.803638\n",
      "[700]\tvalid's auc: 0.804598\n",
      "[800]\tvalid's auc: 0.805544\n",
      "[900]\tvalid's auc: 0.80603\n",
      "[1000]\tvalid's auc: 0.806765\n",
      "[1100]\tvalid's auc: 0.806959\n",
      "[1200]\tvalid's auc: 0.808309\n",
      "[1300]\tvalid's auc: 0.808389\n",
      "[1400]\tvalid's auc: 0.808931\n",
      "[1500]\tvalid's auc: 0.809461\n",
      "[1600]\tvalid's auc: 0.809955\n",
      "[1700]\tvalid's auc: 0.810816\n",
      "[1800]\tvalid's auc: 0.811178\n",
      "[1900]\tvalid's auc: 0.811257\n",
      "Early stopping, best iteration is:\n",
      "[1836]\tvalid's auc: 0.811269\n"
     ]
    },
    {
     "name": "stderr",
     "output_type": "stream",
     "text": [
      "/home/wopr/.local/lib/python3.6/site-packages/sklearn/preprocessing/label.py:219: DataConversionWarning: A column-vector y was passed when a 1d array was expected. Please change the shape of y to (n_samples, ), for example using ravel().\n",
      "  y = column_or_1d(y, warn=True)\n",
      "/home/wopr/.local/lib/python3.6/site-packages/sklearn/preprocessing/label.py:252: DataConversionWarning: A column-vector y was passed when a 1d array was expected. Please change the shape of y to (n_samples, ), for example using ravel().\n",
      "  y = column_or_1d(y, warn=True)\n"
     ]
    },
    {
     "name": "stdout",
     "output_type": "stream",
     "text": [
      "Training until validation scores don't improve for 100 rounds.\n",
      "[100]\tvalid's auc: 0.755161\n",
      "[200]\tvalid's auc: 0.778728\n",
      "[300]\tvalid's auc: 0.789818\n",
      "[400]\tvalid's auc: 0.79718\n",
      "[500]\tvalid's auc: 0.800567\n",
      "[600]\tvalid's auc: 0.802644\n",
      "[700]\tvalid's auc: 0.804244\n",
      "[800]\tvalid's auc: 0.805052\n",
      "[900]\tvalid's auc: 0.805702\n",
      "[1000]\tvalid's auc: 0.806766\n",
      "[1100]\tvalid's auc: 0.807284\n",
      "[1200]\tvalid's auc: 0.808051\n",
      "[1300]\tvalid's auc: 0.80907\n",
      "[1400]\tvalid's auc: 0.809786\n",
      "[1500]\tvalid's auc: 0.810406\n",
      "[1600]\tvalid's auc: 0.811027\n",
      "[1700]\tvalid's auc: 0.811501\n",
      "[1800]\tvalid's auc: 0.812213\n",
      "[1900]\tvalid's auc: 0.812558\n",
      "Early stopping, best iteration is:\n",
      "[1860]\tvalid's auc: 0.812558\n"
     ]
    },
    {
     "name": "stderr",
     "output_type": "stream",
     "text": [
      "/home/wopr/.local/lib/python3.6/site-packages/sklearn/preprocessing/label.py:219: DataConversionWarning: A column-vector y was passed when a 1d array was expected. Please change the shape of y to (n_samples, ), for example using ravel().\n",
      "  y = column_or_1d(y, warn=True)\n",
      "/home/wopr/.local/lib/python3.6/site-packages/sklearn/preprocessing/label.py:252: DataConversionWarning: A column-vector y was passed when a 1d array was expected. Please change the shape of y to (n_samples, ), for example using ravel().\n",
      "  y = column_or_1d(y, warn=True)\n"
     ]
    },
    {
     "name": "stdout",
     "output_type": "stream",
     "text": [
      "Training until validation scores don't improve for 100 rounds.\n",
      "[100]\tvalid's auc: 0.755808\n",
      "[200]\tvalid's auc: 0.779003\n",
      "[300]\tvalid's auc: 0.790002\n",
      "[400]\tvalid's auc: 0.793801\n",
      "[500]\tvalid's auc: 0.796621\n",
      "[600]\tvalid's auc: 0.798217\n",
      "[700]\tvalid's auc: 0.798982\n",
      "[800]\tvalid's auc: 0.79945\n",
      "[900]\tvalid's auc: 0.800431\n",
      "[1000]\tvalid's auc: 0.8006\n",
      "[1100]\tvalid's auc: 0.801017\n",
      "[1200]\tvalid's auc: 0.800886\n",
      "Early stopping, best iteration is:\n",
      "[1168]\tvalid's auc: 0.801339\n"
     ]
    },
    {
     "name": "stderr",
     "output_type": "stream",
     "text": [
      "/home/wopr/.local/lib/python3.6/site-packages/sklearn/preprocessing/label.py:219: DataConversionWarning: A column-vector y was passed when a 1d array was expected. Please change the shape of y to (n_samples, ), for example using ravel().\n",
      "  y = column_or_1d(y, warn=True)\n",
      "/home/wopr/.local/lib/python3.6/site-packages/sklearn/preprocessing/label.py:252: DataConversionWarning: A column-vector y was passed when a 1d array was expected. Please change the shape of y to (n_samples, ), for example using ravel().\n",
      "  y = column_or_1d(y, warn=True)\n"
     ]
    },
    {
     "name": "stdout",
     "output_type": "stream",
     "text": [
      "Training until validation scores don't improve for 100 rounds.\n",
      "[100]\tvalid's auc: 0.752475\n",
      "[200]\tvalid's auc: 0.77755\n",
      "[300]\tvalid's auc: 0.788448\n",
      "[400]\tvalid's auc: 0.794456\n",
      "[500]\tvalid's auc: 0.796302\n",
      "[600]\tvalid's auc: 0.797562\n",
      "[700]\tvalid's auc: 0.798791\n",
      "[800]\tvalid's auc: 0.798345\n",
      "Early stopping, best iteration is:\n",
      "[712]\tvalid's auc: 0.798859\n"
     ]
    },
    {
     "name": "stderr",
     "output_type": "stream",
     "text": [
      "/home/wopr/.local/lib/python3.6/site-packages/sklearn/preprocessing/label.py:219: DataConversionWarning: A column-vector y was passed when a 1d array was expected. Please change the shape of y to (n_samples, ), for example using ravel().\n",
      "  y = column_or_1d(y, warn=True)\n",
      "/home/wopr/.local/lib/python3.6/site-packages/sklearn/preprocessing/label.py:252: DataConversionWarning: A column-vector y was passed when a 1d array was expected. Please change the shape of y to (n_samples, ), for example using ravel().\n",
      "  y = column_or_1d(y, warn=True)\n"
     ]
    },
    {
     "name": "stdout",
     "output_type": "stream",
     "text": [
      "Training until validation scores don't improve for 100 rounds.\n",
      "[100]\tvalid's auc: 0.758357\n",
      "[200]\tvalid's auc: 0.779642\n",
      "[300]\tvalid's auc: 0.78895\n",
      "[400]\tvalid's auc: 0.792418\n",
      "[500]\tvalid's auc: 0.795067\n",
      "[600]\tvalid's auc: 0.796714\n",
      "[700]\tvalid's auc: 0.796758\n",
      "[800]\tvalid's auc: 0.797738\n",
      "[900]\tvalid's auc: 0.798022\n",
      "[1000]\tvalid's auc: 0.798348\n",
      "Early stopping, best iteration is:\n",
      "[994]\tvalid's auc: 0.798676\n"
     ]
    },
    {
     "name": "stderr",
     "output_type": "stream",
     "text": [
      "/home/wopr/.local/lib/python3.6/site-packages/sklearn/preprocessing/label.py:219: DataConversionWarning: A column-vector y was passed when a 1d array was expected. Please change the shape of y to (n_samples, ), for example using ravel().\n",
      "  y = column_or_1d(y, warn=True)\n",
      "/home/wopr/.local/lib/python3.6/site-packages/sklearn/preprocessing/label.py:252: DataConversionWarning: A column-vector y was passed when a 1d array was expected. Please change the shape of y to (n_samples, ), for example using ravel().\n",
      "  y = column_or_1d(y, warn=True)\n"
     ]
    },
    {
     "name": "stdout",
     "output_type": "stream",
     "text": [
      "Training until validation scores don't improve for 100 rounds.\n",
      "[100]\tvalid's auc: 0.762695\n",
      "[200]\tvalid's auc: 0.785647\n",
      "[300]\tvalid's auc: 0.795481\n",
      "[400]\tvalid's auc: 0.800712\n",
      "[500]\tvalid's auc: 0.80486\n",
      "[600]\tvalid's auc: 0.806531\n",
      "[700]\tvalid's auc: 0.807226\n",
      "[800]\tvalid's auc: 0.808457\n",
      "[900]\tvalid's auc: 0.809396\n",
      "[1000]\tvalid's auc: 0.810061\n",
      "[1100]\tvalid's auc: 0.81112\n",
      "[1200]\tvalid's auc: 0.811751\n",
      "[1300]\tvalid's auc: 0.812205\n",
      "[1400]\tvalid's auc: 0.812412\n",
      "[1500]\tvalid's auc: 0.813082\n",
      "[1600]\tvalid's auc: 0.813564\n",
      "[1700]\tvalid's auc: 0.813578\n",
      "Early stopping, best iteration is:\n",
      "[1668]\tvalid's auc: 0.813726\n"
     ]
    },
    {
     "name": "stderr",
     "output_type": "stream",
     "text": [
      "/home/wopr/.local/lib/python3.6/site-packages/sklearn/preprocessing/label.py:219: DataConversionWarning: A column-vector y was passed when a 1d array was expected. Please change the shape of y to (n_samples, ), for example using ravel().\n",
      "  y = column_or_1d(y, warn=True)\n",
      "/home/wopr/.local/lib/python3.6/site-packages/sklearn/preprocessing/label.py:252: DataConversionWarning: A column-vector y was passed when a 1d array was expected. Please change the shape of y to (n_samples, ), for example using ravel().\n",
      "  y = column_or_1d(y, warn=True)\n"
     ]
    },
    {
     "name": "stdout",
     "output_type": "stream",
     "text": [
      "Training until validation scores don't improve for 100 rounds.\n",
      "[100]\tvalid's auc: 0.760811\n",
      "[200]\tvalid's auc: 0.780921\n",
      "[300]\tvalid's auc: 0.790206\n",
      "[400]\tvalid's auc: 0.795669\n",
      "[500]\tvalid's auc: 0.799369\n",
      "[600]\tvalid's auc: 0.802158\n",
      "[700]\tvalid's auc: 0.803624\n",
      "[800]\tvalid's auc: 0.805171\n",
      "[900]\tvalid's auc: 0.80612\n",
      "[1000]\tvalid's auc: 0.806818\n",
      "[1100]\tvalid's auc: 0.80732\n",
      "[1200]\tvalid's auc: 0.807786\n",
      "[1300]\tvalid's auc: 0.808513\n",
      "[1400]\tvalid's auc: 0.808933\n",
      "[1500]\tvalid's auc: 0.809217\n",
      "[1600]\tvalid's auc: 0.809739\n",
      "[1700]\tvalid's auc: 0.809905\n",
      "[1800]\tvalid's auc: 0.810068\n",
      "[1900]\tvalid's auc: 0.810512\n",
      "[2000]\tvalid's auc: 0.810595\n",
      "[2100]\tvalid's auc: 0.810674\n",
      "[2200]\tvalid's auc: 0.810946\n",
      "Early stopping, best iteration is:\n",
      "[2184]\tvalid's auc: 0.811024\n"
     ]
    },
    {
     "name": "stderr",
     "output_type": "stream",
     "text": [
      "/home/wopr/.local/lib/python3.6/site-packages/sklearn/preprocessing/label.py:219: DataConversionWarning: A column-vector y was passed when a 1d array was expected. Please change the shape of y to (n_samples, ), for example using ravel().\n",
      "  y = column_or_1d(y, warn=True)\n",
      "/home/wopr/.local/lib/python3.6/site-packages/sklearn/preprocessing/label.py:252: DataConversionWarning: A column-vector y was passed when a 1d array was expected. Please change the shape of y to (n_samples, ), for example using ravel().\n",
      "  y = column_or_1d(y, warn=True)\n"
     ]
    },
    {
     "name": "stdout",
     "output_type": "stream",
     "text": [
      "Training until validation scores don't improve for 100 rounds.\n",
      "[100]\tvalid's auc: 0.760539\n",
      "[200]\tvalid's auc: 0.783643\n",
      "[300]\tvalid's auc: 0.79452\n",
      "[400]\tvalid's auc: 0.799047\n",
      "[500]\tvalid's auc: 0.802643\n",
      "[600]\tvalid's auc: 0.804505\n",
      "[700]\tvalid's auc: 0.806334\n",
      "[800]\tvalid's auc: 0.807666\n",
      "[900]\tvalid's auc: 0.808516\n",
      "[1000]\tvalid's auc: 0.809252\n",
      "[1100]\tvalid's auc: 0.809572\n",
      "[1200]\tvalid's auc: 0.810049\n",
      "[1300]\tvalid's auc: 0.810343\n",
      "[1400]\tvalid's auc: 0.810977\n",
      "[1500]\tvalid's auc: 0.811252\n",
      "[1600]\tvalid's auc: 0.811467\n",
      "[1700]\tvalid's auc: 0.811957\n",
      "[1800]\tvalid's auc: 0.812171\n",
      "[1900]\tvalid's auc: 0.812344\n",
      "[2000]\tvalid's auc: 0.812459\n",
      "[2100]\tvalid's auc: 0.812767\n",
      "[2200]\tvalid's auc: 0.812696\n",
      "Early stopping, best iteration is:\n",
      "[2123]\tvalid's auc: 0.81283\n"
     ]
    },
    {
     "name": "stderr",
     "output_type": "stream",
     "text": [
      "/home/wopr/.local/lib/python3.6/site-packages/sklearn/preprocessing/label.py:219: DataConversionWarning: A column-vector y was passed when a 1d array was expected. Please change the shape of y to (n_samples, ), for example using ravel().\n",
      "  y = column_or_1d(y, warn=True)\n",
      "/home/wopr/.local/lib/python3.6/site-packages/sklearn/preprocessing/label.py:252: DataConversionWarning: A column-vector y was passed when a 1d array was expected. Please change the shape of y to (n_samples, ), for example using ravel().\n",
      "  y = column_or_1d(y, warn=True)\n"
     ]
    },
    {
     "name": "stdout",
     "output_type": "stream",
     "text": [
      "Training until validation scores don't improve for 100 rounds.\n",
      "[100]\tvalid's auc: 0.752247\n",
      "[200]\tvalid's auc: 0.779897\n",
      "[300]\tvalid's auc: 0.792663\n",
      "[400]\tvalid's auc: 0.800476\n",
      "[500]\tvalid's auc: 0.804692\n",
      "[600]\tvalid's auc: 0.807698\n",
      "[700]\tvalid's auc: 0.810011\n",
      "[800]\tvalid's auc: 0.811496\n",
      "[900]\tvalid's auc: 0.812564\n",
      "Early stopping, best iteration is:\n",
      "[851]\tvalid's auc: 0.812724\n"
     ]
    },
    {
     "name": "stderr",
     "output_type": "stream",
     "text": [
      "/home/wopr/.local/lib/python3.6/site-packages/sklearn/preprocessing/label.py:219: DataConversionWarning: A column-vector y was passed when a 1d array was expected. Please change the shape of y to (n_samples, ), for example using ravel().\n",
      "  y = column_or_1d(y, warn=True)\n",
      "/home/wopr/.local/lib/python3.6/site-packages/sklearn/preprocessing/label.py:252: DataConversionWarning: A column-vector y was passed when a 1d array was expected. Please change the shape of y to (n_samples, ), for example using ravel().\n",
      "  y = column_or_1d(y, warn=True)\n"
     ]
    },
    {
     "name": "stdout",
     "output_type": "stream",
     "text": [
      "Training until validation scores don't improve for 100 rounds.\n",
      "[100]\tvalid's auc: 0.750982\n",
      "[200]\tvalid's auc: 0.777754\n",
      "[300]\tvalid's auc: 0.790621\n",
      "[400]\tvalid's auc: 0.797863\n",
      "[500]\tvalid's auc: 0.802291\n",
      "[600]\tvalid's auc: 0.804813\n",
      "[700]\tvalid's auc: 0.807315\n",
      "[800]\tvalid's auc: 0.807909\n",
      "[900]\tvalid's auc: 0.808454\n",
      "[1000]\tvalid's auc: 0.808523\n",
      "[1100]\tvalid's auc: 0.808314\n",
      "Early stopping, best iteration is:\n",
      "[1017]\tvalid's auc: 0.808713\n"
     ]
    },
    {
     "name": "stderr",
     "output_type": "stream",
     "text": [
      "/home/wopr/.local/lib/python3.6/site-packages/sklearn/preprocessing/label.py:219: DataConversionWarning: A column-vector y was passed when a 1d array was expected. Please change the shape of y to (n_samples, ), for example using ravel().\n",
      "  y = column_or_1d(y, warn=True)\n",
      "/home/wopr/.local/lib/python3.6/site-packages/sklearn/preprocessing/label.py:252: DataConversionWarning: A column-vector y was passed when a 1d array was expected. Please change the shape of y to (n_samples, ), for example using ravel().\n",
      "  y = column_or_1d(y, warn=True)\n"
     ]
    },
    {
     "name": "stdout",
     "output_type": "stream",
     "text": [
      "Training until validation scores don't improve for 100 rounds.\n",
      "[100]\tvalid's auc: 0.751713\n",
      "[200]\tvalid's auc: 0.77837\n",
      "[300]\tvalid's auc: 0.790481\n",
      "[400]\tvalid's auc: 0.797995\n",
      "[500]\tvalid's auc: 0.802892\n",
      "[600]\tvalid's auc: 0.805716\n",
      "[700]\tvalid's auc: 0.807489\n",
      "[800]\tvalid's auc: 0.808373\n",
      "[900]\tvalid's auc: 0.809537\n",
      "[1000]\tvalid's auc: 0.810057\n",
      "[1100]\tvalid's auc: 0.810727\n",
      "[1200]\tvalid's auc: 0.811002\n",
      "[1300]\tvalid's auc: 0.811537\n",
      "[1400]\tvalid's auc: 0.811559\n",
      "[1500]\tvalid's auc: 0.812015\n",
      "[1600]\tvalid's auc: 0.811843\n",
      "Early stopping, best iteration is:\n",
      "[1527]\tvalid's auc: 0.812175\n"
     ]
    },
    {
     "name": "stderr",
     "output_type": "stream",
     "text": [
      "/home/wopr/.local/lib/python3.6/site-packages/sklearn/preprocessing/label.py:219: DataConversionWarning: A column-vector y was passed when a 1d array was expected. Please change the shape of y to (n_samples, ), for example using ravel().\n",
      "  y = column_or_1d(y, warn=True)\n",
      "/home/wopr/.local/lib/python3.6/site-packages/sklearn/preprocessing/label.py:252: DataConversionWarning: A column-vector y was passed when a 1d array was expected. Please change the shape of y to (n_samples, ), for example using ravel().\n",
      "  y = column_or_1d(y, warn=True)\n"
     ]
    },
    {
     "name": "stdout",
     "output_type": "stream",
     "text": [
      "Training until validation scores don't improve for 100 rounds.\n",
      "[100]\tvalid's auc: 0.758645\n",
      "[200]\tvalid's auc: 0.783192\n",
      "[300]\tvalid's auc: 0.794888\n",
      "[400]\tvalid's auc: 0.800599\n",
      "[500]\tvalid's auc: 0.804499\n",
      "[600]\tvalid's auc: 0.80751\n",
      "[700]\tvalid's auc: 0.809011\n",
      "[800]\tvalid's auc: 0.809711\n",
      "[900]\tvalid's auc: 0.811099\n",
      "[1000]\tvalid's auc: 0.81128\n",
      "[1100]\tvalid's auc: 0.812369\n",
      "[1200]\tvalid's auc: 0.813319\n",
      "[1300]\tvalid's auc: 0.813862\n",
      "[1400]\tvalid's auc: 0.814224\n",
      "[1500]\tvalid's auc: 0.814461\n",
      "[1600]\tvalid's auc: 0.814596\n",
      "[1700]\tvalid's auc: 0.815128\n",
      "[1800]\tvalid's auc: 0.815519\n",
      "[1900]\tvalid's auc: 0.815957\n",
      "[2000]\tvalid's auc: 0.816204\n",
      "[2100]\tvalid's auc: 0.816413\n",
      "[2200]\tvalid's auc: 0.817003\n",
      "[2300]\tvalid's auc: 0.817289\n",
      "[2400]\tvalid's auc: 0.817413\n",
      "Early stopping, best iteration is:\n",
      "[2331]\tvalid's auc: 0.817413\n"
     ]
    },
    {
     "name": "stderr",
     "output_type": "stream",
     "text": [
      "/home/wopr/.local/lib/python3.6/site-packages/sklearn/preprocessing/label.py:219: DataConversionWarning: A column-vector y was passed when a 1d array was expected. Please change the shape of y to (n_samples, ), for example using ravel().\n",
      "  y = column_or_1d(y, warn=True)\n",
      "/home/wopr/.local/lib/python3.6/site-packages/sklearn/preprocessing/label.py:252: DataConversionWarning: A column-vector y was passed when a 1d array was expected. Please change the shape of y to (n_samples, ), for example using ravel().\n",
      "  y = column_or_1d(y, warn=True)\n"
     ]
    },
    {
     "name": "stdout",
     "output_type": "stream",
     "text": [
      "Training until validation scores don't improve for 100 rounds.\n",
      "[100]\tvalid's auc: 0.760334\n",
      "[200]\tvalid's auc: 0.784172\n",
      "[300]\tvalid's auc: 0.795409\n",
      "[400]\tvalid's auc: 0.8015\n",
      "[500]\tvalid's auc: 0.804941\n",
      "[600]\tvalid's auc: 0.807913\n",
      "[700]\tvalid's auc: 0.809757\n",
      "[800]\tvalid's auc: 0.811145\n",
      "[900]\tvalid's auc: 0.811938\n",
      "[1000]\tvalid's auc: 0.81175\n",
      "Early stopping, best iteration is:\n",
      "[917]\tvalid's auc: 0.81216\n"
     ]
    },
    {
     "name": "stderr",
     "output_type": "stream",
     "text": [
      "/home/wopr/.local/lib/python3.6/site-packages/sklearn/preprocessing/label.py:219: DataConversionWarning: A column-vector y was passed when a 1d array was expected. Please change the shape of y to (n_samples, ), for example using ravel().\n",
      "  y = column_or_1d(y, warn=True)\n",
      "/home/wopr/.local/lib/python3.6/site-packages/sklearn/preprocessing/label.py:252: DataConversionWarning: A column-vector y was passed when a 1d array was expected. Please change the shape of y to (n_samples, ), for example using ravel().\n",
      "  y = column_or_1d(y, warn=True)\n"
     ]
    },
    {
     "name": "stdout",
     "output_type": "stream",
     "text": [
      "Training until validation scores don't improve for 100 rounds.\n",
      "[100]\tvalid's auc: 0.760765\n",
      "[200]\tvalid's auc: 0.785335\n",
      "[300]\tvalid's auc: 0.796657\n",
      "[400]\tvalid's auc: 0.802409\n",
      "[500]\tvalid's auc: 0.805258\n",
      "[600]\tvalid's auc: 0.807162\n",
      "[700]\tvalid's auc: 0.808508\n",
      "[800]\tvalid's auc: 0.809977\n",
      "[900]\tvalid's auc: 0.811211\n",
      "[1000]\tvalid's auc: 0.811816\n",
      "[1100]\tvalid's auc: 0.812267\n",
      "[1200]\tvalid's auc: 0.812814\n",
      "[1300]\tvalid's auc: 0.813438\n",
      "[1400]\tvalid's auc: 0.813999\n",
      "[1500]\tvalid's auc: 0.814638\n",
      "[1600]\tvalid's auc: 0.815128\n",
      "[1700]\tvalid's auc: 0.815441\n",
      "Early stopping, best iteration is:\n",
      "[1695]\tvalid's auc: 0.815472\n"
     ]
    },
    {
     "name": "stderr",
     "output_type": "stream",
     "text": [
      "/home/wopr/.local/lib/python3.6/site-packages/sklearn/preprocessing/label.py:219: DataConversionWarning: A column-vector y was passed when a 1d array was expected. Please change the shape of y to (n_samples, ), for example using ravel().\n",
      "  y = column_or_1d(y, warn=True)\n",
      "/home/wopr/.local/lib/python3.6/site-packages/sklearn/preprocessing/label.py:252: DataConversionWarning: A column-vector y was passed when a 1d array was expected. Please change the shape of y to (n_samples, ), for example using ravel().\n",
      "  y = column_or_1d(y, warn=True)\n"
     ]
    },
    {
     "name": "stdout",
     "output_type": "stream",
     "text": [
      "Training until validation scores don't improve for 100 rounds.\n",
      "[100]\tvalid's auc: 0.751017\n",
      "[200]\tvalid's auc: 0.777678\n",
      "[300]\tvalid's auc: 0.789972\n",
      "[400]\tvalid's auc: 0.797087\n",
      "[500]\tvalid's auc: 0.799644\n",
      "[600]\tvalid's auc: 0.802153\n",
      "[700]\tvalid's auc: 0.803841\n",
      "[800]\tvalid's auc: 0.804053\n",
      "[900]\tvalid's auc: 0.80448\n",
      "Early stopping, best iteration is:\n",
      "[857]\tvalid's auc: 0.80476\n"
     ]
    },
    {
     "name": "stderr",
     "output_type": "stream",
     "text": [
      "/home/wopr/.local/lib/python3.6/site-packages/sklearn/preprocessing/label.py:219: DataConversionWarning: A column-vector y was passed when a 1d array was expected. Please change the shape of y to (n_samples, ), for example using ravel().\n",
      "  y = column_or_1d(y, warn=True)\n",
      "/home/wopr/.local/lib/python3.6/site-packages/sklearn/preprocessing/label.py:252: DataConversionWarning: A column-vector y was passed when a 1d array was expected. Please change the shape of y to (n_samples, ), for example using ravel().\n",
      "  y = column_or_1d(y, warn=True)\n"
     ]
    },
    {
     "name": "stdout",
     "output_type": "stream",
     "text": [
      "Training until validation scores don't improve for 100 rounds.\n",
      "[100]\tvalid's auc: 0.745648\n",
      "[200]\tvalid's auc: 0.773662\n",
      "[300]\tvalid's auc: 0.784498\n",
      "[400]\tvalid's auc: 0.791882\n",
      "[500]\tvalid's auc: 0.795819\n",
      "[600]\tvalid's auc: 0.79792\n",
      "[700]\tvalid's auc: 0.799588\n",
      "[800]\tvalid's auc: 0.801226\n",
      "[900]\tvalid's auc: 0.802732\n",
      "[1000]\tvalid's auc: 0.802628\n",
      "Early stopping, best iteration is:\n",
      "[933]\tvalid's auc: 0.803047\n"
     ]
    },
    {
     "name": "stderr",
     "output_type": "stream",
     "text": [
      "/home/wopr/.local/lib/python3.6/site-packages/sklearn/preprocessing/label.py:219: DataConversionWarning: A column-vector y was passed when a 1d array was expected. Please change the shape of y to (n_samples, ), for example using ravel().\n",
      "  y = column_or_1d(y, warn=True)\n",
      "/home/wopr/.local/lib/python3.6/site-packages/sklearn/preprocessing/label.py:252: DataConversionWarning: A column-vector y was passed when a 1d array was expected. Please change the shape of y to (n_samples, ), for example using ravel().\n",
      "  y = column_or_1d(y, warn=True)\n"
     ]
    },
    {
     "name": "stdout",
     "output_type": "stream",
     "text": [
      "Training until validation scores don't improve for 100 rounds.\n",
      "[100]\tvalid's auc: 0.747603\n",
      "[200]\tvalid's auc: 0.772215\n",
      "[300]\tvalid's auc: 0.787751\n",
      "[400]\tvalid's auc: 0.794571\n",
      "[500]\tvalid's auc: 0.797799\n",
      "[600]\tvalid's auc: 0.798631\n",
      "[700]\tvalid's auc: 0.800416\n",
      "[800]\tvalid's auc: 0.8012\n",
      "[900]\tvalid's auc: 0.8019\n",
      "[1000]\tvalid's auc: 0.802237\n",
      "[1100]\tvalid's auc: 0.802633\n",
      "[1200]\tvalid's auc: 0.802324\n",
      "Early stopping, best iteration is:\n",
      "[1128]\tvalid's auc: 0.802701\n"
     ]
    },
    {
     "name": "stderr",
     "output_type": "stream",
     "text": [
      "/home/wopr/.local/lib/python3.6/site-packages/sklearn/preprocessing/label.py:219: DataConversionWarning: A column-vector y was passed when a 1d array was expected. Please change the shape of y to (n_samples, ), for example using ravel().\n",
      "  y = column_or_1d(y, warn=True)\n",
      "/home/wopr/.local/lib/python3.6/site-packages/sklearn/preprocessing/label.py:252: DataConversionWarning: A column-vector y was passed when a 1d array was expected. Please change the shape of y to (n_samples, ), for example using ravel().\n",
      "  y = column_or_1d(y, warn=True)\n"
     ]
    },
    {
     "name": "stdout",
     "output_type": "stream",
     "text": [
      "Training until validation scores don't improve for 100 rounds.\n",
      "[100]\tvalid's auc: 0.746479\n",
      "[200]\tvalid's auc: 0.775135\n",
      "[300]\tvalid's auc: 0.788886\n",
      "[400]\tvalid's auc: 0.795507\n",
      "[500]\tvalid's auc: 0.799672\n",
      "[600]\tvalid's auc: 0.801838\n",
      "[700]\tvalid's auc: 0.803287\n",
      "[800]\tvalid's auc: 0.804966\n",
      "[900]\tvalid's auc: 0.805804\n",
      "[1000]\tvalid's auc: 0.806174\n",
      "[1100]\tvalid's auc: 0.806936\n",
      "[1200]\tvalid's auc: 0.807811\n",
      "[1300]\tvalid's auc: 0.807635\n",
      "Early stopping, best iteration is:\n",
      "[1204]\tvalid's auc: 0.807842\n"
     ]
    },
    {
     "name": "stderr",
     "output_type": "stream",
     "text": [
      "/home/wopr/.local/lib/python3.6/site-packages/sklearn/preprocessing/label.py:219: DataConversionWarning: A column-vector y was passed when a 1d array was expected. Please change the shape of y to (n_samples, ), for example using ravel().\n",
      "  y = column_or_1d(y, warn=True)\n",
      "/home/wopr/.local/lib/python3.6/site-packages/sklearn/preprocessing/label.py:252: DataConversionWarning: A column-vector y was passed when a 1d array was expected. Please change the shape of y to (n_samples, ), for example using ravel().\n",
      "  y = column_or_1d(y, warn=True)\n"
     ]
    },
    {
     "name": "stdout",
     "output_type": "stream",
     "text": [
      "Training until validation scores don't improve for 100 rounds.\n",
      "[100]\tvalid's auc: 0.747325\n",
      "[200]\tvalid's auc: 0.775365\n",
      "[300]\tvalid's auc: 0.787069\n",
      "[400]\tvalid's auc: 0.794765\n",
      "[500]\tvalid's auc: 0.800201\n",
      "[600]\tvalid's auc: 0.80321\n",
      "[700]\tvalid's auc: 0.804052\n",
      "[800]\tvalid's auc: 0.805024\n",
      "[900]\tvalid's auc: 0.805232\n",
      "[1000]\tvalid's auc: 0.806046\n",
      "[1100]\tvalid's auc: 0.806562\n",
      "[1200]\tvalid's auc: 0.806605\n",
      "Early stopping, best iteration is:\n",
      "[1130]\tvalid's auc: 0.806841\n"
     ]
    },
    {
     "name": "stderr",
     "output_type": "stream",
     "text": [
      "/home/wopr/.local/lib/python3.6/site-packages/sklearn/preprocessing/label.py:219: DataConversionWarning: A column-vector y was passed when a 1d array was expected. Please change the shape of y to (n_samples, ), for example using ravel().\n",
      "  y = column_or_1d(y, warn=True)\n",
      "/home/wopr/.local/lib/python3.6/site-packages/sklearn/preprocessing/label.py:252: DataConversionWarning: A column-vector y was passed when a 1d array was expected. Please change the shape of y to (n_samples, ), for example using ravel().\n",
      "  y = column_or_1d(y, warn=True)\n"
     ]
    },
    {
     "name": "stdout",
     "output_type": "stream",
     "text": [
      "Training until validation scores don't improve for 100 rounds.\n",
      "[100]\tvalid's auc: 0.747028\n",
      "[200]\tvalid's auc: 0.774955\n",
      "[300]\tvalid's auc: 0.786998\n",
      "[400]\tvalid's auc: 0.794817\n",
      "[500]\tvalid's auc: 0.798287\n",
      "[600]\tvalid's auc: 0.800849\n",
      "[700]\tvalid's auc: 0.802174\n",
      "[800]\tvalid's auc: 0.80382\n",
      "[900]\tvalid's auc: 0.805006\n",
      "[1000]\tvalid's auc: 0.805192\n",
      "[1100]\tvalid's auc: 0.805409\n",
      "[1200]\tvalid's auc: 0.805768\n",
      "Early stopping, best iteration is:\n",
      "[1139]\tvalid's auc: 0.805889\n"
     ]
    },
    {
     "name": "stderr",
     "output_type": "stream",
     "text": [
      "/home/wopr/.local/lib/python3.6/site-packages/sklearn/preprocessing/label.py:219: DataConversionWarning: A column-vector y was passed when a 1d array was expected. Please change the shape of y to (n_samples, ), for example using ravel().\n",
      "  y = column_or_1d(y, warn=True)\n",
      "/home/wopr/.local/lib/python3.6/site-packages/sklearn/preprocessing/label.py:252: DataConversionWarning: A column-vector y was passed when a 1d array was expected. Please change the shape of y to (n_samples, ), for example using ravel().\n",
      "  y = column_or_1d(y, warn=True)\n"
     ]
    },
    {
     "name": "stdout",
     "output_type": "stream",
     "text": [
      "Training until validation scores don't improve for 100 rounds.\n",
      "[100]\tvalid's auc: 0.753197\n",
      "[200]\tvalid's auc: 0.779479\n",
      "[300]\tvalid's auc: 0.791488\n",
      "[400]\tvalid's auc: 0.79947\n",
      "[500]\tvalid's auc: 0.80365\n",
      "[600]\tvalid's auc: 0.806502\n",
      "[700]\tvalid's auc: 0.807944\n",
      "[800]\tvalid's auc: 0.809048\n",
      "Early stopping, best iteration is:\n",
      "[791]\tvalid's auc: 0.80914\n"
     ]
    },
    {
     "name": "stderr",
     "output_type": "stream",
     "text": [
      "/home/wopr/.local/lib/python3.6/site-packages/sklearn/preprocessing/label.py:219: DataConversionWarning: A column-vector y was passed when a 1d array was expected. Please change the shape of y to (n_samples, ), for example using ravel().\n",
      "  y = column_or_1d(y, warn=True)\n",
      "/home/wopr/.local/lib/python3.6/site-packages/sklearn/preprocessing/label.py:252: DataConversionWarning: A column-vector y was passed when a 1d array was expected. Please change the shape of y to (n_samples, ), for example using ravel().\n",
      "  y = column_or_1d(y, warn=True)\n"
     ]
    },
    {
     "name": "stdout",
     "output_type": "stream",
     "text": [
      "Training until validation scores don't improve for 100 rounds.\n",
      "[100]\tvalid's auc: 0.750145\n",
      "[200]\tvalid's auc: 0.775777\n",
      "[300]\tvalid's auc: 0.788184\n",
      "[400]\tvalid's auc: 0.795426\n",
      "[500]\tvalid's auc: 0.80019\n",
      "[600]\tvalid's auc: 0.80331\n",
      "[700]\tvalid's auc: 0.805135\n",
      "[800]\tvalid's auc: 0.807084\n",
      "[900]\tvalid's auc: 0.8083\n",
      "[1000]\tvalid's auc: 0.808962\n",
      "[1100]\tvalid's auc: 0.809806\n",
      "[1200]\tvalid's auc: 0.809867\n",
      "Early stopping, best iteration is:\n",
      "[1195]\tvalid's auc: 0.809987\n"
     ]
    },
    {
     "name": "stderr",
     "output_type": "stream",
     "text": [
      "/home/wopr/.local/lib/python3.6/site-packages/sklearn/preprocessing/label.py:219: DataConversionWarning: A column-vector y was passed when a 1d array was expected. Please change the shape of y to (n_samples, ), for example using ravel().\n",
      "  y = column_or_1d(y, warn=True)\n",
      "/home/wopr/.local/lib/python3.6/site-packages/sklearn/preprocessing/label.py:252: DataConversionWarning: A column-vector y was passed when a 1d array was expected. Please change the shape of y to (n_samples, ), for example using ravel().\n",
      "  y = column_or_1d(y, warn=True)\n"
     ]
    },
    {
     "name": "stdout",
     "output_type": "stream",
     "text": [
      "Training until validation scores don't improve for 100 rounds.\n",
      "[100]\tvalid's auc: 0.751002\n",
      "[200]\tvalid's auc: 0.776665\n",
      "[300]\tvalid's auc: 0.788803\n",
      "[400]\tvalid's auc: 0.796921\n",
      "[500]\tvalid's auc: 0.801364\n",
      "[600]\tvalid's auc: 0.802855\n",
      "[700]\tvalid's auc: 0.803948\n",
      "[800]\tvalid's auc: 0.804436\n",
      "[900]\tvalid's auc: 0.805645\n",
      "[1000]\tvalid's auc: 0.806752\n",
      "[1100]\tvalid's auc: 0.806822\n",
      "[1200]\tvalid's auc: 0.80754\n",
      "Early stopping, best iteration is:\n",
      "[1187]\tvalid's auc: 0.807696\n"
     ]
    },
    {
     "name": "stderr",
     "output_type": "stream",
     "text": [
      "/home/wopr/.local/lib/python3.6/site-packages/sklearn/preprocessing/label.py:219: DataConversionWarning: A column-vector y was passed when a 1d array was expected. Please change the shape of y to (n_samples, ), for example using ravel().\n",
      "  y = column_or_1d(y, warn=True)\n",
      "/home/wopr/.local/lib/python3.6/site-packages/sklearn/preprocessing/label.py:252: DataConversionWarning: A column-vector y was passed when a 1d array was expected. Please change the shape of y to (n_samples, ), for example using ravel().\n",
      "  y = column_or_1d(y, warn=True)\n"
     ]
    },
    {
     "name": "stdout",
     "output_type": "stream",
     "text": [
      "Training until validation scores don't improve for 100 rounds.\n",
      "[100]\tvalid's auc: 0.737667\n",
      "[200]\tvalid's auc: 0.765614\n",
      "[300]\tvalid's auc: 0.781016\n",
      "[400]\tvalid's auc: 0.789717\n",
      "[500]\tvalid's auc: 0.796092\n",
      "[600]\tvalid's auc: 0.800877\n",
      "[700]\tvalid's auc: 0.804721\n",
      "[800]\tvalid's auc: 0.806826\n",
      "[900]\tvalid's auc: 0.808311\n",
      "[1000]\tvalid's auc: 0.810026\n",
      "[1100]\tvalid's auc: 0.810894\n",
      "[1200]\tvalid's auc: 0.812036\n",
      "[1300]\tvalid's auc: 0.812771\n",
      "[1400]\tvalid's auc: 0.813699\n",
      "[1500]\tvalid's auc: 0.813646\n",
      "[1600]\tvalid's auc: 0.814006\n",
      "[1700]\tvalid's auc: 0.814469\n",
      "[1800]\tvalid's auc: 0.814606\n",
      "[1900]\tvalid's auc: 0.814758\n",
      "Early stopping, best iteration is:\n",
      "[1871]\tvalid's auc: 0.814875\n"
     ]
    },
    {
     "name": "stderr",
     "output_type": "stream",
     "text": [
      "/home/wopr/.local/lib/python3.6/site-packages/sklearn/preprocessing/label.py:219: DataConversionWarning: A column-vector y was passed when a 1d array was expected. Please change the shape of y to (n_samples, ), for example using ravel().\n",
      "  y = column_or_1d(y, warn=True)\n",
      "/home/wopr/.local/lib/python3.6/site-packages/sklearn/preprocessing/label.py:252: DataConversionWarning: A column-vector y was passed when a 1d array was expected. Please change the shape of y to (n_samples, ), for example using ravel().\n",
      "  y = column_or_1d(y, warn=True)\n"
     ]
    },
    {
     "name": "stdout",
     "output_type": "stream",
     "text": [
      "Training until validation scores don't improve for 100 rounds.\n",
      "[100]\tvalid's auc: 0.736259\n",
      "[200]\tvalid's auc: 0.764398\n",
      "[300]\tvalid's auc: 0.777919\n",
      "[400]\tvalid's auc: 0.787906\n",
      "[500]\tvalid's auc: 0.793723\n",
      "[600]\tvalid's auc: 0.798665\n",
      "[700]\tvalid's auc: 0.801398\n",
      "[800]\tvalid's auc: 0.803527\n",
      "[900]\tvalid's auc: 0.805463\n",
      "[1000]\tvalid's auc: 0.806679\n",
      "[1100]\tvalid's auc: 0.807671\n",
      "[1200]\tvalid's auc: 0.808656\n",
      "[1300]\tvalid's auc: 0.809512\n",
      "[1400]\tvalid's auc: 0.809901\n",
      "[1500]\tvalid's auc: 0.810421\n",
      "[1600]\tvalid's auc: 0.810717\n",
      "[1700]\tvalid's auc: 0.810809\n",
      "[1800]\tvalid's auc: 0.81105\n",
      "[1900]\tvalid's auc: 0.811216\n",
      "[2000]\tvalid's auc: 0.811189\n",
      "[2100]\tvalid's auc: 0.811403\n",
      "Early stopping, best iteration is:\n",
      "[2045]\tvalid's auc: 0.811531\n"
     ]
    },
    {
     "name": "stderr",
     "output_type": "stream",
     "text": [
      "/home/wopr/.local/lib/python3.6/site-packages/sklearn/preprocessing/label.py:219: DataConversionWarning: A column-vector y was passed when a 1d array was expected. Please change the shape of y to (n_samples, ), for example using ravel().\n",
      "  y = column_or_1d(y, warn=True)\n",
      "/home/wopr/.local/lib/python3.6/site-packages/sklearn/preprocessing/label.py:252: DataConversionWarning: A column-vector y was passed when a 1d array was expected. Please change the shape of y to (n_samples, ), for example using ravel().\n",
      "  y = column_or_1d(y, warn=True)\n"
     ]
    },
    {
     "name": "stdout",
     "output_type": "stream",
     "text": [
      "Training until validation scores don't improve for 100 rounds.\n",
      "[100]\tvalid's auc: 0.737149\n",
      "[200]\tvalid's auc: 0.7661\n",
      "[300]\tvalid's auc: 0.780898\n",
      "[400]\tvalid's auc: 0.790661\n",
      "[500]\tvalid's auc: 0.796315\n",
      "[600]\tvalid's auc: 0.800989\n",
      "[700]\tvalid's auc: 0.804095\n",
      "[800]\tvalid's auc: 0.806786\n",
      "[900]\tvalid's auc: 0.808613\n",
      "[1000]\tvalid's auc: 0.810047\n",
      "[1100]\tvalid's auc: 0.811188\n",
      "[1200]\tvalid's auc: 0.81194\n",
      "[1300]\tvalid's auc: 0.813205\n",
      "[1400]\tvalid's auc: 0.813894\n",
      "[1500]\tvalid's auc: 0.813744\n",
      "Early stopping, best iteration is:\n",
      "[1436]\tvalid's auc: 0.814229\n"
     ]
    },
    {
     "name": "stderr",
     "output_type": "stream",
     "text": [
      "/home/wopr/.local/lib/python3.6/site-packages/sklearn/preprocessing/label.py:219: DataConversionWarning: A column-vector y was passed when a 1d array was expected. Please change the shape of y to (n_samples, ), for example using ravel().\n",
      "  y = column_or_1d(y, warn=True)\n",
      "/home/wopr/.local/lib/python3.6/site-packages/sklearn/preprocessing/label.py:252: DataConversionWarning: A column-vector y was passed when a 1d array was expected. Please change the shape of y to (n_samples, ), for example using ravel().\n",
      "  y = column_or_1d(y, warn=True)\n"
     ]
    },
    {
     "name": "stdout",
     "output_type": "stream",
     "text": [
      "Training until validation scores don't improve for 100 rounds.\n",
      "[100]\tvalid's auc: 0.5\n",
      "Early stopping, best iteration is:\n",
      "[1]\tvalid's auc: 0.5\n"
     ]
    },
    {
     "name": "stderr",
     "output_type": "stream",
     "text": [
      "/home/wopr/.local/lib/python3.6/site-packages/sklearn/preprocessing/label.py:219: DataConversionWarning: A column-vector y was passed when a 1d array was expected. Please change the shape of y to (n_samples, ), for example using ravel().\n",
      "  y = column_or_1d(y, warn=True)\n",
      "/home/wopr/.local/lib/python3.6/site-packages/sklearn/preprocessing/label.py:252: DataConversionWarning: A column-vector y was passed when a 1d array was expected. Please change the shape of y to (n_samples, ), for example using ravel().\n",
      "  y = column_or_1d(y, warn=True)\n"
     ]
    },
    {
     "name": "stdout",
     "output_type": "stream",
     "text": [
      "Training until validation scores don't improve for 100 rounds.\n",
      "[100]\tvalid's auc: 0.5\n",
      "Early stopping, best iteration is:\n",
      "[1]\tvalid's auc: 0.5\n"
     ]
    },
    {
     "name": "stderr",
     "output_type": "stream",
     "text": [
      "/home/wopr/.local/lib/python3.6/site-packages/sklearn/preprocessing/label.py:219: DataConversionWarning: A column-vector y was passed when a 1d array was expected. Please change the shape of y to (n_samples, ), for example using ravel().\n",
      "  y = column_or_1d(y, warn=True)\n",
      "/home/wopr/.local/lib/python3.6/site-packages/sklearn/preprocessing/label.py:252: DataConversionWarning: A column-vector y was passed when a 1d array was expected. Please change the shape of y to (n_samples, ), for example using ravel().\n",
      "  y = column_or_1d(y, warn=True)\n"
     ]
    },
    {
     "name": "stdout",
     "output_type": "stream",
     "text": [
      "Training until validation scores don't improve for 100 rounds.\n",
      "[100]\tvalid's auc: 0.5\n",
      "Early stopping, best iteration is:\n",
      "[1]\tvalid's auc: 0.5\n"
     ]
    },
    {
     "name": "stderr",
     "output_type": "stream",
     "text": [
      "/home/wopr/.local/lib/python3.6/site-packages/sklearn/preprocessing/label.py:219: DataConversionWarning: A column-vector y was passed when a 1d array was expected. Please change the shape of y to (n_samples, ), for example using ravel().\n",
      "  y = column_or_1d(y, warn=True)\n",
      "/home/wopr/.local/lib/python3.6/site-packages/sklearn/preprocessing/label.py:252: DataConversionWarning: A column-vector y was passed when a 1d array was expected. Please change the shape of y to (n_samples, ), for example using ravel().\n",
      "  y = column_or_1d(y, warn=True)\n"
     ]
    },
    {
     "name": "stdout",
     "output_type": "stream",
     "text": [
      "Training until validation scores don't improve for 100 rounds.\n",
      "[100]\tvalid's auc: 0.751122\n",
      "[200]\tvalid's auc: 0.775264\n",
      "[300]\tvalid's auc: 0.787933\n",
      "[400]\tvalid's auc: 0.795318\n",
      "[500]\tvalid's auc: 0.799902\n",
      "[600]\tvalid's auc: 0.802543\n",
      "[700]\tvalid's auc: 0.803809\n",
      "[800]\tvalid's auc: 0.804945\n",
      "[900]\tvalid's auc: 0.805679\n",
      "[1000]\tvalid's auc: 0.805928\n",
      "Early stopping, best iteration is:\n",
      "[947]\tvalid's auc: 0.806212\n"
     ]
    },
    {
     "name": "stderr",
     "output_type": "stream",
     "text": [
      "/home/wopr/.local/lib/python3.6/site-packages/sklearn/preprocessing/label.py:219: DataConversionWarning: A column-vector y was passed when a 1d array was expected. Please change the shape of y to (n_samples, ), for example using ravel().\n",
      "  y = column_or_1d(y, warn=True)\n",
      "/home/wopr/.local/lib/python3.6/site-packages/sklearn/preprocessing/label.py:252: DataConversionWarning: A column-vector y was passed when a 1d array was expected. Please change the shape of y to (n_samples, ), for example using ravel().\n",
      "  y = column_or_1d(y, warn=True)\n"
     ]
    },
    {
     "name": "stdout",
     "output_type": "stream",
     "text": [
      "Training until validation scores don't improve for 100 rounds.\n",
      "[100]\tvalid's auc: 0.749819\n",
      "[200]\tvalid's auc: 0.775816\n",
      "[300]\tvalid's auc: 0.788618\n",
      "[400]\tvalid's auc: 0.795659\n",
      "[500]\tvalid's auc: 0.800714\n",
      "[600]\tvalid's auc: 0.803047\n",
      "[700]\tvalid's auc: 0.805123\n",
      "[800]\tvalid's auc: 0.806662\n",
      "[900]\tvalid's auc: 0.807725\n",
      "[1000]\tvalid's auc: 0.807844\n",
      "Early stopping, best iteration is:\n",
      "[985]\tvalid's auc: 0.808067\n"
     ]
    },
    {
     "name": "stderr",
     "output_type": "stream",
     "text": [
      "/home/wopr/.local/lib/python3.6/site-packages/sklearn/preprocessing/label.py:219: DataConversionWarning: A column-vector y was passed when a 1d array was expected. Please change the shape of y to (n_samples, ), for example using ravel().\n",
      "  y = column_or_1d(y, warn=True)\n",
      "/home/wopr/.local/lib/python3.6/site-packages/sklearn/preprocessing/label.py:252: DataConversionWarning: A column-vector y was passed when a 1d array was expected. Please change the shape of y to (n_samples, ), for example using ravel().\n",
      "  y = column_or_1d(y, warn=True)\n"
     ]
    },
    {
     "name": "stdout",
     "output_type": "stream",
     "text": [
      "Training until validation scores don't improve for 100 rounds.\n",
      "[100]\tvalid's auc: 0.753087\n",
      "[200]\tvalid's auc: 0.778862\n",
      "[300]\tvalid's auc: 0.789862\n",
      "[400]\tvalid's auc: 0.796482\n",
      "[500]\tvalid's auc: 0.801149\n",
      "[600]\tvalid's auc: 0.802819\n",
      "[700]\tvalid's auc: 0.804441\n",
      "[800]\tvalid's auc: 0.805024\n",
      "[900]\tvalid's auc: 0.80505\n",
      "[1000]\tvalid's auc: 0.80591\n",
      "[1100]\tvalid's auc: 0.806266\n",
      "[1200]\tvalid's auc: 0.806546\n",
      "Early stopping, best iteration is:\n",
      "[1186]\tvalid's auc: 0.806672\n"
     ]
    },
    {
     "name": "stderr",
     "output_type": "stream",
     "text": [
      "/home/wopr/.local/lib/python3.6/site-packages/sklearn/preprocessing/label.py:219: DataConversionWarning: A column-vector y was passed when a 1d array was expected. Please change the shape of y to (n_samples, ), for example using ravel().\n",
      "  y = column_or_1d(y, warn=True)\n",
      "/home/wopr/.local/lib/python3.6/site-packages/sklearn/preprocessing/label.py:252: DataConversionWarning: A column-vector y was passed when a 1d array was expected. Please change the shape of y to (n_samples, ), for example using ravel().\n",
      "  y = column_or_1d(y, warn=True)\n"
     ]
    },
    {
     "name": "stdout",
     "output_type": "stream",
     "text": [
      "Training until validation scores don't improve for 100 rounds.\n",
      "[100]\tvalid's auc: 0.743426\n",
      "[200]\tvalid's auc: 0.772259\n",
      "[300]\tvalid's auc: 0.785466\n",
      "[400]\tvalid's auc: 0.793447\n",
      "[500]\tvalid's auc: 0.798127\n",
      "[600]\tvalid's auc: 0.800757\n",
      "[700]\tvalid's auc: 0.802038\n",
      "[800]\tvalid's auc: 0.802994\n",
      "[900]\tvalid's auc: 0.803306\n",
      "[1000]\tvalid's auc: 0.803756\n",
      "[1100]\tvalid's auc: 0.804099\n",
      "[1200]\tvalid's auc: 0.804311\n",
      "[1300]\tvalid's auc: 0.804858\n",
      "Early stopping, best iteration is:\n",
      "[1282]\tvalid's auc: 0.805055\n"
     ]
    },
    {
     "name": "stderr",
     "output_type": "stream",
     "text": [
      "/home/wopr/.local/lib/python3.6/site-packages/sklearn/preprocessing/label.py:219: DataConversionWarning: A column-vector y was passed when a 1d array was expected. Please change the shape of y to (n_samples, ), for example using ravel().\n",
      "  y = column_or_1d(y, warn=True)\n",
      "/home/wopr/.local/lib/python3.6/site-packages/sklearn/preprocessing/label.py:252: DataConversionWarning: A column-vector y was passed when a 1d array was expected. Please change the shape of y to (n_samples, ), for example using ravel().\n",
      "  y = column_or_1d(y, warn=True)\n"
     ]
    },
    {
     "name": "stdout",
     "output_type": "stream",
     "text": [
      "Training until validation scores don't improve for 100 rounds.\n",
      "[100]\tvalid's auc: 0.74431\n",
      "[200]\tvalid's auc: 0.77066\n",
      "[300]\tvalid's auc: 0.785153\n",
      "[400]\tvalid's auc: 0.793486\n",
      "[500]\tvalid's auc: 0.79829\n",
      "[600]\tvalid's auc: 0.80145\n",
      "[700]\tvalid's auc: 0.803717\n",
      "[800]\tvalid's auc: 0.804298\n",
      "[900]\tvalid's auc: 0.805166\n",
      "[1000]\tvalid's auc: 0.805712\n",
      "[1100]\tvalid's auc: 0.806272\n",
      "[1200]\tvalid's auc: 0.806686\n",
      "[1300]\tvalid's auc: 0.80697\n",
      "Early stopping, best iteration is:\n",
      "[1275]\tvalid's auc: 0.807059\n"
     ]
    },
    {
     "name": "stderr",
     "output_type": "stream",
     "text": [
      "/home/wopr/.local/lib/python3.6/site-packages/sklearn/preprocessing/label.py:219: DataConversionWarning: A column-vector y was passed when a 1d array was expected. Please change the shape of y to (n_samples, ), for example using ravel().\n",
      "  y = column_or_1d(y, warn=True)\n",
      "/home/wopr/.local/lib/python3.6/site-packages/sklearn/preprocessing/label.py:252: DataConversionWarning: A column-vector y was passed when a 1d array was expected. Please change the shape of y to (n_samples, ), for example using ravel().\n",
      "  y = column_or_1d(y, warn=True)\n"
     ]
    },
    {
     "name": "stdout",
     "output_type": "stream",
     "text": [
      "Training until validation scores don't improve for 100 rounds.\n",
      "[100]\tvalid's auc: 0.742342\n",
      "[200]\tvalid's auc: 0.771606\n",
      "[300]\tvalid's auc: 0.785976\n",
      "[400]\tvalid's auc: 0.793253\n",
      "[500]\tvalid's auc: 0.797707\n",
      "[600]\tvalid's auc: 0.800191\n",
      "[700]\tvalid's auc: 0.801662\n",
      "[800]\tvalid's auc: 0.802857\n",
      "[900]\tvalid's auc: 0.80426\n",
      "[1000]\tvalid's auc: 0.804612\n",
      "[1100]\tvalid's auc: 0.804549\n",
      "[1200]\tvalid's auc: 0.804632\n",
      "[1300]\tvalid's auc: 0.805297\n",
      "[1400]\tvalid's auc: 0.805807\n",
      "[1500]\tvalid's auc: 0.80604\n",
      "[1600]\tvalid's auc: 0.806516\n",
      "[1700]\tvalid's auc: 0.806775\n",
      "[1800]\tvalid's auc: 0.807246\n",
      "[1900]\tvalid's auc: 0.807384\n",
      "Early stopping, best iteration is:\n",
      "[1870]\tvalid's auc: 0.807665\n"
     ]
    },
    {
     "name": "stderr",
     "output_type": "stream",
     "text": [
      "/home/wopr/.local/lib/python3.6/site-packages/sklearn/preprocessing/label.py:219: DataConversionWarning: A column-vector y was passed when a 1d array was expected. Please change the shape of y to (n_samples, ), for example using ravel().\n",
      "  y = column_or_1d(y, warn=True)\n",
      "/home/wopr/.local/lib/python3.6/site-packages/sklearn/preprocessing/label.py:252: DataConversionWarning: A column-vector y was passed when a 1d array was expected. Please change the shape of y to (n_samples, ), for example using ravel().\n",
      "  y = column_or_1d(y, warn=True)\n"
     ]
    },
    {
     "name": "stdout",
     "output_type": "stream",
     "text": [
      "Training until validation scores don't improve for 100 rounds.\n",
      "[100]\tvalid's auc: 0.752992\n",
      "[200]\tvalid's auc: 0.777457\n",
      "[300]\tvalid's auc: 0.790051\n",
      "[400]\tvalid's auc: 0.794199\n",
      "[500]\tvalid's auc: 0.798942\n",
      "[600]\tvalid's auc: 0.800022\n",
      "Early stopping, best iteration is:\n",
      "[556]\tvalid's auc: 0.800268\n"
     ]
    },
    {
     "name": "stderr",
     "output_type": "stream",
     "text": [
      "/home/wopr/.local/lib/python3.6/site-packages/sklearn/preprocessing/label.py:219: DataConversionWarning: A column-vector y was passed when a 1d array was expected. Please change the shape of y to (n_samples, ), for example using ravel().\n",
      "  y = column_or_1d(y, warn=True)\n",
      "/home/wopr/.local/lib/python3.6/site-packages/sklearn/preprocessing/label.py:252: DataConversionWarning: A column-vector y was passed when a 1d array was expected. Please change the shape of y to (n_samples, ), for example using ravel().\n",
      "  y = column_or_1d(y, warn=True)\n"
     ]
    },
    {
     "name": "stdout",
     "output_type": "stream",
     "text": [
      "Training until validation scores don't improve for 100 rounds.\n",
      "[100]\tvalid's auc: 0.752109\n",
      "[200]\tvalid's auc: 0.777626\n",
      "[300]\tvalid's auc: 0.790434\n",
      "[400]\tvalid's auc: 0.795261\n",
      "[500]\tvalid's auc: 0.798117\n",
      "[600]\tvalid's auc: 0.798185\n",
      "[700]\tvalid's auc: 0.798696\n",
      "Early stopping, best iteration is:\n",
      "[622]\tvalid's auc: 0.798838\n"
     ]
    },
    {
     "name": "stderr",
     "output_type": "stream",
     "text": [
      "/home/wopr/.local/lib/python3.6/site-packages/sklearn/preprocessing/label.py:219: DataConversionWarning: A column-vector y was passed when a 1d array was expected. Please change the shape of y to (n_samples, ), for example using ravel().\n",
      "  y = column_or_1d(y, warn=True)\n",
      "/home/wopr/.local/lib/python3.6/site-packages/sklearn/preprocessing/label.py:252: DataConversionWarning: A column-vector y was passed when a 1d array was expected. Please change the shape of y to (n_samples, ), for example using ravel().\n",
      "  y = column_or_1d(y, warn=True)\n"
     ]
    },
    {
     "name": "stdout",
     "output_type": "stream",
     "text": [
      "Training until validation scores don't improve for 100 rounds.\n",
      "[100]\tvalid's auc: 0.754908\n",
      "[200]\tvalid's auc: 0.778096\n",
      "[300]\tvalid's auc: 0.789893\n",
      "[400]\tvalid's auc: 0.794619\n",
      "[500]\tvalid's auc: 0.797749\n",
      "[600]\tvalid's auc: 0.799768\n",
      "[700]\tvalid's auc: 0.800109\n",
      "[800]\tvalid's auc: 0.799934\n",
      "[900]\tvalid's auc: 0.801272\n",
      "[1000]\tvalid's auc: 0.801501\n",
      "[1100]\tvalid's auc: 0.80145\n",
      "Early stopping, best iteration is:\n",
      "[1044]\tvalid's auc: 0.801827\n"
     ]
    },
    {
     "name": "stderr",
     "output_type": "stream",
     "text": [
      "/home/wopr/.local/lib/python3.6/site-packages/sklearn/preprocessing/label.py:219: DataConversionWarning: A column-vector y was passed when a 1d array was expected. Please change the shape of y to (n_samples, ), for example using ravel().\n",
      "  y = column_or_1d(y, warn=True)\n",
      "/home/wopr/.local/lib/python3.6/site-packages/sklearn/preprocessing/label.py:252: DataConversionWarning: A column-vector y was passed when a 1d array was expected. Please change the shape of y to (n_samples, ), for example using ravel().\n",
      "  y = column_or_1d(y, warn=True)\n"
     ]
    },
    {
     "name": "stdout",
     "output_type": "stream",
     "text": [
      "Training until validation scores don't improve for 100 rounds.\n",
      "[100]\tvalid's auc: 0.741966\n",
      "[200]\tvalid's auc: 0.771366\n",
      "[300]\tvalid's auc: 0.785757\n",
      "[400]\tvalid's auc: 0.794486\n",
      "[500]\tvalid's auc: 0.801324\n",
      "[600]\tvalid's auc: 0.804529\n",
      "[700]\tvalid's auc: 0.80661\n",
      "[800]\tvalid's auc: 0.80868\n",
      "[900]\tvalid's auc: 0.809152\n",
      "[1000]\tvalid's auc: 0.810036\n",
      "[1100]\tvalid's auc: 0.810634\n",
      "[1200]\tvalid's auc: 0.811534\n",
      "[1300]\tvalid's auc: 0.812375\n",
      "[1400]\tvalid's auc: 0.812725\n",
      "[1500]\tvalid's auc: 0.812778\n",
      "[1600]\tvalid's auc: 0.812743\n",
      "Early stopping, best iteration is:\n",
      "[1531]\tvalid's auc: 0.812882\n"
     ]
    },
    {
     "name": "stderr",
     "output_type": "stream",
     "text": [
      "/home/wopr/.local/lib/python3.6/site-packages/sklearn/preprocessing/label.py:219: DataConversionWarning: A column-vector y was passed when a 1d array was expected. Please change the shape of y to (n_samples, ), for example using ravel().\n",
      "  y = column_or_1d(y, warn=True)\n",
      "/home/wopr/.local/lib/python3.6/site-packages/sklearn/preprocessing/label.py:252: DataConversionWarning: A column-vector y was passed when a 1d array was expected. Please change the shape of y to (n_samples, ), for example using ravel().\n",
      "  y = column_or_1d(y, warn=True)\n"
     ]
    },
    {
     "name": "stdout",
     "output_type": "stream",
     "text": [
      "Training until validation scores don't improve for 100 rounds.\n",
      "[100]\tvalid's auc: 0.742961\n",
      "[200]\tvalid's auc: 0.771743\n",
      "[300]\tvalid's auc: 0.786185\n",
      "[400]\tvalid's auc: 0.793512\n",
      "[500]\tvalid's auc: 0.79845\n",
      "[600]\tvalid's auc: 0.802761\n",
      "[700]\tvalid's auc: 0.805653\n",
      "[800]\tvalid's auc: 0.807255\n",
      "[900]\tvalid's auc: 0.808195\n",
      "[1000]\tvalid's auc: 0.809045\n",
      "[1100]\tvalid's auc: 0.809515\n",
      "[1200]\tvalid's auc: 0.810025\n",
      "[1300]\tvalid's auc: 0.810491\n",
      "[1400]\tvalid's auc: 0.810934\n",
      "[1500]\tvalid's auc: 0.811155\n",
      "[1600]\tvalid's auc: 0.81124\n",
      "[1700]\tvalid's auc: 0.811467\n",
      "[1800]\tvalid's auc: 0.811582\n",
      "Early stopping, best iteration is:\n",
      "[1788]\tvalid's auc: 0.811701\n"
     ]
    },
    {
     "name": "stderr",
     "output_type": "stream",
     "text": [
      "/home/wopr/.local/lib/python3.6/site-packages/sklearn/preprocessing/label.py:219: DataConversionWarning: A column-vector y was passed when a 1d array was expected. Please change the shape of y to (n_samples, ), for example using ravel().\n",
      "  y = column_or_1d(y, warn=True)\n",
      "/home/wopr/.local/lib/python3.6/site-packages/sklearn/preprocessing/label.py:252: DataConversionWarning: A column-vector y was passed when a 1d array was expected. Please change the shape of y to (n_samples, ), for example using ravel().\n",
      "  y = column_or_1d(y, warn=True)\n"
     ]
    },
    {
     "name": "stdout",
     "output_type": "stream",
     "text": [
      "Training until validation scores don't improve for 100 rounds.\n",
      "[100]\tvalid's auc: 0.743363\n",
      "[200]\tvalid's auc: 0.772538\n",
      "[300]\tvalid's auc: 0.785514\n",
      "[400]\tvalid's auc: 0.793574\n",
      "[500]\tvalid's auc: 0.798815\n",
      "[600]\tvalid's auc: 0.802651\n",
      "[700]\tvalid's auc: 0.80523\n",
      "[800]\tvalid's auc: 0.807656\n",
      "[900]\tvalid's auc: 0.808795\n",
      "[1000]\tvalid's auc: 0.809481\n",
      "[1100]\tvalid's auc: 0.810006\n",
      "[1200]\tvalid's auc: 0.810734\n",
      "[1300]\tvalid's auc: 0.811309\n",
      "[1400]\tvalid's auc: 0.811734\n",
      "Early stopping, best iteration is:\n",
      "[1351]\tvalid's auc: 0.811857\n"
     ]
    },
    {
     "name": "stderr",
     "output_type": "stream",
     "text": [
      "/home/wopr/.local/lib/python3.6/site-packages/sklearn/preprocessing/label.py:219: DataConversionWarning: A column-vector y was passed when a 1d array was expected. Please change the shape of y to (n_samples, ), for example using ravel().\n",
      "  y = column_or_1d(y, warn=True)\n",
      "/home/wopr/.local/lib/python3.6/site-packages/sklearn/preprocessing/label.py:252: DataConversionWarning: A column-vector y was passed when a 1d array was expected. Please change the shape of y to (n_samples, ), for example using ravel().\n",
      "  y = column_or_1d(y, warn=True)\n"
     ]
    },
    {
     "name": "stdout",
     "output_type": "stream",
     "text": [
      "Training until validation scores don't improve for 100 rounds.\n",
      "[100]\tvalid's auc: 0.743958\n",
      "[200]\tvalid's auc: 0.772979\n",
      "[300]\tvalid's auc: 0.787866\n",
      "[400]\tvalid's auc: 0.79521\n",
      "[500]\tvalid's auc: 0.799684\n",
      "[600]\tvalid's auc: 0.802756\n",
      "[700]\tvalid's auc: 0.804803\n",
      "[800]\tvalid's auc: 0.806557\n",
      "[900]\tvalid's auc: 0.807944\n",
      "Early stopping, best iteration is:\n",
      "[863]\tvalid's auc: 0.807944\n"
     ]
    },
    {
     "name": "stderr",
     "output_type": "stream",
     "text": [
      "/home/wopr/.local/lib/python3.6/site-packages/sklearn/preprocessing/label.py:219: DataConversionWarning: A column-vector y was passed when a 1d array was expected. Please change the shape of y to (n_samples, ), for example using ravel().\n",
      "  y = column_or_1d(y, warn=True)\n",
      "/home/wopr/.local/lib/python3.6/site-packages/sklearn/preprocessing/label.py:252: DataConversionWarning: A column-vector y was passed when a 1d array was expected. Please change the shape of y to (n_samples, ), for example using ravel().\n",
      "  y = column_or_1d(y, warn=True)\n"
     ]
    },
    {
     "name": "stdout",
     "output_type": "stream",
     "text": [
      "Training until validation scores don't improve for 100 rounds.\n",
      "[100]\tvalid's auc: 0.747152\n",
      "[200]\tvalid's auc: 0.771819\n",
      "[300]\tvalid's auc: 0.784778\n",
      "[400]\tvalid's auc: 0.79267\n",
      "[500]\tvalid's auc: 0.796322\n",
      "[600]\tvalid's auc: 0.799846\n",
      "[700]\tvalid's auc: 0.801352\n",
      "[800]\tvalid's auc: 0.803399\n",
      "[900]\tvalid's auc: 0.804655\n",
      "Early stopping, best iteration is:\n",
      "[874]\tvalid's auc: 0.804655\n"
     ]
    },
    {
     "name": "stderr",
     "output_type": "stream",
     "text": [
      "/home/wopr/.local/lib/python3.6/site-packages/sklearn/preprocessing/label.py:219: DataConversionWarning: A column-vector y was passed when a 1d array was expected. Please change the shape of y to (n_samples, ), for example using ravel().\n",
      "  y = column_or_1d(y, warn=True)\n",
      "/home/wopr/.local/lib/python3.6/site-packages/sklearn/preprocessing/label.py:252: DataConversionWarning: A column-vector y was passed when a 1d array was expected. Please change the shape of y to (n_samples, ), for example using ravel().\n",
      "  y = column_or_1d(y, warn=True)\n"
     ]
    },
    {
     "name": "stdout",
     "output_type": "stream",
     "text": [
      "Training until validation scores don't improve for 100 rounds.\n",
      "[100]\tvalid's auc: 0.746218\n",
      "[200]\tvalid's auc: 0.773301\n",
      "[300]\tvalid's auc: 0.786696\n",
      "[400]\tvalid's auc: 0.792971\n",
      "[500]\tvalid's auc: 0.79736\n",
      "[600]\tvalid's auc: 0.800523\n",
      "[700]\tvalid's auc: 0.802693\n",
      "[800]\tvalid's auc: 0.804987\n",
      "[900]\tvalid's auc: 0.806221\n",
      "Early stopping, best iteration is:\n",
      "[888]\tvalid's auc: 0.806228\n"
     ]
    },
    {
     "name": "stderr",
     "output_type": "stream",
     "text": [
      "/home/wopr/.local/lib/python3.6/site-packages/sklearn/preprocessing/label.py:219: DataConversionWarning: A column-vector y was passed when a 1d array was expected. Please change the shape of y to (n_samples, ), for example using ravel().\n",
      "  y = column_or_1d(y, warn=True)\n",
      "/home/wopr/.local/lib/python3.6/site-packages/sklearn/preprocessing/label.py:252: DataConversionWarning: A column-vector y was passed when a 1d array was expected. Please change the shape of y to (n_samples, ), for example using ravel().\n",
      "  y = column_or_1d(y, warn=True)\n"
     ]
    },
    {
     "name": "stdout",
     "output_type": "stream",
     "text": [
      "Training until validation scores don't improve for 100 rounds.\n",
      "[100]\tvalid's auc: 0.758494\n",
      "[200]\tvalid's auc: 0.783074\n",
      "[300]\tvalid's auc: 0.793455\n",
      "[400]\tvalid's auc: 0.79944\n",
      "[500]\tvalid's auc: 0.802141\n",
      "[600]\tvalid's auc: 0.804261\n",
      "[700]\tvalid's auc: 0.805557\n",
      "[800]\tvalid's auc: 0.806284\n",
      "[900]\tvalid's auc: 0.807738\n",
      "[1000]\tvalid's auc: 0.808645\n",
      "[1100]\tvalid's auc: 0.809334\n",
      "[1200]\tvalid's auc: 0.81017\n",
      "[1300]\tvalid's auc: 0.810429\n",
      "[1400]\tvalid's auc: 0.811413\n",
      "[1500]\tvalid's auc: 0.811974\n",
      "[1600]\tvalid's auc: 0.812422\n",
      "[1700]\tvalid's auc: 0.812741\n",
      "[1800]\tvalid's auc: 0.8134\n",
      "[1900]\tvalid's auc: 0.813926\n",
      "[2000]\tvalid's auc: 0.814129\n",
      "[2100]\tvalid's auc: 0.81442\n",
      "[2200]\tvalid's auc: 0.814798\n",
      "[2300]\tvalid's auc: 0.815138\n",
      "[2400]\tvalid's auc: 0.815492\n",
      "[2500]\tvalid's auc: 0.81602\n",
      "[2600]\tvalid's auc: 0.816484\n",
      "[2700]\tvalid's auc: 0.816678\n",
      "[2800]\tvalid's auc: 0.816939\n",
      "[2900]\tvalid's auc: 0.817096\n",
      "Early stopping, best iteration is:\n",
      "[2836]\tvalid's auc: 0.817099\n"
     ]
    },
    {
     "name": "stderr",
     "output_type": "stream",
     "text": [
      "/home/wopr/.local/lib/python3.6/site-packages/sklearn/preprocessing/label.py:219: DataConversionWarning: A column-vector y was passed when a 1d array was expected. Please change the shape of y to (n_samples, ), for example using ravel().\n",
      "  y = column_or_1d(y, warn=True)\n",
      "/home/wopr/.local/lib/python3.6/site-packages/sklearn/preprocessing/label.py:252: DataConversionWarning: A column-vector y was passed when a 1d array was expected. Please change the shape of y to (n_samples, ), for example using ravel().\n",
      "  y = column_or_1d(y, warn=True)\n"
     ]
    },
    {
     "name": "stdout",
     "output_type": "stream",
     "text": [
      "Training until validation scores don't improve for 100 rounds.\n",
      "[100]\tvalid's auc: 0.758056\n",
      "[200]\tvalid's auc: 0.783265\n",
      "[300]\tvalid's auc: 0.793065\n",
      "[400]\tvalid's auc: 0.799234\n",
      "[500]\tvalid's auc: 0.802772\n",
      "[600]\tvalid's auc: 0.804544\n",
      "[700]\tvalid's auc: 0.805625\n",
      "[800]\tvalid's auc: 0.806414\n",
      "[900]\tvalid's auc: 0.807358\n",
      "[1000]\tvalid's auc: 0.807354\n",
      "Early stopping, best iteration is:\n",
      "[909]\tvalid's auc: 0.807639\n"
     ]
    },
    {
     "name": "stderr",
     "output_type": "stream",
     "text": [
      "/home/wopr/.local/lib/python3.6/site-packages/sklearn/preprocessing/label.py:219: DataConversionWarning: A column-vector y was passed when a 1d array was expected. Please change the shape of y to (n_samples, ), for example using ravel().\n",
      "  y = column_or_1d(y, warn=True)\n",
      "/home/wopr/.local/lib/python3.6/site-packages/sklearn/preprocessing/label.py:252: DataConversionWarning: A column-vector y was passed when a 1d array was expected. Please change the shape of y to (n_samples, ), for example using ravel().\n",
      "  y = column_or_1d(y, warn=True)\n"
     ]
    },
    {
     "name": "stdout",
     "output_type": "stream",
     "text": [
      "Training until validation scores don't improve for 100 rounds.\n",
      "[100]\tvalid's auc: 0.761747\n",
      "[200]\tvalid's auc: 0.783796\n",
      "[300]\tvalid's auc: 0.79389\n",
      "[400]\tvalid's auc: 0.798211\n",
      "[500]\tvalid's auc: 0.80164\n",
      "[600]\tvalid's auc: 0.802694\n",
      "[700]\tvalid's auc: 0.804845\n",
      "[800]\tvalid's auc: 0.806016\n",
      "[900]\tvalid's auc: 0.80745\n",
      "[1000]\tvalid's auc: 0.808051\n",
      "[1100]\tvalid's auc: 0.80911\n",
      "[1200]\tvalid's auc: 0.809294\n",
      "[1300]\tvalid's auc: 0.810025\n",
      "[1400]\tvalid's auc: 0.810661\n",
      "[1500]\tvalid's auc: 0.811282\n",
      "[1600]\tvalid's auc: 0.811682\n",
      "[1700]\tvalid's auc: 0.811923\n",
      "[1800]\tvalid's auc: 0.812149\n",
      "[1900]\tvalid's auc: 0.812223\n",
      "Early stopping, best iteration is:\n",
      "[1830]\tvalid's auc: 0.812358\n"
     ]
    },
    {
     "name": "stderr",
     "output_type": "stream",
     "text": [
      "/home/wopr/.local/lib/python3.6/site-packages/sklearn/preprocessing/label.py:219: DataConversionWarning: A column-vector y was passed when a 1d array was expected. Please change the shape of y to (n_samples, ), for example using ravel().\n",
      "  y = column_or_1d(y, warn=True)\n",
      "/home/wopr/.local/lib/python3.6/site-packages/sklearn/preprocessing/label.py:252: DataConversionWarning: A column-vector y was passed when a 1d array was expected. Please change the shape of y to (n_samples, ), for example using ravel().\n",
      "  y = column_or_1d(y, warn=True)\n"
     ]
    },
    {
     "name": "stdout",
     "output_type": "stream",
     "text": [
      "Training until validation scores don't improve for 100 rounds.\n",
      "[100]\tvalid's auc: 0.728773\n",
      "[200]\tvalid's auc: 0.758321\n",
      "[300]\tvalid's auc: 0.773545\n",
      "[400]\tvalid's auc: 0.784169\n",
      "[500]\tvalid's auc: 0.790945\n",
      "[600]\tvalid's auc: 0.794984\n",
      "[700]\tvalid's auc: 0.798623\n",
      "[800]\tvalid's auc: 0.800835\n",
      "[900]\tvalid's auc: 0.802391\n",
      "[1000]\tvalid's auc: 0.804165\n",
      "[1100]\tvalid's auc: 0.805545\n",
      "[1200]\tvalid's auc: 0.806521\n",
      "[1300]\tvalid's auc: 0.807349\n",
      "[1400]\tvalid's auc: 0.808638\n",
      "[1500]\tvalid's auc: 0.809012\n",
      "[1600]\tvalid's auc: 0.80931\n",
      "Early stopping, best iteration is:\n",
      "[1552]\tvalid's auc: 0.809474\n"
     ]
    },
    {
     "name": "stderr",
     "output_type": "stream",
     "text": [
      "/home/wopr/.local/lib/python3.6/site-packages/sklearn/preprocessing/label.py:219: DataConversionWarning: A column-vector y was passed when a 1d array was expected. Please change the shape of y to (n_samples, ), for example using ravel().\n",
      "  y = column_or_1d(y, warn=True)\n",
      "/home/wopr/.local/lib/python3.6/site-packages/sklearn/preprocessing/label.py:252: DataConversionWarning: A column-vector y was passed when a 1d array was expected. Please change the shape of y to (n_samples, ), for example using ravel().\n",
      "  y = column_or_1d(y, warn=True)\n"
     ]
    },
    {
     "name": "stdout",
     "output_type": "stream",
     "text": [
      "Training until validation scores don't improve for 100 rounds.\n",
      "[100]\tvalid's auc: 0.725982\n",
      "[200]\tvalid's auc: 0.754834\n",
      "[300]\tvalid's auc: 0.771989\n",
      "[400]\tvalid's auc: 0.781942\n",
      "[500]\tvalid's auc: 0.788922\n",
      "[600]\tvalid's auc: 0.793654\n",
      "[700]\tvalid's auc: 0.796237\n",
      "[800]\tvalid's auc: 0.798335\n",
      "[900]\tvalid's auc: 0.801004\n",
      "[1000]\tvalid's auc: 0.802357\n",
      "[1100]\tvalid's auc: 0.803219\n",
      "[1200]\tvalid's auc: 0.804518\n",
      "[1300]\tvalid's auc: 0.804831\n",
      "[1400]\tvalid's auc: 0.805807\n",
      "[1500]\tvalid's auc: 0.806574\n",
      "[1600]\tvalid's auc: 0.807755\n",
      "[1700]\tvalid's auc: 0.808847\n",
      "[1800]\tvalid's auc: 0.809289\n",
      "[1900]\tvalid's auc: 0.809538\n",
      "Early stopping, best iteration is:\n",
      "[1859]\tvalid's auc: 0.809749\n"
     ]
    },
    {
     "name": "stderr",
     "output_type": "stream",
     "text": [
      "/home/wopr/.local/lib/python3.6/site-packages/sklearn/preprocessing/label.py:219: DataConversionWarning: A column-vector y was passed when a 1d array was expected. Please change the shape of y to (n_samples, ), for example using ravel().\n",
      "  y = column_or_1d(y, warn=True)\n",
      "/home/wopr/.local/lib/python3.6/site-packages/sklearn/preprocessing/label.py:252: DataConversionWarning: A column-vector y was passed when a 1d array was expected. Please change the shape of y to (n_samples, ), for example using ravel().\n",
      "  y = column_or_1d(y, warn=True)\n"
     ]
    },
    {
     "name": "stdout",
     "output_type": "stream",
     "text": [
      "Training until validation scores don't improve for 100 rounds.\n",
      "[100]\tvalid's auc: 0.726398\n",
      "[200]\tvalid's auc: 0.756832\n",
      "[300]\tvalid's auc: 0.772075\n",
      "[400]\tvalid's auc: 0.78178\n",
      "[500]\tvalid's auc: 0.789166\n",
      "[600]\tvalid's auc: 0.793995\n",
      "[700]\tvalid's auc: 0.796979\n",
      "[800]\tvalid's auc: 0.799236\n",
      "[900]\tvalid's auc: 0.800893\n",
      "[1000]\tvalid's auc: 0.802623\n",
      "[1100]\tvalid's auc: 0.804065\n",
      "[1200]\tvalid's auc: 0.804726\n",
      "[1300]\tvalid's auc: 0.805864\n",
      "[1400]\tvalid's auc: 0.806542\n",
      "[1500]\tvalid's auc: 0.806985\n",
      "[1600]\tvalid's auc: 0.807666\n",
      "[1700]\tvalid's auc: 0.80822\n",
      "[1800]\tvalid's auc: 0.808688\n",
      "[1900]\tvalid's auc: 0.809074\n",
      "[2000]\tvalid's auc: 0.809887\n",
      "[2100]\tvalid's auc: 0.809787\n",
      "Early stopping, best iteration is:\n",
      "[2091]\tvalid's auc: 0.809939\n"
     ]
    },
    {
     "name": "stderr",
     "output_type": "stream",
     "text": [
      "/home/wopr/.local/lib/python3.6/site-packages/sklearn/preprocessing/label.py:219: DataConversionWarning: A column-vector y was passed when a 1d array was expected. Please change the shape of y to (n_samples, ), for example using ravel().\n",
      "  y = column_or_1d(y, warn=True)\n",
      "/home/wopr/.local/lib/python3.6/site-packages/sklearn/preprocessing/label.py:252: DataConversionWarning: A column-vector y was passed when a 1d array was expected. Please change the shape of y to (n_samples, ), for example using ravel().\n",
      "  y = column_or_1d(y, warn=True)\n"
     ]
    },
    {
     "name": "stdout",
     "output_type": "stream",
     "text": [
      "Training until validation scores don't improve for 100 rounds.\n",
      "[100]\tvalid's auc: 0.76413\n",
      "[200]\tvalid's auc: 0.78505\n",
      "[300]\tvalid's auc: 0.7963\n",
      "[400]\tvalid's auc: 0.802605\n",
      "[500]\tvalid's auc: 0.8061\n",
      "[600]\tvalid's auc: 0.808173\n",
      "[700]\tvalid's auc: 0.809419\n",
      "[800]\tvalid's auc: 0.810828\n",
      "[900]\tvalid's auc: 0.811669\n",
      "[1000]\tvalid's auc: 0.812253\n",
      "[1100]\tvalid's auc: 0.812941\n",
      "Early stopping, best iteration is:\n",
      "[1069]\tvalid's auc: 0.813147\n"
     ]
    },
    {
     "name": "stderr",
     "output_type": "stream",
     "text": [
      "/home/wopr/.local/lib/python3.6/site-packages/sklearn/preprocessing/label.py:219: DataConversionWarning: A column-vector y was passed when a 1d array was expected. Please change the shape of y to (n_samples, ), for example using ravel().\n",
      "  y = column_or_1d(y, warn=True)\n",
      "/home/wopr/.local/lib/python3.6/site-packages/sklearn/preprocessing/label.py:252: DataConversionWarning: A column-vector y was passed when a 1d array was expected. Please change the shape of y to (n_samples, ), for example using ravel().\n",
      "  y = column_or_1d(y, warn=True)\n"
     ]
    },
    {
     "name": "stdout",
     "output_type": "stream",
     "text": [
      "Training until validation scores don't improve for 100 rounds.\n",
      "[100]\tvalid's auc: 0.764\n",
      "[200]\tvalid's auc: 0.787303\n",
      "[300]\tvalid's auc: 0.79732\n",
      "[400]\tvalid's auc: 0.803437\n",
      "[500]\tvalid's auc: 0.805836\n",
      "[600]\tvalid's auc: 0.807808\n",
      "[700]\tvalid's auc: 0.808531\n",
      "[800]\tvalid's auc: 0.809899\n",
      "[900]\tvalid's auc: 0.810212\n",
      "[1000]\tvalid's auc: 0.810046\n",
      "Early stopping, best iteration is:\n",
      "[900]\tvalid's auc: 0.810212\n"
     ]
    },
    {
     "name": "stderr",
     "output_type": "stream",
     "text": [
      "/home/wopr/.local/lib/python3.6/site-packages/sklearn/preprocessing/label.py:219: DataConversionWarning: A column-vector y was passed when a 1d array was expected. Please change the shape of y to (n_samples, ), for example using ravel().\n",
      "  y = column_or_1d(y, warn=True)\n",
      "/home/wopr/.local/lib/python3.6/site-packages/sklearn/preprocessing/label.py:252: DataConversionWarning: A column-vector y was passed when a 1d array was expected. Please change the shape of y to (n_samples, ), for example using ravel().\n",
      "  y = column_or_1d(y, warn=True)\n"
     ]
    },
    {
     "name": "stdout",
     "output_type": "stream",
     "text": [
      "Training until validation scores don't improve for 100 rounds.\n",
      "[100]\tvalid's auc: 0.758511\n",
      "[200]\tvalid's auc: 0.783973\n",
      "[300]\tvalid's auc: 0.794908\n",
      "[400]\tvalid's auc: 0.798995\n",
      "[500]\tvalid's auc: 0.802987\n",
      "[600]\tvalid's auc: 0.804787\n",
      "[700]\tvalid's auc: 0.805784\n",
      "[800]\tvalid's auc: 0.806132\n",
      "[900]\tvalid's auc: 0.807761\n",
      "[1000]\tvalid's auc: 0.808372\n",
      "[1100]\tvalid's auc: 0.808671\n",
      "[1200]\tvalid's auc: 0.808756\n",
      "[1300]\tvalid's auc: 0.809386\n",
      "[1400]\tvalid's auc: 0.810103\n",
      "[1500]\tvalid's auc: 0.810978\n",
      "[1600]\tvalid's auc: 0.811365\n",
      "[1700]\tvalid's auc: 0.811839\n",
      "[1800]\tvalid's auc: 0.812335\n",
      "[1900]\tvalid's auc: 0.812657\n",
      "[2000]\tvalid's auc: 0.812704\n",
      "[2100]\tvalid's auc: 0.812709\n",
      "Early stopping, best iteration is:\n",
      "[2011]\tvalid's auc: 0.812785\n"
     ]
    },
    {
     "name": "stderr",
     "output_type": "stream",
     "text": [
      "/home/wopr/.local/lib/python3.6/site-packages/sklearn/preprocessing/label.py:219: DataConversionWarning: A column-vector y was passed when a 1d array was expected. Please change the shape of y to (n_samples, ), for example using ravel().\n",
      "  y = column_or_1d(y, warn=True)\n",
      "/home/wopr/.local/lib/python3.6/site-packages/sklearn/preprocessing/label.py:252: DataConversionWarning: A column-vector y was passed when a 1d array was expected. Please change the shape of y to (n_samples, ), for example using ravel().\n",
      "  y = column_or_1d(y, warn=True)\n"
     ]
    },
    {
     "name": "stdout",
     "output_type": "stream",
     "text": [
      "Training until validation scores don't improve for 100 rounds.\n",
      "[100]\tvalid's auc: 0.5\n",
      "Early stopping, best iteration is:\n",
      "[1]\tvalid's auc: 0.5\n"
     ]
    },
    {
     "name": "stderr",
     "output_type": "stream",
     "text": [
      "/home/wopr/.local/lib/python3.6/site-packages/sklearn/preprocessing/label.py:219: DataConversionWarning: A column-vector y was passed when a 1d array was expected. Please change the shape of y to (n_samples, ), for example using ravel().\n",
      "  y = column_or_1d(y, warn=True)\n",
      "/home/wopr/.local/lib/python3.6/site-packages/sklearn/preprocessing/label.py:252: DataConversionWarning: A column-vector y was passed when a 1d array was expected. Please change the shape of y to (n_samples, ), for example using ravel().\n",
      "  y = column_or_1d(y, warn=True)\n"
     ]
    },
    {
     "name": "stdout",
     "output_type": "stream",
     "text": [
      "Training until validation scores don't improve for 100 rounds.\n",
      "[100]\tvalid's auc: 0.5\n",
      "Early stopping, best iteration is:\n",
      "[1]\tvalid's auc: 0.5\n"
     ]
    },
    {
     "name": "stderr",
     "output_type": "stream",
     "text": [
      "/home/wopr/.local/lib/python3.6/site-packages/sklearn/preprocessing/label.py:219: DataConversionWarning: A column-vector y was passed when a 1d array was expected. Please change the shape of y to (n_samples, ), for example using ravel().\n",
      "  y = column_or_1d(y, warn=True)\n",
      "/home/wopr/.local/lib/python3.6/site-packages/sklearn/preprocessing/label.py:252: DataConversionWarning: A column-vector y was passed when a 1d array was expected. Please change the shape of y to (n_samples, ), for example using ravel().\n",
      "  y = column_or_1d(y, warn=True)\n"
     ]
    },
    {
     "name": "stdout",
     "output_type": "stream",
     "text": [
      "Training until validation scores don't improve for 100 rounds.\n",
      "[100]\tvalid's auc: 0.5\n",
      "Early stopping, best iteration is:\n",
      "[1]\tvalid's auc: 0.5\n"
     ]
    },
    {
     "name": "stderr",
     "output_type": "stream",
     "text": [
      "/home/wopr/.local/lib/python3.6/site-packages/sklearn/preprocessing/label.py:219: DataConversionWarning: A column-vector y was passed when a 1d array was expected. Please change the shape of y to (n_samples, ), for example using ravel().\n",
      "  y = column_or_1d(y, warn=True)\n",
      "/home/wopr/.local/lib/python3.6/site-packages/sklearn/preprocessing/label.py:252: DataConversionWarning: A column-vector y was passed when a 1d array was expected. Please change the shape of y to (n_samples, ), for example using ravel().\n",
      "  y = column_or_1d(y, warn=True)\n"
     ]
    },
    {
     "name": "stdout",
     "output_type": "stream",
     "text": [
      "Training until validation scores don't improve for 100 rounds.\n",
      "[100]\tvalid's auc: 0.744346\n",
      "[200]\tvalid's auc: 0.770919\n",
      "[300]\tvalid's auc: 0.784772\n",
      "[400]\tvalid's auc: 0.792635\n",
      "[500]\tvalid's auc: 0.799197\n",
      "[600]\tvalid's auc: 0.802685\n",
      "[700]\tvalid's auc: 0.805614\n",
      "[800]\tvalid's auc: 0.807342\n",
      "[900]\tvalid's auc: 0.809315\n",
      "[1000]\tvalid's auc: 0.810903\n",
      "[1100]\tvalid's auc: 0.811925\n",
      "[1200]\tvalid's auc: 0.812676\n",
      "[1300]\tvalid's auc: 0.813239\n",
      "[1400]\tvalid's auc: 0.813771\n",
      "[1500]\tvalid's auc: 0.814086\n",
      "[1600]\tvalid's auc: 0.814749\n",
      "[1700]\tvalid's auc: 0.815125\n",
      "[1800]\tvalid's auc: 0.815262\n",
      "[1900]\tvalid's auc: 0.815681\n",
      "Early stopping, best iteration is:\n",
      "[1893]\tvalid's auc: 0.815681\n"
     ]
    },
    {
     "name": "stderr",
     "output_type": "stream",
     "text": [
      "/home/wopr/.local/lib/python3.6/site-packages/sklearn/preprocessing/label.py:219: DataConversionWarning: A column-vector y was passed when a 1d array was expected. Please change the shape of y to (n_samples, ), for example using ravel().\n",
      "  y = column_or_1d(y, warn=True)\n",
      "/home/wopr/.local/lib/python3.6/site-packages/sklearn/preprocessing/label.py:252: DataConversionWarning: A column-vector y was passed when a 1d array was expected. Please change the shape of y to (n_samples, ), for example using ravel().\n",
      "  y = column_or_1d(y, warn=True)\n"
     ]
    },
    {
     "name": "stdout",
     "output_type": "stream",
     "text": [
      "Training until validation scores don't improve for 100 rounds.\n",
      "[100]\tvalid's auc: 0.740325\n",
      "[200]\tvalid's auc: 0.767846\n",
      "[300]\tvalid's auc: 0.780726\n",
      "[400]\tvalid's auc: 0.790406\n",
      "[500]\tvalid's auc: 0.796102\n",
      "[600]\tvalid's auc: 0.799512\n",
      "[700]\tvalid's auc: 0.802216\n",
      "[800]\tvalid's auc: 0.804574\n",
      "[900]\tvalid's auc: 0.806147\n",
      "[1000]\tvalid's auc: 0.80802\n",
      "[1100]\tvalid's auc: 0.809845\n",
      "[1200]\tvalid's auc: 0.810596\n",
      "[1300]\tvalid's auc: 0.811653\n",
      "[1400]\tvalid's auc: 0.812057\n",
      "[1500]\tvalid's auc: 0.812292\n",
      "[1600]\tvalid's auc: 0.812599\n",
      "[1700]\tvalid's auc: 0.813075\n",
      "[1800]\tvalid's auc: 0.813364\n",
      "[1900]\tvalid's auc: 0.813575\n",
      "[2000]\tvalid's auc: 0.813706\n",
      "Early stopping, best iteration is:\n",
      "[1927]\tvalid's auc: 0.813706\n"
     ]
    },
    {
     "name": "stderr",
     "output_type": "stream",
     "text": [
      "/home/wopr/.local/lib/python3.6/site-packages/sklearn/preprocessing/label.py:219: DataConversionWarning: A column-vector y was passed when a 1d array was expected. Please change the shape of y to (n_samples, ), for example using ravel().\n",
      "  y = column_or_1d(y, warn=True)\n",
      "/home/wopr/.local/lib/python3.6/site-packages/sklearn/preprocessing/label.py:252: DataConversionWarning: A column-vector y was passed when a 1d array was expected. Please change the shape of y to (n_samples, ), for example using ravel().\n",
      "  y = column_or_1d(y, warn=True)\n"
     ]
    },
    {
     "name": "stdout",
     "output_type": "stream",
     "text": [
      "Training until validation scores don't improve for 100 rounds.\n",
      "[100]\tvalid's auc: 0.744115\n",
      "[200]\tvalid's auc: 0.769059\n",
      "[300]\tvalid's auc: 0.783442\n",
      "[400]\tvalid's auc: 0.791651\n",
      "[500]\tvalid's auc: 0.797214\n",
      "[600]\tvalid's auc: 0.801649\n",
      "[700]\tvalid's auc: 0.804554\n",
      "[800]\tvalid's auc: 0.80689\n",
      "[900]\tvalid's auc: 0.808451\n",
      "[1000]\tvalid's auc: 0.809588\n",
      "[1100]\tvalid's auc: 0.810296\n",
      "[1200]\tvalid's auc: 0.811424\n",
      "[1300]\tvalid's auc: 0.812024\n",
      "[1400]\tvalid's auc: 0.813075\n",
      "[1500]\tvalid's auc: 0.813308\n",
      "Early stopping, best iteration is:\n",
      "[1439]\tvalid's auc: 0.813454\n"
     ]
    },
    {
     "name": "stderr",
     "output_type": "stream",
     "text": [
      "/home/wopr/.local/lib/python3.6/site-packages/sklearn/preprocessing/label.py:219: DataConversionWarning: A column-vector y was passed when a 1d array was expected. Please change the shape of y to (n_samples, ), for example using ravel().\n",
      "  y = column_or_1d(y, warn=True)\n",
      "/home/wopr/.local/lib/python3.6/site-packages/sklearn/preprocessing/label.py:252: DataConversionWarning: A column-vector y was passed when a 1d array was expected. Please change the shape of y to (n_samples, ), for example using ravel().\n",
      "  y = column_or_1d(y, warn=True)\n"
     ]
    },
    {
     "name": "stdout",
     "output_type": "stream",
     "text": [
      "Training until validation scores don't improve for 100 rounds.\n",
      "[100]\tvalid's auc: 0.758185\n",
      "[200]\tvalid's auc: 0.78234\n",
      "[300]\tvalid's auc: 0.792912\n",
      "[400]\tvalid's auc: 0.798439\n",
      "[500]\tvalid's auc: 0.802001\n",
      "[600]\tvalid's auc: 0.804683\n",
      "[700]\tvalid's auc: 0.805734\n",
      "[800]\tvalid's auc: 0.807113\n",
      "[900]\tvalid's auc: 0.808366\n",
      "[1000]\tvalid's auc: 0.809494\n",
      "[1100]\tvalid's auc: 0.810274\n",
      "[1200]\tvalid's auc: 0.810758\n",
      "[1300]\tvalid's auc: 0.811537\n",
      "[1400]\tvalid's auc: 0.812557\n",
      "[1500]\tvalid's auc: 0.812467\n",
      "[1600]\tvalid's auc: 0.813464\n",
      "[1700]\tvalid's auc: 0.814081\n",
      "[1800]\tvalid's auc: 0.814167\n",
      "[1900]\tvalid's auc: 0.814875\n",
      "[2000]\tvalid's auc: 0.814948\n",
      "[2100]\tvalid's auc: 0.815236\n",
      "[2200]\tvalid's auc: 0.815656\n",
      "[2300]\tvalid's auc: 0.815917\n",
      "[2400]\tvalid's auc: 0.81625\n",
      "Early stopping, best iteration is:\n",
      "[2386]\tvalid's auc: 0.816252\n"
     ]
    },
    {
     "name": "stderr",
     "output_type": "stream",
     "text": [
      "/home/wopr/.local/lib/python3.6/site-packages/sklearn/preprocessing/label.py:219: DataConversionWarning: A column-vector y was passed when a 1d array was expected. Please change the shape of y to (n_samples, ), for example using ravel().\n",
      "  y = column_or_1d(y, warn=True)\n",
      "/home/wopr/.local/lib/python3.6/site-packages/sklearn/preprocessing/label.py:252: DataConversionWarning: A column-vector y was passed when a 1d array was expected. Please change the shape of y to (n_samples, ), for example using ravel().\n",
      "  y = column_or_1d(y, warn=True)\n"
     ]
    },
    {
     "name": "stdout",
     "output_type": "stream",
     "text": [
      "Training until validation scores don't improve for 100 rounds.\n",
      "[100]\tvalid's auc: 0.760612\n",
      "[200]\tvalid's auc: 0.783555\n",
      "[300]\tvalid's auc: 0.793973\n",
      "[400]\tvalid's auc: 0.799846\n",
      "[500]\tvalid's auc: 0.802643\n",
      "[600]\tvalid's auc: 0.805186\n",
      "[700]\tvalid's auc: 0.807049\n",
      "[800]\tvalid's auc: 0.808185\n",
      "[900]\tvalid's auc: 0.809226\n",
      "[1000]\tvalid's auc: 0.810559\n",
      "[1100]\tvalid's auc: 0.810831\n",
      "Early stopping, best iteration is:\n",
      "[1068]\tvalid's auc: 0.811056\n"
     ]
    },
    {
     "name": "stderr",
     "output_type": "stream",
     "text": [
      "/home/wopr/.local/lib/python3.6/site-packages/sklearn/preprocessing/label.py:219: DataConversionWarning: A column-vector y was passed when a 1d array was expected. Please change the shape of y to (n_samples, ), for example using ravel().\n",
      "  y = column_or_1d(y, warn=True)\n",
      "/home/wopr/.local/lib/python3.6/site-packages/sklearn/preprocessing/label.py:252: DataConversionWarning: A column-vector y was passed when a 1d array was expected. Please change the shape of y to (n_samples, ), for example using ravel().\n",
      "  y = column_or_1d(y, warn=True)\n"
     ]
    },
    {
     "name": "stdout",
     "output_type": "stream",
     "text": [
      "Training until validation scores don't improve for 100 rounds.\n",
      "[100]\tvalid's auc: 0.757583\n",
      "[200]\tvalid's auc: 0.781378\n",
      "[300]\tvalid's auc: 0.792244\n",
      "[400]\tvalid's auc: 0.799302\n",
      "[500]\tvalid's auc: 0.802167\n",
      "[600]\tvalid's auc: 0.803291\n",
      "[700]\tvalid's auc: 0.805219\n",
      "[800]\tvalid's auc: 0.806609\n",
      "[900]\tvalid's auc: 0.807629\n",
      "[1000]\tvalid's auc: 0.808977\n",
      "[1100]\tvalid's auc: 0.80939\n",
      "[1200]\tvalid's auc: 0.809667\n",
      "[1300]\tvalid's auc: 0.810079\n",
      "[1400]\tvalid's auc: 0.810268\n",
      "[1500]\tvalid's auc: 0.810774\n",
      "[1600]\tvalid's auc: 0.811225\n",
      "[1700]\tvalid's auc: 0.811576\n",
      "[1800]\tvalid's auc: 0.811683\n",
      "[1900]\tvalid's auc: 0.812037\n",
      "[2000]\tvalid's auc: 0.812646\n",
      "[2100]\tvalid's auc: 0.81328\n",
      "[2200]\tvalid's auc: 0.813649\n",
      "[2300]\tvalid's auc: 0.814159\n",
      "[2400]\tvalid's auc: 0.814139\n",
      "Early stopping, best iteration is:\n",
      "[2303]\tvalid's auc: 0.81417\n"
     ]
    },
    {
     "name": "stderr",
     "output_type": "stream",
     "text": [
      "/home/wopr/.local/lib/python3.6/site-packages/sklearn/preprocessing/label.py:219: DataConversionWarning: A column-vector y was passed when a 1d array was expected. Please change the shape of y to (n_samples, ), for example using ravel().\n",
      "  y = column_or_1d(y, warn=True)\n",
      "/home/wopr/.local/lib/python3.6/site-packages/sklearn/preprocessing/label.py:252: DataConversionWarning: A column-vector y was passed when a 1d array was expected. Please change the shape of y to (n_samples, ), for example using ravel().\n",
      "  y = column_or_1d(y, warn=True)\n"
     ]
    },
    {
     "name": "stdout",
     "output_type": "stream",
     "text": [
      "Training until validation scores don't improve for 100 rounds.\n",
      "[100]\tvalid's auc: 0.738382\n",
      "[200]\tvalid's auc: 0.767167\n",
      "[300]\tvalid's auc: 0.781888\n",
      "[400]\tvalid's auc: 0.789668\n",
      "[500]\tvalid's auc: 0.795472\n",
      "[600]\tvalid's auc: 0.798924\n",
      "[700]\tvalid's auc: 0.802307\n",
      "[800]\tvalid's auc: 0.804631\n",
      "[900]\tvalid's auc: 0.80583\n",
      "[1000]\tvalid's auc: 0.807347\n",
      "[1100]\tvalid's auc: 0.807973\n",
      "[1200]\tvalid's auc: 0.80872\n",
      "[1300]\tvalid's auc: 0.809682\n",
      "[1400]\tvalid's auc: 0.810928\n",
      "[1500]\tvalid's auc: 0.811301\n",
      "[1600]\tvalid's auc: 0.81209\n",
      "[1700]\tvalid's auc: 0.812637\n",
      "[1800]\tvalid's auc: 0.812799\n",
      "[1900]\tvalid's auc: 0.8133\n",
      "[2000]\tvalid's auc: 0.813429\n",
      "Early stopping, best iteration is:\n",
      "[1933]\tvalid's auc: 0.81352\n"
     ]
    },
    {
     "name": "stderr",
     "output_type": "stream",
     "text": [
      "/home/wopr/.local/lib/python3.6/site-packages/sklearn/preprocessing/label.py:219: DataConversionWarning: A column-vector y was passed when a 1d array was expected. Please change the shape of y to (n_samples, ), for example using ravel().\n",
      "  y = column_or_1d(y, warn=True)\n",
      "/home/wopr/.local/lib/python3.6/site-packages/sklearn/preprocessing/label.py:252: DataConversionWarning: A column-vector y was passed when a 1d array was expected. Please change the shape of y to (n_samples, ), for example using ravel().\n",
      "  y = column_or_1d(y, warn=True)\n"
     ]
    },
    {
     "name": "stdout",
     "output_type": "stream",
     "text": [
      "Training until validation scores don't improve for 100 rounds.\n",
      "[100]\tvalid's auc: 0.739498\n",
      "[200]\tvalid's auc: 0.765643\n",
      "[300]\tvalid's auc: 0.78057\n",
      "[400]\tvalid's auc: 0.788929\n",
      "[500]\tvalid's auc: 0.794983\n",
      "[600]\tvalid's auc: 0.798456\n",
      "[700]\tvalid's auc: 0.801825\n",
      "[800]\tvalid's auc: 0.803572\n",
      "[900]\tvalid's auc: 0.804909\n",
      "[1000]\tvalid's auc: 0.806774\n",
      "[1100]\tvalid's auc: 0.808266\n",
      "[1200]\tvalid's auc: 0.809154\n",
      "[1300]\tvalid's auc: 0.809708\n",
      "[1400]\tvalid's auc: 0.81022\n",
      "[1500]\tvalid's auc: 0.810564\n",
      "[1600]\tvalid's auc: 0.810926\n",
      "[1700]\tvalid's auc: 0.811687\n",
      "[1800]\tvalid's auc: 0.811792\n",
      "[1900]\tvalid's auc: 0.812209\n",
      "[2000]\tvalid's auc: 0.812254\n",
      "Early stopping, best iteration is:\n",
      "[1959]\tvalid's auc: 0.812421\n"
     ]
    },
    {
     "name": "stderr",
     "output_type": "stream",
     "text": [
      "/home/wopr/.local/lib/python3.6/site-packages/sklearn/preprocessing/label.py:219: DataConversionWarning: A column-vector y was passed when a 1d array was expected. Please change the shape of y to (n_samples, ), for example using ravel().\n",
      "  y = column_or_1d(y, warn=True)\n",
      "/home/wopr/.local/lib/python3.6/site-packages/sklearn/preprocessing/label.py:252: DataConversionWarning: A column-vector y was passed when a 1d array was expected. Please change the shape of y to (n_samples, ), for example using ravel().\n",
      "  y = column_or_1d(y, warn=True)\n"
     ]
    },
    {
     "name": "stdout",
     "output_type": "stream",
     "text": [
      "Training until validation scores don't improve for 100 rounds.\n",
      "[100]\tvalid's auc: 0.742996\n",
      "[200]\tvalid's auc: 0.766833\n",
      "[300]\tvalid's auc: 0.781868\n",
      "[400]\tvalid's auc: 0.790398\n",
      "[500]\tvalid's auc: 0.795182\n",
      "[600]\tvalid's auc: 0.799626\n",
      "[700]\tvalid's auc: 0.802967\n",
      "[800]\tvalid's auc: 0.80559\n",
      "[900]\tvalid's auc: 0.807021\n",
      "[1000]\tvalid's auc: 0.807889\n",
      "[1100]\tvalid's auc: 0.809125\n",
      "[1200]\tvalid's auc: 0.809802\n",
      "[1300]\tvalid's auc: 0.810029\n",
      "[1400]\tvalid's auc: 0.810586\n",
      "[1500]\tvalid's auc: 0.811187\n",
      "[1600]\tvalid's auc: 0.811584\n",
      "[1700]\tvalid's auc: 0.812348\n",
      "[1800]\tvalid's auc: 0.812685\n",
      "[1900]\tvalid's auc: 0.81334\n",
      "[2000]\tvalid's auc: 0.813762\n",
      "Early stopping, best iteration is:\n",
      "[1995]\tvalid's auc: 0.813762\n"
     ]
    },
    {
     "name": "stderr",
     "output_type": "stream",
     "text": [
      "/home/wopr/.local/lib/python3.6/site-packages/sklearn/preprocessing/label.py:219: DataConversionWarning: A column-vector y was passed when a 1d array was expected. Please change the shape of y to (n_samples, ), for example using ravel().\n",
      "  y = column_or_1d(y, warn=True)\n",
      "/home/wopr/.local/lib/python3.6/site-packages/sklearn/preprocessing/label.py:252: DataConversionWarning: A column-vector y was passed when a 1d array was expected. Please change the shape of y to (n_samples, ), for example using ravel().\n",
      "  y = column_or_1d(y, warn=True)\n"
     ]
    },
    {
     "name": "stdout",
     "output_type": "stream",
     "text": [
      "Training until validation scores don't improve for 100 rounds.\n",
      "[100]\tvalid's auc: 0.761348\n",
      "[200]\tvalid's auc: 0.785802\n",
      "[300]\tvalid's auc: 0.795649\n",
      "[400]\tvalid's auc: 0.800992\n",
      "[500]\tvalid's auc: 0.803758\n",
      "[600]\tvalid's auc: 0.80461\n",
      "[700]\tvalid's auc: 0.805973\n",
      "[800]\tvalid's auc: 0.807343\n",
      "[900]\tvalid's auc: 0.807912\n",
      "[1000]\tvalid's auc: 0.809275\n",
      "[1100]\tvalid's auc: 0.810065\n",
      "[1200]\tvalid's auc: 0.810431\n",
      "[1300]\tvalid's auc: 0.811367\n",
      "[1400]\tvalid's auc: 0.811833\n",
      "[1500]\tvalid's auc: 0.812306\n",
      "[1600]\tvalid's auc: 0.812675\n",
      "[1700]\tvalid's auc: 0.81296\n",
      "[1800]\tvalid's auc: 0.813374\n",
      "[1900]\tvalid's auc: 0.813594\n",
      "[2000]\tvalid's auc: 0.814252\n",
      "[2100]\tvalid's auc: 0.814898\n",
      "[2200]\tvalid's auc: 0.815412\n",
      "[2300]\tvalid's auc: 0.815819\n",
      "[2400]\tvalid's auc: 0.815964\n",
      "[2500]\tvalid's auc: 0.816188\n",
      "[2600]\tvalid's auc: 0.816329\n",
      "[2700]\tvalid's auc: 0.8165\n",
      "[2800]\tvalid's auc: 0.816864\n",
      "[2900]\tvalid's auc: 0.817137\n",
      "[3000]\tvalid's auc: 0.817426\n",
      "[3100]\tvalid's auc: 0.817617\n",
      "[3200]\tvalid's auc: 0.817737\n",
      "[3300]\tvalid's auc: 0.817968\n",
      "[3400]\tvalid's auc: 0.818188\n",
      "[3500]\tvalid's auc: 0.818398\n",
      "[3600]\tvalid's auc: 0.818426\n",
      "[3700]\tvalid's auc: 0.818536\n",
      "[3800]\tvalid's auc: 0.81864\n",
      "[3900]\tvalid's auc: 0.818756\n",
      "[4000]\tvalid's auc: 0.818923\n",
      "[4100]\tvalid's auc: 0.818999\n",
      "[4200]\tvalid's auc: 0.819154\n",
      "[4300]\tvalid's auc: 0.819287\n",
      "[4400]\tvalid's auc: 0.819459\n",
      "[4500]\tvalid's auc: 0.819523\n",
      "[4600]\tvalid's auc: 0.819628\n",
      "[4700]\tvalid's auc: 0.819755\n",
      "[4800]\tvalid's auc: 0.819886\n",
      "[4900]\tvalid's auc: 0.819924\n",
      "[5000]\tvalid's auc: 0.820074\n",
      "Did not meet early stopping. Best iteration is:\n",
      "[4999]\tvalid's auc: 0.820074\n"
     ]
    },
    {
     "name": "stderr",
     "output_type": "stream",
     "text": [
      "/home/wopr/.local/lib/python3.6/site-packages/sklearn/preprocessing/label.py:219: DataConversionWarning: A column-vector y was passed when a 1d array was expected. Please change the shape of y to (n_samples, ), for example using ravel().\n",
      "  y = column_or_1d(y, warn=True)\n",
      "/home/wopr/.local/lib/python3.6/site-packages/sklearn/preprocessing/label.py:252: DataConversionWarning: A column-vector y was passed when a 1d array was expected. Please change the shape of y to (n_samples, ), for example using ravel().\n",
      "  y = column_or_1d(y, warn=True)\n"
     ]
    },
    {
     "name": "stdout",
     "output_type": "stream",
     "text": [
      "Training until validation scores don't improve for 100 rounds.\n",
      "[100]\tvalid's auc: 0.76063\n",
      "[200]\tvalid's auc: 0.782155\n",
      "[300]\tvalid's auc: 0.791979\n",
      "[400]\tvalid's auc: 0.797637\n",
      "[500]\tvalid's auc: 0.800497\n",
      "[600]\tvalid's auc: 0.802824\n",
      "[700]\tvalid's auc: 0.804453\n",
      "[800]\tvalid's auc: 0.805465\n",
      "[900]\tvalid's auc: 0.806444\n",
      "[1000]\tvalid's auc: 0.807173\n",
      "[1100]\tvalid's auc: 0.808061\n",
      "[1200]\tvalid's auc: 0.80903\n",
      "[1300]\tvalid's auc: 0.810138\n",
      "[1400]\tvalid's auc: 0.810715\n",
      "[1500]\tvalid's auc: 0.811418\n",
      "[1600]\tvalid's auc: 0.812092\n",
      "[1700]\tvalid's auc: 0.812921\n",
      "[1800]\tvalid's auc: 0.813389\n",
      "[1900]\tvalid's auc: 0.813889\n",
      "[2000]\tvalid's auc: 0.814069\n",
      "[2100]\tvalid's auc: 0.814438\n",
      "[2200]\tvalid's auc: 0.814492\n",
      "[2300]\tvalid's auc: 0.814798\n",
      "[2400]\tvalid's auc: 0.814863\n",
      "[2500]\tvalid's auc: 0.815147\n",
      "[2600]\tvalid's auc: 0.815412\n",
      "[2700]\tvalid's auc: 0.815878\n",
      "[2800]\tvalid's auc: 0.815907\n",
      "[2900]\tvalid's auc: 0.816065\n",
      "[3000]\tvalid's auc: 0.816329\n",
      "[3100]\tvalid's auc: 0.816683\n",
      "Early stopping, best iteration is:\n",
      "[3097]\tvalid's auc: 0.816696\n"
     ]
    },
    {
     "name": "stderr",
     "output_type": "stream",
     "text": [
      "/home/wopr/.local/lib/python3.6/site-packages/sklearn/preprocessing/label.py:219: DataConversionWarning: A column-vector y was passed when a 1d array was expected. Please change the shape of y to (n_samples, ), for example using ravel().\n",
      "  y = column_or_1d(y, warn=True)\n",
      "/home/wopr/.local/lib/python3.6/site-packages/sklearn/preprocessing/label.py:252: DataConversionWarning: A column-vector y was passed when a 1d array was expected. Please change the shape of y to (n_samples, ), for example using ravel().\n",
      "  y = column_or_1d(y, warn=True)\n"
     ]
    },
    {
     "name": "stdout",
     "output_type": "stream",
     "text": [
      "Training until validation scores don't improve for 100 rounds.\n",
      "[100]\tvalid's auc: 0.761958\n",
      "[200]\tvalid's auc: 0.782707\n",
      "[300]\tvalid's auc: 0.794025\n",
      "[400]\tvalid's auc: 0.798445\n",
      "[500]\tvalid's auc: 0.802571\n",
      "[600]\tvalid's auc: 0.804281\n",
      "[700]\tvalid's auc: 0.806272\n",
      "[800]\tvalid's auc: 0.807538\n",
      "[900]\tvalid's auc: 0.808327\n",
      "[1000]\tvalid's auc: 0.809172\n",
      "[1100]\tvalid's auc: 0.810454\n",
      "[1200]\tvalid's auc: 0.811625\n",
      "[1300]\tvalid's auc: 0.812255\n",
      "[1400]\tvalid's auc: 0.812991\n",
      "[1500]\tvalid's auc: 0.81368\n",
      "[1600]\tvalid's auc: 0.814649\n",
      "[1700]\tvalid's auc: 0.815201\n",
      "[1800]\tvalid's auc: 0.815461\n",
      "[1900]\tvalid's auc: 0.816065\n",
      "[2000]\tvalid's auc: 0.816281\n",
      "[2100]\tvalid's auc: 0.81649\n",
      "[2200]\tvalid's auc: 0.816665\n",
      "[2300]\tvalid's auc: 0.817027\n",
      "[2400]\tvalid's auc: 0.817296\n",
      "[2500]\tvalid's auc: 0.817542\n",
      "[2600]\tvalid's auc: 0.817823\n",
      "[2700]\tvalid's auc: 0.817856\n",
      "[2800]\tvalid's auc: 0.818205\n",
      "[2900]\tvalid's auc: 0.81856\n",
      "[3000]\tvalid's auc: 0.818743\n",
      "[3100]\tvalid's auc: 0.818856\n",
      "[3200]\tvalid's auc: 0.819091\n",
      "[3300]\tvalid's auc: 0.819142\n",
      "[3400]\tvalid's auc: 0.819187\n",
      "[3500]\tvalid's auc: 0.819342\n",
      "[3600]\tvalid's auc: 0.81956\n",
      "[3700]\tvalid's auc: 0.819655\n",
      "[3800]\tvalid's auc: 0.819852\n",
      "[3900]\tvalid's auc: 0.81997\n",
      "[4000]\tvalid's auc: 0.820096\n",
      "[4100]\tvalid's auc: 0.820257\n",
      "[4200]\tvalid's auc: 0.820274\n",
      "Early stopping, best iteration is:\n",
      "[4166]\tvalid's auc: 0.820356\n"
     ]
    },
    {
     "name": "stderr",
     "output_type": "stream",
     "text": [
      "/home/wopr/.local/lib/python3.6/site-packages/sklearn/preprocessing/label.py:219: DataConversionWarning: A column-vector y was passed when a 1d array was expected. Please change the shape of y to (n_samples, ), for example using ravel().\n",
      "  y = column_or_1d(y, warn=True)\n",
      "/home/wopr/.local/lib/python3.6/site-packages/sklearn/preprocessing/label.py:252: DataConversionWarning: A column-vector y was passed when a 1d array was expected. Please change the shape of y to (n_samples, ), for example using ravel().\n",
      "  y = column_or_1d(y, warn=True)\n"
     ]
    },
    {
     "name": "stdout",
     "output_type": "stream",
     "text": [
      "Training until validation scores don't improve for 100 rounds.\n",
      "[100]\tvalid's auc: 0.764964\n",
      "[200]\tvalid's auc: 0.787289\n",
      "[300]\tvalid's auc: 0.797651\n",
      "[400]\tvalid's auc: 0.802379\n",
      "[500]\tvalid's auc: 0.804537\n",
      "[600]\tvalid's auc: 0.805626\n",
      "[700]\tvalid's auc: 0.807327\n",
      "[800]\tvalid's auc: 0.808457\n",
      "[900]\tvalid's auc: 0.809917\n",
      "[1000]\tvalid's auc: 0.81078\n",
      "[1100]\tvalid's auc: 0.811556\n",
      "[1200]\tvalid's auc: 0.812078\n",
      "[1300]\tvalid's auc: 0.812547\n",
      "[1400]\tvalid's auc: 0.81305\n",
      "[1500]\tvalid's auc: 0.813267\n",
      "[1600]\tvalid's auc: 0.813849\n",
      "[1700]\tvalid's auc: 0.814287\n",
      "[1800]\tvalid's auc: 0.814613\n",
      "[1900]\tvalid's auc: 0.8148\n",
      "Early stopping, best iteration is:\n",
      "[1869]\tvalid's auc: 0.814947\n"
     ]
    },
    {
     "name": "stderr",
     "output_type": "stream",
     "text": [
      "/home/wopr/.local/lib/python3.6/site-packages/sklearn/preprocessing/label.py:219: DataConversionWarning: A column-vector y was passed when a 1d array was expected. Please change the shape of y to (n_samples, ), for example using ravel().\n",
      "  y = column_or_1d(y, warn=True)\n",
      "/home/wopr/.local/lib/python3.6/site-packages/sklearn/preprocessing/label.py:252: DataConversionWarning: A column-vector y was passed when a 1d array was expected. Please change the shape of y to (n_samples, ), for example using ravel().\n",
      "  y = column_or_1d(y, warn=True)\n"
     ]
    },
    {
     "name": "stdout",
     "output_type": "stream",
     "text": [
      "Training until validation scores don't improve for 100 rounds.\n",
      "[100]\tvalid's auc: 0.762914\n",
      "[200]\tvalid's auc: 0.785936\n",
      "[300]\tvalid's auc: 0.796157\n",
      "[400]\tvalid's auc: 0.801232\n",
      "[500]\tvalid's auc: 0.804178\n",
      "[600]\tvalid's auc: 0.805226\n",
      "[700]\tvalid's auc: 0.806738\n",
      "[800]\tvalid's auc: 0.807959\n",
      "[900]\tvalid's auc: 0.808889\n",
      "[1000]\tvalid's auc: 0.809479\n",
      "[1100]\tvalid's auc: 0.810536\n",
      "[1200]\tvalid's auc: 0.811032\n",
      "[1300]\tvalid's auc: 0.811461\n",
      "[1400]\tvalid's auc: 0.81191\n",
      "[1500]\tvalid's auc: 0.812187\n",
      "[1600]\tvalid's auc: 0.812281\n",
      "[1700]\tvalid's auc: 0.812392\n",
      "[1800]\tvalid's auc: 0.812807\n",
      "[1900]\tvalid's auc: 0.813131\n",
      "[2000]\tvalid's auc: 0.813261\n",
      "[2100]\tvalid's auc: 0.813358\n",
      "[2200]\tvalid's auc: 0.813591\n",
      "[2300]\tvalid's auc: 0.813789\n",
      "[2400]\tvalid's auc: 0.813986\n",
      "[2500]\tvalid's auc: 0.81406\n",
      "[2600]\tvalid's auc: 0.81401\n",
      "Early stopping, best iteration is:\n",
      "[2581]\tvalid's auc: 0.814154\n"
     ]
    },
    {
     "name": "stderr",
     "output_type": "stream",
     "text": [
      "/home/wopr/.local/lib/python3.6/site-packages/sklearn/preprocessing/label.py:219: DataConversionWarning: A column-vector y was passed when a 1d array was expected. Please change the shape of y to (n_samples, ), for example using ravel().\n",
      "  y = column_or_1d(y, warn=True)\n",
      "/home/wopr/.local/lib/python3.6/site-packages/sklearn/preprocessing/label.py:252: DataConversionWarning: A column-vector y was passed when a 1d array was expected. Please change the shape of y to (n_samples, ), for example using ravel().\n",
      "  y = column_or_1d(y, warn=True)\n"
     ]
    },
    {
     "name": "stdout",
     "output_type": "stream",
     "text": [
      "Training until validation scores don't improve for 100 rounds.\n",
      "[100]\tvalid's auc: 0.765357\n",
      "[200]\tvalid's auc: 0.786163\n",
      "[300]\tvalid's auc: 0.795759\n",
      "[400]\tvalid's auc: 0.80028\n",
      "[500]\tvalid's auc: 0.80236\n",
      "[600]\tvalid's auc: 0.803674\n",
      "[700]\tvalid's auc: 0.80519\n",
      "[800]\tvalid's auc: 0.805891\n",
      "[900]\tvalid's auc: 0.806527\n",
      "[1000]\tvalid's auc: 0.807023\n",
      "[1100]\tvalid's auc: 0.807154\n",
      "[1200]\tvalid's auc: 0.807777\n",
      "[1300]\tvalid's auc: 0.808146\n",
      "[1400]\tvalid's auc: 0.808374\n",
      "[1500]\tvalid's auc: 0.809084\n",
      "[1600]\tvalid's auc: 0.809516\n",
      "[1700]\tvalid's auc: 0.809894\n",
      "[1800]\tvalid's auc: 0.81017\n",
      "[1900]\tvalid's auc: 0.810136\n",
      "Early stopping, best iteration is:\n",
      "[1855]\tvalid's auc: 0.810412\n"
     ]
    },
    {
     "name": "stderr",
     "output_type": "stream",
     "text": [
      "/home/wopr/.local/lib/python3.6/site-packages/sklearn/preprocessing/label.py:219: DataConversionWarning: A column-vector y was passed when a 1d array was expected. Please change the shape of y to (n_samples, ), for example using ravel().\n",
      "  y = column_or_1d(y, warn=True)\n",
      "/home/wopr/.local/lib/python3.6/site-packages/sklearn/preprocessing/label.py:252: DataConversionWarning: A column-vector y was passed when a 1d array was expected. Please change the shape of y to (n_samples, ), for example using ravel().\n",
      "  y = column_or_1d(y, warn=True)\n"
     ]
    },
    {
     "name": "stdout",
     "output_type": "stream",
     "text": [
      "Training until validation scores don't improve for 100 rounds.\n",
      "[100]\tvalid's auc: 0.747367\n",
      "[200]\tvalid's auc: 0.773868\n",
      "[300]\tvalid's auc: 0.785769\n",
      "[400]\tvalid's auc: 0.791697\n",
      "[500]\tvalid's auc: 0.794772\n",
      "[600]\tvalid's auc: 0.796091\n",
      "[700]\tvalid's auc: 0.796546\n",
      "[800]\tvalid's auc: 0.797404\n",
      "[900]\tvalid's auc: 0.797699\n",
      "[1000]\tvalid's auc: 0.798201\n",
      "[1100]\tvalid's auc: 0.798753\n",
      "[1200]\tvalid's auc: 0.799073\n",
      "[1300]\tvalid's auc: 0.799447\n",
      "[1400]\tvalid's auc: 0.800181\n",
      "[1500]\tvalid's auc: 0.800442\n",
      "[1600]\tvalid's auc: 0.800403\n",
      "Early stopping, best iteration is:\n",
      "[1512]\tvalid's auc: 0.800551\n"
     ]
    },
    {
     "name": "stderr",
     "output_type": "stream",
     "text": [
      "/home/wopr/.local/lib/python3.6/site-packages/sklearn/preprocessing/label.py:219: DataConversionWarning: A column-vector y was passed when a 1d array was expected. Please change the shape of y to (n_samples, ), for example using ravel().\n",
      "  y = column_or_1d(y, warn=True)\n",
      "/home/wopr/.local/lib/python3.6/site-packages/sklearn/preprocessing/label.py:252: DataConversionWarning: A column-vector y was passed when a 1d array was expected. Please change the shape of y to (n_samples, ), for example using ravel().\n",
      "  y = column_or_1d(y, warn=True)\n"
     ]
    },
    {
     "name": "stdout",
     "output_type": "stream",
     "text": [
      "Training until validation scores don't improve for 100 rounds.\n",
      "[100]\tvalid's auc: 0.748693\n",
      "[200]\tvalid's auc: 0.773852\n",
      "[300]\tvalid's auc: 0.786645\n",
      "[400]\tvalid's auc: 0.794253\n",
      "[500]\tvalid's auc: 0.798066\n",
      "[600]\tvalid's auc: 0.800317\n",
      "[700]\tvalid's auc: 0.801731\n",
      "[800]\tvalid's auc: 0.802118\n",
      "[900]\tvalid's auc: 0.803769\n",
      "[1000]\tvalid's auc: 0.804369\n",
      "Early stopping, best iteration is:\n",
      "[975]\tvalid's auc: 0.804796\n"
     ]
    },
    {
     "name": "stderr",
     "output_type": "stream",
     "text": [
      "/home/wopr/.local/lib/python3.6/site-packages/sklearn/preprocessing/label.py:219: DataConversionWarning: A column-vector y was passed when a 1d array was expected. Please change the shape of y to (n_samples, ), for example using ravel().\n",
      "  y = column_or_1d(y, warn=True)\n",
      "/home/wopr/.local/lib/python3.6/site-packages/sklearn/preprocessing/label.py:252: DataConversionWarning: A column-vector y was passed when a 1d array was expected. Please change the shape of y to (n_samples, ), for example using ravel().\n",
      "  y = column_or_1d(y, warn=True)\n"
     ]
    },
    {
     "name": "stdout",
     "output_type": "stream",
     "text": [
      "Training until validation scores don't improve for 100 rounds.\n",
      "[100]\tvalid's auc: 0.743901\n",
      "[200]\tvalid's auc: 0.77058\n",
      "[300]\tvalid's auc: 0.784472\n",
      "[400]\tvalid's auc: 0.791747\n",
      "[500]\tvalid's auc: 0.795005\n",
      "[600]\tvalid's auc: 0.796291\n",
      "[700]\tvalid's auc: 0.796802\n",
      "[800]\tvalid's auc: 0.797965\n",
      "[900]\tvalid's auc: 0.798537\n",
      "[1000]\tvalid's auc: 0.799072\n",
      "[1100]\tvalid's auc: 0.799399\n",
      "Early stopping, best iteration is:\n",
      "[1092]\tvalid's auc: 0.799491\n"
     ]
    },
    {
     "name": "stderr",
     "output_type": "stream",
     "text": [
      "/home/wopr/.local/lib/python3.6/site-packages/sklearn/preprocessing/label.py:219: DataConversionWarning: A column-vector y was passed when a 1d array was expected. Please change the shape of y to (n_samples, ), for example using ravel().\n",
      "  y = column_or_1d(y, warn=True)\n",
      "/home/wopr/.local/lib/python3.6/site-packages/sklearn/preprocessing/label.py:252: DataConversionWarning: A column-vector y was passed when a 1d array was expected. Please change the shape of y to (n_samples, ), for example using ravel().\n",
      "  y = column_or_1d(y, warn=True)\n"
     ]
    },
    {
     "name": "stdout",
     "output_type": "stream",
     "text": [
      "Training until validation scores don't improve for 100 rounds.\n",
      "[100]\tvalid's auc: 0.758893\n",
      "[200]\tvalid's auc: 0.783685\n",
      "[300]\tvalid's auc: 0.796139\n",
      "[400]\tvalid's auc: 0.801609\n",
      "[500]\tvalid's auc: 0.804844\n",
      "[600]\tvalid's auc: 0.806723\n",
      "[700]\tvalid's auc: 0.808669\n",
      "[800]\tvalid's auc: 0.809921\n",
      "[900]\tvalid's auc: 0.810907\n",
      "[1000]\tvalid's auc: 0.811894\n",
      "[1100]\tvalid's auc: 0.812572\n",
      "[1200]\tvalid's auc: 0.813394\n",
      "[1300]\tvalid's auc: 0.814019\n",
      "[1400]\tvalid's auc: 0.814505\n",
      "[1500]\tvalid's auc: 0.815144\n",
      "[1600]\tvalid's auc: 0.815407\n",
      "[1700]\tvalid's auc: 0.815758\n",
      "[1800]\tvalid's auc: 0.816386\n",
      "[1900]\tvalid's auc: 0.816645\n",
      "[2000]\tvalid's auc: 0.81696\n",
      "[2100]\tvalid's auc: 0.817109\n",
      "Early stopping, best iteration is:\n",
      "[2023]\tvalid's auc: 0.81713\n"
     ]
    },
    {
     "name": "stderr",
     "output_type": "stream",
     "text": [
      "/home/wopr/.local/lib/python3.6/site-packages/sklearn/preprocessing/label.py:219: DataConversionWarning: A column-vector y was passed when a 1d array was expected. Please change the shape of y to (n_samples, ), for example using ravel().\n",
      "  y = column_or_1d(y, warn=True)\n",
      "/home/wopr/.local/lib/python3.6/site-packages/sklearn/preprocessing/label.py:252: DataConversionWarning: A column-vector y was passed when a 1d array was expected. Please change the shape of y to (n_samples, ), for example using ravel().\n",
      "  y = column_or_1d(y, warn=True)\n"
     ]
    },
    {
     "name": "stdout",
     "output_type": "stream",
     "text": [
      "Training until validation scores don't improve for 100 rounds.\n",
      "[100]\tvalid's auc: 0.761994\n",
      "[200]\tvalid's auc: 0.785686\n",
      "[300]\tvalid's auc: 0.797018\n",
      "[400]\tvalid's auc: 0.80374\n",
      "[500]\tvalid's auc: 0.80834\n",
      "[600]\tvalid's auc: 0.811075\n",
      "[700]\tvalid's auc: 0.812814\n",
      "[800]\tvalid's auc: 0.813626\n",
      "[900]\tvalid's auc: 0.814291\n",
      "[1000]\tvalid's auc: 0.814737\n",
      "[1100]\tvalid's auc: 0.815378\n",
      "[1200]\tvalid's auc: 0.816344\n",
      "[1300]\tvalid's auc: 0.816855\n",
      "[1400]\tvalid's auc: 0.817325\n",
      "[1500]\tvalid's auc: 0.817777\n",
      "[1600]\tvalid's auc: 0.817896\n",
      "[1700]\tvalid's auc: 0.818236\n",
      "[1800]\tvalid's auc: 0.818746\n",
      "[1900]\tvalid's auc: 0.819292\n",
      "[2000]\tvalid's auc: 0.819733\n",
      "[2100]\tvalid's auc: 0.820093\n",
      "[2200]\tvalid's auc: 0.820096\n",
      "[2300]\tvalid's auc: 0.820362\n",
      "[2400]\tvalid's auc: 0.820569\n",
      "[2500]\tvalid's auc: 0.820835\n",
      "[2600]\tvalid's auc: 0.820853\n",
      "[2700]\tvalid's auc: 0.821009\n",
      "[2800]\tvalid's auc: 0.82123\n",
      "[2900]\tvalid's auc: 0.821457\n",
      "[3000]\tvalid's auc: 0.821684\n",
      "[3100]\tvalid's auc: 0.821829\n",
      "[3200]\tvalid's auc: 0.822224\n",
      "[3300]\tvalid's auc: 0.822334\n",
      "[3400]\tvalid's auc: 0.822411\n",
      "[3500]\tvalid's auc: 0.822586\n",
      "[3600]\tvalid's auc: 0.822592\n",
      "Early stopping, best iteration is:\n",
      "[3518]\tvalid's auc: 0.822594\n"
     ]
    },
    {
     "name": "stderr",
     "output_type": "stream",
     "text": [
      "/home/wopr/.local/lib/python3.6/site-packages/sklearn/preprocessing/label.py:219: DataConversionWarning: A column-vector y was passed when a 1d array was expected. Please change the shape of y to (n_samples, ), for example using ravel().\n",
      "  y = column_or_1d(y, warn=True)\n",
      "/home/wopr/.local/lib/python3.6/site-packages/sklearn/preprocessing/label.py:252: DataConversionWarning: A column-vector y was passed when a 1d array was expected. Please change the shape of y to (n_samples, ), for example using ravel().\n",
      "  y = column_or_1d(y, warn=True)\n"
     ]
    },
    {
     "name": "stdout",
     "output_type": "stream",
     "text": [
      "Training until validation scores don't improve for 100 rounds.\n",
      "[100]\tvalid's auc: 0.762534\n",
      "[200]\tvalid's auc: 0.785217\n",
      "[300]\tvalid's auc: 0.797411\n",
      "[400]\tvalid's auc: 0.803829\n",
      "[500]\tvalid's auc: 0.807859\n",
      "[600]\tvalid's auc: 0.810268\n",
      "[700]\tvalid's auc: 0.812108\n",
      "[800]\tvalid's auc: 0.813048\n",
      "[900]\tvalid's auc: 0.814197\n",
      "[1000]\tvalid's auc: 0.815328\n",
      "[1100]\tvalid's auc: 0.815706\n",
      "[1200]\tvalid's auc: 0.815973\n",
      "[1300]\tvalid's auc: 0.816472\n",
      "[1400]\tvalid's auc: 0.816997\n",
      "[1500]\tvalid's auc: 0.816973\n",
      "[1600]\tvalid's auc: 0.817301\n",
      "[1700]\tvalid's auc: 0.817847\n",
      "[1800]\tvalid's auc: 0.818207\n",
      "[1900]\tvalid's auc: 0.818417\n",
      "[2000]\tvalid's auc: 0.818685\n",
      "[2100]\tvalid's auc: 0.818959\n",
      "[2200]\tvalid's auc: 0.819219\n",
      "[2300]\tvalid's auc: 0.819586\n",
      "[2400]\tvalid's auc: 0.819953\n",
      "[2500]\tvalid's auc: 0.820171\n",
      "[2600]\tvalid's auc: 0.820316\n",
      "[2700]\tvalid's auc: 0.820528\n",
      "[2800]\tvalid's auc: 0.820568\n",
      "[2900]\tvalid's auc: 0.820866\n",
      "[3000]\tvalid's auc: 0.821097\n",
      "[3100]\tvalid's auc: 0.82128\n",
      "[3200]\tvalid's auc: 0.821326\n",
      "[3300]\tvalid's auc: 0.821603\n",
      "[3400]\tvalid's auc: 0.82178\n",
      "[3500]\tvalid's auc: 0.821979\n",
      "[3600]\tvalid's auc: 0.822071\n",
      "[3700]\tvalid's auc: 0.822093\n",
      "Early stopping, best iteration is:\n",
      "[3622]\tvalid's auc: 0.822112\n"
     ]
    },
    {
     "name": "stderr",
     "output_type": "stream",
     "text": [
      "/home/wopr/.local/lib/python3.6/site-packages/sklearn/preprocessing/label.py:219: DataConversionWarning: A column-vector y was passed when a 1d array was expected. Please change the shape of y to (n_samples, ), for example using ravel().\n",
      "  y = column_or_1d(y, warn=True)\n",
      "/home/wopr/.local/lib/python3.6/site-packages/sklearn/preprocessing/label.py:252: DataConversionWarning: A column-vector y was passed when a 1d array was expected. Please change the shape of y to (n_samples, ), for example using ravel().\n",
      "  y = column_or_1d(y, warn=True)\n"
     ]
    },
    {
     "name": "stdout",
     "output_type": "stream",
     "text": [
      "Training until validation scores don't improve for 100 rounds.\n",
      "[100]\tvalid's auc: 0.739621\n",
      "[200]\tvalid's auc: 0.7658\n",
      "[300]\tvalid's auc: 0.779749\n",
      "[400]\tvalid's auc: 0.787823\n",
      "[500]\tvalid's auc: 0.793199\n",
      "[600]\tvalid's auc: 0.79698\n",
      "[700]\tvalid's auc: 0.800316\n",
      "[800]\tvalid's auc: 0.803328\n",
      "[900]\tvalid's auc: 0.805741\n",
      "[1000]\tvalid's auc: 0.807434\n",
      "[1100]\tvalid's auc: 0.807662\n",
      "Early stopping, best iteration is:\n",
      "[1017]\tvalid's auc: 0.807674\n"
     ]
    },
    {
     "name": "stderr",
     "output_type": "stream",
     "text": [
      "/home/wopr/.local/lib/python3.6/site-packages/sklearn/preprocessing/label.py:219: DataConversionWarning: A column-vector y was passed when a 1d array was expected. Please change the shape of y to (n_samples, ), for example using ravel().\n",
      "  y = column_or_1d(y, warn=True)\n",
      "/home/wopr/.local/lib/python3.6/site-packages/sklearn/preprocessing/label.py:252: DataConversionWarning: A column-vector y was passed when a 1d array was expected. Please change the shape of y to (n_samples, ), for example using ravel().\n",
      "  y = column_or_1d(y, warn=True)\n"
     ]
    },
    {
     "name": "stdout",
     "output_type": "stream",
     "text": [
      "Training until validation scores don't improve for 100 rounds.\n",
      "[100]\tvalid's auc: 0.739119\n",
      "[200]\tvalid's auc: 0.765286\n",
      "[300]\tvalid's auc: 0.778586\n",
      "[400]\tvalid's auc: 0.787603\n",
      "[500]\tvalid's auc: 0.793824\n",
      "[600]\tvalid's auc: 0.798964\n",
      "[700]\tvalid's auc: 0.80198\n",
      "[800]\tvalid's auc: 0.804765\n",
      "[900]\tvalid's auc: 0.806725\n",
      "[1000]\tvalid's auc: 0.808233\n",
      "Early stopping, best iteration is:\n",
      "[997]\tvalid's auc: 0.808273\n"
     ]
    },
    {
     "name": "stderr",
     "output_type": "stream",
     "text": [
      "/home/wopr/.local/lib/python3.6/site-packages/sklearn/preprocessing/label.py:219: DataConversionWarning: A column-vector y was passed when a 1d array was expected. Please change the shape of y to (n_samples, ), for example using ravel().\n",
      "  y = column_or_1d(y, warn=True)\n",
      "/home/wopr/.local/lib/python3.6/site-packages/sklearn/preprocessing/label.py:252: DataConversionWarning: A column-vector y was passed when a 1d array was expected. Please change the shape of y to (n_samples, ), for example using ravel().\n",
      "  y = column_or_1d(y, warn=True)\n"
     ]
    },
    {
     "name": "stdout",
     "output_type": "stream",
     "text": [
      "Training until validation scores don't improve for 100 rounds.\n",
      "[100]\tvalid's auc: 0.737269\n",
      "[200]\tvalid's auc: 0.765918\n",
      "[300]\tvalid's auc: 0.777835\n",
      "[400]\tvalid's auc: 0.786088\n",
      "[500]\tvalid's auc: 0.791738\n",
      "[600]\tvalid's auc: 0.7956\n",
      "[700]\tvalid's auc: 0.798727\n",
      "[800]\tvalid's auc: 0.801336\n",
      "[900]\tvalid's auc: 0.803857\n",
      "[1000]\tvalid's auc: 0.805451\n",
      "[1100]\tvalid's auc: 0.806032\n",
      "Early stopping, best iteration is:\n",
      "[1031]\tvalid's auc: 0.806044\n"
     ]
    },
    {
     "name": "stderr",
     "output_type": "stream",
     "text": [
      "/home/wopr/.local/lib/python3.6/site-packages/sklearn/preprocessing/label.py:219: DataConversionWarning: A column-vector y was passed when a 1d array was expected. Please change the shape of y to (n_samples, ), for example using ravel().\n",
      "  y = column_or_1d(y, warn=True)\n",
      "/home/wopr/.local/lib/python3.6/site-packages/sklearn/preprocessing/label.py:252: DataConversionWarning: A column-vector y was passed when a 1d array was expected. Please change the shape of y to (n_samples, ), for example using ravel().\n",
      "  y = column_or_1d(y, warn=True)\n"
     ]
    },
    {
     "name": "stdout",
     "output_type": "stream",
     "text": [
      "Training until validation scores don't improve for 100 rounds.\n",
      "[100]\tvalid's auc: 0.750941\n",
      "[200]\tvalid's auc: 0.778315\n",
      "[300]\tvalid's auc: 0.791824\n",
      "[400]\tvalid's auc: 0.798669\n",
      "[500]\tvalid's auc: 0.802862\n",
      "[600]\tvalid's auc: 0.805255\n",
      "[700]\tvalid's auc: 0.80681\n",
      "[800]\tvalid's auc: 0.80777\n",
      "[900]\tvalid's auc: 0.808256\n",
      "[1000]\tvalid's auc: 0.808524\n",
      "[1100]\tvalid's auc: 0.808781\n",
      "[1200]\tvalid's auc: 0.809059\n",
      "Early stopping, best iteration is:\n",
      "[1173]\tvalid's auc: 0.809213\n"
     ]
    },
    {
     "name": "stderr",
     "output_type": "stream",
     "text": [
      "/home/wopr/.local/lib/python3.6/site-packages/sklearn/preprocessing/label.py:219: DataConversionWarning: A column-vector y was passed when a 1d array was expected. Please change the shape of y to (n_samples, ), for example using ravel().\n",
      "  y = column_or_1d(y, warn=True)\n",
      "/home/wopr/.local/lib/python3.6/site-packages/sklearn/preprocessing/label.py:252: DataConversionWarning: A column-vector y was passed when a 1d array was expected. Please change the shape of y to (n_samples, ), for example using ravel().\n",
      "  y = column_or_1d(y, warn=True)\n"
     ]
    },
    {
     "name": "stdout",
     "output_type": "stream",
     "text": [
      "Training until validation scores don't improve for 100 rounds.\n",
      "[100]\tvalid's auc: 0.749694\n",
      "[200]\tvalid's auc: 0.773507\n",
      "[300]\tvalid's auc: 0.787925\n",
      "[400]\tvalid's auc: 0.795315\n",
      "[500]\tvalid's auc: 0.800159\n",
      "[600]\tvalid's auc: 0.802727\n",
      "[700]\tvalid's auc: 0.804627\n",
      "[800]\tvalid's auc: 0.805627\n",
      "[900]\tvalid's auc: 0.806165\n",
      "[1000]\tvalid's auc: 0.806799\n",
      "[1100]\tvalid's auc: 0.807331\n",
      "[1200]\tvalid's auc: 0.807712\n",
      "[1300]\tvalid's auc: 0.808322\n",
      "[1400]\tvalid's auc: 0.808431\n",
      "Early stopping, best iteration is:\n",
      "[1389]\tvalid's auc: 0.808552\n"
     ]
    },
    {
     "name": "stderr",
     "output_type": "stream",
     "text": [
      "/home/wopr/.local/lib/python3.6/site-packages/sklearn/preprocessing/label.py:219: DataConversionWarning: A column-vector y was passed when a 1d array was expected. Please change the shape of y to (n_samples, ), for example using ravel().\n",
      "  y = column_or_1d(y, warn=True)\n",
      "/home/wopr/.local/lib/python3.6/site-packages/sklearn/preprocessing/label.py:252: DataConversionWarning: A column-vector y was passed when a 1d array was expected. Please change the shape of y to (n_samples, ), for example using ravel().\n",
      "  y = column_or_1d(y, warn=True)\n"
     ]
    },
    {
     "name": "stdout",
     "output_type": "stream",
     "text": [
      "Training until validation scores don't improve for 100 rounds.\n",
      "[100]\tvalid's auc: 0.749311\n",
      "[200]\tvalid's auc: 0.776439\n",
      "[300]\tvalid's auc: 0.789493\n",
      "[400]\tvalid's auc: 0.796919\n",
      "[500]\tvalid's auc: 0.802094\n",
      "[600]\tvalid's auc: 0.804531\n",
      "[700]\tvalid's auc: 0.806451\n",
      "[800]\tvalid's auc: 0.807748\n",
      "[900]\tvalid's auc: 0.808034\n",
      "[1000]\tvalid's auc: 0.808604\n",
      "[1100]\tvalid's auc: 0.809077\n",
      "Early stopping, best iteration is:\n",
      "[1074]\tvalid's auc: 0.809329\n"
     ]
    },
    {
     "name": "stderr",
     "output_type": "stream",
     "text": [
      "/home/wopr/.local/lib/python3.6/site-packages/sklearn/preprocessing/label.py:219: DataConversionWarning: A column-vector y was passed when a 1d array was expected. Please change the shape of y to (n_samples, ), for example using ravel().\n",
      "  y = column_or_1d(y, warn=True)\n",
      "/home/wopr/.local/lib/python3.6/site-packages/sklearn/preprocessing/label.py:252: DataConversionWarning: A column-vector y was passed when a 1d array was expected. Please change the shape of y to (n_samples, ), for example using ravel().\n",
      "  y = column_or_1d(y, warn=True)\n"
     ]
    },
    {
     "name": "stdout",
     "output_type": "stream",
     "text": [
      "Training until validation scores don't improve for 100 rounds.\n",
      "[100]\tvalid's auc: 0.5\n",
      "Early stopping, best iteration is:\n",
      "[1]\tvalid's auc: 0.5\n"
     ]
    },
    {
     "name": "stderr",
     "output_type": "stream",
     "text": [
      "/home/wopr/.local/lib/python3.6/site-packages/sklearn/preprocessing/label.py:219: DataConversionWarning: A column-vector y was passed when a 1d array was expected. Please change the shape of y to (n_samples, ), for example using ravel().\n",
      "  y = column_or_1d(y, warn=True)\n",
      "/home/wopr/.local/lib/python3.6/site-packages/sklearn/preprocessing/label.py:252: DataConversionWarning: A column-vector y was passed when a 1d array was expected. Please change the shape of y to (n_samples, ), for example using ravel().\n",
      "  y = column_or_1d(y, warn=True)\n"
     ]
    },
    {
     "name": "stdout",
     "output_type": "stream",
     "text": [
      "Training until validation scores don't improve for 100 rounds.\n",
      "[100]\tvalid's auc: 0.5\n",
      "Early stopping, best iteration is:\n",
      "[1]\tvalid's auc: 0.5\n"
     ]
    },
    {
     "name": "stderr",
     "output_type": "stream",
     "text": [
      "/home/wopr/.local/lib/python3.6/site-packages/sklearn/preprocessing/label.py:219: DataConversionWarning: A column-vector y was passed when a 1d array was expected. Please change the shape of y to (n_samples, ), for example using ravel().\n",
      "  y = column_or_1d(y, warn=True)\n",
      "/home/wopr/.local/lib/python3.6/site-packages/sklearn/preprocessing/label.py:252: DataConversionWarning: A column-vector y was passed when a 1d array was expected. Please change the shape of y to (n_samples, ), for example using ravel().\n",
      "  y = column_or_1d(y, warn=True)\n"
     ]
    },
    {
     "name": "stdout",
     "output_type": "stream",
     "text": [
      "Training until validation scores don't improve for 100 rounds.\n",
      "[100]\tvalid's auc: 0.5\n",
      "Early stopping, best iteration is:\n",
      "[1]\tvalid's auc: 0.5\n"
     ]
    },
    {
     "name": "stderr",
     "output_type": "stream",
     "text": [
      "/home/wopr/.local/lib/python3.6/site-packages/sklearn/preprocessing/label.py:219: DataConversionWarning: A column-vector y was passed when a 1d array was expected. Please change the shape of y to (n_samples, ), for example using ravel().\n",
      "  y = column_or_1d(y, warn=True)\n",
      "/home/wopr/.local/lib/python3.6/site-packages/sklearn/preprocessing/label.py:252: DataConversionWarning: A column-vector y was passed when a 1d array was expected. Please change the shape of y to (n_samples, ), for example using ravel().\n",
      "  y = column_or_1d(y, warn=True)\n"
     ]
    },
    {
     "name": "stdout",
     "output_type": "stream",
     "text": [
      "Training until validation scores don't improve for 100 rounds.\n",
      "[100]\tvalid's auc: 0.749444\n",
      "[200]\tvalid's auc: 0.777987\n",
      "[300]\tvalid's auc: 0.790816\n",
      "[400]\tvalid's auc: 0.797366\n",
      "[500]\tvalid's auc: 0.802125\n",
      "[600]\tvalid's auc: 0.804607\n",
      "[700]\tvalid's auc: 0.806784\n",
      "[800]\tvalid's auc: 0.808144\n",
      "[900]\tvalid's auc: 0.808914\n",
      "[1000]\tvalid's auc: 0.809418\n",
      "[1100]\tvalid's auc: 0.809781\n",
      "[1200]\tvalid's auc: 0.810148\n",
      "[1300]\tvalid's auc: 0.81082\n",
      "[1400]\tvalid's auc: 0.8107\n",
      "Early stopping, best iteration is:\n",
      "[1318]\tvalid's auc: 0.810896\n"
     ]
    },
    {
     "name": "stderr",
     "output_type": "stream",
     "text": [
      "/home/wopr/.local/lib/python3.6/site-packages/sklearn/preprocessing/label.py:219: DataConversionWarning: A column-vector y was passed when a 1d array was expected. Please change the shape of y to (n_samples, ), for example using ravel().\n",
      "  y = column_or_1d(y, warn=True)\n",
      "/home/wopr/.local/lib/python3.6/site-packages/sklearn/preprocessing/label.py:252: DataConversionWarning: A column-vector y was passed when a 1d array was expected. Please change the shape of y to (n_samples, ), for example using ravel().\n",
      "  y = column_or_1d(y, warn=True)\n"
     ]
    },
    {
     "name": "stdout",
     "output_type": "stream",
     "text": [
      "Training until validation scores don't improve for 100 rounds.\n",
      "[100]\tvalid's auc: 0.751001\n",
      "[200]\tvalid's auc: 0.777204\n",
      "[300]\tvalid's auc: 0.790627\n",
      "[400]\tvalid's auc: 0.798249\n",
      "[500]\tvalid's auc: 0.802434\n",
      "[600]\tvalid's auc: 0.804604\n",
      "[700]\tvalid's auc: 0.805604\n",
      "[800]\tvalid's auc: 0.806568\n",
      "[900]\tvalid's auc: 0.80745\n",
      "[1000]\tvalid's auc: 0.807526\n",
      "[1100]\tvalid's auc: 0.808167\n",
      "[1200]\tvalid's auc: 0.808376\n",
      "[1300]\tvalid's auc: 0.808403\n",
      "[1400]\tvalid's auc: 0.808353\n",
      "Early stopping, best iteration is:\n",
      "[1321]\tvalid's auc: 0.808666\n"
     ]
    },
    {
     "name": "stderr",
     "output_type": "stream",
     "text": [
      "/home/wopr/.local/lib/python3.6/site-packages/sklearn/preprocessing/label.py:219: DataConversionWarning: A column-vector y was passed when a 1d array was expected. Please change the shape of y to (n_samples, ), for example using ravel().\n",
      "  y = column_or_1d(y, warn=True)\n",
      "/home/wopr/.local/lib/python3.6/site-packages/sklearn/preprocessing/label.py:252: DataConversionWarning: A column-vector y was passed when a 1d array was expected. Please change the shape of y to (n_samples, ), for example using ravel().\n",
      "  y = column_or_1d(y, warn=True)\n"
     ]
    },
    {
     "name": "stdout",
     "output_type": "stream",
     "text": [
      "Training until validation scores don't improve for 100 rounds.\n",
      "[100]\tvalid's auc: 0.750181\n",
      "[200]\tvalid's auc: 0.776209\n",
      "[300]\tvalid's auc: 0.789619\n",
      "[400]\tvalid's auc: 0.798066\n",
      "[500]\tvalid's auc: 0.802386\n",
      "[600]\tvalid's auc: 0.803989\n",
      "[700]\tvalid's auc: 0.805296\n",
      "[800]\tvalid's auc: 0.806361\n",
      "[900]\tvalid's auc: 0.807553\n",
      "[1000]\tvalid's auc: 0.807932\n",
      "[1100]\tvalid's auc: 0.80852\n",
      "Early stopping, best iteration is:\n",
      "[1074]\tvalid's auc: 0.808807\n"
     ]
    },
    {
     "name": "stderr",
     "output_type": "stream",
     "text": [
      "/home/wopr/.local/lib/python3.6/site-packages/sklearn/preprocessing/label.py:219: DataConversionWarning: A column-vector y was passed when a 1d array was expected. Please change the shape of y to (n_samples, ), for example using ravel().\n",
      "  y = column_or_1d(y, warn=True)\n",
      "/home/wopr/.local/lib/python3.6/site-packages/sklearn/preprocessing/label.py:252: DataConversionWarning: A column-vector y was passed when a 1d array was expected. Please change the shape of y to (n_samples, ), for example using ravel().\n",
      "  y = column_or_1d(y, warn=True)\n"
     ]
    },
    {
     "name": "stdout",
     "output_type": "stream",
     "text": [
      "Training until validation scores don't improve for 100 rounds.\n",
      "[100]\tvalid's auc: 0.754684\n",
      "[200]\tvalid's auc: 0.777566\n",
      "[300]\tvalid's auc: 0.78826\n",
      "[400]\tvalid's auc: 0.795495\n",
      "[500]\tvalid's auc: 0.799018\n",
      "[600]\tvalid's auc: 0.800157\n",
      "[700]\tvalid's auc: 0.800506\n",
      "[800]\tvalid's auc: 0.800693\n",
      "[900]\tvalid's auc: 0.801779\n",
      "[1000]\tvalid's auc: 0.802397\n",
      "[1100]\tvalid's auc: 0.803737\n",
      "[1200]\tvalid's auc: 0.80403\n",
      "[1300]\tvalid's auc: 0.804294\n",
      "[1400]\tvalid's auc: 0.804106\n",
      "Early stopping, best iteration is:\n",
      "[1361]\tvalid's auc: 0.80437\n"
     ]
    },
    {
     "name": "stderr",
     "output_type": "stream",
     "text": [
      "/home/wopr/.local/lib/python3.6/site-packages/sklearn/preprocessing/label.py:219: DataConversionWarning: A column-vector y was passed when a 1d array was expected. Please change the shape of y to (n_samples, ), for example using ravel().\n",
      "  y = column_or_1d(y, warn=True)\n",
      "/home/wopr/.local/lib/python3.6/site-packages/sklearn/preprocessing/label.py:252: DataConversionWarning: A column-vector y was passed when a 1d array was expected. Please change the shape of y to (n_samples, ), for example using ravel().\n",
      "  y = column_or_1d(y, warn=True)\n"
     ]
    },
    {
     "name": "stdout",
     "output_type": "stream",
     "text": [
      "Training until validation scores don't improve for 100 rounds.\n",
      "[100]\tvalid's auc: 0.755263\n",
      "[200]\tvalid's auc: 0.778375\n",
      "[300]\tvalid's auc: 0.79082\n",
      "[400]\tvalid's auc: 0.797323\n",
      "[500]\tvalid's auc: 0.799881\n",
      "[600]\tvalid's auc: 0.801325\n",
      "Early stopping, best iteration is:\n",
      "[599]\tvalid's auc: 0.801399\n"
     ]
    },
    {
     "name": "stderr",
     "output_type": "stream",
     "text": [
      "/home/wopr/.local/lib/python3.6/site-packages/sklearn/preprocessing/label.py:219: DataConversionWarning: A column-vector y was passed when a 1d array was expected. Please change the shape of y to (n_samples, ), for example using ravel().\n",
      "  y = column_or_1d(y, warn=True)\n",
      "/home/wopr/.local/lib/python3.6/site-packages/sklearn/preprocessing/label.py:252: DataConversionWarning: A column-vector y was passed when a 1d array was expected. Please change the shape of y to (n_samples, ), for example using ravel().\n",
      "  y = column_or_1d(y, warn=True)\n"
     ]
    },
    {
     "name": "stdout",
     "output_type": "stream",
     "text": [
      "Training until validation scores don't improve for 100 rounds.\n",
      "[100]\tvalid's auc: 0.749652\n",
      "[200]\tvalid's auc: 0.774928\n",
      "[300]\tvalid's auc: 0.785266\n",
      "[400]\tvalid's auc: 0.790925\n",
      "[500]\tvalid's auc: 0.794662\n",
      "[600]\tvalid's auc: 0.797132\n",
      "[700]\tvalid's auc: 0.79803\n",
      "[800]\tvalid's auc: 0.798473\n",
      "Early stopping, best iteration is:\n",
      "[761]\tvalid's auc: 0.798611\n"
     ]
    },
    {
     "name": "stderr",
     "output_type": "stream",
     "text": [
      "/home/wopr/.local/lib/python3.6/site-packages/sklearn/preprocessing/label.py:219: DataConversionWarning: A column-vector y was passed when a 1d array was expected. Please change the shape of y to (n_samples, ), for example using ravel().\n",
      "  y = column_or_1d(y, warn=True)\n",
      "/home/wopr/.local/lib/python3.6/site-packages/sklearn/preprocessing/label.py:252: DataConversionWarning: A column-vector y was passed when a 1d array was expected. Please change the shape of y to (n_samples, ), for example using ravel().\n",
      "  y = column_or_1d(y, warn=True)\n"
     ]
    },
    {
     "name": "stdout",
     "output_type": "stream",
     "text": [
      "Training until validation scores don't improve for 100 rounds.\n",
      "[100]\tvalid's auc: 0.758658\n",
      "[200]\tvalid's auc: 0.78375\n",
      "[300]\tvalid's auc: 0.797073\n",
      "[400]\tvalid's auc: 0.802487\n",
      "[500]\tvalid's auc: 0.804962\n",
      "[600]\tvalid's auc: 0.806555\n",
      "[700]\tvalid's auc: 0.808066\n",
      "[800]\tvalid's auc: 0.809229\n",
      "[900]\tvalid's auc: 0.810139\n",
      "[1000]\tvalid's auc: 0.81051\n",
      "[1100]\tvalid's auc: 0.810783\n",
      "[1200]\tvalid's auc: 0.811379\n",
      "[1300]\tvalid's auc: 0.811997\n",
      "[1400]\tvalid's auc: 0.812418\n",
      "[1500]\tvalid's auc: 0.812708\n",
      "Early stopping, best iteration is:\n",
      "[1489]\tvalid's auc: 0.812739\n"
     ]
    },
    {
     "name": "stderr",
     "output_type": "stream",
     "text": [
      "/home/wopr/.local/lib/python3.6/site-packages/sklearn/preprocessing/label.py:219: DataConversionWarning: A column-vector y was passed when a 1d array was expected. Please change the shape of y to (n_samples, ), for example using ravel().\n",
      "  y = column_or_1d(y, warn=True)\n",
      "/home/wopr/.local/lib/python3.6/site-packages/sklearn/preprocessing/label.py:252: DataConversionWarning: A column-vector y was passed when a 1d array was expected. Please change the shape of y to (n_samples, ), for example using ravel().\n",
      "  y = column_or_1d(y, warn=True)\n"
     ]
    },
    {
     "name": "stdout",
     "output_type": "stream",
     "text": [
      "Training until validation scores don't improve for 100 rounds.\n",
      "[100]\tvalid's auc: 0.762092\n",
      "[200]\tvalid's auc: 0.784534\n",
      "[300]\tvalid's auc: 0.7933\n",
      "[400]\tvalid's auc: 0.799771\n",
      "[500]\tvalid's auc: 0.803335\n",
      "[600]\tvalid's auc: 0.8055\n",
      "[700]\tvalid's auc: 0.806566\n",
      "[800]\tvalid's auc: 0.808126\n",
      "[900]\tvalid's auc: 0.809173\n",
      "[1000]\tvalid's auc: 0.809331\n",
      "[1100]\tvalid's auc: 0.809701\n",
      "[1200]\tvalid's auc: 0.810091\n",
      "[1300]\tvalid's auc: 0.810505\n",
      "[1400]\tvalid's auc: 0.810945\n",
      "[1500]\tvalid's auc: 0.811211\n",
      "[1600]\tvalid's auc: 0.811441\n",
      "[1700]\tvalid's auc: 0.811906\n",
      "[1800]\tvalid's auc: 0.812023\n",
      "[1900]\tvalid's auc: 0.812\n",
      "[2000]\tvalid's auc: 0.812084\n",
      "[2100]\tvalid's auc: 0.812242\n",
      "Early stopping, best iteration is:\n",
      "[2043]\tvalid's auc: 0.812323\n"
     ]
    },
    {
     "name": "stderr",
     "output_type": "stream",
     "text": [
      "/home/wopr/.local/lib/python3.6/site-packages/sklearn/preprocessing/label.py:219: DataConversionWarning: A column-vector y was passed when a 1d array was expected. Please change the shape of y to (n_samples, ), for example using ravel().\n",
      "  y = column_or_1d(y, warn=True)\n",
      "/home/wopr/.local/lib/python3.6/site-packages/sklearn/preprocessing/label.py:252: DataConversionWarning: A column-vector y was passed when a 1d array was expected. Please change the shape of y to (n_samples, ), for example using ravel().\n",
      "  y = column_or_1d(y, warn=True)\n"
     ]
    },
    {
     "name": "stdout",
     "output_type": "stream",
     "text": [
      "Training until validation scores don't improve for 100 rounds.\n",
      "[100]\tvalid's auc: 0.756866\n",
      "[200]\tvalid's auc: 0.78138\n",
      "[300]\tvalid's auc: 0.791613\n",
      "[400]\tvalid's auc: 0.798073\n",
      "[500]\tvalid's auc: 0.801857\n",
      "[600]\tvalid's auc: 0.804423\n",
      "[700]\tvalid's auc: 0.805607\n",
      "[800]\tvalid's auc: 0.806636\n",
      "[900]\tvalid's auc: 0.807543\n",
      "[1000]\tvalid's auc: 0.808007\n",
      "[1100]\tvalid's auc: 0.80874\n",
      "[1200]\tvalid's auc: 0.80916\n",
      "[1300]\tvalid's auc: 0.80969\n",
      "[1400]\tvalid's auc: 0.809877\n",
      "[1500]\tvalid's auc: 0.810258\n",
      "[1600]\tvalid's auc: 0.810449\n",
      "Early stopping, best iteration is:\n",
      "[1534]\tvalid's auc: 0.810594\n"
     ]
    },
    {
     "name": "stderr",
     "output_type": "stream",
     "text": [
      "/home/wopr/.local/lib/python3.6/site-packages/sklearn/preprocessing/label.py:219: DataConversionWarning: A column-vector y was passed when a 1d array was expected. Please change the shape of y to (n_samples, ), for example using ravel().\n",
      "  y = column_or_1d(y, warn=True)\n",
      "/home/wopr/.local/lib/python3.6/site-packages/sklearn/preprocessing/label.py:252: DataConversionWarning: A column-vector y was passed when a 1d array was expected. Please change the shape of y to (n_samples, ), for example using ravel().\n",
      "  y = column_or_1d(y, warn=True)\n"
     ]
    },
    {
     "name": "stdout",
     "output_type": "stream",
     "text": [
      "Training until validation scores don't improve for 100 rounds.\n",
      "[100]\tvalid's auc: 0.730569\n",
      "[200]\tvalid's auc: 0.761991\n",
      "[300]\tvalid's auc: 0.777882\n",
      "[400]\tvalid's auc: 0.787977\n",
      "[500]\tvalid's auc: 0.794977\n",
      "[600]\tvalid's auc: 0.79869\n",
      "[700]\tvalid's auc: 0.801327\n",
      "[800]\tvalid's auc: 0.803069\n",
      "[900]\tvalid's auc: 0.804755\n",
      "[1000]\tvalid's auc: 0.806127\n",
      "[1100]\tvalid's auc: 0.806569\n",
      "[1200]\tvalid's auc: 0.807374\n",
      "[1300]\tvalid's auc: 0.808241\n",
      "[1400]\tvalid's auc: 0.808623\n",
      "[1500]\tvalid's auc: 0.808991\n",
      "[1600]\tvalid's auc: 0.809536\n",
      "[1700]\tvalid's auc: 0.80995\n",
      "[1800]\tvalid's auc: 0.810097\n",
      "[1900]\tvalid's auc: 0.810378\n",
      "Early stopping, best iteration is:\n",
      "[1898]\tvalid's auc: 0.810423\n"
     ]
    },
    {
     "name": "stderr",
     "output_type": "stream",
     "text": [
      "/home/wopr/.local/lib/python3.6/site-packages/sklearn/preprocessing/label.py:219: DataConversionWarning: A column-vector y was passed when a 1d array was expected. Please change the shape of y to (n_samples, ), for example using ravel().\n",
      "  y = column_or_1d(y, warn=True)\n",
      "/home/wopr/.local/lib/python3.6/site-packages/sklearn/preprocessing/label.py:252: DataConversionWarning: A column-vector y was passed when a 1d array was expected. Please change the shape of y to (n_samples, ), for example using ravel().\n",
      "  y = column_or_1d(y, warn=True)\n"
     ]
    },
    {
     "name": "stdout",
     "output_type": "stream",
     "text": [
      "Training until validation scores don't improve for 100 rounds.\n",
      "[100]\tvalid's auc: 0.730421\n",
      "[200]\tvalid's auc: 0.758462\n",
      "[300]\tvalid's auc: 0.774261\n",
      "[400]\tvalid's auc: 0.783846\n",
      "[500]\tvalid's auc: 0.789416\n",
      "[600]\tvalid's auc: 0.793934\n",
      "[700]\tvalid's auc: 0.796015\n",
      "[800]\tvalid's auc: 0.798016\n",
      "[900]\tvalid's auc: 0.799922\n",
      "[1000]\tvalid's auc: 0.801385\n",
      "[1100]\tvalid's auc: 0.802919\n",
      "[1200]\tvalid's auc: 0.803932\n",
      "[1300]\tvalid's auc: 0.804433\n",
      "[1400]\tvalid's auc: 0.805134\n",
      "[1500]\tvalid's auc: 0.80566\n",
      "[1600]\tvalid's auc: 0.806231\n",
      "[1700]\tvalid's auc: 0.806649\n",
      "[1800]\tvalid's auc: 0.807241\n",
      "[1900]\tvalid's auc: 0.807583\n",
      "[2000]\tvalid's auc: 0.807654\n",
      "[2100]\tvalid's auc: 0.808218\n",
      "[2200]\tvalid's auc: 0.808285\n",
      "[2300]\tvalid's auc: 0.808562\n",
      "[2400]\tvalid's auc: 0.809117\n",
      "Early stopping, best iteration is:\n",
      "[2390]\tvalid's auc: 0.809198\n"
     ]
    },
    {
     "name": "stderr",
     "output_type": "stream",
     "text": [
      "/home/wopr/.local/lib/python3.6/site-packages/sklearn/preprocessing/label.py:219: DataConversionWarning: A column-vector y was passed when a 1d array was expected. Please change the shape of y to (n_samples, ), for example using ravel().\n",
      "  y = column_or_1d(y, warn=True)\n",
      "/home/wopr/.local/lib/python3.6/site-packages/sklearn/preprocessing/label.py:252: DataConversionWarning: A column-vector y was passed when a 1d array was expected. Please change the shape of y to (n_samples, ), for example using ravel().\n",
      "  y = column_or_1d(y, warn=True)\n"
     ]
    },
    {
     "name": "stdout",
     "output_type": "stream",
     "text": [
      "Training until validation scores don't improve for 100 rounds.\n",
      "[100]\tvalid's auc: 0.732351\n",
      "[200]\tvalid's auc: 0.760949\n",
      "[300]\tvalid's auc: 0.777438\n",
      "[400]\tvalid's auc: 0.787457\n",
      "[500]\tvalid's auc: 0.793482\n",
      "[600]\tvalid's auc: 0.7975\n",
      "[700]\tvalid's auc: 0.799731\n",
      "[800]\tvalid's auc: 0.801043\n",
      "[900]\tvalid's auc: 0.803101\n",
      "[1000]\tvalid's auc: 0.804051\n",
      "[1100]\tvalid's auc: 0.805236\n",
      "[1200]\tvalid's auc: 0.80597\n",
      "[1300]\tvalid's auc: 0.806721\n",
      "[1400]\tvalid's auc: 0.807558\n",
      "[1500]\tvalid's auc: 0.808235\n",
      "[1600]\tvalid's auc: 0.808243\n",
      "[1700]\tvalid's auc: 0.808774\n",
      "[1800]\tvalid's auc: 0.808872\n",
      "[1900]\tvalid's auc: 0.809218\n",
      "[2000]\tvalid's auc: 0.809326\n",
      "[2100]\tvalid's auc: 0.809617\n",
      "[2200]\tvalid's auc: 0.80945\n",
      "Early stopping, best iteration is:\n",
      "[2163]\tvalid's auc: 0.809699\n"
     ]
    },
    {
     "name": "stderr",
     "output_type": "stream",
     "text": [
      "/home/wopr/.local/lib/python3.6/site-packages/sklearn/preprocessing/label.py:219: DataConversionWarning: A column-vector y was passed when a 1d array was expected. Please change the shape of y to (n_samples, ), for example using ravel().\n",
      "  y = column_or_1d(y, warn=True)\n",
      "/home/wopr/.local/lib/python3.6/site-packages/sklearn/preprocessing/label.py:252: DataConversionWarning: A column-vector y was passed when a 1d array was expected. Please change the shape of y to (n_samples, ), for example using ravel().\n",
      "  y = column_or_1d(y, warn=True)\n"
     ]
    },
    {
     "name": "stdout",
     "output_type": "stream",
     "text": [
      "Training until validation scores don't improve for 100 rounds.\n",
      "[100]\tvalid's auc: 0.5\n",
      "Early stopping, best iteration is:\n",
      "[1]\tvalid's auc: 0.5\n"
     ]
    },
    {
     "name": "stderr",
     "output_type": "stream",
     "text": [
      "/home/wopr/.local/lib/python3.6/site-packages/sklearn/preprocessing/label.py:219: DataConversionWarning: A column-vector y was passed when a 1d array was expected. Please change the shape of y to (n_samples, ), for example using ravel().\n",
      "  y = column_or_1d(y, warn=True)\n",
      "/home/wopr/.local/lib/python3.6/site-packages/sklearn/preprocessing/label.py:252: DataConversionWarning: A column-vector y was passed when a 1d array was expected. Please change the shape of y to (n_samples, ), for example using ravel().\n",
      "  y = column_or_1d(y, warn=True)\n"
     ]
    },
    {
     "name": "stdout",
     "output_type": "stream",
     "text": [
      "Training until validation scores don't improve for 100 rounds.\n",
      "[100]\tvalid's auc: 0.5\n",
      "Early stopping, best iteration is:\n",
      "[1]\tvalid's auc: 0.5\n"
     ]
    },
    {
     "name": "stderr",
     "output_type": "stream",
     "text": [
      "/home/wopr/.local/lib/python3.6/site-packages/sklearn/preprocessing/label.py:219: DataConversionWarning: A column-vector y was passed when a 1d array was expected. Please change the shape of y to (n_samples, ), for example using ravel().\n",
      "  y = column_or_1d(y, warn=True)\n",
      "/home/wopr/.local/lib/python3.6/site-packages/sklearn/preprocessing/label.py:252: DataConversionWarning: A column-vector y was passed when a 1d array was expected. Please change the shape of y to (n_samples, ), for example using ravel().\n",
      "  y = column_or_1d(y, warn=True)\n"
     ]
    },
    {
     "name": "stdout",
     "output_type": "stream",
     "text": [
      "Training until validation scores don't improve for 100 rounds.\n",
      "[100]\tvalid's auc: 0.5\n",
      "Early stopping, best iteration is:\n",
      "[1]\tvalid's auc: 0.5\n"
     ]
    },
    {
     "name": "stderr",
     "output_type": "stream",
     "text": [
      "/home/wopr/.local/lib/python3.6/site-packages/sklearn/preprocessing/label.py:219: DataConversionWarning: A column-vector y was passed when a 1d array was expected. Please change the shape of y to (n_samples, ), for example using ravel().\n",
      "  y = column_or_1d(y, warn=True)\n",
      "/home/wopr/.local/lib/python3.6/site-packages/sklearn/preprocessing/label.py:252: DataConversionWarning: A column-vector y was passed when a 1d array was expected. Please change the shape of y to (n_samples, ), for example using ravel().\n",
      "  y = column_or_1d(y, warn=True)\n"
     ]
    },
    {
     "name": "stdout",
     "output_type": "stream",
     "text": [
      "Training until validation scores don't improve for 100 rounds.\n",
      "[100]\tvalid's auc: 0.728794\n",
      "[200]\tvalid's auc: 0.757715\n",
      "[300]\tvalid's auc: 0.772932\n",
      "[400]\tvalid's auc: 0.783859\n",
      "[500]\tvalid's auc: 0.790581\n",
      "[600]\tvalid's auc: 0.79535\n",
      "[700]\tvalid's auc: 0.799085\n",
      "[800]\tvalid's auc: 0.802039\n",
      "[900]\tvalid's auc: 0.805161\n",
      "[1000]\tvalid's auc: 0.807301\n",
      "[1100]\tvalid's auc: 0.808485\n",
      "[1200]\tvalid's auc: 0.809615\n",
      "[1300]\tvalid's auc: 0.810865\n",
      "[1400]\tvalid's auc: 0.811704\n",
      "[1500]\tvalid's auc: 0.81232\n",
      "[1600]\tvalid's auc: 0.813123\n",
      "[1700]\tvalid's auc: 0.813321\n",
      "[1800]\tvalid's auc: 0.814079\n",
      "[1900]\tvalid's auc: 0.814661\n",
      "[2000]\tvalid's auc: 0.815089\n",
      "[2100]\tvalid's auc: 0.815544\n",
      "[2200]\tvalid's auc: 0.816073\n",
      "[2300]\tvalid's auc: 0.816477\n",
      "[2400]\tvalid's auc: 0.816565\n",
      "Early stopping, best iteration is:\n",
      "[2316]\tvalid's auc: 0.816593\n"
     ]
    },
    {
     "name": "stderr",
     "output_type": "stream",
     "text": [
      "/home/wopr/.local/lib/python3.6/site-packages/sklearn/preprocessing/label.py:219: DataConversionWarning: A column-vector y was passed when a 1d array was expected. Please change the shape of y to (n_samples, ), for example using ravel().\n",
      "  y = column_or_1d(y, warn=True)\n",
      "/home/wopr/.local/lib/python3.6/site-packages/sklearn/preprocessing/label.py:252: DataConversionWarning: A column-vector y was passed when a 1d array was expected. Please change the shape of y to (n_samples, ), for example using ravel().\n",
      "  y = column_or_1d(y, warn=True)\n"
     ]
    },
    {
     "name": "stdout",
     "output_type": "stream",
     "text": [
      "Training until validation scores don't improve for 100 rounds.\n",
      "[100]\tvalid's auc: 0.729198\n",
      "[200]\tvalid's auc: 0.757004\n",
      "[300]\tvalid's auc: 0.771429\n",
      "[400]\tvalid's auc: 0.781748\n",
      "[500]\tvalid's auc: 0.788424\n",
      "[600]\tvalid's auc: 0.793707\n",
      "[700]\tvalid's auc: 0.79746\n",
      "[800]\tvalid's auc: 0.800606\n",
      "[900]\tvalid's auc: 0.803021\n",
      "[1000]\tvalid's auc: 0.804755\n",
      "[1100]\tvalid's auc: 0.806367\n",
      "[1200]\tvalid's auc: 0.807876\n",
      "[1300]\tvalid's auc: 0.809099\n",
      "[1400]\tvalid's auc: 0.809819\n",
      "[1500]\tvalid's auc: 0.810915\n",
      "[1600]\tvalid's auc: 0.811524\n",
      "[1700]\tvalid's auc: 0.812348\n",
      "[1800]\tvalid's auc: 0.812937\n",
      "[1900]\tvalid's auc: 0.813142\n",
      "[2000]\tvalid's auc: 0.813538\n",
      "Early stopping, best iteration is:\n",
      "[1967]\tvalid's auc: 0.813554\n"
     ]
    },
    {
     "name": "stderr",
     "output_type": "stream",
     "text": [
      "/home/wopr/.local/lib/python3.6/site-packages/sklearn/preprocessing/label.py:219: DataConversionWarning: A column-vector y was passed when a 1d array was expected. Please change the shape of y to (n_samples, ), for example using ravel().\n",
      "  y = column_or_1d(y, warn=True)\n",
      "/home/wopr/.local/lib/python3.6/site-packages/sklearn/preprocessing/label.py:252: DataConversionWarning: A column-vector y was passed when a 1d array was expected. Please change the shape of y to (n_samples, ), for example using ravel().\n",
      "  y = column_or_1d(y, warn=True)\n"
     ]
    },
    {
     "name": "stdout",
     "output_type": "stream",
     "text": [
      "Training until validation scores don't improve for 100 rounds.\n",
      "[100]\tvalid's auc: 0.727765\n",
      "[200]\tvalid's auc: 0.756329\n",
      "[300]\tvalid's auc: 0.771361\n",
      "[400]\tvalid's auc: 0.781386\n",
      "[500]\tvalid's auc: 0.788543\n",
      "[600]\tvalid's auc: 0.793348\n",
      "[700]\tvalid's auc: 0.797555\n",
      "[800]\tvalid's auc: 0.801078\n",
      "[900]\tvalid's auc: 0.803127\n",
      "[1000]\tvalid's auc: 0.804405\n",
      "[1100]\tvalid's auc: 0.806173\n",
      "[1200]\tvalid's auc: 0.807779\n",
      "[1300]\tvalid's auc: 0.808866\n",
      "[1400]\tvalid's auc: 0.809562\n",
      "[1500]\tvalid's auc: 0.810776\n",
      "[1600]\tvalid's auc: 0.811501\n",
      "[1700]\tvalid's auc: 0.812304\n",
      "[1800]\tvalid's auc: 0.812615\n",
      "[1900]\tvalid's auc: 0.813137\n",
      "Early stopping, best iteration is:\n",
      "[1896]\tvalid's auc: 0.813167\n"
     ]
    },
    {
     "name": "stderr",
     "output_type": "stream",
     "text": [
      "/home/wopr/.local/lib/python3.6/site-packages/sklearn/preprocessing/label.py:219: DataConversionWarning: A column-vector y was passed when a 1d array was expected. Please change the shape of y to (n_samples, ), for example using ravel().\n",
      "  y = column_or_1d(y, warn=True)\n",
      "/home/wopr/.local/lib/python3.6/site-packages/sklearn/preprocessing/label.py:252: DataConversionWarning: A column-vector y was passed when a 1d array was expected. Please change the shape of y to (n_samples, ), for example using ravel().\n",
      "  y = column_or_1d(y, warn=True)\n"
     ]
    },
    {
     "name": "stdout",
     "output_type": "stream",
     "text": [
      "Training until validation scores don't improve for 100 rounds.\n",
      "[100]\tvalid's auc: 0.742831\n",
      "[200]\tvalid's auc: 0.771446\n",
      "[300]\tvalid's auc: 0.787685\n",
      "[400]\tvalid's auc: 0.795934\n",
      "[500]\tvalid's auc: 0.800476\n",
      "[600]\tvalid's auc: 0.803824\n",
      "[700]\tvalid's auc: 0.806786\n",
      "[800]\tvalid's auc: 0.808206\n",
      "[900]\tvalid's auc: 0.809305\n",
      "[1000]\tvalid's auc: 0.810311\n",
      "[1100]\tvalid's auc: 0.811223\n",
      "[1200]\tvalid's auc: 0.811525\n",
      "[1300]\tvalid's auc: 0.811377\n",
      "Early stopping, best iteration is:\n",
      "[1230]\tvalid's auc: 0.811727\n"
     ]
    },
    {
     "name": "stderr",
     "output_type": "stream",
     "text": [
      "/home/wopr/.local/lib/python3.6/site-packages/sklearn/preprocessing/label.py:219: DataConversionWarning: A column-vector y was passed when a 1d array was expected. Please change the shape of y to (n_samples, ), for example using ravel().\n",
      "  y = column_or_1d(y, warn=True)\n",
      "/home/wopr/.local/lib/python3.6/site-packages/sklearn/preprocessing/label.py:252: DataConversionWarning: A column-vector y was passed when a 1d array was expected. Please change the shape of y to (n_samples, ), for example using ravel().\n",
      "  y = column_or_1d(y, warn=True)\n"
     ]
    },
    {
     "name": "stdout",
     "output_type": "stream",
     "text": [
      "Training until validation scores don't improve for 100 rounds.\n",
      "[100]\tvalid's auc: 0.746241\n",
      "[200]\tvalid's auc: 0.771058\n",
      "[300]\tvalid's auc: 0.784235\n",
      "[400]\tvalid's auc: 0.793846\n",
      "[500]\tvalid's auc: 0.79915\n",
      "[600]\tvalid's auc: 0.802801\n",
      "[700]\tvalid's auc: 0.8057\n",
      "[800]\tvalid's auc: 0.807187\n",
      "[900]\tvalid's auc: 0.808694\n",
      "[1000]\tvalid's auc: 0.809594\n",
      "[1100]\tvalid's auc: 0.810172\n",
      "[1200]\tvalid's auc: 0.810652\n",
      "[1300]\tvalid's auc: 0.81136\n",
      "[1400]\tvalid's auc: 0.811681\n",
      "[1500]\tvalid's auc: 0.811789\n",
      "[1600]\tvalid's auc: 0.812057\n",
      "Early stopping, best iteration is:\n",
      "[1575]\tvalid's auc: 0.812067\n"
     ]
    },
    {
     "name": "stderr",
     "output_type": "stream",
     "text": [
      "/home/wopr/.local/lib/python3.6/site-packages/sklearn/preprocessing/label.py:219: DataConversionWarning: A column-vector y was passed when a 1d array was expected. Please change the shape of y to (n_samples, ), for example using ravel().\n",
      "  y = column_or_1d(y, warn=True)\n",
      "/home/wopr/.local/lib/python3.6/site-packages/sklearn/preprocessing/label.py:252: DataConversionWarning: A column-vector y was passed when a 1d array was expected. Please change the shape of y to (n_samples, ), for example using ravel().\n",
      "  y = column_or_1d(y, warn=True)\n"
     ]
    },
    {
     "name": "stdout",
     "output_type": "stream",
     "text": [
      "Training until validation scores don't improve for 100 rounds.\n",
      "[100]\tvalid's auc: 0.74585\n",
      "[200]\tvalid's auc: 0.771871\n",
      "[300]\tvalid's auc: 0.785506\n",
      "[400]\tvalid's auc: 0.793952\n",
      "[500]\tvalid's auc: 0.798479\n",
      "[600]\tvalid's auc: 0.802139\n",
      "[700]\tvalid's auc: 0.805246\n",
      "[800]\tvalid's auc: 0.807356\n",
      "[900]\tvalid's auc: 0.808456\n",
      "[1000]\tvalid's auc: 0.809342\n",
      "[1100]\tvalid's auc: 0.809546\n",
      "[1200]\tvalid's auc: 0.810582\n",
      "Early stopping, best iteration is:\n",
      "[1181]\tvalid's auc: 0.810677\n"
     ]
    },
    {
     "name": "stderr",
     "output_type": "stream",
     "text": [
      "/home/wopr/.local/lib/python3.6/site-packages/sklearn/preprocessing/label.py:219: DataConversionWarning: A column-vector y was passed when a 1d array was expected. Please change the shape of y to (n_samples, ), for example using ravel().\n",
      "  y = column_or_1d(y, warn=True)\n",
      "/home/wopr/.local/lib/python3.6/site-packages/sklearn/preprocessing/label.py:252: DataConversionWarning: A column-vector y was passed when a 1d array was expected. Please change the shape of y to (n_samples, ), for example using ravel().\n",
      "  y = column_or_1d(y, warn=True)\n"
     ]
    },
    {
     "name": "stdout",
     "output_type": "stream",
     "text": [
      "Training until validation scores don't improve for 100 rounds.\n",
      "[100]\tvalid's auc: 0.763441\n",
      "[200]\tvalid's auc: 0.787808\n",
      "[300]\tvalid's auc: 0.795691\n",
      "[400]\tvalid's auc: 0.800046\n",
      "[500]\tvalid's auc: 0.803988\n",
      "[600]\tvalid's auc: 0.805188\n",
      "[700]\tvalid's auc: 0.807269\n",
      "[800]\tvalid's auc: 0.808805\n",
      "[900]\tvalid's auc: 0.809859\n",
      "[1000]\tvalid's auc: 0.810623\n",
      "[1100]\tvalid's auc: 0.811231\n",
      "[1200]\tvalid's auc: 0.812058\n",
      "[1300]\tvalid's auc: 0.81268\n",
      "[1400]\tvalid's auc: 0.813158\n",
      "[1500]\tvalid's auc: 0.813553\n",
      "[1600]\tvalid's auc: 0.814376\n",
      "[1700]\tvalid's auc: 0.815156\n",
      "[1800]\tvalid's auc: 0.815569\n",
      "Early stopping, best iteration is:\n",
      "[1782]\tvalid's auc: 0.815569\n"
     ]
    },
    {
     "name": "stderr",
     "output_type": "stream",
     "text": [
      "/home/wopr/.local/lib/python3.6/site-packages/sklearn/preprocessing/label.py:219: DataConversionWarning: A column-vector y was passed when a 1d array was expected. Please change the shape of y to (n_samples, ), for example using ravel().\n",
      "  y = column_or_1d(y, warn=True)\n",
      "/home/wopr/.local/lib/python3.6/site-packages/sklearn/preprocessing/label.py:252: DataConversionWarning: A column-vector y was passed when a 1d array was expected. Please change the shape of y to (n_samples, ), for example using ravel().\n",
      "  y = column_or_1d(y, warn=True)\n"
     ]
    },
    {
     "name": "stdout",
     "output_type": "stream",
     "text": [
      "Training until validation scores don't improve for 100 rounds.\n",
      "[100]\tvalid's auc: 0.76373\n",
      "[200]\tvalid's auc: 0.784353\n",
      "[300]\tvalid's auc: 0.793818\n",
      "[400]\tvalid's auc: 0.798696\n",
      "[500]\tvalid's auc: 0.801715\n",
      "[600]\tvalid's auc: 0.80271\n",
      "[700]\tvalid's auc: 0.804567\n",
      "[800]\tvalid's auc: 0.805538\n",
      "[900]\tvalid's auc: 0.807392\n",
      "[1000]\tvalid's auc: 0.808278\n",
      "[1100]\tvalid's auc: 0.80936\n",
      "[1200]\tvalid's auc: 0.810082\n",
      "[1300]\tvalid's auc: 0.810805\n",
      "[1400]\tvalid's auc: 0.811302\n",
      "[1500]\tvalid's auc: 0.812028\n",
      "[1600]\tvalid's auc: 0.81237\n",
      "[1700]\tvalid's auc: 0.812975\n",
      "[1800]\tvalid's auc: 0.813324\n",
      "Early stopping, best iteration is:\n",
      "[1744]\tvalid's auc: 0.81334\n"
     ]
    },
    {
     "name": "stderr",
     "output_type": "stream",
     "text": [
      "/home/wopr/.local/lib/python3.6/site-packages/sklearn/preprocessing/label.py:219: DataConversionWarning: A column-vector y was passed when a 1d array was expected. Please change the shape of y to (n_samples, ), for example using ravel().\n",
      "  y = column_or_1d(y, warn=True)\n",
      "/home/wopr/.local/lib/python3.6/site-packages/sklearn/preprocessing/label.py:252: DataConversionWarning: A column-vector y was passed when a 1d array was expected. Please change the shape of y to (n_samples, ), for example using ravel().\n",
      "  y = column_or_1d(y, warn=True)\n"
     ]
    },
    {
     "name": "stdout",
     "output_type": "stream",
     "text": [
      "Training until validation scores don't improve for 100 rounds.\n",
      "[100]\tvalid's auc: 0.762463\n",
      "[200]\tvalid's auc: 0.784144\n",
      "[300]\tvalid's auc: 0.792731\n",
      "[400]\tvalid's auc: 0.797913\n",
      "[500]\tvalid's auc: 0.800211\n",
      "[600]\tvalid's auc: 0.802921\n",
      "[700]\tvalid's auc: 0.804846\n",
      "[800]\tvalid's auc: 0.806503\n",
      "[900]\tvalid's auc: 0.807353\n",
      "[1000]\tvalid's auc: 0.808564\n",
      "[1100]\tvalid's auc: 0.80867\n",
      "[1200]\tvalid's auc: 0.809516\n",
      "[1300]\tvalid's auc: 0.810207\n",
      "[1400]\tvalid's auc: 0.811113\n",
      "[1500]\tvalid's auc: 0.811501\n",
      "[1600]\tvalid's auc: 0.812325\n",
      "[1700]\tvalid's auc: 0.812908\n",
      "[1800]\tvalid's auc: 0.813175\n",
      "[1900]\tvalid's auc: 0.813247\n",
      "Early stopping, best iteration is:\n",
      "[1808]\tvalid's auc: 0.813247\n"
     ]
    },
    {
     "name": "stderr",
     "output_type": "stream",
     "text": [
      "/home/wopr/.local/lib/python3.6/site-packages/sklearn/preprocessing/label.py:219: DataConversionWarning: A column-vector y was passed when a 1d array was expected. Please change the shape of y to (n_samples, ), for example using ravel().\n",
      "  y = column_or_1d(y, warn=True)\n",
      "/home/wopr/.local/lib/python3.6/site-packages/sklearn/preprocessing/label.py:252: DataConversionWarning: A column-vector y was passed when a 1d array was expected. Please change the shape of y to (n_samples, ), for example using ravel().\n",
      "  y = column_or_1d(y, warn=True)\n"
     ]
    },
    {
     "name": "stdout",
     "output_type": "stream",
     "text": [
      "Training until validation scores don't improve for 100 rounds.\n",
      "[100]\tvalid's auc: 0.757041\n",
      "[200]\tvalid's auc: 0.781661\n",
      "[300]\tvalid's auc: 0.792329\n",
      "[400]\tvalid's auc: 0.798448\n",
      "[500]\tvalid's auc: 0.802296\n",
      "[600]\tvalid's auc: 0.804933\n",
      "[700]\tvalid's auc: 0.806909\n",
      "[800]\tvalid's auc: 0.808034\n",
      "[900]\tvalid's auc: 0.808846\n",
      "[1000]\tvalid's auc: 0.809313\n",
      "[1100]\tvalid's auc: 0.810815\n",
      "[1200]\tvalid's auc: 0.811236\n",
      "Early stopping, best iteration is:\n",
      "[1137]\tvalid's auc: 0.811255\n"
     ]
    },
    {
     "name": "stderr",
     "output_type": "stream",
     "text": [
      "/home/wopr/.local/lib/python3.6/site-packages/sklearn/preprocessing/label.py:219: DataConversionWarning: A column-vector y was passed when a 1d array was expected. Please change the shape of y to (n_samples, ), for example using ravel().\n",
      "  y = column_or_1d(y, warn=True)\n",
      "/home/wopr/.local/lib/python3.6/site-packages/sklearn/preprocessing/label.py:252: DataConversionWarning: A column-vector y was passed when a 1d array was expected. Please change the shape of y to (n_samples, ), for example using ravel().\n",
      "  y = column_or_1d(y, warn=True)\n"
     ]
    },
    {
     "name": "stdout",
     "output_type": "stream",
     "text": [
      "Training until validation scores don't improve for 100 rounds.\n",
      "[100]\tvalid's auc: 0.753723\n",
      "[200]\tvalid's auc: 0.780003\n",
      "[300]\tvalid's auc: 0.790896\n",
      "[400]\tvalid's auc: 0.798125\n",
      "[500]\tvalid's auc: 0.802256\n",
      "[600]\tvalid's auc: 0.804692\n",
      "[700]\tvalid's auc: 0.806232\n",
      "[800]\tvalid's auc: 0.807355\n",
      "[900]\tvalid's auc: 0.807475\n",
      "[1000]\tvalid's auc: 0.807914\n",
      "Early stopping, best iteration is:\n",
      "[980]\tvalid's auc: 0.808111\n"
     ]
    },
    {
     "name": "stderr",
     "output_type": "stream",
     "text": [
      "/home/wopr/.local/lib/python3.6/site-packages/sklearn/preprocessing/label.py:219: DataConversionWarning: A column-vector y was passed when a 1d array was expected. Please change the shape of y to (n_samples, ), for example using ravel().\n",
      "  y = column_or_1d(y, warn=True)\n",
      "/home/wopr/.local/lib/python3.6/site-packages/sklearn/preprocessing/label.py:252: DataConversionWarning: A column-vector y was passed when a 1d array was expected. Please change the shape of y to (n_samples, ), for example using ravel().\n",
      "  y = column_or_1d(y, warn=True)\n"
     ]
    },
    {
     "name": "stdout",
     "output_type": "stream",
     "text": [
      "Training until validation scores don't improve for 100 rounds.\n",
      "[100]\tvalid's auc: 0.751783\n",
      "[200]\tvalid's auc: 0.776472\n",
      "[300]\tvalid's auc: 0.789175\n",
      "[400]\tvalid's auc: 0.795101\n",
      "[500]\tvalid's auc: 0.798836\n",
      "[600]\tvalid's auc: 0.802174\n",
      "[700]\tvalid's auc: 0.804265\n",
      "[800]\tvalid's auc: 0.806223\n",
      "[900]\tvalid's auc: 0.807395\n",
      "[1000]\tvalid's auc: 0.808207\n",
      "[1100]\tvalid's auc: 0.80893\n",
      "[1200]\tvalid's auc: 0.80996\n",
      "[1300]\tvalid's auc: 0.809962\n",
      "Early stopping, best iteration is:\n",
      "[1204]\tvalid's auc: 0.809962\n"
     ]
    },
    {
     "name": "stderr",
     "output_type": "stream",
     "text": [
      "/home/wopr/.local/lib/python3.6/site-packages/sklearn/preprocessing/label.py:219: DataConversionWarning: A column-vector y was passed when a 1d array was expected. Please change the shape of y to (n_samples, ), for example using ravel().\n",
      "  y = column_or_1d(y, warn=True)\n",
      "/home/wopr/.local/lib/python3.6/site-packages/sklearn/preprocessing/label.py:252: DataConversionWarning: A column-vector y was passed when a 1d array was expected. Please change the shape of y to (n_samples, ), for example using ravel().\n",
      "  y = column_or_1d(y, warn=True)\n"
     ]
    },
    {
     "name": "stdout",
     "output_type": "stream",
     "text": [
      "Training until validation scores don't improve for 100 rounds.\n",
      "[100]\tvalid's auc: 0.753995\n",
      "[200]\tvalid's auc: 0.780002\n",
      "[300]\tvalid's auc: 0.791611\n",
      "[400]\tvalid's auc: 0.799355\n",
      "[500]\tvalid's auc: 0.804028\n",
      "[600]\tvalid's auc: 0.806628\n",
      "[700]\tvalid's auc: 0.809194\n",
      "[800]\tvalid's auc: 0.810786\n",
      "[900]\tvalid's auc: 0.812064\n",
      "[1000]\tvalid's auc: 0.812962\n",
      "[1100]\tvalid's auc: 0.813624\n",
      "Early stopping, best iteration is:\n",
      "[1074]\tvalid's auc: 0.813688\n"
     ]
    },
    {
     "name": "stderr",
     "output_type": "stream",
     "text": [
      "/home/wopr/.local/lib/python3.6/site-packages/sklearn/preprocessing/label.py:219: DataConversionWarning: A column-vector y was passed when a 1d array was expected. Please change the shape of y to (n_samples, ), for example using ravel().\n",
      "  y = column_or_1d(y, warn=True)\n",
      "/home/wopr/.local/lib/python3.6/site-packages/sklearn/preprocessing/label.py:252: DataConversionWarning: A column-vector y was passed when a 1d array was expected. Please change the shape of y to (n_samples, ), for example using ravel().\n",
      "  y = column_or_1d(y, warn=True)\n"
     ]
    },
    {
     "name": "stdout",
     "output_type": "stream",
     "text": [
      "Training until validation scores don't improve for 100 rounds.\n",
      "[100]\tvalid's auc: 0.752721\n",
      "[200]\tvalid's auc: 0.776981\n",
      "[300]\tvalid's auc: 0.789975\n",
      "[400]\tvalid's auc: 0.796768\n",
      "[500]\tvalid's auc: 0.801566\n",
      "[600]\tvalid's auc: 0.805192\n",
      "[700]\tvalid's auc: 0.807487\n",
      "[800]\tvalid's auc: 0.808566\n",
      "[900]\tvalid's auc: 0.809515\n",
      "[1000]\tvalid's auc: 0.810522\n",
      "[1100]\tvalid's auc: 0.811242\n",
      "[1200]\tvalid's auc: 0.811499\n",
      "Early stopping, best iteration is:\n",
      "[1165]\tvalid's auc: 0.811519\n"
     ]
    },
    {
     "name": "stderr",
     "output_type": "stream",
     "text": [
      "/home/wopr/.local/lib/python3.6/site-packages/sklearn/preprocessing/label.py:219: DataConversionWarning: A column-vector y was passed when a 1d array was expected. Please change the shape of y to (n_samples, ), for example using ravel().\n",
      "  y = column_or_1d(y, warn=True)\n",
      "/home/wopr/.local/lib/python3.6/site-packages/sklearn/preprocessing/label.py:252: DataConversionWarning: A column-vector y was passed when a 1d array was expected. Please change the shape of y to (n_samples, ), for example using ravel().\n",
      "  y = column_or_1d(y, warn=True)\n"
     ]
    },
    {
     "name": "stdout",
     "output_type": "stream",
     "text": [
      "Training until validation scores don't improve for 100 rounds.\n",
      "[100]\tvalid's auc: 0.755795\n",
      "[200]\tvalid's auc: 0.780616\n",
      "[300]\tvalid's auc: 0.791545\n",
      "[400]\tvalid's auc: 0.797724\n",
      "[500]\tvalid's auc: 0.801418\n",
      "[600]\tvalid's auc: 0.804724\n",
      "[700]\tvalid's auc: 0.807083\n",
      "[800]\tvalid's auc: 0.808296\n",
      "[900]\tvalid's auc: 0.809284\n",
      "[1000]\tvalid's auc: 0.810281\n",
      "[1100]\tvalid's auc: 0.811009\n",
      "[1200]\tvalid's auc: 0.811374\n",
      "Early stopping, best iteration is:\n",
      "[1173]\tvalid's auc: 0.811374\n"
     ]
    },
    {
     "name": "stderr",
     "output_type": "stream",
     "text": [
      "/home/wopr/.local/lib/python3.6/site-packages/sklearn/preprocessing/label.py:219: DataConversionWarning: A column-vector y was passed when a 1d array was expected. Please change the shape of y to (n_samples, ), for example using ravel().\n",
      "  y = column_or_1d(y, warn=True)\n",
      "/home/wopr/.local/lib/python3.6/site-packages/sklearn/preprocessing/label.py:252: DataConversionWarning: A column-vector y was passed when a 1d array was expected. Please change the shape of y to (n_samples, ), for example using ravel().\n",
      "  y = column_or_1d(y, warn=True)\n"
     ]
    },
    {
     "name": "stdout",
     "output_type": "stream",
     "text": [
      "Training until validation scores don't improve for 100 rounds.\n",
      "[100]\tvalid's auc: 0.761012\n",
      "[200]\tvalid's auc: 0.785884\n",
      "[300]\tvalid's auc: 0.797213\n",
      "[400]\tvalid's auc: 0.803422\n",
      "[500]\tvalid's auc: 0.806294\n",
      "[600]\tvalid's auc: 0.808454\n",
      "[700]\tvalid's auc: 0.809341\n",
      "[800]\tvalid's auc: 0.81005\n",
      "[900]\tvalid's auc: 0.810495\n",
      "[1000]\tvalid's auc: 0.811575\n",
      "[1100]\tvalid's auc: 0.811821\n",
      "[1200]\tvalid's auc: 0.812714\n",
      "[1300]\tvalid's auc: 0.813486\n",
      "[1400]\tvalid's auc: 0.814035\n",
      "[1500]\tvalid's auc: 0.814527\n",
      "[1600]\tvalid's auc: 0.814746\n",
      "[1700]\tvalid's auc: 0.815245\n",
      "[1800]\tvalid's auc: 0.815231\n",
      "Early stopping, best iteration is:\n",
      "[1708]\tvalid's auc: 0.815354\n"
     ]
    },
    {
     "name": "stderr",
     "output_type": "stream",
     "text": [
      "/home/wopr/.local/lib/python3.6/site-packages/sklearn/preprocessing/label.py:219: DataConversionWarning: A column-vector y was passed when a 1d array was expected. Please change the shape of y to (n_samples, ), for example using ravel().\n",
      "  y = column_or_1d(y, warn=True)\n",
      "/home/wopr/.local/lib/python3.6/site-packages/sklearn/preprocessing/label.py:252: DataConversionWarning: A column-vector y was passed when a 1d array was expected. Please change the shape of y to (n_samples, ), for example using ravel().\n",
      "  y = column_or_1d(y, warn=True)\n"
     ]
    },
    {
     "name": "stdout",
     "output_type": "stream",
     "text": [
      "Training until validation scores don't improve for 100 rounds.\n",
      "[100]\tvalid's auc: 0.759961\n",
      "[200]\tvalid's auc: 0.782199\n",
      "[300]\tvalid's auc: 0.793757\n",
      "[400]\tvalid's auc: 0.799352\n",
      "[500]\tvalid's auc: 0.803096\n",
      "[600]\tvalid's auc: 0.804856\n",
      "[700]\tvalid's auc: 0.806595\n",
      "[800]\tvalid's auc: 0.808218\n",
      "[900]\tvalid's auc: 0.807762\n",
      "Early stopping, best iteration is:\n",
      "[813]\tvalid's auc: 0.808521\n"
     ]
    },
    {
     "name": "stderr",
     "output_type": "stream",
     "text": [
      "/home/wopr/.local/lib/python3.6/site-packages/sklearn/preprocessing/label.py:219: DataConversionWarning: A column-vector y was passed when a 1d array was expected. Please change the shape of y to (n_samples, ), for example using ravel().\n",
      "  y = column_or_1d(y, warn=True)\n",
      "/home/wopr/.local/lib/python3.6/site-packages/sklearn/preprocessing/label.py:252: DataConversionWarning: A column-vector y was passed when a 1d array was expected. Please change the shape of y to (n_samples, ), for example using ravel().\n",
      "  y = column_or_1d(y, warn=True)\n"
     ]
    },
    {
     "name": "stdout",
     "output_type": "stream",
     "text": [
      "Training until validation scores don't improve for 100 rounds.\n",
      "[100]\tvalid's auc: 0.753856\n",
      "[200]\tvalid's auc: 0.781224\n",
      "[300]\tvalid's auc: 0.793603\n",
      "[400]\tvalid's auc: 0.799043\n",
      "[500]\tvalid's auc: 0.80243\n",
      "[600]\tvalid's auc: 0.804574\n",
      "[700]\tvalid's auc: 0.806272\n",
      "[800]\tvalid's auc: 0.807436\n",
      "[900]\tvalid's auc: 0.808472\n",
      "[1000]\tvalid's auc: 0.809314\n",
      "[1100]\tvalid's auc: 0.810073\n",
      "[1200]\tvalid's auc: 0.810489\n",
      "[1300]\tvalid's auc: 0.810816\n",
      "[1400]\tvalid's auc: 0.811525\n",
      "[1500]\tvalid's auc: 0.81162\n",
      "[1600]\tvalid's auc: 0.812066\n",
      "[1700]\tvalid's auc: 0.812303\n",
      "[1800]\tvalid's auc: 0.812922\n",
      "[1900]\tvalid's auc: 0.813559\n",
      "[2000]\tvalid's auc: 0.813634\n",
      "[2100]\tvalid's auc: 0.813819\n",
      "[2200]\tvalid's auc: 0.813877\n",
      "Early stopping, best iteration is:\n",
      "[2140]\tvalid's auc: 0.813912\n"
     ]
    },
    {
     "name": "stderr",
     "output_type": "stream",
     "text": [
      "/home/wopr/.local/lib/python3.6/site-packages/sklearn/preprocessing/label.py:219: DataConversionWarning: A column-vector y was passed when a 1d array was expected. Please change the shape of y to (n_samples, ), for example using ravel().\n",
      "  y = column_or_1d(y, warn=True)\n",
      "/home/wopr/.local/lib/python3.6/site-packages/sklearn/preprocessing/label.py:252: DataConversionWarning: A column-vector y was passed when a 1d array was expected. Please change the shape of y to (n_samples, ), for example using ravel().\n",
      "  y = column_or_1d(y, warn=True)\n"
     ]
    },
    {
     "name": "stdout",
     "output_type": "stream",
     "text": [
      "Training until validation scores don't improve for 100 rounds.\n",
      "[100]\tvalid's auc: 0.734561\n",
      "[200]\tvalid's auc: 0.763325\n",
      "[300]\tvalid's auc: 0.778174\n",
      "[400]\tvalid's auc: 0.787247\n",
      "[500]\tvalid's auc: 0.793369\n",
      "[600]\tvalid's auc: 0.797925\n",
      "[700]\tvalid's auc: 0.801955\n",
      "[800]\tvalid's auc: 0.804745\n",
      "[900]\tvalid's auc: 0.806953\n",
      "[1000]\tvalid's auc: 0.809211\n",
      "[1100]\tvalid's auc: 0.810162\n",
      "[1200]\tvalid's auc: 0.811451\n",
      "[1300]\tvalid's auc: 0.812787\n",
      "[1400]\tvalid's auc: 0.813214\n",
      "[1500]\tvalid's auc: 0.813695\n",
      "[1600]\tvalid's auc: 0.814417\n",
      "[1700]\tvalid's auc: 0.814995\n",
      "[1800]\tvalid's auc: 0.815256\n",
      "[1900]\tvalid's auc: 0.815873\n",
      "[2000]\tvalid's auc: 0.816299\n",
      "[2100]\tvalid's auc: 0.816842\n",
      "[2200]\tvalid's auc: 0.817054\n",
      "Early stopping, best iteration is:\n",
      "[2168]\tvalid's auc: 0.817205\n"
     ]
    },
    {
     "name": "stderr",
     "output_type": "stream",
     "text": [
      "/home/wopr/.local/lib/python3.6/site-packages/sklearn/preprocessing/label.py:219: DataConversionWarning: A column-vector y was passed when a 1d array was expected. Please change the shape of y to (n_samples, ), for example using ravel().\n",
      "  y = column_or_1d(y, warn=True)\n",
      "/home/wopr/.local/lib/python3.6/site-packages/sklearn/preprocessing/label.py:252: DataConversionWarning: A column-vector y was passed when a 1d array was expected. Please change the shape of y to (n_samples, ), for example using ravel().\n",
      "  y = column_or_1d(y, warn=True)\n"
     ]
    },
    {
     "name": "stdout",
     "output_type": "stream",
     "text": [
      "Training until validation scores don't improve for 100 rounds.\n",
      "[100]\tvalid's auc: 0.733739\n",
      "[200]\tvalid's auc: 0.760718\n",
      "[300]\tvalid's auc: 0.774182\n",
      "[400]\tvalid's auc: 0.783211\n",
      "[500]\tvalid's auc: 0.789171\n",
      "[600]\tvalid's auc: 0.794382\n",
      "[700]\tvalid's auc: 0.798073\n",
      "[800]\tvalid's auc: 0.802028\n",
      "[900]\tvalid's auc: 0.804172\n",
      "[1000]\tvalid's auc: 0.805666\n",
      "[1100]\tvalid's auc: 0.807032\n",
      "[1200]\tvalid's auc: 0.808267\n",
      "[1300]\tvalid's auc: 0.809502\n",
      "[1400]\tvalid's auc: 0.810482\n",
      "[1500]\tvalid's auc: 0.811319\n",
      "[1600]\tvalid's auc: 0.812223\n",
      "[1700]\tvalid's auc: 0.812601\n",
      "[1800]\tvalid's auc: 0.812993\n",
      "[1900]\tvalid's auc: 0.81342\n",
      "[2000]\tvalid's auc: 0.8141\n",
      "[2100]\tvalid's auc: 0.814237\n",
      "[2200]\tvalid's auc: 0.814343\n",
      "[2300]\tvalid's auc: 0.814779\n",
      "[2400]\tvalid's auc: 0.815181\n",
      "[2500]\tvalid's auc: 0.815066\n",
      "Early stopping, best iteration is:\n",
      "[2400]\tvalid's auc: 0.815181\n"
     ]
    },
    {
     "name": "stderr",
     "output_type": "stream",
     "text": [
      "/home/wopr/.local/lib/python3.6/site-packages/sklearn/preprocessing/label.py:219: DataConversionWarning: A column-vector y was passed when a 1d array was expected. Please change the shape of y to (n_samples, ), for example using ravel().\n",
      "  y = column_or_1d(y, warn=True)\n",
      "/home/wopr/.local/lib/python3.6/site-packages/sklearn/preprocessing/label.py:252: DataConversionWarning: A column-vector y was passed when a 1d array was expected. Please change the shape of y to (n_samples, ), for example using ravel().\n",
      "  y = column_or_1d(y, warn=True)\n"
     ]
    },
    {
     "name": "stdout",
     "output_type": "stream",
     "text": [
      "Training until validation scores don't improve for 100 rounds.\n",
      "[100]\tvalid's auc: 0.733343\n",
      "[200]\tvalid's auc: 0.760872\n",
      "[300]\tvalid's auc: 0.775337\n",
      "[400]\tvalid's auc: 0.785435\n",
      "[500]\tvalid's auc: 0.791292\n",
      "[600]\tvalid's auc: 0.796135\n",
      "[700]\tvalid's auc: 0.799851\n",
      "[800]\tvalid's auc: 0.802823\n",
      "[900]\tvalid's auc: 0.80587\n",
      "[1000]\tvalid's auc: 0.807333\n",
      "[1100]\tvalid's auc: 0.80906\n",
      "[1200]\tvalid's auc: 0.810378\n",
      "[1300]\tvalid's auc: 0.811369\n",
      "[1400]\tvalid's auc: 0.812401\n",
      "[1500]\tvalid's auc: 0.813558\n",
      "[1600]\tvalid's auc: 0.814251\n",
      "[1700]\tvalid's auc: 0.814809\n",
      "[1800]\tvalid's auc: 0.815295\n",
      "[1900]\tvalid's auc: 0.815817\n",
      "[2000]\tvalid's auc: 0.815871\n",
      "[2100]\tvalid's auc: 0.816228\n",
      "[2200]\tvalid's auc: 0.816449\n",
      "[2300]\tvalid's auc: 0.816595\n",
      "Early stopping, best iteration is:\n",
      "[2258]\tvalid's auc: 0.816769\n"
     ]
    },
    {
     "name": "stderr",
     "output_type": "stream",
     "text": [
      "/home/wopr/.local/lib/python3.6/site-packages/sklearn/preprocessing/label.py:219: DataConversionWarning: A column-vector y was passed when a 1d array was expected. Please change the shape of y to (n_samples, ), for example using ravel().\n",
      "  y = column_or_1d(y, warn=True)\n",
      "/home/wopr/.local/lib/python3.6/site-packages/sklearn/preprocessing/label.py:252: DataConversionWarning: A column-vector y was passed when a 1d array was expected. Please change the shape of y to (n_samples, ), for example using ravel().\n",
      "  y = column_or_1d(y, warn=True)\n"
     ]
    },
    {
     "name": "stdout",
     "output_type": "stream",
     "text": [
      "Training until validation scores don't improve for 100 rounds.\n",
      "[100]\tvalid's auc: 0.5\n",
      "Early stopping, best iteration is:\n",
      "[1]\tvalid's auc: 0.5\n"
     ]
    },
    {
     "name": "stderr",
     "output_type": "stream",
     "text": [
      "/home/wopr/.local/lib/python3.6/site-packages/sklearn/preprocessing/label.py:219: DataConversionWarning: A column-vector y was passed when a 1d array was expected. Please change the shape of y to (n_samples, ), for example using ravel().\n",
      "  y = column_or_1d(y, warn=True)\n",
      "/home/wopr/.local/lib/python3.6/site-packages/sklearn/preprocessing/label.py:252: DataConversionWarning: A column-vector y was passed when a 1d array was expected. Please change the shape of y to (n_samples, ), for example using ravel().\n",
      "  y = column_or_1d(y, warn=True)\n"
     ]
    },
    {
     "name": "stdout",
     "output_type": "stream",
     "text": [
      "Training until validation scores don't improve for 100 rounds.\n",
      "[100]\tvalid's auc: 0.5\n",
      "Early stopping, best iteration is:\n",
      "[1]\tvalid's auc: 0.5\n"
     ]
    },
    {
     "name": "stderr",
     "output_type": "stream",
     "text": [
      "/home/wopr/.local/lib/python3.6/site-packages/sklearn/preprocessing/label.py:219: DataConversionWarning: A column-vector y was passed when a 1d array was expected. Please change the shape of y to (n_samples, ), for example using ravel().\n",
      "  y = column_or_1d(y, warn=True)\n",
      "/home/wopr/.local/lib/python3.6/site-packages/sklearn/preprocessing/label.py:252: DataConversionWarning: A column-vector y was passed when a 1d array was expected. Please change the shape of y to (n_samples, ), for example using ravel().\n",
      "  y = column_or_1d(y, warn=True)\n"
     ]
    },
    {
     "name": "stdout",
     "output_type": "stream",
     "text": [
      "Training until validation scores don't improve for 100 rounds.\n",
      "[100]\tvalid's auc: 0.5\n",
      "Early stopping, best iteration is:\n",
      "[1]\tvalid's auc: 0.5\n"
     ]
    },
    {
     "name": "stderr",
     "output_type": "stream",
     "text": [
      "/home/wopr/.local/lib/python3.6/site-packages/sklearn/preprocessing/label.py:219: DataConversionWarning: A column-vector y was passed when a 1d array was expected. Please change the shape of y to (n_samples, ), for example using ravel().\n",
      "  y = column_or_1d(y, warn=True)\n",
      "/home/wopr/.local/lib/python3.6/site-packages/sklearn/preprocessing/label.py:252: DataConversionWarning: A column-vector y was passed when a 1d array was expected. Please change the shape of y to (n_samples, ), for example using ravel().\n",
      "  y = column_or_1d(y, warn=True)\n"
     ]
    },
    {
     "name": "stdout",
     "output_type": "stream",
     "text": [
      "Training until validation scores don't improve for 100 rounds.\n",
      "[100]\tvalid's auc: 0.729345\n",
      "[200]\tvalid's auc: 0.759922\n",
      "[300]\tvalid's auc: 0.774391\n",
      "[400]\tvalid's auc: 0.784482\n",
      "[500]\tvalid's auc: 0.791102\n",
      "[600]\tvalid's auc: 0.796039\n",
      "[700]\tvalid's auc: 0.800076\n",
      "[800]\tvalid's auc: 0.802906\n",
      "[900]\tvalid's auc: 0.805335\n",
      "[1000]\tvalid's auc: 0.807495\n",
      "[1100]\tvalid's auc: 0.809515\n",
      "[1200]\tvalid's auc: 0.811238\n",
      "[1300]\tvalid's auc: 0.812232\n",
      "[1400]\tvalid's auc: 0.813145\n",
      "[1500]\tvalid's auc: 0.81434\n",
      "[1600]\tvalid's auc: 0.815021\n",
      "[1700]\tvalid's auc: 0.815818\n",
      "[1800]\tvalid's auc: 0.816442\n",
      "[1900]\tvalid's auc: 0.816786\n",
      "[2000]\tvalid's auc: 0.817411\n",
      "[2100]\tvalid's auc: 0.817738\n",
      "[2200]\tvalid's auc: 0.817902\n",
      "[2300]\tvalid's auc: 0.818288\n",
      "[2400]\tvalid's auc: 0.818505\n",
      "[2500]\tvalid's auc: 0.818773\n",
      "[2600]\tvalid's auc: 0.818776\n",
      "Early stopping, best iteration is:\n",
      "[2535]\tvalid's auc: 0.818892\n"
     ]
    },
    {
     "name": "stderr",
     "output_type": "stream",
     "text": [
      "/home/wopr/.local/lib/python3.6/site-packages/sklearn/preprocessing/label.py:219: DataConversionWarning: A column-vector y was passed when a 1d array was expected. Please change the shape of y to (n_samples, ), for example using ravel().\n",
      "  y = column_or_1d(y, warn=True)\n",
      "/home/wopr/.local/lib/python3.6/site-packages/sklearn/preprocessing/label.py:252: DataConversionWarning: A column-vector y was passed when a 1d array was expected. Please change the shape of y to (n_samples, ), for example using ravel().\n",
      "  y = column_or_1d(y, warn=True)\n"
     ]
    },
    {
     "name": "stdout",
     "output_type": "stream",
     "text": [
      "Training until validation scores don't improve for 100 rounds.\n",
      "[100]\tvalid's auc: 0.732722\n",
      "[200]\tvalid's auc: 0.759985\n",
      "[300]\tvalid's auc: 0.773585\n",
      "[400]\tvalid's auc: 0.783268\n",
      "[500]\tvalid's auc: 0.789758\n",
      "[600]\tvalid's auc: 0.795044\n",
      "[700]\tvalid's auc: 0.799461\n",
      "[800]\tvalid's auc: 0.802043\n",
      "[900]\tvalid's auc: 0.804422\n",
      "[1000]\tvalid's auc: 0.806059\n",
      "[1100]\tvalid's auc: 0.807745\n",
      "[1200]\tvalid's auc: 0.809346\n",
      "[1300]\tvalid's auc: 0.81039\n",
      "[1400]\tvalid's auc: 0.811666\n",
      "[1500]\tvalid's auc: 0.812543\n",
      "[1600]\tvalid's auc: 0.813326\n",
      "[1700]\tvalid's auc: 0.814151\n",
      "[1800]\tvalid's auc: 0.814935\n",
      "[1900]\tvalid's auc: 0.815363\n",
      "[2000]\tvalid's auc: 0.815607\n",
      "[2100]\tvalid's auc: 0.815918\n",
      "[2200]\tvalid's auc: 0.816173\n",
      "Early stopping, best iteration is:\n",
      "[2163]\tvalid's auc: 0.816278\n"
     ]
    },
    {
     "name": "stderr",
     "output_type": "stream",
     "text": [
      "/home/wopr/.local/lib/python3.6/site-packages/sklearn/preprocessing/label.py:219: DataConversionWarning: A column-vector y was passed when a 1d array was expected. Please change the shape of y to (n_samples, ), for example using ravel().\n",
      "  y = column_or_1d(y, warn=True)\n",
      "/home/wopr/.local/lib/python3.6/site-packages/sklearn/preprocessing/label.py:252: DataConversionWarning: A column-vector y was passed when a 1d array was expected. Please change the shape of y to (n_samples, ), for example using ravel().\n",
      "  y = column_or_1d(y, warn=True)\n"
     ]
    },
    {
     "name": "stdout",
     "output_type": "stream",
     "text": [
      "Training until validation scores don't improve for 100 rounds.\n",
      "[100]\tvalid's auc: 0.730073\n",
      "[200]\tvalid's auc: 0.757935\n",
      "[300]\tvalid's auc: 0.773466\n",
      "[400]\tvalid's auc: 0.781804\n",
      "[500]\tvalid's auc: 0.788107\n",
      "[600]\tvalid's auc: 0.794257\n",
      "[700]\tvalid's auc: 0.798647\n",
      "[800]\tvalid's auc: 0.80119\n",
      "[900]\tvalid's auc: 0.803954\n",
      "[1000]\tvalid's auc: 0.805838\n",
      "[1100]\tvalid's auc: 0.807495\n",
      "[1200]\tvalid's auc: 0.80844\n",
      "[1300]\tvalid's auc: 0.809956\n",
      "[1400]\tvalid's auc: 0.810897\n",
      "[1500]\tvalid's auc: 0.811487\n",
      "[1600]\tvalid's auc: 0.812628\n",
      "[1700]\tvalid's auc: 0.813437\n",
      "[1800]\tvalid's auc: 0.814062\n",
      "[1900]\tvalid's auc: 0.814332\n",
      "[2000]\tvalid's auc: 0.814836\n",
      "[2100]\tvalid's auc: 0.815195\n",
      "[2200]\tvalid's auc: 0.815244\n",
      "[2300]\tvalid's auc: 0.815654\n",
      "[2400]\tvalid's auc: 0.815952\n",
      "[2500]\tvalid's auc: 0.816259\n",
      "[2600]\tvalid's auc: 0.816241\n",
      "Early stopping, best iteration is:\n",
      "[2512]\tvalid's auc: 0.816342\n"
     ]
    },
    {
     "name": "stderr",
     "output_type": "stream",
     "text": [
      "/home/wopr/.local/lib/python3.6/site-packages/sklearn/preprocessing/label.py:219: DataConversionWarning: A column-vector y was passed when a 1d array was expected. Please change the shape of y to (n_samples, ), for example using ravel().\n",
      "  y = column_or_1d(y, warn=True)\n",
      "/home/wopr/.local/lib/python3.6/site-packages/sklearn/preprocessing/label.py:252: DataConversionWarning: A column-vector y was passed when a 1d array was expected. Please change the shape of y to (n_samples, ), for example using ravel().\n",
      "  y = column_or_1d(y, warn=True)\n"
     ]
    },
    {
     "name": "stdout",
     "output_type": "stream",
     "text": [
      "Training until validation scores don't improve for 100 rounds.\n",
      "[100]\tvalid's auc: 0.744025\n",
      "[200]\tvalid's auc: 0.772373\n",
      "[300]\tvalid's auc: 0.787314\n",
      "[400]\tvalid's auc: 0.796565\n",
      "[500]\tvalid's auc: 0.802132\n",
      "[600]\tvalid's auc: 0.805951\n",
      "[700]\tvalid's auc: 0.808669\n",
      "[800]\tvalid's auc: 0.810082\n",
      "[900]\tvalid's auc: 0.810811\n",
      "[1000]\tvalid's auc: 0.811354\n",
      "[1100]\tvalid's auc: 0.811764\n",
      "[1200]\tvalid's auc: 0.81255\n",
      "[1300]\tvalid's auc: 0.81306\n",
      "Early stopping, best iteration is:\n",
      "[1296]\tvalid's auc: 0.813131\n"
     ]
    },
    {
     "name": "stderr",
     "output_type": "stream",
     "text": [
      "/home/wopr/.local/lib/python3.6/site-packages/sklearn/preprocessing/label.py:219: DataConversionWarning: A column-vector y was passed when a 1d array was expected. Please change the shape of y to (n_samples, ), for example using ravel().\n",
      "  y = column_or_1d(y, warn=True)\n",
      "/home/wopr/.local/lib/python3.6/site-packages/sklearn/preprocessing/label.py:252: DataConversionWarning: A column-vector y was passed when a 1d array was expected. Please change the shape of y to (n_samples, ), for example using ravel().\n",
      "  y = column_or_1d(y, warn=True)\n"
     ]
    },
    {
     "name": "stdout",
     "output_type": "stream",
     "text": [
      "Training until validation scores don't improve for 100 rounds.\n",
      "[100]\tvalid's auc: 0.746992\n",
      "[200]\tvalid's auc: 0.774091\n",
      "[300]\tvalid's auc: 0.786881\n",
      "[400]\tvalid's auc: 0.794838\n",
      "[500]\tvalid's auc: 0.800177\n",
      "[600]\tvalid's auc: 0.803203\n",
      "[700]\tvalid's auc: 0.80466\n",
      "[800]\tvalid's auc: 0.806676\n",
      "[900]\tvalid's auc: 0.807872\n",
      "[1000]\tvalid's auc: 0.807954\n",
      "[1100]\tvalid's auc: 0.808576\n",
      "[1200]\tvalid's auc: 0.808219\n",
      "Early stopping, best iteration is:\n",
      "[1107]\tvalid's auc: 0.808671\n"
     ]
    },
    {
     "name": "stderr",
     "output_type": "stream",
     "text": [
      "/home/wopr/.local/lib/python3.6/site-packages/sklearn/preprocessing/label.py:219: DataConversionWarning: A column-vector y was passed when a 1d array was expected. Please change the shape of y to (n_samples, ), for example using ravel().\n",
      "  y = column_or_1d(y, warn=True)\n",
      "/home/wopr/.local/lib/python3.6/site-packages/sklearn/preprocessing/label.py:252: DataConversionWarning: A column-vector y was passed when a 1d array was expected. Please change the shape of y to (n_samples, ), for example using ravel().\n",
      "  y = column_or_1d(y, warn=True)\n"
     ]
    },
    {
     "name": "stdout",
     "output_type": "stream",
     "text": [
      "Training until validation scores don't improve for 100 rounds.\n",
      "[100]\tvalid's auc: 0.744208\n",
      "[200]\tvalid's auc: 0.772784\n",
      "[300]\tvalid's auc: 0.786148\n",
      "[400]\tvalid's auc: 0.794469\n",
      "[500]\tvalid's auc: 0.799146\n",
      "[600]\tvalid's auc: 0.801853\n",
      "[700]\tvalid's auc: 0.804287\n",
      "[800]\tvalid's auc: 0.806102\n",
      "[900]\tvalid's auc: 0.807388\n",
      "[1000]\tvalid's auc: 0.808397\n",
      "[1100]\tvalid's auc: 0.808726\n",
      "[1200]\tvalid's auc: 0.80903\n",
      "[1300]\tvalid's auc: 0.80947\n",
      "[1400]\tvalid's auc: 0.809652\n",
      "Early stopping, best iteration is:\n",
      "[1371]\tvalid's auc: 0.809875\n"
     ]
    },
    {
     "name": "stderr",
     "output_type": "stream",
     "text": [
      "/home/wopr/.local/lib/python3.6/site-packages/sklearn/preprocessing/label.py:219: DataConversionWarning: A column-vector y was passed when a 1d array was expected. Please change the shape of y to (n_samples, ), for example using ravel().\n",
      "  y = column_or_1d(y, warn=True)\n",
      "/home/wopr/.local/lib/python3.6/site-packages/sklearn/preprocessing/label.py:252: DataConversionWarning: A column-vector y was passed when a 1d array was expected. Please change the shape of y to (n_samples, ), for example using ravel().\n",
      "  y = column_or_1d(y, warn=True)\n"
     ]
    },
    {
     "name": "stdout",
     "output_type": "stream",
     "text": [
      "Training until validation scores don't improve for 100 rounds.\n",
      "[100]\tvalid's auc: 0.731062\n",
      "[200]\tvalid's auc: 0.758844\n",
      "[300]\tvalid's auc: 0.77586\n",
      "[400]\tvalid's auc: 0.785686\n",
      "[500]\tvalid's auc: 0.79212\n",
      "[600]\tvalid's auc: 0.796904\n",
      "[700]\tvalid's auc: 0.800699\n",
      "[800]\tvalid's auc: 0.803555\n",
      "[900]\tvalid's auc: 0.806573\n",
      "[1000]\tvalid's auc: 0.808727\n",
      "[1100]\tvalid's auc: 0.810181\n",
      "[1200]\tvalid's auc: 0.811355\n",
      "[1300]\tvalid's auc: 0.812564\n",
      "[1400]\tvalid's auc: 0.812935\n",
      "[1500]\tvalid's auc: 0.81432\n",
      "[1600]\tvalid's auc: 0.815266\n",
      "[1700]\tvalid's auc: 0.815999\n",
      "[1800]\tvalid's auc: 0.816259\n",
      "[1900]\tvalid's auc: 0.81684\n",
      "[2000]\tvalid's auc: 0.817092\n",
      "[2100]\tvalid's auc: 0.817541\n",
      "[2200]\tvalid's auc: 0.818022\n",
      "[2300]\tvalid's auc: 0.817955\n",
      "Early stopping, best iteration is:\n",
      "[2267]\tvalid's auc: 0.818127\n"
     ]
    },
    {
     "name": "stderr",
     "output_type": "stream",
     "text": [
      "/home/wopr/.local/lib/python3.6/site-packages/sklearn/preprocessing/label.py:219: DataConversionWarning: A column-vector y was passed when a 1d array was expected. Please change the shape of y to (n_samples, ), for example using ravel().\n",
      "  y = column_or_1d(y, warn=True)\n",
      "/home/wopr/.local/lib/python3.6/site-packages/sklearn/preprocessing/label.py:252: DataConversionWarning: A column-vector y was passed when a 1d array was expected. Please change the shape of y to (n_samples, ), for example using ravel().\n",
      "  y = column_or_1d(y, warn=True)\n"
     ]
    },
    {
     "name": "stdout",
     "output_type": "stream",
     "text": [
      "Training until validation scores don't improve for 100 rounds.\n",
      "[100]\tvalid's auc: 0.732968\n",
      "[200]\tvalid's auc: 0.757927\n",
      "[300]\tvalid's auc: 0.772069\n",
      "[400]\tvalid's auc: 0.782167\n",
      "[500]\tvalid's auc: 0.789142\n",
      "[600]\tvalid's auc: 0.793383\n",
      "[700]\tvalid's auc: 0.797298\n",
      "[800]\tvalid's auc: 0.80005\n",
      "[900]\tvalid's auc: 0.802443\n",
      "[1000]\tvalid's auc: 0.804943\n",
      "[1100]\tvalid's auc: 0.80625\n",
      "[1200]\tvalid's auc: 0.807601\n",
      "[1300]\tvalid's auc: 0.808622\n",
      "[1400]\tvalid's auc: 0.809288\n",
      "[1500]\tvalid's auc: 0.809856\n",
      "[1600]\tvalid's auc: 0.810775\n",
      "[1700]\tvalid's auc: 0.811309\n",
      "[1800]\tvalid's auc: 0.811782\n",
      "[1900]\tvalid's auc: 0.812265\n",
      "[2000]\tvalid's auc: 0.812886\n",
      "[2100]\tvalid's auc: 0.813456\n",
      "[2200]\tvalid's auc: 0.813428\n",
      "Early stopping, best iteration is:\n",
      "[2152]\tvalid's auc: 0.813618\n"
     ]
    },
    {
     "name": "stderr",
     "output_type": "stream",
     "text": [
      "/home/wopr/.local/lib/python3.6/site-packages/sklearn/preprocessing/label.py:219: DataConversionWarning: A column-vector y was passed when a 1d array was expected. Please change the shape of y to (n_samples, ), for example using ravel().\n",
      "  y = column_or_1d(y, warn=True)\n",
      "/home/wopr/.local/lib/python3.6/site-packages/sklearn/preprocessing/label.py:252: DataConversionWarning: A column-vector y was passed when a 1d array was expected. Please change the shape of y to (n_samples, ), for example using ravel().\n",
      "  y = column_or_1d(y, warn=True)\n"
     ]
    },
    {
     "name": "stdout",
     "output_type": "stream",
     "text": [
      "Training until validation scores don't improve for 100 rounds.\n",
      "[100]\tvalid's auc: 0.732948\n",
      "[200]\tvalid's auc: 0.761704\n",
      "[300]\tvalid's auc: 0.776015\n",
      "[400]\tvalid's auc: 0.785473\n",
      "[500]\tvalid's auc: 0.792935\n",
      "[600]\tvalid's auc: 0.797898\n",
      "[700]\tvalid's auc: 0.801473\n",
      "[800]\tvalid's auc: 0.804727\n",
      "[900]\tvalid's auc: 0.80694\n",
      "[1000]\tvalid's auc: 0.808881\n",
      "[1100]\tvalid's auc: 0.810644\n",
      "[1200]\tvalid's auc: 0.812367\n",
      "[1300]\tvalid's auc: 0.81369\n",
      "[1400]\tvalid's auc: 0.814073\n",
      "[1500]\tvalid's auc: 0.814895\n",
      "[1600]\tvalid's auc: 0.815045\n",
      "[1700]\tvalid's auc: 0.815765\n",
      "[1800]\tvalid's auc: 0.816418\n",
      "[1900]\tvalid's auc: 0.816796\n",
      "[2000]\tvalid's auc: 0.816879\n",
      "[2100]\tvalid's auc: 0.817481\n",
      "[2200]\tvalid's auc: 0.817936\n",
      "[2300]\tvalid's auc: 0.818557\n",
      "[2400]\tvalid's auc: 0.81882\n",
      "[2500]\tvalid's auc: 0.819037\n",
      "Early stopping, best iteration is:\n",
      "[2494]\tvalid's auc: 0.819062\n"
     ]
    },
    {
     "name": "stderr",
     "output_type": "stream",
     "text": [
      "/home/wopr/.local/lib/python3.6/site-packages/sklearn/preprocessing/label.py:219: DataConversionWarning: A column-vector y was passed when a 1d array was expected. Please change the shape of y to (n_samples, ), for example using ravel().\n",
      "  y = column_or_1d(y, warn=True)\n",
      "/home/wopr/.local/lib/python3.6/site-packages/sklearn/preprocessing/label.py:252: DataConversionWarning: A column-vector y was passed when a 1d array was expected. Please change the shape of y to (n_samples, ), for example using ravel().\n",
      "  y = column_or_1d(y, warn=True)\n"
     ]
    },
    {
     "name": "stdout",
     "output_type": "stream",
     "text": [
      "Training until validation scores don't improve for 100 rounds.\n",
      "[100]\tvalid's auc: 0.748735\n",
      "[200]\tvalid's auc: 0.778987\n",
      "[300]\tvalid's auc: 0.791315\n",
      "[400]\tvalid's auc: 0.799041\n",
      "[500]\tvalid's auc: 0.803431\n",
      "[600]\tvalid's auc: 0.80601\n",
      "[700]\tvalid's auc: 0.807065\n",
      "[800]\tvalid's auc: 0.807749\n",
      "[900]\tvalid's auc: 0.80906\n",
      "[1000]\tvalid's auc: 0.809061\n",
      "Early stopping, best iteration is:\n",
      "[952]\tvalid's auc: 0.809503\n"
     ]
    },
    {
     "name": "stderr",
     "output_type": "stream",
     "text": [
      "/home/wopr/.local/lib/python3.6/site-packages/sklearn/preprocessing/label.py:219: DataConversionWarning: A column-vector y was passed when a 1d array was expected. Please change the shape of y to (n_samples, ), for example using ravel().\n",
      "  y = column_or_1d(y, warn=True)\n",
      "/home/wopr/.local/lib/python3.6/site-packages/sklearn/preprocessing/label.py:252: DataConversionWarning: A column-vector y was passed when a 1d array was expected. Please change the shape of y to (n_samples, ), for example using ravel().\n",
      "  y = column_or_1d(y, warn=True)\n"
     ]
    },
    {
     "name": "stdout",
     "output_type": "stream",
     "text": [
      "Training until validation scores don't improve for 100 rounds.\n",
      "[100]\tvalid's auc: 0.749155\n",
      "[200]\tvalid's auc: 0.774029\n",
      "[300]\tvalid's auc: 0.786516\n",
      "[400]\tvalid's auc: 0.794632\n",
      "[500]\tvalid's auc: 0.798626\n",
      "[600]\tvalid's auc: 0.802084\n",
      "[700]\tvalid's auc: 0.802751\n",
      "[800]\tvalid's auc: 0.803343\n",
      "[900]\tvalid's auc: 0.804856\n",
      "[1000]\tvalid's auc: 0.805353\n",
      "[1100]\tvalid's auc: 0.805694\n",
      "[1200]\tvalid's auc: 0.805717\n",
      "[1300]\tvalid's auc: 0.805861\n",
      "[1400]\tvalid's auc: 0.806243\n",
      "[1500]\tvalid's auc: 0.806179\n",
      "Early stopping, best iteration is:\n",
      "[1436]\tvalid's auc: 0.806457\n"
     ]
    },
    {
     "name": "stderr",
     "output_type": "stream",
     "text": [
      "/home/wopr/.local/lib/python3.6/site-packages/sklearn/preprocessing/label.py:219: DataConversionWarning: A column-vector y was passed when a 1d array was expected. Please change the shape of y to (n_samples, ), for example using ravel().\n",
      "  y = column_or_1d(y, warn=True)\n",
      "/home/wopr/.local/lib/python3.6/site-packages/sklearn/preprocessing/label.py:252: DataConversionWarning: A column-vector y was passed when a 1d array was expected. Please change the shape of y to (n_samples, ), for example using ravel().\n",
      "  y = column_or_1d(y, warn=True)\n"
     ]
    },
    {
     "name": "stdout",
     "output_type": "stream",
     "text": [
      "Training until validation scores don't improve for 100 rounds.\n",
      "[100]\tvalid's auc: 0.74871\n",
      "[200]\tvalid's auc: 0.777082\n",
      "[300]\tvalid's auc: 0.790435\n",
      "[400]\tvalid's auc: 0.796479\n",
      "[500]\tvalid's auc: 0.79974\n",
      "[600]\tvalid's auc: 0.802329\n",
      "[700]\tvalid's auc: 0.804514\n",
      "[800]\tvalid's auc: 0.805553\n",
      "[900]\tvalid's auc: 0.806067\n",
      "[1000]\tvalid's auc: 0.80643\n",
      "[1100]\tvalid's auc: 0.806654\n",
      "[1200]\tvalid's auc: 0.806869\n",
      "Early stopping, best iteration is:\n",
      "[1120]\tvalid's auc: 0.806906\n"
     ]
    },
    {
     "name": "stderr",
     "output_type": "stream",
     "text": [
      "/home/wopr/.local/lib/python3.6/site-packages/sklearn/preprocessing/label.py:219: DataConversionWarning: A column-vector y was passed when a 1d array was expected. Please change the shape of y to (n_samples, ), for example using ravel().\n",
      "  y = column_or_1d(y, warn=True)\n",
      "/home/wopr/.local/lib/python3.6/site-packages/sklearn/preprocessing/label.py:252: DataConversionWarning: A column-vector y was passed when a 1d array was expected. Please change the shape of y to (n_samples, ), for example using ravel().\n",
      "  y = column_or_1d(y, warn=True)\n"
     ]
    },
    {
     "name": "stdout",
     "output_type": "stream",
     "text": [
      "Training until validation scores don't improve for 100 rounds.\n",
      "[100]\tvalid's auc: 0.733636\n",
      "[200]\tvalid's auc: 0.761313\n",
      "[300]\tvalid's auc: 0.777373\n",
      "[400]\tvalid's auc: 0.787111\n",
      "[500]\tvalid's auc: 0.793344\n",
      "[600]\tvalid's auc: 0.798478\n",
      "[700]\tvalid's auc: 0.801763\n",
      "[800]\tvalid's auc: 0.804834\n",
      "[900]\tvalid's auc: 0.807101\n",
      "[1000]\tvalid's auc: 0.80889\n",
      "[1100]\tvalid's auc: 0.810089\n",
      "[1200]\tvalid's auc: 0.811108\n",
      "[1300]\tvalid's auc: 0.811641\n",
      "[1400]\tvalid's auc: 0.812575\n",
      "[1500]\tvalid's auc: 0.812714\n",
      "[1600]\tvalid's auc: 0.813274\n",
      "[1700]\tvalid's auc: 0.813776\n",
      "[1800]\tvalid's auc: 0.814375\n",
      "[1900]\tvalid's auc: 0.814548\n",
      "[2000]\tvalid's auc: 0.815052\n",
      "[2100]\tvalid's auc: 0.81493\n",
      "Early stopping, best iteration is:\n",
      "[2028]\tvalid's auc: 0.815249\n"
     ]
    },
    {
     "name": "stderr",
     "output_type": "stream",
     "text": [
      "/home/wopr/.local/lib/python3.6/site-packages/sklearn/preprocessing/label.py:219: DataConversionWarning: A column-vector y was passed when a 1d array was expected. Please change the shape of y to (n_samples, ), for example using ravel().\n",
      "  y = column_or_1d(y, warn=True)\n",
      "/home/wopr/.local/lib/python3.6/site-packages/sklearn/preprocessing/label.py:252: DataConversionWarning: A column-vector y was passed when a 1d array was expected. Please change the shape of y to (n_samples, ), for example using ravel().\n",
      "  y = column_or_1d(y, warn=True)\n"
     ]
    },
    {
     "name": "stdout",
     "output_type": "stream",
     "text": [
      "Training until validation scores don't improve for 100 rounds.\n",
      "[100]\tvalid's auc: 0.732632\n",
      "[200]\tvalid's auc: 0.76055\n",
      "[300]\tvalid's auc: 0.774072\n",
      "[400]\tvalid's auc: 0.784365\n",
      "[500]\tvalid's auc: 0.791101\n",
      "[600]\tvalid's auc: 0.795871\n",
      "[700]\tvalid's auc: 0.799521\n",
      "[800]\tvalid's auc: 0.802283\n",
      "[900]\tvalid's auc: 0.804271\n",
      "[1000]\tvalid's auc: 0.80575\n",
      "[1100]\tvalid's auc: 0.807209\n",
      "[1200]\tvalid's auc: 0.808667\n",
      "[1300]\tvalid's auc: 0.809715\n",
      "[1400]\tvalid's auc: 0.809813\n",
      "[1500]\tvalid's auc: 0.810582\n",
      "[1600]\tvalid's auc: 0.810956\n",
      "[1700]\tvalid's auc: 0.811445\n",
      "[1800]\tvalid's auc: 0.812009\n",
      "[1900]\tvalid's auc: 0.812128\n",
      "Early stopping, best iteration is:\n",
      "[1826]\tvalid's auc: 0.812164\n"
     ]
    },
    {
     "name": "stderr",
     "output_type": "stream",
     "text": [
      "/home/wopr/.local/lib/python3.6/site-packages/sklearn/preprocessing/label.py:219: DataConversionWarning: A column-vector y was passed when a 1d array was expected. Please change the shape of y to (n_samples, ), for example using ravel().\n",
      "  y = column_or_1d(y, warn=True)\n",
      "/home/wopr/.local/lib/python3.6/site-packages/sklearn/preprocessing/label.py:252: DataConversionWarning: A column-vector y was passed when a 1d array was expected. Please change the shape of y to (n_samples, ), for example using ravel().\n",
      "  y = column_or_1d(y, warn=True)\n"
     ]
    },
    {
     "name": "stdout",
     "output_type": "stream",
     "text": [
      "Training until validation scores don't improve for 100 rounds.\n",
      "[100]\tvalid's auc: 0.734142\n",
      "[200]\tvalid's auc: 0.762369\n",
      "[300]\tvalid's auc: 0.778539\n",
      "[400]\tvalid's auc: 0.786987\n",
      "[500]\tvalid's auc: 0.792835\n",
      "[600]\tvalid's auc: 0.798107\n",
      "[700]\tvalid's auc: 0.801881\n",
      "[800]\tvalid's auc: 0.804861\n",
      "[900]\tvalid's auc: 0.806719\n",
      "[1000]\tvalid's auc: 0.808461\n",
      "[1100]\tvalid's auc: 0.809737\n",
      "[1200]\tvalid's auc: 0.810649\n",
      "[1300]\tvalid's auc: 0.81186\n",
      "[1400]\tvalid's auc: 0.812371\n",
      "[1500]\tvalid's auc: 0.812846\n",
      "[1600]\tvalid's auc: 0.813022\n",
      "Early stopping, best iteration is:\n",
      "[1596]\tvalid's auc: 0.813094\n"
     ]
    },
    {
     "name": "stderr",
     "output_type": "stream",
     "text": [
      "/home/wopr/.local/lib/python3.6/site-packages/sklearn/preprocessing/label.py:219: DataConversionWarning: A column-vector y was passed when a 1d array was expected. Please change the shape of y to (n_samples, ), for example using ravel().\n",
      "  y = column_or_1d(y, warn=True)\n",
      "/home/wopr/.local/lib/python3.6/site-packages/sklearn/preprocessing/label.py:252: DataConversionWarning: A column-vector y was passed when a 1d array was expected. Please change the shape of y to (n_samples, ), for example using ravel().\n",
      "  y = column_or_1d(y, warn=True)\n"
     ]
    },
    {
     "name": "stdout",
     "output_type": "stream",
     "text": [
      "Training until validation scores don't improve for 100 rounds.\n",
      "[100]\tvalid's auc: 0.744539\n",
      "[200]\tvalid's auc: 0.771993\n",
      "[300]\tvalid's auc: 0.785884\n",
      "[400]\tvalid's auc: 0.794716\n",
      "[500]\tvalid's auc: 0.799105\n",
      "[600]\tvalid's auc: 0.801464\n",
      "[700]\tvalid's auc: 0.802363\n",
      "[800]\tvalid's auc: 0.803236\n",
      "[900]\tvalid's auc: 0.804537\n",
      "[1000]\tvalid's auc: 0.805414\n",
      "[1100]\tvalid's auc: 0.806544\n",
      "[1200]\tvalid's auc: 0.807041\n",
      "Early stopping, best iteration is:\n",
      "[1147]\tvalid's auc: 0.807076\n"
     ]
    },
    {
     "name": "stderr",
     "output_type": "stream",
     "text": [
      "/home/wopr/.local/lib/python3.6/site-packages/sklearn/preprocessing/label.py:219: DataConversionWarning: A column-vector y was passed when a 1d array was expected. Please change the shape of y to (n_samples, ), for example using ravel().\n",
      "  y = column_or_1d(y, warn=True)\n",
      "/home/wopr/.local/lib/python3.6/site-packages/sklearn/preprocessing/label.py:252: DataConversionWarning: A column-vector y was passed when a 1d array was expected. Please change the shape of y to (n_samples, ), for example using ravel().\n",
      "  y = column_or_1d(y, warn=True)\n"
     ]
    },
    {
     "name": "stdout",
     "output_type": "stream",
     "text": [
      "Training until validation scores don't improve for 100 rounds.\n",
      "[100]\tvalid's auc: 0.742993\n",
      "[200]\tvalid's auc: 0.770457\n",
      "[300]\tvalid's auc: 0.783425\n",
      "[400]\tvalid's auc: 0.791991\n",
      "[500]\tvalid's auc: 0.796169\n",
      "[600]\tvalid's auc: 0.798118\n",
      "[700]\tvalid's auc: 0.799644\n",
      "[800]\tvalid's auc: 0.80159\n",
      "[900]\tvalid's auc: 0.802678\n",
      "[1000]\tvalid's auc: 0.803102\n",
      "[1100]\tvalid's auc: 0.803772\n",
      "[1200]\tvalid's auc: 0.803385\n",
      "Early stopping, best iteration is:\n",
      "[1141]\tvalid's auc: 0.804005\n"
     ]
    },
    {
     "name": "stderr",
     "output_type": "stream",
     "text": [
      "/home/wopr/.local/lib/python3.6/site-packages/sklearn/preprocessing/label.py:219: DataConversionWarning: A column-vector y was passed when a 1d array was expected. Please change the shape of y to (n_samples, ), for example using ravel().\n",
      "  y = column_or_1d(y, warn=True)\n",
      "/home/wopr/.local/lib/python3.6/site-packages/sklearn/preprocessing/label.py:252: DataConversionWarning: A column-vector y was passed when a 1d array was expected. Please change the shape of y to (n_samples, ), for example using ravel().\n",
      "  y = column_or_1d(y, warn=True)\n"
     ]
    },
    {
     "name": "stdout",
     "output_type": "stream",
     "text": [
      "Training until validation scores don't improve for 100 rounds.\n",
      "[100]\tvalid's auc: 0.745226\n",
      "[200]\tvalid's auc: 0.774319\n",
      "[300]\tvalid's auc: 0.787485\n",
      "[400]\tvalid's auc: 0.793718\n",
      "[500]\tvalid's auc: 0.797372\n",
      "[600]\tvalid's auc: 0.799586\n",
      "[700]\tvalid's auc: 0.802037\n",
      "[800]\tvalid's auc: 0.803539\n",
      "[900]\tvalid's auc: 0.804647\n",
      "[1000]\tvalid's auc: 0.804618\n",
      "Early stopping, best iteration is:\n",
      "[923]\tvalid's auc: 0.805143\n"
     ]
    },
    {
     "name": "stderr",
     "output_type": "stream",
     "text": [
      "/home/wopr/.local/lib/python3.6/site-packages/sklearn/preprocessing/label.py:219: DataConversionWarning: A column-vector y was passed when a 1d array was expected. Please change the shape of y to (n_samples, ), for example using ravel().\n",
      "  y = column_or_1d(y, warn=True)\n",
      "/home/wopr/.local/lib/python3.6/site-packages/sklearn/preprocessing/label.py:252: DataConversionWarning: A column-vector y was passed when a 1d array was expected. Please change the shape of y to (n_samples, ), for example using ravel().\n",
      "  y = column_or_1d(y, warn=True)\n"
     ]
    },
    {
     "name": "stdout",
     "output_type": "stream",
     "text": [
      "Training until validation scores don't improve for 100 rounds.\n",
      "[100]\tvalid's auc: 0.764065\n",
      "[200]\tvalid's auc: 0.7863\n",
      "[300]\tvalid's auc: 0.795458\n",
      "[400]\tvalid's auc: 0.80146\n",
      "[500]\tvalid's auc: 0.803201\n",
      "[600]\tvalid's auc: 0.804262\n",
      "[700]\tvalid's auc: 0.804631\n",
      "[800]\tvalid's auc: 0.805691\n",
      "[900]\tvalid's auc: 0.806721\n",
      "[1000]\tvalid's auc: 0.807746\n",
      "[1100]\tvalid's auc: 0.808548\n",
      "Early stopping, best iteration is:\n",
      "[1072]\tvalid's auc: 0.80872\n"
     ]
    },
    {
     "name": "stderr",
     "output_type": "stream",
     "text": [
      "/home/wopr/.local/lib/python3.6/site-packages/sklearn/preprocessing/label.py:219: DataConversionWarning: A column-vector y was passed when a 1d array was expected. Please change the shape of y to (n_samples, ), for example using ravel().\n",
      "  y = column_or_1d(y, warn=True)\n",
      "/home/wopr/.local/lib/python3.6/site-packages/sklearn/preprocessing/label.py:252: DataConversionWarning: A column-vector y was passed when a 1d array was expected. Please change the shape of y to (n_samples, ), for example using ravel().\n",
      "  y = column_or_1d(y, warn=True)\n"
     ]
    },
    {
     "name": "stdout",
     "output_type": "stream",
     "text": [
      "Training until validation scores don't improve for 100 rounds.\n",
      "[100]\tvalid's auc: 0.76181\n",
      "[200]\tvalid's auc: 0.784986\n",
      "[300]\tvalid's auc: 0.795637\n",
      "[400]\tvalid's auc: 0.800178\n",
      "[500]\tvalid's auc: 0.803607\n",
      "[600]\tvalid's auc: 0.805425\n",
      "[700]\tvalid's auc: 0.806543\n",
      "[800]\tvalid's auc: 0.807208\n",
      "[900]\tvalid's auc: 0.807781\n",
      "[1000]\tvalid's auc: 0.80825\n",
      "[1100]\tvalid's auc: 0.808991\n",
      "[1200]\tvalid's auc: 0.80938\n",
      "[1300]\tvalid's auc: 0.810002\n",
      "[1400]\tvalid's auc: 0.810538\n",
      "[1500]\tvalid's auc: 0.810866\n",
      "[1600]\tvalid's auc: 0.811203\n",
      "[1700]\tvalid's auc: 0.811694\n",
      "[1800]\tvalid's auc: 0.811786\n",
      "[1900]\tvalid's auc: 0.811976\n",
      "[2000]\tvalid's auc: 0.812022\n",
      "[2100]\tvalid's auc: 0.812325\n",
      "[2200]\tvalid's auc: 0.812344\n",
      "[2300]\tvalid's auc: 0.812499\n",
      "[2400]\tvalid's auc: 0.812688\n",
      "[2500]\tvalid's auc: 0.81275\n",
      "[2600]\tvalid's auc: 0.81287\n",
      "[2700]\tvalid's auc: 0.813101\n",
      "[2800]\tvalid's auc: 0.813134\n",
      "[2900]\tvalid's auc: 0.813164\n",
      "[3000]\tvalid's auc: 0.813325\n",
      "[3100]\tvalid's auc: 0.813384\n",
      "[3200]\tvalid's auc: 0.813586\n",
      "[3300]\tvalid's auc: 0.813703\n",
      "[3400]\tvalid's auc: 0.813753\n",
      "[3500]\tvalid's auc: 0.813782\n",
      "Early stopping, best iteration is:\n",
      "[3478]\tvalid's auc: 0.813826\n"
     ]
    },
    {
     "name": "stderr",
     "output_type": "stream",
     "text": [
      "/home/wopr/.local/lib/python3.6/site-packages/sklearn/preprocessing/label.py:219: DataConversionWarning: A column-vector y was passed when a 1d array was expected. Please change the shape of y to (n_samples, ), for example using ravel().\n",
      "  y = column_or_1d(y, warn=True)\n",
      "/home/wopr/.local/lib/python3.6/site-packages/sklearn/preprocessing/label.py:252: DataConversionWarning: A column-vector y was passed when a 1d array was expected. Please change the shape of y to (n_samples, ), for example using ravel().\n",
      "  y = column_or_1d(y, warn=True)\n"
     ]
    },
    {
     "name": "stdout",
     "output_type": "stream",
     "text": [
      "Training until validation scores don't improve for 100 rounds.\n",
      "[100]\tvalid's auc: 0.765193\n",
      "[200]\tvalid's auc: 0.786568\n",
      "[300]\tvalid's auc: 0.795139\n",
      "[400]\tvalid's auc: 0.800751\n",
      "[500]\tvalid's auc: 0.802678\n",
      "[600]\tvalid's auc: 0.8054\n",
      "[700]\tvalid's auc: 0.806599\n",
      "[800]\tvalid's auc: 0.808495\n",
      "[900]\tvalid's auc: 0.809546\n",
      "[1000]\tvalid's auc: 0.810143\n",
      "[1100]\tvalid's auc: 0.810896\n",
      "[1200]\tvalid's auc: 0.81124\n",
      "[1300]\tvalid's auc: 0.812041\n",
      "[1400]\tvalid's auc: 0.812804\n",
      "[1500]\tvalid's auc: 0.812912\n",
      "[1600]\tvalid's auc: 0.813363\n",
      "[1700]\tvalid's auc: 0.813761\n",
      "[1800]\tvalid's auc: 0.814126\n",
      "[1900]\tvalid's auc: 0.814558\n",
      "[2000]\tvalid's auc: 0.814717\n",
      "[2100]\tvalid's auc: 0.814979\n",
      "[2200]\tvalid's auc: 0.81496\n",
      "[2300]\tvalid's auc: 0.815114\n",
      "[2400]\tvalid's auc: 0.815181\n",
      "[2500]\tvalid's auc: 0.81538\n",
      "[2600]\tvalid's auc: 0.815467\n",
      "[2700]\tvalid's auc: 0.81564\n",
      "[2800]\tvalid's auc: 0.815759\n",
      "[2900]\tvalid's auc: 0.815743\n",
      "Early stopping, best iteration is:\n",
      "[2835]\tvalid's auc: 0.815846\n"
     ]
    },
    {
     "name": "stderr",
     "output_type": "stream",
     "text": [
      "/home/wopr/.local/lib/python3.6/site-packages/sklearn/preprocessing/label.py:219: DataConversionWarning: A column-vector y was passed when a 1d array was expected. Please change the shape of y to (n_samples, ), for example using ravel().\n",
      "  y = column_or_1d(y, warn=True)\n",
      "/home/wopr/.local/lib/python3.6/site-packages/sklearn/preprocessing/label.py:252: DataConversionWarning: A column-vector y was passed when a 1d array was expected. Please change the shape of y to (n_samples, ), for example using ravel().\n",
      "  y = column_or_1d(y, warn=True)\n"
     ]
    },
    {
     "name": "stdout",
     "output_type": "stream",
     "text": [
      "Training until validation scores don't improve for 100 rounds.\n",
      "[100]\tvalid's auc: 0.762193\n",
      "[200]\tvalid's auc: 0.785073\n",
      "[300]\tvalid's auc: 0.795813\n",
      "[400]\tvalid's auc: 0.801376\n",
      "[500]\tvalid's auc: 0.803315\n",
      "[600]\tvalid's auc: 0.805384\n",
      "[700]\tvalid's auc: 0.806775\n",
      "[800]\tvalid's auc: 0.808997\n",
      "[900]\tvalid's auc: 0.809238\n",
      "[1000]\tvalid's auc: 0.809968\n",
      "[1100]\tvalid's auc: 0.810563\n",
      "[1200]\tvalid's auc: 0.811473\n",
      "[1300]\tvalid's auc: 0.812215\n",
      "[1400]\tvalid's auc: 0.812793\n",
      "[1500]\tvalid's auc: 0.813147\n",
      "[1600]\tvalid's auc: 0.813165\n",
      "Early stopping, best iteration is:\n",
      "[1514]\tvalid's auc: 0.813314\n"
     ]
    },
    {
     "name": "stderr",
     "output_type": "stream",
     "text": [
      "/home/wopr/.local/lib/python3.6/site-packages/sklearn/preprocessing/label.py:219: DataConversionWarning: A column-vector y was passed when a 1d array was expected. Please change the shape of y to (n_samples, ), for example using ravel().\n",
      "  y = column_or_1d(y, warn=True)\n",
      "/home/wopr/.local/lib/python3.6/site-packages/sklearn/preprocessing/label.py:252: DataConversionWarning: A column-vector y was passed when a 1d array was expected. Please change the shape of y to (n_samples, ), for example using ravel().\n",
      "  y = column_or_1d(y, warn=True)\n"
     ]
    },
    {
     "name": "stdout",
     "output_type": "stream",
     "text": [
      "Training until validation scores don't improve for 100 rounds.\n",
      "[100]\tvalid's auc: 0.758325\n",
      "[200]\tvalid's auc: 0.779695\n",
      "[300]\tvalid's auc: 0.789884\n",
      "[400]\tvalid's auc: 0.796665\n",
      "[500]\tvalid's auc: 0.800076\n",
      "[600]\tvalid's auc: 0.80192\n",
      "[700]\tvalid's auc: 0.803507\n",
      "[800]\tvalid's auc: 0.805314\n",
      "[900]\tvalid's auc: 0.806106\n",
      "[1000]\tvalid's auc: 0.807204\n",
      "[1100]\tvalid's auc: 0.80764\n",
      "[1200]\tvalid's auc: 0.808169\n",
      "[1300]\tvalid's auc: 0.808863\n",
      "[1400]\tvalid's auc: 0.809365\n",
      "[1500]\tvalid's auc: 0.809977\n",
      "[1600]\tvalid's auc: 0.810224\n",
      "[1700]\tvalid's auc: 0.810873\n",
      "[1800]\tvalid's auc: 0.811286\n",
      "[1900]\tvalid's auc: 0.811437\n",
      "[2000]\tvalid's auc: 0.811856\n",
      "[2100]\tvalid's auc: 0.812061\n",
      "Early stopping, best iteration is:\n",
      "[2038]\tvalid's auc: 0.812061\n"
     ]
    },
    {
     "name": "stderr",
     "output_type": "stream",
     "text": [
      "/home/wopr/.local/lib/python3.6/site-packages/sklearn/preprocessing/label.py:219: DataConversionWarning: A column-vector y was passed when a 1d array was expected. Please change the shape of y to (n_samples, ), for example using ravel().\n",
      "  y = column_or_1d(y, warn=True)\n",
      "/home/wopr/.local/lib/python3.6/site-packages/sklearn/preprocessing/label.py:252: DataConversionWarning: A column-vector y was passed when a 1d array was expected. Please change the shape of y to (n_samples, ), for example using ravel().\n",
      "  y = column_or_1d(y, warn=True)\n"
     ]
    },
    {
     "name": "stdout",
     "output_type": "stream",
     "text": [
      "Training until validation scores don't improve for 100 rounds.\n",
      "[100]\tvalid's auc: 0.755204\n",
      "[200]\tvalid's auc: 0.779206\n",
      "[300]\tvalid's auc: 0.789472\n",
      "[400]\tvalid's auc: 0.79562\n",
      "[500]\tvalid's auc: 0.799005\n",
      "[600]\tvalid's auc: 0.802135\n",
      "[700]\tvalid's auc: 0.804426\n",
      "[800]\tvalid's auc: 0.805586\n",
      "[900]\tvalid's auc: 0.80604\n",
      "[1000]\tvalid's auc: 0.807162\n",
      "[1100]\tvalid's auc: 0.807866\n",
      "[1200]\tvalid's auc: 0.808189\n",
      "[1300]\tvalid's auc: 0.808449\n",
      "[1400]\tvalid's auc: 0.808756\n",
      "[1500]\tvalid's auc: 0.809083\n",
      "[1600]\tvalid's auc: 0.809921\n",
      "[1700]\tvalid's auc: 0.810071\n",
      "[1800]\tvalid's auc: 0.810687\n",
      "[1900]\tvalid's auc: 0.811014\n",
      "[2000]\tvalid's auc: 0.811693\n",
      "[2100]\tvalid's auc: 0.811933\n",
      "Early stopping, best iteration is:\n",
      "[2057]\tvalid's auc: 0.811939\n"
     ]
    },
    {
     "name": "stderr",
     "output_type": "stream",
     "text": [
      "/home/wopr/.local/lib/python3.6/site-packages/sklearn/preprocessing/label.py:219: DataConversionWarning: A column-vector y was passed when a 1d array was expected. Please change the shape of y to (n_samples, ), for example using ravel().\n",
      "  y = column_or_1d(y, warn=True)\n",
      "/home/wopr/.local/lib/python3.6/site-packages/sklearn/preprocessing/label.py:252: DataConversionWarning: A column-vector y was passed when a 1d array was expected. Please change the shape of y to (n_samples, ), for example using ravel().\n",
      "  y = column_or_1d(y, warn=True)\n"
     ]
    },
    {
     "name": "stdout",
     "output_type": "stream",
     "text": [
      "Training until validation scores don't improve for 100 rounds.\n",
      "[100]\tvalid's auc: 0.761395\n",
      "[200]\tvalid's auc: 0.784874\n",
      "[300]\tvalid's auc: 0.79434\n",
      "[400]\tvalid's auc: 0.799064\n",
      "[500]\tvalid's auc: 0.801723\n",
      "[600]\tvalid's auc: 0.80343\n",
      "[700]\tvalid's auc: 0.805102\n",
      "[800]\tvalid's auc: 0.806291\n",
      "[900]\tvalid's auc: 0.806667\n",
      "[1000]\tvalid's auc: 0.80864\n",
      "[1100]\tvalid's auc: 0.809455\n",
      "[1200]\tvalid's auc: 0.810456\n",
      "[1300]\tvalid's auc: 0.811186\n",
      "[1400]\tvalid's auc: 0.812191\n",
      "[1500]\tvalid's auc: 0.812438\n",
      "[1600]\tvalid's auc: 0.813027\n",
      "[1700]\tvalid's auc: 0.813281\n",
      "[1800]\tvalid's auc: 0.813843\n",
      "[1900]\tvalid's auc: 0.814241\n",
      "[2000]\tvalid's auc: 0.815038\n",
      "[2100]\tvalid's auc: 0.815396\n",
      "[2200]\tvalid's auc: 0.81573\n",
      "[2300]\tvalid's auc: 0.816186\n",
      "[2400]\tvalid's auc: 0.81678\n",
      "[2500]\tvalid's auc: 0.81717\n",
      "[2600]\tvalid's auc: 0.81743\n",
      "[2700]\tvalid's auc: 0.817849\n",
      "[2800]\tvalid's auc: 0.81808\n",
      "Early stopping, best iteration is:\n",
      "[2780]\tvalid's auc: 0.818128\n"
     ]
    },
    {
     "name": "stderr",
     "output_type": "stream",
     "text": [
      "/home/wopr/.local/lib/python3.6/site-packages/sklearn/preprocessing/label.py:219: DataConversionWarning: A column-vector y was passed when a 1d array was expected. Please change the shape of y to (n_samples, ), for example using ravel().\n",
      "  y = column_or_1d(y, warn=True)\n",
      "/home/wopr/.local/lib/python3.6/site-packages/sklearn/preprocessing/label.py:252: DataConversionWarning: A column-vector y was passed when a 1d array was expected. Please change the shape of y to (n_samples, ), for example using ravel().\n",
      "  y = column_or_1d(y, warn=True)\n"
     ]
    },
    {
     "name": "stdout",
     "output_type": "stream",
     "text": [
      "Training until validation scores don't improve for 100 rounds.\n",
      "[100]\tvalid's auc: 0.76354\n",
      "[200]\tvalid's auc: 0.784835\n",
      "[300]\tvalid's auc: 0.792644\n",
      "[400]\tvalid's auc: 0.796838\n",
      "[500]\tvalid's auc: 0.798862\n",
      "[600]\tvalid's auc: 0.800232\n",
      "[700]\tvalid's auc: 0.800941\n",
      "[800]\tvalid's auc: 0.80157\n",
      "[900]\tvalid's auc: 0.802325\n",
      "[1000]\tvalid's auc: 0.803317\n",
      "[1100]\tvalid's auc: 0.80437\n",
      "[1200]\tvalid's auc: 0.805315\n",
      "[1300]\tvalid's auc: 0.806407\n",
      "[1400]\tvalid's auc: 0.806938\n",
      "[1500]\tvalid's auc: 0.807968\n",
      "[1600]\tvalid's auc: 0.80881\n",
      "[1700]\tvalid's auc: 0.809751\n",
      "[1800]\tvalid's auc: 0.810494\n",
      "[1900]\tvalid's auc: 0.810892\n",
      "[2000]\tvalid's auc: 0.811437\n",
      "[2100]\tvalid's auc: 0.812036\n",
      "[2200]\tvalid's auc: 0.812654\n",
      "[2300]\tvalid's auc: 0.812834\n",
      "[2400]\tvalid's auc: 0.813143\n",
      "[2500]\tvalid's auc: 0.813683\n",
      "[2600]\tvalid's auc: 0.814116\n",
      "[2700]\tvalid's auc: 0.814324\n",
      "[2800]\tvalid's auc: 0.814364\n",
      "[2900]\tvalid's auc: 0.814787\n",
      "[3000]\tvalid's auc: 0.815277\n",
      "[3100]\tvalid's auc: 0.815356\n",
      "[3200]\tvalid's auc: 0.815616\n",
      "[3300]\tvalid's auc: 0.815784\n",
      "[3400]\tvalid's auc: 0.815934\n",
      "[3500]\tvalid's auc: 0.816131\n",
      "[3600]\tvalid's auc: 0.816325\n",
      "[3700]\tvalid's auc: 0.816542\n",
      "[3800]\tvalid's auc: 0.816683\n",
      "[3900]\tvalid's auc: 0.816962\n",
      "[4000]\tvalid's auc: 0.817183\n",
      "[4100]\tvalid's auc: 0.817427\n",
      "[4200]\tvalid's auc: 0.817511\n",
      "[4300]\tvalid's auc: 0.817582\n",
      "Early stopping, best iteration is:\n",
      "[4246]\tvalid's auc: 0.817582\n"
     ]
    },
    {
     "name": "stderr",
     "output_type": "stream",
     "text": [
      "/home/wopr/.local/lib/python3.6/site-packages/sklearn/preprocessing/label.py:219: DataConversionWarning: A column-vector y was passed when a 1d array was expected. Please change the shape of y to (n_samples, ), for example using ravel().\n",
      "  y = column_or_1d(y, warn=True)\n",
      "/home/wopr/.local/lib/python3.6/site-packages/sklearn/preprocessing/label.py:252: DataConversionWarning: A column-vector y was passed when a 1d array was expected. Please change the shape of y to (n_samples, ), for example using ravel().\n",
      "  y = column_or_1d(y, warn=True)\n"
     ]
    },
    {
     "name": "stdout",
     "output_type": "stream",
     "text": [
      "Training until validation scores don't improve for 100 rounds.\n",
      "[100]\tvalid's auc: 0.764268\n",
      "[200]\tvalid's auc: 0.78656\n",
      "[300]\tvalid's auc: 0.79481\n",
      "[400]\tvalid's auc: 0.798509\n",
      "[500]\tvalid's auc: 0.799615\n",
      "[600]\tvalid's auc: 0.801112\n",
      "[700]\tvalid's auc: 0.802788\n",
      "[800]\tvalid's auc: 0.804075\n",
      "[900]\tvalid's auc: 0.805848\n",
      "[1000]\tvalid's auc: 0.807546\n",
      "[1100]\tvalid's auc: 0.808288\n",
      "[1200]\tvalid's auc: 0.808871\n",
      "[1300]\tvalid's auc: 0.80982\n",
      "[1400]\tvalid's auc: 0.810917\n",
      "[1500]\tvalid's auc: 0.811412\n",
      "[1600]\tvalid's auc: 0.812262\n",
      "[1700]\tvalid's auc: 0.812796\n",
      "[1800]\tvalid's auc: 0.81344\n",
      "[1900]\tvalid's auc: 0.81346\n",
      "[2000]\tvalid's auc: 0.814028\n",
      "[2100]\tvalid's auc: 0.814907\n",
      "[2200]\tvalid's auc: 0.815417\n",
      "[2300]\tvalid's auc: 0.815788\n",
      "[2400]\tvalid's auc: 0.816086\n",
      "[2500]\tvalid's auc: 0.816251\n",
      "[2600]\tvalid's auc: 0.816439\n",
      "[2700]\tvalid's auc: 0.816892\n",
      "[2800]\tvalid's auc: 0.817193\n",
      "[2900]\tvalid's auc: 0.817268\n",
      "[3000]\tvalid's auc: 0.817481\n",
      "[3100]\tvalid's auc: 0.817807\n",
      "[3200]\tvalid's auc: 0.817733\n",
      "Early stopping, best iteration is:\n",
      "[3107]\tvalid's auc: 0.817843\n"
     ]
    },
    {
     "name": "stderr",
     "output_type": "stream",
     "text": [
      "/home/wopr/.local/lib/python3.6/site-packages/sklearn/preprocessing/label.py:219: DataConversionWarning: A column-vector y was passed when a 1d array was expected. Please change the shape of y to (n_samples, ), for example using ravel().\n",
      "  y = column_or_1d(y, warn=True)\n",
      "/home/wopr/.local/lib/python3.6/site-packages/sklearn/preprocessing/label.py:252: DataConversionWarning: A column-vector y was passed when a 1d array was expected. Please change the shape of y to (n_samples, ), for example using ravel().\n",
      "  y = column_or_1d(y, warn=True)\n"
     ]
    },
    {
     "name": "stdout",
     "output_type": "stream",
     "text": [
      "Training until validation scores don't improve for 100 rounds.\n",
      "[100]\tvalid's auc: 0.751226\n",
      "[200]\tvalid's auc: 0.777325\n",
      "[300]\tvalid's auc: 0.792021\n",
      "[400]\tvalid's auc: 0.799947\n",
      "[500]\tvalid's auc: 0.805035\n",
      "[600]\tvalid's auc: 0.808865\n",
      "[700]\tvalid's auc: 0.81088\n",
      "[800]\tvalid's auc: 0.813341\n",
      "[900]\tvalid's auc: 0.814742\n",
      "[1000]\tvalid's auc: 0.81519\n",
      "[1100]\tvalid's auc: 0.815586\n",
      "[1200]\tvalid's auc: 0.815993\n",
      "[1300]\tvalid's auc: 0.816285\n",
      "[1400]\tvalid's auc: 0.816767\n",
      "Early stopping, best iteration is:\n",
      "[1390]\tvalid's auc: 0.816844\n"
     ]
    },
    {
     "name": "stderr",
     "output_type": "stream",
     "text": [
      "/home/wopr/.local/lib/python3.6/site-packages/sklearn/preprocessing/label.py:219: DataConversionWarning: A column-vector y was passed when a 1d array was expected. Please change the shape of y to (n_samples, ), for example using ravel().\n",
      "  y = column_or_1d(y, warn=True)\n",
      "/home/wopr/.local/lib/python3.6/site-packages/sklearn/preprocessing/label.py:252: DataConversionWarning: A column-vector y was passed when a 1d array was expected. Please change the shape of y to (n_samples, ), for example using ravel().\n",
      "  y = column_or_1d(y, warn=True)\n"
     ]
    },
    {
     "name": "stdout",
     "output_type": "stream",
     "text": [
      "Training until validation scores don't improve for 100 rounds.\n",
      "[100]\tvalid's auc: 0.751732\n",
      "[200]\tvalid's auc: 0.777132\n",
      "[300]\tvalid's auc: 0.790238\n",
      "[400]\tvalid's auc: 0.797542\n",
      "[500]\tvalid's auc: 0.803253\n",
      "[600]\tvalid's auc: 0.806154\n",
      "[700]\tvalid's auc: 0.808829\n",
      "[800]\tvalid's auc: 0.809964\n",
      "[900]\tvalid's auc: 0.811281\n",
      "[1000]\tvalid's auc: 0.812278\n",
      "[1100]\tvalid's auc: 0.813482\n",
      "[1200]\tvalid's auc: 0.81397\n",
      "[1300]\tvalid's auc: 0.813999\n",
      "Early stopping, best iteration is:\n",
      "[1275]\tvalid's auc: 0.814157\n"
     ]
    },
    {
     "name": "stderr",
     "output_type": "stream",
     "text": [
      "/home/wopr/.local/lib/python3.6/site-packages/sklearn/preprocessing/label.py:219: DataConversionWarning: A column-vector y was passed when a 1d array was expected. Please change the shape of y to (n_samples, ), for example using ravel().\n",
      "  y = column_or_1d(y, warn=True)\n",
      "/home/wopr/.local/lib/python3.6/site-packages/sklearn/preprocessing/label.py:252: DataConversionWarning: A column-vector y was passed when a 1d array was expected. Please change the shape of y to (n_samples, ), for example using ravel().\n",
      "  y = column_or_1d(y, warn=True)\n"
     ]
    },
    {
     "name": "stdout",
     "output_type": "stream",
     "text": [
      "Training until validation scores don't improve for 100 rounds.\n",
      "[100]\tvalid's auc: 0.750556\n",
      "[200]\tvalid's auc: 0.777128\n",
      "[300]\tvalid's auc: 0.790959\n",
      "[400]\tvalid's auc: 0.798706\n",
      "[500]\tvalid's auc: 0.803748\n",
      "[600]\tvalid's auc: 0.807214\n",
      "[700]\tvalid's auc: 0.809967\n",
      "[800]\tvalid's auc: 0.811896\n",
      "[900]\tvalid's auc: 0.812816\n",
      "[1000]\tvalid's auc: 0.813795\n",
      "[1100]\tvalid's auc: 0.814345\n",
      "[1200]\tvalid's auc: 0.814978\n",
      "[1300]\tvalid's auc: 0.815724\n",
      "[1400]\tvalid's auc: 0.815958\n",
      "Early stopping, best iteration is:\n",
      "[1371]\tvalid's auc: 0.816238\n"
     ]
    },
    {
     "name": "stderr",
     "output_type": "stream",
     "text": [
      "/home/wopr/.local/lib/python3.6/site-packages/sklearn/preprocessing/label.py:219: DataConversionWarning: A column-vector y was passed when a 1d array was expected. Please change the shape of y to (n_samples, ), for example using ravel().\n",
      "  y = column_or_1d(y, warn=True)\n",
      "/home/wopr/.local/lib/python3.6/site-packages/sklearn/preprocessing/label.py:252: DataConversionWarning: A column-vector y was passed when a 1d array was expected. Please change the shape of y to (n_samples, ), for example using ravel().\n",
      "  y = column_or_1d(y, warn=True)\n"
     ]
    },
    {
     "name": "stdout",
     "output_type": "stream",
     "text": [
      "Training until validation scores don't improve for 100 rounds.\n",
      "[100]\tvalid's auc: 0.5\n",
      "Early stopping, best iteration is:\n",
      "[1]\tvalid's auc: 0.5\n"
     ]
    },
    {
     "name": "stderr",
     "output_type": "stream",
     "text": [
      "/home/wopr/.local/lib/python3.6/site-packages/sklearn/preprocessing/label.py:219: DataConversionWarning: A column-vector y was passed when a 1d array was expected. Please change the shape of y to (n_samples, ), for example using ravel().\n",
      "  y = column_or_1d(y, warn=True)\n",
      "/home/wopr/.local/lib/python3.6/site-packages/sklearn/preprocessing/label.py:252: DataConversionWarning: A column-vector y was passed when a 1d array was expected. Please change the shape of y to (n_samples, ), for example using ravel().\n",
      "  y = column_or_1d(y, warn=True)\n"
     ]
    },
    {
     "name": "stdout",
     "output_type": "stream",
     "text": [
      "Training until validation scores don't improve for 100 rounds.\n",
      "[100]\tvalid's auc: 0.5\n",
      "Early stopping, best iteration is:\n",
      "[1]\tvalid's auc: 0.5\n"
     ]
    },
    {
     "name": "stderr",
     "output_type": "stream",
     "text": [
      "/home/wopr/.local/lib/python3.6/site-packages/sklearn/preprocessing/label.py:219: DataConversionWarning: A column-vector y was passed when a 1d array was expected. Please change the shape of y to (n_samples, ), for example using ravel().\n",
      "  y = column_or_1d(y, warn=True)\n",
      "/home/wopr/.local/lib/python3.6/site-packages/sklearn/preprocessing/label.py:252: DataConversionWarning: A column-vector y was passed when a 1d array was expected. Please change the shape of y to (n_samples, ), for example using ravel().\n",
      "  y = column_or_1d(y, warn=True)\n"
     ]
    },
    {
     "name": "stdout",
     "output_type": "stream",
     "text": [
      "Training until validation scores don't improve for 100 rounds.\n",
      "[100]\tvalid's auc: 0.5\n",
      "Early stopping, best iteration is:\n",
      "[1]\tvalid's auc: 0.5\n"
     ]
    },
    {
     "name": "stderr",
     "output_type": "stream",
     "text": [
      "/home/wopr/.local/lib/python3.6/site-packages/sklearn/preprocessing/label.py:219: DataConversionWarning: A column-vector y was passed when a 1d array was expected. Please change the shape of y to (n_samples, ), for example using ravel().\n",
      "  y = column_or_1d(y, warn=True)\n",
      "/home/wopr/.local/lib/python3.6/site-packages/sklearn/preprocessing/label.py:252: DataConversionWarning: A column-vector y was passed when a 1d array was expected. Please change the shape of y to (n_samples, ), for example using ravel().\n",
      "  y = column_or_1d(y, warn=True)\n"
     ]
    },
    {
     "name": "stdout",
     "output_type": "stream",
     "text": [
      "Training until validation scores don't improve for 100 rounds.\n",
      "[100]\tvalid's auc: 0.748275\n",
      "[200]\tvalid's auc: 0.774284\n",
      "[300]\tvalid's auc: 0.787489\n",
      "[400]\tvalid's auc: 0.793741\n",
      "[500]\tvalid's auc: 0.79861\n",
      "[600]\tvalid's auc: 0.802393\n",
      "[700]\tvalid's auc: 0.804621\n",
      "[800]\tvalid's auc: 0.805122\n",
      "Early stopping, best iteration is:\n",
      "[736]\tvalid's auc: 0.805122\n"
     ]
    },
    {
     "name": "stderr",
     "output_type": "stream",
     "text": [
      "/home/wopr/.local/lib/python3.6/site-packages/sklearn/preprocessing/label.py:219: DataConversionWarning: A column-vector y was passed when a 1d array was expected. Please change the shape of y to (n_samples, ), for example using ravel().\n",
      "  y = column_or_1d(y, warn=True)\n",
      "/home/wopr/.local/lib/python3.6/site-packages/sklearn/preprocessing/label.py:252: DataConversionWarning: A column-vector y was passed when a 1d array was expected. Please change the shape of y to (n_samples, ), for example using ravel().\n",
      "  y = column_or_1d(y, warn=True)\n"
     ]
    },
    {
     "name": "stdout",
     "output_type": "stream",
     "text": [
      "Training until validation scores don't improve for 100 rounds.\n",
      "[100]\tvalid's auc: 0.748625\n",
      "[200]\tvalid's auc: 0.773548\n",
      "[300]\tvalid's auc: 0.784996\n",
      "[400]\tvalid's auc: 0.79279\n",
      "[500]\tvalid's auc: 0.7985\n",
      "[600]\tvalid's auc: 0.801219\n",
      "[700]\tvalid's auc: 0.804476\n",
      "[800]\tvalid's auc: 0.804728\n",
      "Early stopping, best iteration is:\n",
      "[722]\tvalid's auc: 0.804737\n"
     ]
    },
    {
     "name": "stderr",
     "output_type": "stream",
     "text": [
      "/home/wopr/.local/lib/python3.6/site-packages/sklearn/preprocessing/label.py:219: DataConversionWarning: A column-vector y was passed when a 1d array was expected. Please change the shape of y to (n_samples, ), for example using ravel().\n",
      "  y = column_or_1d(y, warn=True)\n",
      "/home/wopr/.local/lib/python3.6/site-packages/sklearn/preprocessing/label.py:252: DataConversionWarning: A column-vector y was passed when a 1d array was expected. Please change the shape of y to (n_samples, ), for example using ravel().\n",
      "  y = column_or_1d(y, warn=True)\n"
     ]
    },
    {
     "name": "stdout",
     "output_type": "stream",
     "text": [
      "Training until validation scores don't improve for 100 rounds.\n",
      "[100]\tvalid's auc: 0.751534\n",
      "[200]\tvalid's auc: 0.776185\n",
      "[300]\tvalid's auc: 0.788737\n",
      "[400]\tvalid's auc: 0.796037\n",
      "[500]\tvalid's auc: 0.800774\n",
      "[600]\tvalid's auc: 0.804095\n",
      "[700]\tvalid's auc: 0.80647\n",
      "[800]\tvalid's auc: 0.807414\n",
      "Early stopping, best iteration is:\n",
      "[743]\tvalid's auc: 0.807415\n"
     ]
    },
    {
     "name": "stderr",
     "output_type": "stream",
     "text": [
      "/home/wopr/.local/lib/python3.6/site-packages/sklearn/preprocessing/label.py:219: DataConversionWarning: A column-vector y was passed when a 1d array was expected. Please change the shape of y to (n_samples, ), for example using ravel().\n",
      "  y = column_or_1d(y, warn=True)\n",
      "/home/wopr/.local/lib/python3.6/site-packages/sklearn/preprocessing/label.py:252: DataConversionWarning: A column-vector y was passed when a 1d array was expected. Please change the shape of y to (n_samples, ), for example using ravel().\n",
      "  y = column_or_1d(y, warn=True)\n"
     ]
    },
    {
     "name": "stdout",
     "output_type": "stream",
     "text": [
      "Training until validation scores don't improve for 100 rounds.\n",
      "[100]\tvalid's auc: 0.750945\n",
      "[200]\tvalid's auc: 0.777335\n",
      "[300]\tvalid's auc: 0.789548\n",
      "[400]\tvalid's auc: 0.796979\n",
      "[500]\tvalid's auc: 0.801941\n",
      "[600]\tvalid's auc: 0.806234\n",
      "[700]\tvalid's auc: 0.808511\n",
      "[800]\tvalid's auc: 0.810074\n",
      "[900]\tvalid's auc: 0.811514\n",
      "[1000]\tvalid's auc: 0.812904\n",
      "[1100]\tvalid's auc: 0.813877\n",
      "[1200]\tvalid's auc: 0.814343\n",
      "[1300]\tvalid's auc: 0.814432\n",
      "[1400]\tvalid's auc: 0.815175\n",
      "[1500]\tvalid's auc: 0.815643\n",
      "[1600]\tvalid's auc: 0.816034\n",
      "[1700]\tvalid's auc: 0.816264\n",
      "[1800]\tvalid's auc: 0.816623\n",
      "[1900]\tvalid's auc: 0.816501\n",
      "Early stopping, best iteration is:\n",
      "[1812]\tvalid's auc: 0.816735\n"
     ]
    },
    {
     "name": "stderr",
     "output_type": "stream",
     "text": [
      "/home/wopr/.local/lib/python3.6/site-packages/sklearn/preprocessing/label.py:219: DataConversionWarning: A column-vector y was passed when a 1d array was expected. Please change the shape of y to (n_samples, ), for example using ravel().\n",
      "  y = column_or_1d(y, warn=True)\n",
      "/home/wopr/.local/lib/python3.6/site-packages/sklearn/preprocessing/label.py:252: DataConversionWarning: A column-vector y was passed when a 1d array was expected. Please change the shape of y to (n_samples, ), for example using ravel().\n",
      "  y = column_or_1d(y, warn=True)\n"
     ]
    },
    {
     "name": "stdout",
     "output_type": "stream",
     "text": [
      "Training until validation scores don't improve for 100 rounds.\n",
      "[100]\tvalid's auc: 0.753608\n",
      "[200]\tvalid's auc: 0.779889\n",
      "[300]\tvalid's auc: 0.792619\n",
      "[400]\tvalid's auc: 0.799596\n",
      "[500]\tvalid's auc: 0.804035\n",
      "[600]\tvalid's auc: 0.80655\n",
      "[700]\tvalid's auc: 0.807956\n",
      "[800]\tvalid's auc: 0.80957\n",
      "[900]\tvalid's auc: 0.810936\n",
      "[1000]\tvalid's auc: 0.811875\n",
      "[1100]\tvalid's auc: 0.812866\n",
      "[1200]\tvalid's auc: 0.813301\n",
      "[1300]\tvalid's auc: 0.814038\n",
      "[1400]\tvalid's auc: 0.814736\n",
      "[1500]\tvalid's auc: 0.815083\n",
      "[1600]\tvalid's auc: 0.814959\n",
      "Early stopping, best iteration is:\n",
      "[1502]\tvalid's auc: 0.815107\n"
     ]
    },
    {
     "name": "stderr",
     "output_type": "stream",
     "text": [
      "/home/wopr/.local/lib/python3.6/site-packages/sklearn/preprocessing/label.py:219: DataConversionWarning: A column-vector y was passed when a 1d array was expected. Please change the shape of y to (n_samples, ), for example using ravel().\n",
      "  y = column_or_1d(y, warn=True)\n",
      "/home/wopr/.local/lib/python3.6/site-packages/sklearn/preprocessing/label.py:252: DataConversionWarning: A column-vector y was passed when a 1d array was expected. Please change the shape of y to (n_samples, ), for example using ravel().\n",
      "  y = column_or_1d(y, warn=True)\n"
     ]
    },
    {
     "name": "stdout",
     "output_type": "stream",
     "text": [
      "Training until validation scores don't improve for 100 rounds.\n",
      "[100]\tvalid's auc: 0.754278\n",
      "[200]\tvalid's auc: 0.779279\n",
      "[300]\tvalid's auc: 0.792355\n",
      "[400]\tvalid's auc: 0.800154\n",
      "[500]\tvalid's auc: 0.804731\n",
      "[600]\tvalid's auc: 0.808025\n",
      "[700]\tvalid's auc: 0.81006\n",
      "[800]\tvalid's auc: 0.811075\n",
      "[900]\tvalid's auc: 0.812171\n",
      "[1000]\tvalid's auc: 0.812733\n",
      "[1100]\tvalid's auc: 0.813349\n",
      "Early stopping, best iteration is:\n",
      "[1092]\tvalid's auc: 0.813471\n"
     ]
    },
    {
     "name": "stderr",
     "output_type": "stream",
     "text": [
      "/home/wopr/.local/lib/python3.6/site-packages/sklearn/preprocessing/label.py:219: DataConversionWarning: A column-vector y was passed when a 1d array was expected. Please change the shape of y to (n_samples, ), for example using ravel().\n",
      "  y = column_or_1d(y, warn=True)\n",
      "/home/wopr/.local/lib/python3.6/site-packages/sklearn/preprocessing/label.py:252: DataConversionWarning: A column-vector y was passed when a 1d array was expected. Please change the shape of y to (n_samples, ), for example using ravel().\n",
      "  y = column_or_1d(y, warn=True)\n"
     ]
    },
    {
     "name": "stdout",
     "output_type": "stream",
     "text": [
      "Training until validation scores don't improve for 100 rounds.\n",
      "[100]\tvalid's auc: 0.752931\n",
      "[200]\tvalid's auc: 0.778498\n",
      "[300]\tvalid's auc: 0.790711\n",
      "[400]\tvalid's auc: 0.797904\n",
      "[500]\tvalid's auc: 0.802456\n",
      "[600]\tvalid's auc: 0.805961\n",
      "[700]\tvalid's auc: 0.808347\n",
      "[800]\tvalid's auc: 0.810083\n",
      "[900]\tvalid's auc: 0.811696\n",
      "[1000]\tvalid's auc: 0.812974\n",
      "[1100]\tvalid's auc: 0.813764\n",
      "[1200]\tvalid's auc: 0.814416\n",
      "[1300]\tvalid's auc: 0.814709\n",
      "[1400]\tvalid's auc: 0.815506\n",
      "[1500]\tvalid's auc: 0.815647\n",
      "Early stopping, best iteration is:\n",
      "[1427]\tvalid's auc: 0.815653\n"
     ]
    },
    {
     "name": "stderr",
     "output_type": "stream",
     "text": [
      "/home/wopr/.local/lib/python3.6/site-packages/sklearn/preprocessing/label.py:219: DataConversionWarning: A column-vector y was passed when a 1d array was expected. Please change the shape of y to (n_samples, ), for example using ravel().\n",
      "  y = column_or_1d(y, warn=True)\n",
      "/home/wopr/.local/lib/python3.6/site-packages/sklearn/preprocessing/label.py:252: DataConversionWarning: A column-vector y was passed when a 1d array was expected. Please change the shape of y to (n_samples, ), for example using ravel().\n",
      "  y = column_or_1d(y, warn=True)\n"
     ]
    },
    {
     "name": "stdout",
     "output_type": "stream",
     "text": [
      "Training until validation scores don't improve for 100 rounds.\n",
      "[100]\tvalid's auc: 0.749934\n",
      "[200]\tvalid's auc: 0.773222\n",
      "[300]\tvalid's auc: 0.786708\n",
      "[400]\tvalid's auc: 0.7946\n",
      "[500]\tvalid's auc: 0.799812\n",
      "[600]\tvalid's auc: 0.802425\n",
      "[700]\tvalid's auc: 0.805133\n",
      "[800]\tvalid's auc: 0.80706\n",
      "[900]\tvalid's auc: 0.808439\n",
      "[1000]\tvalid's auc: 0.809071\n",
      "[1100]\tvalid's auc: 0.810282\n",
      "[1200]\tvalid's auc: 0.810838\n",
      "[1300]\tvalid's auc: 0.811724\n",
      "[1400]\tvalid's auc: 0.812416\n",
      "[1500]\tvalid's auc: 0.813197\n",
      "Early stopping, best iteration is:\n",
      "[1492]\tvalid's auc: 0.813254\n"
     ]
    },
    {
     "name": "stderr",
     "output_type": "stream",
     "text": [
      "/home/wopr/.local/lib/python3.6/site-packages/sklearn/preprocessing/label.py:219: DataConversionWarning: A column-vector y was passed when a 1d array was expected. Please change the shape of y to (n_samples, ), for example using ravel().\n",
      "  y = column_or_1d(y, warn=True)\n",
      "/home/wopr/.local/lib/python3.6/site-packages/sklearn/preprocessing/label.py:252: DataConversionWarning: A column-vector y was passed when a 1d array was expected. Please change the shape of y to (n_samples, ), for example using ravel().\n",
      "  y = column_or_1d(y, warn=True)\n"
     ]
    },
    {
     "name": "stdout",
     "output_type": "stream",
     "text": [
      "Training until validation scores don't improve for 100 rounds.\n",
      "[100]\tvalid's auc: 0.750845\n",
      "[200]\tvalid's auc: 0.775594\n",
      "[300]\tvalid's auc: 0.786337\n",
      "[400]\tvalid's auc: 0.794021\n",
      "[500]\tvalid's auc: 0.799832\n",
      "[600]\tvalid's auc: 0.802659\n",
      "[700]\tvalid's auc: 0.80533\n",
      "[800]\tvalid's auc: 0.807182\n",
      "[900]\tvalid's auc: 0.808573\n",
      "[1000]\tvalid's auc: 0.80941\n",
      "[1100]\tvalid's auc: 0.810024\n",
      "[1200]\tvalid's auc: 0.810952\n",
      "[1300]\tvalid's auc: 0.811511\n",
      "[1400]\tvalid's auc: 0.81226\n",
      "[1500]\tvalid's auc: 0.812752\n",
      "[1600]\tvalid's auc: 0.812859\n",
      "Early stopping, best iteration is:\n",
      "[1528]\tvalid's auc: 0.812859\n"
     ]
    },
    {
     "name": "stderr",
     "output_type": "stream",
     "text": [
      "/home/wopr/.local/lib/python3.6/site-packages/sklearn/preprocessing/label.py:219: DataConversionWarning: A column-vector y was passed when a 1d array was expected. Please change the shape of y to (n_samples, ), for example using ravel().\n",
      "  y = column_or_1d(y, warn=True)\n",
      "/home/wopr/.local/lib/python3.6/site-packages/sklearn/preprocessing/label.py:252: DataConversionWarning: A column-vector y was passed when a 1d array was expected. Please change the shape of y to (n_samples, ), for example using ravel().\n",
      "  y = column_or_1d(y, warn=True)\n"
     ]
    },
    {
     "name": "stdout",
     "output_type": "stream",
     "text": [
      "Training until validation scores don't improve for 100 rounds.\n",
      "[100]\tvalid's auc: 0.731615\n",
      "[200]\tvalid's auc: 0.760956\n",
      "[300]\tvalid's auc: 0.775661\n",
      "[400]\tvalid's auc: 0.785692\n",
      "[500]\tvalid's auc: 0.791865\n",
      "[600]\tvalid's auc: 0.796986\n",
      "[700]\tvalid's auc: 0.800818\n",
      "[800]\tvalid's auc: 0.803911\n",
      "[900]\tvalid's auc: 0.806432\n",
      "[1000]\tvalid's auc: 0.808468\n",
      "[1100]\tvalid's auc: 0.810508\n",
      "[1200]\tvalid's auc: 0.811651\n",
      "[1300]\tvalid's auc: 0.812437\n",
      "[1400]\tvalid's auc: 0.813125\n",
      "[1500]\tvalid's auc: 0.813821\n",
      "[1600]\tvalid's auc: 0.814881\n",
      "[1700]\tvalid's auc: 0.815369\n",
      "[1800]\tvalid's auc: 0.815592\n",
      "[1900]\tvalid's auc: 0.815964\n",
      "[2000]\tvalid's auc: 0.816404\n",
      "[2100]\tvalid's auc: 0.816601\n",
      "[2200]\tvalid's auc: 0.816921\n",
      "[2300]\tvalid's auc: 0.817047\n",
      "Early stopping, best iteration is:\n",
      "[2296]\tvalid's auc: 0.817082\n"
     ]
    },
    {
     "name": "stderr",
     "output_type": "stream",
     "text": [
      "/home/wopr/.local/lib/python3.6/site-packages/sklearn/preprocessing/label.py:219: DataConversionWarning: A column-vector y was passed when a 1d array was expected. Please change the shape of y to (n_samples, ), for example using ravel().\n",
      "  y = column_or_1d(y, warn=True)\n",
      "/home/wopr/.local/lib/python3.6/site-packages/sklearn/preprocessing/label.py:252: DataConversionWarning: A column-vector y was passed when a 1d array was expected. Please change the shape of y to (n_samples, ), for example using ravel().\n",
      "  y = column_or_1d(y, warn=True)\n"
     ]
    },
    {
     "name": "stdout",
     "output_type": "stream",
     "text": [
      "Training until validation scores don't improve for 100 rounds.\n",
      "[100]\tvalid's auc: 0.732143\n",
      "[200]\tvalid's auc: 0.759378\n",
      "[300]\tvalid's auc: 0.77477\n",
      "[400]\tvalid's auc: 0.784578\n",
      "[500]\tvalid's auc: 0.791624\n",
      "[600]\tvalid's auc: 0.796607\n",
      "[700]\tvalid's auc: 0.799936\n",
      "[800]\tvalid's auc: 0.803481\n",
      "[900]\tvalid's auc: 0.806036\n",
      "[1000]\tvalid's auc: 0.808189\n",
      "[1100]\tvalid's auc: 0.809589\n",
      "[1200]\tvalid's auc: 0.810747\n",
      "[1300]\tvalid's auc: 0.811641\n",
      "[1400]\tvalid's auc: 0.812785\n",
      "[1500]\tvalid's auc: 0.813293\n",
      "[1600]\tvalid's auc: 0.814268\n",
      "[1700]\tvalid's auc: 0.814988\n",
      "[1800]\tvalid's auc: 0.815503\n",
      "[1900]\tvalid's auc: 0.815857\n",
      "[2000]\tvalid's auc: 0.816123\n",
      "[2100]\tvalid's auc: 0.816525\n",
      "[2200]\tvalid's auc: 0.816887\n",
      "[2300]\tvalid's auc: 0.817316\n",
      "[2400]\tvalid's auc: 0.817333\n",
      "[2500]\tvalid's auc: 0.817414\n",
      "[2600]\tvalid's auc: 0.81729\n",
      "Early stopping, best iteration is:\n",
      "[2512]\tvalid's auc: 0.817526\n"
     ]
    },
    {
     "name": "stderr",
     "output_type": "stream",
     "text": [
      "/home/wopr/.local/lib/python3.6/site-packages/sklearn/preprocessing/label.py:219: DataConversionWarning: A column-vector y was passed when a 1d array was expected. Please change the shape of y to (n_samples, ), for example using ravel().\n",
      "  y = column_or_1d(y, warn=True)\n",
      "/home/wopr/.local/lib/python3.6/site-packages/sklearn/preprocessing/label.py:252: DataConversionWarning: A column-vector y was passed when a 1d array was expected. Please change the shape of y to (n_samples, ), for example using ravel().\n",
      "  y = column_or_1d(y, warn=True)\n"
     ]
    },
    {
     "name": "stdout",
     "output_type": "stream",
     "text": [
      "Training until validation scores don't improve for 100 rounds.\n",
      "[100]\tvalid's auc: 0.732467\n",
      "[200]\tvalid's auc: 0.760338\n",
      "[300]\tvalid's auc: 0.775807\n",
      "[400]\tvalid's auc: 0.785119\n",
      "[500]\tvalid's auc: 0.791426\n",
      "[600]\tvalid's auc: 0.796957\n",
      "[700]\tvalid's auc: 0.800807\n",
      "[800]\tvalid's auc: 0.803386\n",
      "[900]\tvalid's auc: 0.805585\n",
      "[1000]\tvalid's auc: 0.807553\n",
      "[1100]\tvalid's auc: 0.809392\n",
      "[1200]\tvalid's auc: 0.81054\n",
      "[1300]\tvalid's auc: 0.811911\n",
      "[1400]\tvalid's auc: 0.81265\n",
      "[1500]\tvalid's auc: 0.813241\n",
      "[1600]\tvalid's auc: 0.814134\n",
      "[1700]\tvalid's auc: 0.814954\n",
      "[1800]\tvalid's auc: 0.815101\n",
      "[1900]\tvalid's auc: 0.815523\n",
      "[2000]\tvalid's auc: 0.815675\n",
      "[2100]\tvalid's auc: 0.815974\n",
      "[2200]\tvalid's auc: 0.816264\n",
      "[2300]\tvalid's auc: 0.81648\n",
      "Early stopping, best iteration is:\n",
      "[2278]\tvalid's auc: 0.816599\n"
     ]
    },
    {
     "name": "stderr",
     "output_type": "stream",
     "text": [
      "/home/wopr/.local/lib/python3.6/site-packages/sklearn/preprocessing/label.py:219: DataConversionWarning: A column-vector y was passed when a 1d array was expected. Please change the shape of y to (n_samples, ), for example using ravel().\n",
      "  y = column_or_1d(y, warn=True)\n",
      "/home/wopr/.local/lib/python3.6/site-packages/sklearn/preprocessing/label.py:252: DataConversionWarning: A column-vector y was passed when a 1d array was expected. Please change the shape of y to (n_samples, ), for example using ravel().\n",
      "  y = column_or_1d(y, warn=True)\n"
     ]
    },
    {
     "name": "stdout",
     "output_type": "stream",
     "text": [
      "Training until validation scores don't improve for 100 rounds.\n",
      "[100]\tvalid's auc: 0.726959\n",
      "[200]\tvalid's auc: 0.757163\n",
      "[300]\tvalid's auc: 0.772747\n",
      "[400]\tvalid's auc: 0.782277\n",
      "[500]\tvalid's auc: 0.789201\n",
      "[600]\tvalid's auc: 0.794699\n",
      "[700]\tvalid's auc: 0.798712\n",
      "[800]\tvalid's auc: 0.80197\n",
      "[900]\tvalid's auc: 0.803919\n",
      "[1000]\tvalid's auc: 0.805785\n",
      "[1100]\tvalid's auc: 0.807125\n",
      "[1200]\tvalid's auc: 0.808666\n",
      "[1300]\tvalid's auc: 0.810005\n",
      "[1400]\tvalid's auc: 0.811371\n",
      "[1500]\tvalid's auc: 0.81231\n",
      "[1600]\tvalid's auc: 0.812986\n",
      "[1700]\tvalid's auc: 0.813836\n",
      "[1800]\tvalid's auc: 0.814414\n",
      "[1900]\tvalid's auc: 0.815164\n",
      "[2000]\tvalid's auc: 0.815579\n",
      "[2100]\tvalid's auc: 0.815919\n",
      "[2200]\tvalid's auc: 0.816008\n",
      "[2300]\tvalid's auc: 0.816423\n",
      "[2400]\tvalid's auc: 0.816574\n",
      "[2500]\tvalid's auc: 0.816752\n",
      "[2600]\tvalid's auc: 0.816891\n",
      "Early stopping, best iteration is:\n",
      "[2571]\tvalid's auc: 0.816987\n"
     ]
    },
    {
     "name": "stderr",
     "output_type": "stream",
     "text": [
      "/home/wopr/.local/lib/python3.6/site-packages/sklearn/preprocessing/label.py:219: DataConversionWarning: A column-vector y was passed when a 1d array was expected. Please change the shape of y to (n_samples, ), for example using ravel().\n",
      "  y = column_or_1d(y, warn=True)\n",
      "/home/wopr/.local/lib/python3.6/site-packages/sklearn/preprocessing/label.py:252: DataConversionWarning: A column-vector y was passed when a 1d array was expected. Please change the shape of y to (n_samples, ), for example using ravel().\n",
      "  y = column_or_1d(y, warn=True)\n"
     ]
    },
    {
     "name": "stdout",
     "output_type": "stream",
     "text": [
      "Training until validation scores don't improve for 100 rounds.\n",
      "[100]\tvalid's auc: 0.729718\n",
      "[200]\tvalid's auc: 0.758825\n",
      "[300]\tvalid's auc: 0.773294\n",
      "[400]\tvalid's auc: 0.78292\n",
      "[500]\tvalid's auc: 0.789366\n",
      "[600]\tvalid's auc: 0.794519\n",
      "[700]\tvalid's auc: 0.798059\n",
      "[800]\tvalid's auc: 0.801169\n",
      "[900]\tvalid's auc: 0.803532\n",
      "[1000]\tvalid's auc: 0.805635\n",
      "[1100]\tvalid's auc: 0.807806\n",
      "[1200]\tvalid's auc: 0.809264\n",
      "[1300]\tvalid's auc: 0.810265\n",
      "[1400]\tvalid's auc: 0.811591\n",
      "[1500]\tvalid's auc: 0.812853\n",
      "[1600]\tvalid's auc: 0.813554\n",
      "[1700]\tvalid's auc: 0.814175\n",
      "[1800]\tvalid's auc: 0.814763\n",
      "[1900]\tvalid's auc: 0.81498\n",
      "[2000]\tvalid's auc: 0.815319\n",
      "[2100]\tvalid's auc: 0.815821\n",
      "[2200]\tvalid's auc: 0.816354\n",
      "[2300]\tvalid's auc: 0.816478\n",
      "Early stopping, best iteration is:\n",
      "[2281]\tvalid's auc: 0.816571\n"
     ]
    },
    {
     "name": "stderr",
     "output_type": "stream",
     "text": [
      "/home/wopr/.local/lib/python3.6/site-packages/sklearn/preprocessing/label.py:219: DataConversionWarning: A column-vector y was passed when a 1d array was expected. Please change the shape of y to (n_samples, ), for example using ravel().\n",
      "  y = column_or_1d(y, warn=True)\n",
      "/home/wopr/.local/lib/python3.6/site-packages/sklearn/preprocessing/label.py:252: DataConversionWarning: A column-vector y was passed when a 1d array was expected. Please change the shape of y to (n_samples, ), for example using ravel().\n",
      "  y = column_or_1d(y, warn=True)\n"
     ]
    },
    {
     "name": "stdout",
     "output_type": "stream",
     "text": [
      "Training until validation scores don't improve for 100 rounds.\n",
      "[100]\tvalid's auc: 0.727782\n",
      "[200]\tvalid's auc: 0.757634\n",
      "[300]\tvalid's auc: 0.771625\n",
      "[400]\tvalid's auc: 0.78228\n",
      "[500]\tvalid's auc: 0.78897\n",
      "[600]\tvalid's auc: 0.793549\n",
      "[700]\tvalid's auc: 0.798172\n",
      "[800]\tvalid's auc: 0.801432\n",
      "[900]\tvalid's auc: 0.803956\n",
      "[1000]\tvalid's auc: 0.805888\n",
      "[1100]\tvalid's auc: 0.807142\n",
      "[1200]\tvalid's auc: 0.808918\n",
      "[1300]\tvalid's auc: 0.810242\n",
      "[1400]\tvalid's auc: 0.811198\n",
      "[1500]\tvalid's auc: 0.812156\n",
      "[1600]\tvalid's auc: 0.812694\n",
      "[1700]\tvalid's auc: 0.813356\n",
      "[1800]\tvalid's auc: 0.813696\n",
      "[1900]\tvalid's auc: 0.813982\n",
      "[2000]\tvalid's auc: 0.814701\n",
      "[2100]\tvalid's auc: 0.815016\n",
      "[2200]\tvalid's auc: 0.815698\n",
      "[2300]\tvalid's auc: 0.815648\n",
      "Early stopping, best iteration is:\n",
      "[2237]\tvalid's auc: 0.815865\n"
     ]
    },
    {
     "name": "stderr",
     "output_type": "stream",
     "text": [
      "/home/wopr/.local/lib/python3.6/site-packages/sklearn/preprocessing/label.py:219: DataConversionWarning: A column-vector y was passed when a 1d array was expected. Please change the shape of y to (n_samples, ), for example using ravel().\n",
      "  y = column_or_1d(y, warn=True)\n",
      "/home/wopr/.local/lib/python3.6/site-packages/sklearn/preprocessing/label.py:252: DataConversionWarning: A column-vector y was passed when a 1d array was expected. Please change the shape of y to (n_samples, ), for example using ravel().\n",
      "  y = column_or_1d(y, warn=True)\n"
     ]
    },
    {
     "name": "stdout",
     "output_type": "stream",
     "text": [
      "Training until validation scores don't improve for 100 rounds.\n",
      "[100]\tvalid's auc: 0.739143\n",
      "[200]\tvalid's auc: 0.765463\n",
      "[300]\tvalid's auc: 0.780657\n",
      "[400]\tvalid's auc: 0.789231\n",
      "[500]\tvalid's auc: 0.794082\n",
      "[600]\tvalid's auc: 0.798215\n",
      "[700]\tvalid's auc: 0.801183\n",
      "[800]\tvalid's auc: 0.803744\n",
      "[900]\tvalid's auc: 0.806199\n",
      "[1000]\tvalid's auc: 0.807702\n",
      "[1100]\tvalid's auc: 0.808315\n",
      "Early stopping, best iteration is:\n",
      "[1034]\tvalid's auc: 0.808321\n"
     ]
    },
    {
     "name": "stderr",
     "output_type": "stream",
     "text": [
      "/home/wopr/.local/lib/python3.6/site-packages/sklearn/preprocessing/label.py:219: DataConversionWarning: A column-vector y was passed when a 1d array was expected. Please change the shape of y to (n_samples, ), for example using ravel().\n",
      "  y = column_or_1d(y, warn=True)\n",
      "/home/wopr/.local/lib/python3.6/site-packages/sklearn/preprocessing/label.py:252: DataConversionWarning: A column-vector y was passed when a 1d array was expected. Please change the shape of y to (n_samples, ), for example using ravel().\n",
      "  y = column_or_1d(y, warn=True)\n"
     ]
    },
    {
     "name": "stdout",
     "output_type": "stream",
     "text": [
      "Training until validation scores don't improve for 100 rounds.\n",
      "[100]\tvalid's auc: 0.735757\n",
      "[200]\tvalid's auc: 0.764062\n",
      "[300]\tvalid's auc: 0.777664\n",
      "[400]\tvalid's auc: 0.784978\n",
      "[500]\tvalid's auc: 0.79005\n",
      "[600]\tvalid's auc: 0.794567\n",
      "[700]\tvalid's auc: 0.798115\n",
      "[800]\tvalid's auc: 0.800631\n",
      "[900]\tvalid's auc: 0.802721\n",
      "[1000]\tvalid's auc: 0.804095\n",
      "[1100]\tvalid's auc: 0.804891\n",
      "Early stopping, best iteration is:\n",
      "[1039]\tvalid's auc: 0.804891\n"
     ]
    },
    {
     "name": "stderr",
     "output_type": "stream",
     "text": [
      "/home/wopr/.local/lib/python3.6/site-packages/sklearn/preprocessing/label.py:219: DataConversionWarning: A column-vector y was passed when a 1d array was expected. Please change the shape of y to (n_samples, ), for example using ravel().\n",
      "  y = column_or_1d(y, warn=True)\n",
      "/home/wopr/.local/lib/python3.6/site-packages/sklearn/preprocessing/label.py:252: DataConversionWarning: A column-vector y was passed when a 1d array was expected. Please change the shape of y to (n_samples, ), for example using ravel().\n",
      "  y = column_or_1d(y, warn=True)\n"
     ]
    },
    {
     "name": "stdout",
     "output_type": "stream",
     "text": [
      "Training until validation scores don't improve for 100 rounds.\n",
      "[100]\tvalid's auc: 0.738315\n",
      "[200]\tvalid's auc: 0.766789\n",
      "[300]\tvalid's auc: 0.780623\n",
      "[400]\tvalid's auc: 0.788298\n",
      "[500]\tvalid's auc: 0.792552\n",
      "[600]\tvalid's auc: 0.796884\n",
      "[700]\tvalid's auc: 0.800494\n",
      "[800]\tvalid's auc: 0.802797\n",
      "[900]\tvalid's auc: 0.805265\n",
      "[1000]\tvalid's auc: 0.807206\n",
      "[1100]\tvalid's auc: 0.808139\n",
      "Early stopping, best iteration is:\n",
      "[1077]\tvalid's auc: 0.808139\n"
     ]
    },
    {
     "name": "stderr",
     "output_type": "stream",
     "text": [
      "/home/wopr/.local/lib/python3.6/site-packages/sklearn/preprocessing/label.py:219: DataConversionWarning: A column-vector y was passed when a 1d array was expected. Please change the shape of y to (n_samples, ), for example using ravel().\n",
      "  y = column_or_1d(y, warn=True)\n",
      "/home/wopr/.local/lib/python3.6/site-packages/sklearn/preprocessing/label.py:252: DataConversionWarning: A column-vector y was passed when a 1d array was expected. Please change the shape of y to (n_samples, ), for example using ravel().\n",
      "  y = column_or_1d(y, warn=True)\n"
     ]
    },
    {
     "name": "stdout",
     "output_type": "stream",
     "text": [
      "Training until validation scores don't improve for 100 rounds.\n",
      "[100]\tvalid's auc: 0.744773\n",
      "[200]\tvalid's auc: 0.773381\n",
      "[300]\tvalid's auc: 0.786984\n",
      "[400]\tvalid's auc: 0.79471\n",
      "[500]\tvalid's auc: 0.797528\n",
      "[600]\tvalid's auc: 0.79964\n",
      "[700]\tvalid's auc: 0.800883\n",
      "[800]\tvalid's auc: 0.802535\n",
      "[900]\tvalid's auc: 0.802935\n",
      "[1000]\tvalid's auc: 0.803403\n",
      "[1100]\tvalid's auc: 0.803738\n",
      "[1200]\tvalid's auc: 0.80412\n",
      "[1300]\tvalid's auc: 0.80461\n",
      "[1400]\tvalid's auc: 0.80519\n",
      "[1500]\tvalid's auc: 0.80551\n",
      "[1600]\tvalid's auc: 0.805724\n",
      "[1700]\tvalid's auc: 0.805857\n",
      "[1800]\tvalid's auc: 0.80619\n",
      "[1900]\tvalid's auc: 0.806277\n",
      "Early stopping, best iteration is:\n",
      "[1861]\tvalid's auc: 0.806432\n"
     ]
    },
    {
     "name": "stderr",
     "output_type": "stream",
     "text": [
      "/home/wopr/.local/lib/python3.6/site-packages/sklearn/preprocessing/label.py:219: DataConversionWarning: A column-vector y was passed when a 1d array was expected. Please change the shape of y to (n_samples, ), for example using ravel().\n",
      "  y = column_or_1d(y, warn=True)\n",
      "/home/wopr/.local/lib/python3.6/site-packages/sklearn/preprocessing/label.py:252: DataConversionWarning: A column-vector y was passed when a 1d array was expected. Please change the shape of y to (n_samples, ), for example using ravel().\n",
      "  y = column_or_1d(y, warn=True)\n"
     ]
    },
    {
     "name": "stdout",
     "output_type": "stream",
     "text": [
      "Training until validation scores don't improve for 100 rounds.\n",
      "[100]\tvalid's auc: 0.741041\n",
      "[200]\tvalid's auc: 0.769081\n",
      "[300]\tvalid's auc: 0.78347\n",
      "[400]\tvalid's auc: 0.791363\n",
      "[500]\tvalid's auc: 0.79542\n",
      "[600]\tvalid's auc: 0.797906\n",
      "[700]\tvalid's auc: 0.798995\n",
      "[800]\tvalid's auc: 0.800087\n",
      "[900]\tvalid's auc: 0.801086\n",
      "[1000]\tvalid's auc: 0.801437\n",
      "[1100]\tvalid's auc: 0.801355\n",
      "[1200]\tvalid's auc: 0.801513\n",
      "Early stopping, best iteration is:\n",
      "[1154]\tvalid's auc: 0.802089\n"
     ]
    },
    {
     "name": "stderr",
     "output_type": "stream",
     "text": [
      "/home/wopr/.local/lib/python3.6/site-packages/sklearn/preprocessing/label.py:219: DataConversionWarning: A column-vector y was passed when a 1d array was expected. Please change the shape of y to (n_samples, ), for example using ravel().\n",
      "  y = column_or_1d(y, warn=True)\n",
      "/home/wopr/.local/lib/python3.6/site-packages/sklearn/preprocessing/label.py:252: DataConversionWarning: A column-vector y was passed when a 1d array was expected. Please change the shape of y to (n_samples, ), for example using ravel().\n",
      "  y = column_or_1d(y, warn=True)\n"
     ]
    },
    {
     "name": "stdout",
     "output_type": "stream",
     "text": [
      "Training until validation scores don't improve for 100 rounds.\n",
      "[100]\tvalid's auc: 0.738196\n",
      "[200]\tvalid's auc: 0.766528\n",
      "[300]\tvalid's auc: 0.781154\n",
      "[400]\tvalid's auc: 0.7877\n",
      "[500]\tvalid's auc: 0.792691\n",
      "[600]\tvalid's auc: 0.795506\n",
      "[700]\tvalid's auc: 0.797631\n",
      "[800]\tvalid's auc: 0.798456\n",
      "[900]\tvalid's auc: 0.798555\n",
      "Early stopping, best iteration is:\n",
      "[837]\tvalid's auc: 0.798856\n"
     ]
    },
    {
     "name": "stderr",
     "output_type": "stream",
     "text": [
      "/home/wopr/.local/lib/python3.6/site-packages/sklearn/preprocessing/label.py:219: DataConversionWarning: A column-vector y was passed when a 1d array was expected. Please change the shape of y to (n_samples, ), for example using ravel().\n",
      "  y = column_or_1d(y, warn=True)\n",
      "/home/wopr/.local/lib/python3.6/site-packages/sklearn/preprocessing/label.py:252: DataConversionWarning: A column-vector y was passed when a 1d array was expected. Please change the shape of y to (n_samples, ), for example using ravel().\n",
      "  y = column_or_1d(y, warn=True)\n"
     ]
    },
    {
     "name": "stdout",
     "output_type": "stream",
     "text": [
      "Training until validation scores don't improve for 100 rounds.\n",
      "[100]\tvalid's auc: 0.5\n",
      "Early stopping, best iteration is:\n",
      "[1]\tvalid's auc: 0.5\n"
     ]
    },
    {
     "name": "stderr",
     "output_type": "stream",
     "text": [
      "/home/wopr/.local/lib/python3.6/site-packages/sklearn/preprocessing/label.py:219: DataConversionWarning: A column-vector y was passed when a 1d array was expected. Please change the shape of y to (n_samples, ), for example using ravel().\n",
      "  y = column_or_1d(y, warn=True)\n",
      "/home/wopr/.local/lib/python3.6/site-packages/sklearn/preprocessing/label.py:252: DataConversionWarning: A column-vector y was passed when a 1d array was expected. Please change the shape of y to (n_samples, ), for example using ravel().\n",
      "  y = column_or_1d(y, warn=True)\n"
     ]
    },
    {
     "name": "stdout",
     "output_type": "stream",
     "text": [
      "Training until validation scores don't improve for 100 rounds.\n",
      "[100]\tvalid's auc: 0.5\n",
      "Early stopping, best iteration is:\n",
      "[1]\tvalid's auc: 0.5\n"
     ]
    },
    {
     "name": "stderr",
     "output_type": "stream",
     "text": [
      "/home/wopr/.local/lib/python3.6/site-packages/sklearn/preprocessing/label.py:219: DataConversionWarning: A column-vector y was passed when a 1d array was expected. Please change the shape of y to (n_samples, ), for example using ravel().\n",
      "  y = column_or_1d(y, warn=True)\n",
      "/home/wopr/.local/lib/python3.6/site-packages/sklearn/preprocessing/label.py:252: DataConversionWarning: A column-vector y was passed when a 1d array was expected. Please change the shape of y to (n_samples, ), for example using ravel().\n",
      "  y = column_or_1d(y, warn=True)\n"
     ]
    },
    {
     "name": "stdout",
     "output_type": "stream",
     "text": [
      "Training until validation scores don't improve for 100 rounds.\n",
      "[100]\tvalid's auc: 0.5\n",
      "Early stopping, best iteration is:\n",
      "[1]\tvalid's auc: 0.5\n"
     ]
    },
    {
     "name": "stderr",
     "output_type": "stream",
     "text": [
      "/home/wopr/.local/lib/python3.6/site-packages/sklearn/preprocessing/label.py:219: DataConversionWarning: A column-vector y was passed when a 1d array was expected. Please change the shape of y to (n_samples, ), for example using ravel().\n",
      "  y = column_or_1d(y, warn=True)\n",
      "/home/wopr/.local/lib/python3.6/site-packages/sklearn/preprocessing/label.py:252: DataConversionWarning: A column-vector y was passed when a 1d array was expected. Please change the shape of y to (n_samples, ), for example using ravel().\n",
      "  y = column_or_1d(y, warn=True)\n"
     ]
    },
    {
     "name": "stdout",
     "output_type": "stream",
     "text": [
      "Training until validation scores don't improve for 100 rounds.\n",
      "[100]\tvalid's auc: 0.759442\n",
      "[200]\tvalid's auc: 0.783817\n",
      "[300]\tvalid's auc: 0.794472\n",
      "[400]\tvalid's auc: 0.800179\n",
      "[500]\tvalid's auc: 0.801777\n",
      "[600]\tvalid's auc: 0.804236\n",
      "[700]\tvalid's auc: 0.805421\n",
      "[800]\tvalid's auc: 0.806867\n",
      "[900]\tvalid's auc: 0.808082\n",
      "[1000]\tvalid's auc: 0.809105\n",
      "[1100]\tvalid's auc: 0.809232\n",
      "Early stopping, best iteration is:\n",
      "[1048]\tvalid's auc: 0.809529\n"
     ]
    },
    {
     "name": "stderr",
     "output_type": "stream",
     "text": [
      "/home/wopr/.local/lib/python3.6/site-packages/sklearn/preprocessing/label.py:219: DataConversionWarning: A column-vector y was passed when a 1d array was expected. Please change the shape of y to (n_samples, ), for example using ravel().\n",
      "  y = column_or_1d(y, warn=True)\n",
      "/home/wopr/.local/lib/python3.6/site-packages/sklearn/preprocessing/label.py:252: DataConversionWarning: A column-vector y was passed when a 1d array was expected. Please change the shape of y to (n_samples, ), for example using ravel().\n",
      "  y = column_or_1d(y, warn=True)\n"
     ]
    },
    {
     "name": "stdout",
     "output_type": "stream",
     "text": [
      "Training until validation scores don't improve for 100 rounds.\n",
      "[100]\tvalid's auc: 0.765145\n",
      "[200]\tvalid's auc: 0.787012\n",
      "[300]\tvalid's auc: 0.796466\n",
      "[400]\tvalid's auc: 0.801382\n",
      "[500]\tvalid's auc: 0.804239\n",
      "[600]\tvalid's auc: 0.805551\n",
      "[700]\tvalid's auc: 0.807113\n",
      "[800]\tvalid's auc: 0.80835\n",
      "[900]\tvalid's auc: 0.808689\n",
      "[1000]\tvalid's auc: 0.80898\n",
      "Early stopping, best iteration is:\n",
      "[931]\tvalid's auc: 0.809199\n"
     ]
    },
    {
     "name": "stderr",
     "output_type": "stream",
     "text": [
      "/home/wopr/.local/lib/python3.6/site-packages/sklearn/preprocessing/label.py:219: DataConversionWarning: A column-vector y was passed when a 1d array was expected. Please change the shape of y to (n_samples, ), for example using ravel().\n",
      "  y = column_or_1d(y, warn=True)\n",
      "/home/wopr/.local/lib/python3.6/site-packages/sklearn/preprocessing/label.py:252: DataConversionWarning: A column-vector y was passed when a 1d array was expected. Please change the shape of y to (n_samples, ), for example using ravel().\n",
      "  y = column_or_1d(y, warn=True)\n"
     ]
    },
    {
     "name": "stdout",
     "output_type": "stream",
     "text": [
      "Training until validation scores don't improve for 100 rounds.\n",
      "[100]\tvalid's auc: 0.761559\n",
      "[200]\tvalid's auc: 0.785203\n",
      "[300]\tvalid's auc: 0.796047\n",
      "[400]\tvalid's auc: 0.800904\n",
      "[500]\tvalid's auc: 0.803282\n",
      "[600]\tvalid's auc: 0.803678\n",
      "[700]\tvalid's auc: 0.804823\n",
      "[800]\tvalid's auc: 0.806345\n",
      "[900]\tvalid's auc: 0.807296\n",
      "[1000]\tvalid's auc: 0.808175\n",
      "[1100]\tvalid's auc: 0.808545\n",
      "[1200]\tvalid's auc: 0.809422\n",
      "[1300]\tvalid's auc: 0.810318\n",
      "[1400]\tvalid's auc: 0.810914\n",
      "[1500]\tvalid's auc: 0.811338\n",
      "[1600]\tvalid's auc: 0.811685\n",
      "[1700]\tvalid's auc: 0.811966\n",
      "[1800]\tvalid's auc: 0.812246\n",
      "[1900]\tvalid's auc: 0.812473\n",
      "[2000]\tvalid's auc: 0.812591\n",
      "[2100]\tvalid's auc: 0.812803\n",
      "[2200]\tvalid's auc: 0.812915\n",
      "[2300]\tvalid's auc: 0.812973\n",
      "[2400]\tvalid's auc: 0.813238\n",
      "[2500]\tvalid's auc: 0.813531\n",
      "[2600]\tvalid's auc: 0.813783\n",
      "[2700]\tvalid's auc: 0.81397\n",
      "[2800]\tvalid's auc: 0.813962\n",
      "[2900]\tvalid's auc: 0.814081\n",
      "[3000]\tvalid's auc: 0.81437\n",
      "[3100]\tvalid's auc: 0.814546\n",
      "Early stopping, best iteration is:\n",
      "[3095]\tvalid's auc: 0.814605\n"
     ]
    },
    {
     "name": "stderr",
     "output_type": "stream",
     "text": [
      "/home/wopr/.local/lib/python3.6/site-packages/sklearn/preprocessing/label.py:219: DataConversionWarning: A column-vector y was passed when a 1d array was expected. Please change the shape of y to (n_samples, ), for example using ravel().\n",
      "  y = column_or_1d(y, warn=True)\n",
      "/home/wopr/.local/lib/python3.6/site-packages/sklearn/preprocessing/label.py:252: DataConversionWarning: A column-vector y was passed when a 1d array was expected. Please change the shape of y to (n_samples, ), for example using ravel().\n",
      "  y = column_or_1d(y, warn=True)\n"
     ]
    },
    {
     "name": "stdout",
     "output_type": "stream",
     "text": [
      "Training until validation scores don't improve for 100 rounds.\n",
      "[100]\tvalid's auc: 0.5\n",
      "Early stopping, best iteration is:\n",
      "[1]\tvalid's auc: 0.5\n"
     ]
    },
    {
     "name": "stderr",
     "output_type": "stream",
     "text": [
      "/home/wopr/.local/lib/python3.6/site-packages/sklearn/preprocessing/label.py:219: DataConversionWarning: A column-vector y was passed when a 1d array was expected. Please change the shape of y to (n_samples, ), for example using ravel().\n",
      "  y = column_or_1d(y, warn=True)\n",
      "/home/wopr/.local/lib/python3.6/site-packages/sklearn/preprocessing/label.py:252: DataConversionWarning: A column-vector y was passed when a 1d array was expected. Please change the shape of y to (n_samples, ), for example using ravel().\n",
      "  y = column_or_1d(y, warn=True)\n"
     ]
    },
    {
     "name": "stdout",
     "output_type": "stream",
     "text": [
      "Training until validation scores don't improve for 100 rounds.\n",
      "[100]\tvalid's auc: 0.5\n",
      "Early stopping, best iteration is:\n",
      "[1]\tvalid's auc: 0.5\n"
     ]
    },
    {
     "name": "stderr",
     "output_type": "stream",
     "text": [
      "/home/wopr/.local/lib/python3.6/site-packages/sklearn/preprocessing/label.py:219: DataConversionWarning: A column-vector y was passed when a 1d array was expected. Please change the shape of y to (n_samples, ), for example using ravel().\n",
      "  y = column_or_1d(y, warn=True)\n",
      "/home/wopr/.local/lib/python3.6/site-packages/sklearn/preprocessing/label.py:252: DataConversionWarning: A column-vector y was passed when a 1d array was expected. Please change the shape of y to (n_samples, ), for example using ravel().\n",
      "  y = column_or_1d(y, warn=True)\n"
     ]
    },
    {
     "name": "stdout",
     "output_type": "stream",
     "text": [
      "Training until validation scores don't improve for 100 rounds.\n",
      "[100]\tvalid's auc: 0.5\n",
      "Early stopping, best iteration is:\n",
      "[1]\tvalid's auc: 0.5\n"
     ]
    },
    {
     "name": "stderr",
     "output_type": "stream",
     "text": [
      "/home/wopr/.local/lib/python3.6/site-packages/sklearn/preprocessing/label.py:219: DataConversionWarning: A column-vector y was passed when a 1d array was expected. Please change the shape of y to (n_samples, ), for example using ravel().\n",
      "  y = column_or_1d(y, warn=True)\n",
      "/home/wopr/.local/lib/python3.6/site-packages/sklearn/preprocessing/label.py:252: DataConversionWarning: A column-vector y was passed when a 1d array was expected. Please change the shape of y to (n_samples, ), for example using ravel().\n",
      "  y = column_or_1d(y, warn=True)\n"
     ]
    },
    {
     "name": "stdout",
     "output_type": "stream",
     "text": [
      "Training until validation scores don't improve for 100 rounds.\n",
      "[100]\tvalid's auc: 0.754481\n",
      "[200]\tvalid's auc: 0.780623\n",
      "[300]\tvalid's auc: 0.791976\n",
      "[400]\tvalid's auc: 0.796705\n",
      "[500]\tvalid's auc: 0.798491\n",
      "[600]\tvalid's auc: 0.799829\n",
      "[700]\tvalid's auc: 0.800051\n",
      "[800]\tvalid's auc: 0.800456\n",
      "[900]\tvalid's auc: 0.800624\n",
      "[1000]\tvalid's auc: 0.801192\n",
      "Early stopping, best iteration is:\n",
      "[979]\tvalid's auc: 0.801329\n"
     ]
    },
    {
     "name": "stderr",
     "output_type": "stream",
     "text": [
      "/home/wopr/.local/lib/python3.6/site-packages/sklearn/preprocessing/label.py:219: DataConversionWarning: A column-vector y was passed when a 1d array was expected. Please change the shape of y to (n_samples, ), for example using ravel().\n",
      "  y = column_or_1d(y, warn=True)\n",
      "/home/wopr/.local/lib/python3.6/site-packages/sklearn/preprocessing/label.py:252: DataConversionWarning: A column-vector y was passed when a 1d array was expected. Please change the shape of y to (n_samples, ), for example using ravel().\n",
      "  y = column_or_1d(y, warn=True)\n"
     ]
    },
    {
     "name": "stdout",
     "output_type": "stream",
     "text": [
      "Training until validation scores don't improve for 100 rounds.\n",
      "[100]\tvalid's auc: 0.757431\n",
      "[200]\tvalid's auc: 0.780333\n",
      "[300]\tvalid's auc: 0.791569\n",
      "[400]\tvalid's auc: 0.796031\n",
      "[500]\tvalid's auc: 0.797503\n",
      "[600]\tvalid's auc: 0.798375\n",
      "[700]\tvalid's auc: 0.798274\n",
      "[800]\tvalid's auc: 0.799115\n",
      "[900]\tvalid's auc: 0.799974\n",
      "[1000]\tvalid's auc: 0.801062\n",
      "[1100]\tvalid's auc: 0.801449\n",
      "[1200]\tvalid's auc: 0.802276\n",
      "[1300]\tvalid's auc: 0.803105\n",
      "[1400]\tvalid's auc: 0.803664\n",
      "[1500]\tvalid's auc: 0.803979\n",
      "[1600]\tvalid's auc: 0.803685\n",
      "Early stopping, best iteration is:\n",
      "[1507]\tvalid's auc: 0.804118\n"
     ]
    },
    {
     "name": "stderr",
     "output_type": "stream",
     "text": [
      "/home/wopr/.local/lib/python3.6/site-packages/sklearn/preprocessing/label.py:219: DataConversionWarning: A column-vector y was passed when a 1d array was expected. Please change the shape of y to (n_samples, ), for example using ravel().\n",
      "  y = column_or_1d(y, warn=True)\n",
      "/home/wopr/.local/lib/python3.6/site-packages/sklearn/preprocessing/label.py:252: DataConversionWarning: A column-vector y was passed when a 1d array was expected. Please change the shape of y to (n_samples, ), for example using ravel().\n",
      "  y = column_or_1d(y, warn=True)\n"
     ]
    },
    {
     "name": "stdout",
     "output_type": "stream",
     "text": [
      "Training until validation scores don't improve for 100 rounds.\n",
      "[100]\tvalid's auc: 0.754904\n",
      "[200]\tvalid's auc: 0.779742\n",
      "[300]\tvalid's auc: 0.791004\n",
      "[400]\tvalid's auc: 0.794232\n",
      "[500]\tvalid's auc: 0.796019\n",
      "[600]\tvalid's auc: 0.796736\n",
      "[700]\tvalid's auc: 0.797758\n",
      "[800]\tvalid's auc: 0.79775\n",
      "[900]\tvalid's auc: 0.798128\n",
      "[1000]\tvalid's auc: 0.79827\n",
      "[1100]\tvalid's auc: 0.799047\n",
      "[1200]\tvalid's auc: 0.799496\n",
      "[1300]\tvalid's auc: 0.799914\n",
      "[1400]\tvalid's auc: 0.800017\n",
      "Early stopping, best iteration is:\n",
      "[1329]\tvalid's auc: 0.800365\n"
     ]
    },
    {
     "name": "stderr",
     "output_type": "stream",
     "text": [
      "/home/wopr/.local/lib/python3.6/site-packages/sklearn/preprocessing/label.py:219: DataConversionWarning: A column-vector y was passed when a 1d array was expected. Please change the shape of y to (n_samples, ), for example using ravel().\n",
      "  y = column_or_1d(y, warn=True)\n",
      "/home/wopr/.local/lib/python3.6/site-packages/sklearn/preprocessing/label.py:252: DataConversionWarning: A column-vector y was passed when a 1d array was expected. Please change the shape of y to (n_samples, ), for example using ravel().\n",
      "  y = column_or_1d(y, warn=True)\n"
     ]
    },
    {
     "name": "stdout",
     "output_type": "stream",
     "text": [
      "Training until validation scores don't improve for 100 rounds.\n",
      "[100]\tvalid's auc: 0.726804\n",
      "[200]\tvalid's auc: 0.754737\n",
      "[300]\tvalid's auc: 0.770563\n",
      "[400]\tvalid's auc: 0.781004\n",
      "[500]\tvalid's auc: 0.78829\n",
      "[600]\tvalid's auc: 0.793196\n",
      "[700]\tvalid's auc: 0.798095\n",
      "[800]\tvalid's auc: 0.801316\n",
      "[900]\tvalid's auc: 0.804359\n",
      "[1000]\tvalid's auc: 0.805939\n",
      "[1100]\tvalid's auc: 0.807776\n",
      "[1200]\tvalid's auc: 0.809232\n",
      "[1300]\tvalid's auc: 0.810494\n",
      "[1400]\tvalid's auc: 0.811314\n",
      "[1500]\tvalid's auc: 0.812179\n",
      "[1600]\tvalid's auc: 0.812975\n",
      "[1700]\tvalid's auc: 0.81405\n",
      "[1800]\tvalid's auc: 0.814337\n",
      "[1900]\tvalid's auc: 0.814951\n",
      "[2000]\tvalid's auc: 0.815283\n",
      "[2100]\tvalid's auc: 0.815751\n",
      "[2200]\tvalid's auc: 0.815812\n",
      "[2300]\tvalid's auc: 0.816203\n",
      "[2400]\tvalid's auc: 0.816233\n",
      "[2500]\tvalid's auc: 0.816513\n",
      "[2600]\tvalid's auc: 0.816695\n",
      "[2700]\tvalid's auc: 0.817115\n",
      "[2800]\tvalid's auc: 0.817133\n",
      "Early stopping, best iteration is:\n",
      "[2707]\tvalid's auc: 0.817171\n"
     ]
    },
    {
     "name": "stderr",
     "output_type": "stream",
     "text": [
      "/home/wopr/.local/lib/python3.6/site-packages/sklearn/preprocessing/label.py:219: DataConversionWarning: A column-vector y was passed when a 1d array was expected. Please change the shape of y to (n_samples, ), for example using ravel().\n",
      "  y = column_or_1d(y, warn=True)\n",
      "/home/wopr/.local/lib/python3.6/site-packages/sklearn/preprocessing/label.py:252: DataConversionWarning: A column-vector y was passed when a 1d array was expected. Please change the shape of y to (n_samples, ), for example using ravel().\n",
      "  y = column_or_1d(y, warn=True)\n"
     ]
    },
    {
     "name": "stdout",
     "output_type": "stream",
     "text": [
      "Training until validation scores don't improve for 100 rounds.\n",
      "[100]\tvalid's auc: 0.728866\n",
      "[200]\tvalid's auc: 0.756431\n",
      "[300]\tvalid's auc: 0.770998\n",
      "[400]\tvalid's auc: 0.780906\n",
      "[500]\tvalid's auc: 0.787912\n",
      "[600]\tvalid's auc: 0.793301\n",
      "[700]\tvalid's auc: 0.797896\n",
      "[800]\tvalid's auc: 0.800975\n",
      "[900]\tvalid's auc: 0.803572\n",
      "[1000]\tvalid's auc: 0.805794\n",
      "[1100]\tvalid's auc: 0.807523\n",
      "[1200]\tvalid's auc: 0.809173\n",
      "[1300]\tvalid's auc: 0.810154\n",
      "[1400]\tvalid's auc: 0.811239\n",
      "[1500]\tvalid's auc: 0.811666\n",
      "[1600]\tvalid's auc: 0.812648\n",
      "[1700]\tvalid's auc: 0.81348\n",
      "[1800]\tvalid's auc: 0.813983\n",
      "[1900]\tvalid's auc: 0.814455\n",
      "[2000]\tvalid's auc: 0.815033\n",
      "[2100]\tvalid's auc: 0.815424\n",
      "[2200]\tvalid's auc: 0.815518\n",
      "[2300]\tvalid's auc: 0.815946\n",
      "[2400]\tvalid's auc: 0.815816\n",
      "Early stopping, best iteration is:\n",
      "[2342]\tvalid's auc: 0.816036\n"
     ]
    },
    {
     "name": "stderr",
     "output_type": "stream",
     "text": [
      "/home/wopr/.local/lib/python3.6/site-packages/sklearn/preprocessing/label.py:219: DataConversionWarning: A column-vector y was passed when a 1d array was expected. Please change the shape of y to (n_samples, ), for example using ravel().\n",
      "  y = column_or_1d(y, warn=True)\n",
      "/home/wopr/.local/lib/python3.6/site-packages/sklearn/preprocessing/label.py:252: DataConversionWarning: A column-vector y was passed when a 1d array was expected. Please change the shape of y to (n_samples, ), for example using ravel().\n",
      "  y = column_or_1d(y, warn=True)\n"
     ]
    },
    {
     "name": "stdout",
     "output_type": "stream",
     "text": [
      "Training until validation scores don't improve for 100 rounds.\n",
      "[100]\tvalid's auc: 0.730628\n",
      "[200]\tvalid's auc: 0.757615\n",
      "[300]\tvalid's auc: 0.77163\n",
      "[400]\tvalid's auc: 0.781045\n",
      "[500]\tvalid's auc: 0.788246\n",
      "[600]\tvalid's auc: 0.793135\n",
      "[700]\tvalid's auc: 0.797011\n",
      "[800]\tvalid's auc: 0.800763\n",
      "[900]\tvalid's auc: 0.803757\n",
      "[1000]\tvalid's auc: 0.805857\n",
      "[1100]\tvalid's auc: 0.807846\n",
      "[1200]\tvalid's auc: 0.809366\n",
      "[1300]\tvalid's auc: 0.810572\n",
      "[1400]\tvalid's auc: 0.811924\n",
      "[1500]\tvalid's auc: 0.812876\n",
      "[1600]\tvalid's auc: 0.813382\n",
      "[1700]\tvalid's auc: 0.814095\n",
      "[1800]\tvalid's auc: 0.815009\n",
      "[1900]\tvalid's auc: 0.815375\n",
      "[2000]\tvalid's auc: 0.815891\n",
      "[2100]\tvalid's auc: 0.816454\n",
      "[2200]\tvalid's auc: 0.816915\n",
      "[2300]\tvalid's auc: 0.816917\n",
      "[2400]\tvalid's auc: 0.816805\n",
      "Early stopping, best iteration is:\n",
      "[2376]\tvalid's auc: 0.817058\n"
     ]
    },
    {
     "name": "stderr",
     "output_type": "stream",
     "text": [
      "/home/wopr/.local/lib/python3.6/site-packages/sklearn/preprocessing/label.py:219: DataConversionWarning: A column-vector y was passed when a 1d array was expected. Please change the shape of y to (n_samples, ), for example using ravel().\n",
      "  y = column_or_1d(y, warn=True)\n",
      "/home/wopr/.local/lib/python3.6/site-packages/sklearn/preprocessing/label.py:252: DataConversionWarning: A column-vector y was passed when a 1d array was expected. Please change the shape of y to (n_samples, ), for example using ravel().\n",
      "  y = column_or_1d(y, warn=True)\n"
     ]
    },
    {
     "name": "stdout",
     "output_type": "stream",
     "text": [
      "Training until validation scores don't improve for 100 rounds.\n",
      "[100]\tvalid's auc: 0.755432\n",
      "[200]\tvalid's auc: 0.780575\n",
      "[300]\tvalid's auc: 0.793467\n",
      "[400]\tvalid's auc: 0.801057\n",
      "[500]\tvalid's auc: 0.805285\n",
      "[600]\tvalid's auc: 0.808637\n",
      "[700]\tvalid's auc: 0.810631\n",
      "[800]\tvalid's auc: 0.812111\n",
      "[900]\tvalid's auc: 0.813234\n",
      "[1000]\tvalid's auc: 0.814151\n",
      "[1100]\tvalid's auc: 0.814641\n",
      "[1200]\tvalid's auc: 0.814803\n",
      "[1300]\tvalid's auc: 0.815107\n",
      "[1400]\tvalid's auc: 0.814873\n",
      "Early stopping, best iteration is:\n",
      "[1311]\tvalid's auc: 0.815168\n"
     ]
    },
    {
     "name": "stderr",
     "output_type": "stream",
     "text": [
      "/home/wopr/.local/lib/python3.6/site-packages/sklearn/preprocessing/label.py:219: DataConversionWarning: A column-vector y was passed when a 1d array was expected. Please change the shape of y to (n_samples, ), for example using ravel().\n",
      "  y = column_or_1d(y, warn=True)\n",
      "/home/wopr/.local/lib/python3.6/site-packages/sklearn/preprocessing/label.py:252: DataConversionWarning: A column-vector y was passed when a 1d array was expected. Please change the shape of y to (n_samples, ), for example using ravel().\n",
      "  y = column_or_1d(y, warn=True)\n"
     ]
    },
    {
     "name": "stdout",
     "output_type": "stream",
     "text": [
      "Training until validation scores don't improve for 100 rounds.\n",
      "[100]\tvalid's auc: 0.75823\n",
      "[200]\tvalid's auc: 0.783497\n",
      "[300]\tvalid's auc: 0.795147\n",
      "[400]\tvalid's auc: 0.801687\n",
      "[500]\tvalid's auc: 0.805845\n",
      "[600]\tvalid's auc: 0.808224\n",
      "[700]\tvalid's auc: 0.809894\n",
      "[800]\tvalid's auc: 0.810856\n",
      "[900]\tvalid's auc: 0.812028\n",
      "[1000]\tvalid's auc: 0.812761\n",
      "[1100]\tvalid's auc: 0.813142\n",
      "[1200]\tvalid's auc: 0.813334\n",
      "[1300]\tvalid's auc: 0.813787\n",
      "[1400]\tvalid's auc: 0.814498\n",
      "[1500]\tvalid's auc: 0.814605\n",
      "[1600]\tvalid's auc: 0.814774\n",
      "Early stopping, best iteration is:\n",
      "[1550]\tvalid's auc: 0.814962\n"
     ]
    },
    {
     "name": "stderr",
     "output_type": "stream",
     "text": [
      "/home/wopr/.local/lib/python3.6/site-packages/sklearn/preprocessing/label.py:219: DataConversionWarning: A column-vector y was passed when a 1d array was expected. Please change the shape of y to (n_samples, ), for example using ravel().\n",
      "  y = column_or_1d(y, warn=True)\n",
      "/home/wopr/.local/lib/python3.6/site-packages/sklearn/preprocessing/label.py:252: DataConversionWarning: A column-vector y was passed when a 1d array was expected. Please change the shape of y to (n_samples, ), for example using ravel().\n",
      "  y = column_or_1d(y, warn=True)\n"
     ]
    },
    {
     "name": "stdout",
     "output_type": "stream",
     "text": [
      "Training until validation scores don't improve for 100 rounds.\n",
      "[100]\tvalid's auc: 0.755027\n",
      "[200]\tvalid's auc: 0.780653\n",
      "[300]\tvalid's auc: 0.79218\n",
      "[400]\tvalid's auc: 0.79976\n",
      "[500]\tvalid's auc: 0.804355\n",
      "[600]\tvalid's auc: 0.807005\n",
      "[700]\tvalid's auc: 0.809237\n",
      "[800]\tvalid's auc: 0.810657\n",
      "[900]\tvalid's auc: 0.811533\n",
      "[1000]\tvalid's auc: 0.812039\n",
      "[1100]\tvalid's auc: 0.812398\n",
      "[1200]\tvalid's auc: 0.812668\n",
      "[1300]\tvalid's auc: 0.81283\n",
      "[1400]\tvalid's auc: 0.813072\n",
      "[1500]\tvalid's auc: 0.81349\n",
      "[1600]\tvalid's auc: 0.813486\n",
      "[1700]\tvalid's auc: 0.813871\n",
      "[1800]\tvalid's auc: 0.814338\n",
      "[1900]\tvalid's auc: 0.814712\n",
      "[2000]\tvalid's auc: 0.815053\n",
      "[2100]\tvalid's auc: 0.815339\n",
      "[2200]\tvalid's auc: 0.815552\n",
      "[2300]\tvalid's auc: 0.81568\n",
      "[2400]\tvalid's auc: 0.815759\n",
      "Early stopping, best iteration is:\n",
      "[2387]\tvalid's auc: 0.815848\n"
     ]
    },
    {
     "name": "stderr",
     "output_type": "stream",
     "text": [
      "/home/wopr/.local/lib/python3.6/site-packages/sklearn/preprocessing/label.py:219: DataConversionWarning: A column-vector y was passed when a 1d array was expected. Please change the shape of y to (n_samples, ), for example using ravel().\n",
      "  y = column_or_1d(y, warn=True)\n",
      "/home/wopr/.local/lib/python3.6/site-packages/sklearn/preprocessing/label.py:252: DataConversionWarning: A column-vector y was passed when a 1d array was expected. Please change the shape of y to (n_samples, ), for example using ravel().\n",
      "  y = column_or_1d(y, warn=True)\n"
     ]
    },
    {
     "name": "stdout",
     "output_type": "stream",
     "text": [
      "Training until validation scores don't improve for 100 rounds.\n",
      "[100]\tvalid's auc: 0.754698\n",
      "[200]\tvalid's auc: 0.781109\n",
      "[300]\tvalid's auc: 0.794512\n",
      "[400]\tvalid's auc: 0.801961\n",
      "[500]\tvalid's auc: 0.805573\n",
      "[600]\tvalid's auc: 0.808101\n",
      "[700]\tvalid's auc: 0.810263\n",
      "[800]\tvalid's auc: 0.811931\n",
      "[900]\tvalid's auc: 0.812807\n",
      "[1000]\tvalid's auc: 0.813109\n",
      "[1100]\tvalid's auc: 0.813334\n",
      "[1200]\tvalid's auc: 0.813811\n",
      "[1300]\tvalid's auc: 0.813945\n",
      "Early stopping, best iteration is:\n",
      "[1287]\tvalid's auc: 0.814093\n"
     ]
    },
    {
     "name": "stderr",
     "output_type": "stream",
     "text": [
      "/home/wopr/.local/lib/python3.6/site-packages/sklearn/preprocessing/label.py:219: DataConversionWarning: A column-vector y was passed when a 1d array was expected. Please change the shape of y to (n_samples, ), for example using ravel().\n",
      "  y = column_or_1d(y, warn=True)\n",
      "/home/wopr/.local/lib/python3.6/site-packages/sklearn/preprocessing/label.py:252: DataConversionWarning: A column-vector y was passed when a 1d array was expected. Please change the shape of y to (n_samples, ), for example using ravel().\n",
      "  y = column_or_1d(y, warn=True)\n"
     ]
    },
    {
     "name": "stdout",
     "output_type": "stream",
     "text": [
      "Training until validation scores don't improve for 100 rounds.\n",
      "[100]\tvalid's auc: 0.755076\n",
      "[200]\tvalid's auc: 0.779935\n",
      "[300]\tvalid's auc: 0.792034\n",
      "[400]\tvalid's auc: 0.798224\n",
      "[500]\tvalid's auc: 0.802252\n",
      "[600]\tvalid's auc: 0.804779\n",
      "[700]\tvalid's auc: 0.80611\n",
      "[800]\tvalid's auc: 0.807319\n",
      "[900]\tvalid's auc: 0.807938\n",
      "[1000]\tvalid's auc: 0.808431\n",
      "Early stopping, best iteration is:\n",
      "[969]\tvalid's auc: 0.808577\n"
     ]
    },
    {
     "name": "stderr",
     "output_type": "stream",
     "text": [
      "/home/wopr/.local/lib/python3.6/site-packages/sklearn/preprocessing/label.py:219: DataConversionWarning: A column-vector y was passed when a 1d array was expected. Please change the shape of y to (n_samples, ), for example using ravel().\n",
      "  y = column_or_1d(y, warn=True)\n",
      "/home/wopr/.local/lib/python3.6/site-packages/sklearn/preprocessing/label.py:252: DataConversionWarning: A column-vector y was passed when a 1d array was expected. Please change the shape of y to (n_samples, ), for example using ravel().\n",
      "  y = column_or_1d(y, warn=True)\n"
     ]
    },
    {
     "name": "stdout",
     "output_type": "stream",
     "text": [
      "Training until validation scores don't improve for 100 rounds.\n",
      "[100]\tvalid's auc: 0.757504\n",
      "[200]\tvalid's auc: 0.781476\n",
      "[300]\tvalid's auc: 0.793702\n",
      "[400]\tvalid's auc: 0.800435\n",
      "[500]\tvalid's auc: 0.804122\n",
      "[600]\tvalid's auc: 0.805853\n",
      "[700]\tvalid's auc: 0.807305\n",
      "[800]\tvalid's auc: 0.809061\n",
      "[900]\tvalid's auc: 0.809836\n",
      "[1000]\tvalid's auc: 0.810824\n",
      "[1100]\tvalid's auc: 0.810836\n",
      "[1200]\tvalid's auc: 0.810864\n",
      "[1300]\tvalid's auc: 0.811336\n",
      "[1400]\tvalid's auc: 0.811511\n",
      "[1500]\tvalid's auc: 0.811672\n",
      "[1600]\tvalid's auc: 0.811993\n",
      "[1700]\tvalid's auc: 0.812367\n",
      "[1800]\tvalid's auc: 0.812771\n",
      "[1900]\tvalid's auc: 0.81301\n",
      "[2000]\tvalid's auc: 0.813062\n",
      "[2100]\tvalid's auc: 0.813394\n",
      "[2200]\tvalid's auc: 0.813714\n",
      "[2300]\tvalid's auc: 0.813895\n",
      "[2400]\tvalid's auc: 0.81428\n",
      "[2500]\tvalid's auc: 0.814508\n",
      "[2600]\tvalid's auc: 0.814728\n",
      "Early stopping, best iteration is:\n",
      "[2565]\tvalid's auc: 0.814824\n"
     ]
    },
    {
     "name": "stderr",
     "output_type": "stream",
     "text": [
      "/home/wopr/.local/lib/python3.6/site-packages/sklearn/preprocessing/label.py:219: DataConversionWarning: A column-vector y was passed when a 1d array was expected. Please change the shape of y to (n_samples, ), for example using ravel().\n",
      "  y = column_or_1d(y, warn=True)\n",
      "/home/wopr/.local/lib/python3.6/site-packages/sklearn/preprocessing/label.py:252: DataConversionWarning: A column-vector y was passed when a 1d array was expected. Please change the shape of y to (n_samples, ), for example using ravel().\n",
      "  y = column_or_1d(y, warn=True)\n"
     ]
    },
    {
     "name": "stdout",
     "output_type": "stream",
     "text": [
      "Training until validation scores don't improve for 100 rounds.\n",
      "[100]\tvalid's auc: 0.760898\n",
      "[200]\tvalid's auc: 0.783579\n",
      "[300]\tvalid's auc: 0.792788\n",
      "[400]\tvalid's auc: 0.798934\n",
      "[500]\tvalid's auc: 0.802049\n",
      "[600]\tvalid's auc: 0.804109\n",
      "[700]\tvalid's auc: 0.805239\n",
      "[800]\tvalid's auc: 0.806691\n",
      "[900]\tvalid's auc: 0.807519\n",
      "[1000]\tvalid's auc: 0.808308\n",
      "[1100]\tvalid's auc: 0.808966\n",
      "[1200]\tvalid's auc: 0.80935\n",
      "[1300]\tvalid's auc: 0.810448\n",
      "[1400]\tvalid's auc: 0.811422\n",
      "[1500]\tvalid's auc: 0.81175\n",
      "[1600]\tvalid's auc: 0.812153\n",
      "[1700]\tvalid's auc: 0.812674\n",
      "[1800]\tvalid's auc: 0.813215\n",
      "[1900]\tvalid's auc: 0.813769\n",
      "[2000]\tvalid's auc: 0.814002\n",
      "[2100]\tvalid's auc: 0.814413\n",
      "[2200]\tvalid's auc: 0.814797\n",
      "[2300]\tvalid's auc: 0.815122\n",
      "[2400]\tvalid's auc: 0.815509\n",
      "[2500]\tvalid's auc: 0.815681\n",
      "[2600]\tvalid's auc: 0.816134\n",
      "[2700]\tvalid's auc: 0.816243\n",
      "Early stopping, best iteration is:\n",
      "[2621]\tvalid's auc: 0.816243\n"
     ]
    },
    {
     "name": "stderr",
     "output_type": "stream",
     "text": [
      "/home/wopr/.local/lib/python3.6/site-packages/sklearn/preprocessing/label.py:219: DataConversionWarning: A column-vector y was passed when a 1d array was expected. Please change the shape of y to (n_samples, ), for example using ravel().\n",
      "  y = column_or_1d(y, warn=True)\n",
      "/home/wopr/.local/lib/python3.6/site-packages/sklearn/preprocessing/label.py:252: DataConversionWarning: A column-vector y was passed when a 1d array was expected. Please change the shape of y to (n_samples, ), for example using ravel().\n",
      "  y = column_or_1d(y, warn=True)\n"
     ]
    },
    {
     "name": "stdout",
     "output_type": "stream",
     "text": [
      "Training until validation scores don't improve for 100 rounds.\n",
      "[100]\tvalid's auc: 0.764035\n",
      "[200]\tvalid's auc: 0.785476\n",
      "[300]\tvalid's auc: 0.795225\n",
      "[400]\tvalid's auc: 0.800513\n",
      "[500]\tvalid's auc: 0.803123\n",
      "[600]\tvalid's auc: 0.804982\n",
      "[700]\tvalid's auc: 0.805958\n",
      "[800]\tvalid's auc: 0.807672\n",
      "[900]\tvalid's auc: 0.80895\n",
      "[1000]\tvalid's auc: 0.809574\n",
      "[1100]\tvalid's auc: 0.810332\n",
      "[1200]\tvalid's auc: 0.810861\n",
      "[1300]\tvalid's auc: 0.81153\n",
      "[1400]\tvalid's auc: 0.812375\n",
      "[1500]\tvalid's auc: 0.812786\n",
      "[1600]\tvalid's auc: 0.813041\n",
      "[1700]\tvalid's auc: 0.813235\n",
      "[1800]\tvalid's auc: 0.814009\n",
      "[1900]\tvalid's auc: 0.814327\n",
      "[2000]\tvalid's auc: 0.814674\n",
      "[2100]\tvalid's auc: 0.815083\n",
      "[2200]\tvalid's auc: 0.815321\n",
      "[2300]\tvalid's auc: 0.815745\n",
      "[2400]\tvalid's auc: 0.816208\n",
      "[2500]\tvalid's auc: 0.816535\n",
      "[2600]\tvalid's auc: 0.816814\n",
      "[2700]\tvalid's auc: 0.81688\n",
      "Early stopping, best iteration is:\n",
      "[2632]\tvalid's auc: 0.81688\n"
     ]
    },
    {
     "name": "stderr",
     "output_type": "stream",
     "text": [
      "/home/wopr/.local/lib/python3.6/site-packages/sklearn/preprocessing/label.py:219: DataConversionWarning: A column-vector y was passed when a 1d array was expected. Please change the shape of y to (n_samples, ), for example using ravel().\n",
      "  y = column_or_1d(y, warn=True)\n",
      "/home/wopr/.local/lib/python3.6/site-packages/sklearn/preprocessing/label.py:252: DataConversionWarning: A column-vector y was passed when a 1d array was expected. Please change the shape of y to (n_samples, ), for example using ravel().\n",
      "  y = column_or_1d(y, warn=True)\n"
     ]
    },
    {
     "name": "stdout",
     "output_type": "stream",
     "text": [
      "Training until validation scores don't improve for 100 rounds.\n",
      "[100]\tvalid's auc: 0.758777\n",
      "[200]\tvalid's auc: 0.779107\n",
      "[300]\tvalid's auc: 0.79016\n",
      "[400]\tvalid's auc: 0.79557\n",
      "[500]\tvalid's auc: 0.798865\n",
      "[600]\tvalid's auc: 0.801319\n",
      "[700]\tvalid's auc: 0.803747\n",
      "[800]\tvalid's auc: 0.80515\n",
      "[900]\tvalid's auc: 0.807403\n",
      "[1000]\tvalid's auc: 0.808007\n",
      "[1100]\tvalid's auc: 0.808968\n",
      "[1200]\tvalid's auc: 0.809824\n",
      "[1300]\tvalid's auc: 0.810572\n",
      "[1400]\tvalid's auc: 0.811017\n",
      "[1500]\tvalid's auc: 0.811969\n",
      "[1600]\tvalid's auc: 0.812655\n",
      "[1700]\tvalid's auc: 0.813063\n",
      "[1800]\tvalid's auc: 0.813498\n",
      "[1900]\tvalid's auc: 0.814192\n",
      "[2000]\tvalid's auc: 0.814555\n",
      "[2100]\tvalid's auc: 0.814907\n",
      "[2200]\tvalid's auc: 0.81539\n",
      "[2300]\tvalid's auc: 0.815684\n",
      "[2400]\tvalid's auc: 0.81602\n",
      "[2500]\tvalid's auc: 0.816632\n",
      "[2600]\tvalid's auc: 0.817026\n",
      "Early stopping, best iteration is:\n",
      "[2599]\tvalid's auc: 0.817041\n"
     ]
    },
    {
     "name": "stderr",
     "output_type": "stream",
     "text": [
      "/home/wopr/.local/lib/python3.6/site-packages/sklearn/preprocessing/label.py:219: DataConversionWarning: A column-vector y was passed when a 1d array was expected. Please change the shape of y to (n_samples, ), for example using ravel().\n",
      "  y = column_or_1d(y, warn=True)\n",
      "/home/wopr/.local/lib/python3.6/site-packages/sklearn/preprocessing/label.py:252: DataConversionWarning: A column-vector y was passed when a 1d array was expected. Please change the shape of y to (n_samples, ), for example using ravel().\n",
      "  y = column_or_1d(y, warn=True)\n"
     ]
    },
    {
     "name": "stdout",
     "output_type": "stream",
     "text": [
      "Training until validation scores don't improve for 100 rounds.\n",
      "[100]\tvalid's auc: 0.750969\n",
      "[200]\tvalid's auc: 0.778634\n",
      "[300]\tvalid's auc: 0.79\n",
      "[400]\tvalid's auc: 0.796974\n",
      "[500]\tvalid's auc: 0.802175\n",
      "[600]\tvalid's auc: 0.80457\n",
      "[700]\tvalid's auc: 0.805819\n",
      "[800]\tvalid's auc: 0.806691\n",
      "[900]\tvalid's auc: 0.807232\n",
      "[1000]\tvalid's auc: 0.807554\n",
      "[1100]\tvalid's auc: 0.807926\n",
      "[1200]\tvalid's auc: 0.808625\n",
      "[1300]\tvalid's auc: 0.808563\n",
      "[1400]\tvalid's auc: 0.808977\n",
      "[1500]\tvalid's auc: 0.809543\n",
      "[1600]\tvalid's auc: 0.809669\n",
      "[1700]\tvalid's auc: 0.809942\n",
      "[1800]\tvalid's auc: 0.810661\n",
      "[1900]\tvalid's auc: 0.81066\n",
      "[2000]\tvalid's auc: 0.811205\n",
      "[2100]\tvalid's auc: 0.811506\n",
      "[2200]\tvalid's auc: 0.811956\n",
      "[2300]\tvalid's auc: 0.812212\n",
      "Early stopping, best iteration is:\n",
      "[2239]\tvalid's auc: 0.812276\n"
     ]
    },
    {
     "name": "stderr",
     "output_type": "stream",
     "text": [
      "/home/wopr/.local/lib/python3.6/site-packages/sklearn/preprocessing/label.py:219: DataConversionWarning: A column-vector y was passed when a 1d array was expected. Please change the shape of y to (n_samples, ), for example using ravel().\n",
      "  y = column_or_1d(y, warn=True)\n",
      "/home/wopr/.local/lib/python3.6/site-packages/sklearn/preprocessing/label.py:252: DataConversionWarning: A column-vector y was passed when a 1d array was expected. Please change the shape of y to (n_samples, ), for example using ravel().\n",
      "  y = column_or_1d(y, warn=True)\n"
     ]
    },
    {
     "name": "stdout",
     "output_type": "stream",
     "text": [
      "Training until validation scores don't improve for 100 rounds.\n",
      "[100]\tvalid's auc: 0.753674\n",
      "[200]\tvalid's auc: 0.778668\n",
      "[300]\tvalid's auc: 0.79207\n",
      "[400]\tvalid's auc: 0.799431\n",
      "[500]\tvalid's auc: 0.802467\n",
      "[600]\tvalid's auc: 0.80573\n",
      "[700]\tvalid's auc: 0.806481\n",
      "[800]\tvalid's auc: 0.806658\n",
      "[900]\tvalid's auc: 0.80711\n",
      "Early stopping, best iteration is:\n",
      "[839]\tvalid's auc: 0.807312\n"
     ]
    },
    {
     "name": "stderr",
     "output_type": "stream",
     "text": [
      "/home/wopr/.local/lib/python3.6/site-packages/sklearn/preprocessing/label.py:219: DataConversionWarning: A column-vector y was passed when a 1d array was expected. Please change the shape of y to (n_samples, ), for example using ravel().\n",
      "  y = column_or_1d(y, warn=True)\n",
      "/home/wopr/.local/lib/python3.6/site-packages/sklearn/preprocessing/label.py:252: DataConversionWarning: A column-vector y was passed when a 1d array was expected. Please change the shape of y to (n_samples, ), for example using ravel().\n",
      "  y = column_or_1d(y, warn=True)\n"
     ]
    },
    {
     "name": "stdout",
     "output_type": "stream",
     "text": [
      "Training until validation scores don't improve for 100 rounds.\n",
      "[100]\tvalid's auc: 0.755589\n",
      "[200]\tvalid's auc: 0.779895\n",
      "[300]\tvalid's auc: 0.789221\n",
      "[400]\tvalid's auc: 0.796692\n",
      "[500]\tvalid's auc: 0.800211\n",
      "[600]\tvalid's auc: 0.803394\n",
      "[700]\tvalid's auc: 0.803848\n",
      "[800]\tvalid's auc: 0.805593\n",
      "[900]\tvalid's auc: 0.805663\n",
      "Early stopping, best iteration is:\n",
      "[804]\tvalid's auc: 0.805722\n"
     ]
    },
    {
     "name": "stderr",
     "output_type": "stream",
     "text": [
      "/home/wopr/.local/lib/python3.6/site-packages/sklearn/preprocessing/label.py:219: DataConversionWarning: A column-vector y was passed when a 1d array was expected. Please change the shape of y to (n_samples, ), for example using ravel().\n",
      "  y = column_or_1d(y, warn=True)\n",
      "/home/wopr/.local/lib/python3.6/site-packages/sklearn/preprocessing/label.py:252: DataConversionWarning: A column-vector y was passed when a 1d array was expected. Please change the shape of y to (n_samples, ), for example using ravel().\n",
      "  y = column_or_1d(y, warn=True)\n"
     ]
    },
    {
     "name": "stdout",
     "output_type": "stream",
     "text": [
      "Training until validation scores don't improve for 100 rounds.\n",
      "[100]\tvalid's auc: 0.756416\n",
      "[200]\tvalid's auc: 0.781237\n",
      "[300]\tvalid's auc: 0.791704\n",
      "[400]\tvalid's auc: 0.797096\n",
      "[500]\tvalid's auc: 0.799372\n",
      "[600]\tvalid's auc: 0.799424\n",
      "[700]\tvalid's auc: 0.800644\n",
      "[800]\tvalid's auc: 0.801175\n",
      "[900]\tvalid's auc: 0.801846\n",
      "[1000]\tvalid's auc: 0.80165\n",
      "Early stopping, best iteration is:\n",
      "[929]\tvalid's auc: 0.802147\n"
     ]
    },
    {
     "name": "stderr",
     "output_type": "stream",
     "text": [
      "/home/wopr/.local/lib/python3.6/site-packages/sklearn/preprocessing/label.py:219: DataConversionWarning: A column-vector y was passed when a 1d array was expected. Please change the shape of y to (n_samples, ), for example using ravel().\n",
      "  y = column_or_1d(y, warn=True)\n",
      "/home/wopr/.local/lib/python3.6/site-packages/sklearn/preprocessing/label.py:252: DataConversionWarning: A column-vector y was passed when a 1d array was expected. Please change the shape of y to (n_samples, ), for example using ravel().\n",
      "  y = column_or_1d(y, warn=True)\n"
     ]
    },
    {
     "name": "stdout",
     "output_type": "stream",
     "text": [
      "Training until validation scores don't improve for 100 rounds.\n",
      "[100]\tvalid's auc: 0.753083\n",
      "[200]\tvalid's auc: 0.776649\n",
      "[300]\tvalid's auc: 0.788723\n",
      "[400]\tvalid's auc: 0.793353\n",
      "[500]\tvalid's auc: 0.795463\n",
      "[600]\tvalid's auc: 0.79568\n",
      "[700]\tvalid's auc: 0.797027\n",
      "[800]\tvalid's auc: 0.797123\n",
      "[900]\tvalid's auc: 0.797747\n",
      "[1000]\tvalid's auc: 0.79849\n",
      "Early stopping, best iteration is:\n",
      "[975]\tvalid's auc: 0.798651\n"
     ]
    },
    {
     "name": "stderr",
     "output_type": "stream",
     "text": [
      "/home/wopr/.local/lib/python3.6/site-packages/sklearn/preprocessing/label.py:219: DataConversionWarning: A column-vector y was passed when a 1d array was expected. Please change the shape of y to (n_samples, ), for example using ravel().\n",
      "  y = column_or_1d(y, warn=True)\n",
      "/home/wopr/.local/lib/python3.6/site-packages/sklearn/preprocessing/label.py:252: DataConversionWarning: A column-vector y was passed when a 1d array was expected. Please change the shape of y to (n_samples, ), for example using ravel().\n",
      "  y = column_or_1d(y, warn=True)\n"
     ]
    },
    {
     "name": "stdout",
     "output_type": "stream",
     "text": [
      "Training until validation scores don't improve for 100 rounds.\n",
      "[100]\tvalid's auc: 0.753978\n",
      "[200]\tvalid's auc: 0.778606\n",
      "[300]\tvalid's auc: 0.789349\n",
      "[400]\tvalid's auc: 0.791993\n",
      "[500]\tvalid's auc: 0.794284\n",
      "[600]\tvalid's auc: 0.795011\n",
      "[700]\tvalid's auc: 0.794994\n",
      "[800]\tvalid's auc: 0.796666\n",
      "[900]\tvalid's auc: 0.79757\n",
      "[1000]\tvalid's auc: 0.797554\n",
      "Early stopping, best iteration is:\n",
      "[913]\tvalid's auc: 0.797745\n"
     ]
    },
    {
     "name": "stderr",
     "output_type": "stream",
     "text": [
      "/home/wopr/.local/lib/python3.6/site-packages/sklearn/preprocessing/label.py:219: DataConversionWarning: A column-vector y was passed when a 1d array was expected. Please change the shape of y to (n_samples, ), for example using ravel().\n",
      "  y = column_or_1d(y, warn=True)\n",
      "/home/wopr/.local/lib/python3.6/site-packages/sklearn/preprocessing/label.py:252: DataConversionWarning: A column-vector y was passed when a 1d array was expected. Please change the shape of y to (n_samples, ), for example using ravel().\n",
      "  y = column_or_1d(y, warn=True)\n"
     ]
    },
    {
     "name": "stdout",
     "output_type": "stream",
     "text": [
      "Training until validation scores don't improve for 100 rounds.\n",
      "[100]\tvalid's auc: 0.74554\n",
      "[200]\tvalid's auc: 0.77388\n",
      "[300]\tvalid's auc: 0.788079\n",
      "[400]\tvalid's auc: 0.796486\n",
      "[500]\tvalid's auc: 0.800259\n",
      "[600]\tvalid's auc: 0.803505\n",
      "[700]\tvalid's auc: 0.80527\n",
      "[800]\tvalid's auc: 0.807316\n",
      "[900]\tvalid's auc: 0.808184\n",
      "[1000]\tvalid's auc: 0.809539\n",
      "[1100]\tvalid's auc: 0.810487\n",
      "[1200]\tvalid's auc: 0.810993\n",
      "[1300]\tvalid's auc: 0.811044\n",
      "Early stopping, best iteration is:\n",
      "[1209]\tvalid's auc: 0.811207\n"
     ]
    },
    {
     "name": "stderr",
     "output_type": "stream",
     "text": [
      "/home/wopr/.local/lib/python3.6/site-packages/sklearn/preprocessing/label.py:219: DataConversionWarning: A column-vector y was passed when a 1d array was expected. Please change the shape of y to (n_samples, ), for example using ravel().\n",
      "  y = column_or_1d(y, warn=True)\n",
      "/home/wopr/.local/lib/python3.6/site-packages/sklearn/preprocessing/label.py:252: DataConversionWarning: A column-vector y was passed when a 1d array was expected. Please change the shape of y to (n_samples, ), for example using ravel().\n",
      "  y = column_or_1d(y, warn=True)\n"
     ]
    },
    {
     "name": "stdout",
     "output_type": "stream",
     "text": [
      "Training until validation scores don't improve for 100 rounds.\n",
      "[100]\tvalid's auc: 0.745782\n",
      "[200]\tvalid's auc: 0.7731\n",
      "[300]\tvalid's auc: 0.786926\n",
      "[400]\tvalid's auc: 0.794119\n",
      "[500]\tvalid's auc: 0.799529\n",
      "[600]\tvalid's auc: 0.803321\n",
      "[700]\tvalid's auc: 0.80559\n",
      "[800]\tvalid's auc: 0.807276\n",
      "[900]\tvalid's auc: 0.807761\n",
      "[1000]\tvalid's auc: 0.807883\n",
      "[1100]\tvalid's auc: 0.809051\n",
      "[1200]\tvalid's auc: 0.809511\n",
      "[1300]\tvalid's auc: 0.809591\n",
      "Early stopping, best iteration is:\n",
      "[1261]\tvalid's auc: 0.809969\n"
     ]
    },
    {
     "name": "stderr",
     "output_type": "stream",
     "text": [
      "/home/wopr/.local/lib/python3.6/site-packages/sklearn/preprocessing/label.py:219: DataConversionWarning: A column-vector y was passed when a 1d array was expected. Please change the shape of y to (n_samples, ), for example using ravel().\n",
      "  y = column_or_1d(y, warn=True)\n",
      "/home/wopr/.local/lib/python3.6/site-packages/sklearn/preprocessing/label.py:252: DataConversionWarning: A column-vector y was passed when a 1d array was expected. Please change the shape of y to (n_samples, ), for example using ravel().\n",
      "  y = column_or_1d(y, warn=True)\n"
     ]
    },
    {
     "name": "stdout",
     "output_type": "stream",
     "text": [
      "Training until validation scores don't improve for 100 rounds.\n",
      "[100]\tvalid's auc: 0.747794\n",
      "[200]\tvalid's auc: 0.777323\n",
      "[300]\tvalid's auc: 0.789702\n",
      "[400]\tvalid's auc: 0.797302\n",
      "[500]\tvalid's auc: 0.801864\n",
      "[600]\tvalid's auc: 0.804407\n",
      "[700]\tvalid's auc: 0.806608\n",
      "[800]\tvalid's auc: 0.807642\n",
      "[900]\tvalid's auc: 0.808165\n",
      "[1000]\tvalid's auc: 0.808733\n",
      "[1100]\tvalid's auc: 0.809162\n",
      "[1200]\tvalid's auc: 0.809362\n",
      "[1300]\tvalid's auc: 0.809574\n",
      "[1400]\tvalid's auc: 0.809965\n",
      "[1500]\tvalid's auc: 0.809924\n",
      "[1600]\tvalid's auc: 0.810147\n",
      "[1700]\tvalid's auc: 0.810207\n",
      "Early stopping, best iteration is:\n",
      "[1615]\tvalid's auc: 0.810418\n"
     ]
    },
    {
     "name": "stderr",
     "output_type": "stream",
     "text": [
      "/home/wopr/.local/lib/python3.6/site-packages/sklearn/preprocessing/label.py:219: DataConversionWarning: A column-vector y was passed when a 1d array was expected. Please change the shape of y to (n_samples, ), for example using ravel().\n",
      "  y = column_or_1d(y, warn=True)\n",
      "/home/wopr/.local/lib/python3.6/site-packages/sklearn/preprocessing/label.py:252: DataConversionWarning: A column-vector y was passed when a 1d array was expected. Please change the shape of y to (n_samples, ), for example using ravel().\n",
      "  y = column_or_1d(y, warn=True)\n"
     ]
    },
    {
     "name": "stdout",
     "output_type": "stream",
     "text": [
      "Training until validation scores don't improve for 100 rounds.\n",
      "[100]\tvalid's auc: 0.75124\n",
      "[200]\tvalid's auc: 0.776635\n",
      "[300]\tvalid's auc: 0.790351\n",
      "[400]\tvalid's auc: 0.797664\n",
      "[500]\tvalid's auc: 0.803073\n",
      "[600]\tvalid's auc: 0.806401\n",
      "[700]\tvalid's auc: 0.808023\n",
      "[800]\tvalid's auc: 0.808624\n",
      "[900]\tvalid's auc: 0.80906\n",
      "[1000]\tvalid's auc: 0.809484\n",
      "[1100]\tvalid's auc: 0.809979\n",
      "[1200]\tvalid's auc: 0.80992\n",
      "Early stopping, best iteration is:\n",
      "[1146]\tvalid's auc: 0.810149\n"
     ]
    },
    {
     "name": "stderr",
     "output_type": "stream",
     "text": [
      "/home/wopr/.local/lib/python3.6/site-packages/sklearn/preprocessing/label.py:219: DataConversionWarning: A column-vector y was passed when a 1d array was expected. Please change the shape of y to (n_samples, ), for example using ravel().\n",
      "  y = column_or_1d(y, warn=True)\n",
      "/home/wopr/.local/lib/python3.6/site-packages/sklearn/preprocessing/label.py:252: DataConversionWarning: A column-vector y was passed when a 1d array was expected. Please change the shape of y to (n_samples, ), for example using ravel().\n",
      "  y = column_or_1d(y, warn=True)\n"
     ]
    },
    {
     "name": "stdout",
     "output_type": "stream",
     "text": [
      "Training until validation scores don't improve for 100 rounds.\n",
      "[100]\tvalid's auc: 0.749487\n",
      "[200]\tvalid's auc: 0.776178\n",
      "[300]\tvalid's auc: 0.789337\n",
      "[400]\tvalid's auc: 0.796615\n",
      "[500]\tvalid's auc: 0.80099\n",
      "[600]\tvalid's auc: 0.804311\n",
      "[700]\tvalid's auc: 0.805929\n",
      "[800]\tvalid's auc: 0.806849\n",
      "[900]\tvalid's auc: 0.807267\n",
      "Early stopping, best iteration is:\n",
      "[891]\tvalid's auc: 0.807455\n"
     ]
    },
    {
     "name": "stderr",
     "output_type": "stream",
     "text": [
      "/home/wopr/.local/lib/python3.6/site-packages/sklearn/preprocessing/label.py:219: DataConversionWarning: A column-vector y was passed when a 1d array was expected. Please change the shape of y to (n_samples, ), for example using ravel().\n",
      "  y = column_or_1d(y, warn=True)\n",
      "/home/wopr/.local/lib/python3.6/site-packages/sklearn/preprocessing/label.py:252: DataConversionWarning: A column-vector y was passed when a 1d array was expected. Please change the shape of y to (n_samples, ), for example using ravel().\n",
      "  y = column_or_1d(y, warn=True)\n"
     ]
    },
    {
     "name": "stdout",
     "output_type": "stream",
     "text": [
      "Training until validation scores don't improve for 100 rounds.\n",
      "[100]\tvalid's auc: 0.748208\n",
      "[200]\tvalid's auc: 0.777295\n",
      "[300]\tvalid's auc: 0.790809\n",
      "[400]\tvalid's auc: 0.797863\n",
      "[500]\tvalid's auc: 0.802155\n",
      "[600]\tvalid's auc: 0.804609\n",
      "[700]\tvalid's auc: 0.806134\n",
      "[800]\tvalid's auc: 0.807948\n",
      "[900]\tvalid's auc: 0.808708\n",
      "[1000]\tvalid's auc: 0.809049\n",
      "Early stopping, best iteration is:\n",
      "[946]\tvalid's auc: 0.809318\n"
     ]
    },
    {
     "name": "stderr",
     "output_type": "stream",
     "text": [
      "/home/wopr/.local/lib/python3.6/site-packages/sklearn/preprocessing/label.py:219: DataConversionWarning: A column-vector y was passed when a 1d array was expected. Please change the shape of y to (n_samples, ), for example using ravel().\n",
      "  y = column_or_1d(y, warn=True)\n",
      "/home/wopr/.local/lib/python3.6/site-packages/sklearn/preprocessing/label.py:252: DataConversionWarning: A column-vector y was passed when a 1d array was expected. Please change the shape of y to (n_samples, ), for example using ravel().\n",
      "  y = column_or_1d(y, warn=True)\n"
     ]
    },
    {
     "name": "stdout",
     "output_type": "stream",
     "text": [
      "Training until validation scores don't improve for 100 rounds.\n",
      "[100]\tvalid's auc: 0.5\n",
      "Early stopping, best iteration is:\n",
      "[1]\tvalid's auc: 0.5\n"
     ]
    },
    {
     "name": "stderr",
     "output_type": "stream",
     "text": [
      "/home/wopr/.local/lib/python3.6/site-packages/sklearn/preprocessing/label.py:219: DataConversionWarning: A column-vector y was passed when a 1d array was expected. Please change the shape of y to (n_samples, ), for example using ravel().\n",
      "  y = column_or_1d(y, warn=True)\n",
      "/home/wopr/.local/lib/python3.6/site-packages/sklearn/preprocessing/label.py:252: DataConversionWarning: A column-vector y was passed when a 1d array was expected. Please change the shape of y to (n_samples, ), for example using ravel().\n",
      "  y = column_or_1d(y, warn=True)\n"
     ]
    },
    {
     "name": "stdout",
     "output_type": "stream",
     "text": [
      "Training until validation scores don't improve for 100 rounds.\n",
      "[100]\tvalid's auc: 0.5\n",
      "Early stopping, best iteration is:\n",
      "[1]\tvalid's auc: 0.5\n"
     ]
    },
    {
     "name": "stderr",
     "output_type": "stream",
     "text": [
      "/home/wopr/.local/lib/python3.6/site-packages/sklearn/preprocessing/label.py:219: DataConversionWarning: A column-vector y was passed when a 1d array was expected. Please change the shape of y to (n_samples, ), for example using ravel().\n",
      "  y = column_or_1d(y, warn=True)\n",
      "/home/wopr/.local/lib/python3.6/site-packages/sklearn/preprocessing/label.py:252: DataConversionWarning: A column-vector y was passed when a 1d array was expected. Please change the shape of y to (n_samples, ), for example using ravel().\n",
      "  y = column_or_1d(y, warn=True)\n"
     ]
    },
    {
     "name": "stdout",
     "output_type": "stream",
     "text": [
      "Training until validation scores don't improve for 100 rounds.\n",
      "[100]\tvalid's auc: 0.5\n",
      "Early stopping, best iteration is:\n",
      "[1]\tvalid's auc: 0.5\n"
     ]
    },
    {
     "name": "stderr",
     "output_type": "stream",
     "text": [
      "/home/wopr/.local/lib/python3.6/site-packages/sklearn/preprocessing/label.py:219: DataConversionWarning: A column-vector y was passed when a 1d array was expected. Please change the shape of y to (n_samples, ), for example using ravel().\n",
      "  y = column_or_1d(y, warn=True)\n",
      "/home/wopr/.local/lib/python3.6/site-packages/sklearn/preprocessing/label.py:252: DataConversionWarning: A column-vector y was passed when a 1d array was expected. Please change the shape of y to (n_samples, ), for example using ravel().\n",
      "  y = column_or_1d(y, warn=True)\n"
     ]
    },
    {
     "name": "stdout",
     "output_type": "stream",
     "text": [
      "Training until validation scores don't improve for 100 rounds.\n",
      "[100]\tvalid's auc: 0.756452\n",
      "[200]\tvalid's auc: 0.781169\n",
      "[300]\tvalid's auc: 0.792387\n",
      "[400]\tvalid's auc: 0.799633\n",
      "[500]\tvalid's auc: 0.802853\n",
      "[600]\tvalid's auc: 0.805453\n",
      "[700]\tvalid's auc: 0.806782\n",
      "[800]\tvalid's auc: 0.808288\n",
      "[900]\tvalid's auc: 0.808842\n",
      "[1000]\tvalid's auc: 0.80957\n",
      "[1100]\tvalid's auc: 0.810258\n",
      "[1200]\tvalid's auc: 0.811156\n",
      "[1300]\tvalid's auc: 0.811583\n",
      "[1400]\tvalid's auc: 0.812021\n",
      "[1500]\tvalid's auc: 0.812428\n",
      "[1600]\tvalid's auc: 0.81298\n",
      "[1700]\tvalid's auc: 0.813221\n",
      "[1800]\tvalid's auc: 0.813521\n",
      "[1900]\tvalid's auc: 0.81377\n",
      "[2000]\tvalid's auc: 0.813807\n",
      "[2100]\tvalid's auc: 0.813918\n",
      "[2200]\tvalid's auc: 0.813822\n",
      "Early stopping, best iteration is:\n",
      "[2138]\tvalid's auc: 0.813956\n"
     ]
    },
    {
     "name": "stderr",
     "output_type": "stream",
     "text": [
      "/home/wopr/.local/lib/python3.6/site-packages/sklearn/preprocessing/label.py:219: DataConversionWarning: A column-vector y was passed when a 1d array was expected. Please change the shape of y to (n_samples, ), for example using ravel().\n",
      "  y = column_or_1d(y, warn=True)\n",
      "/home/wopr/.local/lib/python3.6/site-packages/sklearn/preprocessing/label.py:252: DataConversionWarning: A column-vector y was passed when a 1d array was expected. Please change the shape of y to (n_samples, ), for example using ravel().\n",
      "  y = column_or_1d(y, warn=True)\n"
     ]
    },
    {
     "name": "stdout",
     "output_type": "stream",
     "text": [
      "Training until validation scores don't improve for 100 rounds.\n",
      "[100]\tvalid's auc: 0.760343\n",
      "[200]\tvalid's auc: 0.78224\n",
      "[300]\tvalid's auc: 0.79291\n",
      "[400]\tvalid's auc: 0.799567\n",
      "[500]\tvalid's auc: 0.802868\n",
      "[600]\tvalid's auc: 0.805677\n",
      "[700]\tvalid's auc: 0.807678\n",
      "[800]\tvalid's auc: 0.808776\n",
      "[900]\tvalid's auc: 0.809588\n",
      "[1000]\tvalid's auc: 0.810528\n",
      "[1100]\tvalid's auc: 0.810976\n",
      "[1200]\tvalid's auc: 0.811565\n",
      "[1300]\tvalid's auc: 0.811618\n",
      "[1400]\tvalid's auc: 0.812008\n",
      "[1500]\tvalid's auc: 0.812226\n",
      "[1600]\tvalid's auc: 0.812774\n",
      "[1700]\tvalid's auc: 0.812958\n",
      "[1800]\tvalid's auc: 0.813277\n",
      "[1900]\tvalid's auc: 0.813258\n",
      "Early stopping, best iteration is:\n",
      "[1845]\tvalid's auc: 0.813474\n"
     ]
    },
    {
     "name": "stderr",
     "output_type": "stream",
     "text": [
      "/home/wopr/.local/lib/python3.6/site-packages/sklearn/preprocessing/label.py:219: DataConversionWarning: A column-vector y was passed when a 1d array was expected. Please change the shape of y to (n_samples, ), for example using ravel().\n",
      "  y = column_or_1d(y, warn=True)\n",
      "/home/wopr/.local/lib/python3.6/site-packages/sklearn/preprocessing/label.py:252: DataConversionWarning: A column-vector y was passed when a 1d array was expected. Please change the shape of y to (n_samples, ), for example using ravel().\n",
      "  y = column_or_1d(y, warn=True)\n"
     ]
    },
    {
     "name": "stdout",
     "output_type": "stream",
     "text": [
      "Training until validation scores don't improve for 100 rounds.\n",
      "[100]\tvalid's auc: 0.757795\n",
      "[200]\tvalid's auc: 0.781945\n",
      "[300]\tvalid's auc: 0.793293\n",
      "[400]\tvalid's auc: 0.799362\n",
      "[500]\tvalid's auc: 0.803363\n",
      "[600]\tvalid's auc: 0.805486\n",
      "[700]\tvalid's auc: 0.80695\n",
      "[800]\tvalid's auc: 0.808457\n",
      "[900]\tvalid's auc: 0.809819\n",
      "[1000]\tvalid's auc: 0.810371\n",
      "[1100]\tvalid's auc: 0.810526\n",
      "[1200]\tvalid's auc: 0.81075\n",
      "[1300]\tvalid's auc: 0.811195\n"
     ]
    },
    {
     "ename": "KeyboardInterrupt",
     "evalue": "",
     "output_type": "error",
     "traceback": [
      "\u001b[0;31m---------------------------------------------------------------------------\u001b[0m",
      "\u001b[0;31mKeyboardInterrupt\u001b[0m                         Traceback (most recent call last)",
      "\u001b[0;32m<ipython-input-22-e375dfa92104>\u001b[0m in \u001b[0;36m<module>\u001b[0;34m\u001b[0m\n\u001b[1;32m     65\u001b[0m         verbose=True)\n\u001b[1;32m     66\u001b[0m \u001b[0;34m\u001b[0m\u001b[0m\n\u001b[0;32m---> 67\u001b[0;31m     \u001b[0mgs\u001b[0m\u001b[0;34m.\u001b[0m\u001b[0mfit\u001b[0m\u001b[0;34m(\u001b[0m\u001b[0mtrain_data\u001b[0m\u001b[0;34m,\u001b[0m \u001b[0mtrain_y\u001b[0m\u001b[0;34m,\u001b[0m \u001b[0;34m**\u001b[0m\u001b[0mfit_params\u001b[0m\u001b[0;34m)\u001b[0m\u001b[0;34m\u001b[0m\u001b[0;34m\u001b[0m\u001b[0m\n\u001b[0m\u001b[1;32m     68\u001b[0m     \u001b[0moof\u001b[0m\u001b[0;34m[\u001b[0m\u001b[0mval_idx\u001b[0m\u001b[0;34m]\u001b[0m \u001b[0;34m=\u001b[0m \u001b[0mgs\u001b[0m\u001b[0;34m.\u001b[0m\u001b[0mpredict\u001b[0m\u001b[0;34m(\u001b[0m\u001b[0mdf_train\u001b[0m\u001b[0;34m.\u001b[0m\u001b[0miloc\u001b[0m\u001b[0;34m[\u001b[0m\u001b[0mval_idx\u001b[0m\u001b[0;34m]\u001b[0m\u001b[0;34m[\u001b[0m\u001b[0mae_columns\u001b[0m\u001b[0;34m]\u001b[0m\u001b[0;34m,\u001b[0m \u001b[0mnum_iteration\u001b[0m\u001b[0;34m=\u001b[0m\u001b[0mclf\u001b[0m\u001b[0;34m.\u001b[0m\u001b[0mbest_iteration\u001b[0m\u001b[0;34m)\u001b[0m\u001b[0;34m\u001b[0m\u001b[0;34m\u001b[0m\u001b[0m\n\u001b[1;32m     69\u001b[0m \u001b[0;34m\u001b[0m\u001b[0m\n",
      "\u001b[0;32m~/.local/lib/python3.6/site-packages/sklearn/model_selection/_search.py\u001b[0m in \u001b[0;36mfit\u001b[0;34m(self, X, y, groups, **fit_params)\u001b[0m\n\u001b[1;32m    720\u001b[0m                 \u001b[0;32mreturn\u001b[0m \u001b[0mresults_container\u001b[0m\u001b[0;34m[\u001b[0m\u001b[0;36m0\u001b[0m\u001b[0;34m]\u001b[0m\u001b[0;34m\u001b[0m\u001b[0;34m\u001b[0m\u001b[0m\n\u001b[1;32m    721\u001b[0m \u001b[0;34m\u001b[0m\u001b[0m\n\u001b[0;32m--> 722\u001b[0;31m             \u001b[0mself\u001b[0m\u001b[0;34m.\u001b[0m\u001b[0m_run_search\u001b[0m\u001b[0;34m(\u001b[0m\u001b[0mevaluate_candidates\u001b[0m\u001b[0;34m)\u001b[0m\u001b[0;34m\u001b[0m\u001b[0;34m\u001b[0m\u001b[0m\n\u001b[0m\u001b[1;32m    723\u001b[0m \u001b[0;34m\u001b[0m\u001b[0m\n\u001b[1;32m    724\u001b[0m         \u001b[0mresults\u001b[0m \u001b[0;34m=\u001b[0m \u001b[0mresults_container\u001b[0m\u001b[0;34m[\u001b[0m\u001b[0;36m0\u001b[0m\u001b[0;34m]\u001b[0m\u001b[0;34m\u001b[0m\u001b[0;34m\u001b[0m\u001b[0m\n",
      "\u001b[0;32m~/.local/lib/python3.6/site-packages/sklearn/model_selection/_search.py\u001b[0m in \u001b[0;36m_run_search\u001b[0;34m(self, evaluate_candidates)\u001b[0m\n\u001b[1;32m   1513\u001b[0m         evaluate_candidates(ParameterSampler(\n\u001b[1;32m   1514\u001b[0m             \u001b[0mself\u001b[0m\u001b[0;34m.\u001b[0m\u001b[0mparam_distributions\u001b[0m\u001b[0;34m,\u001b[0m \u001b[0mself\u001b[0m\u001b[0;34m.\u001b[0m\u001b[0mn_iter\u001b[0m\u001b[0;34m,\u001b[0m\u001b[0;34m\u001b[0m\u001b[0;34m\u001b[0m\u001b[0m\n\u001b[0;32m-> 1515\u001b[0;31m             random_state=self.random_state))\n\u001b[0m",
      "\u001b[0;32m~/.local/lib/python3.6/site-packages/sklearn/model_selection/_search.py\u001b[0m in \u001b[0;36mevaluate_candidates\u001b[0;34m(candidate_params)\u001b[0m\n\u001b[1;32m    709\u001b[0m                                \u001b[0;32mfor\u001b[0m \u001b[0mparameters\u001b[0m\u001b[0;34m,\u001b[0m \u001b[0;34m(\u001b[0m\u001b[0mtrain\u001b[0m\u001b[0;34m,\u001b[0m \u001b[0mtest\u001b[0m\u001b[0;34m)\u001b[0m\u001b[0;34m\u001b[0m\u001b[0;34m\u001b[0m\u001b[0m\n\u001b[1;32m    710\u001b[0m                                in product(candidate_params,\n\u001b[0;32m--> 711\u001b[0;31m                                           cv.split(X, y, groups)))\n\u001b[0m\u001b[1;32m    712\u001b[0m \u001b[0;34m\u001b[0m\u001b[0m\n\u001b[1;32m    713\u001b[0m                 \u001b[0mall_candidate_params\u001b[0m\u001b[0;34m.\u001b[0m\u001b[0mextend\u001b[0m\u001b[0;34m(\u001b[0m\u001b[0mcandidate_params\u001b[0m\u001b[0;34m)\u001b[0m\u001b[0;34m\u001b[0m\u001b[0;34m\u001b[0m\u001b[0m\n",
      "\u001b[0;32m~/.local/lib/python3.6/site-packages/sklearn/externals/joblib/parallel.py\u001b[0m in \u001b[0;36m__call__\u001b[0;34m(self, iterable)\u001b[0m\n\u001b[1;32m    918\u001b[0m                 \u001b[0mself\u001b[0m\u001b[0;34m.\u001b[0m\u001b[0m_iterating\u001b[0m \u001b[0;34m=\u001b[0m \u001b[0mself\u001b[0m\u001b[0;34m.\u001b[0m\u001b[0m_original_iterator\u001b[0m \u001b[0;32mis\u001b[0m \u001b[0;32mnot\u001b[0m \u001b[0;32mNone\u001b[0m\u001b[0;34m\u001b[0m\u001b[0;34m\u001b[0m\u001b[0m\n\u001b[1;32m    919\u001b[0m \u001b[0;34m\u001b[0m\u001b[0m\n\u001b[0;32m--> 920\u001b[0;31m             \u001b[0;32mwhile\u001b[0m \u001b[0mself\u001b[0m\u001b[0;34m.\u001b[0m\u001b[0mdispatch_one_batch\u001b[0m\u001b[0;34m(\u001b[0m\u001b[0miterator\u001b[0m\u001b[0;34m)\u001b[0m\u001b[0;34m:\u001b[0m\u001b[0;34m\u001b[0m\u001b[0;34m\u001b[0m\u001b[0m\n\u001b[0m\u001b[1;32m    921\u001b[0m                 \u001b[0;32mpass\u001b[0m\u001b[0;34m\u001b[0m\u001b[0;34m\u001b[0m\u001b[0m\n\u001b[1;32m    922\u001b[0m \u001b[0;34m\u001b[0m\u001b[0m\n",
      "\u001b[0;32m~/.local/lib/python3.6/site-packages/sklearn/externals/joblib/parallel.py\u001b[0m in \u001b[0;36mdispatch_one_batch\u001b[0;34m(self, iterator)\u001b[0m\n\u001b[1;32m    757\u001b[0m                 \u001b[0;32mreturn\u001b[0m \u001b[0;32mFalse\u001b[0m\u001b[0;34m\u001b[0m\u001b[0;34m\u001b[0m\u001b[0m\n\u001b[1;32m    758\u001b[0m             \u001b[0;32melse\u001b[0m\u001b[0;34m:\u001b[0m\u001b[0;34m\u001b[0m\u001b[0;34m\u001b[0m\u001b[0m\n\u001b[0;32m--> 759\u001b[0;31m                 \u001b[0mself\u001b[0m\u001b[0;34m.\u001b[0m\u001b[0m_dispatch\u001b[0m\u001b[0;34m(\u001b[0m\u001b[0mtasks\u001b[0m\u001b[0;34m)\u001b[0m\u001b[0;34m\u001b[0m\u001b[0;34m\u001b[0m\u001b[0m\n\u001b[0m\u001b[1;32m    760\u001b[0m                 \u001b[0;32mreturn\u001b[0m \u001b[0;32mTrue\u001b[0m\u001b[0;34m\u001b[0m\u001b[0;34m\u001b[0m\u001b[0m\n\u001b[1;32m    761\u001b[0m \u001b[0;34m\u001b[0m\u001b[0m\n",
      "\u001b[0;32m~/.local/lib/python3.6/site-packages/sklearn/externals/joblib/parallel.py\u001b[0m in \u001b[0;36m_dispatch\u001b[0;34m(self, batch)\u001b[0m\n\u001b[1;32m    714\u001b[0m         \u001b[0;32mwith\u001b[0m \u001b[0mself\u001b[0m\u001b[0;34m.\u001b[0m\u001b[0m_lock\u001b[0m\u001b[0;34m:\u001b[0m\u001b[0;34m\u001b[0m\u001b[0;34m\u001b[0m\u001b[0m\n\u001b[1;32m    715\u001b[0m             \u001b[0mjob_idx\u001b[0m \u001b[0;34m=\u001b[0m \u001b[0mlen\u001b[0m\u001b[0;34m(\u001b[0m\u001b[0mself\u001b[0m\u001b[0;34m.\u001b[0m\u001b[0m_jobs\u001b[0m\u001b[0;34m)\u001b[0m\u001b[0;34m\u001b[0m\u001b[0;34m\u001b[0m\u001b[0m\n\u001b[0;32m--> 716\u001b[0;31m             \u001b[0mjob\u001b[0m \u001b[0;34m=\u001b[0m \u001b[0mself\u001b[0m\u001b[0;34m.\u001b[0m\u001b[0m_backend\u001b[0m\u001b[0;34m.\u001b[0m\u001b[0mapply_async\u001b[0m\u001b[0;34m(\u001b[0m\u001b[0mbatch\u001b[0m\u001b[0;34m,\u001b[0m \u001b[0mcallback\u001b[0m\u001b[0;34m=\u001b[0m\u001b[0mcb\u001b[0m\u001b[0;34m)\u001b[0m\u001b[0;34m\u001b[0m\u001b[0;34m\u001b[0m\u001b[0m\n\u001b[0m\u001b[1;32m    717\u001b[0m             \u001b[0;31m# A job can complete so quickly than its callback is\u001b[0m\u001b[0;34m\u001b[0m\u001b[0;34m\u001b[0m\u001b[0;34m\u001b[0m\u001b[0m\n\u001b[1;32m    718\u001b[0m             \u001b[0;31m# called before we get here, causing self._jobs to\u001b[0m\u001b[0;34m\u001b[0m\u001b[0;34m\u001b[0m\u001b[0;34m\u001b[0m\u001b[0m\n",
      "\u001b[0;32m~/.local/lib/python3.6/site-packages/sklearn/externals/joblib/_parallel_backends.py\u001b[0m in \u001b[0;36mapply_async\u001b[0;34m(self, func, callback)\u001b[0m\n\u001b[1;32m    180\u001b[0m     \u001b[0;32mdef\u001b[0m \u001b[0mapply_async\u001b[0m\u001b[0;34m(\u001b[0m\u001b[0mself\u001b[0m\u001b[0;34m,\u001b[0m \u001b[0mfunc\u001b[0m\u001b[0;34m,\u001b[0m \u001b[0mcallback\u001b[0m\u001b[0;34m=\u001b[0m\u001b[0;32mNone\u001b[0m\u001b[0;34m)\u001b[0m\u001b[0;34m:\u001b[0m\u001b[0;34m\u001b[0m\u001b[0;34m\u001b[0m\u001b[0m\n\u001b[1;32m    181\u001b[0m         \u001b[0;34m\"\"\"Schedule a func to be run\"\"\"\u001b[0m\u001b[0;34m\u001b[0m\u001b[0;34m\u001b[0m\u001b[0m\n\u001b[0;32m--> 182\u001b[0;31m         \u001b[0mresult\u001b[0m \u001b[0;34m=\u001b[0m \u001b[0mImmediateResult\u001b[0m\u001b[0;34m(\u001b[0m\u001b[0mfunc\u001b[0m\u001b[0;34m)\u001b[0m\u001b[0;34m\u001b[0m\u001b[0;34m\u001b[0m\u001b[0m\n\u001b[0m\u001b[1;32m    183\u001b[0m         \u001b[0;32mif\u001b[0m \u001b[0mcallback\u001b[0m\u001b[0;34m:\u001b[0m\u001b[0;34m\u001b[0m\u001b[0;34m\u001b[0m\u001b[0m\n\u001b[1;32m    184\u001b[0m             \u001b[0mcallback\u001b[0m\u001b[0;34m(\u001b[0m\u001b[0mresult\u001b[0m\u001b[0;34m)\u001b[0m\u001b[0;34m\u001b[0m\u001b[0;34m\u001b[0m\u001b[0m\n",
      "\u001b[0;32m~/.local/lib/python3.6/site-packages/sklearn/externals/joblib/_parallel_backends.py\u001b[0m in \u001b[0;36m__init__\u001b[0;34m(self, batch)\u001b[0m\n\u001b[1;32m    547\u001b[0m         \u001b[0;31m# Don't delay the application, to avoid keeping the input\u001b[0m\u001b[0;34m\u001b[0m\u001b[0;34m\u001b[0m\u001b[0;34m\u001b[0m\u001b[0m\n\u001b[1;32m    548\u001b[0m         \u001b[0;31m# arguments in memory\u001b[0m\u001b[0;34m\u001b[0m\u001b[0;34m\u001b[0m\u001b[0;34m\u001b[0m\u001b[0m\n\u001b[0;32m--> 549\u001b[0;31m         \u001b[0mself\u001b[0m\u001b[0;34m.\u001b[0m\u001b[0mresults\u001b[0m \u001b[0;34m=\u001b[0m \u001b[0mbatch\u001b[0m\u001b[0;34m(\u001b[0m\u001b[0;34m)\u001b[0m\u001b[0;34m\u001b[0m\u001b[0;34m\u001b[0m\u001b[0m\n\u001b[0m\u001b[1;32m    550\u001b[0m \u001b[0;34m\u001b[0m\u001b[0m\n\u001b[1;32m    551\u001b[0m     \u001b[0;32mdef\u001b[0m \u001b[0mget\u001b[0m\u001b[0;34m(\u001b[0m\u001b[0mself\u001b[0m\u001b[0;34m)\u001b[0m\u001b[0;34m:\u001b[0m\u001b[0;34m\u001b[0m\u001b[0;34m\u001b[0m\u001b[0m\n",
      "\u001b[0;32m~/.local/lib/python3.6/site-packages/sklearn/externals/joblib/parallel.py\u001b[0m in \u001b[0;36m__call__\u001b[0;34m(self)\u001b[0m\n\u001b[1;32m    223\u001b[0m         \u001b[0;32mwith\u001b[0m \u001b[0mparallel_backend\u001b[0m\u001b[0;34m(\u001b[0m\u001b[0mself\u001b[0m\u001b[0;34m.\u001b[0m\u001b[0m_backend\u001b[0m\u001b[0;34m,\u001b[0m \u001b[0mn_jobs\u001b[0m\u001b[0;34m=\u001b[0m\u001b[0mself\u001b[0m\u001b[0;34m.\u001b[0m\u001b[0m_n_jobs\u001b[0m\u001b[0;34m)\u001b[0m\u001b[0;34m:\u001b[0m\u001b[0;34m\u001b[0m\u001b[0;34m\u001b[0m\u001b[0m\n\u001b[1;32m    224\u001b[0m             return [func(*args, **kwargs)\n\u001b[0;32m--> 225\u001b[0;31m                     for func, args, kwargs in self.items]\n\u001b[0m\u001b[1;32m    226\u001b[0m \u001b[0;34m\u001b[0m\u001b[0m\n\u001b[1;32m    227\u001b[0m     \u001b[0;32mdef\u001b[0m \u001b[0m__len__\u001b[0m\u001b[0;34m(\u001b[0m\u001b[0mself\u001b[0m\u001b[0;34m)\u001b[0m\u001b[0;34m:\u001b[0m\u001b[0;34m\u001b[0m\u001b[0;34m\u001b[0m\u001b[0m\n",
      "\u001b[0;32m~/.local/lib/python3.6/site-packages/sklearn/externals/joblib/parallel.py\u001b[0m in \u001b[0;36m<listcomp>\u001b[0;34m(.0)\u001b[0m\n\u001b[1;32m    223\u001b[0m         \u001b[0;32mwith\u001b[0m \u001b[0mparallel_backend\u001b[0m\u001b[0;34m(\u001b[0m\u001b[0mself\u001b[0m\u001b[0;34m.\u001b[0m\u001b[0m_backend\u001b[0m\u001b[0;34m,\u001b[0m \u001b[0mn_jobs\u001b[0m\u001b[0;34m=\u001b[0m\u001b[0mself\u001b[0m\u001b[0;34m.\u001b[0m\u001b[0m_n_jobs\u001b[0m\u001b[0;34m)\u001b[0m\u001b[0;34m:\u001b[0m\u001b[0;34m\u001b[0m\u001b[0;34m\u001b[0m\u001b[0m\n\u001b[1;32m    224\u001b[0m             return [func(*args, **kwargs)\n\u001b[0;32m--> 225\u001b[0;31m                     for func, args, kwargs in self.items]\n\u001b[0m\u001b[1;32m    226\u001b[0m \u001b[0;34m\u001b[0m\u001b[0m\n\u001b[1;32m    227\u001b[0m     \u001b[0;32mdef\u001b[0m \u001b[0m__len__\u001b[0m\u001b[0;34m(\u001b[0m\u001b[0mself\u001b[0m\u001b[0;34m)\u001b[0m\u001b[0;34m:\u001b[0m\u001b[0;34m\u001b[0m\u001b[0;34m\u001b[0m\u001b[0m\n",
      "\u001b[0;32m~/.local/lib/python3.6/site-packages/sklearn/model_selection/_validation.py\u001b[0m in \u001b[0;36m_fit_and_score\u001b[0;34m(estimator, X, y, scorer, train, test, verbose, parameters, fit_params, return_train_score, return_parameters, return_n_test_samples, return_times, return_estimator, error_score)\u001b[0m\n\u001b[1;32m    526\u001b[0m             \u001b[0mestimator\u001b[0m\u001b[0;34m.\u001b[0m\u001b[0mfit\u001b[0m\u001b[0;34m(\u001b[0m\u001b[0mX_train\u001b[0m\u001b[0;34m,\u001b[0m \u001b[0;34m**\u001b[0m\u001b[0mfit_params\u001b[0m\u001b[0;34m)\u001b[0m\u001b[0;34m\u001b[0m\u001b[0;34m\u001b[0m\u001b[0m\n\u001b[1;32m    527\u001b[0m         \u001b[0;32melse\u001b[0m\u001b[0;34m:\u001b[0m\u001b[0;34m\u001b[0m\u001b[0;34m\u001b[0m\u001b[0m\n\u001b[0;32m--> 528\u001b[0;31m             \u001b[0mestimator\u001b[0m\u001b[0;34m.\u001b[0m\u001b[0mfit\u001b[0m\u001b[0;34m(\u001b[0m\u001b[0mX_train\u001b[0m\u001b[0;34m,\u001b[0m \u001b[0my_train\u001b[0m\u001b[0;34m,\u001b[0m \u001b[0;34m**\u001b[0m\u001b[0mfit_params\u001b[0m\u001b[0;34m)\u001b[0m\u001b[0;34m\u001b[0m\u001b[0;34m\u001b[0m\u001b[0m\n\u001b[0m\u001b[1;32m    529\u001b[0m \u001b[0;34m\u001b[0m\u001b[0m\n\u001b[1;32m    530\u001b[0m     \u001b[0;32mexcept\u001b[0m \u001b[0mException\u001b[0m \u001b[0;32mas\u001b[0m \u001b[0me\u001b[0m\u001b[0;34m:\u001b[0m\u001b[0;34m\u001b[0m\u001b[0;34m\u001b[0m\u001b[0m\n",
      "\u001b[0;32m/usr/local/lib/python3.6/dist-packages/lightgbm/sklearn.py\u001b[0m in \u001b[0;36mfit\u001b[0;34m(self, X, y, sample_weight, init_score, eval_set, eval_names, eval_sample_weight, eval_class_weight, eval_init_score, eval_metric, early_stopping_rounds, verbose, feature_name, categorical_feature, callbacks)\u001b[0m\n\u001b[1;32m    742\u001b[0m                                         \u001b[0mverbose\u001b[0m\u001b[0;34m=\u001b[0m\u001b[0mverbose\u001b[0m\u001b[0;34m,\u001b[0m \u001b[0mfeature_name\u001b[0m\u001b[0;34m=\u001b[0m\u001b[0mfeature_name\u001b[0m\u001b[0;34m,\u001b[0m\u001b[0;34m\u001b[0m\u001b[0;34m\u001b[0m\u001b[0m\n\u001b[1;32m    743\u001b[0m                                         \u001b[0mcategorical_feature\u001b[0m\u001b[0;34m=\u001b[0m\u001b[0mcategorical_feature\u001b[0m\u001b[0;34m,\u001b[0m\u001b[0;34m\u001b[0m\u001b[0;34m\u001b[0m\u001b[0m\n\u001b[0;32m--> 744\u001b[0;31m                                         callbacks=callbacks)\n\u001b[0m\u001b[1;32m    745\u001b[0m         \u001b[0;32mreturn\u001b[0m \u001b[0mself\u001b[0m\u001b[0;34m\u001b[0m\u001b[0;34m\u001b[0m\u001b[0m\n\u001b[1;32m    746\u001b[0m \u001b[0;34m\u001b[0m\u001b[0m\n",
      "\u001b[0;32m/usr/local/lib/python3.6/dist-packages/lightgbm/sklearn.py\u001b[0m in \u001b[0;36mfit\u001b[0;34m(self, X, y, sample_weight, init_score, group, eval_set, eval_names, eval_sample_weight, eval_class_weight, eval_init_score, eval_group, eval_metric, early_stopping_rounds, verbose, feature_name, categorical_feature, callbacks)\u001b[0m\n\u001b[1;32m    542\u001b[0m                               \u001b[0mverbose_eval\u001b[0m\u001b[0;34m=\u001b[0m\u001b[0mverbose\u001b[0m\u001b[0;34m,\u001b[0m \u001b[0mfeature_name\u001b[0m\u001b[0;34m=\u001b[0m\u001b[0mfeature_name\u001b[0m\u001b[0;34m,\u001b[0m\u001b[0;34m\u001b[0m\u001b[0;34m\u001b[0m\u001b[0m\n\u001b[1;32m    543\u001b[0m                               \u001b[0mcategorical_feature\u001b[0m\u001b[0;34m=\u001b[0m\u001b[0mcategorical_feature\u001b[0m\u001b[0;34m,\u001b[0m\u001b[0;34m\u001b[0m\u001b[0;34m\u001b[0m\u001b[0m\n\u001b[0;32m--> 544\u001b[0;31m                               callbacks=callbacks)\n\u001b[0m\u001b[1;32m    545\u001b[0m \u001b[0;34m\u001b[0m\u001b[0m\n\u001b[1;32m    546\u001b[0m         \u001b[0;32mif\u001b[0m \u001b[0mevals_result\u001b[0m\u001b[0;34m:\u001b[0m\u001b[0;34m\u001b[0m\u001b[0;34m\u001b[0m\u001b[0m\n",
      "\u001b[0;32m/usr/local/lib/python3.6/dist-packages/lightgbm/engine.py\u001b[0m in \u001b[0;36mtrain\u001b[0;34m(params, train_set, num_boost_round, valid_sets, valid_names, fobj, feval, init_model, feature_name, categorical_feature, early_stopping_rounds, evals_result, verbose_eval, learning_rates, keep_training_booster, callbacks)\u001b[0m\n\u001b[1;32m    216\u001b[0m                                     evaluation_result_list=None))\n\u001b[1;32m    217\u001b[0m \u001b[0;34m\u001b[0m\u001b[0m\n\u001b[0;32m--> 218\u001b[0;31m         \u001b[0mbooster\u001b[0m\u001b[0;34m.\u001b[0m\u001b[0mupdate\u001b[0m\u001b[0;34m(\u001b[0m\u001b[0mfobj\u001b[0m\u001b[0;34m=\u001b[0m\u001b[0mfobj\u001b[0m\u001b[0;34m)\u001b[0m\u001b[0;34m\u001b[0m\u001b[0;34m\u001b[0m\u001b[0m\n\u001b[0m\u001b[1;32m    219\u001b[0m \u001b[0;34m\u001b[0m\u001b[0m\n\u001b[1;32m    220\u001b[0m         \u001b[0mevaluation_result_list\u001b[0m \u001b[0;34m=\u001b[0m \u001b[0;34m[\u001b[0m\u001b[0;34m]\u001b[0m\u001b[0;34m\u001b[0m\u001b[0;34m\u001b[0m\u001b[0m\n",
      "\u001b[0;32m/usr/local/lib/python3.6/dist-packages/lightgbm/basic.py\u001b[0m in \u001b[0;36mupdate\u001b[0;34m(self, train_set, fobj)\u001b[0m\n\u001b[1;32m   1800\u001b[0m             _safe_call(_LIB.LGBM_BoosterUpdateOneIter(\n\u001b[1;32m   1801\u001b[0m                 \u001b[0mself\u001b[0m\u001b[0;34m.\u001b[0m\u001b[0mhandle\u001b[0m\u001b[0;34m,\u001b[0m\u001b[0;34m\u001b[0m\u001b[0;34m\u001b[0m\u001b[0m\n\u001b[0;32m-> 1802\u001b[0;31m                 ctypes.byref(is_finished)))\n\u001b[0m\u001b[1;32m   1803\u001b[0m             \u001b[0mself\u001b[0m\u001b[0;34m.\u001b[0m\u001b[0m__is_predicted_cur_iter\u001b[0m \u001b[0;34m=\u001b[0m \u001b[0;34m[\u001b[0m\u001b[0;32mFalse\u001b[0m \u001b[0;32mfor\u001b[0m \u001b[0m_\u001b[0m \u001b[0;32min\u001b[0m \u001b[0mrange_\u001b[0m\u001b[0;34m(\u001b[0m\u001b[0mself\u001b[0m\u001b[0;34m.\u001b[0m\u001b[0m__num_dataset\u001b[0m\u001b[0;34m)\u001b[0m\u001b[0;34m]\u001b[0m\u001b[0;34m\u001b[0m\u001b[0;34m\u001b[0m\u001b[0m\n\u001b[1;32m   1804\u001b[0m             \u001b[0;32mreturn\u001b[0m \u001b[0mis_finished\u001b[0m\u001b[0;34m.\u001b[0m\u001b[0mvalue\u001b[0m \u001b[0;34m==\u001b[0m \u001b[0;36m1\u001b[0m\u001b[0;34m\u001b[0m\u001b[0;34m\u001b[0m\u001b[0m\n",
      "\u001b[0;31mKeyboardInterrupt\u001b[0m: "
     ]
    }
   ],
   "source": [
    "from sklearn.model_selection import RandomizedSearchCV, GridSearchCV\n",
    "from sklearn.model_selection import PredefinedSplit\n",
    "from scipy.stats import randint as sp_randint\n",
    "from scipy.stats import uniform as sp_uniform\n",
    "\n",
    "folds = StratifiedKFold(n_splits=5, shuffle=True, random_state=4590)\n",
    "oof = np.zeros(len(df_train))\n",
    "predictions = np.zeros(len(df_test))\n",
    "feature_importance_df = pd.DataFrame()\n",
    "label_cols = [\"target\"]\n",
    "y_split = df_train[label_cols].values\n",
    "\n",
    "param_test ={'num_leaves': sp_randint(6, 50), \n",
    "             'min_child_samples': sp_randint(100, 500), \n",
    "             'min_child_weight': [1e-5, 1e-3, 1e-2, 1e-1, 1, 1e1, 1e2, 1e3, 1e4],\n",
    "             'subsample': sp_uniform(loc=0.2, scale=0.8), \n",
    "             'colsample_bytree': sp_uniform(loc=0.4, scale=0.6),\n",
    "             'reg_alpha': [0, 1e-1, 1, 2, 5, 7, 10, 50, 100],\n",
    "             'reg_lambda': [0, 1e-1, 1, 5, 10, 20, 50, 100]}\n",
    "\n",
    "\n",
    "for fold_, (trn_idx, val_idx) in enumerate(folds.split(y_split[:,0], y_split[:,0])):\n",
    "    print(\"fold {}\".format(fold_))\n",
    "\n",
    "    train_x, train_y = df_train[ae_columns].iloc[trn_idx], df_train['target'].iloc[trn_idx]\n",
    "#    trn_data, trn_y = df_train[ae_columns].iloc[trn_idx], df_train['target'].iloc[trn_idx]\n",
    "    val_x, val_y = df_train[ae_columns].iloc[val_idx], df_train['target'].iloc[val_idx]\n",
    "\n",
    "#    classes=[]\n",
    "#    for i in np.unique(trn_y):\n",
    "#        classes.append(i)\n",
    "#        print(\"Before OverSampling, counts of label \" + str(i) + \": {}\".format(sum(trn_y==i)))\n",
    "\n",
    "#    sm=SMOTE(random_state=2)\n",
    "#    train_x, train_y = sm.fit_sample(trn_data, trn_y.ravel())\n",
    "\n",
    "#    print('After OverSampling, the shape of train_X: {}'.format(train_x.shape))\n",
    "#    print('After OverSampling, the shape of train_y: {} \\n'.format(train_y.shape))\n",
    "\n",
    "#    for eachClass in classes:\n",
    "#        print(\"After OverSampling, counts of label \" + str(eachClass) + \": {}\".format(sum(train_y==eachClass)))  \n",
    "    \n",
    "    num_round = 20000 \n",
    "    train_data = pd.DataFrame(train_x)\n",
    "    train_y = pd.DataFrame(train_y)\n",
    "    train = lgb.Dataset(train_x, label=train_y)#, categorical_feature=categorical_feats)\n",
    "    val = lgb.Dataset(val_x, label=val_y)#, categorical_feature=categorical_feats)\n",
    "    \n",
    "    # Create parameters to search\n",
    "    fit_params={\"early_stopping_rounds\":100, \n",
    "                \"eval_metric\" : 'auc', \n",
    "                'eval_set' : [(val_x,val_y)],\n",
    "                'eval_names': ['valid'],\n",
    "                #'callbacks': [lgb.reset_parameter(learning_rate=learning_rate_010_decay_power_099)],\n",
    "                'verbose': 100}\n",
    "\n",
    "    clf = lgb.LGBMClassifier(max_depth=-1, random_state=314, silent=True, metric='None', n_jobs=-1, device = 'gpu', n_estimators=5000)\n",
    "    gs = RandomizedSearchCV(\n",
    "        estimator=clf, param_distributions=param_test, \n",
    "        n_iter=num_round,\n",
    "        scoring='roc_auc',\n",
    "        cv=3,\n",
    "        refit=True,\n",
    "        random_state=314,\n",
    "        verbose=True)\n",
    "    \n",
    "    gs.fit(train_data, train_y, **fit_params)\n",
    "    oof[val_idx] = gs.predict(df_train.iloc[val_idx][ae_columns], num_iteration=clf.best_iteration)\n",
    "\n",
    "    \n",
    "    train_prediction = gs.predict(df_train[ae_columns] / folds.n_splits)\n",
    "    predictions += gs.predict(df_test[ae_columns] / folds.n_splits)\n",
    "    print(\"BEST PARAMETERS: \" + str(gs.best_params_))\n",
    "    print(\"BEST CV SCORE: \" + str(gs.best_score_))\n",
    "\n",
    "np.sqrt(mean_squared_error(oof, target))"
   ]
  },
  {
   "cell_type": "code",
   "execution_count": null,
   "metadata": {},
   "outputs": [],
   "source": [
    "sub_df = pd.DataFrame({\"ID_code\":df_test[\"ID_code\"].values})\n",
    "sub_df[\"target\"] = predictions\n",
    "sub_df.to_csv(\"submission.csv\", index=False)"
   ]
  },
  {
   "cell_type": "code",
   "execution_count": null,
   "metadata": {},
   "outputs": [],
   "source": [
    "#df_original.to_csv(\"df_original.csv\", index=False)\n",
    "df_train.to_csv(\"auto_model_reconstructions/train_auto_0.csv\", index=False)\n",
    "df_test.to_csv(\"auto_model_reconstructions/test_auto_0.csv\", index=False)"
   ]
  },
  {
   "cell_type": "code",
   "execution_count": null,
   "metadata": {},
   "outputs": [],
   "source": []
  }
 ],
 "metadata": {
  "kernelspec": {
   "display_name": "Python 3",
   "language": "python",
   "name": "python3"
  },
  "language_info": {
   "codemirror_mode": {
    "name": "ipython",
    "version": 3
   },
   "file_extension": ".py",
   "mimetype": "text/x-python",
   "name": "python",
   "nbconvert_exporter": "python",
   "pygments_lexer": "ipython3",
   "version": "3.6.7"
  }
 },
 "nbformat": 4,
 "nbformat_minor": 2
}
