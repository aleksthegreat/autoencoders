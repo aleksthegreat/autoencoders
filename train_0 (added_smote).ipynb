{
 "cells": [
  {
   "cell_type": "code",
   "execution_count": 1,
   "metadata": {
    "scrolled": true
   },
   "outputs": [
    {
     "name": "stderr",
     "output_type": "stream",
     "text": [
      "Using TensorFlow backend.\n"
     ]
    },
    {
     "name": "stdout",
     "output_type": "stream",
     "text": [
      "WARNING:tensorflow:From /home/wopr/.local/lib/python3.6/site-packages/tensorflow/python/ops/distributions/distribution.py:265: ReparameterizationType.__init__ (from tensorflow.python.ops.distributions.distribution) is deprecated and will be removed after 2019-01-01.\n",
      "Instructions for updating:\n",
      "The TensorFlow Distributions library has moved to TensorFlow Probability (https://github.com/tensorflow/probability). You should update all references to use `tfp.distributions` instead of `tf.distributions`.\n",
      "WARNING:tensorflow:From /home/wopr/.local/lib/python3.6/site-packages/tensorflow/python/ops/distributions/bernoulli.py:169: RegisterKL.__init__ (from tensorflow.python.ops.distributions.kullback_leibler) is deprecated and will be removed after 2019-01-01.\n",
      "Instructions for updating:\n",
      "The TensorFlow Distributions library has moved to TensorFlow Probability (https://github.com/tensorflow/probability). You should update all references to use `tfp.distributions` instead of `tf.distributions`.\n"
     ]
    }
   ],
   "source": [
    "from __future__ import print_function\n",
    "import os\n",
    "import numpy as np\n",
    "import pandas as pd\n",
    "import matplotlib.pyplot as plt\n",
    "import matplotlib.gridspec as gridspec\n",
    "\n",
    "import seaborn as sns\n",
    "import gc\n",
    "\n",
    "import lightgbm as lgb\n",
    "from sklearn.model_selection import StratifiedKFold, RandomizedSearchCV, train_test_split\n",
    "from sklearn.metrics import mean_squared_error, roc_auc_score\n",
    "\n",
    "import keras\n",
    "from keras import regularizers\n",
    "from keras.layers import Input,Dropout,BatchNormalization,Activation,Add,PReLU, LSTM\n",
    "from sklearn.preprocessing import MinMaxScaler, StandardScaler\n",
    "from keras.models import Sequential, Model\n",
    "from keras.layers import Dense, Dropout, Activation, Reshape, Flatten, Conv2D, MaxPooling2D\n",
    "from keras.optimizers import SGD\n",
    "from keras import backend as K\n",
    "from keras.callbacks import EarlyStopping, ModelCheckpoint, TensorBoard\n",
    "import tensorflow as tf\n",
    "import horovod.keras as hvd"
   ]
  },
  {
   "cell_type": "code",
   "execution_count": 2,
   "metadata": {},
   "outputs": [],
   "source": [
    "# reduce memory\n",
    "def reduce_mem_usage(df, verbose=True):\n",
    "    numerics = ['int16', 'int32', 'int64', 'float16', 'float32', 'float64']\n",
    "    start_mem = df.memory_usage().sum() / 1024**2\n",
    "    for col in df.columns:\n",
    "        col_type = df[col].dtypes\n",
    "        if col_type in numerics:\n",
    "            c_min = df[col].min()\n",
    "            c_max = df[col].max()\n",
    "            if str(col_type)[:3] == 'int':\n",
    "                if c_min > np.iinfo(np.int8).min and c_max < np.iinfo(np.int8).max:\n",
    "                    df[col] = df[col].astype(np.int8)\n",
    "                elif c_min > np.iinfo(np.int16).min and c_max < np.iinfo(np.int16).max:\n",
    "                    df[col] = df[col].astype(np.int16)\n",
    "                elif c_min > np.iinfo(np.int32).min and c_max < np.iinfo(np.int32).max:\n",
    "                    df[col] = df[col].astype(np.int32)\n",
    "                elif c_min > np.iinfo(np.int64).min and c_max < np.iinfo(np.int64).max:\n",
    "                    df[col] = df[col].astype(np.int64)\n",
    "            else:\n",
    "                if c_min > np.finfo(np.float16).min and c_max < np.finfo(np.float16).max:\n",
    "                    df[col] = df[col].astype(np.float16)\n",
    "                elif c_min > np.finfo(np.float32).min and c_max < np.finfo(np.float32).max:\n",
    "                    df[col] = df[col].astype(np.float32)\n",
    "                else:\n",
    "                    df[col] = df[col].astype(np.float64)\n",
    "\n",
    "    end_mem = df.memory_usage().sum() / 1024**2\n",
    "    print('Memory usage after optimization is: {:.2f} MB'.format(end_mem))\n",
    "    print('Decreased by {:.1f}%'.format(100 * (start_mem - end_mem) / start_mem))\n",
    "\n",
    "    return df"
   ]
  },
  {
   "cell_type": "code",
   "execution_count": 3,
   "metadata": {},
   "outputs": [
    {
     "name": "stdout",
     "output_type": "stream",
     "text": [
      "Memory usage after optimization is: 78.01 MB\n",
      "Decreased by 74.7%\n",
      "Memory usage after optimization is: 77.82 MB\n",
      "Decreased by 74.6%\n"
     ]
    }
   ],
   "source": [
    "train = reduce_mem_usage(pd.read_csv('../input/train.csv'))\n",
    "test = reduce_mem_usage(pd.read_csv('../input/test.csv'))"
   ]
  },
  {
   "cell_type": "code",
   "execution_count": 4,
   "metadata": {},
   "outputs": [],
   "source": [
    "features = [f for f in train if f not in ['ID_code','target']]"
   ]
  },
  {
   "cell_type": "code",
   "execution_count": 5,
   "metadata": {},
   "outputs": [],
   "source": [
    "df_original = pd.concat([train, test],axis=0,sort=False)\n",
    "df = df_original[features]\n",
    "target = df_original['target'].values"
   ]
  },
  {
   "cell_type": "code",
   "execution_count": 6,
   "metadata": {},
   "outputs": [],
   "source": [
    "#for feature in features:\n",
    "#    df['mean_'+feature] = (train[feature].mean()-train[feature])\n",
    "#    df['z_'+feature] = (train[feature] - train[feature].mean())/train[feature].std(ddof=0)\n",
    "#    df['sq_'+feature] = (train[feature])**2\n",
    "#    df['sqrt_'+feature] = np.abs(train[feature])**(1/2)"
   ]
  },
  {
   "cell_type": "code",
   "execution_count": 7,
   "metadata": {},
   "outputs": [
    {
     "name": "stderr",
     "output_type": "stream",
     "text": [
      "/home/wopr/.local/lib/python3.6/site-packages/pandas/core/indexing.py:630: SettingWithCopyWarning: \n",
      "A value is trying to be set on a copy of a slice from a DataFrame.\n",
      "Try using .loc[row_indexer,col_indexer] = value instead\n",
      "\n",
      "See the caveats in the documentation: http://pandas.pydata.org/pandas-docs/stable/indexing.html#indexing-view-versus-copy\n",
      "  self.obj[item_labels[indexer[info_axis]]] = value\n"
     ]
    }
   ],
   "source": [
    "for df in [df]:\n",
    "#####Handling Missing Values#####     \n",
    "    for i in range(len(df.columns)):\n",
    "        df.iloc[:,i] = (df.iloc[:,i]).fillna(-1)"
   ]
  },
  {
   "cell_type": "code",
   "execution_count": 8,
   "metadata": {},
   "outputs": [
    {
     "data": {
      "text/plain": [
       "False"
      ]
     },
     "execution_count": 8,
     "metadata": {},
     "output_type": "execute_result"
    }
   ],
   "source": [
    "df.isnull().values.any()"
   ]
  },
  {
   "cell_type": "code",
   "execution_count": 9,
   "metadata": {},
   "outputs": [
    {
     "name": "stderr",
     "output_type": "stream",
     "text": [
      "/home/wopr/.local/lib/python3.6/site-packages/ipykernel_launcher.py:10: SettingWithCopyWarning: \n",
      "A value is trying to be set on a copy of a slice from a DataFrame.\n",
      "Try using .loc[row_indexer,col_indexer] = value instead\n",
      "\n",
      "See the caveats in the documentation: http://pandas.pydata.org/pandas-docs/stable/indexing.html#indexing-view-versus-copy\n",
      "  # Remove the CWD from sys.path while we load stuff.\n"
     ]
    }
   ],
   "source": [
    "from scipy.special import erfinv\n",
    "\n",
    "trafo_columns = [c for c in df.columns if len(df[c].unique()) != 2]\n",
    "for col in trafo_columns:\n",
    "    values = sorted(set(df[col]))\n",
    "    # Because erfinv(1) is inf, we shrink the range into (-0.9, 0.9)\n",
    "    f = pd.Series(np.linspace(-0.9, 0.9, len(values)), index=values)\n",
    "    f = np.sqrt(2) * erfinv(f)\n",
    "    f -= f.mean()\n",
    "    df[col] = df[col].map(f)"
   ]
  },
  {
   "cell_type": "code",
   "execution_count": 10,
   "metadata": {},
   "outputs": [
    {
     "data": {
      "text/plain": [
       "PCA(copy=True, iterated_power='auto', n_components=100, random_state=None,\n",
       "  svd_solver='auto', tol=0.0, whiten=False)"
      ]
     },
     "execution_count": 10,
     "metadata": {},
     "output_type": "execute_result"
    }
   ],
   "source": [
    "from sklearn.decomposition import PCA\n",
    "pca = PCA(n_components=100)\n",
    "pca.fit(df[trafo_columns])"
   ]
  },
  {
   "cell_type": "code",
   "execution_count": 11,
   "metadata": {},
   "outputs": [
    {
     "name": "stderr",
     "output_type": "stream",
     "text": [
      "/home/wopr/.local/lib/python3.6/site-packages/ipykernel_launcher.py:1: SettingWithCopyWarning: \n",
      "A value is trying to be set on a copy of a slice from a DataFrame.\n",
      "Try using .loc[row_indexer,col_indexer] = value instead\n",
      "\n",
      "See the caveats in the documentation: http://pandas.pydata.org/pandas-docs/stable/indexing.html#indexing-view-versus-copy\n",
      "  \"\"\"Entry point for launching an IPython kernel.\n"
     ]
    },
    {
     "data": {
      "text/html": [
       "<div>\n",
       "<style scoped>\n",
       "    .dataframe tbody tr th:only-of-type {\n",
       "        vertical-align: middle;\n",
       "    }\n",
       "\n",
       "    .dataframe tbody tr th {\n",
       "        vertical-align: top;\n",
       "    }\n",
       "\n",
       "    .dataframe thead th {\n",
       "        text-align: right;\n",
       "    }\n",
       "</style>\n",
       "<table border=\"1\" class=\"dataframe\">\n",
       "  <thead>\n",
       "    <tr style=\"text-align: right;\">\n",
       "      <th></th>\n",
       "      <th>var_0</th>\n",
       "      <th>var_1</th>\n",
       "      <th>var_2</th>\n",
       "      <th>var_3</th>\n",
       "      <th>var_4</th>\n",
       "      <th>var_5</th>\n",
       "      <th>var_6</th>\n",
       "      <th>var_7</th>\n",
       "      <th>var_8</th>\n",
       "      <th>var_9</th>\n",
       "      <th>...</th>\n",
       "      <th>var_191</th>\n",
       "      <th>var_192</th>\n",
       "      <th>var_193</th>\n",
       "      <th>var_194</th>\n",
       "      <th>var_195</th>\n",
       "      <th>var_196</th>\n",
       "      <th>var_197</th>\n",
       "      <th>var_198</th>\n",
       "      <th>var_199</th>\n",
       "      <th>target</th>\n",
       "    </tr>\n",
       "  </thead>\n",
       "  <tbody>\n",
       "    <tr>\n",
       "      <th>0</th>\n",
       "      <td>0.276234</td>\n",
       "      <td>-1.248264</td>\n",
       "      <td>0.492790</td>\n",
       "      <td>0.178309</td>\n",
       "      <td>0.301589</td>\n",
       "      <td>-1.103686</td>\n",
       "      <td>0.089022</td>\n",
       "      <td>0.470353</td>\n",
       "      <td>-1.241425</td>\n",
       "      <td>-0.489018</td>\n",
       "      <td>...</td>\n",
       "      <td>0.264992</td>\n",
       "      <td>1.095784</td>\n",
       "      <td>0.690561</td>\n",
       "      <td>0.287438</td>\n",
       "      <td>-1.189143</td>\n",
       "      <td>1.255593</td>\n",
       "      <td>0.127525</td>\n",
       "      <td>-0.142190</td>\n",
       "      <td>-0.439702</td>\n",
       "      <td>0.0</td>\n",
       "    </tr>\n",
       "    <tr>\n",
       "      <th>1</th>\n",
       "      <td>0.544823</td>\n",
       "      <td>-1.053062</td>\n",
       "      <td>0.787904</td>\n",
       "      <td>0.232411</td>\n",
       "      <td>0.491863</td>\n",
       "      <td>1.179872</td>\n",
       "      <td>0.271400</td>\n",
       "      <td>0.289916</td>\n",
       "      <td>1.054877</td>\n",
       "      <td>0.565805</td>\n",
       "      <td>...</td>\n",
       "      <td>0.720530</td>\n",
       "      <td>1.007539</td>\n",
       "      <td>1.377199</td>\n",
       "      <td>-0.075167</td>\n",
       "      <td>1.229373</td>\n",
       "      <td>1.270814</td>\n",
       "      <td>0.197394</td>\n",
       "      <td>0.609579</td>\n",
       "      <td>0.682261</td>\n",
       "      <td>0.0</td>\n",
       "    </tr>\n",
       "    <tr>\n",
       "      <th>2</th>\n",
       "      <td>0.245349</td>\n",
       "      <td>-0.890334</td>\n",
       "      <td>0.516770</td>\n",
       "      <td>0.739213</td>\n",
       "      <td>0.126346</td>\n",
       "      <td>-1.097304</td>\n",
       "      <td>0.821339</td>\n",
       "      <td>0.021898</td>\n",
       "      <td>-1.241094</td>\n",
       "      <td>-0.389013</td>\n",
       "      <td>...</td>\n",
       "      <td>0.892009</td>\n",
       "      <td>0.833005</td>\n",
       "      <td>0.689442</td>\n",
       "      <td>0.625478</td>\n",
       "      <td>1.481717</td>\n",
       "      <td>-1.262358</td>\n",
       "      <td>0.036855</td>\n",
       "      <td>0.174366</td>\n",
       "      <td>0.313988</td>\n",
       "      <td>0.0</td>\n",
       "    </tr>\n",
       "    <tr>\n",
       "      <th>3</th>\n",
       "      <td>0.496957</td>\n",
       "      <td>-0.824797</td>\n",
       "      <td>0.111059</td>\n",
       "      <td>0.583860</td>\n",
       "      <td>0.542499</td>\n",
       "      <td>-0.621498</td>\n",
       "      <td>0.354577</td>\n",
       "      <td>0.070753</td>\n",
       "      <td>-1.325206</td>\n",
       "      <td>0.606487</td>\n",
       "      <td>...</td>\n",
       "      <td>0.355110</td>\n",
       "      <td>0.545014</td>\n",
       "      <td>0.639970</td>\n",
       "      <td>0.805761</td>\n",
       "      <td>-0.897988</td>\n",
       "      <td>-0.942853</td>\n",
       "      <td>0.707354</td>\n",
       "      <td>0.571748</td>\n",
       "      <td>-0.994165</td>\n",
       "      <td>0.0</td>\n",
       "    </tr>\n",
       "    <tr>\n",
       "      <th>4</th>\n",
       "      <td>0.368229</td>\n",
       "      <td>-0.703462</td>\n",
       "      <td>0.632252</td>\n",
       "      <td>0.469332</td>\n",
       "      <td>0.472988</td>\n",
       "      <td>0.818812</td>\n",
       "      <td>0.391812</td>\n",
       "      <td>0.527034</td>\n",
       "      <td>1.381489</td>\n",
       "      <td>0.387166</td>\n",
       "      <td>...</td>\n",
       "      <td>0.871307</td>\n",
       "      <td>-0.407311</td>\n",
       "      <td>1.296442</td>\n",
       "      <td>-0.517185</td>\n",
       "      <td>-0.965731</td>\n",
       "      <td>0.975661</td>\n",
       "      <td>0.424890</td>\n",
       "      <td>0.574743</td>\n",
       "      <td>-0.988783</td>\n",
       "      <td>0.0</td>\n",
       "    </tr>\n",
       "  </tbody>\n",
       "</table>\n",
       "<p>5 rows × 201 columns</p>\n",
       "</div>"
      ],
      "text/plain": [
       "      var_0     var_1     var_2     var_3     var_4     var_5     var_6  \\\n",
       "0  0.276234 -1.248264  0.492790  0.178309  0.301589 -1.103686  0.089022   \n",
       "1  0.544823 -1.053062  0.787904  0.232411  0.491863  1.179872  0.271400   \n",
       "2  0.245349 -0.890334  0.516770  0.739213  0.126346 -1.097304  0.821339   \n",
       "3  0.496957 -0.824797  0.111059  0.583860  0.542499 -0.621498  0.354577   \n",
       "4  0.368229 -0.703462  0.632252  0.469332  0.472988  0.818812  0.391812   \n",
       "\n",
       "      var_7     var_8     var_9   ...     var_191   var_192   var_193  \\\n",
       "0  0.470353 -1.241425 -0.489018   ...    0.264992  1.095784  0.690561   \n",
       "1  0.289916  1.054877  0.565805   ...    0.720530  1.007539  1.377199   \n",
       "2  0.021898 -1.241094 -0.389013   ...    0.892009  0.833005  0.689442   \n",
       "3  0.070753 -1.325206  0.606487   ...    0.355110  0.545014  0.639970   \n",
       "4  0.527034  1.381489  0.387166   ...    0.871307 -0.407311  1.296442   \n",
       "\n",
       "    var_194   var_195   var_196   var_197   var_198   var_199  target  \n",
       "0  0.287438 -1.189143  1.255593  0.127525 -0.142190 -0.439702     0.0  \n",
       "1 -0.075167  1.229373  1.270814  0.197394  0.609579  0.682261     0.0  \n",
       "2  0.625478  1.481717 -1.262358  0.036855  0.174366  0.313988     0.0  \n",
       "3  0.805761 -0.897988 -0.942853  0.707354  0.571748 -0.994165     0.0  \n",
       "4 -0.517185 -0.965731  0.975661  0.424890  0.574743 -0.988783     0.0  \n",
       "\n",
       "[5 rows x 201 columns]"
      ]
     },
     "execution_count": 11,
     "metadata": {},
     "output_type": "execute_result"
    }
   ],
   "source": [
    "df['target'] = df_original['target']\n",
    "df.head(5)"
   ]
  },
  {
   "cell_type": "code",
   "execution_count": 12,
   "metadata": {},
   "outputs": [
    {
     "name": "stderr",
     "output_type": "stream",
     "text": [
      "/home/wopr/.local/lib/python3.6/site-packages/ipykernel_launcher.py:21: SettingWithCopyWarning: \n",
      "A value is trying to be set on a copy of a slice from a DataFrame.\n",
      "Try using .loc[row_indexer,col_indexer] = value instead\n",
      "\n",
      "See the caveats in the documentation: http://pandas.pydata.org/pandas-docs/stable/indexing.html#indexing-view-versus-copy\n"
     ]
    },
    {
     "name": "stdout",
     "output_type": "stream",
     "text": [
      "Memory usage after optimization is: 156.40 MB\n",
      "Decreased by 74.6%\n"
     ]
    }
   ],
   "source": [
    "df = reduce_mem_usage(df)"
   ]
  },
  {
   "cell_type": "code",
   "execution_count": 13,
   "metadata": {},
   "outputs": [
    {
     "name": "stderr",
     "output_type": "stream",
     "text": [
      "/home/wopr/.local/lib/python3.6/site-packages/numpy/core/_methods.py:36: RuntimeWarning: overflow encountered in reduce\n",
      "  return umr_sum(a, axis, dtype, out, keepdims, initial)\n",
      "/home/wopr/.local/lib/python3.6/site-packages/numpy/core/_methods.py:36: RuntimeWarning: overflow encountered in reduce\n",
      "  return umr_sum(a, axis, dtype, out, keepdims, initial)\n"
     ]
    }
   ],
   "source": [
    "train = df[df['target'].notnull()]\n",
    "target = train['target']\n",
    "train = pd.DataFrame(pca.transform(train[trafo_columns]))\n",
    "test = df[df['target'].isnull()]\n",
    "test = pd.DataFrame(pca.transform(test[trafo_columns]))\n",
    "train.shape\n",
    "\n",
    "trafo_columns = [c for c in train.columns if len(train[c].unique()) != 2]\n",
    "train['target'] = target.values"
   ]
  },
  {
   "cell_type": "code",
   "execution_count": 15,
   "metadata": {
    "scrolled": true
   },
   "outputs": [
    {
     "name": "stdout",
     "output_type": "stream",
     "text": [
      "fold 0\n",
      "Before OverSampling, counts of label 0.0: 119934\n",
      "Before OverSampling, counts of label 1.0: 13398\n",
      "After OverSampling, the shape of train_X: (239868, 100)\n",
      "After OverSampling, the shape of train_y: (239868,) \n",
      "\n",
      "After OverSampling, counts of label 0.0: 119934\n",
      "After OverSampling, counts of label 1.0: 119934\n"
     ]
    },
    {
     "name": "stderr",
     "output_type": "stream",
     "text": [
      "/home/wopr/.local/lib/python3.6/site-packages/numpy/core/_methods.py:36: RuntimeWarning: overflow encountered in reduce\n",
      "  return umr_sum(a, axis, dtype, out, keepdims, initial)\n"
     ]
    },
    {
     "name": "stdout",
     "output_type": "stream",
     "text": [
      "Epoch 1/2\n",
      "999/999 [==============================] - 59s 59ms/step - loss: 800.0950 - acc: 0.0062 - val_loss: 253.7975 - val_acc: 0.0097\n",
      "Epoch 2/2\n",
      "999/999 [==============================] - 61s 61ms/step - loss: 797.1954 - acc: 0.0060 - val_loss: 253.7095 - val_acc: 0.0092\n",
      "66668/66668 [==============================] - 7s 104us/step\n",
      "200000/200000 [==============================] - 21s 105us/step\n",
      "200000/200000 [==============================] - 21s 103us/step\n",
      "fold 1\n",
      "Before OverSampling, counts of label 0.0: 119935\n",
      "Before OverSampling, counts of label 1.0: 13399\n",
      "After OverSampling, the shape of train_X: (239870, 100)\n",
      "After OverSampling, the shape of train_y: (239870,) \n",
      "\n",
      "After OverSampling, counts of label 0.0: 119935\n",
      "After OverSampling, counts of label 1.0: 119935\n"
     ]
    },
    {
     "name": "stderr",
     "output_type": "stream",
     "text": [
      "/home/wopr/.local/lib/python3.6/site-packages/numpy/core/_methods.py:36: RuntimeWarning: overflow encountered in reduce\n",
      "  return umr_sum(a, axis, dtype, out, keepdims, initial)\n"
     ]
    },
    {
     "name": "stdout",
     "output_type": "stream",
     "text": [
      "Epoch 1/2\n",
      "999/999 [==============================] - 62s 62ms/step - loss: 800.1234 - acc: 0.0059 - val_loss: 253.7166 - val_acc: 0.0112\n",
      "Epoch 2/2\n",
      "999/999 [==============================] - 64s 64ms/step - loss: 797.1945 - acc: 0.0056 - val_loss: 253.6390 - val_acc: 0.0116\n",
      "66666/66666 [==============================] - 7s 104us/step\n",
      "200000/200000 [==============================] - 21s 105us/step\n",
      "200000/200000 [==============================] - 21s 104us/step\n",
      "fold 2\n",
      "Before OverSampling, counts of label 0.0: 119935\n",
      "Before OverSampling, counts of label 1.0: 13399\n",
      "After OverSampling, the shape of train_X: (239870, 100)\n",
      "After OverSampling, the shape of train_y: (239870,) \n",
      "\n",
      "After OverSampling, counts of label 0.0: 119935\n",
      "After OverSampling, counts of label 1.0: 119935\n"
     ]
    },
    {
     "name": "stderr",
     "output_type": "stream",
     "text": [
      "/home/wopr/.local/lib/python3.6/site-packages/numpy/core/_methods.py:36: RuntimeWarning: overflow encountered in reduce\n",
      "  return umr_sum(a, axis, dtype, out, keepdims, initial)\n"
     ]
    },
    {
     "name": "stdout",
     "output_type": "stream",
     "text": [
      "Epoch 1/2\n",
      "999/999 [==============================] - 62s 63ms/step - loss: 800.0490 - acc: 9.7181e-04 - val_loss: 253.7501 - val_acc: 0.0117\n",
      "Epoch 2/2\n",
      "999/999 [==============================] - 64s 64ms/step - loss: 797.2724 - acc: 0.0010 - val_loss: 253.6778 - val_acc: 0.0120\n",
      "66666/66666 [==============================] - 7s 107us/step\n",
      "200000/200000 [==============================] - 21s 105us/step\n",
      "200000/200000 [==============================] - 21s 103us/step\n"
     ]
    },
    {
     "data": {
      "text/html": [
       "<div>\n",
       "<style scoped>\n",
       "    .dataframe tbody tr th:only-of-type {\n",
       "        vertical-align: middle;\n",
       "    }\n",
       "\n",
       "    .dataframe tbody tr th {\n",
       "        vertical-align: top;\n",
       "    }\n",
       "\n",
       "    .dataframe thead th {\n",
       "        text-align: right;\n",
       "    }\n",
       "</style>\n",
       "<table border=\"1\" class=\"dataframe\">\n",
       "  <thead>\n",
       "    <tr style=\"text-align: right;\">\n",
       "      <th></th>\n",
       "      <th>Reconstruction_error</th>\n",
       "      <th>True_class</th>\n",
       "    </tr>\n",
       "  </thead>\n",
       "  <tbody>\n",
       "    <tr>\n",
       "      <th>count</th>\n",
       "      <td>200000.000000</td>\n",
       "      <td>200000.0</td>\n",
       "    </tr>\n",
       "    <tr>\n",
       "      <th>mean</th>\n",
       "      <td>1.955704</td>\n",
       "      <td>0.0</td>\n",
       "    </tr>\n",
       "    <tr>\n",
       "      <th>std</th>\n",
       "      <td>0.230667</td>\n",
       "      <td>0.0</td>\n",
       "    </tr>\n",
       "    <tr>\n",
       "      <th>min</th>\n",
       "      <td>1.127419</td>\n",
       "      <td>0.0</td>\n",
       "    </tr>\n",
       "    <tr>\n",
       "      <th>25%</th>\n",
       "      <td>1.795946</td>\n",
       "      <td>0.0</td>\n",
       "    </tr>\n",
       "    <tr>\n",
       "      <th>50%</th>\n",
       "      <td>1.945383</td>\n",
       "      <td>0.0</td>\n",
       "    </tr>\n",
       "    <tr>\n",
       "      <th>75%</th>\n",
       "      <td>2.105156</td>\n",
       "      <td>0.0</td>\n",
       "    </tr>\n",
       "    <tr>\n",
       "      <th>max</th>\n",
       "      <td>3.225054</td>\n",
       "      <td>1.0</td>\n",
       "    </tr>\n",
       "  </tbody>\n",
       "</table>\n",
       "</div>"
      ],
      "text/plain": [
       "       Reconstruction_error  True_class\n",
       "count         200000.000000    200000.0\n",
       "mean               1.955704         0.0\n",
       "std                0.230667         0.0\n",
       "min                1.127419         0.0\n",
       "25%                1.795946         0.0\n",
       "50%                1.945383         0.0\n",
       "75%                2.105156         0.0\n",
       "max                3.225054         1.0"
      ]
     },
     "execution_count": 15,
     "metadata": {},
     "output_type": "execute_result"
    }
   ],
   "source": [
    "from keras.activations import elu\n",
    "from keras.layers import Input, Dense, Lambda\n",
    "from keras.models import Model\n",
    "from keras.objectives import binary_crossentropy\n",
    "from keras.callbacks import LearningRateScheduler\n",
    "from keras import backend as K\n",
    "from imblearn.keras import balanced_batch_generator\n",
    "from imblearn.under_sampling import NearMiss, RandomUnderSampler, CondensedNearestNeighbour, AllKNN\n",
    "from sklearn.model_selection import KFold\n",
    "from imblearn.over_sampling import RandomOverSampler\n",
    "from imblearn.over_sampling import SMOTE\n",
    "\n",
    "# Horovod: adjust learning rate based on number of GPUs.\n",
    "opt = keras.optimizers.SGD(lr=0.00001, decay=0.96, momentum=0.001, nesterov=True)\n",
    "# Horovod: add Horovod Distributed Optimizer.\n",
    "opt = hvd.DistributedOptimizer(opt)\n",
    "\n",
    "\n",
    "nb_folds = 3\n",
    "nb_epoch = 2\n",
    "batch_size = 240\n",
    "encoding_dim =1000\n",
    "hidden_dim = int(encoding_dim * 10) #i.e. 7\n",
    "sgd = SGD(lr=0.001, momentum=0.001, decay=0.96)\n",
    "folds = StratifiedKFold(n_splits=nb_folds, shuffle=True, random_state=420)\n",
    "#folds = KFold(n_splits = nb_folds, random_state = 338, shuffle = True)\n",
    "train_auto = np.zeros(train[trafo_columns].shape)\n",
    "test_auto = np.zeros(test[trafo_columns].shape)\n",
    "predictions = np.zeros(len(train))\n",
    "label_cols = [\"target\"]\n",
    "y_split = train[label_cols].values\n",
    "\n",
    "cp = ModelCheckpoint(filepath=\"autoencoder_0.h5\",\n",
    "                               save_best_only=True,\n",
    "                               verbose=0)\n",
    "\n",
    "tb = TensorBoard(log_dir='./logs',\n",
    "                histogram_freq=0,\n",
    "                write_graph=True,\n",
    "                write_images=True)\n",
    "\n",
    "es= EarlyStopping(monitor='val_loss',\n",
    "                  min_delta=0,\n",
    "                  patience=50,\n",
    "                  verbose=1, mode='auto')\n",
    "\n",
    "for fold_, (trn_idx, val_idx) in enumerate(folds.split(y_split[:,0], y_split[:,0])):\n",
    "    print(\"fold {}\".format(fold_))\n",
    "#for fold_, (trn_idx, val_idx) in enumerate(folds.split(train)):\n",
    "#    print(\"fold {}\".format(fold_))\n",
    "\n",
    "    trn_data, trn_y = train[trafo_columns].iloc[trn_idx], train['target'].iloc[trn_idx]\n",
    "    val_data, val_y = train[trafo_columns].iloc[val_idx], train['target'].iloc[val_idx]\n",
    "\n",
    "    \n",
    "    \n",
    "    classes=[]\n",
    "    for i in np.unique(trn_y):\n",
    "        classes.append(i)\n",
    "        print(\"Before OverSampling, counts of label \" + str(i) + \": {}\".format(sum(trn_y==i)))\n",
    "\n",
    "    sm=SMOTE(random_state=2)\n",
    "    trn_data, train_y = sm.fit_sample(trn_data, trn_y.ravel())\n",
    "\n",
    "    print('After OverSampling, the shape of train_X: {}'.format(trn_data.shape))\n",
    "    print('After OverSampling, the shape of train_y: {} \\n'.format(train_y.shape))\n",
    "\n",
    "    for eachClass in classes:\n",
    "        print(\"After OverSampling, counts of label \" + str(eachClass) + \": {}\".format(sum(train_y==eachClass)))\n",
    "\n",
    "    input_dim = trn_data.shape[1] #num of columns, 30\n",
    "    input_layer = Input(shape=(input_dim, ))\n",
    "    \n",
    "    # Q(z|X) -- encoder\n",
    "    h_q = Dense(encoding_dim, activation='relu')(input_layer)\n",
    "    mu = Dense(hidden_dim, activation='linear')(h_q)\n",
    "    log_sigma = Dense(hidden_dim, activation='linear')(h_q)\n",
    "    \n",
    "    def sample_z(args):\n",
    "        mu, log_sigma = args\n",
    "        batch = K.shape(mu)[0]\n",
    "        dim = K.int_shape(mu)[1]\n",
    "        eps = K.random_normal(shape=(batch, dim))\n",
    "        return mu + K.exp(0.5 * log_sigma) * eps\n",
    "\n",
    "    # Sample z ~ Q(z|X)\n",
    "    z = Lambda(sample_z)([mu, log_sigma])\n",
    "    \n",
    "    # P(X|z) -- decoder\n",
    "    decoder_hidden = Dense(hidden_dim, activation='relu')\n",
    "    decoder_out = Dense(input_dim, activation='softmax')\n",
    "    h_p = decoder_hidden(z)\n",
    "    outputs = decoder_out(h_p)\n",
    "    \n",
    "    # Overall VAE model, for reconstruction and training\n",
    "    vae = Model(input_layer, outputs)\n",
    "    \n",
    "    # Encoder model, to encode input into latent variable\n",
    "    # We use the mean as the output as it is the center point, the representative of the gaussian\n",
    "    encoder = Model(input_layer, mu)\n",
    "\n",
    "    # Generator model, generate new data given latent variable z\n",
    "    d_in = Input(shape=(hidden_dim,))\n",
    "    d_h = decoder_hidden(d_in)\n",
    "    d_out = decoder_out(d_h)\n",
    "    decoder = Model(d_in, d_out)\n",
    "    \n",
    "    def vae_loss(y_true, y_pred):\n",
    "        \"\"\" Calculate loss = reconstruction loss + KL loss for each data in minibatch \"\"\"\n",
    "        # E[log P(X|z)]\n",
    "        recon = K.sum(K.binary_crossentropy(y_pred, y_true), axis=1)\n",
    "        # D_KL(Q(z|X) || P(z|X)); calculate in closed form as both dist. are Gaussian\n",
    "        kl = 0.5 * K.sum(K.exp(log_sigma) + K.square(mu) - 1. - log_sigma, axis=1)\n",
    "        return recon + kl\n",
    "    \n",
    "    vae.compile(optimizer='sgd', loss=vae_loss, metrics=['acc'])\n",
    "    \n",
    "    def add_noise(series, noise_level):\n",
    "        return series * (1 + noise_level * np.random.randn(series.shape[1]))\n",
    "    \n",
    "    trn_data = add_noise(trn_data, 0.05)\n",
    "#    val_data = add_noise(val_data, 0.07)\n",
    "    \n",
    "\n",
    "    training_generator, steps_per_epoch = balanced_batch_generator(trn_data, train_y, sampler=RandomOverSampler(),\n",
    "                                                batch_size=batch_size, random_state=42)\n",
    "\n",
    "    callback_history = vae.fit_generator(training_generator,epochs=nb_epoch,\n",
    "                       validation_data=[val_data, val_data], \n",
    "                       steps_per_epoch=steps_per_epoch, verbose=1,\n",
    "                       callbacks=[cp, tb, es])\n",
    "\n",
    "    train_auto[val_idx] += vae.predict(train.iloc[val_idx][trafo_columns], verbose=1)\n",
    "    test_auto += vae.predict(test[trafo_columns], verbose=1)\n",
    "\n",
    "    mse = vae.predict(train[trafo_columns] / folds.n_splits, verbose=1)\n",
    "    predictions += np.mean(np.power(train[trafo_columns] - mse, 2), axis=1)\n",
    "\n",
    "train_auto = pd.DataFrame(train_auto / folds.n_splits)\n",
    "test_auto = pd.DataFrame(test_auto / folds.n_splits)\n",
    "error_df = pd.DataFrame({'Reconstruction_error': predictions,\n",
    "                        'True_class': train['target']})\n",
    "error_df.describe()"
   ]
  },
  {
   "cell_type": "code",
   "execution_count": 17,
   "metadata": {},
   "outputs": [
    {
     "data": {
      "image/png": "[encoded data removed]",
      "text/plain": [
       "<Figure size 864x864 with 2 Axes>"
      ]
     },
     "metadata": {
      "needs_background": "light"
     },
     "output_type": "display_data"
    }
   ],
   "source": [
    "####Edit thiS!!!!!####\n",
    "from sklearn.metrics import confusion_matrix\n",
    "\n",
    "LABELS = [\"Normal\",\"outlier\"]\n",
    "threshold_fixed = 2.805156\n",
    "pred_y = [1 if e > threshold_fixed else 0 for e in error_df.Reconstruction_error.values]\n",
    "conf_matrix = confusion_matrix(train['target'], pred_y)\n",
    "\n",
    "plt.figure(figsize=(12, 12))\n",
    "sns.heatmap(conf_matrix, xticklabels=LABELS, yticklabels=LABELS, annot=True, fmt=\"d\");\n",
    "plt.title(\"Confusion matrix\")\n",
    "plt.ylabel('True class')\n",
    "plt.xlabel('Predicted class')\n",
    "plt.show()"
   ]
  },
  {
   "cell_type": "code",
   "execution_count": null,
   "metadata": {},
   "outputs": [],
   "source": [
    "train_id = df_original[df_original['target'].notnull()]\n",
    "test_id = df_original[df_original['target'].isnull()]\n",
    "\n",
    "train_auto['target'] = target\n",
    "train_auto['id'] = train_id['ID_code']\n",
    "test_auto['id'] = test_id['ID_code']"
   ]
  },
  {
   "cell_type": "code",
   "execution_count": null,
   "metadata": {},
   "outputs": [],
   "source": [
    "train_auto.head(5)"
   ]
  },
  {
   "cell_type": "code",
   "execution_count": null,
   "metadata": {},
   "outputs": [],
   "source": [
    "%whos DataFrame"
   ]
  },
  {
   "cell_type": "code",
   "execution_count": null,
   "metadata": {},
   "outputs": [],
   "source": [
    "lst = [trn_data, val_data, df_original, train]\n",
    "del trn_data, val_data, df_original, train\n",
    "del lst     # memory is released"
   ]
  },
  {
   "cell_type": "code",
   "execution_count": null,
   "metadata": {},
   "outputs": [],
   "source": [
    "#df_original['auto_mse_lvl_0'] = error_df.Reconstruction_error.values\n",
    "#bcvdf_original['classlvl_0'] = [1 if e > threshold_fixed else 0 for e in df_original.auto_mse_lvl_0.values]\n",
    "#df_original.head(5)bcv"
   ]
  },
  {
   "cell_type": "code",
   "execution_count": null,
   "metadata": {},
   "outputs": [],
   "source": [
    "#df_original.to_csv(\"df_original.csv\", index=False)\n",
    "train_auto.to_csv(\"auto_model_reconstructions/train_auto_0.csv\", index=False)\n",
    "test_auto.to_csv(\"auto_model_reconstructions/test_auto_0.csv\", index=False)"
   ]
  },
  {
   "cell_type": "code",
   "execution_count": null,
   "metadata": {},
   "outputs": [],
   "source": []
  }
 ],
 "metadata": {
  "kernelspec": {
   "display_name": "Python 3",
   "language": "python",
   "name": "python3"
  },
  "language_info": {
   "codemirror_mode": {
    "name": "ipython",
    "version": 3
   },
   "file_extension": ".py",
   "mimetype": "text/x-python",
   "name": "python",
   "nbconvert_exporter": "python",
   "pygments_lexer": "ipython3",
   "version": "3.6.7"
  }
 },
 "nbformat": 4,
 "nbformat_minor": 2
}
